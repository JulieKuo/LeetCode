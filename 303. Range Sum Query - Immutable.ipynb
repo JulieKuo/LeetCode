{
 "cells": [
  {
   "cell_type": "markdown",
   "metadata": {},
   "source": [
    "## 303. Range Sum Query - Immutable"
   ]
  },
  {
   "cell_type": "markdown",
   "metadata": {},
   "source": [
    "__init__  \n",
    "* 時間複雜度: O( $n$ )\n",
    "* 空間複雜度: O( $n$ )\n",
    "  \n",
    "sumRange  \n",
    "* 時間複雜度: O( $1$ )\n",
    "* 空間複雜度: 不需要"
   ]
  },
  {
   "cell_type": "code",
   "execution_count": 1,
   "metadata": {},
   "outputs": [],
   "source": [
    "from typing import List\n",
    "\n",
    "class NumArray:\n",
    "\n",
    "    def __init__(self, nums: List[int]):\n",
    "        # calculate cumulative sums first, time: O(n), space: O(n)\n",
    "        self.prefix_sum  = [0]\n",
    "        for num in nums:\n",
    "            self.prefix_sum .append(self.prefix_sum [-1] + num)\n",
    "        print(self.prefix_sum)\n",
    "\n",
    "    def sumRange(self, left: int, right: int) -> int:\n",
    "        # use prefix sum to calculate the sum of a range, time: O(1), space: X\n",
    "        return self.prefix_sum[right+1] - self.prefix_sum[left]\n",
    "\n",
    "\n",
    "# Your NumArray object will be instantiated and called as such:\n",
    "# obj = NumArray(nums)\n",
    "# param_1 = obj.sumRange(left,right)"
   ]
  },
  {
   "cell_type": "code",
   "execution_count": 2,
   "metadata": {},
   "outputs": [
    {
     "name": "stdout",
     "output_type": "stream",
     "text": [
      "[0, -2, -2, 1, -4, -2, -3]\n"
     ]
    },
    {
     "data": {
      "text/plain": [
       "1"
      ]
     },
     "execution_count": 2,
     "metadata": {},
     "output_type": "execute_result"
    }
   ],
   "source": [
    "nums = [-2,0,3,-5,2,-1]\n",
    "left = 0\n",
    "right = 2\n",
    "\n",
    "obj = NumArray(nums)\n",
    "param_1 = obj.sumRange(left,right)\n",
    "param_1"
   ]
  }
 ],
 "metadata": {
  "kernelspec": {
   "display_name": ".venv",
   "language": "python",
   "name": "python3"
  },
  "language_info": {
   "codemirror_mode": {
    "name": "ipython",
    "version": 3
   },
   "file_extension": ".py",
   "mimetype": "text/x-python",
   "name": "python",
   "nbconvert_exporter": "python",
   "pygments_lexer": "ipython3",
   "version": "3.11.2"
  },
  "orig_nbformat": 4
 },
 "nbformat": 4,
 "nbformat_minor": 2
}
