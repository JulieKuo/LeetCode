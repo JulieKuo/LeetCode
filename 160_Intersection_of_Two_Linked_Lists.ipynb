{
 "cells": [
  {
   "cell_type": "markdown",
   "metadata": {},
   "source": [
    "### 160. Intersection of Two Linked Lists"
   ]
  },
  {
   "cell_type": "code",
   "execution_count": null,
   "metadata": {},
   "outputs": [],
   "source": [
    "# Definition for singly-linked list.\n",
    "# class ListNode:\n",
    "#     def __init__(self, x):\n",
    "#         self.val = x\n",
    "#         self.next = None\n",
    "\n",
    "class Solution:\n",
    "    def getIntersectionNode(self, headA: ListNode, headB: ListNode) -> Optional[ListNode]:\n",
    "        p, q = headA, headB\n",
    "        \n",
    "        while p and q and p != q:\n",
    "            p = p.next\n",
    "            q = q.next\n",
    "            if p == q: #如果沒有intersect，走到某個時候p、q的下一個會同時None\n",
    "                return p\n",
    "            \n",
    "            if not p:\n",
    "                p = headB #可寫p = headA，但會超時，輪流遍歷可加快求解速度\n",
    "                \n",
    "            if not q:\n",
    "                q = headA\n",
    "                \n",
    "            # print(f\"p = {p}\")\n",
    "            # print(f\"q = {q}\\n\")\n",
    "            \n",
    "        return p\n",
    "            "
   ]
  },
  {
   "cell_type": "code",
   "execution_count": null,
   "metadata": {},
   "outputs": [],
   "source": [
    "# headA = ListNode{val: 4, next: ListNode{val: 1, next: ListNode{val: 8, next: ListNode{val: 4, next: ListNode{val: 5, next: None}}}}}\n",
    "# headB = ListNode{val: 5, next: ListNode{val: 6, next: ListNode{val: 1, next: ListNode{val: 8, next: ListNode{val: 4, next: ListNode{val: 5, next: None}}}}}}\n",
    "\n",
    "\n",
    "\n",
    "# p = ListNode{val: 1, next: ListNode{val: 8, next: ListNode{val: 4, next: ListNode{val: 5, next: None}}}}\n",
    "# q = ListNode{val: 6, next: ListNode{val: 1, next: ListNode{val: 8, next: ListNode{val: 4, next: ListNode{val: 5, next: None}}}}}\n",
    "\n",
    "# p = ListNode{val: 8, next: ListNode{val: 4, next: ListNode{val: 5, next: None}}}\n",
    "# q = ListNode{val: 1, next: ListNode{val: 8, next: ListNode{val: 4, next: ListNode{val: 5, next: None}}}}\n",
    "\n",
    "# p = ListNode{val: 4, next: ListNode{val: 5, next: None}}\n",
    "# q = ListNode{val: 8, next: ListNode{val: 4, next: ListNode{val: 5, next: None}}}\n",
    "\n",
    "# p = ListNode{val: 5, next: None}\n",
    "# q = ListNode{val: 4, next: ListNode{val: 5, next: None}}\n",
    "\n",
    "# p = ListNode{val: 5, next: ListNode{val: 6, next: ListNode{val: 1, next: ListNode{val: 8, next: ListNode{val: 4, next: ListNode{val: 5, next: None}}}}}}\n",
    "# q = ListNode{val: 5, next: None}\n",
    "\n",
    "# p = ListNode{val: 6, next: ListNode{val: 1, next: ListNode{val: 8, next: ListNode{val: 4, next: ListNode{val: 5, next: None}}}}}\n",
    "# q = ListNode{val: 4, next: ListNode{val: 1, next: ListNode{val: 8, next: ListNode{val: 4, next: ListNode{val: 5, next: None}}}}}\n",
    "\n",
    "# p = ListNode{val: 1, next: ListNode{val: 8, next: ListNode{val: 4, next: ListNode{val: 5, next: None}}}}\n",
    "# q = ListNode{val: 1, next: ListNode{val: 8, next: ListNode{val: 4, next: ListNode{val: 5, next: None}}}}"
   ]
  }
 ],
 "metadata": {
  "kernelspec": {
   "display_name": "Python 3.8.7 ('.venv': venv)",
   "language": "python",
   "name": "python3"
  },
  "language_info": {
   "codemirror_mode": {
    "name": "ipython",
    "version": 3
   },
   "file_extension": ".py",
   "mimetype": "text/x-python",
   "name": "python",
   "nbconvert_exporter": "python",
   "pygments_lexer": "ipython3",
   "version": "3.8.7"
  },
  "orig_nbformat": 4,
  "vscode": {
   "interpreter": {
    "hash": "6a07fcf0145f94b3f971c13d061528107de20ab7b779375f96dab9bbac6a85db"
   }
  }
 },
 "nbformat": 4,
 "nbformat_minor": 2
}
