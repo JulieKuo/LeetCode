{
 "cells": [
  {
   "cell_type": "markdown",
   "metadata": {},
   "source": [
    "## 69. Sqrt(x)"
   ]
  },
  {
   "cell_type": "markdown",
   "metadata": {},
   "source": [
    "<img src=\"img/69.svg\" style=\"zoom:100%\"/>"
   ]
  },
  {
   "cell_type": "code",
   "execution_count": 1,
   "metadata": {},
   "outputs": [
    {
     "data": {
      "text/plain": [
       "6"
      ]
     },
     "execution_count": 1,
     "metadata": {},
     "output_type": "execute_result"
    }
   ],
   "source": [
    "# 牛頓法\n",
    "class Solution:\n",
    "    def mySqrt(self, x: int) -> int:\n",
    "\n",
    "        num = x / 2\n",
    "        while abs((num * num) -  x) >= 0.75:\n",
    "            num = (num **2 + x) / (2 * num)\n",
    "            \n",
    "        return int(num)\n",
    "\n",
    "Solution().mySqrt(36)"
   ]
  },
  {
   "cell_type": "code",
   "execution_count": 2,
   "metadata": {},
   "outputs": [
    {
     "name": "stdout",
     "output_type": "stream",
     "text": [
      "\n",
      "origin: left = 0, mid = 18, right = 37\n",
      "(square = 324) > (x = 36)\n",
      "new: left = 0, mid = 18, right = 18\n",
      "\n",
      "origin: left = 0, mid = 9, right = 18\n",
      "(square = 81) > (x = 36)\n",
      "new: left = 0, mid = 9, right = 9\n",
      "\n",
      "origin: left = 0, mid = 4, right = 9\n",
      "(square = 16) < (x = 36)\n",
      "new: left = 5, mid = 4, right = 9\n",
      "\n",
      "origin: left = 5, mid = 7, right = 9\n",
      "(square = 49) > (x = 36)\n",
      "new: left = 5, mid = 7, right = 7\n",
      "\n",
      "origin: left = 5, mid = 6, right = 7\n",
      "(square = 36) ==  (x = 36)\n"
     ]
    },
    {
     "data": {
      "text/plain": [
       "6"
      ]
     },
     "execution_count": 2,
     "metadata": {},
     "output_type": "execute_result"
    }
   ],
   "source": [
    "# 二分法\n",
    "class Solution:\n",
    "    def mySqrt(self, x: int) -> int:\n",
    "        left = 0\n",
    "        right = x + 1 # 加1以避免x為0時無法進入迴圈\n",
    "\n",
    "        while left < right:\n",
    "            mid = (left + right) // 2\n",
    "            print(f\"\\norigin: left = {left}, mid = {mid}, right = {right}\")\n",
    "            square = mid ** 2\n",
    "\n",
    "            if square == x:\n",
    "                print(f\"(square = {square}) ==  (x = {x})\")\n",
    "                return mid\n",
    "            \n",
    "            elif square < x:\n",
    "                left = mid + 1\n",
    "                print(f\"(square = {square}) < (x = {x})\")\n",
    "                print(f\"new: left = {left}, mid = {mid}, right = {right}\")\n",
    "\n",
    "            else:\n",
    "                right = mid\n",
    "                print(f\"(square = {square}) > (x = {x})\")\n",
    "                print(f\"new: left = {left}, mid = {mid}, right = {right}\")\n",
    "        \n",
    "        return left - 1 # 跳出迴圈前會先加1，要返回當下那輪的left\n",
    "        \n",
    "\n",
    "Solution().mySqrt(36)"
   ]
  }
 ],
 "metadata": {
  "kernelspec": {
   "display_name": "Python 3.8.10 ('.venv': venv)",
   "language": "python",
   "name": "python3"
  },
  "language_info": {
   "codemirror_mode": {
    "name": "ipython",
    "version": 3
   },
   "file_extension": ".py",
   "mimetype": "text/x-python",
   "name": "python",
   "nbconvert_exporter": "python",
   "pygments_lexer": "ipython3",
   "version": "3.8.10"
  },
  "orig_nbformat": 4,
  "vscode": {
   "interpreter": {
    "hash": "6c2898c30be5f73b03e044cf4b0ab3750666a8191d61a4c93b022a132c823988"
   }
  }
 },
 "nbformat": 4,
 "nbformat_minor": 2
}
