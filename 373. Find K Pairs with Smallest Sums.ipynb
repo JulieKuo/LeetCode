{
 "cells": [
  {
   "cell_type": "markdown",
   "metadata": {},
   "source": [
    "### 373. Find K Pairs with Smallest Sums"
   ]
  },
  {
   "cell_type": "markdown",
   "metadata": {},
   "source": [
    "* 時間複雜度: O( $(min(k, n{_1}) \\cdot log {_2} ({min(k, n{_1})})) + (k \\cdot log {_2} ({min(k, n{_1})})) $ ) = O( $k \\cdot log {_2} ({min(k, n{_1})})$ )\n",
    "* 空間複雜度: O( $k + min(k, n{_1})$ ) = O( $k$ )"
   ]
  },
  {
   "cell_type": "markdown",
   "metadata": {},
   "source": [
    "可參考215. 手動建立heap"
   ]
  },
  {
   "cell_type": "code",
   "execution_count": 1,
   "metadata": {},
   "outputs": [],
   "source": [
    "from typing import List\n",
    "import heapq\n",
    "\n",
    "class Solution:\n",
    "    def kSmallestPairs(self, nums1: List[int], nums2: List[int], k: int) -> List[List[int]]:\n",
    "        result = [] # space: O(k)\n",
    "\n",
    "        # 特殊情況處理\n",
    "        if (not nums1) or (not nums2) or (k <= 0):\n",
    "            return result\n",
    "        \n",
    "        heap = [] # space: O( min(k, n1) )\n",
    "        # 只取 nums1 的前 k 個數字，避免不必要的計算\n",
    "        for idx1 in range(min(k, len(nums1))): # time: O( min(k, n1) )\n",
    "            # 初始化時只配對 nums2 的第一個數字 (最小的數字)\n",
    "            heapq.heappush(heap, (nums1[idx1] + nums2[0], idx1, 0))  # (總和, nums1 索引, nums2 索引) # time: O(log( min(k, n1) ))\n",
    "            print(f\"{idx1=}, push: {heap=}\")\n",
    "        print(\"_\" * 100)\n",
    "\n",
    "        # 開始從堆中取出 k 個最小數對\n",
    "        while heap and len(result) < k: # time: O(k)，最多取出 k 個數對\n",
    "            total, idx1, idx2 = heapq.heappop(heap) # 從堆中彈出總和最小總和的索引數對 # time: O(log( min(k, n1) ))\n",
    "            result.append([nums1[idx1], nums2[idx2]]) # 將數對加入結果中\n",
    "            print(f\"pop: ({total=}, {idx1=}, {idx2=}) -> {heap=}\")\n",
    "            print(f\"{nums1[idx1]=}, {nums2[idx2]=}, {result=}\")\n",
    "\n",
    "            # 如果 nums2 還有下一個元素，將新的數對加入堆中\n",
    "            if idx2 + 1 < len(nums2):\n",
    "                heapq.heappush(heap, (nums1[idx1] + nums2[idx2 + 1], idx1, idx2 + 1)) # time: O(log( min(k, n1) ))\n",
    "                print(f\"-> idx2 = {idx2 + 1}, push: {heap=}\")\n",
    "            print(\"-\" * 100)\n",
    "\n",
    "        return result\n"
   ]
  },
  {
   "cell_type": "code",
   "execution_count": 2,
   "metadata": {},
   "outputs": [
    {
     "name": "stdout",
     "output_type": "stream",
     "text": [
      "idx1=0, push: heap=[(3, 0, 0)]\n",
      "idx1=1, push: heap=[(3, 0, 0), (9, 1, 0)]\n",
      "idx1=2, push: heap=[(3, 0, 0), (9, 1, 0), (13, 2, 0)]\n",
      "____________________________________________________________________________________________________\n",
      "pop: (total=3, idx1=0, idx2=0) -> heap=[(9, 1, 0), (13, 2, 0)]\n",
      "nums1[idx1]=1, nums2[idx2]=2, result=[[1, 2]]\n",
      "-> idx2 = 1, push: heap=[(5, 0, 1), (13, 2, 0), (9, 1, 0)]\n",
      "----------------------------------------------------------------------------------------------------\n",
      "pop: (total=5, idx1=0, idx2=1) -> heap=[(9, 1, 0), (13, 2, 0)]\n",
      "nums1[idx1]=1, nums2[idx2]=4, result=[[1, 2], [1, 4]]\n",
      "-> idx2 = 2, push: heap=[(7, 0, 2), (13, 2, 0), (9, 1, 0)]\n",
      "----------------------------------------------------------------------------------------------------\n",
      "pop: (total=7, idx1=0, idx2=2) -> heap=[(9, 1, 0), (13, 2, 0)]\n",
      "nums1[idx1]=1, nums2[idx2]=6, result=[[1, 2], [1, 4], [1, 6]]\n",
      "----------------------------------------------------------------------------------------------------\n"
     ]
    },
    {
     "data": {
      "text/plain": [
       "[[1, 2], [1, 4], [1, 6]]"
      ]
     },
     "execution_count": 2,
     "metadata": {},
     "output_type": "execute_result"
    }
   ],
   "source": [
    "nums1 = [1,7,11]\n",
    "nums2 = [2,4,6]\n",
    "k = 3\n",
    "Solution().kSmallestPairs(nums1, nums2, k) # [[1,2],[1,4],[1,6]]"
   ]
  }
 ],
 "metadata": {
  "kernelspec": {
   "display_name": ".venv",
   "language": "python",
   "name": "python3"
  },
  "language_info": {
   "codemirror_mode": {
    "name": "ipython",
    "version": 3
   },
   "file_extension": ".py",
   "mimetype": "text/x-python",
   "name": "python",
   "nbconvert_exporter": "python",
   "pygments_lexer": "ipython3",
   "version": "3.11.2"
  }
 },
 "nbformat": 4,
 "nbformat_minor": 2
}
