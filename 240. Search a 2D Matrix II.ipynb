{
 "cells": [
  {
   "cell_type": "markdown",
   "metadata": {},
   "source": [
    "## 240. Search a 2D Matrix II"
   ]
  },
  {
   "cell_type": "markdown",
   "metadata": {},
   "source": [
    "**時間複雜度: O( $n+m$ )**  \n",
    "**空間複雜度: O( $1$ )**"
   ]
  },
  {
   "cell_type": "code",
   "execution_count": null,
   "metadata": {},
   "outputs": [],
   "source": [
    "from typing import List\n",
    "\n",
    "class Solution:\n",
    "    def searchMatrix(self, matrix: List[List[int]], target: int) -> bool:\n",
    "        # 若矩陣為空或矩陣的第一列為空，則直接返回 False\n",
    "        if not matrix and not matrix[0]:\n",
    "            return False\n",
    "        \n",
    "        # 獲取矩陣的行數 m 和列數 n\n",
    "        m, n = len(matrix), len(matrix[0]) # space: O(1)\n",
    "        \n",
    "        # 從矩陣的右上角開始搜索，初始化 row 和 col\n",
    "        row, col = 0, n - 1 # space: O(1)\n",
    "\n",
    "        # 當 row 在有效範圍內 (0 ~ m-1) 且 col 在有效範圍內 (0 ~ n-1) 時執行迴圈\n",
    "        while (row < m) and (col >= 0): # time: O(m+n)\n",
    "            print(f\"{row=}, {col=}, {matrix[row][col]=}\")\n",
    "            \n",
    "            # 檢查當前元素是否等於目標值 target\n",
    "            if matrix[row][col] == target:\n",
    "                print(f\"({matrix[row][col]=}) == ({target=}) -> True\")\n",
    "                return True\n",
    "            # 若當前元素大於目標值，向左移動 (col 減少)\n",
    "            elif matrix[row][col] > target:\n",
    "                print(f\"({matrix[row][col]=}) > ({target=}) -> col={col-1}\")\n",
    "                col -= 1\n",
    "            # 若當前元素小於目標值，向下移動 (row 增加)\n",
    "            elif matrix[row][col] < target:\n",
    "                print(f\"({matrix[row][col]=}) < ({target=}) -> row={row+1}\")\n",
    "                row += 1\n",
    "\n",
    "        return False\n"
   ]
  },
  {
   "cell_type": "code",
   "execution_count": 2,
   "metadata": {},
   "outputs": [
    {
     "name": "stdout",
     "output_type": "stream",
     "text": [
      "row=0, col=4, matrix[row][col]=15\n",
      "(matrix[row][col]=15) > (target=5) -> col=3\n",
      "row=0, col=3, matrix[row][col]=11\n",
      "(matrix[row][col]=11) > (target=5) -> col=2\n",
      "row=0, col=2, matrix[row][col]=7\n",
      "(matrix[row][col]=7) > (target=5) -> col=1\n",
      "row=0, col=1, matrix[row][col]=4\n",
      "(matrix[row][col]=4) < (target=5) -> row=1\n",
      "row=1, col=1, matrix[row][col]=5\n",
      "(matrix[row][col]=5) == (target=5) -> True\n"
     ]
    },
    {
     "data": {
      "text/plain": [
       "True"
      ]
     },
     "execution_count": 2,
     "metadata": {},
     "output_type": "execute_result"
    }
   ],
   "source": [
    "matrix = [[1,4,7,11,15],[2,5,8,12,19],[3,6,9,16,22],[10,13,14,17,24],[18,21,23,26,30]]\n",
    "target = 5\n",
    "\n",
    "Solution().searchMatrix(matrix, target)"
   ]
  }
 ],
 "metadata": {
  "kernelspec": {
   "display_name": ".venv",
   "language": "python",
   "name": "python3"
  },
  "language_info": {
   "codemirror_mode": {
    "name": "ipython",
    "version": 3
   },
   "file_extension": ".py",
   "mimetype": "text/x-python",
   "name": "python",
   "nbconvert_exporter": "python",
   "pygments_lexer": "ipython3",
   "version": "3.11.2"
  },
  "orig_nbformat": 4,
  "vscode": {
   "interpreter": {
    "hash": "6a07fcf0145f94b3f971c13d061528107de20ab7b779375f96dab9bbac6a85db"
   }
  }
 },
 "nbformat": 4,
 "nbformat_minor": 2
}
