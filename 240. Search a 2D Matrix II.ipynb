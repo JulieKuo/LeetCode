{
 "cells": [
  {
   "cell_type": "markdown",
   "metadata": {},
   "source": [
    "## 240. Search a 2D Matrix II"
   ]
  },
  {
   "cell_type": "code",
   "execution_count": 1,
   "metadata": {},
   "outputs": [],
   "source": [
    "class Solution:\n",
    "    def searchMatrix(self, matrix, target):\n",
    "        print(f\"matrix = {matrix}\")\n",
    "        row = len(matrix)\n",
    "        col = len(matrix[0])\n",
    "\n",
    "        for r in range(row):\n",
    "            if matrix[r][0] <= target <= matrix[r][-1]:\n",
    "                print(f\"\\nr = {r}\")\n",
    "                print(f\"(matrix[r][0] = {matrix[r][0]}) <= (target = {target}) <= (matrix[r][-1] = {matrix[r][-1]})\")\n",
    "\n",
    "                left = 0\n",
    "                right = col\n",
    "                while left < right:\n",
    "                    mid = (left + right) // 2\n",
    "                    print(f\"origin: left = {left}, mid = {mid}, right = {right}\")\n",
    "\n",
    "                    if matrix[r][mid] == target:\n",
    "                        print(f\"(matrix[r][mid] = {matrix[r][mid]}) ==  (target = {target})\")\n",
    "                        return True\n",
    "\n",
    "                    elif matrix[r][mid] < target:\n",
    "                        left = mid + 1\n",
    "                        print(f\"(matrix[r][mid] = {matrix[r][mid]}) <  (target = {target})\")\n",
    "                        print(f\"new: left = {left}, mid = {mid}, right = {right}\")\n",
    "\n",
    "                    else:\n",
    "                        right = mid\n",
    "                        print(f\"(matrix[r][mid] = {matrix[r][mid]}) >  (target = {target})\")\n",
    "                        print(f\"new: left = {left}, mid = {mid}, right = {right}\")\n",
    "     \n",
    "        return False"
   ]
  },
  {
   "cell_type": "code",
   "execution_count": 2,
   "metadata": {},
   "outputs": [
    {
     "name": "stdout",
     "output_type": "stream",
     "text": [
      "matrix = [[1, 4, 7, 11, 15], [2, 5, 8, 12, 19], [3, 6, 9, 16, 22], [10, 13, 14, 17, 24], [18, 21, 23, 26, 30]]\n",
      "\n",
      "r = 0\n",
      "(matrix[r][0] = 1) <= (target = 5) <= (matrix[r][-1] = 15)\n",
      "origin: left = 0, mid = 2, right = 5\n",
      "(matrix[r][mid] = 7) >  (target = 5)\n",
      "new: left = 0, mid = 2, right = 2\n",
      "origin: left = 0, mid = 1, right = 2\n",
      "(matrix[r][mid] = 4) <  (target = 5)\n",
      "new: left = 2, mid = 1, right = 2\n",
      "\n",
      "r = 1\n",
      "(matrix[r][0] = 2) <= (target = 5) <= (matrix[r][-1] = 19)\n",
      "origin: left = 0, mid = 2, right = 5\n",
      "(matrix[r][mid] = 8) >  (target = 5)\n",
      "new: left = 0, mid = 2, right = 2\n",
      "origin: left = 0, mid = 1, right = 2\n",
      "(matrix[r][mid] = 5) ==  (target = 5)\n"
     ]
    },
    {
     "data": {
      "text/plain": [
       "True"
      ]
     },
     "execution_count": 2,
     "metadata": {},
     "output_type": "execute_result"
    }
   ],
   "source": [
    "matrix = [[1,4,7,11,15],[2,5,8,12,19],[3,6,9,16,22],[10,13,14,17,24],[18,21,23,26,30]]\n",
    "target = 5\n",
    "\n",
    "Solution().searchMatrix(matrix, target)"
   ]
  },
  {
   "cell_type": "code",
   "execution_count": null,
   "metadata": {},
   "outputs": [],
   "source": []
  }
 ],
 "metadata": {
  "kernelspec": {
   "display_name": ".venv",
   "language": "python",
   "name": "python3"
  },
  "language_info": {
   "codemirror_mode": {
    "name": "ipython",
    "version": 3
   },
   "file_extension": ".py",
   "mimetype": "text/x-python",
   "name": "python",
   "nbconvert_exporter": "python",
   "pygments_lexer": "ipython3",
   "version": "3.8.10"
  },
  "orig_nbformat": 4,
  "vscode": {
   "interpreter": {
    "hash": "6a07fcf0145f94b3f971c13d061528107de20ab7b779375f96dab9bbac6a85db"
   }
  }
 },
 "nbformat": 4,
 "nbformat_minor": 2
}
