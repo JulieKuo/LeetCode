{
 "cells": [
  {
   "cell_type": "markdown",
   "metadata": {},
   "source": [
    "### 84. Largest Rectangle in Histogram"
   ]
  },
  {
   "cell_type": "markdown",
   "metadata": {},
   "source": [
    "* 時間複雜度: O( $n$ )\n",
    "* 空間複雜度: O( $n$ )"
   ]
  },
  {
   "cell_type": "code",
   "execution_count": null,
   "metadata": {},
   "outputs": [],
   "source": [
    "from typing import List\n",
    "\n",
    "class Solution:\n",
    "    def largestRectangleArea(self, heights: List[int]) -> int:\n",
    "        heights.append(0) # 末尾加上一個高度為 0 的柱子，以計算最後棧中剩餘的柱子\n",
    "        stack = []  # 存儲柱子的 index # space: O(n)\n",
    "        max_area = 0  # 最大矩形面積\n",
    "\n",
    "        for i in range(len(heights)): # time: O(n), stack中的元素最多只會被加入和移除一次\n",
    "            print(f\"{i=}, {heights[i]=}\")\n",
    "\n",
    "            # 當棧非空且當前高度小於棧頂柱子的高度時，處理棧頂\n",
    "            while stack and heights[i] < heights[stack[-1]]:\n",
    "                idx = stack.pop()\n",
    "                height = heights[idx]  # 取出棧頂柱子的高度\n",
    "                print(f\"({heights[i]} < {heights[idx]})-> pop: {idx=}, {stack=}\")\n",
    "                print(f\"{height=}\")\n",
    "\n",
    "                # 如果棧已空，左邊界為 -1，width 為 0 到當前柱子的索引 (當前柱子前面沒有比它小的柱子)\n",
    "                # 否則，左邊界為棧頂的索引，width 為當前柱子的索引減去棧頂的索引減 1\n",
    "                if not stack:\n",
    "                    width = i\n",
    "                    print(f\"width = {width}\")\n",
    "                else: \n",
    "                    width = i - stack[-1] - 1\n",
    "                    print(f\"width = {i} - {stack[-1]} - 1 = {width}\")\n",
    "\n",
    "                area = height * width\n",
    "                max_area = max(max_area, area)  # 計算最大面積並更新\n",
    "                print(f\"{area=}, {max_area=}\")\n",
    "\n",
    "            # 將當前柱子的索引加入棧中\n",
    "            stack.append(i)\n",
    "            print(f\"{stack=}\\n\")\n",
    "\n",
    "        return max_area  # 返回最大矩形面積"
   ]
  },
  {
   "cell_type": "code",
   "execution_count": 2,
   "metadata": {},
   "outputs": [
    {
     "name": "stdout",
     "output_type": "stream",
     "text": [
      "i=0, heights[i]=2\n",
      "stack=[0]\n",
      "\n",
      "i=1, heights[i]=1\n",
      "(1 < 2)-> pop: idx=0, stack=[]\n",
      "height=2\n",
      "width = 1\n",
      "area=2, max_area=2\n",
      "stack=[1]\n",
      "\n",
      "i=2, heights[i]=5\n",
      "stack=[1, 2]\n",
      "\n",
      "i=3, heights[i]=6\n",
      "stack=[1, 2, 3]\n",
      "\n",
      "i=4, heights[i]=2\n",
      "(2 < 6)-> pop: idx=3, stack=[1, 2]\n",
      "height=6\n",
      "width = 4 - 2 - 1 = 1\n",
      "area=6, max_area=6\n",
      "(2 < 5)-> pop: idx=2, stack=[1]\n",
      "height=5\n",
      "width = 4 - 1 - 1 = 2\n",
      "area=10, max_area=10\n",
      "stack=[1, 4]\n",
      "\n",
      "i=5, heights[i]=3\n",
      "stack=[1, 4, 5]\n",
      "\n",
      "i=6, heights[i]=0\n",
      "(0 < 3)-> pop: idx=5, stack=[1, 4]\n",
      "height=3\n",
      "width = 6 - 4 - 1 = 1\n",
      "area=3, max_area=10\n",
      "(0 < 2)-> pop: idx=4, stack=[1]\n",
      "height=2\n",
      "width = 6 - 1 - 1 = 4\n",
      "area=8, max_area=10\n",
      "(0 < 1)-> pop: idx=1, stack=[]\n",
      "height=1\n",
      "width = 6\n",
      "area=6, max_area=10\n",
      "stack=[6]\n",
      "\n"
     ]
    },
    {
     "data": {
      "text/plain": [
       "10"
      ]
     },
     "execution_count": 2,
     "metadata": {},
     "output_type": "execute_result"
    }
   ],
   "source": [
    "heights = [2,1,5,6,2,3]\n",
    "# heights = [2,1,2]\n",
    "\n",
    "Solution().largestRectangleArea(heights) # 10"
   ]
  },
  {
   "cell_type": "code",
   "execution_count": null,
   "metadata": {},
   "outputs": [],
   "source": []
  }
 ],
 "metadata": {
  "kernelspec": {
   "display_name": ".venv",
   "language": "python",
   "name": "python3"
  },
  "language_info": {
   "codemirror_mode": {
    "name": "ipython",
    "version": 3
   },
   "file_extension": ".py",
   "mimetype": "text/x-python",
   "name": "python",
   "nbconvert_exporter": "python",
   "pygments_lexer": "ipython3",
   "version": "3.11.2"
  }
 },
 "nbformat": 4,
 "nbformat_minor": 2
}
