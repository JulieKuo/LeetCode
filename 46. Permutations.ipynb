{
 "cells": [
  {
   "cell_type": "markdown",
   "metadata": {},
   "source": [
    "### 46. Permutations"
   ]
  },
  {
   "cell_type": "code",
   "execution_count": null,
   "metadata": {},
   "outputs": [],
   "source": [
    "class Solution:\n",
    "    def permute(self, nums):\n",
    "        # 初始化已訪問的索引集合和結果集合\n",
    "        self.visited = set()\n",
    "        self.res = []\n",
    "        self.nums = nums\n",
    "        self.n = len(nums)\n",
    "\n",
    "        # 開始深度優先搜索\n",
    "        self.dfs(subset = [])\n",
    "        return self.res\n",
    "\n",
    "    def dfs(self, subset):\n",
    "        print(\"-\" * 150)\n",
    "        print(f\"subset = {subset}\")\n",
    "        # 如果當前子集的長度等於給定數字陣列的長度，則表示找到一個排列，將其加入結果集\n",
    "        if len(subset) == self.n:\n",
    "            self.res.append(subset)\n",
    "            print(f\"-> res = {self.res}\")\n",
    "            return\n",
    "\n",
    "        # 遍歷數字陣列的每個元素\n",
    "        for i, num in enumerate(self.nums):\n",
    "            print(f\"i = {i}, num = {num}\")\n",
    "            # 如果該索引尚未被訪問\n",
    "            if i not in self.visited:\n",
    "                print(f\"(i = {i}) not in (visited = {self.visited})\")\n",
    "                # 將該索引添加到已訪問的集合中\n",
    "                self.visited.add(i)\n",
    "                print(f\"visited = {self.visited}\")\n",
    "\n",
    "                # 遞歸探索下一層，將當前元素添加到子集中\n",
    "                self.dfs(subset = (subset + [num]))\n",
    "                print(f\"dfs -> i = {i}, num = {num}, subset = {subset}\")\n",
    "\n",
    "                # 恢復已訪問的狀態，以便探索其他可能性\n",
    "                self.visited.remove(i)                \n",
    "                print(f\"visited = {self.visited}\")"
   ]
  },
  {
   "cell_type": "code",
   "execution_count": null,
   "metadata": {},
   "outputs": [],
   "source": [
    "nums = [1,2,3]\n",
    "# [[1,2,3],[1,3,2],[2,1,3],[2,3,1],[3,1,2],[3,2,1]]\n",
    "\n",
    "Solution().permute(nums)"
   ]
  }
 ],
 "metadata": {
  "kernelspec": {
   "display_name": ".venv",
   "language": "python",
   "name": "python3"
  },
  "language_info": {
   "codemirror_mode": {
    "name": "ipython",
    "version": 3
   },
   "file_extension": ".py",
   "mimetype": "text/x-python",
   "name": "python",
   "nbconvert_exporter": "python",
   "pygments_lexer": "ipython3",
   "version": "3.8.10"
  }
 },
 "nbformat": 4,
 "nbformat_minor": 2
}
