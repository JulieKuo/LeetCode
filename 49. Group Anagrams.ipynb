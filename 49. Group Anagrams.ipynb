{
 "cells": [
  {
   "cell_type": "markdown",
   "metadata": {},
   "source": [
    "## 49. Group Anagrams"
   ]
  },
  {
   "cell_type": "markdown",
   "metadata": {},
   "source": [
    "**時間複雜度: O( $n*k$ )**   \n",
    "**空間複雜度: O( $n*k$ )** "
   ]
  },
  {
   "cell_type": "code",
   "execution_count": 1,
   "metadata": {},
   "outputs": [],
   "source": [
    "from typing import List\n",
    "from collections import defaultdict\n",
    "\n",
    "class Solution:\n",
    "    def groupAnagrams(self, strs: List[str]) -> List[List[str]]:\n",
    "        result = defaultdict(list) # space: O(n*k)，n是字串的數量，k是字串的最大長度\n",
    "\n",
    "        for word in strs: # time: O(n)\n",
    "            counts = [0] * 26 # space: O(1)\n",
    "            for char in word: # time: O(k)\n",
    "                counts[ord(char) - ord(\"a\")] += 1\n",
    "\n",
    "            result[tuple(counts)].append(word)\n",
    "\n",
    "        return list(result.values())\n",
    "        "
   ]
  },
  {
   "cell_type": "code",
   "execution_count": 2,
   "metadata": {},
   "outputs": [
    {
     "data": {
      "text/plain": [
       "[['eat', 'tea', 'ate'], ['tan', 'nat'], ['bat']]"
      ]
     },
     "execution_count": 2,
     "metadata": {},
     "output_type": "execute_result"
    }
   ],
   "source": [
    "strs = [\"eat\",\"tea\",\"tan\",\"ate\",\"nat\",\"bat\"]\n",
    "\n",
    "Solution().groupAnagrams(strs)"
   ]
  },
  {
   "cell_type": "markdown",
   "metadata": {},
   "source": [
    "**時間複雜度: O(n * k)**  \n",
    "**空間複雜度: O(n)**"
   ]
  },
  {
   "cell_type": "code",
   "execution_count": 1,
   "metadata": {},
   "outputs": [],
   "source": [
    "class Solution:\n",
    "    def groupAnagrams(self, strs): # time: O(n * k), space: O(n)\n",
    "        print(f\"{strs = }\")\n",
    "\n",
    "        hash_table = {}  # 建立一個哈希表用來存儲各組anagrams\n",
    "        for word in strs: # 對每個詞進行操作  # time: O(n), space: O(n)\n",
    "            print(f\"\\n{word = }\") \n",
    "            order_word = self.sort_word(word)  # 對詞進行排序\n",
    "            if order_word in hash_table:  # 如果排序後的詞已經在哈希表中\n",
    "                hash_table[order_word].append(word)  # 則將原詞添加到對應的列表中\n",
    "            else:\n",
    "                hash_table[order_word] = [word]  # 否則在哈希表中創建新的鍵值對\n",
    "            print(f\"{hash_table = }\") \n",
    "        \n",
    "        return hash_table.values()  # 返回哈希表中所有值的集合，即分組的anagrams\n",
    "\n",
    "    def sort_word(self, word): # 排序單詞的函數  # time: O(k), space: O(1)\n",
    "        counts = [0] * 26 # 建立一個長度為26的列表，用於計數每個字母的出現次數\n",
    "        base = ord('a')  # 字母a的ASCII碼值\n",
    "\n",
    "        print(\"<< calculate counts >>\")\n",
    "        print(f'[{\", \".join([chr(base+i) for i in range(26)])}]')\n",
    "        for char in word:  # 遍歷詞中的每個字母  # time: O(k)\n",
    "            alphabet_order = ord(char) - base  # ASCII碼計算字母在a-z中的索引\n",
    "            counts[alphabet_order] += 1  # 對應字母的計數增加\n",
    "            print(counts)\n",
    "\n",
    "        order_word = \"\"  # 初始化排序後的詞\n",
    "        for order in range(26): # 遍歷26個字母  # time: O(1)\n",
    "            if counts[order] > 0:  # 如果當前字母的計數大於0\n",
    "                for _ in range(counts[order]):  # 根據計數重複添加字母  # time: O(k)\n",
    "                    order_word += chr(base + order)  # 添加字母到排序後的詞中\n",
    "                    print(f\"{order = } ({_}), {order_word = }\")\n",
    "        \n",
    "        return order_word  # 返回排序後的詞\n"
   ]
  },
  {
   "cell_type": "code",
   "execution_count": 2,
   "metadata": {},
   "outputs": [
    {
     "name": "stdout",
     "output_type": "stream",
     "text": [
      "strs = ['eaten', 'eat', 'tea', 'tan', 'ate', 'nat', 'bat']\n",
      "\n",
      "word = 'eaten'\n",
      "<< calculate counts >>\n",
      "[a, b, c, d, e, f, g, h, i, j, k, l, m, n, o, p, q, r, s, t, u, v, w, x, y, z]\n",
      "[0, 0, 0, 0, 1, 0, 0, 0, 0, 0, 0, 0, 0, 0, 0, 0, 0, 0, 0, 0, 0, 0, 0, 0, 0, 0]\n",
      "[1, 0, 0, 0, 1, 0, 0, 0, 0, 0, 0, 0, 0, 0, 0, 0, 0, 0, 0, 0, 0, 0, 0, 0, 0, 0]\n",
      "[1, 0, 0, 0, 1, 0, 0, 0, 0, 0, 0, 0, 0, 0, 0, 0, 0, 0, 0, 1, 0, 0, 0, 0, 0, 0]\n",
      "[1, 0, 0, 0, 2, 0, 0, 0, 0, 0, 0, 0, 0, 0, 0, 0, 0, 0, 0, 1, 0, 0, 0, 0, 0, 0]\n",
      "[1, 0, 0, 0, 2, 0, 0, 0, 0, 0, 0, 0, 0, 1, 0, 0, 0, 0, 0, 1, 0, 0, 0, 0, 0, 0]\n",
      "order = 0 (0), order_word = 'a'\n",
      "order = 4 (0), order_word = 'ae'\n",
      "order = 4 (1), order_word = 'aee'\n",
      "order = 13 (0), order_word = 'aeen'\n",
      "order = 19 (0), order_word = 'aeent'\n",
      "hash_table = {'aeent': ['eaten']}\n",
      "\n",
      "word = 'eat'\n",
      "<< calculate counts >>\n",
      "[a, b, c, d, e, f, g, h, i, j, k, l, m, n, o, p, q, r, s, t, u, v, w, x, y, z]\n",
      "[0, 0, 0, 0, 1, 0, 0, 0, 0, 0, 0, 0, 0, 0, 0, 0, 0, 0, 0, 0, 0, 0, 0, 0, 0, 0]\n",
      "[1, 0, 0, 0, 1, 0, 0, 0, 0, 0, 0, 0, 0, 0, 0, 0, 0, 0, 0, 0, 0, 0, 0, 0, 0, 0]\n",
      "[1, 0, 0, 0, 1, 0, 0, 0, 0, 0, 0, 0, 0, 0, 0, 0, 0, 0, 0, 1, 0, 0, 0, 0, 0, 0]\n",
      "order = 0 (0), order_word = 'a'\n",
      "order = 4 (0), order_word = 'ae'\n",
      "order = 19 (0), order_word = 'aet'\n",
      "hash_table = {'aeent': ['eaten'], 'aet': ['eat']}\n",
      "\n",
      "word = 'tea'\n",
      "<< calculate counts >>\n",
      "[a, b, c, d, e, f, g, h, i, j, k, l, m, n, o, p, q, r, s, t, u, v, w, x, y, z]\n",
      "[0, 0, 0, 0, 0, 0, 0, 0, 0, 0, 0, 0, 0, 0, 0, 0, 0, 0, 0, 1, 0, 0, 0, 0, 0, 0]\n",
      "[0, 0, 0, 0, 1, 0, 0, 0, 0, 0, 0, 0, 0, 0, 0, 0, 0, 0, 0, 1, 0, 0, 0, 0, 0, 0]\n",
      "[1, 0, 0, 0, 1, 0, 0, 0, 0, 0, 0, 0, 0, 0, 0, 0, 0, 0, 0, 1, 0, 0, 0, 0, 0, 0]\n",
      "order = 0 (0), order_word = 'a'\n",
      "order = 4 (0), order_word = 'ae'\n",
      "order = 19 (0), order_word = 'aet'\n",
      "hash_table = {'aeent': ['eaten'], 'aet': ['eat', 'tea']}\n",
      "\n",
      "word = 'tan'\n",
      "<< calculate counts >>\n",
      "[a, b, c, d, e, f, g, h, i, j, k, l, m, n, o, p, q, r, s, t, u, v, w, x, y, z]\n",
      "[0, 0, 0, 0, 0, 0, 0, 0, 0, 0, 0, 0, 0, 0, 0, 0, 0, 0, 0, 1, 0, 0, 0, 0, 0, 0]\n",
      "[1, 0, 0, 0, 0, 0, 0, 0, 0, 0, 0, 0, 0, 0, 0, 0, 0, 0, 0, 1, 0, 0, 0, 0, 0, 0]\n",
      "[1, 0, 0, 0, 0, 0, 0, 0, 0, 0, 0, 0, 0, 1, 0, 0, 0, 0, 0, 1, 0, 0, 0, 0, 0, 0]\n",
      "order = 0 (0), order_word = 'a'\n",
      "order = 13 (0), order_word = 'an'\n",
      "order = 19 (0), order_word = 'ant'\n",
      "hash_table = {'aeent': ['eaten'], 'aet': ['eat', 'tea'], 'ant': ['tan']}\n",
      "\n",
      "word = 'ate'\n",
      "<< calculate counts >>\n",
      "[a, b, c, d, e, f, g, h, i, j, k, l, m, n, o, p, q, r, s, t, u, v, w, x, y, z]\n",
      "[1, 0, 0, 0, 0, 0, 0, 0, 0, 0, 0, 0, 0, 0, 0, 0, 0, 0, 0, 0, 0, 0, 0, 0, 0, 0]\n",
      "[1, 0, 0, 0, 0, 0, 0, 0, 0, 0, 0, 0, 0, 0, 0, 0, 0, 0, 0, 1, 0, 0, 0, 0, 0, 0]\n",
      "[1, 0, 0, 0, 1, 0, 0, 0, 0, 0, 0, 0, 0, 0, 0, 0, 0, 0, 0, 1, 0, 0, 0, 0, 0, 0]\n",
      "order = 0 (0), order_word = 'a'\n",
      "order = 4 (0), order_word = 'ae'\n",
      "order = 19 (0), order_word = 'aet'\n",
      "hash_table = {'aeent': ['eaten'], 'aet': ['eat', 'tea', 'ate'], 'ant': ['tan']}\n",
      "\n",
      "word = 'nat'\n",
      "<< calculate counts >>\n",
      "[a, b, c, d, e, f, g, h, i, j, k, l, m, n, o, p, q, r, s, t, u, v, w, x, y, z]\n",
      "[0, 0, 0, 0, 0, 0, 0, 0, 0, 0, 0, 0, 0, 1, 0, 0, 0, 0, 0, 0, 0, 0, 0, 0, 0, 0]\n",
      "[1, 0, 0, 0, 0, 0, 0, 0, 0, 0, 0, 0, 0, 1, 0, 0, 0, 0, 0, 0, 0, 0, 0, 0, 0, 0]\n",
      "[1, 0, 0, 0, 0, 0, 0, 0, 0, 0, 0, 0, 0, 1, 0, 0, 0, 0, 0, 1, 0, 0, 0, 0, 0, 0]\n",
      "order = 0 (0), order_word = 'a'\n",
      "order = 13 (0), order_word = 'an'\n",
      "order = 19 (0), order_word = 'ant'\n",
      "hash_table = {'aeent': ['eaten'], 'aet': ['eat', 'tea', 'ate'], 'ant': ['tan', 'nat']}\n",
      "\n",
      "word = 'bat'\n",
      "<< calculate counts >>\n",
      "[a, b, c, d, e, f, g, h, i, j, k, l, m, n, o, p, q, r, s, t, u, v, w, x, y, z]\n",
      "[0, 1, 0, 0, 0, 0, 0, 0, 0, 0, 0, 0, 0, 0, 0, 0, 0, 0, 0, 0, 0, 0, 0, 0, 0, 0]\n",
      "[1, 1, 0, 0, 0, 0, 0, 0, 0, 0, 0, 0, 0, 0, 0, 0, 0, 0, 0, 0, 0, 0, 0, 0, 0, 0]\n",
      "[1, 1, 0, 0, 0, 0, 0, 0, 0, 0, 0, 0, 0, 0, 0, 0, 0, 0, 0, 1, 0, 0, 0, 0, 0, 0]\n",
      "order = 0 (0), order_word = 'a'\n",
      "order = 1 (0), order_word = 'ab'\n",
      "order = 19 (0), order_word = 'abt'\n",
      "hash_table = {'aeent': ['eaten'], 'aet': ['eat', 'tea', 'ate'], 'ant': ['tan', 'nat'], 'abt': ['bat']}\n"
     ]
    },
    {
     "data": {
      "text/plain": [
       "dict_values([['eaten'], ['eat', 'tea', 'ate'], ['tan', 'nat'], ['bat']])"
      ]
     },
     "execution_count": 2,
     "metadata": {},
     "output_type": "execute_result"
    }
   ],
   "source": [
    "strs = [\"eaten\", \"eat\",\"tea\",\"tan\",\"ate\",\"nat\",\"bat\"]\n",
    "Solution().groupAnagrams(strs)"
   ]
  }
 ],
 "metadata": {
  "kernelspec": {
   "display_name": ".venv",
   "language": "python",
   "name": "python3"
  },
  "language_info": {
   "codemirror_mode": {
    "name": "ipython",
    "version": 3
   },
   "file_extension": ".py",
   "mimetype": "text/x-python",
   "name": "python",
   "nbconvert_exporter": "python",
   "pygments_lexer": "ipython3",
   "version": "3.11.2"
  },
  "orig_nbformat": 4,
  "vscode": {
   "interpreter": {
    "hash": "6a07fcf0145f94b3f971c13d061528107de20ab7b779375f96dab9bbac6a85db"
   }
  }
 },
 "nbformat": 4,
 "nbformat_minor": 2
}
