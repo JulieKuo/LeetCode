{
 "cells": [
  {
   "cell_type": "markdown",
   "metadata": {},
   "source": [
    "## 643. Maximum Average Subarray I"
   ]
  },
  {
   "cell_type": "markdown",
   "metadata": {},
   "source": [
    "**時間複雜度: O( $n$ )**   \n",
    "**空間複雜度: O( $1$ )** "
   ]
  },
  {
   "cell_type": "code",
   "execution_count": 1,
   "metadata": {},
   "outputs": [],
   "source": [
    "from typing import List\n",
    "\n",
    "class Solution:\n",
    "    def findMaxAverage(self, nums: List[int], k: int) -> float:\n",
    "        print(f\"{nums=}, {k=}\\n\")\n",
    "\n",
    "        total = sum(nums[:k])  # 計算初始的 k 個元素總和 # time: O(k), space: O(1)\n",
    "        result = total         # 初始化最大總和 # space: O(1)\n",
    "        print(f\"{total=}, {result=}\")\n",
    "\n",
    "        for i in range(k, len(nums)): # time: O(n)\n",
    "            total += nums[i] - nums[i - k]  # 更新滑動窗口的總和\n",
    "            result = max(result, total)    # 更新最大總和\n",
    "            print(f\"{total=}, {result=}\")\n",
    "        \n",
    "        return result / k  # 回傳最大平均值        "
   ]
  },
  {
   "cell_type": "code",
   "execution_count": 2,
   "metadata": {},
   "outputs": [
    {
     "name": "stdout",
     "output_type": "stream",
     "text": [
      "nums=[1, 12, -5, -6, 50, 3], k=4\n",
      "\n",
      "total=2, result=2\n",
      "total=51, result=51\n",
      "total=42, result=51\n"
     ]
    },
    {
     "data": {
      "text/plain": [
       "12.75"
      ]
     },
     "execution_count": 2,
     "metadata": {},
     "output_type": "execute_result"
    }
   ],
   "source": [
    "nums = [1,12,-5,-6,50,3]\n",
    "k = 4 \n",
    "# 12.75\n",
    "\n",
    "Solution().findMaxAverage(nums, k)"
   ]
  }
 ],
 "metadata": {
  "kernelspec": {
   "display_name": ".venv",
   "language": "python",
   "name": "python3"
  },
  "language_info": {
   "codemirror_mode": {
    "name": "ipython",
    "version": 3
   },
   "file_extension": ".py",
   "mimetype": "text/x-python",
   "name": "python",
   "nbconvert_exporter": "python",
   "pygments_lexer": "ipython3",
   "version": "3.11.2"
  },
  "orig_nbformat": 4
 },
 "nbformat": 4,
 "nbformat_minor": 2
}
