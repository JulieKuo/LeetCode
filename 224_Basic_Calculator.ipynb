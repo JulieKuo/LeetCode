{
 "cells": [
  {
   "cell_type": "markdown",
   "metadata": {},
   "source": [
    "## 224. Basic Calculator"
   ]
  },
  {
   "cell_type": "code",
   "execution_count": 1,
   "metadata": {},
   "outputs": [],
   "source": [
    "class Solution:\n",
    "    def calculate(self, s: str) -> int:\n",
    "        res, num, sign = 0, 0, 1 # 假定第一個數都是正數(sign = 1)\n",
    "        stack = []\n",
    "        for ele in s:\n",
    "            if ele not in \"+-() \":\n",
    "                num = (num * 10) + int(ele) # 遇到多位數時，前一個數字*10 (十進位)\n",
    "                print(f\"ele: {ele} -> res: {res}, num: {num}, sign: {sign}, stack: {stack}\")\n",
    "\n",
    "            elif (ele == \"+\") or (ele == \"-\"):\n",
    "                res += (int(num) * sign) # 遇到運算符號才加或減，避免出現多位數\n",
    "                num = 0\n",
    "\n",
    "                sign = 1 if (ele == \"+\") else -1\n",
    "                print(f\"ele: {ele} -> res: {res}, num: {num}, sign: {sign}, stack: {stack}\")\n",
    "\n",
    "            elif ele == \"(\":\n",
    "                stack.append((res, sign)) # 遇到左括號時表示要先計算內部元素，把前一步的結果先存起來，之後再做運算\n",
    "                res = 0\n",
    "                sign = 1\n",
    "                print(f\"ele: {ele} -> res: {res}, num: {num}, sign: {sign}, stack: {stack}\")\n",
    "\n",
    "            elif ele == \")\":\n",
    "                res += (int(num) * sign) # 遇到右括號時表示內部元素皆以計算，需叫出前一步存在stcak的結果，並對stack的結果與括號內的結果做運算\n",
    "\n",
    "                num = res\n",
    "                res, sign = stack.pop()\n",
    "\n",
    "                res += (num * sign)\n",
    "                num = 0\n",
    "                print(f\"ele: {ele} -> res: {res}, num: {num}, sign: {sign}, stack: {stack}\")\n",
    "\n",
    "        res += (int(num) * sign)\n",
    "\n",
    "        return res"
   ]
  },
  {
   "cell_type": "code",
   "execution_count": 2,
   "metadata": {},
   "outputs": [
    {
     "name": "stdout",
     "output_type": "stream",
     "text": [
      "ele: 2 -> res: 0, num: 2, sign: 1, stack: []\n",
      "ele: + -> res: 2, num: 0, sign: 1, stack: []\n",
      "ele: ( -> res: 0, num: 0, sign: 1, stack: [(2, 1)]\n",
      "ele: 1 -> res: 0, num: 1, sign: 1, stack: [(2, 1)]\n",
      "ele: - -> res: 1, num: 0, sign: -1, stack: [(2, 1)]\n",
      "ele: ( -> res: 0, num: 0, sign: 1, stack: [(2, 1), (1, -1)]\n",
      "ele: 4 -> res: 0, num: 4, sign: 1, stack: [(2, 1), (1, -1)]\n",
      "ele: + -> res: 4, num: 0, sign: 1, stack: [(2, 1), (1, -1)]\n",
      "ele: 5 -> res: 4, num: 5, sign: 1, stack: [(2, 1), (1, -1)]\n",
      "ele: + -> res: 9, num: 0, sign: 1, stack: [(2, 1), (1, -1)]\n",
      "ele: 2 -> res: 9, num: 2, sign: 1, stack: [(2, 1), (1, -1)]\n",
      "ele: ) -> res: -10, num: 0, sign: -1, stack: [(2, 1)]\n",
      "ele: - -> res: -10, num: 0, sign: -1, stack: [(2, 1)]\n",
      "ele: 3 -> res: -10, num: 3, sign: -1, stack: [(2, 1)]\n",
      "ele: ) -> res: -11, num: 0, sign: 1, stack: []\n",
      "ele: + -> res: -11, num: 0, sign: 1, stack: []\n",
      "ele: ( -> res: 0, num: 0, sign: 1, stack: [(-11, 1)]\n",
      "ele: 6 -> res: 0, num: 6, sign: 1, stack: [(-11, 1)]\n",
      "ele: + -> res: 6, num: 0, sign: 1, stack: [(-11, 1)]\n",
      "ele: 8 -> res: 6, num: 8, sign: 1, stack: [(-11, 1)]\n",
      "ele: ) -> res: 3, num: 0, sign: 1, stack: []\n"
     ]
    },
    {
     "data": {
      "text/plain": [
       "3"
      ]
     },
     "execution_count": 2,
     "metadata": {},
     "output_type": "execute_result"
    }
   ],
   "source": [
    "# s = \"2147483647\"\n",
    "s = \"2+(1-(4+5+2)-3)+(6+8)\"\n",
    "Solution().calculate(s)"
   ]
  }
 ],
 "metadata": {
  "kernelspec": {
   "display_name": "Python 3.8.7 ('.venv': venv)",
   "language": "python",
   "name": "python3"
  },
  "language_info": {
   "codemirror_mode": {
    "name": "ipython",
    "version": 3
   },
   "file_extension": ".py",
   "mimetype": "text/x-python",
   "name": "python",
   "nbconvert_exporter": "python",
   "pygments_lexer": "ipython3",
   "version": "3.8.7"
  },
  "orig_nbformat": 4,
  "vscode": {
   "interpreter": {
    "hash": "6a07fcf0145f94b3f971c13d061528107de20ab7b779375f96dab9bbac6a85db"
   }
  }
 },
 "nbformat": 4,
 "nbformat_minor": 2
}
