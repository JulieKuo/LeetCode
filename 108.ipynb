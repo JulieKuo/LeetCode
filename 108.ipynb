{
 "cells": [
  {
   "cell_type": "markdown",
   "metadata": {},
   "source": [
    "## 108. Convert Sorted Array to Binary Search Tree"
   ]
  },
  {
   "cell_type": "markdown",
   "metadata": {},
   "source": [
    "<img src=\"img/108.jpg\" style=\"zoom:50%\"/>"
   ]
  },
  {
   "cell_type": "code",
   "execution_count": null,
   "metadata": {},
   "outputs": [],
   "source": [
    "# Definition for a binary tree node.\n",
    "# class TreeNode(object):\n",
    "#     def __init__(self, val=0, left=None, right=None):\n",
    "#         self.val = val\n",
    "#         self.left = left\n",
    "#         self.right = right\n",
    "class Solution(object):\n",
    "    def sortedArrayToBST(self, nums):\n",
    "        \"\"\"\n",
    "        :type nums: List[int]\n",
    "        :rtype: TreeNode\n",
    "        \"\"\"\n",
    "        # class TreeNode:\n",
    "        #     def __init__(self, x):\n",
    "        #         self.val = x\n",
    "        #         self.left = None\n",
    "        #         self.right = None\n",
    "        \n",
    "        \n",
    "        if not nums:\n",
    "            return None\n",
    "        \n",
    "        l = len(nums) // 2\n",
    "        root = TreeNode(nums[l])\n",
    "        root.left = self.sortedArrayToBST(nums[:l])\n",
    "        root.right = self.sortedArrayToBST(nums[l + 1:])\n",
    "        \n",
    "        return root"
   ]
  }
 ],
 "metadata": {
  "language_info": {
   "name": "python"
  },
  "orig_nbformat": 4
 },
 "nbformat": 4,
 "nbformat_minor": 2
}
