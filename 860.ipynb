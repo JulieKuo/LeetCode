{
 "cells": [
  {
   "cell_type": "markdown",
   "metadata": {},
   "source": [
    "## 860. Lemonade Change"
   ]
  },
  {
   "cell_type": "markdown",
   "metadata": {},
   "source": [
    "### 1. 建立一個儲存錢包零錢個數的dictionary - temp\n",
    "### 2. 依序加入買家給的零錢和從錢包中找出去的零錢"
   ]
  },
  {
   "cell_type": "code",
   "execution_count": null,
   "metadata": {},
   "outputs": [],
   "source": [
    "class Solution:\n",
    "    def lemonadeChange(self, bills: List[int]) -> bool:\n",
    "        temp = {5: 0, 10: 0, 20: 0}\n",
    "        \n",
    "        for i in bills:\n",
    "            if i == 5:# 給5塊不找零\n",
    "                temp[5] += 1\n",
    "            elif i == 10:# 給10塊找5塊\n",
    "                if temp[5] >= 1:\n",
    "                    temp[5] -= 1\n",
    "                    temp[10] += 1\n",
    "                else:\n",
    "                    return False\n",
    "            else:# 給20塊找15塊\n",
    "                if ((temp[5] >= 1) & (temp[10] >= 1)):# 找一個5塊、一個10塊\n",
    "                    temp[5] -= 1\n",
    "                    temp[10] -= 1\n",
    "                    temp[20] += 1\n",
    "                elif(temp[5] >= 3):# 找三個5塊\n",
    "                    temp[5] -= 3\n",
    "                    temp[20] += 1\n",
    "                else:\n",
    "                    return False\n",
    "                \n",
    "            print(i, temp)\n",
    "\n",
    "        return True"
   ]
  }
 ],
 "metadata": {
  "interpreter": {
   "hash": "c5c899ed1fea65c1aad495f30148e1731af1bcf36c22dbd1b46cba8952568d24"
  },
  "kernelspec": {
   "display_name": "Python 3.9.7 64-bit ('.venv': venv)",
   "name": "python3"
  },
  "language_info": {
   "codemirror_mode": {
    "name": "ipython",
    "version": 3
   },
   "file_extension": ".py",
   "mimetype": "text/x-python",
   "name": "python",
   "nbconvert_exporter": "python",
   "pygments_lexer": "ipython3",
   "version": "3.9.7"
  },
  "orig_nbformat": 4
 },
 "nbformat": 4,
 "nbformat_minor": 2
}
