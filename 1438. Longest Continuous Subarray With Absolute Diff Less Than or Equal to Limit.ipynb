{
 "cells": [
  {
   "cell_type": "markdown",
   "metadata": {},
   "source": [
    "## 1438. Longest Continuous Subarray With Absolute Diff Less Than or Equal to Limit"
   ]
  },
  {
   "cell_type": "code",
   "execution_count": 1,
   "metadata": {},
   "outputs": [],
   "source": [
    "import heapq\n",
    "class Solution:\n",
    "    def longestSubarray(self, nums, limit):\n",
    "        min_heap = []\n",
    "        max_heap = []\n",
    "        res = 0\n",
    "        j = 0\n",
    "        for i in range(len(nums)):\n",
    "            heapq.heappush(min_heap, [nums[i], i])\n",
    "            heapq.heappush(max_heap, [-nums[i], i])\n",
    "            print(f\"push: min_heap = {min_heap}, max_heap = {max_heap}\")\n",
    "\n",
    "            if abs(-max_heap[0][0] - min_heap[0][0]) > limit:\n",
    "\n",
    "                j = min(min_heap[0][1], max_heap[0][1]) + 1\n",
    "                print(f\"|{-max_heap[0][0]} - {min_heap[0][0]}| = {abs(-max_heap[0][0] - min_heap[0][0])} > {limit}, j = {j}\")\n",
    "\n",
    "                while min_heap[0][1] < j:\n",
    "                    heapq.heappop(min_heap)\n",
    "                    print(f\"pop: min_heap = {min_heap}\")\n",
    "                \n",
    "                while max_heap[0][1] < j:\n",
    "                    heapq.heappop(max_heap)\n",
    "                    print(f\"pop: max_heap = {max_heap}\")\n",
    "\n",
    "            print(f\"new: min_heap = {min_heap}, max_heap = {max_heap}\")\n",
    "\n",
    "            res1 = i - j + 1\n",
    "            res = max(res, res1)\n",
    "            \n",
    "            print(f\"i = {i}, j = {j}, res1 = {res1}, res = {res}\\n\")\n",
    "        \n",
    "        return res"
   ]
  },
  {
   "cell_type": "code",
   "execution_count": 2,
   "metadata": {},
   "outputs": [
    {
     "name": "stdout",
     "output_type": "stream",
     "text": [
      "push: min_heap = [[1, 0]], max_heap = [[-1, 0]]\n",
      "new: min_heap = [[1, 0]], max_heap = [[-1, 0]]\n",
      "i = 0, j = 0, res1 = 1, res = 1\n",
      "\n",
      "push: min_heap = [[1, 0], [5, 1]], max_heap = [[-5, 1], [-1, 0]]\n",
      "new: min_heap = [[1, 0], [5, 1]], max_heap = [[-5, 1], [-1, 0]]\n",
      "i = 1, j = 0, res1 = 2, res = 2\n",
      "\n",
      "push: min_heap = [[1, 0], [5, 1], [6, 2]], max_heap = [[-6, 2], [-1, 0], [-5, 1]]\n",
      "|6 - 1| = 5 > 4, j = 1\n",
      "pop: min_heap = [[5, 1], [6, 2]]\n",
      "new: min_heap = [[5, 1], [6, 2]], max_heap = [[-6, 2], [-1, 0], [-5, 1]]\n",
      "i = 2, j = 1, res1 = 2, res = 2\n",
      "\n",
      "push: min_heap = [[5, 1], [6, 2], [7, 3]], max_heap = [[-7, 3], [-6, 2], [-5, 1], [-1, 0]]\n",
      "new: min_heap = [[5, 1], [6, 2], [7, 3]], max_heap = [[-7, 3], [-6, 2], [-5, 1], [-1, 0]]\n",
      "i = 3, j = 1, res1 = 3, res = 3\n",
      "\n",
      "push: min_heap = [[5, 1], [6, 2], [7, 3], [8, 4]], max_heap = [[-8, 4], [-7, 3], [-5, 1], [-1, 0], [-6, 2]]\n",
      "new: min_heap = [[5, 1], [6, 2], [7, 3], [8, 4]], max_heap = [[-8, 4], [-7, 3], [-5, 1], [-1, 0], [-6, 2]]\n",
      "i = 4, j = 1, res1 = 4, res = 4\n",
      "\n",
      "push: min_heap = [[5, 1], [6, 2], [7, 3], [8, 4], [10, 5]], max_heap = [[-10, 5], [-7, 3], [-8, 4], [-1, 0], [-6, 2], [-5, 1]]\n",
      "|10 - 5| = 5 > 4, j = 2\n",
      "pop: min_heap = [[6, 2], [8, 4], [7, 3], [10, 5]]\n",
      "new: min_heap = [[6, 2], [8, 4], [7, 3], [10, 5]], max_heap = [[-10, 5], [-7, 3], [-8, 4], [-1, 0], [-6, 2], [-5, 1]]\n",
      "i = 5, j = 2, res1 = 4, res = 4\n",
      "\n",
      "push: min_heap = [[6, 2], [6, 6], [7, 3], [10, 5], [8, 4]], max_heap = [[-10, 5], [-7, 3], [-8, 4], [-1, 0], [-6, 2], [-5, 1], [-6, 6]]\n",
      "new: min_heap = [[6, 2], [6, 6], [7, 3], [10, 5], [8, 4]], max_heap = [[-10, 5], [-7, 3], [-8, 4], [-1, 0], [-6, 2], [-5, 1], [-6, 6]]\n",
      "i = 6, j = 2, res1 = 5, res = 5\n",
      "\n",
      "push: min_heap = [[5, 7], [6, 6], [6, 2], [10, 5], [8, 4], [7, 3]], max_heap = [[-10, 5], [-7, 3], [-8, 4], [-5, 7], [-6, 2], [-5, 1], [-6, 6], [-1, 0]]\n",
      "|10 - 5| = 5 > 4, j = 6\n",
      "pop: max_heap = [[-8, 4], [-7, 3], [-6, 6], [-5, 7], [-6, 2], [-5, 1], [-1, 0]]\n",
      "pop: max_heap = [[-7, 3], [-6, 2], [-6, 6], [-5, 7], [-1, 0], [-5, 1]]\n",
      "pop: max_heap = [[-6, 2], [-5, 1], [-6, 6], [-5, 7], [-1, 0]]\n",
      "pop: max_heap = [[-6, 6], [-5, 1], [-1, 0], [-5, 7]]\n",
      "new: min_heap = [[5, 7], [6, 6], [6, 2], [10, 5], [8, 4], [7, 3]], max_heap = [[-6, 6], [-5, 1], [-1, 0], [-5, 7]]\n",
      "i = 7, j = 6, res1 = 2, res = 5\n",
      "\n",
      "push: min_heap = [[5, 7], [6, 6], [6, 2], [10, 5], [8, 4], [7, 3], [6, 8]], max_heap = [[-6, 6], [-6, 8], [-1, 0], [-5, 7], [-5, 1]]\n",
      "new: min_heap = [[5, 7], [6, 6], [6, 2], [10, 5], [8, 4], [7, 3], [6, 8]], max_heap = [[-6, 6], [-6, 8], [-1, 0], [-5, 7], [-5, 1]]\n",
      "i = 8, j = 6, res1 = 3, res = 5\n",
      "\n"
     ]
    },
    {
     "data": {
      "text/plain": [
       "5"
      ]
     },
     "execution_count": 2,
     "metadata": {},
     "output_type": "execute_result"
    }
   ],
   "source": [
    "nums = [1,5,6,7,8,10,6,5,6]\n",
    "limit = 4\n",
    "Solution().longestSubarray(nums, limit)"
   ]
  },
  {
   "cell_type": "code",
   "execution_count": null,
   "metadata": {},
   "outputs": [],
   "source": []
  }
 ],
 "metadata": {
  "kernelspec": {
   "display_name": ".venv",
   "language": "python",
   "name": "python3"
  },
  "language_info": {
   "codemirror_mode": {
    "name": "ipython",
    "version": 3
   },
   "file_extension": ".py",
   "mimetype": "text/x-python",
   "name": "python",
   "nbconvert_exporter": "python",
   "pygments_lexer": "ipython3",
   "version": "3.8.10"
  },
  "orig_nbformat": 4,
  "vscode": {
   "interpreter": {
    "hash": "6a07fcf0145f94b3f971c13d061528107de20ab7b779375f96dab9bbac6a85db"
   }
  }
 },
 "nbformat": 4,
 "nbformat_minor": 2
}
