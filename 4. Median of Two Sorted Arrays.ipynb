{
 "cells": [
  {
   "cell_type": "markdown",
   "metadata": {},
   "source": [
    "### 4. Median of Two Sorted Arrays"
   ]
  },
  {
   "cell_type": "code",
   "execution_count": null,
   "metadata": {},
   "outputs": [],
   "source": [
    "class Solution:\n",
    "    def findMedianSortedArrays(self, nums1: List[int], nums2: List[int]) -> float:\n",
    "        nums = nums1+nums2\n",
    "        nums.sort()\n",
    "        if (len(nums) % 2) != 0:\n",
    "            ind = len(nums)//2\n",
    "            return nums[ind]\n",
    "        else:\n",
    "            ind = len(nums)//2\n",
    "            return (nums[ind]+nums[ind-1])/2"
   ]
  },
  {
   "cell_type": "code",
   "execution_count": 58,
   "metadata": {},
   "outputs": [
    {
     "data": {
      "text/plain": [
       "[1, 2]"
      ]
     },
     "execution_count": 58,
     "metadata": {},
     "output_type": "execute_result"
    }
   ],
   "source": [
    "class Solution:\n",
    "    def findMedianSortedArrays(self, nums1: List[int], nums2: List[int]) -> float:\n",
    "        n = len(nums1) + len(nums2)#加總兩list的長度\n",
    "        median_idx = [n // 2, n // 2] if (n % 2) != 0 else [(n // 2) - 1, n // 2] #抓出中位數的位置，為配合長度為偶數時中位數有兩個值，長度為奇數也給兩個一樣的值，最後算中位數時皆會相加除2\n",
    "        \n",
    "        i = 0\n",
    "        temp = []\n",
    "        while nums1 and nums2: #如果兩個list皆不為空值\n",
    "            if nums1[0] < nums2[0]: #比較兩list的第0個值，若nums1 > nums2\n",
    "                temp.append(nums1[0]) #則temp中存入nums1的第0個值\n",
    "                nums1.pop(0) #且nums1現在的第0個值刪除\n",
    "            else:\n",
    "                temp.append(nums2[0])\n",
    "                nums2.pop(0)\n",
    "            \n",
    "            if i == median_idx[1]: #如果temp中的值的個數已經可以推到中位數的位置\n",
    "                return (temp[median_idx[0]]+temp[median_idx[1]])/2 #就返回中位數\n",
    "            i += 1\n",
    "\n",
    "        nums = (temp + nums1) if nums1 else (temp + nums2) #若nums1和nums2其中一個list是空的，就在temp後面加上另一個list\n",
    "        \n",
    "        return (nums[median_idx[0]]+nums[median_idx[1]])/2 #返回中位數"
   ]
  }
 ],
 "metadata": {
  "interpreter": {
   "hash": "d8c1a87e4764ea7881547c536887df2e9c9ef9a1d8b44ae688e9c35499972fab"
  },
  "kernelspec": {
   "display_name": "Python 3.8.9 ('.venv': venv)",
   "language": "python",
   "name": "python3"
  },
  "language_info": {
   "codemirror_mode": {
    "name": "ipython",
    "version": 3
   },
   "file_extension": ".py",
   "mimetype": "text/x-python",
   "name": "python",
   "nbconvert_exporter": "python",
   "pygments_lexer": "ipython3",
   "version": "3.8.9"
  },
  "orig_nbformat": 4
 },
 "nbformat": 4,
 "nbformat_minor": 2
}
