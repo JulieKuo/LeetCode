{
 "cells": [
  {
   "cell_type": "markdown",
   "metadata": {},
   "source": [
    "### 21. Merge Two Sorted Lists"
   ]
  },
  {
   "cell_type": "code",
   "execution_count": null,
   "metadata": {},
   "outputs": [
    {
     "ename": "",
     "evalue": "",
     "output_type": "error",
     "traceback": [
      "\u001b[1;31mRunning cells with '.venv (Python 3.12.8)' requires the ipykernel package.\n",
      "\u001b[1;31mInstall 'ipykernel' into the Python environment. \n",
      "\u001b[1;31mCommand: '/Users/julie/project/.venv/bin/python -m pip install ipykernel -U --force-reinstall'"
     ]
    }
   ],
   "source": [
    "# Definition for singly-linked list.\n",
    "class ListNode:\n",
    "    def __init__(self, val=0, next=None):\n",
    "        self.val = val\n",
    "        self.next = next"
   ]
  },
  {
   "cell_type": "markdown",
   "metadata": {},
   "source": [
    "* 時間複雜度: O($n$ + $m$)  \n",
    "其中 $n$ 是 list1 的長度，$m$ 是 list2 的長度\n",
    "* 空間複雜度: O($1$)  \n",
    "合併後的鏈表是通過重新指向原始鏈表中的節點來構建的，沒有創建新節點"
   ]
  },
  {
   "cell_type": "code",
   "execution_count": null,
   "metadata": {},
   "outputs": [],
   "source": [
    "list1 = ListNode(\n",
    "    val = 1,\n",
    "    next = ListNode(\n",
    "        val = 2,\n",
    "        next = ListNode(\n",
    "            val = 4,\n",
    "            next = None\n",
    "        )\n",
    "    )\n",
    ")\n",
    "# [1,2,4]\n",
    "\n",
    "list2 = ListNode(\n",
    "    val = 1,\n",
    "    next = ListNode(\n",
    "        val = 3,\n",
    "        next = ListNode(\n",
    "            val = 4,\n",
    "            next = None\n",
    "        )\n",
    "    )\n",
    ")\n",
    "# [1,3,4]"
   ]
  },
  {
   "cell_type": "markdown",
   "metadata": {},
   "source": [
    "#### iteration"
   ]
  },
  {
   "cell_type": "code",
   "execution_count": null,
   "metadata": {},
   "outputs": [],
   "source": [
    "from typing import Optional\n",
    "class Solution:\n",
    "    def mergeTwoLists(self, list1: Optional[ListNode], list2: Optional[ListNode]) -> Optional[ListNode]:\n",
    "        # 創建一個虛擬的節點(dummy)，用來作為合併後的鏈表的起點\n",
    "        dummy = ListNode() # space: O(1)\n",
    "        # current 用來追蹤合併後的鏈表的最後一個節點\n",
    "        current = dummy # space: O(1)\n",
    "\n",
    "        # 當 list1 和 list2 都不為空時，進行合併\n",
    "        while list1 and list2:\n",
    "            # 如果 list1 的當前節點的值小於 list2 的當前節點的值\n",
    "            if list1.val < list2.val:\n",
    "                # 將 list1 的當前節點連接到合併後的鏈表\n",
    "                current.next = list1\n",
    "                # 將 list1 指向它的下一個節點\n",
    "                list1 = list1.next\n",
    "            else:\n",
    "                # 否則將 list2 的當前節點連接到合併後的鏈表\n",
    "                current.next = list2\n",
    "                # 將 list2 指向它的下一個節點\n",
    "                list2 = list2.next\n",
    "                \n",
    "            # 移動 current 到合併後鏈表的下一個節點\n",
    "            current = current.next\n",
    "        \n",
    "        # 如果 list1 還有剩餘的節點，將其連接到合併後的鏈表\n",
    "        if list1:\n",
    "            current.next = list1\n",
    "        else:\n",
    "            # 否則將 list2 的剩餘節點連接到合併後的鏈表\n",
    "            current.next = list2\n",
    "\n",
    "        # 返回合併後的鏈表，跳過虛擬節點(dummy)\n",
    "        return dummy.next"
   ]
  },
  {
   "cell_type": "code",
   "execution_count": null,
   "metadata": {},
   "outputs": [],
   "source": [
    "result = Solution().mergeTwoLists(list1, list2)\n",
    "while result:\n",
    "    print(result.val, end = ' ')\n",
    "    result = result.next"
   ]
  },
  {
   "cell_type": "markdown",
   "metadata": {},
   "source": [
    "#### recursion"
   ]
  },
  {
   "cell_type": "code",
   "execution_count": null,
   "metadata": {},
   "outputs": [],
   "source": [
    "from typing import Optional\n",
    "class Solution:\n",
    "    def mergeTwoLists(self, list1: Optional[ListNode], list2: Optional[ListNode]) -> Optional[ListNode]:\n",
    "        if not list1:\n",
    "            return list2\n",
    "        \n",
    "        if not list2:\n",
    "            return list1\n",
    "        \n",
    "        if list1.val < list2.val:\n",
    "            list1.next = self.mergeTwoLists(list1.next, list2)\n",
    "            return list1\n",
    "        else:\n",
    "            list2.next = self.mergeTwoLists(list1, list2.next)\n",
    "            return list2"
   ]
  },
  {
   "cell_type": "code",
   "execution_count": null,
   "metadata": {},
   "outputs": [],
   "source": [
    "result = Solution().mergeTwoLists(list1, list2)"
   ]
  }
 ],
 "metadata": {
  "kernelspec": {
   "display_name": ".venv",
   "language": "python",
   "name": "python3"
  },
  "language_info": {
   "codemirror_mode": {
    "name": "ipython",
    "version": 3
   },
   "file_extension": ".py",
   "mimetype": "text/x-python",
   "name": "python",
   "nbconvert_exporter": "python",
   "pygments_lexer": "ipython3",
   "version": "3.12.8"
  }
 },
 "nbformat": 4,
 "nbformat_minor": 2
}
