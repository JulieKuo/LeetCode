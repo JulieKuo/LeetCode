{
 "cells": [
  {
   "cell_type": "markdown",
   "metadata": {},
   "source": [
    "### 22. Generate Parentheses"
   ]
  },
  {
   "cell_type": "code",
   "execution_count": 1,
   "metadata": {},
   "outputs": [],
   "source": [
    "n = 3\n",
    "# Output: [\"((()))\",\"(()())\",\"(())()\",\"()(())\",\"()()()\"]\n",
    "\n",
    "# n = 1\n",
    "# Output: [\"()\"]"
   ]
  },
  {
   "cell_type": "code",
   "execution_count": 2,
   "metadata": {},
   "outputs": [],
   "source": [
    "class Solution:\n",
    "    def generateParenthesis(self, n: int) -> list:\n",
    "        self.res = []\n",
    "        self.dfs(left = 0, right = 0, n = n, s = \"\")\n",
    "\n",
    "        return self.res\n",
    "    \n",
    "    def dfs(self, left, right, n, s):\n",
    "        if (left == n) and (right == n):  # 如果左右括號數量均已達到上限\n",
    "            self.res.append(s)  # 將目前的括號組合加入結果列表\n",
    "\n",
    "            return\n",
    "        \n",
    "        if left < n:  # 若左括號數量還未達上限\n",
    "            self.dfs(left = (left + 1), right = right,       n = n, s = (s + \"(\"))  # 嘗試加入左括號\n",
    "        \n",
    "        if left > right:  # 若右括號數量小於左括號數量\n",
    "            self.dfs(left = left,       right = (right + 1), n = n, s = (s + \")\"))  # 嘗試加入右括號"
   ]
  },
  {
   "cell_type": "code",
   "execution_count": 3,
   "metadata": {},
   "outputs": [
    {
     "data": {
      "text/plain": [
       "['((()))', '(()())', '(())()', '()(())', '()()()']"
      ]
     },
     "execution_count": 3,
     "metadata": {},
     "output_type": "execute_result"
    }
   ],
   "source": [
    "Solution().generateParenthesis(n)"
   ]
  }
 ],
 "metadata": {
  "kernelspec": {
   "display_name": ".venv",
   "language": "python",
   "name": "python3"
  },
  "language_info": {
   "codemirror_mode": {
    "name": "ipython",
    "version": 3
   },
   "file_extension": ".py",
   "mimetype": "text/x-python",
   "name": "python",
   "nbconvert_exporter": "python",
   "pygments_lexer": "ipython3",
   "version": "3.8.10"
  }
 },
 "nbformat": 4,
 "nbformat_minor": 2
}
