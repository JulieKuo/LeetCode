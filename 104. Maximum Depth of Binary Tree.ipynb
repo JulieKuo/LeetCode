{
 "cells": [
  {
   "cell_type": "markdown",
   "metadata": {},
   "source": [
    "### 104. Maximum Depth of Binary Tree"
   ]
  },
  {
   "cell_type": "code",
   "execution_count": 1,
   "metadata": {},
   "outputs": [],
   "source": [
    "# Definition for a binary tree node.\n",
    "class TreeNode:\n",
    "    def __init__(self, val=0, left=None, right=None):\n",
    "        self.val = val\n",
    "        self.left = left\n",
    "        self.right = right"
   ]
  },
  {
   "cell_type": "markdown",
   "metadata": {},
   "source": [
    "### DFS"
   ]
  },
  {
   "cell_type": "markdown",
   "metadata": {},
   "source": [
    "**時間複雜度: $O(n)$**  \n",
    "**空間複雜度: $O(n)$**\n",
    "\n",
    "最壞情況：$O(n)$（完全不平衡的樹）  \n",
    "最佳情況：$O(log n)$（平衡樹）"
   ]
  },
  {
   "cell_type": "code",
   "execution_count": 2,
   "metadata": {},
   "outputs": [],
   "source": [
    "root = TreeNode(\n",
    "    val = 3,\n",
    "    left = TreeNode(\n",
    "        val = 9,\n",
    "        left = None,\n",
    "        right = None\n",
    "    ),\n",
    "    right = TreeNode(\n",
    "        val = 20,\n",
    "        left = TreeNode(\n",
    "            val = 15,\n",
    "            left = None,\n",
    "            right = None\n",
    "        ),\n",
    "        right = TreeNode(\n",
    "            val = 7,\n",
    "            left = None,\n",
    "            right = None\n",
    "        ),\n",
    "    )\n",
    ")"
   ]
  },
  {
   "cell_type": "code",
   "execution_count": 3,
   "metadata": {},
   "outputs": [],
   "source": [
    "from typing import Optional\n",
    "\n",
    "class Solution:\n",
    "    def maxDepth(self, root: Optional[TreeNode]) -> int:\n",
    "        # print(\"-\" *200)\n",
    "        # 若根節點為空，代表樹為空，深度為 0\n",
    "        if not root:\n",
    "            # print(\"not root\")\n",
    "            return 0\n",
    "\n",
    "        # print(f\"root.val = {root.val}\")\n",
    "\n",
    "\n",
    "        # print(f\"{root.val} - left\")\n",
    "        left = self.maxDepth(root.left) # 遞迴計算左子樹的最大深度\n",
    "        # print(f\"{root.val} - left = {left}\")\n",
    "\n",
    "        \n",
    "        # print(f\"{root.val} - right\")\n",
    "        right = self.maxDepth(root.right) # 遞迴計算右子樹的最大深度\n",
    "        # print(f\"{root.val} - right = {right}\")\n",
    "\n",
    "\n",
    "        # print(f\"- return (max({left}, {right}) + 1) = {max(left, right) + 1}\")\n",
    "        return max(left, right) + 1 # 回傳左右子樹最大深度中的較大者 + 1（加上根節點本身這一層）"
   ]
  },
  {
   "cell_type": "code",
   "execution_count": 4,
   "metadata": {},
   "outputs": [
    {
     "data": {
      "text/plain": [
       "3"
      ]
     },
     "execution_count": 4,
     "metadata": {},
     "output_type": "execute_result"
    }
   ],
   "source": [
    "# Input: root = [3,9,20,null,null,15,7]  \n",
    "# Output: 3\n",
    "\n",
    "Solution().maxDepth(root)"
   ]
  },
  {
   "cell_type": "markdown",
   "metadata": {},
   "source": [
    "### BFS"
   ]
  },
  {
   "cell_type": "markdown",
   "metadata": {},
   "source": [
    "**時間複雜度: $O(n)$**  \n",
    "**空間複雜度: $O(n)$**"
   ]
  },
  {
   "cell_type": "code",
   "execution_count": 5,
   "metadata": {},
   "outputs": [],
   "source": [
    "root = TreeNode(\n",
    "    val = 3,\n",
    "    left = TreeNode(\n",
    "        val = 9,\n",
    "        left = None,\n",
    "        right = None\n",
    "    ),\n",
    "    right = TreeNode(\n",
    "        val = 20,\n",
    "        left = TreeNode(\n",
    "            val = 15,\n",
    "            left = None,\n",
    "            right = None\n",
    "        ),\n",
    "        right = TreeNode(\n",
    "            val = 7,\n",
    "            left = None,\n",
    "            right = None\n",
    "        ),\n",
    "    )\n",
    ")"
   ]
  },
  {
   "cell_type": "code",
   "execution_count": 6,
   "metadata": {},
   "outputs": [],
   "source": [
    "from typing import Optional\n",
    "from collections import deque\n",
    "\n",
    "class Solution:\n",
    "    def maxDepth(self, root: Optional[TreeNode]) -> int:\n",
    "        # 若根節點為空，代表樹的深度為 0\n",
    "        if not root:\n",
    "            return 0\n",
    "        \n",
    "        # 使用雙端隊列實作 BFS 的 queue，初始放入根節點\n",
    "        queue = deque([root])\n",
    "        # 記錄樹的最大深度（層數）\n",
    "        level = 0\n",
    "\n",
    "        # 當隊列不為空時，持續進行 BFS\n",
    "        while queue:\n",
    "            # 當前層的節點數量（用來控制一層一層地遍歷）\n",
    "            length = len(queue)\n",
    "            for _ in range(length):\n",
    "                # 從隊列中取出一個節點\n",
    "                node = queue.popleft()\n",
    "                \n",
    "                # 如果有左子節點，加入隊列中等待後續處理\n",
    "                if node.left:\n",
    "                    queue.append(node.left)\n",
    "                # 如果有右子節點，加入隊列中等待後續處理\n",
    "                if node.right:\n",
    "                    queue.append(node.right)\n",
    "\n",
    "            # 每完成一層的遍歷，深度加一\n",
    "            level += 1\n",
    "\n",
    "        return level"
   ]
  },
  {
   "cell_type": "code",
   "execution_count": 7,
   "metadata": {},
   "outputs": [
    {
     "data": {
      "text/plain": [
       "3"
      ]
     },
     "execution_count": 7,
     "metadata": {},
     "output_type": "execute_result"
    }
   ],
   "source": [
    "# Input: root = [3,9,20,null,null,15,7]  \n",
    "# Output: 3\n",
    "\n",
    "Solution().maxDepth(root)"
   ]
  }
 ],
 "metadata": {
  "kernelspec": {
   "display_name": ".venv (3.12.8)",
   "language": "python",
   "name": "python3"
  },
  "language_info": {
   "codemirror_mode": {
    "name": "ipython",
    "version": 3
   },
   "file_extension": ".py",
   "mimetype": "text/x-python",
   "name": "python",
   "nbconvert_exporter": "python",
   "pygments_lexer": "ipython3",
   "version": "3.12.8"
  },
  "orig_nbformat": 4
 },
 "nbformat": 4,
 "nbformat_minor": 2
}
