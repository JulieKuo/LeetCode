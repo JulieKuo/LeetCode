{
 "cells": [
  {
   "cell_type": "markdown",
   "metadata": {},
   "source": [
    "### 104. Maximum Depth of Binary Tree"
   ]
  },
  {
   "cell_type": "code",
   "execution_count": 1,
   "metadata": {},
   "outputs": [],
   "source": [
    "# Definition for a binary tree node.\n",
    "class TreeNode:\n",
    "    def __init__(self, val=0, left=None, right=None):\n",
    "        self.val = val\n",
    "        self.left = left\n",
    "        self.right = right"
   ]
  },
  {
   "cell_type": "code",
   "execution_count": 2,
   "metadata": {},
   "outputs": [],
   "source": [
    "root = TreeNode(\n",
    "    val = 3,\n",
    "    left = TreeNode(\n",
    "        val = 9,\n",
    "        left = None,\n",
    "        right = None\n",
    "    ),\n",
    "    right = TreeNode(\n",
    "        val = 20,\n",
    "        left = TreeNode(\n",
    "            val = 15,\n",
    "            left = None,\n",
    "            right = None\n",
    "        ),\n",
    "        right = TreeNode(\n",
    "            val = 7,\n",
    "            left = None,\n",
    "            right = None\n",
    "        ),\n",
    "    )\n",
    ")\n",
    "\n",
    "# Input: root = [3,9,20,null,null,15,7]  \n",
    "# Output: 3"
   ]
  },
  {
   "cell_type": "code",
   "execution_count": 3,
   "metadata": {},
   "outputs": [],
   "source": [
    "class Solution:\n",
    "    def maxDepth(self, root):\n",
    "        print(\"-\" *200)\n",
    "        if not root:\n",
    "            print(\"not root\")\n",
    "            return 0\n",
    "\n",
    "        print(f\"root.val = {root.val}\")\n",
    "\n",
    "\n",
    "        print(f\"{root.val} - left\")\n",
    "        left = self.maxDepth(root.left)\n",
    "        print(f\"{root.val} - left = {left}\")\n",
    "\n",
    "        \n",
    "        print(f\"{root.val} - right\")\n",
    "        right = self.maxDepth(root.right)\n",
    "        print(f\"{root.val} - right = {right}\")\n",
    "\n",
    "\n",
    "        print(f\"- return (max({left}, {right}) + 1) = {max(left, right) + 1}\")\n",
    "        return max(left, right) + 1"
   ]
  },
  {
   "cell_type": "code",
   "execution_count": 4,
   "metadata": {},
   "outputs": [
    {
     "name": "stdout",
     "output_type": "stream",
     "text": [
      "--------------------------------------------------------------------------------------------------------------------------------------------------------------------------------------------------------\n",
      "root.val = 3\n",
      "3 - left\n",
      "--------------------------------------------------------------------------------------------------------------------------------------------------------------------------------------------------------\n",
      "root.val = 9\n",
      "9 - left\n",
      "--------------------------------------------------------------------------------------------------------------------------------------------------------------------------------------------------------\n",
      "not root\n",
      "9 - left = 0\n",
      "9 - right\n",
      "--------------------------------------------------------------------------------------------------------------------------------------------------------------------------------------------------------\n",
      "not root\n",
      "9 - right = 0\n",
      "- return (max(0, 0) + 1) = 1\n",
      "3 - left = 1\n",
      "3 - right\n",
      "--------------------------------------------------------------------------------------------------------------------------------------------------------------------------------------------------------\n",
      "root.val = 20\n",
      "20 - left\n",
      "--------------------------------------------------------------------------------------------------------------------------------------------------------------------------------------------------------\n",
      "root.val = 15\n",
      "15 - left\n",
      "--------------------------------------------------------------------------------------------------------------------------------------------------------------------------------------------------------\n",
      "not root\n",
      "15 - left = 0\n",
      "15 - right\n",
      "--------------------------------------------------------------------------------------------------------------------------------------------------------------------------------------------------------\n",
      "not root\n",
      "15 - right = 0\n",
      "- return (max(0, 0) + 1) = 1\n",
      "20 - left = 1\n",
      "20 - right\n",
      "--------------------------------------------------------------------------------------------------------------------------------------------------------------------------------------------------------\n",
      "root.val = 7\n",
      "7 - left\n",
      "--------------------------------------------------------------------------------------------------------------------------------------------------------------------------------------------------------\n",
      "not root\n",
      "7 - left = 0\n",
      "7 - right\n",
      "--------------------------------------------------------------------------------------------------------------------------------------------------------------------------------------------------------\n",
      "not root\n",
      "7 - right = 0\n",
      "- return (max(0, 0) + 1) = 1\n",
      "20 - right = 1\n",
      "- return (max(1, 1) + 1) = 2\n",
      "3 - right = 2\n",
      "- return (max(1, 2) + 1) = 3\n"
     ]
    },
    {
     "data": {
      "text/plain": [
       "3"
      ]
     },
     "execution_count": 4,
     "metadata": {},
     "output_type": "execute_result"
    }
   ],
   "source": [
    "Solution().maxDepth(root)"
   ]
  }
 ],
 "metadata": {
  "kernelspec": {
   "display_name": ".venv",
   "language": "python",
   "name": "python3"
  },
  "language_info": {
   "codemirror_mode": {
    "name": "ipython",
    "version": 3
   },
   "file_extension": ".py",
   "mimetype": "text/x-python",
   "name": "python",
   "nbconvert_exporter": "python",
   "pygments_lexer": "ipython3",
   "version": "3.8.10"
  },
  "orig_nbformat": 4
 },
 "nbformat": 4,
 "nbformat_minor": 2
}
