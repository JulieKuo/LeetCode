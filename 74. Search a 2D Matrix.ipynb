{
 "cells": [
  {
   "cell_type": "markdown",
   "metadata": {},
   "source": [
    "## 74. Search a 2D Matrix"
   ]
  },
  {
   "cell_type": "code",
   "execution_count": 1,
   "metadata": {},
   "outputs": [],
   "source": [
    "class Solution:\n",
    "    def searchMatrix(self, matrix, target):\n",
    "        print(f\"matrix = {matrix}\")\n",
    "        row = len(matrix)\n",
    "        col = len(matrix[0])\n",
    "        left = 0\n",
    "        right = (row * col) - 1\n",
    "        \n",
    "        while left <= right:\n",
    "            mid = (left + right) // 2\n",
    "            value = matrix[mid // col][mid % col]\n",
    "\n",
    "            print(f\"left = {left}, mid = {mid}, right = {right}\")\n",
    "            print(f\"matrix[{mid} // {col}][{mid} % {col}] = matrix[{mid // col}][{mid % col}] = value = {value}, target = {target}\\n\")\n",
    "\n",
    "            if value == target:\n",
    "                return True\n",
    "            elif value < target:\n",
    "                left = mid + 1\n",
    "            else:\n",
    "                right = mid - 1\n",
    "        \n",
    "        return False\n"
   ]
  },
  {
   "cell_type": "code",
   "execution_count": 2,
   "metadata": {},
   "outputs": [
    {
     "name": "stdout",
     "output_type": "stream",
     "text": [
      "matrix = [[1, 3, 5, 7], [10, 11, 16, 20], [23, 30, 34, 50]]\n",
      "left = 0, mid = 5, right = 11\n",
      "matrix[5 // 4][5 % 4] = matrix[1][1] = value = 11, target = 3\n",
      "\n",
      "left = 0, mid = 2, right = 4\n",
      "matrix[2 // 4][2 % 4] = matrix[0][2] = value = 5, target = 3\n",
      "\n",
      "left = 0, mid = 0, right = 1\n",
      "matrix[0 // 4][0 % 4] = matrix[0][0] = value = 1, target = 3\n",
      "\n",
      "left = 1, mid = 1, right = 1\n",
      "matrix[1 // 4][1 % 4] = matrix[0][1] = value = 3, target = 3\n",
      "\n"
     ]
    },
    {
     "data": {
      "text/plain": [
       "True"
      ]
     },
     "execution_count": 2,
     "metadata": {},
     "output_type": "execute_result"
    }
   ],
   "source": [
    "matrix = [[1,3,5,7],[10,11,16,20],[23,30,34,50]]\n",
    "target = 3\n",
    "\n",
    "# matrix = [[1,3,5,7],[10,11,16,20],[23,30,34,60]]\n",
    "# target = 13\n",
    "\n",
    "Solution().searchMatrix(matrix, target)"
   ]
  }
 ],
 "metadata": {
  "kernelspec": {
   "display_name": ".venv",
   "language": "python",
   "name": "python3"
  },
  "language_info": {
   "codemirror_mode": {
    "name": "ipython",
    "version": 3
   },
   "file_extension": ".py",
   "mimetype": "text/x-python",
   "name": "python",
   "nbconvert_exporter": "python",
   "pygments_lexer": "ipython3",
   "version": "3.8.10"
  },
  "orig_nbformat": 4,
  "vscode": {
   "interpreter": {
    "hash": "6a07fcf0145f94b3f971c13d061528107de20ab7b779375f96dab9bbac6a85db"
   }
  }
 },
 "nbformat": 4,
 "nbformat_minor": 2
}
