{
 "cells": [
  {
   "cell_type": "markdown",
   "metadata": {},
   "source": [
    "## 148. Sort List"
   ]
  },
  {
   "cell_type": "code",
   "execution_count": null,
   "metadata": {},
   "outputs": [],
   "source": []
  },
  {
   "cell_type": "code",
   "execution_count": null,
   "metadata": {},
   "outputs": [],
   "source": []
  },
  {
   "cell_type": "code",
   "execution_count": null,
   "metadata": {},
   "outputs": [],
   "source": [
    "# Definition for singly-linked list.\n",
    "# class ListNode:\n",
    "#     def __init__(self, val=0, next=None):\n",
    "#         self.val = val\n",
    "#         self.next = next\n",
    "class Solution:\n",
    "    def sortList(self, head: Optional[ListNode]) -> Optional[ListNode]:\n",
    "        if not head or not head.next:\n",
    "            return head\n",
    "        \n",
    "        pre, slow, fast = head, head, head\n",
    "        while fast and fast.next:\n",
    "            pre = slow\n",
    "            slow = slow.next\n",
    "            fast = fast.next.next\n",
    "        pre.next = None\n",
    "        # print(f\"head:{head}\")\n",
    "        # print(f\"slow:{slow}\")\n",
    "        \n",
    "        # print(\"+++++++++++\")\n",
    "        # print(f\"head:{head}\")\n",
    "        l1 = self.sortList(head)\n",
    "        # print(f\"l1:{l1}\")\n",
    "        \n",
    "        # print(\"----------\")\n",
    "        # print(f\"slow:{slow}\")\n",
    "        l2 = self.sortList(slow)\n",
    "#         print(f\"l2:{l2}\")\n",
    "        \n",
    "#         print('==========merge===========')\n",
    "        \n",
    "        return self.mergeTwoLists(l1, l2)\n",
    "    \n",
    "    def mergeTwoLists(self, l1, l2):\n",
    "        head1 = ListNode(0)\n",
    "        move = head1\n",
    "        while l1 and l2:\n",
    "            if l1.val < l2.val:\n",
    "                move.next = l1\n",
    "                l1 = l1.next\n",
    "            else:\n",
    "                move.next = l2\n",
    "                l2 = l2.next\n",
    "            move = move.next\n",
    "        move.next = l1 if l1 else l2\n",
    "        return head1.next"
   ]
  }
 ],
 "metadata": {
  "interpreter": {
   "hash": "c5c899ed1fea65c1aad495f30148e1731af1bcf36c22dbd1b46cba8952568d24"
  },
  "kernelspec": {
   "display_name": "Python 3.9.7 64-bit ('.venv': venv)",
   "name": "python3"
  },
  "language_info": {
   "codemirror_mode": {
    "name": "ipython",
    "version": 3
   },
   "file_extension": ".py",
   "mimetype": "text/x-python",
   "name": "python",
   "nbconvert_exporter": "python",
   "pygments_lexer": "ipython3",
   "version": "3.9.7"
  },
  "orig_nbformat": 4
 },
 "nbformat": 4,
 "nbformat_minor": 2
}
