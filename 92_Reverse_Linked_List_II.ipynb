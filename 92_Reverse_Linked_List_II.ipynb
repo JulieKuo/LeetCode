{
 "cells": [
  {
   "cell_type": "markdown",
   "metadata": {},
   "source": [
    "### 92. Reverse Linked List II"
   ]
  },
  {
   "cell_type": "markdown",
   "metadata": {},
   "source": [
    "可先參考206. Reverse Linked List"
   ]
  },
  {
   "cell_type": "code",
   "execution_count": null,
   "metadata": {},
   "outputs": [],
   "source": [
    "# Definition for singly-linked list.\n",
    "# class ListNode:\n",
    "#     def __init__(self, val=0, next=None):\n",
    "#         self.val = val\n",
    "#         self.next = next\n",
    "class Solution:\n",
    "    def reverseBetween(self, head: Optional[ListNode], left: int, right: int) -> Optional[ListNode]:\n",
    "        if left == right: #左右相同，不需要排序，直接返回\n",
    "            return head\n",
    "        \n",
    "        def reverse(head2, left, right):\n",
    "            print(f\"head2 = {head2}\")\n",
    "            curr = head2 #head2不動，只改動curr (curr移到第n個node的時候，head2還是在第0個node)\n",
    "            pre = None\n",
    "            for _ in range(right - left + 1): #需要排序的node數\n",
    "                temp = curr.next\n",
    "                curr.next = pre\n",
    "                pre = curr\n",
    "                curr = temp\n",
    "            \n",
    "            print(\"排序後\")\n",
    "            print(f\"head2 = {head2}\")\n",
    "            print(f\"curr = {curr}\")\n",
    "            print(f\"pre = {pre}\")\n",
    "            #排序完後加上後面不須排序的部分\n",
    "            #  若一開始head2 = [2,3,4,5]、left = 2、right = 4\n",
    "            #    因為在第一個迴圈時curr.next = pre = None，所以head2後面也會跟著改變，head2 = [2]\n",
    "            #    跑完迴圈後curr會等於不需要排序的部分，此時curr = [5]、pre = [4, 3, 2]\n",
    "            #    因為pre是從curr來的，curr是從head2來的，所以改變head2的排序，pre也會改變\n",
    "            #    head2 = [2]的node後面接curr，此時head2 = [2, 5]，連帶著pre = [2]的node後面也會改變，此時pre = [4, 3, 2, 5]          \n",
    "            head2.next = curr\n",
    "            print(f\"加上未排序的部分，pre = {pre}\\n\")\n",
    "            \n",
    "            return pre\n",
    "        \n",
    "        \n",
    "        print(f\"head = {head}\")\n",
    "        if left == 1: #如果left = 1，直接把head放到reverse function做排序，排完直接返回\n",
    "            sort = reverse(head, left, right)\n",
    "            return sort\n",
    "        \n",
    "        head1 = head #head不動，只改動head1 (head1移到第n個node的時候，head還是在第0個node)\n",
    "        for _ in range(1, left - 1): #先把head1移到要開始排序的node的前一個node，之後才能把排序好的部分直接接在後面\n",
    "            head1 = head1.next\n",
    "        print(f\"head1 = {head1}\")\n",
    "        \n",
    "        print(f\"head1.next = {head1.next}\\n\")\n",
    "        sort = reverse(head1.next, left, right) #開始排序，head1.next是開始排序的第一個node\n",
    "        \n",
    "        head1.next = sort #head1(不須排序的部分的最後一個node)後面加上排序好的部分，因為head1是從head得來的，所以head1改變的部分，head也改變\n",
    "        \n",
    "        return head"
   ]
  },
  {
   "cell_type": "code",
   "execution_count": null,
   "metadata": {},
   "outputs": [],
   "source": [
    "# head = ListNode{val: 1, next: ListNode{val: 2, next: ListNode{val: 3, next: ListNode{val: 4, next: ListNode{val: 5, next: None}}}}}\n",
    "# head1 = ListNode{val: 1, next: ListNode{val: 2, next: ListNode{val: 3, next: ListNode{val: 4, next: ListNode{val: 5, next: None}}}}}\n",
    "# head1.next = ListNode{val: 2, next: ListNode{val: 3, next: ListNode{val: 4, next: ListNode{val: 5, next: None}}}}\n",
    "\n",
    "# head2 = ListNode{val: 2, next: ListNode{val: 3, next: ListNode{val: 4, next: ListNode{val: 5, next: None}}}}\n",
    "# 排序後\n",
    "# head2 = ListNode{val: 2, next: None}\n",
    "# curr = ListNode{val: 5, next: None}\n",
    "# pre = ListNode{val: 4, next: ListNode{val: 3, next: ListNode{val: 2, next: None}}}\n",
    "# 加上未排序的部分，pre = ListNode{val: 4, next: ListNode{val: 3, next: ListNode{val: 2, next: ListNode{val: 5, next: None}}}}"
   ]
  }
 ],
 "metadata": {
  "interpreter": {
   "hash": "d8c1a87e4764ea7881547c536887df2e9c9ef9a1d8b44ae688e9c35499972fab"
  },
  "kernelspec": {
   "display_name": "Python 3.8.9 ('.venv': venv)",
   "language": "python",
   "name": "python3"
  },
  "language_info": {
   "codemirror_mode": {
    "name": "ipython",
    "version": 3
   },
   "file_extension": ".py",
   "mimetype": "text/x-python",
   "name": "python",
   "nbconvert_exporter": "python",
   "pygments_lexer": "ipython3",
   "version": "3.8.9"
  },
  "orig_nbformat": 4
 },
 "nbformat": 4,
 "nbformat_minor": 2
}
