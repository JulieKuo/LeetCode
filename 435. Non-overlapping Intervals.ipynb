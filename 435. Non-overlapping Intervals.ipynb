{
 "cells": [
  {
   "cell_type": "markdown",
   "metadata": {
    "vscode": {
     "languageId": "plaintext"
    }
   },
   "source": [
    "### 435. Non-overlapping Intervals"
   ]
  },
  {
   "cell_type": "markdown",
   "metadata": {},
   "source": [
    "**時間複雜度: O( $n \\cdot  log{_2}{n}$ )**  \n",
    "**空間複雜度: O( $n$ )**"
   ]
  },
  {
   "cell_type": "code",
   "execution_count": 1,
   "metadata": {},
   "outputs": [],
   "source": [
    "from typing import List\n",
    "\n",
    "class Solution:\n",
    "    def eraseOverlapIntervals(self, intervals: List[List[int]]) -> int:\n",
    "        # 如果 intervals 為空，直接返回 0，因為沒有區間需要處理\n",
    "        if not intervals:\n",
    "            return 0\n",
    "\n",
    "        # 將 intervals 按照每個區間的結束時間 (x[1]) 進行排序\n",
    "        # 用貪心算法選擇最少的重疊區間\n",
    "        intervals = sorted(intervals, key=lambda x: x[1]) # time: O(nlogn) # space: O(n)\n",
    "        print(f\"{intervals=}\\n\")\n",
    "\n",
    "        count = 0 # 需要移除的區間數量\n",
    "        pre_end = float(\"-inf\") # 前一個區間的結束時間\n",
    "        for start, end in intervals: # time: O(n)\n",
    "            print(f\"[start, end] = [{start}, {end}], {pre_end=}, {count=}\")\n",
    "            # 如果當前區間的起始時間小於上一個有效區間的結束時間 pre_end\n",
    "            # 表示這兩個區間有重疊，需要移除當前區間\n",
    "            if pre_end > start:\n",
    "                count += 1\n",
    "            else:\n",
    "                pre_end = end # 更新有效區間的結束時間\n",
    "            print(f\"-> {pre_end=}, {count=}\")\n",
    "\n",
    "        return count"
   ]
  },
  {
   "cell_type": "code",
   "execution_count": 2,
   "metadata": {},
   "outputs": [
    {
     "name": "stdout",
     "output_type": "stream",
     "text": [
      "intervals=[[1, 2], [2, 3], [1, 3], [3, 4]]\n",
      "\n",
      "[start, end] = [1, 2], pre_end=-inf, count=0\n",
      "-> pre_end=2, count=0\n",
      "[start, end] = [2, 3], pre_end=2, count=0\n",
      "-> pre_end=3, count=0\n",
      "[start, end] = [1, 3], pre_end=3, count=0\n",
      "-> pre_end=3, count=1\n",
      "[start, end] = [3, 4], pre_end=3, count=1\n",
      "-> pre_end=4, count=1\n"
     ]
    },
    {
     "data": {
      "text/plain": [
       "1"
      ]
     },
     "execution_count": 2,
     "metadata": {},
     "output_type": "execute_result"
    }
   ],
   "source": [
    "intervals = [[1,2],[2,3],[3,4],[1,3]]\n",
    "Solution().eraseOverlapIntervals(intervals) # 1"
   ]
  }
 ],
 "metadata": {
  "kernelspec": {
   "display_name": ".venv",
   "language": "python",
   "name": "python3"
  },
  "language_info": {
   "codemirror_mode": {
    "name": "ipython",
    "version": 3
   },
   "file_extension": ".py",
   "mimetype": "text/x-python",
   "name": "python",
   "nbconvert_exporter": "python",
   "pygments_lexer": "ipython3",
   "version": "3.11.11"
  }
 },
 "nbformat": 4,
 "nbformat_minor": 2
}
