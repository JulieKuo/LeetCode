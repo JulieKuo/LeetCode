{
 "cells": [
  {
   "cell_type": "markdown",
   "metadata": {},
   "source": [
    "## 706. Design HashMap"
   ]
  },
  {
   "cell_type": "code",
   "execution_count": null,
   "metadata": {},
   "outputs": [],
   "source": [
    "class MyHashMap:\n",
    "\n",
    "    def __init__(self):\n",
    "        self.Key = []\n",
    "        self.Value = []\n",
    "\n",
    "    def put(self, key: int, value: int) -> None:\n",
    "        if key not in self.Key:\n",
    "            self.Key.append(key)\n",
    "            self.Value.append(value)\n",
    "        else:\n",
    "            ind = self.Key.index(key)\n",
    "            self.Value[ind] = value\n",
    "        return self.Key, self.Value\n",
    "\n",
    "    def get(self, key: int) -> int:\n",
    "        if key in self.Key:\n",
    "            ind = self.Key.index(key)\n",
    "            value = self.Value[ind]\n",
    "            return value\n",
    "        else:\n",
    "            return -1\n",
    "\n",
    "    def remove(self, key: int) -> None:\n",
    "        if key in self.Key:\n",
    "            ind = self.Key.index(key)\n",
    "            self.Key.pop(ind)\n",
    "            self.Value.pop(ind)\n",
    "        return self.Key, self.Value\n",
    "        \n",
    "\n",
    "\n",
    "# Your MyHashMap object will be instantiated and called as such:\n",
    "# obj = MyHashMap()\n",
    "# obj.put(key,value)\n",
    "# param_2 = obj.get(key)\n",
    "# obj.remove(key)"
   ]
  }
 ],
 "metadata": {
  "language_info": {
   "name": "python"
  },
  "orig_nbformat": 4
 },
 "nbformat": 4,
 "nbformat_minor": 2
}
