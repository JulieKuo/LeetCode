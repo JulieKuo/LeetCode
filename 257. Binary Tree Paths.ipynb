{
 "cells": [
  {
   "cell_type": "markdown",
   "metadata": {},
   "source": [
    "257. Binary Tree Paths"
   ]
  },
  {
   "cell_type": "markdown",
   "metadata": {},
   "source": [
    "**時間複雜度: $O( n )$**  \n",
    "**空間複雜度: $O( L \\times H )$**\n",
    "\n",
    "- 遞迴空間 $O( H )$   \n",
    "  若二元樹的高度為 $H$\n",
    "  - 在最好的情況（完全平衡樹）下，$H = log{_2}{n}$\n",
    "    ``` md\n",
    "        1\n",
    "      /  \\\n",
    "      2    3\n",
    "    /\n",
    "    4\n",
    "\n",
    "    ```\n",
    "  - 在最壞情況（退化成鏈狀樹）下，$H = n$\n",
    "    ``` md\n",
    "    1\n",
    "    \\\n",
    "      2\n",
    "      \\\n",
    "        3\n",
    "        \\\n",
    "          4\n",
    "    ```\n",
    "\n",
    "- 結果列表空間：$O( L \\times H )$   \n",
    "  若二元樹的葉子節點數量為 $L$\n",
    "  - 在最好的情況（完全平衡樹）下  \n",
    "    $L = n/2$ （葉子數接近節點數的一半）\n",
    "  - 在最壞情況（退化成鏈狀樹）下  \n",
    "    $L = 1$\n",
    "\n",
    "- 總結空間\n",
    "  - 最好的情況\n",
    "    $O(n \\times log{_2}{n})$\n",
    "  - 最壞情況\n",
    "    $O(n)$"
   ]
  },
  {
   "cell_type": "code",
   "execution_count": 1,
   "metadata": {},
   "outputs": [],
   "source": [
    "# Definition for a binary tree node.\n",
    "class TreeNode:\n",
    "    def __init__(self, val=0, left=None, right=None):\n",
    "        self.val = val\n",
    "        self.left = left\n",
    "        self.right = right"
   ]
  },
  {
   "cell_type": "markdown",
   "metadata": {},
   "source": [
    "path 用 list 存 (避免了每次遞迴都創建新的字符串，消耗存儲空間)"
   ]
  },
  {
   "cell_type": "code",
   "execution_count": 2,
   "metadata": {},
   "outputs": [],
   "source": [
    "from typing import List, Optional\n",
    "\n",
    "class Solution:\n",
    "    def binaryTreePaths(self, root: Optional[TreeNode]) -> List[str]:\n",
    "        print(f\"{root=}\")\n",
    "\n",
    "        # PreOrder_dfs: 前序遍歷 + 深度優先搜索 (Depth First Search)，root -> left -> right\n",
    "        def PreOrder_dfs(node, path):\n",
    "            if not node:  # 如果當前節點為空，直接返回\n",
    "                return\n",
    "            \n",
    "            # 將當前節點的值加入到路徑字串中\n",
    "            path.append(str(node.val))\n",
    "            print(f\"append: {path=}\")\n",
    "            \n",
    "            # 如果當前節點是葉子節點（左右子節點皆為 None），將完整路徑加入結果列表中\n",
    "            if not node.left and not node.right:                \n",
    "                result.append(\"->\".join(path))  # 將路徑中的節點值用\"->\"連接起來\n",
    "                print(f\"{result=}\\n\")\n",
    "            else:            \n",
    "                # 如果不是葉子節點，繼續處理子節點            \n",
    "                PreOrder_dfs(node.left, path)  # 遞迴處理左子樹\n",
    "                PreOrder_dfs(node.right, path)  # 遞迴處理右子樹\n",
    "            \n",
    "            path.pop() # 回溯，撤銷選擇，將當前節點從路徑中移除\n",
    "            print(f\"pop: {path=}\")\n",
    "        \n",
    "        result = [] # 存儲所有的根到葉子的路徑\n",
    "        PreOrder_dfs(node = root, path = [])  # 從根節點開始執行遞迴 # time: O(n) 遍歷所有節點\n",
    "\n",
    "        return result\n"
   ]
  },
  {
   "cell_type": "code",
   "execution_count": 3,
   "metadata": {},
   "outputs": [
    {
     "name": "stdout",
     "output_type": "stream",
     "text": [
      "root=<__main__.TreeNode object at 0x000001BA3BBCC8D0>\n",
      "append: path=['1']\n",
      "append: path=['1', '2']\n",
      "append: path=['1', '2', '5']\n",
      "result=['1->2->5']\n",
      "\n",
      "pop: path=['1', '2']\n",
      "pop: path=['1']\n",
      "append: path=['1', '3']\n",
      "result=['1->2->5', '1->3']\n",
      "\n",
      "pop: path=['1']\n",
      "pop: path=[]\n",
      "['1->2->5', '1->3']\n"
     ]
    }
   ],
   "source": [
    "root = TreeNode(1)\n",
    "root.left = TreeNode(2)\n",
    "root.right = TreeNode(3)\n",
    "root.left.right = TreeNode(5)\n",
    "# root = [1, 2, 3, None, 5]\n",
    "\n",
    "print(Solution().binaryTreePaths(root))  # [\"1->2->5\", \"1->3\"]"
   ]
  },
  {
   "cell_type": "markdown",
   "metadata": {},
   "source": [
    "path 用 string 存 (較直觀)"
   ]
  },
  {
   "cell_type": "code",
   "execution_count": 4,
   "metadata": {},
   "outputs": [],
   "source": [
    "from typing import List, Optional\n",
    "\n",
    "class Solution:\n",
    "    def binaryTreePaths(self, root: Optional[TreeNode]) -> List[str]:\n",
    "        print(f\"{root=}\")\n",
    "\n",
    "        # 定義遞迴函數進行深度優先搜索 (DFS)\n",
    "        def dfs(node, path):\n",
    "            if not node:  # 如果當前節點為空，直接返回\n",
    "                return\n",
    "            \n",
    "            # 將當前節點的值加入到路徑字串中\n",
    "            path += str(node.val)\n",
    "            print(f\"{path=}\")\n",
    "            \n",
    "            # 如果當前節點是葉子節點（左右子節點皆為 None），將完整路徑加入結果列表中\n",
    "            if not node.left and not node.right:                \n",
    "                result.append(path)\n",
    "                print(f\"{result=}\\n\")\n",
    "            \n",
    "            # 如果不是葉子節點，繼續處理子節點            \n",
    "            path += \"->\" # 加上 \"->\" 表示路徑中的下一個節點\n",
    "            dfs(node.left, path)  # 遞迴處理左子樹\n",
    "            dfs(node.right, path)  # 遞迴處理右子樹\n",
    "        \n",
    "        result = [] # 存儲所有的根到葉子的路徑\n",
    "        dfs(node = root, path = \"\")  # 從根節點開始執行遞迴 # time: O(n) 遍歷所有節點\n",
    "\n",
    "        return result\n"
   ]
  },
  {
   "cell_type": "code",
   "execution_count": 5,
   "metadata": {},
   "outputs": [
    {
     "name": "stdout",
     "output_type": "stream",
     "text": [
      "root=<__main__.TreeNode object at 0x000001BA3BBC8090>\n",
      "path='1'\n",
      "path='1->2'\n",
      "path='1->2->5'\n",
      "result=['1->2->5']\n",
      "\n",
      "path='1->3'\n",
      "result=['1->2->5', '1->3']\n",
      "\n",
      "['1->2->5', '1->3']\n"
     ]
    }
   ],
   "source": [
    "root = TreeNode(1)\n",
    "root.left = TreeNode(2)\n",
    "root.right = TreeNode(3)\n",
    "root.left.right = TreeNode(5)\n",
    "# root = [1, 2, 3, None, 5]\n",
    "\n",
    "print(Solution().binaryTreePaths(root))  # [\"1->2->5\", \"1->3\"]"
   ]
  },
  {
   "cell_type": "code",
   "execution_count": null,
   "metadata": {},
   "outputs": [],
   "source": []
  }
 ],
 "metadata": {
  "kernelspec": {
   "display_name": ".venv",
   "language": "python",
   "name": "python3"
  },
  "language_info": {
   "codemirror_mode": {
    "name": "ipython",
    "version": 3
   },
   "file_extension": ".py",
   "mimetype": "text/x-python",
   "name": "python",
   "nbconvert_exporter": "python",
   "pygments_lexer": "ipython3",
   "version": "3.11.2"
  }
 },
 "nbformat": 4,
 "nbformat_minor": 2
}
