{
 "cells": [
  {
   "cell_type": "markdown",
   "metadata": {},
   "source": [
    "### 543. Diameter of Binary Tree"
   ]
  },
  {
   "cell_type": "code",
   "execution_count": 1,
   "metadata": {},
   "outputs": [],
   "source": [
    "# Definition for a binary tree node.\n",
    "class TreeNode:\n",
    "    def __init__(self, val=0, left=None, right=None):\n",
    "        self.val = val\n",
    "        self.left = left\n",
    "        self.right = right"
   ]
  },
  {
   "cell_type": "code",
   "execution_count": 2,
   "metadata": {},
   "outputs": [],
   "source": [
    "root = TreeNode(\n",
    "    val = 1, \n",
    "    left = TreeNode(\n",
    "        val = 2, \n",
    "        left = TreeNode(\n",
    "            val = 4, \n",
    "            left = None, \n",
    "            right = None\n",
    "            ), \n",
    "        right = TreeNode(\n",
    "            val = 5, \n",
    "            left = None, \n",
    "            right = None\n",
    "            ), \n",
    "        ), \n",
    "    right = TreeNode(\n",
    "        val = 3, \n",
    "        left = None, \n",
    "        right = None\n",
    "        ))\n",
    "# root = [1,2,3,4,5] # 3\n",
    "\n",
    "# root = TreeNode(\n",
    "#     val = 1, \n",
    "#     left = None, \n",
    "#     right = TreeNode(\n",
    "#         val = 2, \n",
    "#         left = None, \n",
    "#         right = None\n",
    "#         ))\n",
    "# root = [1,2] # 1"
   ]
  },
  {
   "cell_type": "code",
   "execution_count": 3,
   "metadata": {},
   "outputs": [],
   "source": [
    "class Solution:\n",
    "    def __init__(self):\n",
    "        self.diameter = 0  # 存放樹的最大直徑，初始化直徑為0\n",
    "    \n",
    "    def diameterOfBinaryTree(self, root):\n",
    "        self.depth(root)  # BFS計算樹的直徑\n",
    "\n",
    "        return self.diameter  # 回傳計算得到的樹的直徑\n",
    "\t\n",
    "    def depth(self, node):\n",
    "        left_val = node.left.val if node.left else None\n",
    "        right_val = node.right.val if node.right else None\n",
    "        print(f\"node = {node.val}, node.left = {left_val}, node.right = {right_val}\")\n",
    "\n",
    "\n",
    "        left = self.depth(node.left) if node.left else 0  # 計算左子樹的深度，如果左子樹不存在則深度為0\n",
    "        print(f\"{node.val} - left  =  {left}\")\n",
    "        right = self.depth(node.right) if node.right else 0  # 計算右子樹的深度，如果右子樹不存在則深度為0\n",
    "        print(f\"{node.val} - right =  {right}\")\n",
    "        \n",
    "\n",
    "        print(f\"node_diameter = {left + right}\")\n",
    "        # 如果左子樹深度加上右子樹深度大於目前已知的樹的直徑\n",
    "        if left + right > self.diameter:\n",
    "            print(f\"(node_diameter = {left + right}) > (diameter = {self.diameter})\")\n",
    "            self.diameter = left + right  # 更新樹的直徑\n",
    "            print(f\"diameter = {self.diameter}\")\n",
    "            \n",
    "        return 1 + (left if left > right else right) # 回傳當前節點的深度，加1表示包括當前節點\n"
   ]
  },
  {
   "cell_type": "code",
   "execution_count": 4,
   "metadata": {},
   "outputs": [
    {
     "name": "stdout",
     "output_type": "stream",
     "text": [
      "node = 1, node.left = 2, node.right = 3\n",
      "node = 2, node.left = 4, node.right = 5\n",
      "node = 4, node.left = None, node.right = None\n",
      "4 - left  =  0\n",
      "4 - right =  0\n",
      "node_diameter = 0\n",
      "2 - left  =  1\n",
      "node = 5, node.left = None, node.right = None\n",
      "5 - left  =  0\n",
      "5 - right =  0\n",
      "node_diameter = 0\n",
      "2 - right =  1\n",
      "node_diameter = 2\n",
      "(node_diameter = 2) > (diameter = 0)\n",
      "diameter = 2\n",
      "1 - left  =  2\n",
      "node = 3, node.left = None, node.right = None\n",
      "3 - left  =  0\n",
      "3 - right =  0\n",
      "node_diameter = 0\n",
      "1 - right =  1\n",
      "node_diameter = 3\n",
      "(node_diameter = 3) > (diameter = 2)\n",
      "diameter = 3\n"
     ]
    },
    {
     "data": {
      "text/plain": [
       "3"
      ]
     },
     "execution_count": 4,
     "metadata": {},
     "output_type": "execute_result"
    }
   ],
   "source": [
    "Solution().diameterOfBinaryTree(root)"
   ]
  }
 ],
 "metadata": {
  "kernelspec": {
   "display_name": ".venv",
   "language": "python",
   "name": "python3"
  },
  "language_info": {
   "codemirror_mode": {
    "name": "ipython",
    "version": 3
   },
   "file_extension": ".py",
   "mimetype": "text/x-python",
   "name": "python",
   "nbconvert_exporter": "python",
   "pygments_lexer": "ipython3",
   "version": "3.8.10"
  },
  "orig_nbformat": 4
 },
 "nbformat": 4,
 "nbformat_minor": 2
}
