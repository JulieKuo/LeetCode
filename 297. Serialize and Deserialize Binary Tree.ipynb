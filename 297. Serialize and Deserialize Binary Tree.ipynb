{
 "cells": [
  {
   "attachments": {},
   "cell_type": "markdown",
   "metadata": {},
   "source": [
    "### 297. Serialize and Deserialize Binary Tree"
   ]
  },
  {
   "cell_type": "code",
   "execution_count": 1,
   "metadata": {},
   "outputs": [],
   "source": [
    "# Definition for a binary tree node.\n",
    "class TreeNode(object):\n",
    "    def __init__(self, x):\n",
    "        self.val = x\n",
    "        self.left = None\n",
    "        self.right = None"
   ]
  },
  {
   "cell_type": "code",
   "execution_count": 2,
   "metadata": {},
   "outputs": [],
   "source": [
    "root = TreeNode(1)\n",
    "root.left = TreeNode(2)\n",
    "root.right = TreeNode(3)\n",
    "root.right.left = TreeNode(4)\n",
    "root.right.right = TreeNode(5)"
   ]
  },
  {
   "cell_type": "markdown",
   "metadata": {},
   "source": [
    "**時間複雜度: $O( n )$**  \n",
    "**空間複雜度: $O( n )$**"
   ]
  },
  {
   "cell_type": "markdown",
   "metadata": {},
   "source": [
    "### BFS"
   ]
  },
  {
   "cell_type": "code",
   "execution_count": 3,
   "metadata": {},
   "outputs": [],
   "source": [
    "from collections import deque\n",
    "\n",
    "class Codec:\n",
    "\n",
    "    def serialize(self, root):\n",
    "        \"\"\"Encodes a tree to a single string.\n",
    "        \n",
    "        :type root: TreeNode\n",
    "        :rtype: str\n",
    "        \"\"\"\n",
    "        if not root:\n",
    "            return \"N\"  # 空樹則直接回傳 \"N\"\n",
    "\n",
    "        result = []  # 用來儲存序列化後的結果 # space: O(n)\n",
    "        queue = deque([root])  # 使用 deque 實作 BFS 的佇列 # space: O(n)\n",
    "\n",
    "        while queue: # time: O(n)\n",
    "            node = queue.popleft()  # 取出佇列左側的節點\n",
    "            if not node:\n",
    "                result.append(\"N\")  # 空節點用 \"N\" 表示\n",
    "            else:\n",
    "                result.append(str(node.val))  # 將節點值轉為字串後加入結果\n",
    "                queue.append(node.left)    # 將左子節點加入佇列\n",
    "                queue.append(node.right)   # 將右子節點加入佇列\n",
    "\n",
    "        return \",\".join(result)  # 將結果陣列轉為以逗號分隔的字串\n",
    "\n",
    "    def deserialize(self, data):\n",
    "        \"\"\"Decodes your encoded data to tree.\n",
    "        \n",
    "        :type data: str\n",
    "        :rtype: TreeNode\n",
    "        \"\"\"\n",
    "        if data == \"N\":\n",
    "            return None  # 空樹則回傳 None\n",
    "\n",
    "        values = data.split(\",\")  # 將序列化字串轉為陣列 # space: O(n)\n",
    "\n",
    "        root = TreeNode(int(values[0]))  # 建立根節點\n",
    "        queue = deque([root])          # 佇列用來依序還原左右子節點 # space: O(n)\n",
    "        index = 1                      # 索引指向下一個待處理的值\n",
    "\n",
    "        while queue: # time: O(n)\n",
    "            node = queue.popleft()  # 取出佇列中節點\n",
    "\n",
    "            # 還原左子節點\n",
    "            if values[index] != \"N\":\n",
    "                node.left = TreeNode(int(values[index]))  # 建立左子節點\n",
    "                queue.append(node.left)                # 加入佇列以處理其子節點\n",
    "            index += 1\n",
    "\n",
    "            # 還原右子節點\n",
    "            if values[index] != \"N\":\n",
    "                node.right = TreeNode(int(values[index]))  # 建立右子節點\n",
    "                queue.append(node.right)                 # 加入佇列以處理其子節點\n",
    "            index += 1\n",
    "\n",
    "        return root  # 回傳整棵還原的樹"
   ]
  },
  {
   "cell_type": "code",
   "execution_count": 4,
   "metadata": {},
   "outputs": [
    {
     "name": "stdout",
     "output_type": "stream",
     "text": [
      "ser.serialize(root) = '1,2,3,N,N,4,5,N,N,N,N'\n",
      "ans = <__main__.TreeNode object at 0x112408c80>\n"
     ]
    }
   ],
   "source": [
    "# Your Codec object will be instantiated and called as such:\n",
    "ser = Codec()\n",
    "deser = Codec()\n",
    "ans = deser.deserialize(ser.serialize(root))\n",
    "print(f\"{ser.serialize(root) = }\")\n",
    "print(f\"{ans = }\")"
   ]
  },
  {
   "cell_type": "markdown",
   "metadata": {},
   "source": [
    "### DFS"
   ]
  },
  {
   "cell_type": "code",
   "execution_count": 5,
   "metadata": {},
   "outputs": [],
   "source": [
    "class Codec:\n",
    "\n",
    "    def serialize(self, root):\n",
    "        \"\"\"Encodes a tree to a single string.\n",
    "        \n",
    "        :type root: TreeNode\n",
    "        :rtype: str\n",
    "        \"\"\"\n",
    "        result = []  # 用來存儲序列化結果的陣列 # space: O(n)\n",
    "\n",
    "        def dfs(node): # time, space: O(n)\n",
    "            if not node:\n",
    "                result.append(\"N\")  # 若為空節點，用 \"N\" 表示\n",
    "                return\n",
    "\n",
    "            result.append(str(node.val))  # 加入當前節點的值\n",
    "\n",
    "            dfs(node.left)             # 遞迴處理左子樹\n",
    "            dfs(node.right)            # 遞迴處理右子樹\n",
    "\n",
    "        dfs(root)  # 從根節點開始 DFS 序列化整棵樹\n",
    "\n",
    "        return \",\".join(result)  # 將結果轉為以逗號分隔的字串\n",
    "\n",
    "    def deserialize(self, data):\n",
    "        \"\"\"Decodes your encoded data to tree.\n",
    "        \n",
    "        :type data: str\n",
    "        :rtype: TreeNode\n",
    "        \"\"\"\n",
    "        values = data.split(\",\")  # 將序列化字串分割為陣列 # space: O(n)\n",
    "        self.index = 0              # 使用索引來追蹤目前處理到哪一個節點\n",
    "\n",
    "        def dfs(): # time, space: O(n)\n",
    "            if values[self.index] == \"N\":\n",
    "                self.index += 1     # 空節點，跳過\n",
    "                return None\n",
    "\n",
    "            node = TreeNode(int(values[self.index]))  # 建立新節點\n",
    "            self.index += 1\n",
    "\n",
    "            node.left = dfs()   # 遞迴建立左子樹\n",
    "            node.right = dfs()  # 遞迴建立右子樹\n",
    "\n",
    "            return node         # 回傳建好的子樹\n",
    "\n",
    "        return dfs()  # 回傳整棵還原的二元樹\n",
    "\n",
    "    \n",
    "# Your Codec object will be instantiated and called as such:\n",
    "# ser = Codec()\n",
    "# deser = Codec()\n",
    "# ans = deser.deserialize(ser.serialize(root))"
   ]
  },
  {
   "cell_type": "code",
   "execution_count": 6,
   "metadata": {},
   "outputs": [
    {
     "name": "stdout",
     "output_type": "stream",
     "text": [
      "ser.serialize(root) = '1,2,N,N,3,4,N,N,5,N,N'\n",
      "ans = <__main__.TreeNode object at 0x112454890>\n"
     ]
    }
   ],
   "source": [
    "# Your Codec object will be instantiated and called as such:\n",
    "ser = Codec()\n",
    "deser = Codec()\n",
    "ans = deser.deserialize(ser.serialize(root))\n",
    "print(f\"{ser.serialize(root) = }\")\n",
    "print(f\"{ans = }\")"
   ]
  }
 ],
 "metadata": {
  "kernelspec": {
   "display_name": ".venv (3.12.8)",
   "language": "python",
   "name": "python3"
  },
  "language_info": {
   "codemirror_mode": {
    "name": "ipython",
    "version": 3
   },
   "file_extension": ".py",
   "mimetype": "text/x-python",
   "name": "python",
   "nbconvert_exporter": "python",
   "pygments_lexer": "ipython3",
   "version": "3.12.8"
  },
  "orig_nbformat": 4
 },
 "nbformat": 4,
 "nbformat_minor": 2
}
