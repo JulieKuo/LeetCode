{
 "cells": [
  {
   "attachments": {},
   "cell_type": "markdown",
   "metadata": {},
   "source": [
    "### 297. Serialize and Deserialize Binary Tree"
   ]
  },
  {
   "cell_type": "code",
   "execution_count": 1,
   "metadata": {},
   "outputs": [],
   "source": [
    "import collections"
   ]
  },
  {
   "cell_type": "code",
   "execution_count": 2,
   "metadata": {},
   "outputs": [],
   "source": [
    "# Definition for a binary tree node.\n",
    "class TreeNode(object):\n",
    "    def __init__(self, x):\n",
    "        self.val = x\n",
    "        self.left = None\n",
    "        self.right = None\n",
    "\n",
    "class Codec:\n",
    "\n",
    "    def serialize(self, root):\n",
    "        \"\"\"Encodes a tree to a single string.\n",
    "        \n",
    "        :type root: TreeNode\n",
    "        :rtype: str\n",
    "        \"\"\"\n",
    "        print(\"=============== serialize ===============\")\n",
    "        flat_bt = [] # 儲存序列化後的節點值\n",
    "        queue = collections.deque([root]) # 使用雙向佇列來進行層級遍歷\n",
    "        while queue:\n",
    "            print(f\"origin: queue = {queue}\")\n",
    "            node = queue.pop() # 從佇列中彈出最後一個節點\n",
    "            print(f\"origin: node = {node}\")\n",
    "\n",
    "            if node: # 如果節點不為None\n",
    "                flat_bt.append(str(node.val)) # 將節點值轉換成字串後加入flat_bt\n",
    "\n",
    "                # 將節點的左子樹和右子樹加入佇列中\n",
    "                queue.appendleft(node.left) # 從左邊插入，確保左子樹先處理\n",
    "                queue.appendleft(node.right)\n",
    "                print(f\"new: queue = {queue}\")\n",
    "            else:\n",
    "                flat_bt.append('') # 如果節點為None，將空字串加入flat_bt表示空節點\n",
    "            \n",
    "            print(f\"flat_bt = {flat_bt}\\n\")\n",
    "\n",
    "        result = ','.join(flat_bt) # 將元素以逗號分隔並合併成字串\n",
    "        print(f\"result = {result}\\n\")\n",
    "\n",
    "        return result\n",
    "        \n",
    "\n",
    "    def deserialize(self, data):\n",
    "        \"\"\"Decodes your encoded data to tree.\n",
    "        \n",
    "        :type data: str\n",
    "        :rtype: TreeNode\n",
    "        \"\"\"\n",
    "        print(\"=============== serialize ===============\")\n",
    "        if not data:\n",
    "            return \n",
    "\n",
    "        flat_bt = data.split(',') # 將序列化後的字串以逗號為分隔符轉換成串列\n",
    "        ans = TreeNode(flat_bt[0]) # 建立一個樹的根節點，根節點的值為flat_bt的第一個元素\n",
    "        queue = collections.deque([ans]) # 使用雙向佇列來進行二元樹的反序列化\n",
    "\n",
    "        i = 1  # 從flat_bt的第二個元素開始處理\n",
    "        # when you pop a node, its children will be at i and i+1\n",
    "        while queue:\n",
    "            print(f\"origin: ans = {ans}\")\n",
    "            print(f\"origin: queue = {queue}\")\n",
    "            node = queue.pop() # 從佇列中彈出最後一個節點\n",
    "            print(f\"node = {node}\")\n",
    "\n",
    "            print(f\"-> ((i = {i}) < (len(flat_bt) = {len(flat_bt)})) and (flat_bt[i] = {flat_bt[i]}))\")\n",
    "            if i < len(flat_bt) and flat_bt[i]: # 如果i小於flat_bt的長度 且 flat_bt[i]不為空字串\n",
    "                node.left = TreeNode(int(flat_bt[i])) # 建立左子節點並將節點值設為flat_bt[i]\n",
    "                queue.appendleft(node.left) # 將左子節點加入佇列中，從左邊插入，確保左子樹先處理\n",
    "                print(f\"--> new: node = {node}\")\n",
    "                print(f\"--> new: queue = {queue}\")\n",
    "            i += 1\n",
    "            \n",
    "            print(f\"-> ((i = {i}) < (len(flat_bt) = {len(flat_bt)})) and (flat_bt[i] = {flat_bt[i]}))\")\n",
    "            if i < len(flat_bt) and flat_bt[i]:\n",
    "                node.right = TreeNode(int(flat_bt[i])) # 建立右子節點並將節點值設為flat_bt[i]\n",
    "                queue.appendleft(node.right) # 將右子節點加入佇列中，從左邊插入，確保左子樹先處理\n",
    "                print(f\"--> new: node = {node}\")\n",
    "                print(f\"--> new: queue = {queue}\")\n",
    "            i += 1\n",
    "\n",
    "            print(f\"new: ans = {ans}\\n\")\n",
    "\n",
    "        return ans\n",
    "        \n",
    "# Your Codec object will be instantiated and called as such:\n",
    "# ser = Codec()\n",
    "# deser = Codec()\n",
    "# ans = deser.deserialize(ser.serialize(root))"
   ]
  },
  {
   "attachments": {},
   "cell_type": "markdown",
   "metadata": {},
   "source": [
    "ans 變數在每次從佇列中彈出一個節點時重新賦值。\n",
    "\n",
    "在 deserialize 方法中，一開始我們創建了一個二元樹的根節點 ans，並將其設置為 flat_bt 的第一個元素。\n",
    "\n",
    "在後續的迴圈中，每次從佇列中彈出一個節點時，我們都會通過 node 變數來引用該節點，並根據需要設置其左子節點或右子節點。這樣，ans 變數就始終引用著二元樹的根節點，並在遍歷佇列時根據需要重新賦值。"
   ]
  },
  {
   "cell_type": "code",
   "execution_count": 3,
   "metadata": {},
   "outputs": [],
   "source": [
    "root = TreeNode(1)\n",
    "root.left = TreeNode(2)\n",
    "root.right = TreeNode(3)\n",
    "root.right.left = TreeNode(4)\n",
    "root.right.right = TreeNode(5)"
   ]
  },
  {
   "cell_type": "code",
   "execution_count": null,
   "metadata": {},
   "outputs": [],
   "source": [
    "ser = Codec()\n",
    "deser = Codec()\n",
    "ans = deser.deserialize(ser.serialize(root))"
   ]
  }
 ],
 "metadata": {
  "kernelspec": {
   "display_name": ".venv",
   "language": "python",
   "name": "python3"
  },
  "language_info": {
   "codemirror_mode": {
    "name": "ipython",
    "version": 3
   },
   "file_extension": ".py",
   "mimetype": "text/x-python",
   "name": "python",
   "nbconvert_exporter": "python",
   "pygments_lexer": "ipython3",
   "version": "3.8.10"
  },
  "orig_nbformat": 4
 },
 "nbformat": 4,
 "nbformat_minor": 2
}
