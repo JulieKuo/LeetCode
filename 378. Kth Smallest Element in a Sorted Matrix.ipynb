{
 "cells": [
  {
   "cell_type": "markdown",
   "metadata": {},
   "source": [
    "## 378. Kth Smallest Element in a Sorted Matrix"
   ]
  },
  {
   "cell_type": "code",
   "execution_count": 1,
   "metadata": {},
   "outputs": [],
   "source": [
    "import heapq\n",
    "\n",
    "class Solution:\n",
    "    def kthSmallest(self, matrix, k):\n",
    "        tmp = []\n",
    "        for xs in matrix:\n",
    "            for x in xs:\n",
    "                if len(tmp) < k:\n",
    "                    print(f\"{len(tmp)} < {k}, tmp = {tmp}\")\n",
    "                    heapq.heappush(tmp, -x)\n",
    "                else:\n",
    "                    print(f\"{len(tmp)} >= {k}, tmp = {tmp}\")\n",
    "                    heapq.heappushpop(tmp, -x)\n",
    "\n",
    "                print(f\"   new tmp = {tmp}\\n\")\n",
    "            \n",
    "        return -tmp[0]"
   ]
  },
  {
   "cell_type": "code",
   "execution_count": 2,
   "metadata": {},
   "outputs": [
    {
     "name": "stdout",
     "output_type": "stream",
     "text": [
      "0 < 8, tmp = []\n",
      "   new tmp = [-1]\n",
      "\n",
      "1 < 8, tmp = [-1]\n",
      "   new tmp = [-5, -1]\n",
      "\n",
      "2 < 8, tmp = [-5, -1]\n",
      "   new tmp = [-9, -1, -5]\n",
      "\n",
      "3 < 8, tmp = [-9, -1, -5]\n",
      "   new tmp = [-10, -9, -5, -1]\n",
      "\n",
      "4 < 8, tmp = [-10, -9, -5, -1]\n",
      "   new tmp = [-11, -10, -5, -1, -9]\n",
      "\n",
      "5 < 8, tmp = [-11, -10, -5, -1, -9]\n",
      "   new tmp = [-13, -10, -11, -1, -9, -5]\n",
      "\n",
      "6 < 8, tmp = [-13, -10, -11, -1, -9, -5]\n",
      "   new tmp = [-13, -10, -12, -1, -9, -5, -11]\n",
      "\n",
      "7 < 8, tmp = [-13, -10, -12, -1, -9, -5, -11]\n",
      "   new tmp = [-13, -13, -12, -10, -9, -5, -11, -1]\n",
      "\n",
      "8 >= 8, tmp = [-13, -13, -12, -10, -9, -5, -11, -1]\n",
      "   new tmp = [-13, -13, -12, -10, -9, -5, -11, -1]\n",
      "\n"
     ]
    },
    {
     "data": {
      "text/plain": [
       "13"
      ]
     },
     "execution_count": 2,
     "metadata": {},
     "output_type": "execute_result"
    }
   ],
   "source": [
    "matrix = [[1,5,9],[10,11,13],[12,13,15]]\n",
    "k = 8\n",
    "\n",
    "Solution().kthSmallest(matrix, k)"
   ]
  }
 ],
 "metadata": {
  "kernelspec": {
   "display_name": ".venv",
   "language": "python",
   "name": "python3"
  },
  "language_info": {
   "codemirror_mode": {
    "name": "ipython",
    "version": 3
   },
   "file_extension": ".py",
   "mimetype": "text/x-python",
   "name": "python",
   "nbconvert_exporter": "python",
   "pygments_lexer": "ipython3",
   "version": "3.8.10 (tags/v3.8.10:3d8993a, May  3 2021, 11:48:03) [MSC v.1928 64 bit (AMD64)]"
  },
  "orig_nbformat": 4,
  "vscode": {
   "interpreter": {
    "hash": "6a07fcf0145f94b3f971c13d061528107de20ab7b779375f96dab9bbac6a85db"
   }
  }
 },
 "nbformat": 4,
 "nbformat_minor": 2
}
