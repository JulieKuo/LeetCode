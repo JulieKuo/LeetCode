{
 "cells": [
  {
   "cell_type": "markdown",
   "metadata": {},
   "source": [
    "## 746. Min Cost Climbing Stairs"
   ]
  },
  {
   "cell_type": "markdown",
   "metadata": {},
   "source": [
    "<img src=\"img/746.svg\"/>"
   ]
  },
  {
   "cell_type": "code",
   "execution_count": 4,
   "metadata": {},
   "outputs": [
    {
     "data": {
      "text/plain": [
       "15"
      ]
     },
     "execution_count": 4,
     "metadata": {},
     "output_type": "execute_result"
    }
   ],
   "source": [
    "class Solution:\n",
    "    def minCostClimbingStairs(self, cost: List[int]) -> int:\n",
    "        temp = dict()\n",
    "        temp[0] = cost[0]\n",
    "        temp[1] = cost[1]\n",
    "        for i in range(2, len(cost)):\n",
    "            one = temp[i-1] + cost[i]\n",
    "            two = temp[i-2] + cost[i]\n",
    "            temp[i] = min(one, two)\n",
    "            \n",
    "        return min(temp[len(cost)-1], temp[len(cost)-2])"
   ]
  }
 ],
 "metadata": {
  "interpreter": {
   "hash": "c5c899ed1fea65c1aad495f30148e1731af1bcf36c22dbd1b46cba8952568d24"
  },
  "kernelspec": {
   "display_name": "Python 3.9.7 64-bit ('.venv': venv)",
   "name": "python3"
  },
  "language_info": {
   "codemirror_mode": {
    "name": "ipython",
    "version": 3
   },
   "file_extension": ".py",
   "mimetype": "text/x-python",
   "name": "python",
   "nbconvert_exporter": "python",
   "pygments_lexer": "ipython3",
   "version": "3.9.7"
  },
  "orig_nbformat": 4
 },
 "nbformat": 4,
 "nbformat_minor": 2
}
