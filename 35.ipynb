{
 "cells": [
  {
   "cell_type": "markdown",
   "metadata": {},
   "source": [
    "## 35. Search Insert Position"
   ]
  },
  {
   "cell_type": "code",
   "execution_count": null,
   "metadata": {},
   "outputs": [],
   "source": [
    "class Solution:\n",
    "    def searchInsert(self, nums: List[int], target: int) -> int:\n",
    "        low = 0\n",
    "        high = len(nums) - 1\n",
    "        while low <= high:\n",
    "            mid = ( low + high ) // 2\n",
    "            if nums[mid] < target:\n",
    "                low = mid + 1\n",
    "            elif nums[mid] > target:\n",
    "                high = mid - 1\n",
    "            else:\n",
    "                return mid\n",
    "            \n",
    "        return low\n",
    "        \n",
    "#         low = 0\n",
    "#         high = len(nums) - 1\n",
    "#         while True:\n",
    "#             median = math.floor((low + high)/2)\n",
    "#             print(low, high,  median)\n",
    "\n",
    "#             if target < nums[0]:\n",
    "#                 median = 0\n",
    "#                 return median\n",
    "#             elif target > nums[-1]:\n",
    "#                 median = len(nums)\n",
    "#                 return median\n",
    "\n",
    "#             if nums[median] > target:\n",
    "#                 high = median\n",
    "#             elif nums[median] < target:\n",
    "#                 low = median\n",
    "#             else:\n",
    "#                 return median\n",
    "\n",
    "#             if median == math.floor((low + high)/2):\n",
    "#                 median += 1\n",
    "#                 return median\n",
    "        \n",
    "        \n",
    "        \n",
    "                \n",
    "#         for i, num in enumerate(nums):\n",
    "#             if num >= target:\n",
    "#                 return i\n",
    "            \n",
    "#         return len(nums)\n",
    "        \n",
    "        \n",
    "        \n",
    "        # return sorted(list(set(nums + [target]))).index(target)\n",
    "    "
   ]
  }
 ],
 "metadata": {
  "language_info": {
   "name": "python"
  },
  "orig_nbformat": 4
 },
 "nbformat": 4,
 "nbformat_minor": 2
}
