{
 "cells": [
  {
   "cell_type": "markdown",
   "metadata": {},
   "source": [
    "### 215. Kth Largest Element in an Array"
   ]
  },
  {
   "cell_type": "markdown",
   "metadata": {},
   "source": [
    "#### 1.先由大到小排序\n",
    "#### 2.抓出新排序的第k個值"
   ]
  },
  {
   "cell_type": "code",
   "execution_count": 1,
   "metadata": {},
   "outputs": [
    {
     "data": {
      "text/plain": [
       "5"
      ]
     },
     "execution_count": 1,
     "metadata": {},
     "output_type": "execute_result"
    }
   ],
   "source": [
    "class Solution:\n",
    "    def findKthLargest(self, nums, k):\n",
    "        nums.sort(reverse = True)\n",
    "        return nums[k-1]\n",
    "\n",
    "Solution().findKthLargest(nums = [3,2,3,1,2,4,5,5,6], k = 2)"
   ]
  },
  {
   "cell_type": "markdown",
   "metadata": {},
   "source": [
    "#### 1. 合併排序法\n",
    "#### 2.抓出新排序的第k個值"
   ]
  },
  {
   "cell_type": "code",
   "execution_count": 2,
   "metadata": {},
   "outputs": [
    {
     "data": {
      "text/plain": [
       "5"
      ]
     },
     "execution_count": 2,
     "metadata": {},
     "output_type": "execute_result"
    }
   ],
   "source": [
    "class Solution:\n",
    "    def findKthLargest(self, nums, k):\n",
    "\n",
    "        def cut(nums):\n",
    "            if len(nums) <= 1:\n",
    "                return nums\n",
    "\n",
    "            mid = len(nums) // 2\n",
    "            left = nums[:mid]\n",
    "            right = nums[mid:]\n",
    "\n",
    "            l = cut(left)\n",
    "            r = cut(right)\n",
    "\n",
    "            result = merge(l, r)\n",
    "            return result\n",
    "\n",
    "        def merge(l, r):\n",
    "            temp = []\n",
    "            while (l != []) and (r != []):\n",
    "                if l[0] < r[0]:\n",
    "                    temp.append(l[0])\n",
    "                    l.pop(0)\n",
    "                else:\n",
    "                    temp.append(r[0])\n",
    "                    r.pop(0)\n",
    "\n",
    "            if l == []:\n",
    "                temp.extend(r)\n",
    "            else:\n",
    "                temp.extend(l)\n",
    "            return temp\n",
    "\n",
    "\n",
    "        new_nums = cut(nums)\n",
    "        return new_nums[-k]\n",
    "\n",
    "Solution().findKthLargest(nums = [3,2,3,1,2,4,5,5,6], k = 2)"
   ]
  }
 ],
 "metadata": {
  "kernelspec": {
   "display_name": "Python 3.8.7 ('.sar': venv)",
   "language": "python",
   "name": "python3"
  },
  "language_info": {
   "codemirror_mode": {
    "name": "ipython",
    "version": 3
   },
   "file_extension": ".py",
   "mimetype": "text/x-python",
   "name": "python",
   "nbconvert_exporter": "python",
   "pygments_lexer": "ipython3",
   "version": "3.8.7"
  },
  "orig_nbformat": 4,
  "vscode": {
   "interpreter": {
    "hash": "4b3bed0e3e859eed817920df843b60ae28bf236cd2c20594d20757d4a26e1783"
   }
  }
 },
 "nbformat": 4,
 "nbformat_minor": 2
}
