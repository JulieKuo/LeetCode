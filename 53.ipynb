{
 "cells": [
  {
   "cell_type": "markdown",
   "metadata": {},
   "source": [
    "## 53. Maximum Subarray"
   ]
  },
  {
   "cell_type": "code",
   "execution_count": null,
   "metadata": {},
   "outputs": [],
   "source": [
    "class Solution:\n",
    "    def maxSubArray(self, nums: List[int]) -> int:\n",
    "        dp = [nums[0]]\n",
    "        res = dp[0]\n",
    "        for i in nums[1:]:\n",
    "            dp.append(max(dp[-1] + i, i))\n",
    "            if dp[-1] > res:\n",
    "                res = dp[-1]\n",
    "        \n",
    "        return res\n",
    "    \n",
    "    \n",
    "    \n",
    "# class Solution:\n",
    "#     def maxSubArray(self, nums: List[int]) -> int:\n",
    "#         dp = [nums[0]]\n",
    "#         for i in nums[1:]:\n",
    "#             dp.append(max(dp[-1] + i, i))\n",
    "        \n",
    "        \n",
    "#         return max(dp)\n",
    "    \n"
   ]
  }
 ],
 "metadata": {
  "language_info": {
   "name": "python"
  },
  "orig_nbformat": 4
 },
 "nbformat": 4,
 "nbformat_minor": 2
}
