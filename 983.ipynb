{
 "cells": [
  {
   "cell_type": "markdown",
   "metadata": {},
   "source": [
    "983. Minimum Cost For Tickets"
   ]
  },
  {
   "cell_type": "code",
   "execution_count": null,
   "metadata": {},
   "outputs": [],
   "source": [
    "class Solution:\n",
    "    def mincostTickets(self, days: List[int], costs: List[int]) -> int:\n",
    "        first, last = days[0], days[-1]\n",
    "        dp = [0] * (last + 1) #第一天從1開始，但指定index時從0開始，所以還要加1\n",
    "        print(f\"原始dp: {dp}\")\n",
    "        \n",
    "        for i in range(first, last+1):\n",
    "            if i in days:\n",
    "                past1 = dp[i-1] if i - 1 >= 0 else 0 #前1天買一張1-day pass，先找出前1天的累積dp\n",
    "                past7 = dp[i-7] if i - 7 >= 0 else 0 #前7天買一張7-day pass，先找出前7天的累積dp\n",
    "                past30 = dp[i-30] if i - 30 >= 0 else 0 #前30天買一張30-day pass，先找出前30天的累積dp\n",
    "                dp[i] = min(past1 + costs[0], past7 + costs[1], past30 + costs[2]) # 累積dp加上欲買的票券的價格的最小可能(ex: 前1天的累積dp加上1-day pass的價格)\n",
    "            else:\n",
    "                dp[i] = dp[i-1]\n",
    "            print(f\"第{i}天的dp: {dp}\")\n",
    "                \n",
    "        return dp[-1]"
   ]
  },
  {
   "cell_type": "code",
   "execution_count": null,
   "metadata": {},
   "outputs": [],
   "source": [
    "days = [1,4,6,7,8,20]  \n",
    "costs = [2,7,15]  \n",
    "\n",
    "第幾天:     [0, 1, 2, 3, 4, 5, 6, 7, 8, 9, 10, 11, 12, 13, 14, 15, 16, 17, 18, 19, 20]  \n",
    "\n",
    "原始dp:     [0, 0, 0, 0, 0, 0, 0, 0, 0, 0,  0,  0,  0,  0,  0,  0,  0,  0,  0,  0,  0]  \n",
    "第1天的dp:  [0, 2, 0, 0, 0, 0, 0, 0, 0, 0,  0,  0,  0,  0,  0,  0,  0,  0,  0,  0,  0]  \n",
    "第2天的dp:  [0, 2, 2, 0, 0, 0, 0, 0, 0, 0,  0,  0,  0,  0,  0,  0,  0,  0,  0,  0,  0]  \n",
    "第3天的dp:  [0, 2, 2, 2, 0, 0, 0, 0, 0, 0,  0,  0,  0,  0,  0,  0,  0,  0,  0,  0,  0]  \n",
    "第4天的dp:  [0, 2, 2, 2, 4, 0, 0, 0, 0, 0,  0,  0,  0,  0,  0,  0,  0,  0,  0,  0,  0]  \n",
    "第5天的dp:  [0, 2, 2, 2, 4, 4, 0, 0, 0, 0,  0,  0,  0,  0,  0,  0,  0,  0,  0,  0,  0]  \n",
    "第6天的dp:  [0, 2, 2, 2, 4, 4, 6, 0, 0, 0,  0,  0,  0,  0,  0,  0,  0,  0,  0,  0,  0]  \n",
    "第7天的dp:  [0, 2, 2, 2, 4, 4, 6, 7, 0, 0,  0,  0,  0,  0,  0,  0,  0,  0,  0,  0,  0]  \n",
    "第8天的dp:  [0, 2, 2, 2, 4, 4, 6, 7, 9, 0,  0,  0,  0,  0,  0,  0,  0,  0,  0,  0,  0]  \n",
    "第9天的dp:  [0, 2, 2, 2, 4, 4, 6, 7, 9, 9,  0,  0,  0,  0,  0,  0,  0,  0,  0,  0,  0]  \n",
    "第10天的dp: [0, 2, 2, 2, 4, 4, 6, 7, 9, 9,  9,  0,  0,  0,  0,  0,  0,  0,  0,  0,  0]  \n",
    "第11天的dp: [0, 2, 2, 2, 4, 4, 6, 7, 9, 9,  9,  9,  0,  0,  0,  0,  0,  0,  0,  0,  0]  \n",
    "第12天的dp: [0, 2, 2, 2, 4, 4, 6, 7, 9, 9,  9,  9,  9,  0,  0,  0,  0,  0,  0,  0,  0]  \n",
    "第13天的dp: [0, 2, 2, 2, 4, 4, 6, 7, 9, 9,  9,  9,  9,  9,  0,  0,  0,  0,  0,  0,  0]  \n",
    "第14天的dp: [0, 2, 2, 2, 4, 4, 6, 7, 9, 9,  9,  9,  9,  9,  9,  0,  0,  0,  0,  0,  0]  \n",
    "第15天的dp: [0, 2, 2, 2, 4, 4, 6, 7, 9, 9,  9,  9,  9,  9,  9,  9,  0,  0,  0,  0,  0]  \n",
    "第16天的dp: [0, 2, 2, 2, 4, 4, 6, 7, 9, 9,  9,  9,  9,  9,  9,  9,  9,  0,  0,  0,  0]  \n",
    "第17天的dp: [0, 2, 2, 2, 4, 4, 6, 7, 9, 9,  9,  9,  9,  9,  9,  9,  9,  9,  0,  0,  0]  \n",
    "第18天的dp: [0, 2, 2, 2, 4, 4, 6, 7, 9, 9,  9,  9,  9,  9,  9,  9,  9,  9,  9,  0,  0]  \n",
    "第19天的dp: [0, 2, 2, 2, 4, 4, 6, 7, 9, 9,  9,  9,  9,  9,  9,  9,  9,  9,  9,  9,  0]  \n",
    "第20天的dp: [0, 2, 2, 2, 4, 4, 6, 7, 9, 9,  9,  9,  9,  9,  9,  9,  9,  9,  9,  9, 11]  "
   ]
  },
  {
   "cell_type": "markdown",
   "metadata": {},
   "source": []
  }
 ],
 "metadata": {
  "interpreter": {
   "hash": "ac5c71763ce4af7d6dc057106aa53cb2371e41115cfc9dc46f264378d07e5f1a"
  },
  "kernelspec": {
   "display_name": "Python 3.8.9 ('.venv': venv)",
   "language": "python",
   "name": "python3"
  },
  "language_info": {
   "codemirror_mode": {
    "name": "ipython",
    "version": 3
   },
   "file_extension": ".py",
   "mimetype": "text/x-python",
   "name": "python",
   "nbconvert_exporter": "python",
   "pygments_lexer": "ipython3",
   "version": "3.8.9"
  },
  "orig_nbformat": 4
 },
 "nbformat": 4,
 "nbformat_minor": 2
}
