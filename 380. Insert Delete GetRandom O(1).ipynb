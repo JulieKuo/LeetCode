{
 "cells": [
  {
   "cell_type": "markdown",
   "metadata": {},
   "source": [
    "## 380. Insert Delete GetRandom O(1)"
   ]
  },
  {
   "cell_type": "markdown",
   "metadata": {},
   "source": [
    "https://blog.csdn.net/fuxuemingzhu/article/details/82732532"
   ]
  },
  {
   "cell_type": "code",
   "execution_count": 1,
   "metadata": {},
   "outputs": [],
   "source": [
    "import random\n",
    "\n",
    "class RandomizedSet:\n",
    "\n",
    "    def __init__(self):\n",
    "        self.list = []\n",
    "        self.dict = {}\n",
    "\n",
    "    def insert(self, val: int) -> bool:\n",
    "        print(f\"\\n<< insert - {val} >>\")\n",
    "        if val in self.dict:\n",
    "            return False\n",
    "        self.dict[val] = len(self.list)\n",
    "        self.list.append(val)\n",
    "\n",
    "        print(f\"init list: {self.list},  dict: {self.dict}\")\n",
    "\n",
    "        return True\n",
    "\n",
    "    def remove(self, val: int) -> bool:\n",
    "        print(f\"\\n<< remove - {val} >>\")\n",
    "        if val not in self.dict:\n",
    "            return False\n",
    "\n",
    "        print(f\"init list: {self.list},  dict: {self.dict}\")\n",
    "\n",
    "        #如果list刪除某個位置的元素，那麼時間複雜度是O(N)\n",
    "        #但是如果用最後的元素對該位置進行替換，並且移除最後的元素，時間複雜度能降到O(1)\n",
    "        last, idx = self.list[-1], self.dict[val]\n",
    "        self.list[idx], self.dict[last] = last, idx\n",
    "\n",
    "        print(f\"change list: {self.list},  dict: {self.dict}\")\n",
    "\n",
    "        del self.list[-1]\n",
    "        del self.dict[val]\n",
    "\n",
    "        print(f\"new list: {self.list},  dict: {self.dict}\")\n",
    "\n",
    "        return True\n",
    "\n",
    "    def getRandom(self) -> int:\n",
    "        print(f\"\\n<< getRandom >>\")\n",
    "        return random.choice(self.list)\n",
    "        \n",
    "\n",
    "\n",
    "# Your RandomizedSet object will be instantiated and called as such:\n",
    "# obj = RandomizedSet()\n",
    "# param_1 = obj.insert(val)\n",
    "# param_2 = obj.remove(val)\n",
    "# param_3 = obj.getRandom()"
   ]
  },
  {
   "cell_type": "code",
   "execution_count": 2,
   "metadata": {},
   "outputs": [
    {
     "name": "stdout",
     "output_type": "stream",
     "text": [
      "\n",
      "<< insert - 1 >>\n",
      "init list: [1],  dict: {1: 0}\n",
      "True\n",
      "\n",
      "<< remove - 2 >>\n",
      "False\n",
      "\n",
      "<< insert - 2 >>\n",
      "init list: [1, 2],  dict: {1: 0, 2: 1}\n",
      "True\n",
      "\n",
      "<< getRandom >>\n",
      "2\n",
      "\n",
      "<< remove - 1 >>\n",
      "init list: [1, 2],  dict: {1: 0, 2: 1}\n",
      "change list: [2, 2],  dict: {1: 0, 2: 0}\n",
      "new list: [2],  dict: {2: 0}\n",
      "True\n",
      "\n",
      "<< insert - 2 >>\n",
      "False\n",
      "\n",
      "<< getRandom >>\n",
      "2\n"
     ]
    }
   ],
   "source": [
    "randomSet = RandomizedSet()\n",
    "print(randomSet.insert(1))\n",
    "print(randomSet.remove(2))\n",
    "print(randomSet.insert(2))\n",
    "print(randomSet.getRandom())\n",
    "print(randomSet.remove(1))\n",
    "print(randomSet.insert(2))\n",
    "print(randomSet.getRandom())"
   ]
  }
 ],
 "metadata": {
  "kernelspec": {
   "display_name": ".venv",
   "language": "python",
   "name": "python3"
  },
  "language_info": {
   "codemirror_mode": {
    "name": "ipython",
    "version": 3
   },
   "file_extension": ".py",
   "mimetype": "text/x-python",
   "name": "python",
   "nbconvert_exporter": "python",
   "pygments_lexer": "ipython3",
   "version": "3.8.10"
  },
  "orig_nbformat": 4,
  "vscode": {
   "interpreter": {
    "hash": "6a07fcf0145f94b3f971c13d061528107de20ab7b779375f96dab9bbac6a85db"
   }
  }
 },
 "nbformat": 4,
 "nbformat_minor": 2
}
