{
 "cells": [
  {
   "cell_type": "markdown",
   "metadata": {},
   "source": [
    "### 416. Partition Equal Subset Sum"
   ]
  },
  {
   "cell_type": "markdown",
   "metadata": {},
   "source": [
    "**時間複雜度: O($n \\times target$)**  \n",
    "**空間複雜度: O($target$)**\n",
    "\n"
   ]
  },
  {
   "cell_type": "code",
   "execution_count": 1,
   "metadata": {},
   "outputs": [],
   "source": [
    "from typing import List\n",
    "\n",
    "class Solution:\n",
    "    def canPartition(self, nums: List[int]) -> bool:\n",
    "        # 計算總和\n",
    "        total_sum = sum(nums)\n",
    "        print(f\"{total_sum=}\")\n",
    "\n",
    "        # 如果總和是奇數，則無法分割成兩個相等的子集\n",
    "        if total_sum % 2 != 0:\n",
    "            return False\n",
    "\n",
    "        # 計算目標值，即總和的一半\n",
    "        target = total_sum // 2 # \"//\" 是整數除法\n",
    "        print(f\"{target=}\")\n",
    "\n",
    "        # 初始化動態規劃數組，dp[i] 表示是否可以從 nums 中選擇一些數字，使得它們的和為 i\n",
    "        dp = [False] * (target + 1) # space: O(target)\n",
    "        dp[0] = True # 和為 0 的子集是存在的 (空集合)\n",
    "        print(f\"{dp=}\")\n",
    "\n",
    "        # 遍歷 nums 中的每個數字\n",
    "        for num in nums: # time: O(n)\n",
    "            print(\"_\" * 100)\n",
    "            print(f\"{num=}, range: {target} to {num}\")\n",
    "            for i in range(target, (num-1), -1): # time: O(target)\n",
    "                print(\"-\" * 100)\n",
    "                print(f\"{num=}, {i=}\")\n",
    "                print(f\"(dp[i]=dp[{i}]={dp[i]}) or (dp[i-num]=dp[{i-num}]={dp[i-num]})\")\n",
    "\n",
    "                # 如果 `i-num== 0`，表示 `num = i`，`i` 一定可以達成\n",
    "                # 如果 `i-num` 是 True，表示 `i-num` 可以達成，則 `i-num` + `num` = `i` 也可以達成\n",
    "                # 如果 `i` 已經是 True，則不需要更新\n",
    "                dp[i] = dp[i] or dp[i-num]\n",
    "                print(f\"{dp=}\")\n",
    "\n",
    "                # 如果 `dp[target]` 是 True，則表示可以達成目標值\n",
    "                if dp[target]:\n",
    "                    return True\n",
    "\n",
    "        return False\n"
   ]
  },
  {
   "cell_type": "code",
   "execution_count": 2,
   "metadata": {},
   "outputs": [
    {
     "name": "stdout",
     "output_type": "stream",
     "text": [
      "total_sum=22\n",
      "target=11\n",
      "dp=[True, False, False, False, False, False, False, False, False, False, False, False]\n",
      "____________________________________________________________________________________________________\n",
      "num=1, range: 11 to 1\n",
      "----------------------------------------------------------------------------------------------------\n",
      "num=1, i=11\n",
      "(dp[i]=dp[11]=False) or (dp[i-num]=dp[10]=False)\n",
      "dp=[True, False, False, False, False, False, False, False, False, False, False, False]\n",
      "----------------------------------------------------------------------------------------------------\n",
      "num=1, i=10\n",
      "(dp[i]=dp[10]=False) or (dp[i-num]=dp[9]=False)\n",
      "dp=[True, False, False, False, False, False, False, False, False, False, False, False]\n",
      "----------------------------------------------------------------------------------------------------\n",
      "num=1, i=9\n",
      "(dp[i]=dp[9]=False) or (dp[i-num]=dp[8]=False)\n",
      "dp=[True, False, False, False, False, False, False, False, False, False, False, False]\n",
      "----------------------------------------------------------------------------------------------------\n",
      "num=1, i=8\n",
      "(dp[i]=dp[8]=False) or (dp[i-num]=dp[7]=False)\n",
      "dp=[True, False, False, False, False, False, False, False, False, False, False, False]\n",
      "----------------------------------------------------------------------------------------------------\n",
      "num=1, i=7\n",
      "(dp[i]=dp[7]=False) or (dp[i-num]=dp[6]=False)\n",
      "dp=[True, False, False, False, False, False, False, False, False, False, False, False]\n",
      "----------------------------------------------------------------------------------------------------\n",
      "num=1, i=6\n",
      "(dp[i]=dp[6]=False) or (dp[i-num]=dp[5]=False)\n",
      "dp=[True, False, False, False, False, False, False, False, False, False, False, False]\n",
      "----------------------------------------------------------------------------------------------------\n",
      "num=1, i=5\n",
      "(dp[i]=dp[5]=False) or (dp[i-num]=dp[4]=False)\n",
      "dp=[True, False, False, False, False, False, False, False, False, False, False, False]\n",
      "----------------------------------------------------------------------------------------------------\n",
      "num=1, i=4\n",
      "(dp[i]=dp[4]=False) or (dp[i-num]=dp[3]=False)\n",
      "dp=[True, False, False, False, False, False, False, False, False, False, False, False]\n",
      "----------------------------------------------------------------------------------------------------\n",
      "num=1, i=3\n",
      "(dp[i]=dp[3]=False) or (dp[i-num]=dp[2]=False)\n",
      "dp=[True, False, False, False, False, False, False, False, False, False, False, False]\n",
      "----------------------------------------------------------------------------------------------------\n",
      "num=1, i=2\n",
      "(dp[i]=dp[2]=False) or (dp[i-num]=dp[1]=False)\n",
      "dp=[True, False, False, False, False, False, False, False, False, False, False, False]\n",
      "----------------------------------------------------------------------------------------------------\n",
      "num=1, i=1\n",
      "(dp[i]=dp[1]=False) or (dp[i-num]=dp[0]=True)\n",
      "dp=[True, True, False, False, False, False, False, False, False, False, False, False]\n",
      "____________________________________________________________________________________________________\n",
      "num=5, range: 11 to 5\n",
      "----------------------------------------------------------------------------------------------------\n",
      "num=5, i=11\n",
      "(dp[i]=dp[11]=False) or (dp[i-num]=dp[6]=False)\n",
      "dp=[True, True, False, False, False, False, False, False, False, False, False, False]\n",
      "----------------------------------------------------------------------------------------------------\n",
      "num=5, i=10\n",
      "(dp[i]=dp[10]=False) or (dp[i-num]=dp[5]=False)\n",
      "dp=[True, True, False, False, False, False, False, False, False, False, False, False]\n",
      "----------------------------------------------------------------------------------------------------\n",
      "num=5, i=9\n",
      "(dp[i]=dp[9]=False) or (dp[i-num]=dp[4]=False)\n",
      "dp=[True, True, False, False, False, False, False, False, False, False, False, False]\n",
      "----------------------------------------------------------------------------------------------------\n",
      "num=5, i=8\n",
      "(dp[i]=dp[8]=False) or (dp[i-num]=dp[3]=False)\n",
      "dp=[True, True, False, False, False, False, False, False, False, False, False, False]\n",
      "----------------------------------------------------------------------------------------------------\n",
      "num=5, i=7\n",
      "(dp[i]=dp[7]=False) or (dp[i-num]=dp[2]=False)\n",
      "dp=[True, True, False, False, False, False, False, False, False, False, False, False]\n",
      "----------------------------------------------------------------------------------------------------\n",
      "num=5, i=6\n",
      "(dp[i]=dp[6]=False) or (dp[i-num]=dp[1]=True)\n",
      "dp=[True, True, False, False, False, False, True, False, False, False, False, False]\n",
      "----------------------------------------------------------------------------------------------------\n",
      "num=5, i=5\n",
      "(dp[i]=dp[5]=False) or (dp[i-num]=dp[0]=True)\n",
      "dp=[True, True, False, False, False, True, True, False, False, False, False, False]\n",
      "____________________________________________________________________________________________________\n",
      "num=11, range: 11 to 11\n",
      "----------------------------------------------------------------------------------------------------\n",
      "num=11, i=11\n",
      "(dp[i]=dp[11]=False) or (dp[i-num]=dp[0]=True)\n",
      "dp=[True, True, False, False, False, True, True, False, False, False, False, True]\n"
     ]
    },
    {
     "data": {
      "text/plain": [
       "True"
      ]
     },
     "execution_count": 2,
     "metadata": {},
     "output_type": "execute_result"
    }
   ],
   "source": [
    "nums = [1,5,11,5]\n",
    "Solution().canPartition(nums)\n"
   ]
  },
  {
   "cell_type": "code",
   "execution_count": null,
   "metadata": {},
   "outputs": [],
   "source": []
  }
 ],
 "metadata": {
  "kernelspec": {
   "display_name": ".venv",
   "language": "python",
   "name": "python3"
  },
  "language_info": {
   "codemirror_mode": {
    "name": "ipython",
    "version": 3
   },
   "file_extension": ".py",
   "mimetype": "text/x-python",
   "name": "python",
   "nbconvert_exporter": "python",
   "pygments_lexer": "ipython3",
   "version": "3.11.2"
  }
 },
 "nbformat": 4,
 "nbformat_minor": 2
}
