{
 "cells": [
  {
   "cell_type": "markdown",
   "metadata": {},
   "source": [
    "## 228. Summary Ranges"
   ]
  },
  {
   "cell_type": "markdown",
   "metadata": {},
   "source": [
    "<img src=\"img/228.jpg\" style=\"zoom:50%\"/>"
   ]
  },
  {
   "cell_type": "code",
   "execution_count": null,
   "metadata": {},
   "outputs": [],
   "source": [
    "class Solution:\n",
    "    def summaryRanges(self, nums: List[int]) -> List[str]:\n",
    "        if nums == []:\n",
    "            return nums\n",
    "        \n",
    "        start, end = nums[0], nums[0]\n",
    "        output = []\n",
    "        for i in nums[1:]:\n",
    "            if end + 1 == i:\n",
    "                end = i\n",
    "            else:\n",
    "                if start == end:\n",
    "                    output.append(str(end))\n",
    "                else:\n",
    "                    output.append(str(start) + \"->\" + str(end))\n",
    "                start, end = i, i\n",
    "                \n",
    "        if start == end:\n",
    "            output.append(str(end))\n",
    "        else:\n",
    "            output.append(str(start) + \"->\" + str(end))\n",
    "        \n",
    "        return output"
   ]
  }
 ],
 "metadata": {
  "language_info": {
   "name": "python"
  },
  "orig_nbformat": 4
 },
 "nbformat": 4,
 "nbformat_minor": 2
}
