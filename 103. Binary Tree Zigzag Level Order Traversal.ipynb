{
 "cells": [
  {
   "attachments": {},
   "cell_type": "markdown",
   "metadata": {},
   "source": [
    "### 103. Binary Tree Zigzag Level Order Traversal"
   ]
  },
  {
   "cell_type": "code",
   "execution_count": 1,
   "metadata": {},
   "outputs": [],
   "source": [
    "# Definition for a binary tree node.\n",
    "# class TreeNode:\n",
    "#     def __init__(self, val=0, left=None, right=None):\n",
    "#         self.val = val\n",
    "#         self.left = left\n",
    "#         self.right = right\n",
    "class Solution:\n",
    "    def zigzagLevelOrder(self, root):\n",
    "        if not root:\n",
    "          return []\n",
    "\n",
    "        result = []\n",
    "        queue = [root] # 初始化佇列，將第一層放入\n",
    "        reverse_flag = False\n",
    "\n",
    "        while len(queue) > 0: # 佇列為空，表示沒有下一層\n",
    "            print(f\"queue = {queue}\")\n",
    "            layer_values = [] # 創建一個list來儲存當前層級的節點值\n",
    "            layer_node_count = len(queue) # 取得當前層級的節點數量\n",
    "\n",
    "            for i in range(layer_node_count): # 使用迴圈依次處理當前層級的節點\n",
    "                node = queue.pop(0) # 從queue中取出第一個節點\n",
    "                print(f\"node({i}) = {node}\")\n",
    "                \n",
    "                if reverse_flag:\n",
    "                    layer_values.insert(0, node.val) # 將節點的值加入layer_values\n",
    "                else:                    \n",
    "                    layer_values.append(node.val) # 將節點的值加入layer_values\n",
    "                \n",
    "                if node.left:\n",
    "                    queue.append(node.left) # 如果節點有左子節點，將左子節點加入佇列\n",
    "                if node.right:\n",
    "                    queue.append(node.right) # 如果節點有右子節點，將右子節點加入佇列\n",
    "                \n",
    "            result.append(layer_values) # 完成迴圈後，將當前層級的節點值(layer_values)加入result中\n",
    "            print(f\"result = {result}\\n\")\n",
    "            reverse_flag = not reverse_flag\n",
    "\n",
    "        return result"
   ]
  },
  {
   "cell_type": "code",
   "execution_count": 2,
   "metadata": {},
   "outputs": [
    {
     "name": "stdout",
     "output_type": "stream",
     "text": [
      "queue = [<__main__.TreeNode object at 0x00000221C49A7970>]\n",
      "node(0) = <__main__.TreeNode object at 0x00000221C49A7970>\n",
      "result = [[3]]\n",
      "\n",
      "queue = [<__main__.TreeNode object at 0x00000221C49A7490>, <__main__.TreeNode object at 0x00000221C497ADC0>]\n",
      "node(0) = <__main__.TreeNode object at 0x00000221C49A7490>\n",
      "node(1) = <__main__.TreeNode object at 0x00000221C497ADC0>\n",
      "result = [[3], [20, 9]]\n",
      "\n",
      "queue = [<__main__.TreeNode object at 0x00000221C49A7640>, <__main__.TreeNode object at 0x00000221C49A78E0>]\n",
      "node(0) = <__main__.TreeNode object at 0x00000221C49A7640>\n",
      "node(1) = <__main__.TreeNode object at 0x00000221C49A78E0>\n",
      "result = [[3], [20, 9], [15, 7]]\n",
      "\n"
     ]
    },
    {
     "data": {
      "text/plain": [
       "[[3], [20, 9], [15, 7]]"
      ]
     },
     "execution_count": 2,
     "metadata": {},
     "output_type": "execute_result"
    }
   ],
   "source": [
    "class TreeNode:\n",
    "    def __init__(self, val=0, left=None, right=None):\n",
    "        self.val = val\n",
    "        self.left = left\n",
    "        self.right = right\n",
    "        \n",
    "root = TreeNode(3)\n",
    "root.left = TreeNode(9)\n",
    "root.right = TreeNode(20)\n",
    "root.right.left = TreeNode(15)\n",
    "root.right.right = TreeNode(7)\n",
    "\n",
    "Solution().zigzagLevelOrder(root)"
   ]
  }
 ],
 "metadata": {
  "kernelspec": {
   "display_name": ".venv",
   "language": "python",
   "name": "python3"
  },
  "language_info": {
   "codemirror_mode": {
    "name": "ipython",
    "version": 3
   },
   "file_extension": ".py",
   "mimetype": "text/x-python",
   "name": "python",
   "nbconvert_exporter": "python",
   "pygments_lexer": "ipython3",
   "version": "3.8.10"
  },
  "orig_nbformat": 4
 },
 "nbformat": 4,
 "nbformat_minor": 2
}
