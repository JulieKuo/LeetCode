{
 "cells": [
  {
   "cell_type": "markdown",
   "metadata": {},
   "source": [
    "## 299. Bulls and Cows"
   ]
  },
  {
   "cell_type": "code",
   "execution_count": 1,
   "metadata": {},
   "outputs": [],
   "source": [
    "class Solution:\n",
    "    def getHint(self, secret: str, guess: str) -> str:\n",
    "        digits = [0]*11\n",
    "        A = B = 0\n",
    "        for s, g in zip(secret, guess):\n",
    "            if s == g:\n",
    "                A += 1\n",
    "                print(f\"s: {s}, g: {g}\")\n",
    "            else:\n",
    "                print(f\"s: {s}, g: {g}\")\n",
    "                digits[int(s)] += 1\n",
    "                if digits[int(s)] <= 0:\n",
    "                    print(f\"digits[{s}] = {digits[int(s)]} (<= 0)\")\n",
    "                    B += 1\n",
    "                \n",
    "                digits[int(g)] -= 1\n",
    "                if digits[int(g)] >= 0:\n",
    "                    print(f\"digits[{g}] = {digits[int(g)]} (>= 0)\")\n",
    "                    B += 1\n",
    "                \n",
    "                print(f\"digits: {digits}\")\n",
    "            print(f\"A: {A}, B: {B}\\n\")\n",
    "            \n",
    "        return f\"{A}A{B}B\""
   ]
  },
  {
   "cell_type": "code",
   "execution_count": 2,
   "metadata": {},
   "outputs": [
    {
     "name": "stdout",
     "output_type": "stream",
     "text": [
      "s: 1, g: 7\n",
      "digits: [0, 1, 0, 0, 0, 0, 0, -1, 0, 0, 0]\n",
      "A: 0, B: 0\n",
      "\n",
      "s: 8, g: 8\n",
      "A: 1, B: 0\n",
      "\n",
      "s: 0, g: 1\n",
      "digits[1] = 0 (>= 0)\n",
      "digits: [1, 0, 0, 0, 0, 0, 0, -1, 0, 0, 0]\n",
      "A: 1, B: 1\n",
      "\n",
      "s: 7, g: 0\n",
      "digits[7] = 0 (<= 0)\n",
      "digits[0] = 0 (>= 0)\n",
      "digits: [0, 0, 0, 0, 0, 0, 0, 0, 0, 0, 0]\n",
      "A: 1, B: 3\n",
      "\n"
     ]
    },
    {
     "data": {
      "text/plain": [
       "'1A3B'"
      ]
     },
     "execution_count": 2,
     "metadata": {},
     "output_type": "execute_result"
    }
   ],
   "source": [
    "secret = \"1807\"; guess = \"7810\"\n",
    "# secret = \"1123\"; guess = \"0111\"\n",
    "# secret = \"1122\"; guess = \"1222\"\n",
    "Solution().getHint(secret, guess)"
   ]
  },
  {
   "cell_type": "code",
   "execution_count": 3,
   "metadata": {},
   "outputs": [],
   "source": [
    "class Solution:\n",
    "    def getHint(self, secret: str, guess: str) -> str:\n",
    "        s1, s2 = dict(), dict()\n",
    "        A = B = 0\n",
    "        for s, g in zip(secret, guess):\n",
    "            if s == g:\n",
    "                A += 1\n",
    "                print(s, g)\n",
    "            else:\n",
    "                if (s in s1) & (g in s2):\n",
    "                    s1[s] += 1\n",
    "                    s2[g] += 1\n",
    "                elif (s not in s1) &  (g not in s2):\n",
    "                    s1[s] = 1\n",
    "                    s2[g] = 1\n",
    "                elif  (s not in s1):\n",
    "                    s1[s] = 1\n",
    "                    s2[g] += 1\n",
    "                else:\n",
    "                    s1[s] += 1\n",
    "                    s2[g] = 1\n",
    "                \n",
    "                print(s, g, s1, s2)\n",
    "\n",
    "        for k in s1.keys():\n",
    "            if k in s2:\n",
    "                B += min(s1[k], s2[k])\n",
    "\n",
    "        return f\"{A}A{B}B\""
   ]
  }
 ],
 "metadata": {
  "kernelspec": {
   "display_name": ".venv",
   "language": "python",
   "name": "python3"
  },
  "language_info": {
   "codemirror_mode": {
    "name": "ipython",
    "version": 3
   },
   "file_extension": ".py",
   "mimetype": "text/x-python",
   "name": "python",
   "nbconvert_exporter": "python",
   "pygments_lexer": "ipython3",
   "version": "3.8.10"
  },
  "orig_nbformat": 4,
  "vscode": {
   "interpreter": {
    "hash": "6a07fcf0145f94b3f971c13d061528107de20ab7b779375f96dab9bbac6a85db"
   }
  }
 },
 "nbformat": 4,
 "nbformat_minor": 2
}
