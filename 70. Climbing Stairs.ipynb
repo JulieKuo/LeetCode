{
 "cells": [
  {
   "cell_type": "markdown",
   "metadata": {},
   "source": [
    "### 70. Climbing Stairs"
   ]
  },
  {
   "cell_type": "markdown",
   "metadata": {},
   "source": [
    "Fibonacci Numbers（費波那契數列）\n",
    "特點：\n",
    "- 序列的前兩個數字是 0 和 1\n",
    "- 從第三個數字開始，每個數字都是前兩個數字的和\n",
    "- ex: 0, 1, 1, 2, 3, 5, 8, 13, 21, 34, 55, 89, 144, ..."
   ]
  },
  {
   "cell_type": "markdown",
   "metadata": {},
   "source": [
    "- n 的可能組合數\n",
    "  - n-1 的可能組合數 + 一步\n",
    "  - n-2 的可能組合數 + 兩步\n",
    "\n",
    "#0-1  \n",
    "\n",
    "#1-1  \n",
    "1  \n",
    "  \n",
    "#2-2 (1+1)  \n",
    "1 1  (+1)  \n",
    "2  (+2)  \n",
    "  \n",
    "#3-3 (1+2)  \n",
    "1 1 1   (+1)  \n",
    "2 1   (+1)  \n",
    "1 2  (+2)  \n",
    "  \n",
    "#4-5 (2+3)  \n",
    "1 1 1 1   (+1)    \n",
    "2 1 1   (+1)  \n",
    "1 2 1   (+1)  \n",
    "1 1 2   (+2)  \n",
    "2 2   (+2)  \n",
    "  \n",
    "#5-8 (3+5)  \n",
    "1 1 1 1 1   (+1)   \n",
    "2 1 1 1   (+1)    \n",
    "1 2 1 1   (+1)  \n",
    "1 1 2 1   (+1)  \n",
    "2 2 1   (+1)  \n",
    "1 1 1 2   (+2)  \n",
    "2 1 2   (+2)  \n",
    "1 2 2   (+2)  \n",
    "  \n",
    "#6-13 (5+8)   \n",
    "1 1 1 1 1 1   (+1)  \n",
    "2 1 1 1 1   (+1)  \n",
    "1 2 1 1 1   (+1)  \n",
    "1 1 2 1 1   (+1)  \n",
    "2 2 1 1   (+1)  \n",
    "1 1 1 2 1   (+1)  \n",
    "2 1 2 1   (+1)  \n",
    "1 2 2 1   (+1)  \n",
    "1 1 1 1 2   (+2)  \n",
    "2 1 1 2   (+2)  \n",
    "1 2 1 2   (+2)  \n",
    "1 1 2 2   (+2)  \n",
    "2 2 2   (+2)  \n"
   ]
  },
  {
   "cell_type": "markdown",
   "metadata": {},
   "source": [
    "### Dynamic Programming - optimize\n",
    "\n",
    "**時間複雜度: O(n)**  \n",
    "**空間複雜度: O(1)**"
   ]
  },
  {
   "cell_type": "code",
   "execution_count": 1,
   "metadata": {},
   "outputs": [
    {
     "name": "stdout",
     "output_type": "stream",
     "text": [
      "last1: 1, last2: 1, current: 2\n",
      "last1: 2, last2: 1, current: 3\n",
      "last1: 3, last2: 2, current: 5\n"
     ]
    },
    {
     "data": {
      "text/plain": [
       "5"
      ]
     },
     "execution_count": 1,
     "metadata": {},
     "output_type": "execute_result"
    }
   ],
   "source": [
    "class Solution:\n",
    "    def climbStairs(self, n: int) -> int:\n",
    "        # 如果樓梯的階數小於等於1，則只有一種方法爬上樓梯\n",
    "        if n <= 1:\n",
    "            return 1\n",
    "\n",
    "        # 初始化變數，代表前兩個階段的方式數\n",
    "        last1 = 1  # 對應爬上 n-1 階的方式數，第 1 階為 1 # space: O(1)\n",
    "        last2 = 1  # 對應爬上 n-2 階的方式數，第 0 階為 1 # space: O(1)\n",
    "\n",
    "        # 從第2階開始計算，直到第n階\n",
    "        for _ in range(2, n+1): # time: O(n)\n",
    "            # 當前階段的方式數等於前兩個階段方式數之和\n",
    "            current = last1 + last2\n",
    "            print(f\"last1: {last1}, last2: {last2}, current: {current}\")\n",
    "\n",
    "            # 將前 1 階段的方式數移到前 2 階段\n",
    "            last2 = last1\n",
    "            # 將當前階段的方式數移到前 1 階段\n",
    "            last1 = current\n",
    "\n",
    "        # 返回到達第n階的方式數\n",
    "        return current\n",
    "    \n",
    "n = 4 # 5\n",
    "Solution().climbStairs(n)"
   ]
  },
  {
   "cell_type": "markdown",
   "metadata": {},
   "source": [
    "### Dynamic Programming\n",
    "\n",
    "**時間複雜度: O(n)**  \n",
    "**空間複雜度: O(n)**"
   ]
  },
  {
   "cell_type": "code",
   "execution_count": 2,
   "metadata": {},
   "outputs": [
    {
     "data": {
      "text/plain": [
       "5"
      ]
     },
     "execution_count": 2,
     "metadata": {},
     "output_type": "execute_result"
    }
   ],
   "source": [
    "class Solution:\n",
    "    def climbStairs(self, n: int) -> int:\n",
    "        # 如果樓梯的階數小於等於1，則只有一種方法爬上樓梯\n",
    "        if n <= 1:\n",
    "            return 1\n",
    "        \n",
    "        # 儲存每一階的方法數，已知爬第 0 階和第 1 階的方法數都是 1\n",
    "        dp = [0] * (n+1)\n",
    "        dp[0] = dp[1] = 1\n",
    "\n",
    "        # 從第2階開始計算，直到第n階\n",
    "        for i in range(2, n+1):\n",
    "            dp[i] = dp[i-1] + dp[i-2] # 當前階段的方式數等於前兩個階段方式數之和\n",
    "\n",
    "        return dp[n]\n",
    "    \n",
    "n = 4 # 5\n",
    "Solution().climbStairs(n)"
   ]
  },
  {
   "cell_type": "markdown",
   "metadata": {},
   "source": [
    "### Recursion - optimize\n",
    "\n",
    "**時間複雜度: O(n)**  \n",
    "**空間複雜度: O(n)**\n",
    "\n",
    "每個方法只計算一次"
   ]
  },
  {
   "cell_type": "code",
   "execution_count": 3,
   "metadata": {},
   "outputs": [
    {
     "data": {
      "text/plain": [
       "5"
      ]
     },
     "execution_count": 3,
     "metadata": {},
     "output_type": "execute_result"
    }
   ],
   "source": [
    "class Solution:\n",
    "    def climbStairs(self, n: int) -> int:\n",
    "        # 儲存每一階的方法數，已知爬第 0 階和第 1 階的方法數都是 1\n",
    "        memory = [0] * (n + 1)\n",
    "        memory[0] = memory[1] = 1\n",
    "        \n",
    "        return self.climb(n, memory) # 遞迴計算爬到第 n 階的方法數\n",
    "    \n",
    "    def climb(self, n, memory):\n",
    "        # 如果 memory[n] 不為 0，表示之前已經計算過，可以直接返回結果\n",
    "        if memory[n] != 0:\n",
    "            return memory[n]\n",
    "        \n",
    "        # 遞迴計算爬到第 n 階的方法數，等於爬到第 n-1 階和第 n-2 階的方法數之和\n",
    "        memory[n] = self.climb(n - 1, memory) + self.climb(n - 2, memory)\n",
    "\n",
    "        # 返回計算出的方法數\n",
    "        return memory[n]\n",
    "\n",
    "n = 4 # 5\n",
    "Solution().climbStairs(n)"
   ]
  },
  {
   "cell_type": "markdown",
   "metadata": {},
   "source": [
    "### Recursion\n",
    "\n",
    "**時間複雜度: O(2<sup>n</sup>)**  \n",
    "**空間複雜度: O(1)**\n",
    "\n",
    "每次遞歸調用都會產生兩個新的調用，形成二叉樹狀的遞歸結構。  \n",
    "高度為 𝑛 的二叉樹節點數量:  \n",
    "1 + 2 + 4 + ... + 2<sup>(n-1)</sup>"
   ]
  },
  {
   "cell_type": "code",
   "execution_count": 4,
   "metadata": {},
   "outputs": [
    {
     "name": "stdout",
     "output_type": "stream",
     "text": [
      "n: 4, n-1: 3, n-2: 2\n",
      "n: 3, n-1: 2, n-2: 1\n",
      "n: 2, n-1: 1, n-2: 0\n",
      "n: 1, n-1: 0, n-2: -1\n",
      "n: 0, n-1: -1, n-2: -2\n",
      "n: 1, n-1: 0, n-2: -1\n",
      "n: 2, n-1: 1, n-2: 0\n",
      "n: 1, n-1: 0, n-2: -1\n",
      "n: 0, n-1: -1, n-2: -2\n"
     ]
    },
    {
     "data": {
      "text/plain": [
       "5"
      ]
     },
     "execution_count": 4,
     "metadata": {},
     "output_type": "execute_result"
    }
   ],
   "source": [
    "class Solution:\n",
    "    def climbStairs(self, n: int) -> int:\n",
    "        print(f\"n: {n}, n-1: {n-1}, n-2: {n-2}\")\n",
    "        \n",
    "        # 如果樓梯的階數小於等於1，則只有一種方法爬上樓梯\n",
    "        if n <= 1:\n",
    "            return 1\n",
    "        \n",
    "        # print(\"-\"*50)\n",
    "        # print(f\"-> last1: n-1: {n-1}\")\n",
    "        last1 = self.climbStairs(n-1)\n",
    "\n",
    "        # print(\"-\"*50)\n",
    "        # print(f\"-> last2: n-2: {n-2}\")\n",
    "        last2 = self.climbStairs(n-2)\n",
    "        \n",
    "        # print(\"_\"*50)\n",
    "        \n",
    "        return last1 + last2\n",
    "    \n",
    "n = 4 # 5\n",
    "Solution().climbStairs(n)"
   ]
  },
  {
   "cell_type": "markdown",
   "metadata": {},
   "source": [
    "### 矩陣快速冪\n",
    "**時間複雜度: O($log\\ n$)**  \n",
    "**空間複雜度: O(1)**"
   ]
  },
  {
   "cell_type": "markdown",
   "metadata": {},
   "source": [
    "**斐波那契數列的遞迴關係**  \n",
    "$$F(n) = F(n-1) + F(n-2)$$\n",
    "其中 \n",
    "$$F(0) = 0, F(1) = 1$$\n",
    "\n",
    "可以寫成矩陣形式:\n",
    "$$\n",
    "\\begin{pmatrix}\n",
    "F(n) \\\\\n",
    "F(n-1)\n",
    "\\end{pmatrix}\n",
    "=\n",
    "\\begin{pmatrix}\n",
    "1 & 1 \\\\\n",
    "1 & 0\n",
    "\\end{pmatrix}\n",
    "\\begin{pmatrix}\n",
    "F(n-1) \\\\\n",
    "F(n-2)\n",
    "\\end{pmatrix}\n",
    "$$\n",
    "\n",
    "進一步推廣為：\n",
    "\n",
    "$$\n",
    "\\begin{pmatrix}\n",
    "F(n) \\\\\n",
    "F(n-1)\n",
    "\\end{pmatrix}\n",
    "=\n",
    "\\begin{pmatrix}\n",
    "1 & 1 \\\\\n",
    "1 & 0\n",
    "\\end{pmatrix}\n",
    "^{n-1}\n",
    "\\begin{pmatrix}\n",
    "F(1) \\\\\n",
    "F(0)\n",
    "\\end{pmatrix}\n",
    "$$\n",
    "\n",
    "**快速冪算法**  \n",
    "假設  \n",
    "$$\n",
    "A = \n",
    "\\begin{pmatrix}\n",
    "1 & 1 \\\\\n",
    "1 & 0\n",
    "\\end{pmatrix}$$\n",
    "則\n",
    "$$A^{9} = A^{8} \\times A$$\n",
    "因為\n",
    "$$A^{8} = (A^{4})^{2}$$\n",
    "$$A^{4} = (A^{2})^{2}$$\n",
    "$$A^{2} = A \\times A$$\n",
    "所以只需要計算四次平方運算和一次乘法運算，即可得到$A^{9}$"
   ]
  },
  {
   "cell_type": "code",
   "execution_count": null,
   "metadata": {},
   "outputs": [],
   "source": [
    "class Solution:\n",
    "    def climbStairs(self, n: int) -> int:\n",
    "        # 如果n小於等於1，則只有一種方法\n",
    "        if n <= 1:\n",
    "            return 1\n",
    "        \n",
    "        # 初始化q矩陣，表示斐波那契數列的轉移矩陣\n",
    "        q_matrix = [[1, 1], [1, 0]]\n",
    "        # 計算q矩陣的n次方\n",
    "        result_matrix = self.matrix_pow(q_matrix, n)\n",
    "        # 返回結果矩陣的第一個元素，即斐波那契數列的第n項\n",
    "        return result_matrix[0][0]   \n",
    "    \n",
    "    def matrix_pow(self, matrix, power):\n",
    "        # 初始化為單位矩陣\n",
    "        result = [[1, 0], [0, 1]]  # 單位矩陣\n",
    "        while power:\n",
    "            # 如果power是奇數，則乘上當前矩陣\n",
    "            if power % 2:\n",
    "                result = self.multiply_matrix(result, matrix)\n",
    "            # 將power減半\n",
    "            power //= 2\n",
    "            # 矩陣自乘\n",
    "            matrix = self.multiply_matrix(matrix, matrix)\n",
    "        return result\n",
    "        \n",
    "    def multiply_matrix(self, A, B):\n",
    "        # 矩陣乘法，計算兩個2x2矩陣的乘積\n",
    "        return [[A[0][0] * B[0][0] + A[0][1] * B[1][0], A[0][0] * B[0][1] + A[0][1] * B[1][1]],\n",
    "                [A[1][0] * B[0][0] + A[1][1] * B[1][0], A[1][0] * B[0][1] + A[1][1] * B[1][1]]]\n"
   ]
  }
 ],
 "metadata": {
  "kernelspec": {
   "display_name": ".venv",
   "language": "python",
   "name": "python3"
  },
  "language_info": {
   "codemirror_mode": {
    "name": "ipython",
    "version": 3
   },
   "file_extension": ".py",
   "mimetype": "text/x-python",
   "name": "python",
   "nbconvert_exporter": "python",
   "pygments_lexer": "ipython3",
   "version": "3.9.13"
  }
 },
 "nbformat": 4,
 "nbformat_minor": 2
}
