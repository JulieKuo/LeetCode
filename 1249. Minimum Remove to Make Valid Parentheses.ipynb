{
 "cells": [
  {
   "cell_type": "markdown",
   "metadata": {},
   "source": [
    "## 1249. Minimum Remove to Make Valid Parentheses"
   ]
  },
  {
   "cell_type": "code",
   "execution_count": 1,
   "metadata": {},
   "outputs": [
    {
     "data": {
      "text/plain": [
       "'ab(c(d))f'"
      ]
     },
     "execution_count": 1,
     "metadata": {},
     "output_type": "execute_result"
    }
   ],
   "source": [
    "class Solution:\n",
    "    def minRemoveToMakeValid(self, s: str) -> str:\n",
    "        s = list(s)\n",
    "\n",
    "        # print(\"<< right to left >>\")\n",
    "        #由右至左，若括號沒有成對，就把字改成空字串\n",
    "        count = 0\n",
    "        for i in range(len(s)):\n",
    "            # print(f\"i = {i}, character = {s[i]}, init_count = {count}\", end = \" ---- \")\n",
    "            if s[i] == \"(\":\n",
    "                count += 1\n",
    "            elif s[i] == \")\":\n",
    "                if count == 0:\n",
    "                    s[i] = \"\"\n",
    "                else:\n",
    "                    count -= 1\n",
    "            # print(f\"new_count = {count}, s = {s}\\n\")\n",
    "\n",
    "\n",
    "        # print(\"\\n<< left to right >>\")\n",
    "        #由左至右，若括號沒有成對，就把字改成空字串\n",
    "        count = 0\n",
    "        for i in range(len(s)-1, -1, -1):\n",
    "            # print(f\"i = {i}, character = {s[i]}, init_count = {count}\", end = \" ---- \")\n",
    "            if s[i] == \")\":\n",
    "                count += 1\n",
    "            elif s[i] == \"(\":\n",
    "                if count == 0:\n",
    "                    s[i] = \"\"\n",
    "                else:\n",
    "                    count -= 1\n",
    "            # print(f\"new_count = {count}, s = {s}\\n\")\n",
    "\n",
    "\n",
    "        res = \"\".join(s)\n",
    "\n",
    "        return res\n",
    "\n",
    "s = \"a)b(c(d))(f\"\n",
    "Solution().minRemoveToMakeValid(s)"
   ]
  },
  {
   "cell_type": "code",
   "execution_count": 2,
   "metadata": {},
   "outputs": [
    {
     "name": "stdout",
     "output_type": "stream",
     "text": [
      "index = 0,  character = l,  stack = []\n",
      "index = 1,  character = e,  stack = []\n",
      "index = 2,  character = e,  stack = []\n",
      "index = 3,  character = (,  stack = [3]\n",
      "index = 4,  character = t,  stack = [3]\n",
      "index = 5,  character = (,  stack = [3, 5]\n",
      "index = 6,  character = c,  stack = [3, 5]\n",
      "index = 7,  character = ),  stack = [3]\n",
      "index = 8,  character = o,  stack = [3]\n",
      "index = 9,  character = ),  stack = []\n",
      "index = 10,  character = d,  stack = []\n",
      "index = 11,  character = e,  stack = []\n",
      "index = 12,  character = ),  stack = [12]\n"
     ]
    },
    {
     "data": {
      "text/plain": [
       "'lee(t(c)o)de'"
      ]
     },
     "execution_count": 2,
     "metadata": {},
     "output_type": "execute_result"
    }
   ],
   "source": [
    "class Solution:\n",
    "    def minRemoveToMakeValid(self, s: str) -> str:\n",
    "        stack = []\n",
    "        for i in range(len(s)):\n",
    "            if s[i] == \"(\": # 左括號的index存入stack\n",
    "                stack.append(i)\n",
    "            elif s[i] == \")\":\n",
    "                if len(stack) == 0 or s[stack[-1]] != \"(\": # 若stack無任何值或左括號的index，將右括號的index存入stack\n",
    "                    stack.append(i)\n",
    "                else: # 若stack有儲存左括號的index，表示可與右括號配對。刪除最後一個左括號的index\n",
    "                    stack.pop()\n",
    "\n",
    "            print(f\"index = {i},  character = {s[i]},  stack = {stack}\")\n",
    "            \n",
    "        res = \"\".join([s[i] for i in range(len(s)) if i not in stack]) #保留在stack中的index不該出現在result中\n",
    "\n",
    "        return res\n",
    "\n",
    "s = \"lee(t(c)o)de)\"\n",
    "Solution().minRemoveToMakeValid(s)"
   ]
  }
 ],
 "metadata": {
  "kernelspec": {
   "display_name": "Python 3.8.7 ('.venv': venv)",
   "language": "python",
   "name": "python3"
  },
  "language_info": {
   "codemirror_mode": {
    "name": "ipython",
    "version": 3
   },
   "file_extension": ".py",
   "mimetype": "text/x-python",
   "name": "python",
   "nbconvert_exporter": "python",
   "pygments_lexer": "ipython3",
   "version": "3.8.7"
  },
  "orig_nbformat": 4,
  "vscode": {
   "interpreter": {
    "hash": "6a07fcf0145f94b3f971c13d061528107de20ab7b779375f96dab9bbac6a85db"
   }
  }
 },
 "nbformat": 4,
 "nbformat_minor": 2
}
