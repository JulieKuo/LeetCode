{
 "cells": [
  {
   "cell_type": "markdown",
   "metadata": {
    "vscode": {
     "languageId": "plaintext"
    }
   },
   "source": [
    "### 113. Path Sum II"
   ]
  },
  {
   "cell_type": "markdown",
   "metadata": {},
   "source": [
    "**時間複雜度: $O( n )$**  \n",
    "**空間複雜度: $O( L \\times H )$**\n",
    "\n",
    "- 遞迴空間 $O( H )$   \n",
    "  若二元樹的高度為 $H$\n",
    "  - 在最好的情況（完全平衡樹）下，$H = log{_2}{n}$\n",
    "    ``` md\n",
    "        1\n",
    "      /  \\\n",
    "      2    3\n",
    "    /\n",
    "    4\n",
    "\n",
    "    ```\n",
    "  - 在最壞情況（退化成鏈狀樹）下，$H = n$\n",
    "    ``` md\n",
    "    1\n",
    "    \\\n",
    "      2\n",
    "      \\\n",
    "        3\n",
    "        \\\n",
    "          4\n",
    "    ```\n",
    "\n",
    "- 結果列表空間：$O( L \\times H )$   \n",
    "  若二元樹的葉子節點數量為 $L$\n",
    "  - 在最好的情況（完全平衡樹）下  \n",
    "    $L = n/2$ （葉子數接近節點數的一半）\n",
    "  - 在最壞情況（退化成鏈狀樹）下  \n",
    "    $L = 1$\n",
    "\n",
    "- 總結空間\n",
    "  - 最好的情況\n",
    "    $O(n \\times log{_2}{n})$\n",
    "  - 最壞情況\n",
    "    $O(n)$"
   ]
  },
  {
   "cell_type": "markdown",
   "metadata": {},
   "source": [
    "可參考257的複雜度分析"
   ]
  },
  {
   "cell_type": "code",
   "execution_count": 1,
   "metadata": {},
   "outputs": [],
   "source": [
    "# Definition for a binary tree node.\n",
    "class TreeNode:\n",
    "    def __init__(self, val=0, left=None, right=None):\n",
    "        self.val = val\n",
    "        self.left = left\n",
    "        self.right = right"
   ]
  },
  {
   "cell_type": "code",
   "execution_count": 2,
   "metadata": {},
   "outputs": [],
   "source": [
    "from typing import List, Optional\n",
    "\n",
    "class Solution:\n",
    "    def pathSum(self, root: Optional[TreeNode], targetSum: int) -> List[List[int]]:\n",
    "        # PreOrder_dfs: 前序遍歷 + 深度優先搜索 (Depth First Search)，root -> left -> right\n",
    "        def PreOrder_dfs(node, targetSum, path):\n",
    "            if not node:  # 如果當前節點為空，直接返回\n",
    "                return\n",
    "\n",
    "            print(f\"\\ninit: {targetSum=}, {node.val=}\")\n",
    "            \n",
    "            # 更新目標和，並將當前節點的值加入路徑\n",
    "            targetSum -= node.val\n",
    "            path.append(node.val)\n",
    "            \n",
    "            print(f\"new: {targetSum=}, {path=}\")\n",
    "\n",
    "            # 如果當前節點是葉子節點（左右子節點皆為 None），且剩餘目標和為 0，說明找到一條符合條件的路徑\n",
    "            if (not node.left) and (not node.right) and (targetSum == 0):\n",
    "                result.append(list(path))  # 將當前路徑深拷貝加入結果\n",
    "                print(f\"{result=}\")\n",
    "\n",
    "            else:                \n",
    "                PreOrder_dfs(node.left, targetSum, path) # 遞歸處理左子樹                \n",
    "                PreOrder_dfs(node.right, targetSum, path) # 遞歸處理右子樹\n",
    "\n",
    "            path.pop() # 回溯：從路徑中移除當前節點，恢復狀態\n",
    "            print(f\"end: {targetSum=}, {path=}\")\n",
    "        \n",
    "        \n",
    "        result = [] # 存儲所有的根到葉子的路徑     \n",
    "        PreOrder_dfs(root, targetSum, path=[])  # 從根節點開始執行遞迴 # time: O(N)，N: 節點數\n",
    "\n",
    "        return result"
   ]
  },
  {
   "cell_type": "code",
   "execution_count": 3,
   "metadata": {},
   "outputs": [
    {
     "name": "stdout",
     "output_type": "stream",
     "text": [
      "\n",
      "init: targetSum=22, node.val=5\n",
      "new: targetSum=17, path=[5]\n",
      "\n",
      "init: targetSum=17, node.val=4\n",
      "new: targetSum=13, path=[5, 4]\n",
      "\n",
      "init: targetSum=13, node.val=11\n",
      "new: targetSum=2, path=[5, 4, 11]\n",
      "\n",
      "init: targetSum=2, node.val=7\n",
      "new: targetSum=-5, path=[5, 4, 11, 7]\n",
      "end: targetSum=-5, path=[5, 4, 11]\n",
      "\n",
      "init: targetSum=2, node.val=2\n",
      "new: targetSum=0, path=[5, 4, 11, 2]\n",
      "result=[[5, 4, 11, 2]]\n",
      "end: targetSum=0, path=[5, 4, 11]\n",
      "end: targetSum=2, path=[5, 4]\n",
      "end: targetSum=13, path=[5]\n",
      "\n",
      "init: targetSum=17, node.val=8\n",
      "new: targetSum=9, path=[5, 8]\n",
      "\n",
      "init: targetSum=9, node.val=13\n",
      "new: targetSum=-4, path=[5, 8, 13]\n",
      "end: targetSum=-4, path=[5, 8]\n",
      "\n",
      "init: targetSum=9, node.val=4\n",
      "new: targetSum=5, path=[5, 8, 4]\n",
      "\n",
      "init: targetSum=5, node.val=5\n",
      "new: targetSum=0, path=[5, 8, 4, 5]\n",
      "result=[[5, 4, 11, 2], [5, 8, 4, 5]]\n",
      "end: targetSum=0, path=[5, 8, 4]\n",
      "\n",
      "init: targetSum=5, node.val=1\n",
      "new: targetSum=4, path=[5, 8, 4, 1]\n",
      "end: targetSum=4, path=[5, 8, 4]\n",
      "end: targetSum=5, path=[5, 8]\n",
      "end: targetSum=9, path=[5]\n",
      "end: targetSum=17, path=[]\n"
     ]
    },
    {
     "data": {
      "text/plain": [
       "[[5, 4, 11, 2], [5, 8, 4, 5]]"
      ]
     },
     "execution_count": 3,
     "metadata": {},
     "output_type": "execute_result"
    }
   ],
   "source": [
    "# root = [5,4,8,11,null,13,4,7,2,null,null,5,1]\n",
    "targetSum = 22\n",
    "\n",
    "root = TreeNode(5)\n",
    "root.left = TreeNode(4)\n",
    "root.right = TreeNode(8)\n",
    "root.left.left = TreeNode(11)\n",
    "root.left.left.left = TreeNode(7)\n",
    "root.left.left.right = TreeNode(2)\n",
    "root.right.left = TreeNode(13)\n",
    "root.right.right = TreeNode(4)\n",
    "root.right.right.left = TreeNode(5)\n",
    "root.right.right.right = TreeNode(1)\n",
    "\n",
    "Solution().pathSum(root, targetSum) # [[5,4,11,2],[5,8,4,5]]"
   ]
  }
 ],
 "metadata": {
  "kernelspec": {
   "display_name": ".venv",
   "language": "python",
   "name": "python3"
  },
  "language_info": {
   "codemirror_mode": {
    "name": "ipython",
    "version": 3
   },
   "file_extension": ".py",
   "mimetype": "text/x-python",
   "name": "python",
   "nbconvert_exporter": "python",
   "pygments_lexer": "ipython3",
   "version": "3.11.2"
  }
 },
 "nbformat": 4,
 "nbformat_minor": 2
}
