{
 "cells": [
  {
   "cell_type": "markdown",
   "metadata": {},
   "source": [
    "## 121. Best Time to Buy and Sell Stock"
   ]
  },
  {
   "cell_type": "markdown",
   "metadata": {},
   "source": [
    "<img src=\"img/121.jpg\" style=\"zoom:50%\"/>"
   ]
  },
  {
   "cell_type": "markdown",
   "metadata": {},
   "source": [
    "* 時間複雜度: O(n)\n",
    "* 空間複雜度: O(1)"
   ]
  },
  {
   "cell_type": "code",
   "execution_count": null,
   "metadata": {},
   "outputs": [],
   "source": [
    "# Runtime 分數較高\n",
    "class Solution:\n",
    "    def maxProfit(self, prices: List[int]) -> int:\n",
    "        base = prices[0]\n",
    "        profit = 0\n",
    "\n",
    "        for price in prices[1:]:\n",
    "            if price < base:\n",
    "                base = price\n",
    "            \n",
    "            if (price - base) > profit:\n",
    "                profit = (price - base)\n",
    "        \n",
    "        return profit"
   ]
  },
  {
   "cell_type": "code",
   "execution_count": null,
   "metadata": {},
   "outputs": [],
   "source": [
    "# Runtime 分數較低\n",
    "class Solution:\n",
    "    def maxProfit(self, prices: List[int]) -> int:\n",
    "        base = prices[0]\n",
    "        profit = 0\n",
    "\n",
    "        for price in prices[1:]:\n",
    "            base = min(base, price)\n",
    "            profit = max(profit, (price - base))\n",
    "        \n",
    "        return profit"
   ]
  }
 ],
 "metadata": {
  "language_info": {
   "name": "python"
  },
  "orig_nbformat": 4
 },
 "nbformat": 4,
 "nbformat_minor": 2
}
