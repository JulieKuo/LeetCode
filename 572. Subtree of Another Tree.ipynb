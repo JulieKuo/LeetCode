{
 "cells": [
  {
   "cell_type": "markdown",
   "metadata": {},
   "source": [
    "### 572. Subtree of Another Tree"
   ]
  },
  {
   "cell_type": "code",
   "execution_count": 1,
   "metadata": {},
   "outputs": [],
   "source": [
    "# Definition for a binary tree node.\n",
    "class TreeNode:\n",
    "    def __init__(self, val=0, left=None, right=None):\n",
    "        self.val = val\n",
    "        self.left = left\n",
    "        self.right = right"
   ]
  },
  {
   "cell_type": "code",
   "execution_count": 2,
   "metadata": {},
   "outputs": [],
   "source": [
    "root = TreeNode(\n",
    "    val = 3,\n",
    "    left = TreeNode(\n",
    "        val = 4,\n",
    "        left = TreeNode(\n",
    "            val = 1,\n",
    "            left = None,\n",
    "            right = None\n",
    "        ),\n",
    "        right = TreeNode(\n",
    "            val = 2,\n",
    "            left = None,\n",
    "            right = None\n",
    "        ),\n",
    "    ),\n",
    "    right = TreeNode(\n",
    "        val = 5,\n",
    "        left = None,\n",
    "        right = None\n",
    "    )\n",
    ")\n",
    "\n",
    "subRoot = TreeNode(\n",
    "    val = 4,\n",
    "    left = TreeNode(\n",
    "        val = 1,\n",
    "        left = None,\n",
    "        right = None\n",
    "    ),\n",
    "    right = TreeNode(\n",
    "        val = 2,\n",
    "        left = None,\n",
    "        right = None\n",
    "    )\n",
    ")\n",
    "\n",
    "# Input: root = [3,4,5,1,2], subRoot = [4,1,2]\n",
    "# Output: true"
   ]
  },
  {
   "cell_type": "markdown",
   "metadata": {},
   "source": [
    "**時間複雜度: $O(n * m)$**  \n",
    "**空間複雜度: $O(n + m)$**\n",
    "\n",
    "$ n $: root 的 node 數  \n",
    "$ m $: subRoot 的 node 數"
   ]
  },
  {
   "cell_type": "code",
   "execution_count": 3,
   "metadata": {},
   "outputs": [],
   "source": [
    "from typing import Optional\n",
    "\n",
    "class Solution:\n",
    "    def isSubtree(self, root: Optional[TreeNode], subRoot: Optional[TreeNode]) -> bool:  # time: O(n * m), space: O(n + m)\n",
    "        # 如果 subRoot 為空樹，則必定是任何樹的子樹，回傳 True\n",
    "        if not subRoot:\n",
    "            return True\n",
    "        \n",
    "        # 如果 root 為空樹，但 subRoot 不為空，則不可能是子樹，回傳 False\n",
    "        if not root:\n",
    "            return False\n",
    "        \n",
    "        # 檢查當前 root 與 subRoot 是否為相同的樹\n",
    "        same_tree_flag = self.same_tree(root, subRoot) # time: O(m), space: O(m)\n",
    "        if same_tree_flag:\n",
    "            return True\n",
    "        \n",
    "        # 如果當前 root 與 subRoot 不相同，\n",
    "        # 則繼續遞迴檢查 root 的左子樹與右子樹是否包含 subRoot\n",
    "        left_flag = self.isSubtree(root.left, subRoot) # time: O(n), space: O(n)\n",
    "        right_flag = self.isSubtree(root.right, subRoot) # time: O(n), space: O(n)\n",
    "\n",
    "        # 只要左子樹或右子樹有符合，就回傳 True\n",
    "        return left_flag or right_flag\n",
    "\n",
    "    def same_tree(self, root, subRoot):\n",
    "        # 若兩棵樹同時為空，則結構相同，回傳 True\n",
    "        if not root and not subRoot:\n",
    "            return True\n",
    "        \n",
    "        # 若兩棵樹都不為空，且當前節點值相等，\n",
    "        # 則繼續檢查左右子樹是否相同\n",
    "        if root and subRoot and root.val == subRoot.val:\n",
    "            left_flag = self.same_tree(root.left, subRoot.left)\n",
    "            right_flag = self.same_tree(root.right, subRoot.right)\n",
    "\n",
    "            # 只有當左右子樹都相同時才回傳 True\n",
    "            return left_flag and right_flag\n",
    "        \n",
    "        # 其他情況（結構不同或值不同），回傳 False\n",
    "        return False"
   ]
  },
  {
   "cell_type": "code",
   "execution_count": 4,
   "metadata": {},
   "outputs": [
    {
     "data": {
      "text/plain": [
       "True"
      ]
     },
     "execution_count": 4,
     "metadata": {},
     "output_type": "execute_result"
    }
   ],
   "source": [
    "Solution().isSubtree(root, subRoot)"
   ]
  }
 ],
 "metadata": {
  "kernelspec": {
   "display_name": ".venv (3.12.8)",
   "language": "python",
   "name": "python3"
  },
  "language_info": {
   "codemirror_mode": {
    "name": "ipython",
    "version": 3
   },
   "file_extension": ".py",
   "mimetype": "text/x-python",
   "name": "python",
   "nbconvert_exporter": "python",
   "pygments_lexer": "ipython3",
   "version": "3.12.8"
  },
  "orig_nbformat": 4
 },
 "nbformat": 4,
 "nbformat_minor": 2
}
