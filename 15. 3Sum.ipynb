{
 "cells": [
  {
   "cell_type": "markdown",
   "metadata": {},
   "source": [
    "### 15. 3Sum"
   ]
  },
  {
   "cell_type": "markdown",
   "metadata": {},
   "source": [
    "**時間複雜度: O( $n^2$ )**   \n",
    "**空間複雜度: O( $n^2$ )** "
   ]
  },
  {
   "cell_type": "code",
   "execution_count": 1,
   "metadata": {},
   "outputs": [],
   "source": [
    "class Solution:\n",
    "    def threeSum(self, nums):\n",
    "        nums.sort() # 將輸入的數組進行排序 # time: O(nlogn), space: O(1)\n",
    "        print(f\"nums = {nums}\")\n",
    "\n",
    "        result = [] # space: O(n^2)，所有三元組都有效\n",
    "        # 遍歷數組，直到倒數第三個元素 # time: O(n^2)\n",
    "        for i in range(len(nums)-2): # time: O(n)\n",
    "            print(f\"{'-'*100}\") \n",
    "            \n",
    "            # 跳過重複元素\n",
    "            if (i > 0) and (nums[i] == nums[i - 1]):\n",
    "                print(\"nums[i] == nums[i-1], skip.\")\n",
    "                continue\n",
    "\n",
    "            left, right = i + 1, len(nums) - 1  # 初始化左指針和右指針 # space: O(1)\n",
    "            print(f\"i = {i}, left = {left}, right = {right}\")\n",
    "            \n",
    "            # 當左指針小於右指針時 # time: O(n)\n",
    "            while left < right:\n",
    "                total = (nums[i] + nums[left] + nums[right])  # 計算三個數的和\n",
    "                print(f\"\\ninit: i = {i}, left = {left}, right = {right}\")\n",
    "                print(f\"nums[i]({nums[i]}) + nums[left]({nums[left]}) + nums[right]({nums[right]}) = {total} = total\")\n",
    "                \n",
    "                if total == 0:\n",
    "                    result.append([nums[i], nums[left], nums[right]]) # 若和為0，則將這組數添加到結果列表中\n",
    "                    print(f\"res = {result}\")\n",
    "\n",
    "                    # 移動左指針，跳過所有重複的元素\n",
    "                    while (left < right) and (nums[left+1] == nums[left]):\n",
    "                        left += 1\n",
    "                    # 移動右指針，跳過所有重複的元素\n",
    "                    while (left < right) and nums[right-1] == nums[right]:\n",
    "                        right -= 1\n",
    "\n",
    "                    # 繼續移動左指針和右指針以尋找下一組數\n",
    "                    left += 1\n",
    "                    right -= 1\n",
    "\n",
    "                    print(f\"total == 0, new: i = {i}, left = {left}, right = {right}\")\n",
    "\n",
    "                elif total < 0:\n",
    "                    # 若和小於0，則移動左指針以增加總和\n",
    "                    left += 1\n",
    "                    print(f\"total < 0, new: i = {i}, left = {left}, right = {right}\")\n",
    "\n",
    "                else:\n",
    "                    # 若和大於0，則移動右指針以減少總和\n",
    "                    right -= 1\n",
    "                    print(f\"total > 0, new: i = {i}, left = {left}, right = {right}\")\n",
    "    \n",
    "        return result  # 返回結果列表\n"
   ]
  },
  {
   "cell_type": "code",
   "execution_count": 2,
   "metadata": {},
   "outputs": [
    {
     "name": "stdout",
     "output_type": "stream",
     "text": [
      "nums = [-4, -1, -1, 0, 1, 2]\n",
      "----------------------------------------------------------------------------------------------------\n",
      "i = 0, left = 1, right = 5\n",
      "\n",
      "init: i = 0, left = 1, right = 5\n",
      "nums[i](-4) + nums[left](-1) + nums[right](2) = -3 = total\n",
      "total < 0, new: i = 0, left = 2, right = 5\n",
      "\n",
      "init: i = 0, left = 2, right = 5\n",
      "nums[i](-4) + nums[left](-1) + nums[right](2) = -3 = total\n",
      "total < 0, new: i = 0, left = 3, right = 5\n",
      "\n",
      "init: i = 0, left = 3, right = 5\n",
      "nums[i](-4) + nums[left](0) + nums[right](2) = -2 = total\n",
      "total < 0, new: i = 0, left = 4, right = 5\n",
      "\n",
      "init: i = 0, left = 4, right = 5\n",
      "nums[i](-4) + nums[left](1) + nums[right](2) = -1 = total\n",
      "total < 0, new: i = 0, left = 5, right = 5\n",
      "----------------------------------------------------------------------------------------------------\n",
      "i = 1, left = 2, right = 5\n",
      "\n",
      "init: i = 1, left = 2, right = 5\n",
      "nums[i](-1) + nums[left](-1) + nums[right](2) = 0 = total\n",
      "res = [[-1, -1, 2]]\n",
      "total == 0, new: i = 1, left = 3, right = 4\n",
      "\n",
      "init: i = 1, left = 3, right = 4\n",
      "nums[i](-1) + nums[left](0) + nums[right](1) = 0 = total\n",
      "res = [[-1, -1, 2], [-1, 0, 1]]\n",
      "total == 0, new: i = 1, left = 4, right = 3\n",
      "----------------------------------------------------------------------------------------------------\n",
      "nums[i] == nums[i-1], skip.\n",
      "----------------------------------------------------------------------------------------------------\n",
      "i = 3, left = 4, right = 5\n",
      "\n",
      "init: i = 3, left = 4, right = 5\n",
      "nums[i](0) + nums[left](1) + nums[right](2) = 3 = total\n",
      "total > 0, new: i = 3, left = 4, right = 4\n"
     ]
    },
    {
     "data": {
      "text/plain": [
       "[[-1, -1, 2], [-1, 0, 1]]"
      ]
     },
     "execution_count": 2,
     "metadata": {},
     "output_type": "execute_result"
    }
   ],
   "source": [
    "nums = [-1,0,1,2,-1,-4]\n",
    "Solution().threeSum(nums)"
   ]
  }
 ],
 "metadata": {
  "kernelspec": {
   "display_name": "Python 3",
   "language": "python",
   "name": "python3"
  },
  "language_info": {
   "codemirror_mode": {
    "name": "ipython",
    "version": 3
   },
   "file_extension": ".py",
   "mimetype": "text/x-python",
   "name": "python",
   "nbconvert_exporter": "python",
   "pygments_lexer": "ipython3",
   "version": "3.12.7"
  },
  "orig_nbformat": 4
 },
 "nbformat": 4,
 "nbformat_minor": 2
}
