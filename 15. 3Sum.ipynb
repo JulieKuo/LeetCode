{
 "cells": [
  {
   "cell_type": "markdown",
   "metadata": {},
   "source": [
    "### 15. 3Sum"
   ]
  },
  {
   "cell_type": "code",
   "execution_count": 1,
   "metadata": {},
   "outputs": [],
   "source": [
    "# Given an integer array nums, return all the triplets [nums[i], nums[j], nums[k]] such that i != j, i != k, and j != k, and nums[i] + nums[j] + nums[k] == 0.\n",
    "\n",
    "# Notice that the solution set must not contain duplicate triplets.\n",
    "\n",
    "# Input: nums = [-1,0,1,2,-1,-4]\n",
    "# Output: [[-1,-1,2],[-1,0,1]]\n",
    "# Explanation: \n",
    "# nums[0] + nums[1] + nums[2] = (-1) + 0 + 1 = 0.\n",
    "# nums[1] + nums[2] + nums[4] = 0 + 1 + (-1) = 0.\n",
    "# nums[0] + nums[3] + nums[4] = (-1) + 2 + (-1) = 0.\n",
    "# The distinct triplets are [-1,0,1] and [-1,-1,2].\n",
    "# Notice that the order of the output and the order of the triplets does not matter.\n",
    "\n",
    "# Input: nums = [0,1,1]\n",
    "# Output: []\n",
    "# Explanation: The only possible triplet does not sum up to 0.\n",
    "\n",
    "# Input: nums = [0,0,0]\n",
    "# Output: [[0,0,0]]\n",
    "# Explanation: The only possible triplet sums up to 0."
   ]
  },
  {
   "cell_type": "code",
   "execution_count": 4,
   "metadata": {},
   "outputs": [],
   "source": [
    "class Solution:\n",
    "    def threeSum(self, nums):\n",
    "        nums.sort()\n",
    "        print(f\"nums = {nums}\")\n",
    "\n",
    "        res = []\n",
    "        for i in range(len(nums)-2):\n",
    "            print(f\"{'-'*100}\")\n",
    "            if (i == 0) or(nums[i] != nums[i-1]):\n",
    "                left = i + 1\n",
    "                right = len(nums) - 1\n",
    "                print(f\"i = {i}, left = {left}, right = {right}\")\n",
    "            else:\n",
    "                print(\"nums[i] == nums[i-1], skip.\")\n",
    "                continue\n",
    "            \n",
    "            while left < right:\n",
    "                total = (nums[i] + nums[left] + nums[right])\n",
    "                print(f\"\\noriginal: i = {i}, left = {left}, right = {right}\")\n",
    "                print(f\"nums[i]({nums[i]}) + nums[left]({nums[left]}) + nums[right]({nums[right]}) = {total} = total\")\n",
    "                if total == 0:\n",
    "                    res.append([nums[i], nums[left], nums[right]])\n",
    "                    print(f\"res = {res}\")\n",
    "\n",
    "                    while (left < right) and (nums[left+1] == nums[left]):\n",
    "                        left += 1\n",
    "                    while (left < right) and nums[right-1] == nums[right]:\n",
    "                        right -= 1\n",
    "\n",
    "                    left += 1\n",
    "                    right -= 1\n",
    "\n",
    "                    print(f\"total == 0, new: i = {i}, left = {left}, right = {right}\")\n",
    "\n",
    "                elif total < 0:\n",
    "                    left += 1\n",
    "                    print(f\"total < 0, new: i = {i}, left = {left}, right = {right}\")\n",
    "\n",
    "                else:\n",
    "                    right -= 1\n",
    "                    print(f\"total > 0, new: i = {i}, left = {left}, right = {right}\")\n",
    "    \n",
    "        return res"
   ]
  },
  {
   "cell_type": "code",
   "execution_count": 5,
   "metadata": {},
   "outputs": [
    {
     "name": "stdout",
     "output_type": "stream",
     "text": [
      "nums = [-4, -1, -1, 0, 1, 2]\n",
      "----------------------------------------------------------------------------------------------------\n",
      "i = 0, left = 1, right = 5\n",
      "\n",
      "original: i = 0, left = 1, right = 5\n",
      "nums[i](-4) + nums[left](-1) + nums[right](2) = -3 = total\n",
      "total < 0, new: i = 0, left = 2, right = 5\n",
      "\n",
      "original: i = 0, left = 2, right = 5\n",
      "nums[i](-4) + nums[left](-1) + nums[right](2) = -3 = total\n",
      "total < 0, new: i = 0, left = 3, right = 5\n",
      "\n",
      "original: i = 0, left = 3, right = 5\n",
      "nums[i](-4) + nums[left](0) + nums[right](2) = -2 = total\n",
      "total < 0, new: i = 0, left = 4, right = 5\n",
      "\n",
      "original: i = 0, left = 4, right = 5\n",
      "nums[i](-4) + nums[left](1) + nums[right](2) = -1 = total\n",
      "total < 0, new: i = 0, left = 5, right = 5\n",
      "----------------------------------------------------------------------------------------------------\n",
      "i = 1, left = 2, right = 5\n",
      "\n",
      "original: i = 1, left = 2, right = 5\n",
      "nums[i](-1) + nums[left](-1) + nums[right](2) = 0 = total\n",
      "res = [[-1, -1, 2]]\n",
      "total == 0, new: i = 1, left = 3, right = 4\n",
      "\n",
      "original: i = 1, left = 3, right = 4\n",
      "nums[i](-1) + nums[left](0) + nums[right](1) = 0 = total\n",
      "res = [[-1, -1, 2], [-1, 0, 1]]\n",
      "total == 0, new: i = 1, left = 4, right = 3\n",
      "----------------------------------------------------------------------------------------------------\n",
      "nums[i] == nums[i-1], skip.\n",
      "----------------------------------------------------------------------------------------------------\n",
      "i = 3, left = 4, right = 5\n",
      "\n",
      "original: i = 3, left = 4, right = 5\n",
      "nums[i](0) + nums[left](1) + nums[right](2) = 3 = total\n",
      "total > 0, new: i = 3, left = 4, right = 4\n"
     ]
    },
    {
     "data": {
      "text/plain": [
       "[[-1, -1, 2], [-1, 0, 1]]"
      ]
     },
     "execution_count": 5,
     "metadata": {},
     "output_type": "execute_result"
    }
   ],
   "source": [
    "nums = [-1,0,1,2,-1,-4]\n",
    "Solution().threeSum(nums)"
   ]
  },
  {
   "cell_type": "code",
   "execution_count": null,
   "metadata": {},
   "outputs": [],
   "source": []
  }
 ],
 "metadata": {
  "kernelspec": {
   "display_name": ".venv",
   "language": "python",
   "name": "python3"
  },
  "language_info": {
   "codemirror_mode": {
    "name": "ipython",
    "version": 3
   },
   "file_extension": ".py",
   "mimetype": "text/x-python",
   "name": "python",
   "nbconvert_exporter": "python",
   "pygments_lexer": "ipython3",
   "version": "3.8.10"
  },
  "orig_nbformat": 4
 },
 "nbformat": 4,
 "nbformat_minor": 2
}
