{
 "cells": [
  {
   "cell_type": "markdown",
   "metadata": {},
   "source": [
    "## 34. Find First and Last Position of Element in Sorted Array"
   ]
  },
  {
   "cell_type": "code",
   "execution_count": 1,
   "metadata": {},
   "outputs": [],
   "source": [
    "class Solution:\n",
    "    def searchRange(self, nums, target):\n",
    "        print(f\"nums = {nums}\\n\")\n",
    "        left = self.lower_bound(nums, target)\n",
    "        right = self.higher_bound(nums, target)\n",
    "\n",
    "        print(f\"end: left = {left}, right = {right}\")\n",
    "        if left == right:\n",
    "            return [-1, -1]\n",
    "\n",
    "        return [left, right - 1]\n",
    "\n",
    "\n",
    "    def lower_bound(self, nums, target):\n",
    "        print(\"<< lower bound >>\\n\")\n",
    "\n",
    "        left, right = 0, len(nums)\n",
    "        while left < right:\n",
    "            mid = (left + right) // 2\n",
    "            \n",
    "            print(f\"origin: left = {left}, right = {right}, mid = {mid}\")\n",
    "\n",
    "            if nums[mid] < target:\n",
    "                print(f\"(nums[mid] = nums[{mid}] = {nums[mid]}) <= (target = {target})\")\n",
    "                left = mid + 1\n",
    "            else:\n",
    "                print(f\"(nums[mid] = nums[{mid}] = {nums[mid]}) > (target = {target})\")\n",
    "                right = mid\n",
    "            \n",
    "            print(f\"new: left = {left}, right = {right}\\n\")\n",
    "            \n",
    "        return left\n",
    "    \n",
    "\n",
    "    def higher_bound(self, nums, target):\n",
    "        print(\"<< higher bound >>\\n\")\n",
    "\n",
    "        left, right = 0, len(nums)\n",
    "        while left < right:\n",
    "            mid = (left + right) // 2\n",
    "            \n",
    "            print(f\"origin: left = {left}, right = {right}, mid = {mid}\")\n",
    "\n",
    "            if nums[mid] <= target:\n",
    "                print(f\"(nums[mid] = nums[{mid}] = {nums[mid]}) < (target = {target})\")\n",
    "                left = mid + 1\n",
    "            else:\n",
    "                print(f\"(nums[mid] = nums[{mid}] = {nums[mid]}) >= (target = {target})\")\n",
    "                right = mid\n",
    "            \n",
    "            print(f\"new: left = {left}, right = {right}\\n\")\n",
    "            \n",
    "        return right"
   ]
  },
  {
   "cell_type": "code",
   "execution_count": 2,
   "metadata": {},
   "outputs": [
    {
     "name": "stdout",
     "output_type": "stream",
     "text": [
      "nums = [5, 7, 7, 8, 8, 10]\n",
      "\n",
      "<< lower bound >>\n",
      "\n",
      "origin: left = 0, right = 6, mid = 3\n",
      "(nums[mid] = nums[3] = 8) > (target = 8)\n",
      "new: left = 0, right = 3\n",
      "\n",
      "origin: left = 0, right = 3, mid = 1\n",
      "(nums[mid] = nums[1] = 7) <= (target = 8)\n",
      "new: left = 2, right = 3\n",
      "\n",
      "origin: left = 2, right = 3, mid = 2\n",
      "(nums[mid] = nums[2] = 7) <= (target = 8)\n",
      "new: left = 3, right = 3\n",
      "\n",
      "<< higher bound >>\n",
      "\n",
      "origin: left = 0, right = 6, mid = 3\n",
      "(nums[mid] = nums[3] = 8) < (target = 8)\n",
      "new: left = 4, right = 6\n",
      "\n",
      "origin: left = 4, right = 6, mid = 5\n",
      "(nums[mid] = nums[5] = 10) >= (target = 8)\n",
      "new: left = 4, right = 5\n",
      "\n",
      "origin: left = 4, right = 5, mid = 4\n",
      "(nums[mid] = nums[4] = 8) < (target = 8)\n",
      "new: left = 5, right = 5\n",
      "\n",
      "end: left = 3, right = 5\n"
     ]
    },
    {
     "data": {
      "text/plain": [
       "[3, 4]"
      ]
     },
     "execution_count": 2,
     "metadata": {},
     "output_type": "execute_result"
    }
   ],
   "source": [
    "nums = [5,7,7,8,8,10]; target = 8\n",
    "# nums = [5,7,7,8,8,10]; target = 6\n",
    "# nums = []; target = 0\n",
    "# nums = [1]; taget = 1\n",
    "Solution().searchRange(nums, target)"
   ]
  },
  {
   "cell_type": "code",
   "execution_count": 3,
   "metadata": {},
   "outputs": [],
   "source": [
    "class Solution:\n",
    "    def searchRange(self, nums, target):\n",
    "        print(f\"nums = {nums}\\n\")\n",
    "        self.res = [-1, -1]\n",
    "        self.lower_bound(nums, target)\n",
    "        if self.res[0] == -1:\n",
    "            return [-1, -1]\n",
    "\n",
    "        self.higher_bound(nums, target)\n",
    "\n",
    "        return self.res\n",
    "\n",
    "\n",
    "    def lower_bound(self, nums, target):\n",
    "        print(\"<< lower bound >>\\n\")\n",
    "\n",
    "        left, right = 0, len(nums) - 1\n",
    "        while left <= right:\n",
    "            mid = (left + right) // 2\n",
    "            \n",
    "            print(f\"origin: left = {left}, right = {right}, mid = {mid}\")\n",
    "\n",
    "            if nums[mid] == target:\n",
    "                self.res[0] = mid\n",
    "                right = mid - 1\n",
    "                print(f\"(nums[mid] = nums[{mid}] = {nums[mid]}) == (target = {target}), res = {self.res}\")\n",
    "\n",
    "            elif nums[mid] < target:\n",
    "                print(f\"(nums[mid] = nums[{mid}] = {nums[mid]}) < (target = {target})\")\n",
    "                left = mid + 1\n",
    "\n",
    "            else:\n",
    "                print(f\"(nums[mid] = nums[{mid}] = {nums[mid]}) > (target = {target})\")\n",
    "                right = mid - 1\n",
    "            \n",
    "            print(f\"new: left = {left}, right = {right}\\n\")\n",
    "            \n",
    "        return left\n",
    "    \n",
    "\n",
    "    def higher_bound(self, nums, target):\n",
    "        print(\"<< higher bound >>\\n\")\n",
    "\n",
    "        left, right = self.res[0], len(nums) - 1\n",
    "        while left <= right:\n",
    "            mid = (left + right) // 2\n",
    "            \n",
    "            print(f\"origin: left = {left}, right = {right}, mid = {mid}\")\n",
    "\n",
    "            if nums[mid] == target:\n",
    "                self.res[1] = mid\n",
    "                left = mid + 1\n",
    "                print(f\"(nums[mid] = nums[{mid}] = {nums[mid]}) == (target = {target}), res = {self.res}\")\n",
    "\n",
    "            elif nums[mid] < target:\n",
    "                print(f\"(nums[mid] = nums[{mid}] = {nums[mid]}) < (target = {target})\")\n",
    "                left = mid + 1\n",
    "\n",
    "            else:\n",
    "                print(f\"(nums[mid] = nums[{mid}] = {nums[mid]}) > (target = {target})\")\n",
    "                right = mid - 1\n",
    "            \n",
    "            print(f\"new: left = {left}, right = {right}\\n\")\n",
    "            \n",
    "        return right"
   ]
  },
  {
   "cell_type": "code",
   "execution_count": 4,
   "metadata": {},
   "outputs": [
    {
     "name": "stdout",
     "output_type": "stream",
     "text": [
      "nums = [5, 7, 7, 8, 8, 10]\n",
      "\n",
      "<< lower bound >>\n",
      "\n",
      "origin: left = 0, right = 5, mid = 2\n",
      "(nums[mid] = nums[2] = 7) < (target = 8)\n",
      "new: left = 3, right = 5\n",
      "\n",
      "origin: left = 3, right = 5, mid = 4\n",
      "(nums[mid] = nums[4] = 8) == (target = 8), res = [4, -1]\n",
      "new: left = 3, right = 3\n",
      "\n",
      "origin: left = 3, right = 3, mid = 3\n",
      "(nums[mid] = nums[3] = 8) == (target = 8), res = [3, -1]\n",
      "new: left = 3, right = 2\n",
      "\n",
      "<< higher bound >>\n",
      "\n",
      "origin: left = 3, right = 5, mid = 4\n",
      "(nums[mid] = nums[4] = 8) == (target = 8), res = [3, 4]\n",
      "new: left = 5, right = 5\n",
      "\n",
      "origin: left = 5, right = 5, mid = 5\n",
      "(nums[mid] = nums[5] = 10) > (target = 8)\n",
      "new: left = 5, right = 4\n",
      "\n"
     ]
    },
    {
     "data": {
      "text/plain": [
       "[3, 4]"
      ]
     },
     "execution_count": 4,
     "metadata": {},
     "output_type": "execute_result"
    }
   ],
   "source": [
    "nums = [5,7,7,8,8,10]; target = 8\n",
    "# nums = [5,7,7,8,8,10]; target = 6\n",
    "# nums = []; target = 0\n",
    "# nums = [1]; taget = 1\n",
    "Solution().searchRange(nums, target)"
   ]
  },
  {
   "cell_type": "code",
   "execution_count": null,
   "metadata": {},
   "outputs": [],
   "source": []
  },
  {
   "cell_type": "code",
   "execution_count": null,
   "metadata": {},
   "outputs": [],
   "source": []
  }
 ],
 "metadata": {
  "kernelspec": {
   "display_name": ".venv",
   "language": "python",
   "name": "python3"
  },
  "language_info": {
   "codemirror_mode": {
    "name": "ipython",
    "version": 3
   },
   "file_extension": ".py",
   "mimetype": "text/x-python",
   "name": "python",
   "nbconvert_exporter": "python",
   "pygments_lexer": "ipython3",
   "version": "3.8.10"
  },
  "orig_nbformat": 4,
  "vscode": {
   "interpreter": {
    "hash": "6a07fcf0145f94b3f971c13d061528107de20ab7b779375f96dab9bbac6a85db"
   }
  }
 },
 "nbformat": 4,
 "nbformat_minor": 2
}
