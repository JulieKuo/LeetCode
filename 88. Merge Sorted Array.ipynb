{
 "cells": [
  {
   "cell_type": "markdown",
   "metadata": {},
   "source": [
    "## 88. Merge Sorted Array"
   ]
  },
  {
   "cell_type": "code",
   "execution_count": 1,
   "metadata": {},
   "outputs": [],
   "source": [
    "class Solution:\n",
    "    def merge(self, nums1, m, nums2, n):\n",
    "        \"\"\"\n",
    "        Do not return anything, modify nums1 in-place instead.\n",
    "        \"\"\"\n",
    "\n",
    "        last = m+n-1\n",
    "        m -= 1\n",
    "        n -= 1\n",
    "        while (m >= 0) & (n >= 0):\n",
    "            print(f\"origin nums1 = {nums1}\")\n",
    "            print(f\"nums2 = {nums2}\")\n",
    "            print(f\"last = {last}, m = {m}, n = {n}\")\n",
    "            if nums1[m] > nums2[n]:\n",
    "                print(f\"nums1[{m}]: {nums1[m]} > nums2[{n}]: {nums2[n]}\")\n",
    "                nums1[last] = nums1[m]\n",
    "                m -= 1\n",
    "                last -= 1\n",
    "            else:\n",
    "                print(f\"nums1[{m}]: {nums1[m]} <= nums2[{n}]: {nums2[n]}\")\n",
    "                nums1[last] = nums2[n]\n",
    "                n -= 1\n",
    "                last -= 1\n",
    "            print(f\"new nums1 = {nums1}\\n\")\n",
    "\n",
    "\n",
    "        if m >= 0:\n",
    "            nums1[:m+1] = nums1[:m+1]\n",
    "        else:\n",
    "            nums1[:n+1] = nums2[:n+1]\n",
    "        print(f\"new nums1 = {nums1}\\n\")"
   ]
  },
  {
   "cell_type": "code",
   "execution_count": 2,
   "metadata": {},
   "outputs": [
    {
     "name": "stdout",
     "output_type": "stream",
     "text": [
      "origin nums1 = [3, 5, 6, 0, 0, 0]\n",
      "nums2 = [1, 2, 4]\n",
      "last = 5, m = 2, n = 2\n",
      "nums1[2]: 6 > nums2[2]: 4\n",
      "new nums1 = [3, 5, 6, 0, 0, 6]\n",
      "\n",
      "origin nums1 = [3, 5, 6, 0, 0, 6]\n",
      "nums2 = [1, 2, 4]\n",
      "last = 4, m = 1, n = 2\n",
      "nums1[1]: 5 > nums2[2]: 4\n",
      "new nums1 = [3, 5, 6, 0, 5, 6]\n",
      "\n",
      "origin nums1 = [3, 5, 6, 0, 5, 6]\n",
      "nums2 = [1, 2, 4]\n",
      "last = 3, m = 0, n = 2\n",
      "nums1[0]: 3 <= nums2[2]: 4\n",
      "new nums1 = [3, 5, 6, 4, 5, 6]\n",
      "\n",
      "origin nums1 = [3, 5, 6, 4, 5, 6]\n",
      "nums2 = [1, 2, 4]\n",
      "last = 2, m = 0, n = 1\n",
      "nums1[0]: 3 > nums2[1]: 2\n",
      "new nums1 = [3, 5, 3, 4, 5, 6]\n",
      "\n",
      "new nums1 = [1, 2, 3, 4, 5, 6]\n",
      "\n"
     ]
    }
   ],
   "source": [
    "nums1 = [3, 5, 6, 0, 0, 0]\n",
    "m = 3\n",
    "nums2 = [1, 2, 4]\n",
    "n = 3\n",
    "Solution().merge(nums1, m, nums2, n)"
   ]
  },
  {
   "cell_type": "markdown",
   "metadata": {},
   "source": [
    "<img src=\"img/88.jpg\" style=\"zoom:50%\"/>"
   ]
  },
  {
   "cell_type": "code",
   "execution_count": 3,
   "metadata": {},
   "outputs": [],
   "source": [
    "class Solution:\n",
    "    def merge(self, nums1, m, nums2, n):\n",
    "        \"\"\"\n",
    "        Do not return anything, modify nums1 in-place instead.\n",
    "        \"\"\"\n",
    "        nums = sorted(nums1[:m] + nums2[:n])\n",
    "        \n",
    "        for i, num in enumerate(nums):\n",
    "            nums1[i] = num\n",
    "        \n",
    "        print(nums1)"
   ]
  },
  {
   "cell_type": "code",
   "execution_count": 4,
   "metadata": {},
   "outputs": [
    {
     "name": "stdout",
     "output_type": "stream",
     "text": [
      "[1, 2, 2, 3, 5, 6]\n"
     ]
    }
   ],
   "source": [
    "nums1 = [1,2,3,0,0,0]\n",
    "m = 3\n",
    "nums2 = [2,5,6]\n",
    "n = 3\n",
    "Solution().merge(nums1, m, nums2, n)"
   ]
  }
 ],
 "metadata": {
  "kernelspec": {
   "display_name": ".venv",
   "language": "python",
   "name": "python3"
  },
  "language_info": {
   "codemirror_mode": {
    "name": "ipython",
    "version": 3
   },
   "file_extension": ".py",
   "mimetype": "text/x-python",
   "name": "python",
   "nbconvert_exporter": "python",
   "pygments_lexer": "ipython3",
   "version": "3.8.10"
  },
  "orig_nbformat": 4,
  "vscode": {
   "interpreter": {
    "hash": "6a07fcf0145f94b3f971c13d061528107de20ab7b779375f96dab9bbac6a85db"
   }
  }
 },
 "nbformat": 4,
 "nbformat_minor": 2
}
