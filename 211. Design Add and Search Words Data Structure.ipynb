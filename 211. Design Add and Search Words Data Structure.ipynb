{
 "cells": [
  {
   "cell_type": "markdown",
   "id": "4c324861",
   "metadata": {},
   "source": [
    "### 211. Design Add and Search Words Data Structure"
   ]
  },
  {
   "cell_type": "markdown",
   "id": "ecd87824",
   "metadata": {},
   "source": [
    "**時間複雜度: $O(n)$**  \n",
    "**空間複雜度: $O(t+n)$**\n",
    "\n",
    "$n$: 字串長度，每個操作最多遍歷字串中所有字元一次  \n",
    "$t$: Trie 中總共建立的 TrieNode 數量"
   ]
  },
  {
   "cell_type": "code",
   "execution_count": 1,
   "id": "9330536a",
   "metadata": {},
   "outputs": [],
   "source": [
    "# 定義 Trie 的節點結構\n",
    "class TrieNode():\n",
    "    def __init__(self):\n",
    "        self.children = {}  # 使用字典儲存每個字元對應的子節點\n",
    "        self.end = False    # 標記是否為一個單詞的結尾\n",
    "\n",
    "# 定義 Trie 主結構\n",
    "class WordDictionary:\n",
    "\n",
    "    def __init__(self):\n",
    "        self.root = TrieNode()  # 建立根節點 # space:O(t)\n",
    "\n",
    "    # 新增單字到 Trie 中\n",
    "    def addWord(self, word: str) -> None:\n",
    "        current = self.root  # 從根節點開始\n",
    "        for char in word:    # 逐字元處理單詞 # time: O(n)\n",
    "            if char not in current.children:\n",
    "                current.children[char] = TrieNode()  # 若無此字元節點，則創建新節點\n",
    "            current = current.children[char]  # 移動到下一個節點\n",
    "\n",
    "        current.end = True  # 單詞插入完成，標記結尾\n",
    "\n",
    "    # 搜尋單字，支援 \".\" 作為萬用字元\n",
    "    def search(self, word: str) -> bool:\n",
    "        # 使用 DFS 遞迴搜尋，index 表示目前處理到 word 的哪個位置\n",
    "        def dfs(index, node): # space: O(n)\n",
    "            current = node  # 從目前節點開始搜尋\n",
    "            for i in range(index, len(word)): # time: O(n)\n",
    "                char = word[i]\n",
    "                if char == \".\":  # 如果是萬用字元\n",
    "                    # 嘗試所有子節點，看是否能繼續匹配成功\n",
    "                    for sub_node in current.children.values():\n",
    "                        if dfs(index=i+1, node=sub_node):  # 從下一個字元開始搜尋\n",
    "                            return True  # 只要有一條路成功就回傳 True\n",
    "                    return False  # 所有子節點都不成功就回傳 False\n",
    "                else:\n",
    "                    if char not in current.children:\n",
    "                        return False  # 字母不存在於當前節點，直接回傳 False\n",
    "                    current = current.children[char]  # 移動到下一個節點\n",
    "                    \n",
    "            return current.end  # 所有字母都處理完後，回傳是否為單字結尾\n",
    "        \n",
    "        # 從根節點開始遞迴搜尋\n",
    "        return dfs(index=0, node=self.root)"
   ]
  },
  {
   "cell_type": "code",
   "execution_count": 2,
   "id": "20f0aba4",
   "metadata": {},
   "outputs": [
    {
     "name": "stdout",
     "output_type": "stream",
     "text": [
      "None\n",
      "None\n",
      "None\n",
      "False\n",
      "True\n",
      "True\n",
      "True\n"
     ]
    }
   ],
   "source": [
    "# Input\n",
    "# [\"WordDictionary\",\"addWord\",\"addWord\",\"addWord\",\"search\",\"search\",\"search\",\"search\"]\n",
    "# [[],[\"bad\"],[\"dad\"],[\"mad\"],[\"pad\"],[\"bad\"],[\".ad\"],[\"b..\"]]\n",
    "# Output\n",
    "# [null,null,null,null,false,true,true,true]\n",
    "\n",
    "wordDictionary = WordDictionary()\n",
    "print(wordDictionary.addWord(\"bad\"))\n",
    "print(wordDictionary.addWord(\"dad\"))\n",
    "print(wordDictionary.addWord(\"mad\"))\n",
    "print(wordDictionary.search(\"pad\")) # return False\n",
    "print(wordDictionary.search(\"bad\")) # return True\n",
    "print(wordDictionary.search(\".ad\")) # return True\n",
    "print(wordDictionary.search(\"b..\")) # return True"
   ]
  }
 ],
 "metadata": {
  "kernelspec": {
   "display_name": ".venv (3.12.8)",
   "language": "python",
   "name": "python3"
  },
  "language_info": {
   "codemirror_mode": {
    "name": "ipython",
    "version": 3
   },
   "file_extension": ".py",
   "mimetype": "text/x-python",
   "name": "python",
   "nbconvert_exporter": "python",
   "pygments_lexer": "ipython3",
   "version": "3.12.8"
  }
 },
 "nbformat": 4,
 "nbformat_minor": 5
}
