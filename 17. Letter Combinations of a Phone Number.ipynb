{
 "cells": [
  {
   "cell_type": "markdown",
   "metadata": {},
   "source": [
    "### 17. Letter Combinations of a Phone Number"
   ]
  },
  {
   "cell_type": "code",
   "execution_count": 1,
   "metadata": {},
   "outputs": [],
   "source": [
    "class Solution:\n",
    "    def letterCombinations(self, digits):\n",
    "        # 若輸入的數字字串為空，直接返回空列表\n",
    "        if not digits:\n",
    "            return []\n",
    "        \n",
    "        # 定義每個數字對應的字母集合的映射\n",
    "        self.phone_map = {\n",
    "            \"2\": \"abc\", \n",
    "            \"3\": \"def\", \n",
    "            \"4\": \"ghi\", \n",
    "            \"5\": \"jkl\", \n",
    "            \"6\": \"mno\", \n",
    "            \"7\": \"pqrs\", \n",
    "            \"8\": \"tuv\", \n",
    "            \"9\": \"wxyz\"\n",
    "        }\n",
    "            \n",
    "        # 用於存放最終結果的列表\n",
    "        self.res = []\n",
    "        \n",
    "        # 初始呼叫遞迴函數，傳入空組合和原始數字字串\n",
    "        self.dfs(combination = \"\", next_digits = digits)\n",
    "        \n",
    "        # 返回最終結果列表\n",
    "        return self.res    \n",
    "    \n",
    "        \n",
    "    # 定義遞迴函數，生成所有可能的組合\n",
    "    def dfs(self, combination, next_digits):\n",
    "        print(\"-\" * 150)\n",
    "        print(f\"combination = {combination}, next_digits = {next_digits}\")\n",
    "        # 若當前處理的數字字串為空，表示已經生成一個完整的組合，加入結果列表中\n",
    "        if not next_digits:\n",
    "            self.res.append(combination)\n",
    "            print(f\"res = {self.res} -> return\")\n",
    "            return\n",
    "        \n",
    "        # 遍歷當前數字對應的所有字母，進行遞迴生成組合\n",
    "        for letter in self.phone_map[next_digits[0]]:\n",
    "            print(f\"{next_digits[0]}: {letter}\")\n",
    "            # 更新當前}組合，進行下一個數字的遞迴\n",
    "            self.dfs(combination = (combination + letter), next_digits = next_digits[1:])"
   ]
  },
  {
   "cell_type": "code",
   "execution_count": 2,
   "metadata": {},
   "outputs": [
    {
     "name": "stdout",
     "output_type": "stream",
     "text": [
      "------------------------------------------------------------------------------------------------------------------------------------------------------\n",
      "combination = , next_digits = 23\n",
      "2: a\n",
      "------------------------------------------------------------------------------------------------------------------------------------------------------\n",
      "combination = a, next_digits = 3\n",
      "3: d\n",
      "------------------------------------------------------------------------------------------------------------------------------------------------------\n",
      "combination = ad, next_digits = \n",
      "res = ['ad'] -> return\n",
      "3: e\n",
      "------------------------------------------------------------------------------------------------------------------------------------------------------\n",
      "combination = ae, next_digits = \n",
      "res = ['ad', 'ae'] -> return\n",
      "3: f\n",
      "------------------------------------------------------------------------------------------------------------------------------------------------------\n",
      "combination = af, next_digits = \n",
      "res = ['ad', 'ae', 'af'] -> return\n",
      "2: b\n",
      "------------------------------------------------------------------------------------------------------------------------------------------------------\n",
      "combination = b, next_digits = 3\n",
      "3: d\n",
      "------------------------------------------------------------------------------------------------------------------------------------------------------\n",
      "combination = bd, next_digits = \n",
      "res = ['ad', 'ae', 'af', 'bd'] -> return\n",
      "3: e\n",
      "------------------------------------------------------------------------------------------------------------------------------------------------------\n",
      "combination = be, next_digits = \n",
      "res = ['ad', 'ae', 'af', 'bd', 'be'] -> return\n",
      "3: f\n",
      "------------------------------------------------------------------------------------------------------------------------------------------------------\n",
      "combination = bf, next_digits = \n",
      "res = ['ad', 'ae', 'af', 'bd', 'be', 'bf'] -> return\n",
      "2: c\n",
      "------------------------------------------------------------------------------------------------------------------------------------------------------\n",
      "combination = c, next_digits = 3\n",
      "3: d\n",
      "------------------------------------------------------------------------------------------------------------------------------------------------------\n",
      "combination = cd, next_digits = \n",
      "res = ['ad', 'ae', 'af', 'bd', 'be', 'bf', 'cd'] -> return\n",
      "3: e\n",
      "------------------------------------------------------------------------------------------------------------------------------------------------------\n",
      "combination = ce, next_digits = \n",
      "res = ['ad', 'ae', 'af', 'bd', 'be', 'bf', 'cd', 'ce'] -> return\n",
      "3: f\n",
      "------------------------------------------------------------------------------------------------------------------------------------------------------\n",
      "combination = cf, next_digits = \n",
      "res = ['ad', 'ae', 'af', 'bd', 'be', 'bf', 'cd', 'ce', 'cf'] -> return\n"
     ]
    },
    {
     "data": {
      "text/plain": [
       "['ad', 'ae', 'af', 'bd', 'be', 'bf', 'cd', 'ce', 'cf']"
      ]
     },
     "execution_count": 2,
     "metadata": {},
     "output_type": "execute_result"
    }
   ],
   "source": [
    "digits = \"23\"\n",
    "Solution().letterCombinations(digits)"
   ]
  }
 ],
 "metadata": {
  "kernelspec": {
   "display_name": ".venv",
   "language": "python",
   "name": "python3"
  },
  "language_info": {
   "codemirror_mode": {
    "name": "ipython",
    "version": 3
   },
   "file_extension": ".py",
   "mimetype": "text/x-python",
   "name": "python",
   "nbconvert_exporter": "python",
   "pygments_lexer": "ipython3",
   "version": "3.8.10"
  }
 },
 "nbformat": 4,
 "nbformat_minor": 2
}
