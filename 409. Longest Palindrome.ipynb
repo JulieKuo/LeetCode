{
 "cells": [
  {
   "cell_type": "markdown",
   "metadata": {},
   "source": [
    "## 409. Longest Palindrome"
   ]
  },
  {
   "cell_type": "code",
   "execution_count": 1,
   "metadata": {},
   "outputs": [],
   "source": [
    "class Solution:\n",
    "    def longestPalindrome(self, s):\n",
    "        count = dict()\n",
    "        for v in s:\n",
    "            count[v] = count.get(v, 0) + 1\n",
    "        print(f\"count = {count}\")\n",
    "\n",
    "        res = 0\n",
    "        for c in count.values():\n",
    "            print(f\"update1: res = {res} + ({c} // {2}) * {2} = \", end = \"\")\n",
    "            res += c // 2 * 2\n",
    "            print(f\"{res}\")\n",
    "\n",
    "        if res < len(s):\n",
    "            res += 1\n",
    "\n",
    "        print(f\"end: res = {res}\")\n",
    "\n",
    "        return res"
   ]
  },
  {
   "cell_type": "code",
   "execution_count": 2,
   "metadata": {},
   "outputs": [
    {
     "name": "stdout",
     "output_type": "stream",
     "text": [
      "count = {'a': 1, 'b': 1, 'c': 4, 'd': 2}\n",
      "update1: res = 0 + (1 // 2) * 2 = 0\n",
      "update1: res = 0 + (1 // 2) * 2 = 0\n",
      "update1: res = 0 + (4 // 2) * 2 = 4\n",
      "update1: res = 4 + (2 // 2) * 2 = 6\n",
      "end: res = 7\n"
     ]
    },
    {
     "data": {
      "text/plain": [
       "7"
      ]
     },
     "execution_count": 2,
     "metadata": {},
     "output_type": "execute_result"
    }
   ],
   "source": [
    "s = \"abccccdd\"\n",
    "Solution().longestPalindrome(s)"
   ]
  }
 ],
 "metadata": {
  "kernelspec": {
   "display_name": ".venv",
   "language": "python",
   "name": "python3"
  },
  "language_info": {
   "codemirror_mode": {
    "name": "ipython",
    "version": 3
   },
   "file_extension": ".py",
   "mimetype": "text/x-python",
   "name": "python",
   "nbconvert_exporter": "python",
   "pygments_lexer": "ipython3",
   "version": "3.8.10"
  },
  "orig_nbformat": 4,
  "vscode": {
   "interpreter": {
    "hash": "6a07fcf0145f94b3f971c13d061528107de20ab7b779375f96dab9bbac6a85db"
   }
  }
 },
 "nbformat": 4,
 "nbformat_minor": 2
}
