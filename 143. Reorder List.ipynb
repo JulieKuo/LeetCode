{
 "cells": [
  {
   "cell_type": "markdown",
   "id": "d2f50627",
   "metadata": {},
   "source": [
    "### 143. Reorder List"
   ]
  },
  {
   "cell_type": "code",
   "execution_count": 1,
   "id": "227efe07",
   "metadata": {},
   "outputs": [],
   "source": [
    "# Definition for singly-linked list.\n",
    "class ListNode:\n",
    "    def __init__(self, val=0, next=None):\n",
    "        self.val = val\n",
    "        self.next = next"
   ]
  },
  {
   "cell_type": "markdown",
   "id": "285d1279",
   "metadata": {},
   "source": [
    "#### Reverse And Merge"
   ]
  },
  {
   "cell_type": "markdown",
   "id": "75bd46af",
   "metadata": {},
   "source": [
    "**時間複雜度: O( $n$ )**  \n",
    "**空間複雜度: O( $1$ )**"
   ]
  },
  {
   "cell_type": "code",
   "execution_count": 2,
   "id": "2836f225",
   "metadata": {},
   "outputs": [],
   "source": [
    "# head = [2,4,6,8,10]\n",
    "head = ListNode(\n",
    "    val = 2,\n",
    "    next = ListNode(\n",
    "        val = 4,\n",
    "        next = ListNode(\n",
    "            val = 6,\n",
    "            next = ListNode(\n",
    "                val = 8,\n",
    "                next = ListNode(\n",
    "                    val = 10,\n",
    "                    next = None \n",
    "                )\n",
    "            )\n",
    "        )\n",
    "    )\n",
    ")"
   ]
  },
  {
   "cell_type": "code",
   "execution_count": null,
   "id": "4a8ee4c3",
   "metadata": {},
   "outputs": [],
   "source": [
    "from typing import Optional\n",
    "\n",
    "class Solution:\n",
    "    def reorderList(self, head: Optional[ListNode]) -> None:\n",
    "        # 使用快慢指標找出鏈表的中間節點\n",
    "        slow = head\n",
    "        fast = head\n",
    "        while fast and fast.next:\n",
    "            slow = slow.next        # 慢指標每次走一步\n",
    "            fast = fast.next.next   # 快指標每次走兩步\n",
    "\n",
    "        # 此時 slow 位於中間節點，準備反轉後半段鏈表\n",
    "        second = slow.next          # 取出 slow 之後的節點（後半段的開頭）\n",
    "        previous = None\n",
    "        slow.next = None           # 將前半段與後半段斷開，避免連接成環\n",
    "\n",
    "        # 反轉後半段鏈表\n",
    "        while second:\n",
    "            next_node = second.next  # 暫存下一個節點\n",
    "            second.next = previous   # 當前節點指向前一個（反轉方向）\n",
    "            previous = second        # 更新 previous 為當前節點\n",
    "            second = next_node       # 移動到下一個節點\n",
    "\n",
    "        # 此時 previous 是反轉後半段的頭，開始交錯合併前後兩段\n",
    "        first = head                # 第一段從頭開始\n",
    "        second = previous           # 第二段從反轉後的頭開始\n",
    "        while second:\n",
    "            next_first = first.next    # 暫存第一段下一個節點\n",
    "            next_second = second.next  # 暫存第二段下一個節點\n",
    "\n",
    "            first.next = second        # 第一段節點指向第二段節點\n",
    "            second.next = next_first   # 第二段節點再指向第一段下一個節點\n",
    "\n",
    "            first = next_first         # 移動到下一個節點\n",
    "            second = next_second       # 移動到下一個節點\n",
    "\n",
    "        return head  # 雖然題目不需要回傳，但這裡保留回傳 head\n"
   ]
  },
  {
   "cell_type": "code",
   "execution_count": 4,
   "id": "80a94dc0",
   "metadata": {},
   "outputs": [],
   "source": [
    "Solution().reorderList(head)"
   ]
  },
  {
   "cell_type": "markdown",
   "id": "dd103cd5",
   "metadata": {},
   "source": [
    "#### Recursion"
   ]
  },
  {
   "cell_type": "markdown",
   "id": "93885891",
   "metadata": {},
   "source": [
    "**時間複雜度: O( $n$ )**  \n",
    "**空間複雜度: O( $n$ )**"
   ]
  },
  {
   "cell_type": "code",
   "execution_count": 5,
   "id": "58fbf9b1",
   "metadata": {},
   "outputs": [],
   "source": [
    "# head = [2, 4, 6, 8, 10, 12]\n",
    "head = ListNode(\n",
    "    val = 2,\n",
    "    next = ListNode(\n",
    "        val = 4,\n",
    "        next = ListNode(\n",
    "            val = 6,\n",
    "            next = ListNode(\n",
    "                val = 8,\n",
    "                next = ListNode(\n",
    "                    val = 10,\n",
    "                    next = ListNode(\n",
    "                        val = 12,\n",
    "                        next = None\n",
    "                    )\n",
    "                )\n",
    "            )\n",
    "        )\n",
    "    )\n",
    ")"
   ]
  },
  {
   "cell_type": "code",
   "execution_count": null,
   "id": "ce69aad1",
   "metadata": {},
   "outputs": [],
   "source": [
    "from typing import Optional\n",
    "\n",
    "class Solution:\n",
    "    def reorderList(self, head: Optional[ListNode]) -> None:\n",
    "\n",
    "        def recursive(root: ListNode, current: ListNode) -> ListNode:\n",
    "\n",
    "            # 如果 current 為 None，表示已遞迴到鏈表尾部，返回 root 開始回傳\n",
    "            if not current:\n",
    "                return root\n",
    "\n",
    "            # root=2, current=4\n",
    "            # root=2, current=6\n",
    "            # root=2, current=8 \n",
    "            # root=2, current=10\n",
    "            # root=2, current=12\n",
    "            # root=2, current=None\n",
    "            \n",
    "            # 先遞迴到底（current 向後走到結尾），之後再從尾端開始操作節點\n",
    "            root = recursive(root, current.next)\n",
    "\n",
    "            # 若 root 為 None，表示已經處理到結尾或應終止，直接回傳 None 終止\n",
    "            if not root:\n",
    "                return None\n",
    "            \n",
    "            # else: root=2, current=None -> return root=2\n",
    "            # else: root=2, current=12 -> [2, 4, 6, 8, 10, 12, None] -> [2, 12, 4, 6, 8, 10, cycle(12 ~ 10)] -> return tmp=root=4\n",
    "            # else: root=4, current=10 -> [2, 12, 4, 6, 8, 10, cycle(12 ~ 10)] -> [2, 12, 4, 10, 6, 8, cycle(10 ~ 8)] -> return tmp=root=6\n",
    "            # if: root=6, current=8 -> [2, 12, 4, 10, 6, 8, cycle(10 ~ 8)] -> [2, 12, 4, 10, 6, 8, None] -> return tmp=root=None\n",
    "            # root=None, current=6 -> return tmp=root=None\n",
    "            # root=None, current=4 -> return tmp=root=None\n",
    "            \n",
    "            tmp = None # 暫存下一個 root.next，用於後續連接\n",
    "\n",
    "            # 若 root 和 current 指向同一節點（奇數長度中點）或相鄰節點（偶數長度中間兩點)，表示應該終止\n",
    "            if (root == current) or (root.next == current):\n",
    "                current.next = None # # 將 current 的 next 設為 None，截斷鏈表避免循環\n",
    "            else:\n",
    "                # 將 current 插入到 root 的下一個節點之後\n",
    "                tmp = root.next\n",
    "                root.next = current\n",
    "                current.next = tmp\n",
    "\n",
    "            return tmp\n",
    "        \n",
    "        recursive(root=head, current=head.next)\n"
   ]
  },
  {
   "cell_type": "code",
   "execution_count": 7,
   "id": "90404329",
   "metadata": {},
   "outputs": [],
   "source": [
    "Solution().reorderList(head)"
   ]
  }
 ],
 "metadata": {
  "kernelspec": {
   "display_name": ".venv",
   "language": "python",
   "name": "python3"
  },
  "language_info": {
   "codemirror_mode": {
    "name": "ipython",
    "version": 3
   },
   "file_extension": ".py",
   "mimetype": "text/x-python",
   "name": "python",
   "nbconvert_exporter": "python",
   "pygments_lexer": "ipython3",
   "version": "3.12.8"
  }
 },
 "nbformat": 4,
 "nbformat_minor": 5
}
