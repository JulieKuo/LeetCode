{
 "cells": [
  {
   "cell_type": "markdown",
   "metadata": {},
   "source": [
    "## 643. Maximum Average Subarray I"
   ]
  },
  {
   "cell_type": "markdown",
   "metadata": {},
   "source": [
    "<img src=\"img/643.jpg\" style=\"zoom:50%\"/>"
   ]
  },
  {
   "cell_type": "code",
   "execution_count": null,
   "metadata": {},
   "outputs": [],
   "source": [
    "class Solution(object):\n",
    "    def findMaxAverage(self, nums, k):\n",
    "        \"\"\"\n",
    "        :type nums: List[int]\n",
    "        :type k: int\n",
    "        :rtype: float\n",
    "        \"\"\"\n",
    "        \n",
    "        # a =  [0 for _ in range(len(nums))]\n",
    "        # a[0] = nums[0]\n",
    "        # for i in range(1, len(nums)):\n",
    "        #     a[i] = a[i-1] + nums[i]\n",
    "\n",
    "        # b = a[k-1]\n",
    "        # for i in range(k, len(a)):\n",
    "        #     b =  max(b, a[i] - a[i-k])\n",
    "\n",
    "        # return b * 1.0 / k\n",
    "\n",
    "        sum = 0\n",
    "        a = float('-inf')\n",
    "        for i in range(len(nums)):\n",
    "            sum += nums[i]\n",
    "            if i >= k:\n",
    "                sum -= nums[i - k]\n",
    "            if i >= k - 1:\n",
    "                a = max(a, sum)\n",
    "                \n",
    "        return a / float(k)"
   ]
  },
  {
   "cell_type": "code",
   "execution_count": 2,
   "metadata": {},
   "outputs": [
    {
     "data": {
      "text/plain": [
       "12.75"
      ]
     },
     "execution_count": 2,
     "metadata": {},
     "output_type": "execute_result"
    }
   ],
   "source": [
    "nums = [1,12,-5,-6,50,3]\n",
    "k = 4\n",
    "\n",
    "sum = 0\n",
    "a = float('-inf')\n",
    "for i in range(len(nums)):\n",
    "    sum += nums[i]\n",
    "    if i >= k:\n",
    "        sum -= nums[i - k]\n",
    "    if i >= k - 1:\n",
    "        a = max(a, sum)\n",
    "a / float(k)"
   ]
  },
  {
   "cell_type": "code",
   "execution_count": null,
   "metadata": {},
   "outputs": [],
   "source": []
  }
 ],
 "metadata": {
  "interpreter": {
   "hash": "ac5c71763ce4af7d6dc057106aa53cb2371e41115cfc9dc46f264378d07e5f1a"
  },
  "kernelspec": {
   "display_name": "Python 3.8.9 ('.venv': venv)",
   "language": "python",
   "name": "python3"
  },
  "language_info": {
   "codemirror_mode": {
    "name": "ipython",
    "version": 3
   },
   "file_extension": ".py",
   "mimetype": "text/x-python",
   "name": "python",
   "nbconvert_exporter": "python",
   "pygments_lexer": "ipython3",
   "version": "3.8.9"
  },
  "orig_nbformat": 4
 },
 "nbformat": 4,
 "nbformat_minor": 2
}
