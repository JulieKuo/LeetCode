{
 "cells": [
  {
   "cell_type": "markdown",
   "metadata": {},
   "source": [
    "### 153. Find Minimum in Rotated Sorted Array"
   ]
  },
  {
   "cell_type": "markdown",
   "metadata": {},
   "source": [
    "* 時間複雜度：O( $log{_2}{n}$ )  \n",
    "* 空間複雜度：O( $1$ )"
   ]
  },
  {
   "cell_type": "code",
   "execution_count": 1,
   "metadata": {},
   "outputs": [],
   "source": [
    "from typing import List\n",
    "\n",
    "class Solution:\n",
    "    def findMin(self, nums: List[int]) -> int:\n",
    "        left = 0 # space: O(1)\n",
    "        right = len(nums) - 1 # space: O(1)\n",
    "\n",
    "        while left < right: # (tip: left == right 時，已經找到最小值) # time: O(log n)\n",
    "            mid = (left + right) // 2\n",
    "\n",
    "            print(\"-\" * 50)\n",
    "            print(f\"{left = }, {mid = }, {right = }\")\n",
    "            print(f\"{nums[left] = }, {nums[mid] = }, {nums[right] = }\")\n",
    "\n",
    "            # 如果中間值小於右邊界值，最小值在左半部分\n",
    "            if nums[mid] < nums[right]:\n",
    "                right = mid\n",
    "            # 否則，最小值在右半部分\n",
    "            else:\n",
    "                left = mid + 1\n",
    "\n",
    "        return nums[left]  # 最終，left 和 right 會匯合於最小值的位置"
   ]
  },
  {
   "cell_type": "code",
   "execution_count": 2,
   "metadata": {},
   "outputs": [
    {
     "name": "stdout",
     "output_type": "stream",
     "text": [
      "--------------------------------------------------\n",
      "left = 0, mid = 3, right = 7\n",
      "nums[left] = 4, nums[mid] = 7, nums[right] = 3\n",
      "--------------------------------------------------\n",
      "left = 4, mid = 5, right = 7\n",
      "nums[left] = 0, nums[mid] = 1, nums[right] = 3\n",
      "--------------------------------------------------\n",
      "left = 4, mid = 4, right = 5\n",
      "nums[left] = 0, nums[mid] = 0, nums[right] = 1\n"
     ]
    },
    {
     "data": {
      "text/plain": [
       "0"
      ]
     },
     "execution_count": 2,
     "metadata": {},
     "output_type": "execute_result"
    }
   ],
   "source": [
    "# nums = [5,1,2,3,4]\n",
    "# nums = [2,3,4,5,1]\n",
    "nums = [4,5,6,7,0,1,2,3]\n",
    "Solution().findMin(nums)"
   ]
  }
 ],
 "metadata": {
  "kernelspec": {
   "display_name": ".venv",
   "language": "python",
   "name": "python3"
  },
  "language_info": {
   "codemirror_mode": {
    "name": "ipython",
    "version": 3
   },
   "file_extension": ".py",
   "mimetype": "text/x-python",
   "name": "python",
   "nbconvert_exporter": "python",
   "pygments_lexer": "ipython3",
   "version": "3.11.2"
  }
 },
 "nbformat": 4,
 "nbformat_minor": 2
}
