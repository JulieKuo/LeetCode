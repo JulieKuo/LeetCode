{
 "cells": [
  {
   "cell_type": "markdown",
   "metadata": {},
   "source": [
    "## 179. Largest Number"
   ]
  },
  {
   "cell_type": "markdown",
   "metadata": {},
   "source": [
    "#### 1. nums中的int元素轉為str\n",
    "#### 2. 透過__lt__排序\n",
    "#### 3. 將排序後的nums的元素相連\n",
    "#### 4. 判斷元素是否皆為0"
   ]
  },
  {
   "cell_type": "code",
   "execution_count": 131,
   "metadata": {},
   "outputs": [
    {
     "data": {
      "text/plain": [
       "'9605343'"
      ]
     },
     "execution_count": 131,
     "metadata": {},
     "output_type": "execute_result"
    }
   ],
   "source": [
    "class Solution:\n",
    "    def largestNumber(self, nums):\n",
    "        nums = list(map(str, nums)) #int轉str\n",
    "        nums = sorted(nums, key=Compare) #透過__lt__排序\n",
    "        largest_num = ''.join(nums) #list中的元素相連\n",
    "        \n",
    "        if largest_num[0] == \"0\":#ex: [0, 0] -> output: \"0\"\n",
    "            largest_num = \"0\"\n",
    "        \n",
    "        return largest_num\n",
    "        \n",
    "class Compare(str):\n",
    "    def __lt__(x, y):\n",
    "        # print((x + y) > (y + x), (x + y), (y + x))\n",
    "        return (x + y) > (y + x)\n",
    "\n",
    "Solution().largestNumber(nums = [34,60,3,5,9])"
   ]
  },
  {
   "cell_type": "code",
   "execution_count": 133,
   "metadata": {},
   "outputs": [
    {
     "data": {
      "text/plain": [
       "'9605343'"
      ]
     },
     "execution_count": 133,
     "metadata": {},
     "output_type": "execute_result"
    }
   ],
   "source": [
    "class Solution:\n",
    "    def largestNumber(self, nums):\n",
    "        def compare(x, y, temp):\n",
    "            if x == y:\n",
    "                return\n",
    "            \n",
    "            a = x + y\n",
    "            b = y + x\n",
    "\n",
    "            if a > b:\n",
    "                if y not in temp[x]:\n",
    "                    temp[x].append(y)\n",
    "            else:\n",
    "                if x not in temp[y]:\n",
    "                    temp[y].append(x)\n",
    "\n",
    "\n",
    "\n",
    "        nums = list(map(str, nums)) #int轉str\n",
    "\n",
    "        temp = {i: [] for i in nums}\n",
    "        # temp = {i: 0 for i in nums}\n",
    "        for i in range(len(nums)):\n",
    "            for j in range(i+1, len(nums)):\n",
    "                x = str(nums[i])\n",
    "                y = str(nums[j])\n",
    "                compare(x, y, temp) # 把較小的存入大的的list裡面\n",
    "\n",
    "        temp = {k: len(v) for k, v in temp.items()} # 計算每個key的value長度，即比多少個數大\n",
    "        temp1 = [[str(i), temp[str(i)]] for i in nums] # nums中每個數在temp中的數值，即比其他多少個數大\n",
    "        temp1 = sorted(temp1, key = lambda x: (x[1], x[0]), reverse = True) # 依照temp的value，即長度排序，越大的放越前面 (若此數相同，則比較key的大小)\n",
    "\n",
    "\n",
    "        result = str()\n",
    "        for i in temp1:\n",
    "            result += i[0]\n",
    "\n",
    "        if result[0] == \"0\":#ex: [0, 0] -> output: \"0\"\n",
    "            result = \"0\"\n",
    "\n",
    "        return result\n",
    "\n",
    "Solution().largestNumber(nums = [34,60,3,5,9])"
   ]
  }
 ],
 "metadata": {
  "kernelspec": {
   "display_name": "Python 3.8.7 ('.sar': venv)",
   "language": "python",
   "name": "python3"
  },
  "language_info": {
   "codemirror_mode": {
    "name": "ipython",
    "version": 3
   },
   "file_extension": ".py",
   "mimetype": "text/x-python",
   "name": "python",
   "nbconvert_exporter": "python",
   "pygments_lexer": "ipython3",
   "version": "3.8.7"
  },
  "orig_nbformat": 4,
  "vscode": {
   "interpreter": {
    "hash": "4b3bed0e3e859eed817920df843b60ae28bf236cd2c20594d20757d4a26e1783"
   }
  }
 },
 "nbformat": 4,
 "nbformat_minor": 2
}
