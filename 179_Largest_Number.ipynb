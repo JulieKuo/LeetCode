{
 "cells": [
  {
   "cell_type": "markdown",
   "metadata": {},
   "source": [
    "## 179. Largest Number"
   ]
  },
  {
   "cell_type": "markdown",
   "metadata": {},
   "source": [
    "#### 1. nums中的int元素轉為str\n",
    "#### 2. 透過__lt__排序\n",
    "#### 3. 將排序後的nums的元素相連\n",
    "#### 4. 判斷元素是否皆為0"
   ]
  },
  {
   "cell_type": "code",
   "execution_count": 34,
   "metadata": {},
   "outputs": [],
   "source": [
    "class Solution:\n",
    "    def largestNumber(self, nums: List[int]) -> str:\n",
    "        nums = list(map(str, nums)) #int轉str\n",
    "        nums = sorted(nums, key=Compare) #透過__lt__排序\n",
    "        largest_num = ''.join(nums) #list中的元素相連\n",
    "        \n",
    "        if largest_num[0] == \"0\":#ex: [0, 0] -> output: \"0\"\n",
    "            largest_num = \"0\"\n",
    "        \n",
    "        return largest_num\n",
    "        \n",
    "class Compare(str):\n",
    "    def __lt__(x, y):\n",
    "        return x + y > y + x"
   ]
  }
 ],
 "metadata": {
  "interpreter": {
   "hash": "d8c1a87e4764ea7881547c536887df2e9c9ef9a1d8b44ae688e9c35499972fab"
  },
  "kernelspec": {
   "display_name": "Python 3.8.9 ('.venv': venv)",
   "language": "python",
   "name": "python3"
  },
  "language_info": {
   "codemirror_mode": {
    "name": "ipython",
    "version": 3
   },
   "file_extension": ".py",
   "mimetype": "text/x-python",
   "name": "python",
   "nbconvert_exporter": "python",
   "pygments_lexer": "ipython3",
   "version": "3.8.9"
  },
  "orig_nbformat": 4
 },
 "nbformat": 4,
 "nbformat_minor": 2
}
