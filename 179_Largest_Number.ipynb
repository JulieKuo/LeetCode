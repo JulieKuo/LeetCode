{
 "cells": [
  {
   "cell_type": "markdown",
   "metadata": {},
   "source": [
    "## 179. Largest Number"
   ]
  },
  {
   "cell_type": "markdown",
   "metadata": {},
   "source": [
    "#### 1. nums中的int元素轉為str\n",
    "#### 2. 透過__lt__排序\n",
    "#### 3. 將排序後的nums的元素相連\n",
    "#### 4. 判斷元素是否皆為0"
   ]
  },
  {
   "cell_type": "code",
   "execution_count": null,
   "metadata": {},
   "outputs": [],
   "source": [
    "class Solution:\n",
    "    def largestNumber(self, nums: List[int]) -> str:\n",
    "        nums = list(map(str, nums)) #int轉str\n",
    "        nums = sorted(nums, key=Compare) #透過__lt__排序\n",
    "        largest_num = ''.join(nums) #list中的元素相連\n",
    "        \n",
    "        if largest_num[0] == \"0\":#ex: [0, 0] -> output: \"0\"\n",
    "            largest_num = \"0\"\n",
    "        \n",
    "        return largest_num\n",
    "        \n",
    "class Compare(str):\n",
    "    def __lt__(x, y):\n",
    "        return x + y > y + x"
   ]
  },
  {
   "cell_type": "code",
   "execution_count": 88,
   "metadata": {},
   "outputs": [
    {
     "data": {
      "text/plain": [
       "'9605343'"
      ]
     },
     "execution_count": 88,
     "metadata": {},
     "output_type": "execute_result"
    }
   ],
   "source": [
    "from functools import cmp_to_key\n",
    "\n",
    "class Solution:\n",
    "    def largestNumber(self, nums):\n",
    "        nums = list(map(str, nums)) #int轉str\n",
    "        nums = sorted(nums, key = cmp_to_key(lambda x, y: int(y+x) - int(x+y))) # 排序\n",
    "        largest_num = ''.join(nums) #list中的元素相連\n",
    "        \n",
    "        if largest_num[0] == \"0\":#ex: [0, 0] -> output: \"0\"\n",
    "            largest_num = \"0\"\n",
    "        \n",
    "        return largest_num\n",
    "\n",
    "Solution().largestNumber(nums = [3,60,34,5,9])"
   ]
  },
  {
   "cell_type": "code",
   "execution_count": null,
   "metadata": {},
   "outputs": [],
   "source": []
  }
 ],
 "metadata": {
  "kernelspec": {
   "display_name": "Python 3.8.10 ('.venv': venv)",
   "language": "python",
   "name": "python3"
  },
  "language_info": {
   "codemirror_mode": {
    "name": "ipython",
    "version": 3
   },
   "file_extension": ".py",
   "mimetype": "text/x-python",
   "name": "python",
   "nbconvert_exporter": "python",
   "pygments_lexer": "ipython3",
   "version": "3.8.10"
  },
  "orig_nbformat": 4,
  "vscode": {
   "interpreter": {
    "hash": "6c2898c30be5f73b03e044cf4b0ab3750666a8191d61a4c93b022a132c823988"
   }
  }
 },
 "nbformat": 4,
 "nbformat_minor": 2
}
