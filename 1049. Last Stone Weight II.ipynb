{
 "cells": [
  {
   "cell_type": "markdown",
   "metadata": {},
   "source": [
    "### 1049. Last Stone Weight II"
   ]
  },
  {
   "cell_type": "markdown",
   "metadata": {},
   "source": [
    "**時間複雜度: O($n \\times target$)**  \n",
    "**空間複雜度: O($target$)**"
   ]
  },
  {
   "cell_type": "code",
   "execution_count": 1,
   "metadata": {},
   "outputs": [],
   "source": [
    "from typing import List\n",
    "\n",
    "class Solution:\n",
    "    def lastStoneWeightII(self, stones: List[int]) -> int:\n",
    "        # 計算所有石頭的總重量\n",
    "        total_sum = sum(stones)\n",
    "        \n",
    "        # 目標是將石頭分成兩堆,使其差值最小\n",
    "        # 因此我們嘗試找出最接近總重量一半的組合\n",
    "        target = total_sum // 2\n",
    "\n",
    "        # dp[j]表示是否可以用stones中的數字組成重量j\n",
    "        # dp[0] = True 表示空集合可以組成重量0\n",
    "        dp = [False] * (target + 1)\n",
    "        dp[0] = True\n",
    "\n",
    "        # 對每個石頭進行01背包\n",
    "        for stone in stones:\n",
    "            # 從大到小遍歷以避免重複使用同一個石頭\n",
    "            for j in range(target, stone-1, -1):\n",
    "                # 如果 `j-stone == 0`，表示 `stone = j`，`j` 一定可以達成\n",
    "                # 如果 `j-stone` 是 True，表示 `j-stone` 可以達成，則 `j-stone` + `stone` = `j` 也可以達成\n",
    "                # 如果 `j` 已經是 True，則不需要更新\n",
    "                dp[j] = dp[j] or dp[j-stone]\n",
    "\n",
    "        # 從大到小找出最大可能的j值\n",
    "        for j in range(target, -1, -1):\n",
    "            if dp[j]:\n",
    "                # 如果可以組成重量 `j` ,那麼兩堆石頭的重量分別為 `j` 和 `total_sum - j`\n",
    "                # 最終答案為兩堆石頭的差值:|(total_sum - j) - j| = |total_sum - 2j|\n",
    "                return total_sum - (2 * j)\n",
    "            \n",
    "        return 0"
   ]
  },
  {
   "cell_type": "code",
   "execution_count": 2,
   "metadata": {},
   "outputs": [
    {
     "data": {
      "text/plain": [
       "1"
      ]
     },
     "execution_count": 2,
     "metadata": {},
     "output_type": "execute_result"
    }
   ],
   "source": [
    "stones = [2,7,4,1,8,1]\n",
    "Solution().lastStoneWeightII(stones)"
   ]
  }
 ],
 "metadata": {
  "kernelspec": {
   "display_name": ".venv",
   "language": "python",
   "name": "python3"
  },
  "language_info": {
   "codemirror_mode": {
    "name": "ipython",
    "version": 3
   },
   "file_extension": ".py",
   "mimetype": "text/x-python",
   "name": "python",
   "nbconvert_exporter": "python",
   "pygments_lexer": "ipython3",
   "version": "3.11.2"
  }
 },
 "nbformat": 4,
 "nbformat_minor": 2
}
