{
 "cells": [
  {
   "cell_type": "markdown",
   "metadata": {},
   "source": [
    "## 724. Find Pivot Index"
   ]
  },
  {
   "cell_type": "markdown",
   "metadata": {},
   "source": [
    "### index左邊的加總 = index右邊的加總\n",
    "### 迴圈依序計算即可"
   ]
  },
  {
   "cell_type": "code",
   "execution_count": null,
   "metadata": {},
   "outputs": [],
   "source": [
    "class Solution:\n",
    "    def pivotIndex(self, nums: List[int]) -> int:\n",
    "        right = sum(nums)\n",
    "        left = 0\n",
    "        for i in range(len(nums)):\n",
    "            if i != 0: #有可能[1:]加總為0，此時第0個index是pivot index\n",
    "                left += nums[i-1]\n",
    "            right -= nums[i]\n",
    "            print(left, right)\n",
    "            if right == left:\n",
    "                return i\n",
    "            \n",
    "        return -1\n",
    "        \n",
    "        # for i in range(len(nums)):\n",
    "        #     if sum(nums[:i]) == sum(nums[i+1:]):\n",
    "        #         return i\n",
    "        # return -1"
   ]
  }
 ],
 "metadata": {
  "language_info": {
   "name": "python"
  },
  "orig_nbformat": 4
 },
 "nbformat": 4,
 "nbformat_minor": 2
}
