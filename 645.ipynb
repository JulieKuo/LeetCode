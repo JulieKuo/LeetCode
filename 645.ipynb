{
 "cells": [
  {
   "cell_type": "markdown",
   "metadata": {},
   "source": [
    "## 645. Set Mismatch"
   ]
  },
  {
   "cell_type": "markdown",
   "metadata": {},
   "source": [
    "<img src=\"img/645.jpg\" style=\"zoom:50%\"/>"
   ]
  },
  {
   "cell_type": "code",
   "execution_count": null,
   "metadata": {},
   "outputs": [],
   "source": [
    "class Solution(object):\n",
    "    def findErrorNums(self, nums):\n",
    "        \"\"\"\n",
    "        :type nums: List[int]\n",
    "        :rtype: List[int]\n",
    "        \"\"\"\n",
    "        \n",
    "        temp = [0 for _ in nums]\n",
    "        for num in nums:\n",
    "            temp[num-1] += 1\n",
    "\n",
    "        for i in range(len(nums)):\n",
    "            if temp[i] == 2:\n",
    "                repeat = i + 1\n",
    "            if temp[i] == 0:\n",
    "                lost = i + 1\n",
    "                \n",
    "        return [repeat, lost]"
   ]
  }
 ],
 "metadata": {
  "language_info": {
   "name": "python"
  },
  "orig_nbformat": 4
 },
 "nbformat": 4,
 "nbformat_minor": 2
}
