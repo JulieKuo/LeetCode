{
 "cells": [
  {
   "cell_type": "markdown",
   "metadata": {},
   "source": [
    "## 1095. Find in Mountain Array"
   ]
  },
  {
   "cell_type": "code",
   "execution_count": 1,
   "metadata": {},
   "outputs": [],
   "source": [
    "class MountainArray:\n",
    "    def __init__(self, nums):\n",
    "        self.nums_dict = {i:v for i, v in enumerate(nums)}\n",
    "\n",
    "    def get(self, index: int) -> int:\n",
    "        return self.nums_dict.get(index)\n",
    "\n",
    "    def length(self) -> int:\n",
    "        return len(self.nums_dict)"
   ]
  },
  {
   "cell_type": "code",
   "execution_count": 2,
   "metadata": {},
   "outputs": [],
   "source": [
    "nums = [1,2,3,4,5,3,1]\n",
    "target = 3\n",
    "mountain_arr = MountainArray(nums)"
   ]
  },
  {
   "cell_type": "code",
   "execution_count": 3,
   "metadata": {},
   "outputs": [],
   "source": [
    "# \"\"\"\n",
    "# This is MountainArray's API interface.\n",
    "# You should not implement it, or speculate about its implementation\n",
    "# \"\"\"\n",
    "#class MountainArray:\n",
    "#    def get(self, index: int) -> int:\n",
    "#    def length(self) -> int:\n",
    "\n",
    "class Solution:\n",
    "    def findInMountainArray(self, target: int, mountain_arr: 'MountainArray') -> int:\n",
    "        n = mountain_arr.length() - 1\n",
    "        peak_idx = self.find_peak(n, mountain_arr)\n",
    "        res_left = self.find_left_small(peak_idx, mountain_arr, target)\n",
    "        res_right = self.find_right_small(peak_idx, n, mountain_arr, target)\n",
    "\n",
    "        if res_left != -1:\n",
    "            return res_left\n",
    "        else:\n",
    "            return res_right\n",
    "\n",
    "\n",
    "    def find_peak(self, n, mountain_arr):\n",
    "        print(\"<< find peak >>\")\n",
    "        left = 1\n",
    "        right = n-1\n",
    "        while left <= right:\n",
    "            mid = (left + right) // 2\n",
    "            print(f\"left = {left}, right = {right}, mid = {mid}\")\n",
    "            p0 = mountain_arr.get(mid-1)\n",
    "            p = mountain_arr.get(mid)\n",
    "            p1 = mountain_arr.get(mid+1)\n",
    "            print(f\"mountain_arr[{mid}-1] = {p0}, mountain_arr[{mid}] = {p}, mountain_arr[{mid}+1] = {p1}\\n\")\n",
    "\n",
    "            if p0 < p > p1:\n",
    "                print(f\"peak: index = {mid}, peak = {p}\\n\")\n",
    "                return mid\n",
    "            elif p0 < p:\n",
    "                left = mid + 1\n",
    "            elif p > p1:\n",
    "                right = mid - 1\n",
    "            \n",
    "        return left\n",
    "\n",
    "\n",
    "    def find_left_small(self, peak_idx, mountain_arr, target):\n",
    "        print(\"<< find left small >>\")\n",
    "        left = 0\n",
    "        right = peak_idx\n",
    "        while left <= right:\n",
    "            mid = (left + right) // 2\n",
    "            print(f\"left = {left}, right = {right}, mid = {mid}\")\n",
    "            v = mountain_arr.get(mid)\n",
    "            print(f\"mountain_arr[{mid}] = {v}, target = {target}\\n\")\n",
    "\n",
    "            if v < target:\n",
    "                left = mid + 1\n",
    "            elif v > target:\n",
    "                right = mid - 1\n",
    "            else:\n",
    "                print(f\"res_left = {mid}\\n\")\n",
    "                return mid\n",
    "\n",
    "        print(f\"res_left = -1\\n\")\n",
    "        return -1\n",
    "            \n",
    "\n",
    "    def find_right_small(self, peak_idx, n, mountain_arr, target):\n",
    "        print(\"<< find right small >>\")\n",
    "        left = peak_idx\n",
    "        right = n\n",
    "        while left <= right:\n",
    "            mid = (left + right) // 2\n",
    "            print(f\"left = {left}, right = {right}, mid = {mid}\")\n",
    "            v = mountain_arr.get(mid)\n",
    "            print(f\"mountain_arr[{mid}] = {v}, target = {target}\\n\")\n",
    "\n",
    "            if v < target:\n",
    "                right = mid - 1\n",
    "            elif v > target:\n",
    "                left = mid + 1\n",
    "            else:\n",
    "                print(f\"res_right = {mid}\\n\")\n",
    "                return mid\n",
    "\n",
    "        print(f\"res_right = -1\\n\")\n",
    "        return -1"
   ]
  },
  {
   "cell_type": "code",
   "execution_count": 4,
   "metadata": {},
   "outputs": [
    {
     "name": "stdout",
     "output_type": "stream",
     "text": [
      "<< find peak >>\n",
      "left = 1, right = 5, mid = 3\n",
      "mountain_arr[3-1] = 3, mountain_arr[3] = 4, mountain_arr[3+1] = 5\n",
      "\n",
      "left = 4, right = 5, mid = 4\n",
      "mountain_arr[4-1] = 4, mountain_arr[4] = 5, mountain_arr[4+1] = 3\n",
      "\n",
      "peak: index = 4, peak = 5\n",
      "\n",
      "<< find left small >>\n",
      "left = 0, right = 4, mid = 2\n",
      "mountain_arr[2] = 3, target = 3\n",
      "\n",
      "res_left = 2\n",
      "\n",
      "<< find right small >>\n",
      "left = 4, right = 6, mid = 5\n",
      "mountain_arr[5] = 3, target = 3\n",
      "\n",
      "res_right = 5\n",
      "\n"
     ]
    },
    {
     "data": {
      "text/plain": [
       "2"
      ]
     },
     "execution_count": 4,
     "metadata": {},
     "output_type": "execute_result"
    }
   ],
   "source": [
    "Solution().findInMountainArray(target, mountain_arr)"
   ]
  },
  {
   "cell_type": "code",
   "execution_count": null,
   "metadata": {},
   "outputs": [],
   "source": []
  },
  {
   "cell_type": "code",
   "execution_count": null,
   "metadata": {},
   "outputs": [],
   "source": []
  },
  {
   "cell_type": "code",
   "execution_count": 5,
   "metadata": {},
   "outputs": [],
   "source": [
    "# \"\"\"\n",
    "# This is MountainArray's API interface.\n",
    "# You should not implement it, or speculate about its implementation\n",
    "# \"\"\"\n",
    "#class MountainArray:\n",
    "#    def get(self, index: int) -> int:\n",
    "#    def length(self) -> int:\n",
    "\n",
    "class Solution:\n",
    "    def findInMountainArray(self, target: int, mountain_arr: 'MountainArray') -> int:\n",
    "        n = mountain_arr.length() - 1\n",
    "        peak_idx = self.find_peak(n, mountain_arr)\n",
    "        res_left = self.find_left_small(peak_idx, mountain_arr, target)\n",
    "        res_right = self.find_right_small(peak_idx, n, mountain_arr, target)\n",
    "\n",
    "        if res_left != -1:\n",
    "            return res_left\n",
    "        else:\n",
    "            return res_right\n",
    "\n",
    "\n",
    "    def find_peak(self, n, mountain_arr):\n",
    "        print(\"<< find peak >>\")\n",
    "        left = 0\n",
    "        right = n-1\n",
    "        while left < right:\n",
    "            mid = (left + right) // 2\n",
    "            print(f\"left = {left}, right = {right}, mid = {mid}\")\n",
    "            p = mountain_arr.get(mid)\n",
    "            p1 = mountain_arr.get(mid+1)\n",
    "            print(f\"mountain_arr[{mid}] = {p}, mountain_arr[{mid}+1] = {p1}\\n\")\n",
    "\n",
    "            if p < p1: #上波\n",
    "                left = mid + 1\n",
    "            else: # 下波\n",
    "                right = mid # 迴圈沒有等於，所以不能-1\n",
    "            \n",
    "        return left\n",
    "\n",
    "\n",
    "    def find_left_small(self, peak_idx, mountain_arr, target):\n",
    "        print(\"<< find left small >>\")\n",
    "        left = 0\n",
    "        right = peak_idx\n",
    "        while left <= right:\n",
    "            mid = (left + right) // 2\n",
    "            print(f\"left = {left}, right = {right}, mid = {mid}\")\n",
    "            v = mountain_arr.get(mid)\n",
    "            print(f\"mountain_arr[{mid}] = {v}, target = {target}\\n\")\n",
    "\n",
    "            if v < target:\n",
    "                left = mid + 1\n",
    "            elif v > target:\n",
    "                right = mid - 1\n",
    "            else:\n",
    "                print(f\"res_left = {mid}\\n\")\n",
    "                return mid\n",
    "\n",
    "        print(f\"res_left = -1\\n\")\n",
    "        return -1\n",
    "            \n",
    "\n",
    "    def find_right_small(self, peak_idx, n, mountain_arr, target):\n",
    "        print(\"<< find right small >>\")\n",
    "        left = peak_idx\n",
    "        right = n\n",
    "        while left <= right:\n",
    "            mid = (left + right) // 2\n",
    "            print(f\"left = {left}, right = {right}, mid = {mid}\")\n",
    "            v = mountain_arr.get(mid)\n",
    "            print(f\"mountain_arr[{mid}] = {v}, target = {target}\\n\")\n",
    "\n",
    "            if v < target:\n",
    "                right = mid - 1\n",
    "            elif v > target:\n",
    "                left = mid + 1\n",
    "            else:\n",
    "                print(f\"res_right = {mid}\\n\")\n",
    "                return mid\n",
    "\n",
    "        print(f\"res_right = -1\\n\")\n",
    "        return -1"
   ]
  },
  {
   "cell_type": "code",
   "execution_count": 6,
   "metadata": {},
   "outputs": [
    {
     "name": "stdout",
     "output_type": "stream",
     "text": [
      "<< find peak >>\n",
      "left = 0, right = 5, mid = 2\n",
      "mountain_arr[2] = 3, mountain_arr[2+1] = 4\n",
      "\n",
      "left = 3, right = 5, mid = 4\n",
      "mountain_arr[4] = 5, mountain_arr[4+1] = 3\n",
      "\n",
      "left = 3, right = 4, mid = 3\n",
      "mountain_arr[3] = 4, mountain_arr[3+1] = 5\n",
      "\n",
      "<< find left small >>\n",
      "left = 0, right = 4, mid = 2\n",
      "mountain_arr[2] = 3, target = 3\n",
      "\n",
      "res_left = 2\n",
      "\n",
      "<< find right small >>\n",
      "left = 4, right = 6, mid = 5\n",
      "mountain_arr[5] = 3, target = 3\n",
      "\n",
      "res_right = 5\n",
      "\n"
     ]
    },
    {
     "data": {
      "text/plain": [
       "2"
      ]
     },
     "execution_count": 6,
     "metadata": {},
     "output_type": "execute_result"
    }
   ],
   "source": [
    "Solution().findInMountainArray(target, mountain_arr)"
   ]
  }
 ],
 "metadata": {
  "kernelspec": {
   "display_name": ".venv",
   "language": "python",
   "name": "python3"
  },
  "language_info": {
   "codemirror_mode": {
    "name": "ipython",
    "version": 3
   },
   "file_extension": ".py",
   "mimetype": "text/x-python",
   "name": "python",
   "nbconvert_exporter": "python",
   "pygments_lexer": "ipython3",
   "version": "3.8.10"
  },
  "orig_nbformat": 4,
  "vscode": {
   "interpreter": {
    "hash": "6a07fcf0145f94b3f971c13d061528107de20ab7b779375f96dab9bbac6a85db"
   }
  }
 },
 "nbformat": 4,
 "nbformat_minor": 2
}
