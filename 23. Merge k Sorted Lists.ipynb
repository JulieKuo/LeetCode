{
 "cells": [
  {
   "cell_type": "markdown",
   "metadata": {},
   "source": [
    "## 23. Merge k Sorted Lists"
   ]
  },
  {
   "cell_type": "code",
   "execution_count": 1,
   "metadata": {},
   "outputs": [],
   "source": [
    "# Definition for singly-linked list.\n",
    "class ListNode:\n",
    "    def __init__(self, val=0, next=None):\n",
    "        self.val = val\n",
    "        self.next = next"
   ]
  },
  {
   "cell_type": "markdown",
   "metadata": {},
   "source": [
    "### Divide and Conquer"
   ]
  },
  {
   "cell_type": "markdown",
   "metadata": {},
   "source": [
    "**時間複雜度: $O(n log k)$**   \n",
    "**空間複雜度: $O(k)$**\n",
    "\n",
    "$k$: 總 lists 的長度  \n",
    "$n$: 總 node 的長度"
   ]
  },
  {
   "cell_type": "code",
   "execution_count": 2,
   "metadata": {},
   "outputs": [],
   "source": [
    "from typing import List, Optional\n",
    "\n",
    "class Solution:\n",
    "    def mergeKLists(self, lists: List[Optional[ListNode]]) -> Optional[ListNode]:\n",
    "        # 若輸入為空，直接回傳 None\n",
    "        if not lists:\n",
    "            return None\n",
    "        \n",
    "        # 當 lists 中還有超過一個鏈結串列時，持續進行合併\n",
    "        while len(lists) > 1: # time: O(log k)，每輪會合併 k/2 對，就像樹狀結構，只會有 log k 層\n",
    "            merged_lists = []  # 用來存放每次合併後的新串列 # space: O(k)\n",
    "\n",
    "            # 每次合併兩個鏈結串列\n",
    "            for i in range(0, len(lists), 2):\n",
    "                list1 = lists[i]\n",
    "                list2 = lists[i + 1] if (i + 1) < len(lists) else None # 若存在第 i+1 個串列就取出，否則為 None\n",
    "                \n",
    "                merged_list = self.merge(list1, list2) # 合併 list1 和 list2\n",
    "                \n",
    "                merged_lists.append(merged_list) # 將合併結果加入新的列表\n",
    "            \n",
    "            lists = merged_lists # 更新 lists 為本輪合併後的結果，準備進行下一輪合併\n",
    "\n",
    "        return lists[0] # 最後只剩下一個合併後的串列，即為結果\n",
    "\n",
    "    # time: O(n)，最後合併時會迭代比較所有值的大小\n",
    "    def merge(self, list1, list2):\n",
    "        # 建立一個虛擬節點作為合併後的鏈結串列的開頭\n",
    "        dummy = ListNode(0)\n",
    "        current = dummy\n",
    "\n",
    "        # 當兩個鏈結串列都不為空時，進行比較與合併\n",
    "        while list1 and list2:\n",
    "            if list1.val <= list2.val:\n",
    "                # 如果 list1 的值較小，將其接到結果串列後\n",
    "                current.next = list1\n",
    "                list1 = list1.next\n",
    "            else:\n",
    "                # 如果 list2 的值較小，將其接到結果串列後\n",
    "                current.next = list2\n",
    "                list2 = list2.next\n",
    "\n",
    "            # 移動 current 指標到下一個位置\n",
    "            current = current.next\n",
    "\n",
    "        # 若其中一個串列還有剩餘節點，直接接到結果串列後\n",
    "        current.next = list1 if list1 else list2\n",
    "\n",
    "        # 回傳合併後的串列（跳過 dummy 節點）\n",
    "        return dummy.next"
   ]
  },
  {
   "cell_type": "code",
   "execution_count": 3,
   "metadata": {},
   "outputs": [
    {
     "name": "stdout",
     "output_type": "stream",
     "text": [
      "1, 1, 2, 3, 4, 4, 5, 6, "
     ]
    }
   ],
   "source": [
    "# Input: lists = [[1,4,5],[1,3,4],[2,6]]\n",
    "# Output: [1,1,2,3,4,4,5,6]\n",
    "lists = [\n",
    "    ListNode(1, ListNode(4, ListNode(5))),\n",
    "    ListNode(1, ListNode(3, ListNode(4))),\n",
    "    ListNode(2, ListNode(6))\n",
    "]\n",
    "result = Solution().mergeKLists(lists)\n",
    "\n",
    "while result:\n",
    "    print(result.val, end=\", \")\n",
    "    result = result.next"
   ]
  },
  {
   "cell_type": "markdown",
   "metadata": {},
   "source": [
    "### Divide and Conquer"
   ]
  },
  {
   "cell_type": "markdown",
   "metadata": {},
   "source": [
    "**時間複雜度: $O(n log k)$**   \n",
    "**空間複雜度: $O(log k)$**\n",
    "\n",
    "$k$: 總 lists 的長度  \n",
    "$n$: 總 node 的長度"
   ]
  },
  {
   "cell_type": "code",
   "execution_count": 4,
   "metadata": {},
   "outputs": [],
   "source": [
    "from typing import List, Optional\n",
    "\n",
    "class Solution:\n",
    "    def mergeKLists(self, lists: List[Optional[ListNode]]) -> Optional[ListNode]:\n",
    "        # 如果輸入的列表為空，直接回傳 None\n",
    "        if not lists:\n",
    "            return None\n",
    "\n",
    "        # 使用分治法進行合併，初始傳入的區間為整個 lists 的範圍\n",
    "        return self.divide(lists, 0, len(lists) - 1) # time: O(n log k)\n",
    "\n",
    "    # time, space: O(log k)，每次都將 k 條串列對半切成左右兩半，最多會遞迴 log k 層\n",
    "    def divide(self, lists, left, right):\n",
    "        # 如果左邊界大於右邊界，代表無有效鏈結串列，回傳 None\n",
    "        if left > right:\n",
    "            return None\n",
    "\n",
    "        # 如果左邊界等於右邊界，表示只剩下一個鏈結串列，直接回傳該串列\n",
    "        if left == right:\n",
    "            return lists[left]\n",
    "\n",
    "        # 找出中間位置\n",
    "        mid = left + (right - left) // 2\n",
    "\n",
    "        # 對左半邊進行遞迴分治\n",
    "        left_list_node = self.divide(lists, left, mid)\n",
    "\n",
    "        # 對右半邊進行遞迴分治\n",
    "        right_list_node = self.divide(lists, mid + 1, right)\n",
    "\n",
    "        # 合併兩個已排序的鏈結串列\n",
    "        return self.conquer(left_list_node, right_list_node)\n",
    "    \n",
    "    # time: O(n)，最後合併時會迭代比較所有值的大小\n",
    "    def conquer(self, list1, list2):\n",
    "        # 建立一個虛擬節點作為合併後的鏈結串列的開頭\n",
    "        dummy = ListNode(0)\n",
    "        current = dummy\n",
    "\n",
    "        # 當兩個鏈結串列都不為空時，進行比較與合併\n",
    "        while list1 and list2:\n",
    "            if list1.val <= list2.val:\n",
    "                # 如果 list1 的值較小，將其接到結果串列後\n",
    "                current.next = list1\n",
    "                list1 = list1.next\n",
    "            else:\n",
    "                # 如果 list2 的值較小，將其接到結果串列後\n",
    "                current.next = list2\n",
    "                list2 = list2.next\n",
    "\n",
    "            # 移動 current 指標到下一個位置\n",
    "            current = current.next\n",
    "\n",
    "        # 若其中一個串列還有剩餘節點，直接接到結果串列後\n",
    "        current.next = list1 if list1 else list2\n",
    "\n",
    "        # 回傳合併後的串列（跳過 dummy 節點）\n",
    "        return dummy.next\n"
   ]
  },
  {
   "cell_type": "code",
   "execution_count": 5,
   "metadata": {},
   "outputs": [
    {
     "name": "stdout",
     "output_type": "stream",
     "text": [
      "1, 1, 2, 3, 4, 4, 5, 6, "
     ]
    }
   ],
   "source": [
    "# Input: lists = [[1,4,5],[1,3,4],[2,6]]\n",
    "# Output: [1,1,2,3,4,4,5,6]\n",
    "lists = [\n",
    "    ListNode(1, ListNode(4, ListNode(5))),\n",
    "    ListNode(1, ListNode(3, ListNode(4))),\n",
    "    ListNode(2, ListNode(6))\n",
    "]\n",
    "result = Solution().mergeKLists(lists)\n",
    "\n",
    "while result:\n",
    "    print(result.val, end=\", \")\n",
    "    result = result.next"
   ]
  },
  {
   "cell_type": "markdown",
   "metadata": {},
   "source": [
    "### Min heap"
   ]
  },
  {
   "cell_type": "markdown",
   "metadata": {},
   "source": [
    "**時間複雜度: $O(n log k)$**   \n",
    "**空間複雜度: $O(k)$**\n",
    "\n",
    "$k$: 總 lists 的長度  \n",
    "$n$: 總 node 的長度"
   ]
  },
  {
   "cell_type": "code",
   "execution_count": 6,
   "metadata": {},
   "outputs": [],
   "source": [
    "from typing import List, Optional\n",
    "import heapq\n",
    "\n",
    "class Solution:\n",
    "    def mergeKLists(self, lists: List[Optional[ListNode]]) -> Optional[ListNode]:\n",
    "        # 如果輸入的 lists 為空，直接回傳 None\n",
    "        if not lists:\n",
    "            return None\n",
    "        \n",
    "        # 建立一個虛擬節點作為合併後鏈結串列的起點\n",
    "        dummy = ListNode(0)\n",
    "        current = dummy  # current 指針用來逐步連接新節點\n",
    "        min_heap = []  # 最小堆用來維持目前所有鏈結串列的最小節點 # space: O(k)\n",
    "\n",
    "        # 將每個非空鏈結串列的頭節點加入最小堆中\n",
    "        for idx, list_ in enumerate(lists): # time: O(k log k)\n",
    "            if list_:  # 確保鏈結串列不為空\n",
    "                # 將 (節點值, 索引, 節點本身) 加入堆中\n",
    "                # NOTE: heapq 第一個值相同時，會比較第二個值。因為 ListNode 沒辦法比較，所以透過加入 index 在第二個值來比較\n",
    "                heapq.heappush(min_heap, (list_.val, idx, list_)) # time: O(log k)\n",
    "\n",
    "        # 當最小堆不為空時，持續取出最小節點\n",
    "        while min_heap: # O(n log k)\n",
    "            _, idx, node = heapq.heappop(min_heap) # 取出當前最小的節點\n",
    "            current.next = node # 將該節點接到 current 指針後面\n",
    "            current = current.next  # 移動 current 指針到新節點\n",
    "\n",
    "            # 如果該節點有下一個節點，將下一個節點加入堆中\n",
    "            if node.next:\n",
    "                heapq.heappush(min_heap, (node.next.val, idx, node.next)) # time: O(log k)\n",
    "\n",
    "        # 回傳合併後鏈結串列的起始節點（略過 dummy 節點）\n",
    "        return dummy.next\n"
   ]
  },
  {
   "cell_type": "code",
   "execution_count": 7,
   "metadata": {},
   "outputs": [
    {
     "name": "stdout",
     "output_type": "stream",
     "text": [
      "1, 1, 2, 3, 4, 4, 5, 6, "
     ]
    }
   ],
   "source": [
    "# Input: lists = [[1,4,5],[1,3,4],[2,6]]\n",
    "# Output: [1,1,2,3,4,4,5,6]\n",
    "lists = [\n",
    "    ListNode(1, ListNode(4, ListNode(5))),\n",
    "    ListNode(1, ListNode(3, ListNode(4))),\n",
    "    ListNode(2, ListNode(6))\n",
    "]\n",
    "result = Solution().mergeKLists(lists)\n",
    "\n",
    "while result:\n",
    "    print(result.val, end=\", \")\n",
    "    result = result.next"
   ]
  }
 ],
 "metadata": {
  "kernelspec": {
   "display_name": ".venv",
   "language": "python",
   "name": "python3"
  },
  "language_info": {
   "codemirror_mode": {
    "name": "ipython",
    "version": 3
   },
   "file_extension": ".py",
   "mimetype": "text/x-python",
   "name": "python",
   "nbconvert_exporter": "python",
   "pygments_lexer": "ipython3",
   "version": "3.12.8"
  },
  "orig_nbformat": 4,
  "vscode": {
   "interpreter": {
    "hash": "6a07fcf0145f94b3f971c13d061528107de20ab7b779375f96dab9bbac6a85db"
   }
  }
 },
 "nbformat": 4,
 "nbformat_minor": 2
}
