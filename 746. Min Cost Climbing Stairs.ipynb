{
 "cells": [
  {
   "cell_type": "markdown",
   "metadata": {},
   "source": [
    "## 746. Min Cost Climbing Stairs"
   ]
  },
  {
   "cell_type": "markdown",
   "metadata": {},
   "source": [
    "Fibonacci Numbers（費波那契數列）\n",
    "特點：\n",
    "- 序列的前兩個數字是 0 和 1\n",
    "- 從第三個數字開始，每個數字都是前兩個數字的和\n",
    "- ex: 0, 1, 1, 2, 3, 5, 8, 13, 21, 34, 55, 89, 144, ..."
   ]
  },
  {
   "cell_type": "markdown",
   "metadata": {},
   "source": [
    "參考 70. Climbing Stairs"
   ]
  },
  {
   "cell_type": "markdown",
   "metadata": {},
   "source": [
    "<img src=\"img/746.svg\"/>"
   ]
  },
  {
   "cell_type": "markdown",
   "metadata": {},
   "source": [
    "**時間複雜度: O(n)**  \n",
    "**空間複雜度: O(1)**"
   ]
  },
  {
   "cell_type": "code",
   "execution_count": 1,
   "metadata": {},
   "outputs": [],
   "source": [
    "from typing import List\n",
    "\n",
    "class Solution:\n",
    "    def minCostClimbingStairs(self, cost: List[int]) -> int:\n",
    "        last2 = cost[0] # space: O(1)\n",
    "        last1 = cost[1] # space: O(1)\n",
    "        print(f\"init: {last2=} {last1=}\")\n",
    "\n",
    "        for i in range(2, len(cost)): # time: O(n)\n",
    "            # 當前階梯的花費，加上前兩階梯的最小花費\n",
    "            current = cost[i] + min(last1, last2)\n",
    "            last2 = last1\n",
    "            last1 = current\n",
    "            print(f\"{i=}: {last1=}, {last2=}\")\n",
    "\n",
    "        # 返回最後兩階梯的最小花費\n",
    "        print(f\"top: min({last1}, {last2})={min(last1, last2)}\")\n",
    "        return min(last1, last2)"
   ]
  },
  {
   "cell_type": "code",
   "execution_count": 2,
   "metadata": {},
   "outputs": [
    {
     "name": "stdout",
     "output_type": "stream",
     "text": [
      "init: last2=10 last1=15\n",
      "i=2: last1=30, last2=15\n",
      "i=3: last1=40, last2=30\n",
      "i=4: last1=35, last2=40\n",
      "i=5: last1=45, last2=35\n",
      "top: min(45, 35)=35\n"
     ]
    },
    {
     "data": {
      "text/plain": [
       "35"
      ]
     },
     "execution_count": 2,
     "metadata": {},
     "output_type": "execute_result"
    }
   ],
   "source": [
    "cost = [10,15,20,25,5,10]\n",
    "Solution().minCostClimbingStairs(cost)"
   ]
  },
  {
   "cell_type": "markdown",
   "metadata": {},
   "source": [
    "**時間複雜度: O(n)**  \n",
    "**空間複雜度: O(n)**"
   ]
  },
  {
   "cell_type": "code",
   "execution_count": 3,
   "metadata": {},
   "outputs": [],
   "source": [
    "from typing import List\n",
    "\n",
    "class Solution:\n",
    "    def minCostClimbingStairs(self, cost: List[int]) -> int:\n",
    "        # 初始化dp陣列\n",
    "        dp = [0] * len(cost) # space: O(n)\n",
    "        dp[0] = cost[0]\n",
    "        dp[1] = cost[1]\n",
    "        print(f\"init: {dp=}\")\n",
    "\n",
    "        # 計算dp陣列\n",
    "        for i in range(2, len(cost)): # time: O(n)\n",
    "            # 當前階梯的花費，加上前兩階梯的最小花費\n",
    "            dp[i] = cost[i] + min(dp[i-1], dp[i-2])\n",
    "            print(f\"{i=}: {dp=}\")\n",
    "\n",
    "        # 返回最後兩階梯的最小花費\n",
    "        print(f\"top: min({dp[-2]}, {dp[-1]})={min(dp[-1], dp[-2])}\")\n",
    "        return min(dp[-1], dp[-2])"
   ]
  },
  {
   "cell_type": "code",
   "execution_count": 4,
   "metadata": {},
   "outputs": [
    {
     "name": "stdout",
     "output_type": "stream",
     "text": [
      "init: dp=[10, 15, 0, 0, 0, 0]\n",
      "i=2: dp=[10, 15, 30, 0, 0, 0]\n",
      "i=3: dp=[10, 15, 30, 40, 0, 0]\n",
      "i=4: dp=[10, 15, 30, 40, 35, 0]\n",
      "i=5: dp=[10, 15, 30, 40, 35, 45]\n",
      "top: min(35, 45)=35\n"
     ]
    },
    {
     "data": {
      "text/plain": [
       "35"
      ]
     },
     "execution_count": 4,
     "metadata": {},
     "output_type": "execute_result"
    }
   ],
   "source": [
    "cost = [10,15,20,25,5,10]\n",
    "Solution().minCostClimbingStairs(cost)"
   ]
  }
 ],
 "metadata": {
  "interpreter": {
   "hash": "c5c899ed1fea65c1aad495f30148e1731af1bcf36c22dbd1b46cba8952568d24"
  },
  "kernelspec": {
   "display_name": "Python 3.9.7 64-bit ('.venv': venv)",
   "name": "python3"
  },
  "language_info": {
   "codemirror_mode": {
    "name": "ipython",
    "version": 3
   },
   "file_extension": ".py",
   "mimetype": "text/x-python",
   "name": "python",
   "nbconvert_exporter": "python",
   "pygments_lexer": "ipython3",
   "version": "3.11.2"
  },
  "orig_nbformat": 4
 },
 "nbformat": 4,
 "nbformat_minor": 2
}
