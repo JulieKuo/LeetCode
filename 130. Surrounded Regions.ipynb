{
 "cells": [
  {
   "cell_type": "markdown",
   "metadata": {},
   "source": [
    "## 130. Surrounded Regions"
   ]
  },
  {
   "cell_type": "markdown",
   "metadata": {},
   "source": [
    "**時間複雜度: $O(m \\times n)$**  \n",
    "**空間複雜度: $O(m \\times n)$**\n",
    "\n",
    "- 變數解釋:\n",
    "  - `m`: 行數\n",
    "  - `n`: 列數"
   ]
  },
  {
   "cell_type": "markdown",
   "metadata": {},
   "source": [
    "### dfs"
   ]
  },
  {
   "cell_type": "code",
   "execution_count": 1,
   "metadata": {},
   "outputs": [],
   "source": [
    "from typing import List\n",
    "\n",
    "class Solution:\n",
    "    def solve(self, board: List[List[str]]) -> None:\n",
    "        \"\"\"\n",
    "        Do not return anything, modify board in-place instead.\n",
    "        \"\"\"\n",
    "        # 獲取棋盤的行數和列數\n",
    "        rows = len(board)\n",
    "        cols = len(board[0])\n",
    "\n",
    "        def dfs(row, col): # time: O(m * n)，space: O(m * n)，最壞情況下，遞迴深度可能達到所有cell的數量\n",
    "            # 如果超出邊界或不是'O',則返回\n",
    "            if (\n",
    "                row < 0 or row == rows or\n",
    "                col < 0 or col == cols or\n",
    "                board[row][col] != \"O\"\n",
    "                ):\n",
    "                return\n",
    "\n",
    "            # 將當前的'O'標記為'#',表示這是與邊界相連的'O'\n",
    "            board[row][col] = \"#\"\n",
    "\n",
    "            # 遞歸搜索上下左右四個方向\n",
    "            dfs(row-1, col)  # 上\n",
    "            dfs(row+1, col)  # 下\n",
    "            dfs(row, col-1)  # 左\n",
    "            dfs(row, col+1)  # 右\n",
    "\n",
    "        # 查看有無與左右邊界相連的'O'\n",
    "        for row in range(rows): # time: O(m)\n",
    "            dfs(row, 0)        # 左邊界\n",
    "            dfs(row, cols-1)   # 右邊界\n",
    "\n",
    "        # 查看有無與上下邊界相連的'O'\n",
    "        for col in range(cols): # time: O(n)\n",
    "            dfs(0, col)        # 上邊界\n",
    "            dfs(rows-1, col)   # 下邊界\n",
    "\n",
    "        # 遍歷整個棋盤 # time: O(m * n)\n",
    "        for row in range(rows):\n",
    "            for col in range(cols):\n",
    "                if board[row][col] == \"O\":    # 將未被標記的'O'變成'X'\n",
    "                    board[row][col] = \"X\"\n",
    "                elif board[row][col] == \"#\":   # 將標記的'#'恢復成'O'\n",
    "                    board[row][col] = \"O\""
   ]
  },
  {
   "cell_type": "code",
   "execution_count": 2,
   "metadata": {},
   "outputs": [
    {
     "data": {
      "text/plain": [
       "[['X', 'X', 'O', 'O'],\n",
       " ['X', 'O', 'O', 'X'],\n",
       " ['O', 'X', 'X', 'X'],\n",
       " ['X', 'X', 'X', 'X'],\n",
       " ['O', 'X', 'X', 'X']]"
      ]
     },
     "execution_count": 2,
     "metadata": {},
     "output_type": "execute_result"
    }
   ],
   "source": [
    "# board = [[\"X\",\"X\",\"X\",\"X\"],[\"X\",\"O\",\"O\",\"X\"],[\"X\",\"X\",\"O\",\"X\"],[\"X\",\"O\",\"X\",\"X\"]]\n",
    "board = [[\"X\",\"X\",\"O\",\"O\"],[\"X\",\"O\",\"O\",\"X\"],[\"O\",\"X\",\"X\",\"X\"],[\"X\",\"O\",\"O\",\"X\"],[\"O\",\"X\",\"X\",\"X\"]]\n",
    "Solution().solve(board)\n",
    "board"
   ]
  },
  {
   "cell_type": "markdown",
   "metadata": {},
   "source": [
    "### bfs"
   ]
  },
  {
   "cell_type": "code",
   "execution_count": 3,
   "metadata": {},
   "outputs": [],
   "source": [
    "from typing import List\n",
    "from collections import deque\n",
    "\n",
    "class Solution:\n",
    "    def solve(self, board: List[List[str]]) -> None:\n",
    "        \"\"\"\n",
    "        \"\"\"\n",
    "        # 獲取棋盤的行數和列數\n",
    "        rows = len(board)\n",
    "        cols = len(board[0])\n",
    "\n",
    "        # 創建一個隊列用於BFS\n",
    "        queue = deque([])\n",
    "\n",
    "        # 檢查左右邊界,將邊界上的'O'加入隊列\n",
    "        for row in range(rows): # time: O(m)\n",
    "            if board[row][0] == \"O\":          # 檢查左邊界\n",
    "                queue.append((row, 0))\n",
    "            if board[row][cols-1] == \"O\":     # 檢查右邊界\n",
    "                queue.append((row, cols-1))\n",
    "\n",
    "        # 檢查上下邊界,將邊界上的'O'加入隊列\n",
    "        for col in range(cols): # time: O(n)\n",
    "            if board[0][col] == \"O\":          # 檢查上邊界\n",
    "                queue.append((0, col))\n",
    "            if board[rows-1][col] == \"O\":     # 檢查下邊界\n",
    "                queue.append((rows-1, col))\n",
    "\n",
    "        # 定義四個方向的偏移量(上、下、左、右)\n",
    "        directions = [(-1, 0), (1, 0), (0, -1), (0, 1)]\n",
    "\n",
    "        # BFS (查看與邊建相連的'O')\n",
    "        while queue:  # time: O(m * n)，space: O(m * n)，最壞情況下，所有cell都可能加入queue\n",
    "            row, col = queue.popleft()        # 取出當前位置\n",
    "            board[row][col] = \"#\"             # 將當前的'O'標記為'#'\n",
    "            \n",
    "            # 遍歷四個方向\n",
    "            for dr, dc in directions:\n",
    "                # 計算新的位置\n",
    "                new_row = row + dr\n",
    "                new_col = col + dc\n",
    "                \n",
    "                # 檢查新位置是否有效且為'O'\n",
    "                if (0 <= new_row < rows) and (0 <= new_col < cols) and (board[new_row][new_col] == \"O\"):\n",
    "                    queue.append((new_row, new_col))\n",
    "\n",
    "        # 遍歷整個棋盤  # time: O(m * n)\n",
    "        for row in range(rows):\n",
    "            for col in range(cols):\n",
    "                if board[row][col] == \"O\":    # 將未被標記的'O'變成'X'\n",
    "                    board[row][col] = \"X\"\n",
    "                elif board[row][col] == \"#\":   # 將標記的'#'恢復成'O'\n",
    "                    board[row][col] = \"O\""
   ]
  },
  {
   "cell_type": "code",
   "execution_count": 4,
   "metadata": {},
   "outputs": [
    {
     "data": {
      "text/plain": [
       "[['X', 'X', 'O', 'O'],\n",
       " ['X', 'O', 'O', 'X'],\n",
       " ['O', 'X', 'X', 'X'],\n",
       " ['X', 'X', 'X', 'X'],\n",
       " ['O', 'X', 'X', 'X']]"
      ]
     },
     "execution_count": 4,
     "metadata": {},
     "output_type": "execute_result"
    }
   ],
   "source": [
    "board = [[\"X\",\"X\",\"X\",\"X\"],[\"X\",\"O\",\"O\",\"X\"],[\"X\",\"X\",\"O\",\"X\"],[\"X\",\"O\",\"X\",\"X\"]]\n",
    "board = [[\"X\",\"X\",\"O\",\"O\"],[\"X\",\"O\",\"O\",\"X\"],[\"O\",\"X\",\"X\",\"X\"],[\"X\",\"O\",\"O\",\"X\"],[\"O\",\"X\",\"X\",\"X\"]]\n",
    "Solution().solve(board)\n",
    "board"
   ]
  }
 ],
 "metadata": {
  "kernelspec": {
   "display_name": ".venv",
   "language": "python",
   "name": "python3"
  },
  "language_info": {
   "codemirror_mode": {
    "name": "ipython",
    "version": 3
   },
   "file_extension": ".py",
   "mimetype": "text/x-python",
   "name": "python",
   "nbconvert_exporter": "python",
   "pygments_lexer": "ipython3",
   "version": "3.11.2"
  },
  "orig_nbformat": 4
 },
 "nbformat": 4,
 "nbformat_minor": 2
}
