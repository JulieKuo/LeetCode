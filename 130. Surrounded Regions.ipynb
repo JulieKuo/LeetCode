{
 "cells": [
  {
   "cell_type": "markdown",
   "metadata": {},
   "source": [
    "## 130. Surrounded Regions"
   ]
  },
  {
   "cell_type": "markdown",
   "metadata": {},
   "source": [
    "### dfs"
   ]
  },
  {
   "cell_type": "code",
   "execution_count": null,
   "metadata": {},
   "outputs": [],
   "source": [
    "from typing import List\n",
    "from collections import deque\n",
    "class Solution:\n",
    "    def solve(self, board: List[List[str]]) -> None:\n",
    "        \"\"\"\n",
    "        Do not return anything, modify board in-place instead.\n",
    "        \"\"\"\n",
    "        rows = len(board)\n",
    "        cols = len(board[0])\n",
    "\n",
    "        def bfs(row, col):\n",
    "            queue = deque([(row, col)])\n",
    "\n",
    "        for row in range(rows):\n",
    "            if board[row][0] == \"O\":\n",
    "                bfs(row, col)\n",
    "            if board[row][cols-1] == \"O\":\n",
    "                bfs(row, col)\n",
    "\n",
    "        for col in range(cols):\n",
    "            if board[0][col] == \"O\":\n",
    "                bfs(row, col)\n",
    "            if board[row-1][cols] == \"O\":\n",
    "                bfs(row, col)"
   ]
  },
  {
   "cell_type": "code",
   "execution_count": null,
   "metadata": {},
   "outputs": [],
   "source": [
    "board = [[\"X\",\"X\",\"X\",\"X\"],[\"X\",\"O\",\"O\",\"X\"],[\"X\",\"X\",\"O\",\"X\"],[\"X\",\"O\",\"X\",\"X\"]]\n",
    "board = [[\"X\",\"X\",\"O\",\"O\"],[\"X\",\"O\",\"O\",\"X\"],[\"O\",\"X\",\"X\",\"X\"],[\"X\",\"O\",\"O\",\"X\"],[\"O\",\"X\",\"X\",\"X\"]]\n",
    "Solution().solve(board)"
   ]
  },
  {
   "cell_type": "markdown",
   "metadata": {},
   "source": [
    "### bfs"
   ]
  },
  {
   "cell_type": "code",
   "execution_count": 1,
   "metadata": {},
   "outputs": [],
   "source": [
    "from collections import deque\n",
    "\n",
    "class Solution:\n",
    "    def solve(self, board):\n",
    "        row = len(board)\n",
    "        col = len(board[0])\n",
    "\n",
    "        Q = deque()\n",
    "\n",
    "        # 四邊中為\"O\"的位置加入Q的隊列中，這些位置及與其相連的\"O\"皆無法翻轉\n",
    "        for r in range(row):\n",
    "            if board[r][0] == \"O\": # 左側\n",
    "                Q.append((r, 0))\n",
    "            if board[r][col - 1] == \"O\": # 右側\n",
    "                Q.append((r, col - 1))\n",
    "\n",
    "        for c in range(col):\n",
    "            if (board[0][c] == \"O\") and ((0, c) not in Q): # 上側\n",
    "                Q.append((0, c))\n",
    "            if (board[row - 1][c] == \"O\") and ((row - 1, c) not in Q): # 下側\n",
    "                Q.append((row - 1, c))\n",
    "\n",
    "\n",
    "        # 依序抓出Q列隊的元素，查詢該元素的上、下、左、右元素是否有\"O\"，若有則加入Q的隊列，並將該元素轉為\"#\"\n",
    "        while Q:\n",
    "            r, c = Q.popleft()\n",
    "            board[r][c] = \"#\"\n",
    "            # 查詢上、下、左、右的元素\n",
    "            for rr, cc in [(r + 1, c), (r - 1, c), (r, c + 1), (r, c - 1)]:\n",
    "                # rr、cc在row和col範圍內\n",
    "                # board[rr][cc]的值為\"O\" 且 (rr, cc)不在Q中\n",
    "                if ((0 <= rr < row) and (0 <= cc < col)) and ((board[rr][cc] == \"O\") and ((rr, cc) not in Q)):\n",
    "                    Q.append((rr, cc))\n",
    "                    board[rr][cc] = \"#\"\n",
    "\n",
    "        # 將剩餘的\"O\"翻轉成\"X\"\n",
    "        for r in range(row):\n",
    "            for c in range(col):\n",
    "                if board[r][c] == \"O\":\n",
    "                    board[r][c] = \"X\"\n",
    "                if board[r][c] == \"#\":\n",
    "                    board[r][c] = \"O\"\n",
    "        \n",
    "        return board"
   ]
  },
  {
   "cell_type": "code",
   "execution_count": 2,
   "metadata": {},
   "outputs": [
    {
     "data": {
      "text/plain": [
       "[['X', 'X', 'O', 'O'],\n",
       " ['X', 'O', 'O', 'X'],\n",
       " ['O', 'X', 'X', 'X'],\n",
       " ['X', 'X', 'X', 'X'],\n",
       " ['O', 'X', 'X', 'X']]"
      ]
     },
     "execution_count": 2,
     "metadata": {},
     "output_type": "execute_result"
    }
   ],
   "source": [
    "board = [[\"X\",\"X\",\"X\",\"X\"],[\"X\",\"O\",\"O\",\"X\"],[\"X\",\"X\",\"O\",\"X\"],[\"X\",\"O\",\"X\",\"X\"]]\n",
    "board = [[\"X\",\"X\",\"O\",\"O\"],[\"X\",\"O\",\"O\",\"X\"],[\"O\",\"X\",\"X\",\"X\"],[\"X\",\"O\",\"O\",\"X\"],[\"O\",\"X\",\"X\",\"X\"]]\n",
    "Solution().solve(board)"
   ]
  }
 ],
 "metadata": {
  "kernelspec": {
   "display_name": ".venv",
   "language": "python",
   "name": "python3"
  },
  "language_info": {
   "codemirror_mode": {
    "name": "ipython",
    "version": 3
   },
   "file_extension": ".py",
   "mimetype": "text/x-python",
   "name": "python",
   "nbconvert_exporter": "python",
   "pygments_lexer": "ipython3",
   "version": "3.8.10"
  },
  "orig_nbformat": 4
 },
 "nbformat": 4,
 "nbformat_minor": 2
}
