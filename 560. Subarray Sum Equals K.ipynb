{
 "cells": [
  {
   "cell_type": "markdown",
   "metadata": {
    "vscode": {
     "languageId": "plaintext"
    }
   },
   "source": [
    "### 560. Subarray Sum Equals K"
   ]
  },
  {
   "cell_type": "markdown",
   "metadata": {},
   "source": [
    "* 時間複雜度: O( $n$ )\n",
    "* 空間複雜度: O( $n$ )"
   ]
  },
  {
   "cell_type": "code",
   "execution_count": null,
   "metadata": {},
   "outputs": [],
   "source": [
    "from typing import List\n",
    "class Solution:\n",
    "    def subarraySum(self, nums: List[int], k: int) -> int:\n",
    "        count = 0 # 合條件的連續子陣列數量\n",
    "        prefix_sum = 0 # 累積和\n",
    "        prefix_sum_count = {0:1} # 儲存累積和的計數，key: 累積和、value: 累積和的出現次數 # space: o(n)\n",
    "\n",
    "        for num in nums: # time: o(n)\n",
    "            prefix_sum += num # 更新累積和\n",
    "            # print(f\"{prefix_sum = }, {k = }, {count = }\")\n",
    "\n",
    "            # 檢查 prefix_sum_count 是否存在 (prefix_sum - k)，有則加上對應的連續子陣列數量\n",
    "            if (prefix_sum - k) in prefix_sum_count:\n",
    "                # print(f\"{(prefix_sum - k)} in {prefix_sum_count}\")\n",
    "                count += prefix_sum_count[(prefix_sum - k)]\n",
    "                # print(f\"- update {count = }\")\n",
    "\n",
    "            # 更新累積和的計數\n",
    "            if  prefix_sum not in prefix_sum_count:\n",
    "                prefix_sum_count[prefix_sum] = 1\n",
    "            else:\n",
    "                prefix_sum_count[prefix_sum] += 1            \n",
    "            \n",
    "            # print(f\"- update {prefix_sum_count = }\\n\")\n",
    "\n",
    "        return count"
   ]
  },
  {
   "cell_type": "code",
   "execution_count": 3,
   "metadata": {},
   "outputs": [
    {
     "data": {
      "text/plain": [
       "2"
      ]
     },
     "execution_count": 3,
     "metadata": {},
     "output_type": "execute_result"
    }
   ],
   "source": [
    "Solution().subarraySum([1,1,1], 2) # 2"
   ]
  },
  {
   "cell_type": "code",
   "execution_count": null,
   "metadata": {},
   "outputs": [],
   "source": []
  }
 ],
 "metadata": {
  "kernelspec": {
   "display_name": ".venv",
   "language": "python",
   "name": "python3"
  },
  "language_info": {
   "codemirror_mode": {
    "name": "ipython",
    "version": 3
   },
   "file_extension": ".py",
   "mimetype": "text/x-python",
   "name": "python",
   "nbconvert_exporter": "python",
   "pygments_lexer": "ipython3",
   "version": "3.11.2"
  }
 },
 "nbformat": 4,
 "nbformat_minor": 2
}
