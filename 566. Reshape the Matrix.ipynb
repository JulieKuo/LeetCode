{
 "cells": [
  {
   "cell_type": "markdown",
   "metadata": {},
   "source": [
    "## 566. Reshape the Matrix"
   ]
  },
  {
   "cell_type": "markdown",
   "metadata": {},
   "source": [
    "<img src=\"img/566.jpg\" style=\"zoom:50%\"/>"
   ]
  },
  {
   "cell_type": "code",
   "execution_count": null,
   "metadata": {},
   "outputs": [],
   "source": [
    "class Solution(object):\n",
    "    def matrixReshape(self, mat, r, c):\n",
    "        \"\"\"\n",
    "        :type mat: List[List[int]]\n",
    "        :type r: int\n",
    "        :type c: int\n",
    "        :rtype: List[List[int]]\n",
    "        \"\"\"\n",
    "        \n",
    "        # import numpy as np\n",
    "        # try:\n",
    "        #     return np.array(mat).reshape(r, c)\n",
    "        # except:\n",
    "        #     return mat\n",
    "        \n",
    "        if len(mat) * len(mat[0]) != r * c:\n",
    "            return mat\n",
    "\n",
    "        orign = []\n",
    "        for row in mat:\n",
    "            for col in row:\n",
    "                orign.append(col)\n",
    "\n",
    "        res = []\n",
    "        k = 0\n",
    "        for i in range(r):\n",
    "            res1 = []\n",
    "            for j in range(c):\n",
    "                res1.append(orign[k])\n",
    "                k += 1\n",
    "            res.append(res1)\n",
    "        return res"
   ]
  }
 ],
 "metadata": {
  "language_info": {
   "name": "python"
  },
  "orig_nbformat": 4
 },
 "nbformat": 4,
 "nbformat_minor": 2
}
