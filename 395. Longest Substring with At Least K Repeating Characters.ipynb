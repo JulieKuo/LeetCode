{
 "cells": [
  {
   "cell_type": "markdown",
   "metadata": {},
   "source": [
    "### 395. Longest Substring with At Least K Repeating Characters"
   ]
  },
  {
   "attachments": {},
   "cell_type": "markdown",
   "metadata": {},
   "source": [
    "分治法。由於要滿足出現次數不小於k，先統計每個字母的出現次數，出現次數小於k的那些字母肯定不可能出現在合法子串中的，即可以將這些字母作為分界線對字符串s進行劃分。遞歸出口就是每次字母出現次數都不小於k。"
   ]
  },
  {
   "cell_type": "code",
   "execution_count": 77,
   "metadata": {},
   "outputs": [],
   "source": [
    "class Solution:\n",
    "    def longestSubstring(self, s: str, k: int) -> int:\n",
    "        print(f\"{'-'*50}\\ns = {s}, set(s) = {set(s)}\")\n",
    "        for c in set(s):\n",
    "            if s.count(c) < k:\n",
    "                print(f\"(s.count({c}) = {s.count(c)}) < (k = {k})\")\n",
    "                \n",
    "                sub_lens = []\n",
    "                print(f\"s.split({c}) = {s.split(c)}\")\n",
    "                for t in s.split(c):\n",
    "                    print(f\"t = {t}\")\n",
    "                    sub_len = self.longestSubstring(t, k)\n",
    "                    sub_lens.append(sub_len)\n",
    "                    print(f\"sub_len = {sub_len}, sub_lens = {sub_lens}\")\n",
    "\n",
    "                sub_len_max = max(sub_lens)\n",
    "                print(f\"sub_len_max = {sub_len_max}\")\n",
    "\n",
    "                return sub_len_max\n",
    "            else:\n",
    "                print(f\"(s.count({c}) = {s.count(c)}) >= (k = {k})\")\n",
    "                print(f\"len(s) = {len(s)}\")\n",
    "        return len(s)"
   ]
  },
  {
   "cell_type": "code",
   "execution_count": 78,
   "metadata": {},
   "outputs": [
    {
     "name": "stdout",
     "output_type": "stream",
     "text": [
      "--------------------------------------------------\n",
      "s = ababacbbba, set(s) = {'c', 'b', 'a'}\n",
      "(s.count(c) = 1) < (k = 2)\n",
      "s.split(c) = ['ababa', 'bbba']\n",
      "t = ababa\n",
      "--------------------------------------------------\n",
      "s = ababa, set(s) = {'b', 'a'}\n",
      "(s.count(b) = 2) >= (k = 2)\n",
      "len(s) = 5\n",
      "(s.count(a) = 3) >= (k = 2)\n",
      "len(s) = 5\n",
      "sub_len = 5, sub_lens = [5]\n",
      "t = bbba\n",
      "--------------------------------------------------\n",
      "s = bbba, set(s) = {'b', 'a'}\n",
      "(s.count(b) = 3) >= (k = 2)\n",
      "len(s) = 4\n",
      "(s.count(a) = 1) < (k = 2)\n",
      "s.split(a) = ['bbb', '']\n",
      "t = bbb\n",
      "--------------------------------------------------\n",
      "s = bbb, set(s) = {'b'}\n",
      "(s.count(b) = 3) >= (k = 2)\n",
      "len(s) = 3\n",
      "sub_len = 3, sub_lens = [3]\n",
      "t = \n",
      "--------------------------------------------------\n",
      "s = , set(s) = set()\n",
      "sub_len = 0, sub_lens = [3, 0]\n",
      "sub_len_max = 3\n",
      "sub_len = 3, sub_lens = [5, 3]\n",
      "sub_len_max = 5\n"
     ]
    },
    {
     "data": {
      "text/plain": [
       "5"
      ]
     },
     "execution_count": 78,
     "metadata": {},
     "output_type": "execute_result"
    }
   ],
   "source": [
    "s = \"ababacbbba\"\n",
    "k = 2\n",
    "Solution().longestSubstring(s, k)"
   ]
  },
  {
   "cell_type": "code",
   "execution_count": null,
   "metadata": {},
   "outputs": [],
   "source": []
  },
  {
   "cell_type": "code",
   "execution_count": null,
   "metadata": {},
   "outputs": [],
   "source": []
  }
 ],
 "metadata": {
  "kernelspec": {
   "display_name": ".venv",
   "language": "python",
   "name": "python3"
  },
  "language_info": {
   "codemirror_mode": {
    "name": "ipython",
    "version": 3
   },
   "file_extension": ".py",
   "mimetype": "text/x-python",
   "name": "python",
   "nbconvert_exporter": "python",
   "pygments_lexer": "ipython3",
   "version": "3.8.10"
  },
  "orig_nbformat": 4
 },
 "nbformat": 4,
 "nbformat_minor": 2
}
