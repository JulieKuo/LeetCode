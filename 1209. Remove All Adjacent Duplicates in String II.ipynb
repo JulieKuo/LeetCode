{
 "cells": [
  {
   "cell_type": "markdown",
   "metadata": {},
   "source": [
    "## 1209. Remove All Adjacent Duplicates in String II"
   ]
  },
  {
   "cell_type": "code",
   "execution_count": 29,
   "metadata": {},
   "outputs": [],
   "source": [
    "class Solution:\n",
    "    def removeDuplicates(self, s: str, k: int) -> str:\n",
    "        stack = [] #[字母, 連在一起的次數]\n",
    "        for ele in s:\n",
    "            if not stack:\n",
    "                stack.append([ele, 1])\n",
    "                print(f'ele = \"{ele}\"。stack中沒有值，直接新增:\\nstack = {stack}\\n')\n",
    "            elif stack[-1][0] == ele:\n",
    "                stack[-1][1] += 1\n",
    "                print(f'ele = \"{ele}\"。stack最後的字母與新加入的相同，數量加1:\\nstack = {stack}\\n')\n",
    "                if stack[-1][1] == k:\n",
    "                    stack.pop()\n",
    "                    print(f'ele = \"{ele}\"。stack最後的字母之數量與限制相同，需刪除:\\nstack = {stack}\\n')\n",
    "            else:\n",
    "                stack.append([ele, 1])\n",
    "                print(f'ele = \"{ele}\"。stack最後的字母與新加入的不同，直接新增:\\nstack = {stack}\\n')\n",
    "                \n",
    "        result = str()\n",
    "        for ele, count in stack:\n",
    "            result += (ele * count)\n",
    "            \n",
    "        return result"
   ]
  },
  {
   "cell_type": "code",
   "execution_count": 30,
   "metadata": {},
   "outputs": [
    {
     "name": "stdout",
     "output_type": "stream",
     "text": [
      "ele = \"d\"。stack中沒有值，直接新增:\n",
      "stack = [['d', 1]]\n",
      "\n",
      "ele = \"e\"。stack最後的字母與新加入的不同，直接新增:\n",
      "stack = [['d', 1], ['e', 1]]\n",
      "\n",
      "ele = \"e\"。stack最後的字母與新加入的相同，數量加1:\n",
      "stack = [['d', 1], ['e', 2]]\n",
      "\n",
      "ele = \"e\"。stack最後的字母與新加入的相同，數量加1:\n",
      "stack = [['d', 1], ['e', 3]]\n",
      "\n",
      "ele = \"e\"。stack最後的字母之數量與限制相同，需刪除:\n",
      "stack = [['d', 1]]\n",
      "\n",
      "ele = \"d\"。stack最後的字母與新加入的相同，數量加1:\n",
      "stack = [['d', 2]]\n",
      "\n",
      "ele = \"b\"。stack最後的字母與新加入的不同，直接新增:\n",
      "stack = [['d', 2], ['b', 1]]\n",
      "\n",
      "ele = \"b\"。stack最後的字母與新加入的相同，數量加1:\n",
      "stack = [['d', 2], ['b', 2]]\n",
      "\n",
      "ele = \"c\"。stack最後的字母與新加入的不同，直接新增:\n",
      "stack = [['d', 2], ['b', 2], ['c', 1]]\n",
      "\n",
      "ele = \"c\"。stack最後的字母與新加入的相同，數量加1:\n",
      "stack = [['d', 2], ['b', 2], ['c', 2]]\n",
      "\n",
      "ele = \"c\"。stack最後的字母與新加入的相同，數量加1:\n",
      "stack = [['d', 2], ['b', 2], ['c', 3]]\n",
      "\n",
      "ele = \"c\"。stack最後的字母之數量與限制相同，需刪除:\n",
      "stack = [['d', 2], ['b', 2]]\n",
      "\n",
      "ele = \"b\"。stack最後的字母與新加入的相同，數量加1:\n",
      "stack = [['d', 2], ['b', 3]]\n",
      "\n",
      "ele = \"b\"。stack最後的字母之數量與限制相同，需刪除:\n",
      "stack = [['d', 2]]\n",
      "\n",
      "ele = \"d\"。stack最後的字母與新加入的相同，數量加1:\n",
      "stack = [['d', 3]]\n",
      "\n",
      "ele = \"d\"。stack最後的字母之數量與限制相同，需刪除:\n",
      "stack = []\n",
      "\n",
      "ele = \"a\"。stack中沒有值，直接新增:\n",
      "stack = [['a', 1]]\n",
      "\n",
      "ele = \"a\"。stack最後的字母與新加入的相同，數量加1:\n",
      "stack = [['a', 2]]\n",
      "\n"
     ]
    },
    {
     "data": {
      "text/plain": [
       "'aa'"
      ]
     },
     "execution_count": 30,
     "metadata": {},
     "output_type": "execute_result"
    }
   ],
   "source": [
    "s = \"deeedbbcccbdaa\"\n",
    "k = 3\n",
    "\n",
    "Solution().removeDuplicates(s, k)"
   ]
  }
 ],
 "metadata": {
  "kernelspec": {
   "display_name": "Python 3.8.7 ('.venv': venv)",
   "language": "python",
   "name": "python3"
  },
  "language_info": {
   "codemirror_mode": {
    "name": "ipython",
    "version": 3
   },
   "file_extension": ".py",
   "mimetype": "text/x-python",
   "name": "python",
   "nbconvert_exporter": "python",
   "pygments_lexer": "ipython3",
   "version": "3.8.7"
  },
  "orig_nbformat": 4,
  "vscode": {
   "interpreter": {
    "hash": "6a07fcf0145f94b3f971c13d061528107de20ab7b779375f96dab9bbac6a85db"
   }
  }
 },
 "nbformat": 4,
 "nbformat_minor": 2
}
