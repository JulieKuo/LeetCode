{
 "cells": [
  {
   "cell_type": "markdown",
   "metadata": {},
   "source": [
    "### 37. Sudoku Solver"
   ]
  },
  {
   "cell_type": "code",
   "execution_count": 1,
   "metadata": {},
   "outputs": [],
   "source": [
    "class Solution:\n",
    "    def solveSudoku(self, board):\n",
    "        \"\"\"\n",
    "        Do not return anything, modify board in-place instead.\n",
    "        \"\"\"\n",
    "        self.n = 9  # 數獨棋盤大小為 9x9\n",
    "\n",
    "        self.board = board  # 存儲數獨棋盤\n",
    "        self.dfs(row = 0, col = 0)\n",
    "    \n",
    "    def dfs(self, row, col):\n",
    "        # 如果已經搜索完最後一行，返回True表示解題成功\n",
    "        if row == self.n:\n",
    "            return True\n",
    "        \n",
    "        # 如果已經搜索完當前行的所有列，則移動到下一行的第一列\n",
    "        if col == self.n:\n",
    "            return self.dfs(row = (row + 1), col = 0)\n",
    "        \n",
    "        # 如果當前格子為空白，則嘗試填入數字 1 到 9\n",
    "        if self.board[row][col] == \".\":\n",
    "            for i in range(1, (self.n + 1)):\n",
    "                # 如果填入的數字在當前位置是合法的，則繼續遞歸搜索下一個位置\n",
    "                if self.isValid(row = row, col = col, ch = str(i)):\n",
    "                    self.board[row][col] = str(i)\n",
    "                    \n",
    "                    if self.dfs(row = row, col = (col + 1)):\n",
    "                        return True\n",
    "                    else:\n",
    "                        # 如果下一個位置搜索失敗，回溯，將當前位置重置為空白\n",
    "                        self.board[row][col] = \".\"\n",
    "\n",
    "            # 如果嘗試填入的數字都無法使得數獨解題，返回False表示解題失敗\n",
    "            return False\n",
    "        \n",
    "        else:\n",
    "            # 如果當前格子已經有數字，直接遞歸搜索下一個位置\n",
    "            return self.dfs(row = row, col = (col + 1))\n",
    "        \n",
    "    def isValid(self, row, col, ch):\n",
    "        for i in range(self.n):\n",
    "            # 檢查同一列是否有相同的數字\n",
    "            if self.board[i][col] == ch:\n",
    "                return False\n",
    "            \n",
    "            # 檢查同一行是否有相同的數字\n",
    "            if self.board[row][i] == ch:\n",
    "                return False\n",
    "            \n",
    "            # 檢查九宮格內是否有相同的數字\n",
    "            if self.board[(3 * (row // 3)) + (i // 3)][(3 * (col // 3)) + (i % 3)] == ch:\n",
    "                return False\n",
    "        \n",
    "        # 如果通過所有檢查，表示當前位置的數字是合法的\n",
    "        return True\n"
   ]
  },
  {
   "cell_type": "code",
   "execution_count": 2,
   "metadata": {},
   "outputs": [],
   "source": [
    "board = [[\"5\",\"3\",\".\",\".\",\"7\",\".\",\".\",\".\",\".\"],[\"6\",\".\",\".\",\"1\",\"9\",\"5\",\".\",\".\",\".\"],[\".\",\"9\",\"8\",\".\",\".\",\".\",\".\",\"6\",\".\"],[\"8\",\".\",\".\",\".\",\"6\",\".\",\".\",\".\",\"3\"],[\"4\",\".\",\".\",\"8\",\".\",\"3\",\".\",\".\",\"1\"],[\"7\",\".\",\".\",\".\",\"2\",\".\",\".\",\".\",\"6\"],[\".\",\"6\",\".\",\".\",\".\",\".\",\"2\",\"8\",\".\"],[\".\",\".\",\".\",\"4\",\"1\",\"9\",\".\",\".\",\"5\"],[\".\",\".\",\".\",\".\",\"8\",\".\",\".\",\"7\",\"9\"]]\n",
    "Solution().solveSudoku(board)"
   ]
  },
  {
   "cell_type": "code",
   "execution_count": 3,
   "metadata": {},
   "outputs": [
    {
     "data": {
      "text/plain": [
       "[['5', '3', '4', '6', '7', '8', '9', '1', '2'],\n",
       " ['6', '7', '2', '1', '9', '5', '3', '4', '8'],\n",
       " ['1', '9', '8', '3', '4', '2', '5', '6', '7'],\n",
       " ['8', '5', '9', '7', '6', '1', '4', '2', '3'],\n",
       " ['4', '2', '6', '8', '5', '3', '7', '9', '1'],\n",
       " ['7', '1', '3', '9', '2', '4', '8', '5', '6'],\n",
       " ['9', '6', '1', '5', '3', '7', '2', '8', '4'],\n",
       " ['2', '8', '7', '4', '1', '9', '6', '3', '5'],\n",
       " ['3', '4', '5', '2', '8', '6', '1', '7', '9']]"
      ]
     },
     "execution_count": 3,
     "metadata": {},
     "output_type": "execute_result"
    }
   ],
   "source": [
    "board"
   ]
  }
 ],
 "metadata": {
  "kernelspec": {
   "display_name": ".venv",
   "language": "python",
   "name": "python3"
  },
  "language_info": {
   "codemirror_mode": {
    "name": "ipython",
    "version": 3
   },
   "file_extension": ".py",
   "mimetype": "text/x-python",
   "name": "python",
   "nbconvert_exporter": "python",
   "pygments_lexer": "ipython3",
   "version": "3.8.10"
  }
 },
 "nbformat": 4,
 "nbformat_minor": 2
}
