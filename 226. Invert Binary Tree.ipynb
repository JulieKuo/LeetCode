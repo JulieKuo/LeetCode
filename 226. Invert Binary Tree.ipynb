{
 "cells": [
  {
   "cell_type": "markdown",
   "metadata": {},
   "source": [
    "### 226. Invert Binary Tree"
   ]
  },
  {
   "cell_type": "code",
   "execution_count": 1,
   "metadata": {},
   "outputs": [],
   "source": [
    "# Definition for a binary tree node.\n",
    "class TreeNode:\n",
    "    def __init__(self, val=0, left=None, right=None):\n",
    "        self.val = val\n",
    "        self.left = left\n",
    "        self.right = right"
   ]
  },
  {
   "cell_type": "markdown",
   "metadata": {},
   "source": [
    "### DFS"
   ]
  },
  {
   "cell_type": "markdown",
   "metadata": {},
   "source": [
    "**時間複雜度: $O(n)$**  \n",
    "**空間複雜度: $O(n)$**\n",
    "\n",
    "最壞情況：$O(n)$（完全不平衡的樹）  \n",
    "最佳情況：$O(log n)$（平衡樹）"
   ]
  },
  {
   "cell_type": "code",
   "execution_count": 2,
   "metadata": {},
   "outputs": [],
   "source": [
    "root = TreeNode(\n",
    "    val = 4, \n",
    "    left = TreeNode(\n",
    "        val = 2, \n",
    "        left = TreeNode(\n",
    "            val = 1, \n",
    "            left = None, \n",
    "            right = None\n",
    "            ), \n",
    "        right = TreeNode(\n",
    "            val = 3, \n",
    "            left = None, \n",
    "            right = None\n",
    "            )\n",
    "        ), \n",
    "    right = TreeNode(\n",
    "        val = 7, \n",
    "        left = TreeNode(\n",
    "            val = 6, \n",
    "            left = None, \n",
    "            right = None\n",
    "            ), \n",
    "        right = TreeNode(\n",
    "            val = 9, \n",
    "            left = None, \n",
    "            right = None\n",
    "            )\n",
    "        ))"
   ]
  },
  {
   "cell_type": "code",
   "execution_count": 3,
   "metadata": {},
   "outputs": [],
   "source": [
    "from typing import Optional\n",
    "\n",
    "class Solution:\n",
    "    def invertTree(self, root: Optional[TreeNode]) -> Optional[TreeNode]: #\n",
    "        # 如果節點為空，直接回傳 None（遞迴終止條件）\n",
    "        if not root:\n",
    "            return None\n",
    "        \n",
    "        # 對調左右子節點\n",
    "        root.left, root.right = root.right, root.left\n",
    "\n",
    "        # 遞迴反轉左子樹\n",
    "        self.invertTree(root.left)\n",
    "        # 遞迴反轉右子樹\n",
    "        self.invertTree(root.right)\n",
    "\n",
    "        # 回傳反轉後的根節點\n",
    "        return root\n"
   ]
  },
  {
   "cell_type": "code",
   "execution_count": 4,
   "metadata": {},
   "outputs": [
    {
     "name": "stdout",
     "output_type": "stream",
     "text": [
      "4, 7, 2, 9, 6, 3, 1, \n"
     ]
    }
   ],
   "source": [
    "# Input: root = [4,2,7,1,3,6,9]\n",
    "# Output: [4,7,2,9,6,3,1]\n",
    "\n",
    "result = Solution().invertTree(root)\n",
    "\n",
    "result_str = str()\n",
    "node_list = [result]\n",
    "while node_list:\n",
    "    length = len(node_list)\n",
    "    for i in range(length):\n",
    "        node = node_list.pop(0)\n",
    "        result_str += f\"{node.val}, \"\n",
    "\n",
    "        if node.left:\n",
    "            node_list.append(node.left)\n",
    "        if node.right:\n",
    "            node_list.append(node.right)\n",
    "\n",
    "print(result_str)"
   ]
  },
  {
   "cell_type": "markdown",
   "metadata": {},
   "source": [
    "## BFS"
   ]
  },
  {
   "cell_type": "markdown",
   "metadata": {},
   "source": [
    "**時間複雜度: $O(n)$**  \n",
    "**空間複雜度: $O(n)$**\n",
    "\n",
    "最壞情況：$O(n)$（完全不平衡的樹）  \n",
    "最佳情況：$O(n/2) = O(n)$（平衡樹）"
   ]
  },
  {
   "cell_type": "code",
   "execution_count": 5,
   "metadata": {},
   "outputs": [],
   "source": [
    "root = TreeNode(\n",
    "    val = 4, \n",
    "    left = TreeNode(\n",
    "        val = 2, \n",
    "        left = TreeNode(\n",
    "            val = 1, \n",
    "            left = None, \n",
    "            right = None\n",
    "            ), \n",
    "        right = TreeNode(\n",
    "            val = 3, \n",
    "            left = None, \n",
    "            right = None\n",
    "            )\n",
    "        ), \n",
    "    right = TreeNode(\n",
    "        val = 7, \n",
    "        left = TreeNode(\n",
    "            val = 6, \n",
    "            left = None, \n",
    "            right = None\n",
    "            ), \n",
    "        right = TreeNode(\n",
    "            val = 9, \n",
    "            left = None, \n",
    "            right = None\n",
    "            )\n",
    "        ))"
   ]
  },
  {
   "cell_type": "code",
   "execution_count": 6,
   "metadata": {},
   "outputs": [],
   "source": [
    "from typing import Optional\n",
    "from collections import deque\n",
    "\n",
    "class Solution:\n",
    "    def invertTree(self, root: Optional[TreeNode]) -> Optional[TreeNode]:\n",
    "        # 若樹根為空，直接回傳 None\n",
    "        if not root:\n",
    "            return None\n",
    "        \n",
    "        # 初始化佇列，將根節點加入\n",
    "        queue = deque([root])\n",
    "\n",
    "        # 當佇列不為空時，持續處理節點\n",
    "        while queue:\n",
    "            # 從佇列中取出最前面的節點\n",
    "            node = queue.popleft()\n",
    "\n",
    "            # 對調左右子節點\n",
    "            node.left, node.right = node.right, node.left\n",
    "\n",
    "            # 如果左子節點存在，加入佇列等待後續處理\n",
    "            if node.left:\n",
    "                queue.append(node.left)\n",
    "\n",
    "            # 如果右子節點存在，加入佇列等待後續處理\n",
    "            if node.right:\n",
    "                queue.append(node.right)\n",
    "\n",
    "        # 回傳已反轉的樹根\n",
    "        return root"
   ]
  },
  {
   "cell_type": "code",
   "execution_count": 7,
   "metadata": {},
   "outputs": [
    {
     "name": "stdout",
     "output_type": "stream",
     "text": [
      "4, 7, 2, 9, 6, 3, 1, \n"
     ]
    }
   ],
   "source": [
    "# Input: root = [4,2,7,1,3,6,9]\n",
    "# Output: [4,7,2,9,6,3,1]\n",
    "\n",
    "result = Solution().invertTree(root)\n",
    "\n",
    "result_str = str()\n",
    "node_list = [result]\n",
    "while node_list:\n",
    "    length = len(node_list)\n",
    "    for i in range(length):\n",
    "        node = node_list.pop(0)\n",
    "        result_str += f\"{node.val}, \"\n",
    "\n",
    "        if node.left:\n",
    "            node_list.append(node.left)\n",
    "        if node.right:\n",
    "            node_list.append(node.right)\n",
    "\n",
    "print(result_str)"
   ]
  }
 ],
 "metadata": {
  "kernelspec": {
   "display_name": ".venv (3.12.8)",
   "language": "python",
   "name": "python3"
  },
  "language_info": {
   "codemirror_mode": {
    "name": "ipython",
    "version": 3
   },
   "file_extension": ".py",
   "mimetype": "text/x-python",
   "name": "python",
   "nbconvert_exporter": "python",
   "pygments_lexer": "ipython3",
   "version": "3.12.8"
  },
  "orig_nbformat": 4
 },
 "nbformat": 4,
 "nbformat_minor": 2
}
