{
 "cells": [
  {
   "cell_type": "markdown",
   "metadata": {},
   "source": [
    "### 226. Invert Binary Tree"
   ]
  },
  {
   "cell_type": "code",
   "execution_count": 1,
   "metadata": {},
   "outputs": [],
   "source": [
    "# Definition for a binary tree node.\n",
    "class TreeNode:\n",
    "    def __init__(self, val=0, left=None, right=None):\n",
    "        self.val = val\n",
    "        self.left = left\n",
    "        self.right = right"
   ]
  },
  {
   "cell_type": "code",
   "execution_count": 2,
   "metadata": {},
   "outputs": [],
   "source": [
    "root = TreeNode(\n",
    "    val = 4, \n",
    "    left = TreeNode(\n",
    "        val = 2, \n",
    "        left = TreeNode(\n",
    "            val = 1, \n",
    "            left = None, \n",
    "            right = None\n",
    "            ), \n",
    "        right = TreeNode(\n",
    "            val = 3, \n",
    "            left = None, \n",
    "            right = None\n",
    "            )\n",
    "        ), \n",
    "    right = TreeNode(\n",
    "        val = 7, \n",
    "        left = TreeNode(\n",
    "            val = 6, \n",
    "            left = None, \n",
    "            right = None\n",
    "            ), \n",
    "        right = TreeNode(\n",
    "            val = 9, \n",
    "            left = None, \n",
    "            right = None\n",
    "            )\n",
    "        ))\n",
    "\n",
    "# Input: root = [4,2,7,1,3,6,9]\n",
    "# Output: [4,7,2,9,6,3,1]\n",
    "\n",
    "# Input: root = [2,1,3]\n",
    "# Output: [2,3,1]\n",
    "\n",
    "# Input: root = []\n",
    "# Output: []"
   ]
  },
  {
   "cell_type": "code",
   "execution_count": 3,
   "metadata": {},
   "outputs": [],
   "source": [
    "class Solution:\n",
    "    def invertTree(self, root):\n",
    "        if not root: # 如果節點為空，則返回空節點\n",
    "            return root\n",
    "\n",
    "        # print(f\"{root.val} - left\")\n",
    "        self.invertTree(root.left)  # 遞迴處理左子樹\n",
    "        # print(f\"{root.val} - left - root = {root.left}\")\n",
    "\n",
    "        # print(f\"{root.val} - right\")\n",
    "        self.invertTree(root.right)  # 遞迴處理右子樹\n",
    "        # print(f\"root.right = {root.right}\")\n",
    "\n",
    "        root.left, root.right = root.right, root.left # 將左子樹和右子樹互換\n",
    "\n",
    "        return root"
   ]
  },
  {
   "cell_type": "code",
   "execution_count": 4,
   "metadata": {},
   "outputs": [
    {
     "data": {
      "text/plain": [
       "<__main__.TreeNode at 0x24f82cac340>"
      ]
     },
     "execution_count": 4,
     "metadata": {},
     "output_type": "execute_result"
    }
   ],
   "source": [
    "Solution().invertTree(root)"
   ]
  },
  {
   "cell_type": "code",
   "execution_count": 5,
   "metadata": {},
   "outputs": [
    {
     "name": "stdout",
     "output_type": "stream",
     "text": [
      "4 7 2 9 6 3 1\n"
     ]
    }
   ],
   "source": [
    "print(root.val, root.left.val, root.right.val, root.left.left.val, root.left.right.val, root.right.left.val, root.right.right.val)"
   ]
  }
 ],
 "metadata": {
  "kernelspec": {
   "display_name": ".venv",
   "language": "python",
   "name": "python3"
  },
  "language_info": {
   "codemirror_mode": {
    "name": "ipython",
    "version": 3
   },
   "file_extension": ".py",
   "mimetype": "text/x-python",
   "name": "python",
   "nbconvert_exporter": "python",
   "pygments_lexer": "ipython3",
   "version": "3.8.10"
  },
  "orig_nbformat": 4
 },
 "nbformat": 4,
 "nbformat_minor": 2
}
