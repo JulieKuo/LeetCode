{
 "cells": [
  {
   "cell_type": "markdown",
   "metadata": {},
   "source": [
    "## 148. Sort List"
   ]
  },
  {
   "cell_type": "markdown",
   "metadata": {},
   "source": [
    "<img src=\"img/148.png\" style=\"zoom:90%\"/>"
   ]
  },
  {
   "cell_type": "code",
   "execution_count": null,
   "metadata": {},
   "outputs": [],
   "source": [
    "# Definition for singly-linked list.\n",
    "# class ListNode:\n",
    "#     def __init__(self, val=0, next=None):\n",
    "#         self.val = val\n",
    "#         self.next = next\n",
    "class Solution:\n",
    "    def sortList(self, head: Optional[ListNode]) -> Optional[ListNode]:\n",
    "        if not head or not head.next:#如果沒有head，或head只剩一個node，就結束sortList的遞迴\n",
    "            return head\n",
    "        \n",
    "        pre, slow, fast = head, head, head\n",
    "        while fast and fast.next:\n",
    "            pre = slow #紀錄slow的前一個，以便之後切半\n",
    "            slow = slow.next\n",
    "            fast = fast.next.next\n",
    "        pre.next = None#切半，前半為head，後半為slow\n",
    "        l1 = self.sortList(head)\n",
    "        l2 = self.sortList(slow)\n",
    "        \n",
    "        return self.mergeTwoLists(l1, l2)\n",
    "    \n",
    "    def mergeTwoLists(self, l1, l2):\n",
    "        head = ListNode(0)\n",
    "        move = head#原始move\n",
    "        while l1 and l2:\n",
    "            #每次比較l1和l2的第一個node，較小的指定為move的下一個node，以此做排序\n",
    "            if l1.val < l2.val:\n",
    "                move.next = l1#指定move的下一個node\n",
    "                l1 = l1.next#第一個node已被指定排序，開頭移到下一個node，與l2做排序比較\n",
    "            else:\n",
    "                move.next = l2\n",
    "                l2 = l2.next\n",
    "            move = move.next#move移到下一個node，才能指定之後的node (但head不會跟著移)\n",
    "        move.next = l1 if l1 else l2#如果其中一個沒了，無法比較，此時另一個就是move的下一個node\n",
    "        \n",
    "        return head.next#head初始化時第一個node指定為0，須移到第二個node才能返回"
   ]
  },
  {
   "cell_type": "code",
   "execution_count": null,
   "metadata": {},
   "outputs": [],
   "source": []
  },
  {
   "cell_type": "code",
   "execution_count": 12,
   "metadata": {},
   "outputs": [
    {
     "name": "stdout",
     "output_type": "stream",
     "text": [
      "[1, 2, 3, 4]\n"
     ]
    }
   ],
   "source": [
    "head = [4,2,1,3]\n",
    "def Merge_Sort(array):\n",
    "    if len(array) > 1:\n",
    "        mid = len(array) // 2\n",
    "        left_array = array[:mid]\n",
    "        right_array = array[mid:]\n",
    "\n",
    "        Merge_Sort(left_array)\n",
    "        Merge_Sort(right_array)\n",
    "\n",
    "        right_index = 0\n",
    "        left_index = 0\n",
    "        merged_index = 0\n",
    "        while right_index < len(right_array) and left_index < len(left_array):\n",
    "            if(right_array[right_index] < left_array[left_index]):\n",
    "                array[merged_index] = right_array[right_index]\n",
    "                right_index += 1\n",
    "            else:\n",
    "                array[merged_index] = left_array[left_index]\n",
    "                left_index += 1\n",
    "\n",
    "            merged_index += 1\n",
    "\n",
    "        while right_index < len(right_array):\n",
    "            array[merged_index] = right_array[right_index]\n",
    "            right_index += 1\n",
    "            merged_index += 1\n",
    "\n",
    "        while left_index < len(left_array):\n",
    "            array[merged_index] = left_array[left_index]\n",
    "            left_index += 1\n",
    "            merged_index += 1\n",
    "    # print(array)\n",
    "\n",
    "Merge_Sort(head)\n",
    "print(head)"
   ]
  },
  {
   "cell_type": "code",
   "execution_count": null,
   "metadata": {},
   "outputs": [],
   "source": []
  }
 ],
 "metadata": {
  "kernelspec": {
   "display_name": "Python 3.8.10 ('.venv': venv)",
   "language": "python",
   "name": "python3"
  },
  "language_info": {
   "codemirror_mode": {
    "name": "ipython",
    "version": 3
   },
   "file_extension": ".py",
   "mimetype": "text/x-python",
   "name": "python",
   "nbconvert_exporter": "python",
   "pygments_lexer": "ipython3",
   "version": "3.8.10"
  },
  "orig_nbformat": 4,
  "vscode": {
   "interpreter": {
    "hash": "6c2898c30be5f73b03e044cf4b0ab3750666a8191d61a4c93b022a132c823988"
   }
  }
 },
 "nbformat": 4,
 "nbformat_minor": 2
}
