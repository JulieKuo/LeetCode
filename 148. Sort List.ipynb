{
 "cells": [
  {
   "cell_type": "markdown",
   "metadata": {},
   "source": [
    "## 148. Sort List"
   ]
  },
  {
   "cell_type": "markdown",
   "metadata": {},
   "source": [
    "<img src=\"img/148.png\" style=\"zoom:90%\"/>"
   ]
  },
  {
   "cell_type": "markdown",
   "metadata": {},
   "source": [
    "* 時間複雜度: O( $n\\ log\\ n$ )\n",
    "* 空間複雜度: O( $log\\ n$ )"
   ]
  },
  {
   "cell_type": "code",
   "execution_count": null,
   "metadata": {},
   "outputs": [],
   "source": [
    "# Definition for singly-linked list.\n",
    "# class ListNode:\n",
    "#     def __init__(self, val=0, next=None):\n",
    "#         self.val = val\n",
    "#         self.next = next\n",
    "\n",
    "class Solution:\n",
    "    def sortList(self, head: Optional[ListNode]) -> Optional[ListNode]: # time complexity: O(n log n)\n",
    "        # 若鏈結串列為空或只有一個節點，直接返回\n",
    "        if (not head) or (not head.next):\n",
    "            return head\n",
    "\n",
    "        print(\"\\n<< sortList >>\")\n",
    "        print(f\"{head = }\")\n",
    "        print(\"-\" * 100)\n",
    "\n",
    "        # 定義三個指標：previous, fast, slow\n",
    "        # previous：指向中間分隔點的前一個節點，用於切割鏈結串列\n",
    "        # fast：以兩倍速度移動，用於找到鏈結串列的中間點\n",
    "        # slow：以一倍速度移動，最終指向中間點\n",
    "        previous, fast, slow = head, head, head\n",
    "        while fast and fast.next: # time complexity: O(n)\n",
    "            # 更新指標位置，previous跟隨slow移動\n",
    "            previous = slow\n",
    "            slow = slow.next\n",
    "            fast = fast.next.next\n",
    "            \n",
    "            print(f\"{fast = }\")\n",
    "            print(f\"{slow = }\")\n",
    "            print(\"-\" * 100)\n",
    "        \n",
    "        previous.next = None # 將鏈結串列切分為兩部分\n",
    "        \n",
    "        print(f\"{head = }\")\n",
    "        print(f\"{slow = }\")\n",
    "\n",
    "        # 遞迴地對左、右兩部分進行排序，time complexity: O(log n)、space complexity: O(log n)\n",
    "        left = self.sortList(head) \n",
    "        right = self.sortList(slow)\n",
    "\n",
    "        return self.mergeList(left, right) # 合併已排序的左右部分並返回，time complexity: O(n)、space complexity: O(1)\n",
    "\n",
    "    def mergeList(self, left, right): # time complexity: O(n)\n",
    "        print(f\"\\n<< mergeList >>\")\n",
    "        \n",
    "        head = ListNode(0) # 定義虛擬頭節點，以便於處理\n",
    "        move = head  # move 指向目前的最後一個節點，用於合併鏈結串列\n",
    "\n",
    "        # 將left和right的節點依序合併\n",
    "        while left and right: # time complexity: O(n)\n",
    "            # 比較left和right當前節點的值，將較小的節點連接到結果鏈結串列\n",
    "            if left.val > right.val:\n",
    "                move.next = right  # 將right當前節點連接到move後\n",
    "                right = right.next  # 移動right指標至下一個節點\n",
    "            else:\n",
    "                move.next = left  # 將left當前節點連接到move後\n",
    "                left = left.next  # 移動left指標至下一個節點\n",
    "            move = move.next  # 移動move指標至新加入的節點\n",
    "\n",
    "            print(f\"{head = }\")\n",
    "\n",
    "        # 若left或right尚有剩餘節點，直接連接到結果鏈結串列的最後\n",
    "        move.next = left if left else right\n",
    "        \n",
    "        print(f\"{head.next = }\") \n",
    "\n",
    "        # 返回真正的排序後的鏈結串列頭節點\n",
    "        return head.next\n"
   ]
  }
 ],
 "metadata": {
  "kernelspec": {
   "display_name": "Python 3.8.10 ('.venv': venv)",
   "language": "python",
   "name": "python3"
  },
  "language_info": {
   "codemirror_mode": {
    "name": "ipython",
    "version": 3
   },
   "file_extension": ".py",
   "mimetype": "text/x-python",
   "name": "python",
   "nbconvert_exporter": "python",
   "pygments_lexer": "ipython3",
   "version": "3.8.10"
  },
  "orig_nbformat": 4,
  "vscode": {
   "interpreter": {
    "hash": "6c2898c30be5f73b03e044cf4b0ab3750666a8191d61a4c93b022a132c823988"
   }
  }
 },
 "nbformat": 4,
 "nbformat_minor": 2
}
