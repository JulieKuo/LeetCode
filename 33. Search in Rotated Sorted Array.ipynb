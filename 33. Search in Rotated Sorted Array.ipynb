{
 "cells": [
  {
   "cell_type": "markdown",
   "metadata": {},
   "source": [
    "## 33. Search in Rotated Sorted Array"
   ]
  },
  {
   "cell_type": "markdown",
   "metadata": {},
   "source": [
    "**時間複雜度: O( $log{_2}{n}$ )**  \n",
    "**空間複雜度: O( $1$ )**"
   ]
  },
  {
   "cell_type": "code",
   "execution_count": 1,
   "metadata": {},
   "outputs": [],
   "source": [
    "from typing import List\n",
    "\n",
    "class Solution:\n",
    "    def search(self, nums: List[int], target: int) -> int:\n",
    "        print(f\"nums = {nums}\")\n",
    "        if not nums:\n",
    "            return -1\n",
    "\n",
    "        left, right = 0, len(nums) - 1 # space: O(1)\n",
    "        while left <= right: # time: O(logn)\n",
    "            mid = (left + right) // 2\n",
    "            print(f\"\\nleft = {left}, right = {right}, mid = {mid}\")\n",
    "\n",
    "            if nums[mid] == target:\n",
    "                return mid\n",
    "\n",
    "            # 判斷哪一部分是有序的\n",
    "            if nums[mid] < nums[right]: # mid ~ right一定有序，只需判斷target是否在區間內\n",
    "                print(f\"right({nums[mid]} ~ {nums[right]}): (nums[mid] = {nums[mid]}) < (nums[right] = {nums[right]})\")\n",
    "                if  nums[mid] < target <= nums[right]: # 在區間內，左側邊緣+1\n",
    "                    print(f\"In - ({nums[mid]=}) < ({target=}) <= ({nums[right]=})\")\n",
    "                    left = mid + 1\n",
    "\n",
    "                else: # 不在區間內，右側邊緣-1\n",
    "                    print(f\"Not in - ({nums[mid]=}) < ({target=}) <= ({nums[right]=})\")\n",
    "                    right = mid - 1\n",
    "\n",
    "            else: # left ~ mid一定有序，只需判斷target是否在區間內\n",
    "                print(f\"left({nums[left]} ~ {nums[mid]}): (nums[mid] = {nums[mid]}) >= (nums[right] = {nums[right]})\")\n",
    "                if nums[left] <= target < nums[mid]: # 在區間內，右側邊緣-1\n",
    "                    print(f\"In - ({nums[left]=}) < ({target=}) < ({nums[mid]=})\")\n",
    "                    right = mid - 1\n",
    "\n",
    "                else: # 不在區間內，左側邊緣+1\n",
    "                    print(f\"Not in - ({nums[left]=}) < ({target=}) < ({nums[mid]=})\")\n",
    "                    left = mid + 1\n",
    "\n",
    "        return -1            "
   ]
  },
  {
   "cell_type": "code",
   "execution_count": 2,
   "metadata": {},
   "outputs": [
    {
     "name": "stdout",
     "output_type": "stream",
     "text": [
      "nums = [4, 5, 6, 7, 0, 1, 2]\n",
      "\n",
      "left = 0, right = 6, mid = 3\n",
      "left(4 ~ 7): (nums[mid] = 7) >= (nums[right] = 2)\n",
      "Not in - (nums[left]=4) < (target=0) < (nums[mid]=7)\n",
      "\n",
      "left = 4, right = 6, mid = 5\n",
      "right(1 ~ 2): (nums[mid] = 1) < (nums[right] = 2)\n",
      "Not in - (nums[mid]=1) < (target=0) <= (nums[right]=2)\n",
      "\n",
      "left = 4, right = 4, mid = 4\n"
     ]
    },
    {
     "data": {
      "text/plain": [
       "4"
      ]
     },
     "execution_count": 2,
     "metadata": {},
     "output_type": "execute_result"
    }
   ],
   "source": [
    "nums = [4,5,6,7,0,1,2]\n",
    "target = 0\n",
    "Solution().search(nums, target)"
   ]
  },
  {
   "cell_type": "code",
   "execution_count": 3,
   "metadata": {},
   "outputs": [
    {
     "name": "stdout",
     "output_type": "stream",
     "text": [
      "nums = [4, 5, 6, 7, 0, 1, 2]\n",
      "\n",
      "left = 0, right = 6, mid = 3\n",
      "left(4 ~ 7): (nums[mid] = 7) >= (nums[right] = 2)\n",
      "Not in - (nums[left]=4) < (target=3) < (nums[mid]=7)\n",
      "\n",
      "left = 4, right = 6, mid = 5\n",
      "right(1 ~ 2): (nums[mid] = 1) < (nums[right] = 2)\n",
      "Not in - (nums[mid]=1) < (target=3) <= (nums[right]=2)\n",
      "\n",
      "left = 4, right = 4, mid = 4\n",
      "left(0 ~ 0): (nums[mid] = 0) >= (nums[right] = 0)\n",
      "Not in - (nums[left]=0) < (target=3) < (nums[mid]=0)\n"
     ]
    },
    {
     "data": {
      "text/plain": [
       "-1"
      ]
     },
     "execution_count": 3,
     "metadata": {},
     "output_type": "execute_result"
    }
   ],
   "source": [
    "nums = [4,5,6,7,0,1,2]\n",
    "target = 3\n",
    "Solution().search(nums, target)"
   ]
  },
  {
   "cell_type": "code",
   "execution_count": 4,
   "metadata": {},
   "outputs": [
    {
     "name": "stdout",
     "output_type": "stream",
     "text": [
      "nums = [1]\n",
      "\n",
      "left = 0, right = 0, mid = 0\n",
      "left(1 ~ 1): (nums[mid] = 1) >= (nums[right] = 1)\n",
      "Not in - (nums[left]=1) < (target=0) < (nums[mid]=1)\n"
     ]
    },
    {
     "data": {
      "text/plain": [
       "-1"
      ]
     },
     "execution_count": 4,
     "metadata": {},
     "output_type": "execute_result"
    }
   ],
   "source": [
    "nums = [1]\n",
    "target = 0\n",
    "Solution().search(nums, target)"
   ]
  }
 ],
 "metadata": {
  "kernelspec": {
   "display_name": ".venv",
   "language": "python",
   "name": "python3"
  },
  "language_info": {
   "codemirror_mode": {
    "name": "ipython",
    "version": 3
   },
   "file_extension": ".py",
   "mimetype": "text/x-python",
   "name": "python",
   "nbconvert_exporter": "python",
   "pygments_lexer": "ipython3",
   "version": "3.11.2"
  },
  "orig_nbformat": 4,
  "vscode": {
   "interpreter": {
    "hash": "6a07fcf0145f94b3f971c13d061528107de20ab7b779375f96dab9bbac6a85db"
   }
  }
 },
 "nbformat": 4,
 "nbformat_minor": 2
}
