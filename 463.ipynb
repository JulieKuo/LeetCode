{
 "cells": [
  {
   "cell_type": "markdown",
   "metadata": {},
   "source": [
    "## 463. Island Perimeter"
   ]
  },
  {
   "cell_type": "code",
   "execution_count": null,
   "metadata": {},
   "outputs": [],
   "source": [
    "class Solution(object):\n",
    "    def islandPerimeter(self, grid):\n",
    "        \"\"\"\n",
    "        :type grid: List[List[int]]\n",
    "        :rtype: int\n",
    "        \"\"\"\n",
    "        \n",
    "        a = 0\n",
    "        b = 0\n",
    "        for i in grid:\n",
    "            a += sum(i) * 4\n",
    "            for j in range(1,len(i)):\n",
    "                if (i[j-1] == i[j]) and (i[j] == 1):\n",
    "                    b += 2\n",
    "        \n",
    "        rows, cols = len(grid), len(grid[0])\n",
    "        for col in range(cols):\n",
    "            for row in range(1, rows):\n",
    "                if (grid[row-1][col] == grid[row][col]) and (grid[row][col] == 1):\n",
    "                    b += 2\n",
    "                    \n",
    "        return a - b"
   ]
  }
 ],
 "metadata": {
  "language_info": {
   "name": "python"
  },
  "orig_nbformat": 4
 },
 "nbformat": 4,
 "nbformat_minor": 2
}
