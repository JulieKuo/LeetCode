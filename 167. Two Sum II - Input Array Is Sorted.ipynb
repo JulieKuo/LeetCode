{
 "cells": [
  {
   "cell_type": "markdown",
   "metadata": {},
   "source": [
    "## 167. Two Sum II - Input Array Is Sorted"
   ]
  },
  {
   "cell_type": "markdown",
   "metadata": {},
   "source": [
    "<img src=\"img/167.jpg\" style=\"zoom:50%\"/>"
   ]
  },
  {
   "cell_type": "markdown",
   "metadata": {},
   "source": [
    "* 時間複雜度: O( $n$ )\n",
    "* 空間複雜度: O( $1$ )"
   ]
  },
  {
   "cell_type": "code",
   "execution_count": 1,
   "metadata": {},
   "outputs": [],
   "source": [
    "from typing import List\n",
    "class Solution:\n",
    "    def twoSum(self, numbers: List[int], target: int) -> List[int]:\n",
    "        # space: O(1)\n",
    "        left = 0 # 左指針指向數列的開頭\n",
    "        right = len(numbers) - 1 # 右指針指向數列的結尾\n",
    "\n",
    "        # 當左指針小於右指針時，進行迴圈 # time: O(n)\n",
    "        while left < right:\n",
    "            # 如果左右指針和等於 target，返回對應的索引值(索引值從1開始)\n",
    "            if numbers[left] + numbers[right] == target:\n",
    "                return [left + 1, right + 1]\n",
    "            \n",
    "            # 如果左右指針和大於 target\n",
    "            elif numbers[left] + numbers[right] > target:\n",
    "                # 右指針向左移動（減小總和）\n",
    "                right -= 1\n",
    "\n",
    "            # 如果左右指針和小於 target\n",
    "            else:\n",
    "                # 左指針向右移動（增加總和）\n",
    "                left += 1"
   ]
  },
  {
   "cell_type": "code",
   "execution_count": 2,
   "metadata": {},
   "outputs": [
    {
     "data": {
      "text/plain": [
       "[1, 2]"
      ]
     },
     "execution_count": 2,
     "metadata": {},
     "output_type": "execute_result"
    }
   ],
   "source": [
    "nnumbers = [2,7,11,15]\n",
    "target = 9\n",
    " # [1, 2]\n",
    "\n",
    "Solution().twoSum(nnumbers, target)"
   ]
  }
 ],
 "metadata": {
  "kernelspec": {
   "display_name": ".venv",
   "language": "python",
   "name": "python3"
  },
  "language_info": {
   "codemirror_mode": {
    "name": "ipython",
    "version": 3
   },
   "file_extension": ".py",
   "mimetype": "text/x-python",
   "name": "python",
   "nbconvert_exporter": "python",
   "pygments_lexer": "ipython3",
   "version": "3.11.2"
  },
  "orig_nbformat": 4
 },
 "nbformat": 4,
 "nbformat_minor": 2
}
