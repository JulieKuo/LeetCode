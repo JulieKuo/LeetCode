{
 "cells": [
  {
   "cell_type": "markdown",
   "metadata": {},
   "source": [
    "### 92. Reverse Linked List II"
   ]
  },
  {
   "cell_type": "markdown",
   "metadata": {},
   "source": [
    "可先參考206. Reverse Linked List"
   ]
  },
  {
   "cell_type": "markdown",
   "metadata": {},
   "source": [
    "* 時間複雜度: O( $n$ )\n",
    "* 空間複雜度: O( $1$ )"
   ]
  },
  {
   "cell_type": "code",
   "execution_count": 1,
   "metadata": {},
   "outputs": [],
   "source": [
    "# Definition for singly-linked list.\n",
    "class ListNode:\n",
    "    def __init__(self, val=0, next=None):\n",
    "        self.val = val\n",
    "        self.next = next"
   ]
  },
  {
   "cell_type": "code",
   "execution_count": 2,
   "metadata": {},
   "outputs": [],
   "source": [
    "head = ListNode(\n",
    "    val = 1,\n",
    "    next = ListNode(\n",
    "        val = 2,\n",
    "        next = ListNode(\n",
    "            val = 3,\n",
    "            next = ListNode(\n",
    "                val = 4,\n",
    "                next = ListNode(\n",
    "                    val = 5,\n",
    "                    next = None\n",
    "                )\n",
    "            )\n",
    "        )\n",
    "    )\n",
    ")\n",
    "left = 2\n",
    "right = 4\n",
    "\n",
    "# 1 -> 4 -> 3 -> 2 -> 5"
   ]
  },
  {
   "cell_type": "code",
   "execution_count": 3,
   "metadata": {},
   "outputs": [],
   "source": [
    "from typing import Optional\n",
    "\n",
    "class Solution:\n",
    "    def reverseBetween(self, head: Optional[ListNode], left: int, right: int) -> Optional[ListNode]:\n",
    "        # 如果 left == right，無需反轉，直接返回原鏈結串列\n",
    "        if left == right:\n",
    "            return head\n",
    "\n",
    "        # 建立一個虛擬節點(dummy node)，指向頭節點，方便處理邊界情況\n",
    "        dummy = ListNode(0, head)\n",
    "        pre = dummy  # pre 將指向反轉區間的前一個節點\n",
    "\n",
    "        # 1. 尋找第 left 節點的前一個節點 (pre)\n",
    "        for _ in range(left - 1):  # 遍歷到第 left-1 節點\n",
    "            pre = pre.next\n",
    "\n",
    "        # print(f\"{dummy=}\\n{pre=}\\n\")\n",
    "\n",
    "        # 2. 開始反轉節點\n",
    "        # cur 是反轉區間的第一個節點\n",
    "        current = pre.next\n",
    "        previous = None  # 用於反轉鏈結串列\n",
    "        for _ in range(left, right + 1): # 反轉從 left 到 right 的節點\n",
    "            next_tmp = current.next # 暫存下一個節點\n",
    "            current.next = previous # 將當前節點的指針指向前一個節點\n",
    "            previous = current\n",
    "            current = next_tmp\n",
    "\n",
    "        #     print(f\"{previous=}\\n{current=}\")\n",
    "        # print(f\"{pre=}\\n\")\n",
    "\n",
    "        # 3. 重新連接反轉後的區間\n",
    "        pre.next.next = current # 將反轉區間的尾節點指向反轉後的後續部分\n",
    "        # print(f\"{pre=}\")\n",
    "        pre.next = previous # 將反轉區間的起始部分連接到前面的部分\n",
    "        # print(f\"{pre=}\")\n",
    "        # print(f\"{dummy=}\"\")\n",
    "\n",
    "        return dummy.next"
   ]
  },
  {
   "cell_type": "code",
   "execution_count": 4,
   "metadata": {},
   "outputs": [
    {
     "name": "stdout",
     "output_type": "stream",
     "text": [
      "1 4 3 2 5 "
     ]
    }
   ],
   "source": [
    "result = Solution().reverseBetween(head, left, right)\n",
    "while result:\n",
    "    print(result.val, end = ' ')\n",
    "    result = result.next"
   ]
  },
  {
   "cell_type": "markdown",
   "metadata": {},
   "source": [
    "### old Method"
   ]
  },
  {
   "cell_type": "code",
   "execution_count": 5,
   "metadata": {},
   "outputs": [],
   "source": [
    "# Definition for singly-linked list.\n",
    "# class ListNode:\n",
    "#     def __init__(self, val=0, next=None):\n",
    "#         self.val = val\n",
    "#         self.next = next\n",
    "class Solution:\n",
    "    def reverseBetween(self, head: Optional[ListNode], left: int, right: int) -> Optional[ListNode]:\n",
    "        if left == right: #左右相同，不需要排序，直接返回\n",
    "            return head\n",
    "        \n",
    "        def reverse(head2, left, right):\n",
    "            print(f\"head2 = {head2}\")\n",
    "            curr = head2 #head2不動，只改動curr (curr移到第n個node的時候，head2還是在第0個node)\n",
    "            pre = None\n",
    "            for _ in range(right - left + 1): #需要排序的node數\n",
    "                temp = curr.next\n",
    "                curr.next = pre\n",
    "                pre = curr\n",
    "                curr = temp\n",
    "            \n",
    "            print(\"排序後\")\n",
    "            print(f\"head2 = {head2}\")\n",
    "            print(f\"curr = {curr}\")\n",
    "            print(f\"pre = {pre}\")\n",
    "            #排序完後加上後面不須排序的部分\n",
    "            #  若一開始head2 = [2,3,4,5]、left = 2、right = 4\n",
    "            #    因為在第一個迴圈時curr.next = pre = None，所以head2後面也會跟著改變，head2 = [2]\n",
    "            #    跑完迴圈後curr會等於不需要排序的部分，此時curr = [5]、pre = [4, 3, 2]\n",
    "            #    因為pre是從curr來的，curr是從head2來的，所以改變head2的排序，pre也會改變\n",
    "            #    head2 = [2]的node後面接curr，此時head2 = [2, 5]，連帶著pre = [2]的node後面也會改變，此時pre = [4, 3, 2, 5]          \n",
    "            head2.next = curr\n",
    "            print(f\"加上未排序的部分，pre = {pre}\\n\")\n",
    "            \n",
    "            return pre\n",
    "        \n",
    "        \n",
    "        print(f\"head = {head}\")\n",
    "        if left == 1: #如果left = 1，直接把head放到reverse function做排序，排完直接返回\n",
    "            sort = reverse(head, left, right)\n",
    "            return sort\n",
    "        \n",
    "        head1 = head #head不動，只改動head1 (head1移到第n個node的時候，head還是在第0個node)\n",
    "        for _ in range(1, left - 1): #先把head1移到要開始排序的node的前一個node，之後才能把排序好的部分直接接在後面\n",
    "            head1 = head1.next\n",
    "        print(f\"head1 = {head1}\")\n",
    "        \n",
    "        print(f\"head1.next = {head1.next}\\n\")\n",
    "        sort = reverse(head1.next, left, right) #開始排序，head1.next是開始排序的第一個node\n",
    "        \n",
    "        head1.next = sort #head1(不須排序的部分的最後一個node)後面加上排序好的部分，因為head1是從head得來的，所以head1改變的部分，head也改變\n",
    "        \n",
    "        return head"
   ]
  },
  {
   "cell_type": "code",
   "execution_count": 6,
   "metadata": {},
   "outputs": [],
   "source": [
    "# head = ListNode{val: 1, next: ListNode{val: 2, next: ListNode{val: 3, next: ListNode{val: 4, next: ListNode{val: 5, next: None}}}}}\n",
    "# head1 = ListNode{val: 1, next: ListNode{val: 2, next: ListNode{val: 3, next: ListNode{val: 4, next: ListNode{val: 5, next: None}}}}}\n",
    "# head1.next = ListNode{val: 2, next: ListNode{val: 3, next: ListNode{val: 4, next: ListNode{val: 5, next: None}}}}\n",
    "\n",
    "# head2 = ListNode{val: 2, next: ListNode{val: 3, next: ListNode{val: 4, next: ListNode{val: 5, next: None}}}}\n",
    "# 排序後\n",
    "# head2 = ListNode{val: 2, next: None}\n",
    "# curr = ListNode{val: 5, next: None}\n",
    "# pre = ListNode{val: 4, next: ListNode{val: 3, next: ListNode{val: 2, next: None}}}\n",
    "# 加上未排序的部分，pre = ListNode{val: 4, next: ListNode{val: 3, next: ListNode{val: 2, next: ListNode{val: 5, next: None}}}}"
   ]
  }
 ],
 "metadata": {
  "kernelspec": {
   "display_name": ".venv",
   "language": "python",
   "name": "python3"
  },
  "language_info": {
   "codemirror_mode": {
    "name": "ipython",
    "version": 3
   },
   "file_extension": ".py",
   "mimetype": "text/x-python",
   "name": "python",
   "nbconvert_exporter": "python",
   "pygments_lexer": "ipython3",
   "version": "3.11.2"
  },
  "orig_nbformat": 4
 },
 "nbformat": 4,
 "nbformat_minor": 2
}
