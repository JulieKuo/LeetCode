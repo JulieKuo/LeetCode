{
 "cells": [
  {
   "cell_type": "markdown",
   "id": "ada0a333",
   "metadata": {},
   "source": [
    "### 208. Implement Trie (Prefix Tree)"
   ]
  },
  {
   "cell_type": "markdown",
   "id": "84972a14",
   "metadata": {},
   "source": [
    "**時間複雜度: $O(n)$**  \n",
    "**空間複雜度: $O(t)$**\n",
    "\n",
    "$n$: 字串長度，每個操作最多遍歷字串中所有字元一次  \n",
    "$t$: Trie 中總共建立的 TrieNode 數量"
   ]
  },
  {
   "cell_type": "code",
   "execution_count": 1,
   "id": "8c61ab33",
   "metadata": {},
   "outputs": [],
   "source": [
    "# 定義 Trie 的節點結構\n",
    "class TrieNode():\n",
    "    def __init__(self):\n",
    "        self.children = {}  # 使用字典儲存每個字元對應的子節點\n",
    "        self.end = False    # 標記是否為一個單詞的結尾\n",
    "\n",
    "# 定義 Trie 主結構\n",
    "class Trie:\n",
    "\n",
    "    def __init__(self):\n",
    "        self.root = TrieNode()  # 建立根節點\n",
    "\n",
    "    # 插入一個單詞到 Trie 中\n",
    "    def insert(self, word: str) -> None:\n",
    "        current = self.root  # 從根節點開始\n",
    "        for char in word:    # 逐字元處理單詞\n",
    "            if char not in current.children:\n",
    "                current.children[char] = TrieNode()  # 若無此字元節點，則創建新節點\n",
    "            current = current.children[char]  # 移動到下一個節點\n",
    "\n",
    "        current.end = True  # 單詞插入完成，標記結尾\n",
    "\n",
    "    # 搜尋 Trie 中是否包含完整單詞\n",
    "    def search(self, word: str) -> bool:\n",
    "        current = self.root  # 從根節點開始\n",
    "        for char in word:    # 逐字元查找\n",
    "            if char not in current.children:\n",
    "                return False  # 若遇到不存在的字元，則單詞不存在\n",
    "            current = current.children[char]  # 移動到下一個節點\n",
    "\n",
    "        return current.end  # 回傳是否為完整單詞的結尾\n",
    "\n",
    "    # 判斷是否存在某個字首\n",
    "    def startsWith(self, prefix: str) -> bool:\n",
    "        current = self.root  # 從根節點開始\n",
    "        for char in prefix:  # 逐字元查找\n",
    "            if char not in current.children:\n",
    "                return False  # 若遇到不存在的字元，則字首不存在\n",
    "            current = current.children[char]  # 移動到下一個節點\n",
    "\n",
    "        return True  # 所有字元都存在，代表有此字首"
   ]
  },
  {
   "cell_type": "code",
   "execution_count": 2,
   "id": "2fed1bb1",
   "metadata": {},
   "outputs": [
    {
     "name": "stdout",
     "output_type": "stream",
     "text": [
      "None\n",
      "True\n",
      "False\n",
      "True\n",
      "None\n",
      "True\n"
     ]
    }
   ],
   "source": [
    "# Input\n",
    "# [\"Trie\", \"insert\", \"search\", \"search\", \"startsWith\", \"insert\", \"search\"]\n",
    "# [[], [\"apple\"], [\"apple\"], [\"app\"], [\"app\"], [\"app\"], [\"app\"]]\n",
    "# Output\n",
    "# [null, null, true, false, true, null, true]\n",
    "\n",
    "trie = Trie()\n",
    "print(trie.insert(\"apple\"))\n",
    "print(trie.search(\"apple\"))   # return True\n",
    "print(trie.search(\"app\"))     # return False\n",
    "print(trie.startsWith(\"app\")) # return True\n",
    "print(trie.insert(\"app\"))\n",
    "print(trie.search(\"app\"))     # return True"
   ]
  }
 ],
 "metadata": {
  "kernelspec": {
   "display_name": ".venv (3.12.8)",
   "language": "python",
   "name": "python3"
  },
  "language_info": {
   "codemirror_mode": {
    "name": "ipython",
    "version": 3
   },
   "file_extension": ".py",
   "mimetype": "text/x-python",
   "name": "python",
   "nbconvert_exporter": "python",
   "pygments_lexer": "ipython3",
   "version": "3.12.8"
  }
 },
 "nbformat": 4,
 "nbformat_minor": 5
}
