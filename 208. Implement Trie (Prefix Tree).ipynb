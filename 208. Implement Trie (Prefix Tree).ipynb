{
 "cells": [
  {
   "cell_type": "markdown",
   "id": "ada0a333",
   "metadata": {},
   "source": [
    "### 208. Implement Trie (Prefix Tree)"
   ]
  },
  {
   "cell_type": "markdown",
   "id": "84972a14",
   "metadata": {},
   "source": [
    "**時間複雜度: $O(n)$**  \n",
    "**空間複雜度: $O(t)$**\n",
    "\n",
    "$n$: 字串長度，每個操作最多遍歷字串中所有字元一次  \n",
    "$t$: Trie 中總共建立的 TrieNode 數量"
   ]
  },
  {
   "cell_type": "code",
   "execution_count": 1,
   "id": "3b4fdcf6",
   "metadata": {},
   "outputs": [],
   "source": [
    "class TreeNode():\n",
    "    def __init__(self):\n",
    "        self.children = {}\n",
    "        self.end_of_word = False\n",
    "\n",
    "class Trie:\n",
    "\n",
    "    def __init__(self):\n",
    "        self.root = TreeNode()\n",
    "\n",
    "    def insert(self, word: str) -> None:\n",
    "        current = self.root\n",
    "        for char in word:\n",
    "            if char not in current.children:\n",
    "                current.children[char] = TreeNode()\n",
    "            current = current.children[char]\n",
    "        \n",
    "        current.end_of_word = True\n",
    "\n",
    "    def search(self, word: str) -> bool:\n",
    "        current = self.root\n",
    "        for char in word:\n",
    "            if char not in current.children:\n",
    "                return False\n",
    "            current = current.children[char]\n",
    "            \n",
    "        return current.end_of_word\n",
    "\n",
    "    def startsWith(self, prefix: str) -> bool:\n",
    "        current = self.root\n",
    "        for char in prefix:\n",
    "            if char not in current.children:\n",
    "                return False\n",
    "            current = current.children[char]\n",
    "\n",
    "        return True"
   ]
  },
  {
   "cell_type": "code",
   "execution_count": 2,
   "id": "07e91e72",
   "metadata": {},
   "outputs": [
    {
     "name": "stdout",
     "output_type": "stream",
     "text": [
      "None\n",
      "True\n",
      "False\n",
      "True\n",
      "None\n",
      "True\n"
     ]
    }
   ],
   "source": [
    "# Input\n",
    "# [\"Trie\", \"insert\", \"search\", \"search\", \"startsWith\", \"insert\", \"search\"]\n",
    "# [[], [\"apple\"], [\"apple\"], [\"app\"], [\"app\"], [\"app\"], [\"app\"]]\n",
    "# Output\n",
    "# [null, null, true, false, true, null, true]\n",
    "\n",
    "trie = Trie()\n",
    "print(trie.insert(\"apple\"))\n",
    "print(trie.search(\"apple\"))   # return True\n",
    "print(trie.search(\"app\"))     # return False\n",
    "print(trie.startsWith(\"app\")) # return True\n",
    "print(trie.insert(\"app\"))\n",
    "print(trie.search(\"app\"))     # return True"
   ]
  }
 ],
 "metadata": {
  "kernelspec": {
   "display_name": ".venv (3.12.8)",
   "language": "python",
   "name": "python3"
  },
  "language_info": {
   "codemirror_mode": {
    "name": "ipython",
    "version": 3
   },
   "file_extension": ".py",
   "mimetype": "text/x-python",
   "name": "python",
   "nbconvert_exporter": "python",
   "pygments_lexer": "ipython3",
   "version": "3.12.8"
  }
 },
 "nbformat": 4,
 "nbformat_minor": 5
}
