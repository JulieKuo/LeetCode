{
 "cells": [
  {
   "cell_type": "markdown",
   "metadata": {},
   "source": [
    "## 1300. Sum of Mutated Array Closest to Target"
   ]
  },
  {
   "cell_type": "code",
   "execution_count": 1,
   "metadata": {},
   "outputs": [],
   "source": [
    "class Solution:\n",
    "    def get_sum(self, arr, mid):\n",
    "        nums = [mid if i > mid else i for i in arr]\n",
    "        print(f\"nums = {nums}\")\n",
    "        \n",
    "        return sum(nums)\n",
    "\n",
    "    def findBestValue(self, arr, target):\n",
    "        left = 1\n",
    "        right = max(arr)\n",
    "        while left <= right:\n",
    "            mid = (left + right) // 2\n",
    "            print(f\"origin: left = {left}, mid = {mid}, right = {right}\")\n",
    "            mid_sum = self.get_sum(arr, mid)\n",
    "\n",
    "            if mid_sum < target:\n",
    "                print(f\"(mid_sum = {mid_sum}) < (target = {target}) \")\n",
    "                left = mid + 1\n",
    "            else:\n",
    "                print(f\"(mid_sum = {mid_sum}) >= (target = {target}) \")\n",
    "                right = mid - 1\n",
    "            \n",
    "            print(f\"new: left = {left}, mid = {mid}, right = {right}\\n\")\n",
    "\n",
    "        if abs(self.get_sum(arr, left) - target) < abs(self.get_sum(arr, right) - target):\n",
    "            print(f\"\\nleft_distance = {abs(self.get_sum(arr, left) - target)} < right_distance = {abs(self.get_sum(arr, right) - target)}\")\n",
    "            return left\n",
    "        else:\n",
    "            print(f\"left_distance = {abs(self.get_sum(arr, left) - target)} >= right_distance = {abs(self.get_sum(arr, right) - target)}\")\n",
    "            return right"
   ]
  },
  {
   "cell_type": "code",
   "execution_count": 2,
   "metadata": {},
   "outputs": [
    {
     "name": "stdout",
     "output_type": "stream",
     "text": [
      "origin: left = 1, mid = 3, right = 5\n",
      "nums = [2, 3, 3]\n",
      "(mid_sum = 8) < (target = 10) \n",
      "new: left = 4, mid = 3, right = 5\n",
      "\n",
      "origin: left = 4, mid = 4, right = 5\n",
      "nums = [2, 3, 4]\n",
      "(mid_sum = 9) < (target = 10) \n",
      "new: left = 5, mid = 4, right = 5\n",
      "\n",
      "origin: left = 5, mid = 5, right = 5\n",
      "nums = [2, 3, 5]\n",
      "(mid_sum = 10) >= (target = 10) \n",
      "new: left = 5, mid = 5, right = 4\n",
      "\n",
      "nums = [2, 3, 5]\n",
      "nums = [2, 3, 4]\n",
      "nums = [2, 3, 5]\n",
      "nums = [2, 3, 4]\n",
      "\n",
      "left_distance = 0 < right_distance = 1\n"
     ]
    },
    {
     "data": {
      "text/plain": [
       "5"
      ]
     },
     "execution_count": 2,
     "metadata": {},
     "output_type": "execute_result"
    }
   ],
   "source": [
    "arr = [60864,25176,27249,21296,20204]\n",
    "target = 56803\n",
    "\n",
    "arr = [4,9,3]\n",
    "target = 10\n",
    "\n",
    "arr = [2,3,5]\n",
    "target = 10\n",
    "\n",
    "Solution().findBestValue(arr, target)"
   ]
  }
 ],
 "metadata": {
  "kernelspec": {
   "display_name": ".venv",
   "language": "python",
   "name": "python3"
  },
  "language_info": {
   "codemirror_mode": {
    "name": "ipython",
    "version": 3
   },
   "file_extension": ".py",
   "mimetype": "text/x-python",
   "name": "python",
   "nbconvert_exporter": "python",
   "pygments_lexer": "ipython3",
   "version": "3.8.10"
  },
  "orig_nbformat": 4,
  "vscode": {
   "interpreter": {
    "hash": "6a07fcf0145f94b3f971c13d061528107de20ab7b779375f96dab9bbac6a85db"
   }
  }
 },
 "nbformat": 4,
 "nbformat_minor": 2
}
