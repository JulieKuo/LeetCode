{
 "cells": [
  {
   "cell_type": "markdown",
   "id": "bcaa7907",
   "metadata": {},
   "source": [
    "## 100. Same Tree"
   ]
  },
  {
   "cell_type": "code",
   "execution_count": 1,
   "id": "60d23e52",
   "metadata": {},
   "outputs": [],
   "source": [
    "# Definition for a binary tree node.\n",
    "class TreeNode:\n",
    "    def __init__(self, val=0, left=None, right=None):\n",
    "        self.val = val\n",
    "        self.left = left\n",
    "        self.right = right"
   ]
  },
  {
   "cell_type": "markdown",
   "id": "887a5e49",
   "metadata": {},
   "source": [
    "**時間複雜度: $O(n)$**  \n",
    "**空間複雜度: $O(n)$**"
   ]
  },
  {
   "cell_type": "code",
   "execution_count": 2,
   "id": "7cf1a311",
   "metadata": {},
   "outputs": [],
   "source": [
    "from typing import Optional\n",
    "\n",
    "class Solution:\n",
    "    def isSameTree(self, p: Optional[TreeNode], q: Optional[TreeNode]) -> bool:\n",
    "        ..."
   ]
  },
  {
   "cell_type": "code",
   "execution_count": 3,
   "id": "759291a9",
   "metadata": {},
   "outputs": [],
   "source": [
    "# Input: p = [1,2,3], q = [1,2,3]\n",
    "# Output: true\n",
    "\n",
    "p = TreeNode(val=1, left=TreeNode(val=2), right=TreeNode(val=3))\n",
    "q = TreeNode(val=1, left=TreeNode(val=2), right=TreeNode(val=3))\n",
    "\n",
    "Solution().isSameTree(p, q)"
   ]
  }
 ],
 "metadata": {
  "kernelspec": {
   "display_name": ".venv (3.12.8)",
   "language": "python",
   "name": "python3"
  },
  "language_info": {
   "codemirror_mode": {
    "name": "ipython",
    "version": 3
   },
   "file_extension": ".py",
   "mimetype": "text/x-python",
   "name": "python",
   "nbconvert_exporter": "python",
   "pygments_lexer": "ipython3",
   "version": "3.12.8"
  }
 },
 "nbformat": 4,
 "nbformat_minor": 5
}
