{
 "cells": [
  {
   "cell_type": "markdown",
   "id": "bcaa7907",
   "metadata": {},
   "source": [
    "## 100. Same Tree"
   ]
  },
  {
   "cell_type": "code",
   "execution_count": 1,
   "id": "60d23e52",
   "metadata": {},
   "outputs": [],
   "source": [
    "# Definition for a binary tree node.\n",
    "class TreeNode:\n",
    "    def __init__(self, val=0, left=None, right=None):\n",
    "        self.val = val\n",
    "        self.left = left\n",
    "        self.right = right"
   ]
  },
  {
   "cell_type": "markdown",
   "id": "6cb07cfb",
   "metadata": {},
   "source": [
    "### DFS"
   ]
  },
  {
   "cell_type": "markdown",
   "id": "887a5e49",
   "metadata": {},
   "source": [
    "**時間複雜度: $O(n)$**  \n",
    "**空間複雜度: $O(n)$**\n",
    "\n",
    "空間複雜度:  \n",
    "最壞情況（完全不平衡的鏈狀樹）：$O(n)$  \n",
    "最佳情況（完全平衡的二叉樹）： $O(log n)$"
   ]
  },
  {
   "cell_type": "code",
   "execution_count": 2,
   "id": "7cf1a311",
   "metadata": {},
   "outputs": [],
   "source": [
    "from typing import Optional\n",
    "\n",
    "class Solution:\n",
    "    def isSameTree(self, p: Optional[TreeNode], q: Optional[TreeNode]) -> bool:\n",
    "        # 如果兩個節點同時為空，代表這個位置的結構相同\n",
    "        if not p and not q:\n",
    "            return True\n",
    "        \n",
    "        # 如果兩個節點都存在，且值相同\n",
    "        if p and q and p.val == q.val:\n",
    "            # 遞迴比較左子樹\n",
    "            flag_left = self.isSameTree(p.left, q.left)\n",
    "            # 遞迴比較右子樹\n",
    "            flag_right = self.isSameTree(p.right, q.right)\n",
    "            # 兩邊都必須相同才回傳 True\n",
    "            return flag_left and flag_right\n",
    "        else:\n",
    "            # 其他情況（有一邊為空，或值不同）直接回傳 False\n",
    "            return False\n"
   ]
  },
  {
   "cell_type": "code",
   "execution_count": 3,
   "id": "759291a9",
   "metadata": {},
   "outputs": [
    {
     "data": {
      "text/plain": [
       "True"
      ]
     },
     "execution_count": 3,
     "metadata": {},
     "output_type": "execute_result"
    }
   ],
   "source": [
    "# Input: p = [1,2,3], q = [1,2,3]\n",
    "# Output: true\n",
    "\n",
    "p = TreeNode(val=1, left=TreeNode(val=2), right=TreeNode(val=3))\n",
    "q = TreeNode(val=1, left=TreeNode(val=2), right=TreeNode(val=3))\n",
    "\n",
    "Solution().isSameTree(p, q)"
   ]
  },
  {
   "cell_type": "markdown",
   "id": "b4abbb46",
   "metadata": {},
   "source": [
    "### BFS"
   ]
  },
  {
   "cell_type": "markdown",
   "id": "ef547757",
   "metadata": {},
   "source": [
    "**時間複雜度: $O(n)$**  \n",
    "**空間複雜度: $O(n)$**\n",
    "\n",
    "空間複雜度:  \n",
    "最佳情況（完全不平衡的鏈狀樹）：$O(1)$  \n",
    "最壞情況（完全平衡的二叉樹）： $O(n/2) = O(n)$"
   ]
  },
  {
   "cell_type": "code",
   "execution_count": 4,
   "id": "cfbc9a54",
   "metadata": {},
   "outputs": [],
   "source": [
    "from typing import Optional\n",
    "from collections import deque\n",
    "\n",
    "class Solution:\n",
    "    def isSameTree(self, p: Optional[TreeNode], q: Optional[TreeNode]) -> bool:\n",
    "        # 建立兩個佇列（隊列），分別用來儲存兩棵樹待比較的節點\n",
    "        queue_p = deque([p]) # space: O(n)\n",
    "        queue_q = deque([q]) # space: O(n)\n",
    "\n",
    "        # 當兩個佇列都有節點時，持續進行比較\n",
    "        while queue_p and queue_q: # time: O(n)\n",
    "            # 從佇列的左側取出一個節點（FIFO）\n",
    "            node_p = queue_p.popleft()\n",
    "            node_q = queue_q.popleft()\n",
    "\n",
    "            # 如果兩個節點都為空，代表該位置結構相同，直接跳過\n",
    "            if not node_p and not node_q:\n",
    "                continue\n",
    "\n",
    "            # 如果有一個節點為空，或兩個節點的值不同，則樹不相同\n",
    "            if not node_p or not node_q or node_p.val != node_q.val:\n",
    "                return False\n",
    "            \n",
    "            # 將左右子節點加入佇列，下一輪會繼續比較它們\n",
    "            queue_p.append(node_p.left)\n",
    "            queue_p.append(node_p.right)\n",
    "            queue_q.append(node_q.left)\n",
    "            queue_q.append(node_q.right)\n",
    "\n",
    "        # 如果遍歷完沒有發現不同，代表兩棵樹相同\n",
    "        return True\n"
   ]
  },
  {
   "cell_type": "code",
   "execution_count": 5,
   "id": "065f9421",
   "metadata": {},
   "outputs": [
    {
     "data": {
      "text/plain": [
       "True"
      ]
     },
     "execution_count": 5,
     "metadata": {},
     "output_type": "execute_result"
    }
   ],
   "source": [
    "# Input: p = [1,2,3], q = [1,2,3]\n",
    "# Output: true\n",
    "\n",
    "p = TreeNode(val=1, left=TreeNode(val=2), right=TreeNode(val=3))\n",
    "q = TreeNode(val=1, left=TreeNode(val=2), right=TreeNode(val=3))\n",
    "\n",
    "Solution().isSameTree(p, q)"
   ]
  }
 ],
 "metadata": {
  "kernelspec": {
   "display_name": ".venv (3.12.8)",
   "language": "python",
   "name": "python3"
  },
  "language_info": {
   "codemirror_mode": {
    "name": "ipython",
    "version": 3
   },
   "file_extension": ".py",
   "mimetype": "text/x-python",
   "name": "python",
   "nbconvert_exporter": "python",
   "pygments_lexer": "ipython3",
   "version": "3.12.8"
  }
 },
 "nbformat": 4,
 "nbformat_minor": 5
}
