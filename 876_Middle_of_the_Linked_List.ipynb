{
 "cells": [
  {
   "cell_type": "markdown",
   "metadata": {},
   "source": [
    "### 876. Middle of the Linked List"
   ]
  },
  {
   "cell_type": "code",
   "execution_count": null,
   "metadata": {},
   "outputs": [],
   "source": [
    "# Definition for singly-linked list.\n",
    "# class ListNode:\n",
    "#     def __init__(self, val=0, next=None):\n",
    "#         self.val = val\n",
    "#         self.next = next\n",
    "class Solution:\n",
    "    def middleNode(self, head: Optional[ListNode]) -> Optional[ListNode]:\n",
    "        fast = slow = head\n",
    "        while fast and fast.next:\n",
    "            slow = slow.next\n",
    "            fast = fast.next.next\n",
    "\n",
    "            print(f\"slow = {slow}\")\n",
    "            print(f\"fast = {fast}\")\n",
    "            \n",
    "        return slow"
   ]
  },
  {
   "cell_type": "code",
   "execution_count": null,
   "metadata": {},
   "outputs": [],
   "source": [
    "# slow = ListNode{val: 2, next: ListNode{val: 3, next: ListNode{val: 4, next: ListNode{val: 5, next: None}}}}\n",
    "# fast = ListNode{val: 3, next: ListNode{val: 4, next: ListNode{val: 5, next: None}}}\n",
    "# slow = ListNode{val: 3, next: ListNode{val: 4, next: ListNode{val: 5, next: None}}}\n",
    "# fast = ListNode{val: 5, next: None}"
   ]
  }
 ],
 "metadata": {
  "language_info": {
   "name": "python"
  },
  "orig_nbformat": 4
 },
 "nbformat": 4,
 "nbformat_minor": 2
}
