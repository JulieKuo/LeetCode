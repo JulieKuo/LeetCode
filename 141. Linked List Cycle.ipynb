{
 "cells": [
  {
   "cell_type": "markdown",
   "metadata": {},
   "source": [
    "### 141. Linked List Cycle"
   ]
  },
  {
   "cell_type": "markdown",
   "metadata": {},
   "source": [
    "#### Method 1"
   ]
  },
  {
   "cell_type": "code",
   "execution_count": null,
   "metadata": {},
   "outputs": [],
   "source": [
    "# Definition for singly-linked list.\n",
    "# class ListNode:\n",
    "#     def __init__(self, x):\n",
    "#         self.val = x\n",
    "#         self.next = None\n",
    "\n",
    "class Solution:\n",
    "    def hasCycle(self, head: Optional[ListNode]) -> bool:\n",
    "        temp = dict()\n",
    "        while head: #如果head沒有重複循環，到最後一個node後就會跳出，返回False\n",
    "            print(id(head))\n",
    "            \n",
    "            if id(head) in temp: #如果head重複循環，新的id就會與temp中的某個id相同\n",
    "                print(f\"final: {id(head)} is in \\n      {temp}\")\n",
    "                return True\n",
    "            \n",
    "            temp[id(head)] = True\n",
    "            head = head.next\n",
    "            print(temp, \"\\n\")\n",
    "        \n",
    "        return False"
   ]
  },
  {
   "cell_type": "code",
   "execution_count": 6,
   "metadata": {},
   "outputs": [],
   "source": [
    "# 140362222923696\n",
    "# {140362222923696: True} \n",
    "\n",
    "# 140362222924368\n",
    "# {140362222923696: True, 140362222924368: True} \n",
    "\n",
    "# 140362222924656\n",
    "# {140362222923696: True, 140362222924368: True, 140362222924656: True} \n",
    "\n",
    "# 140362222925040\n",
    "# {140362222923696: True, 140362222924368: True, 140362222924656: True, 140362222925040: True} \n",
    "\n",
    "# 140362222924368\n",
    "# final: 140362222924368 is in \n",
    "#       {140362222923696: True, 140362222924368: True, 140362222924656: True, 140362222925040: True}"
   ]
  },
  {
   "cell_type": "markdown",
   "metadata": {},
   "source": [
    "#### Method 2\n",
    "用快慢指針，fast跑的速度是slow的兩倍，當fast跑完head時若可循環會繼續重跑，遲早會倒追slow，當fast等於slow時，表示可循環"
   ]
  },
  {
   "cell_type": "code",
   "execution_count": null,
   "metadata": {},
   "outputs": [],
   "source": [
    "# Definition for singly-linked list.\n",
    "# class ListNode:\n",
    "#     def __init__(self, x):\n",
    "#         self.val = x\n",
    "#         self.next = None\n",
    "\n",
    "class Solution:\n",
    "    def hasCycle(self, head: Optional[ListNode]) -> bool:\n",
    "        fast = slow = head\n",
    "        while fast and fast.next:\n",
    "            fast = fast.next.next\n",
    "            slow = slow.next\n",
    "            # print(f\"fast: {fast.val}\")\n",
    "            # print(f\"slow: {slow.val}\\n\")\n",
    "            \n",
    "            if fast == slow:\n",
    "                return True\n",
    "        \n",
    "        return False"
   ]
  },
  {
   "cell_type": "code",
   "execution_count": null,
   "metadata": {},
   "outputs": [],
   "source": [
    "'''Input'''\n",
    "# head = [3,2,0,-4]\n",
    "# pos = 1\n",
    "# head = [3, 2, 0, -4, 2, 0, -4, ...]\n",
    "\n",
    "'''Stdout'''\n",
    "# fast: 0\n",
    "# slow: 2\n",
    "\n",
    "# fast: 2\n",
    "# slow: 0\n",
    "\n",
    "# fast: -4\n",
    "# slow: -4"
   ]
  }
 ],
 "metadata": {
  "kernelspec": {
   "display_name": "Python 3.8.7 ('.venv': venv)",
   "language": "python",
   "name": "python3"
  },
  "language_info": {
   "codemirror_mode": {
    "name": "ipython",
    "version": 3
   },
   "file_extension": ".py",
   "mimetype": "text/x-python",
   "name": "python",
   "nbconvert_exporter": "python",
   "pygments_lexer": "ipython3",
   "version": "3.8.7"
  },
  "orig_nbformat": 4,
  "vscode": {
   "interpreter": {
    "hash": "6a07fcf0145f94b3f971c13d061528107de20ab7b779375f96dab9bbac6a85db"
   }
  }
 },
 "nbformat": 4,
 "nbformat_minor": 2
}
