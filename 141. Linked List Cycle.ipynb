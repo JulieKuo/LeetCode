{
 "cells": [
  {
   "cell_type": "markdown",
   "metadata": {},
   "source": [
    "### 141. Linked List Cycle"
   ]
  },
  {
   "cell_type": "markdown",
   "metadata": {},
   "source": [
    "* 時間複雜度: O($n$)\n",
    "* 空間複雜度: O($1$)\n",
    "\n",
    "用快慢指針，fast跑的速度是slow的兩倍，當fast跑完head時若可循環會繼續重跑，遲早會倒追slow，當fast等於slow時，表示可循環"
   ]
  },
  {
   "cell_type": "code",
   "execution_count": null,
   "metadata": {},
   "outputs": [],
   "source": [
    "# Definition for singly-linked list.\n",
    "# class ListNode:\n",
    "#     def __init__(self, x):\n",
    "#         self.val = x\n",
    "#         self.next = None\n",
    "\n",
    "class Solution:\n",
    "    def hasCycle(self, head: Optional[ListNode]) -> bool:\n",
    "        if (not head) or (not head.next):  # 如果鏈結串列為空或只有一個節點，則無環\n",
    "            return False\n",
    "\n",
    "        slow = head # 初始化慢指針\n",
    "        fast = head # 初始化快指針\n",
    "\n",
    "        while fast and fast.next: # 當快指針和快指針的下一個節點都不為空時\n",
    "            slow = slow.next # 慢指針每次移動一個節點\n",
    "            fast = fast.next.next # 快指針每次移動兩個節點\n",
    "            print(f\"{slow.val = }, {fast.val = }\")\n",
    "\n",
    "            if slow == fast:  # 若慢指針和快指針相遇，表示有環\n",
    "                return True\n",
    "\n",
    "        return False  # 若快指針或快指針的下一個節點為空，表示無環"
   ]
  },
  {
   "cell_type": "code",
   "execution_count": null,
   "metadata": {},
   "outputs": [],
   "source": [
    "'''Input'''\n",
    "# head = [3, 2, 0, -4]\n",
    "# pos = 1\n",
    "\n",
    "# head = [3, 2, 0, -4, 2, 0, -4, ...]\n",
    "\n",
    "'''Stdout'''\n",
    "# head = [3, 2, 0, -4, 2, 0, -4, ...]\n",
    "# fast(3) V\n",
    "# slow(3) V\n",
    "\n",
    "# head = [3, 2, 0, -4, 2, 0, -4, ...]\n",
    "# fast(0)       V\n",
    "# slow(2)    V\n",
    "\n",
    "# head = [3, 2, 0, -4, 2, 0, -4, ...]\n",
    "# fast(2)              V\n",
    "# slow(0)       V\n",
    "\n",
    "# head = [3, 2, 0, -4, 2, 0, -4, ...]\n",
    "# fast(-4)                    V\n",
    "# slow(-4)          V"
   ]
  },
  {
   "cell_type": "markdown",
   "metadata": {},
   "source": [
    "* 時間複雜度: O($n$)\n",
    "* 空間複雜度: O($n$)"
   ]
  },
  {
   "cell_type": "code",
   "execution_count": null,
   "metadata": {},
   "outputs": [],
   "source": [
    "# Definition for singly-linked list.\n",
    "# class ListNode:\n",
    "#     def __init__(self, x):\n",
    "#         self.val = x\n",
    "#         self.next = None\n",
    "\n",
    "class Solution:\n",
    "    def hasCycle(self, head: Optional[ListNode]) -> bool:\n",
    "        temp = dict()\n",
    "        while head: #如果head沒有重複循環，到最後一個node後就會跳出，返回False\n",
    "            print(id(head))\n",
    "            \n",
    "            if id(head) in temp: #如果head重複循環，新的id就會與temp中的某個id相同\n",
    "                print(f\"final: {id(head)} is in \\n      {temp}\")\n",
    "                return True\n",
    "            \n",
    "            temp[id(head)] = True\n",
    "            head = head.next\n",
    "            print(temp, \"\\n\")\n",
    "        \n",
    "        return False"
   ]
  },
  {
   "cell_type": "code",
   "execution_count": 6,
   "metadata": {},
   "outputs": [],
   "source": [
    "# 140362222923696\n",
    "# {140362222923696: True} \n",
    "\n",
    "# 140362222924368\n",
    "# {140362222923696: True, 140362222924368: True} \n",
    "\n",
    "# 140362222924656\n",
    "# {140362222923696: True, 140362222924368: True, 140362222924656: True} \n",
    "\n",
    "# 140362222925040\n",
    "# {140362222923696: True, 140362222924368: True, 140362222924656: True, 140362222925040: True} \n",
    "\n",
    "# 140362222924368\n",
    "# final: 140362222924368 is in \n",
    "#       {140362222923696: True, 140362222924368: True, 140362222924656: True, 140362222925040: True}"
   ]
  }
 ],
 "metadata": {
  "kernelspec": {
   "display_name": "Python 3.8.7 ('.venv': venv)",
   "language": "python",
   "name": "python3"
  },
  "language_info": {
   "codemirror_mode": {
    "name": "ipython",
    "version": 3
   },
   "file_extension": ".py",
   "mimetype": "text/x-python",
   "name": "python",
   "nbconvert_exporter": "python",
   "pygments_lexer": "ipython3",
   "version": "3.8.7"
  },
  "orig_nbformat": 4,
  "vscode": {
   "interpreter": {
    "hash": "6a07fcf0145f94b3f971c13d061528107de20ab7b779375f96dab9bbac6a85db"
   }
  }
 },
 "nbformat": 4,
 "nbformat_minor": 2
}
