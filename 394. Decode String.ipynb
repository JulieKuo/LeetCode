{
 "cells": [
  {
   "cell_type": "markdown",
   "metadata": {},
   "source": [
    "### 394. Decode String"
   ]
  },
  {
   "cell_type": "code",
   "execution_count": 1,
   "metadata": {},
   "outputs": [],
   "source": [
    "s = \"3[a]2[bc]\" # \"aaabcbc\"\n",
    "\n",
    "s = \"3[a2[c]]\" # \"accaccacc\"\n",
    "\n",
    "s = \"2[abc]3[cd]ef\" # \"abcabccdcdcdef\"\n",
    "\n",
    "s = \"2[abc13[d]]4[ef]g\" # \"abcdddddddddddddabcdddddddddddddefefefefg\""
   ]
  },
  {
   "cell_type": "code",
   "execution_count": 2,
   "metadata": {},
   "outputs": [],
   "source": [
    "class Solution:\n",
    "    def decodeString(self, s: str) -> str:\n",
    "        res = \"\"  # 保存解壓縮字符串\n",
    "        num = 0   # 保存數字\n",
    "        stack = []\n",
    "\n",
    "        for char in s:\n",
    "            print(\"-\" * 100)\n",
    "            print(f\"char = {char}\")\n",
    "            if char.isdigit():  # 如果字符是數字\n",
    "                num = (num * 10) + int(char)  # 將字符轉換為數字並添加到當前數字中\n",
    "                print(f\"num  = {num}\")\n",
    "            elif char == \"[\":\n",
    "                stack.append(res)  # 將當前解壓縮的字符串保存到堆疊中\n",
    "                stack.append(num)  # 將當前數字也保存到堆疊中\n",
    "                print(f\"append - stack = {stack}\")\n",
    "                res = \"\"  # 重置解壓縮字符串\n",
    "                num = 0   # 重置數字\n",
    "            elif char == \"]\":  # 遇到右括號時，需要執行解壓縮操作\n",
    "                pnum = stack.pop()  # 從堆疊中取出之前保存的數字\n",
    "                pstr = stack.pop()  # 從堆疊中取出之前保存的字符串\n",
    "                print(f\"pop - stack = {stack}\")\n",
    "                print(f\"pnum = {pnum}, pstr = {pstr}\")\n",
    "                print(f\"init - res = {res}\")\n",
    "                res = pstr + (pnum * res)  # 將之前保存的字符串重複 pnum 次並連接到當前解壓縮的字符串中\n",
    "                print(f\"new  - res = {res}\")\n",
    "            else:\n",
    "                res += char  # 如果字符是字母，直接添加到解壓縮字符串中\n",
    "                print(f\"res  = {res}\")\n",
    "\n",
    "        return res  # 返回最絈的解壓縮字符串\n"
   ]
  },
  {
   "cell_type": "code",
   "execution_count": 3,
   "metadata": {},
   "outputs": [
    {
     "name": "stdout",
     "output_type": "stream",
     "text": [
      "----------------------------------------------------------------------------------------------------\n",
      "char = 2\n",
      "num  = 2\n",
      "----------------------------------------------------------------------------------------------------\n",
      "char = [\n",
      "append - stack = ['', 2]\n",
      "----------------------------------------------------------------------------------------------------\n",
      "char = a\n",
      "res  = a\n",
      "----------------------------------------------------------------------------------------------------\n",
      "char = b\n",
      "res  = ab\n",
      "----------------------------------------------------------------------------------------------------\n",
      "char = c\n",
      "res  = abc\n",
      "----------------------------------------------------------------------------------------------------\n",
      "char = 1\n",
      "num  = 1\n",
      "----------------------------------------------------------------------------------------------------\n",
      "char = 3\n",
      "num  = 13\n",
      "----------------------------------------------------------------------------------------------------\n",
      "char = [\n",
      "append - stack = ['', 2, 'abc', 13]\n",
      "----------------------------------------------------------------------------------------------------\n",
      "char = d\n",
      "res  = d\n",
      "----------------------------------------------------------------------------------------------------\n",
      "char = ]\n",
      "pop - stack = ['', 2]\n",
      "pnum = 13, pstr = abc\n",
      "init - res = d\n",
      "new  - res = abcddddddddddddd\n",
      "----------------------------------------------------------------------------------------------------\n",
      "char = ]\n",
      "pop - stack = []\n",
      "pnum = 2, pstr = \n",
      "init - res = abcddddddddddddd\n",
      "new  - res = abcdddddddddddddabcddddddddddddd\n",
      "----------------------------------------------------------------------------------------------------\n",
      "char = 4\n",
      "num  = 4\n",
      "----------------------------------------------------------------------------------------------------\n",
      "char = [\n",
      "append - stack = ['abcdddddddddddddabcddddddddddddd', 4]\n",
      "----------------------------------------------------------------------------------------------------\n",
      "char = e\n",
      "res  = e\n",
      "----------------------------------------------------------------------------------------------------\n",
      "char = f\n",
      "res  = ef\n",
      "----------------------------------------------------------------------------------------------------\n",
      "char = ]\n",
      "pop - stack = []\n",
      "pnum = 4, pstr = abcdddddddddddddabcddddddddddddd\n",
      "init - res = ef\n",
      "new  - res = abcdddddddddddddabcdddddddddddddefefefef\n",
      "----------------------------------------------------------------------------------------------------\n",
      "char = g\n",
      "res  = abcdddddddddddddabcdddddddddddddefefefefg\n"
     ]
    },
    {
     "data": {
      "text/plain": [
       "'abcdddddddddddddabcdddddddddddddefefefefg'"
      ]
     },
     "execution_count": 3,
     "metadata": {},
     "output_type": "execute_result"
    }
   ],
   "source": [
    "Solution().decodeString(s)"
   ]
  }
 ],
 "metadata": {
  "kernelspec": {
   "display_name": ".venv",
   "language": "python",
   "name": "python3"
  },
  "language_info": {
   "codemirror_mode": {
    "name": "ipython",
    "version": 3
   },
   "file_extension": ".py",
   "mimetype": "text/x-python",
   "name": "python",
   "nbconvert_exporter": "python",
   "pygments_lexer": "ipython3",
   "version": "3.8.10"
  }
 },
 "nbformat": 4,
 "nbformat_minor": 2
}
