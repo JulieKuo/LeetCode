{
 "cells": [
  {
   "cell_type": "markdown",
   "metadata": {},
   "source": [
    "### 918. Maximum Sum Circular Subarray"
   ]
  },
  {
   "cell_type": "code",
   "execution_count": 13,
   "metadata": {},
   "outputs": [],
   "source": [
    "from typing import List\n",
    "\n",
    "class Solution:\n",
    "    def maxSubarraySumCircular(self, nums: List[int]) -> int:\n",
    "        # Kadane 算法用於找出最大/最小子陣列和\n",
    "        def kadane(nums: List[int], find_max: bool) -> int:\n",
    "            # 代表到當前元素結尾的最大/最小子陣列和\n",
    "            dp = nums[0]\n",
    "            # 記錄全局最大/最小子陣列和\n",
    "            result = nums[0]\n",
    "            print(f\"{dp = }, {result = }\")\n",
    "\n",
    "            # 遍歷剩餘元素\n",
    "            for num in nums[1:]:\n",
    "                if find_max:\n",
    "                    # 找最大和：選擇加入當前元素或重新開始\n",
    "                    dp = max(dp + num, num)\n",
    "                    result = max(dp, result)\n",
    "                else:\n",
    "                    # 找最小和：選擇加入當前元素或重新開始\n",
    "                    dp = min(dp + num, num)\n",
    "                    result = min(dp, result)\n",
    "\n",
    "                print(f\"{dp = }, {result = }\")\n",
    "\n",
    "            return result\n",
    "        \n",
    "        # 不考慮循環的最大子陣列和\n",
    "        print(\"<< no circular >>\")\n",
    "        max_sum = kadane(nums, True)\n",
    "        print(f\"{max_sum = }\\n\")\n",
    "\n",
    "        # max_sum < 0 代表全為負數， min_sum 會是 total_sum， circular_max 會是 0，所以直接回傳 max_sum\n",
    "        if max_sum < 0:\n",
    "            return max_sum\n",
    "\n",
    "        # 考慮循環的情況\n",
    "        print(\"<< circular >>\")\n",
    "        # 計算總和\n",
    "        total_sum = sum(nums)\n",
    "        # 找出最小子陣列和\n",
    "        min_sum = kadane(nums, False)\n",
    "\n",
    "        # 循環最大和 = 總和 - 最小子陣列和\n",
    "        circular_max = total_sum - min_sum\n",
    "        print(f\"{total_sum = }, {min_sum = }, {circular_max = }\\n\")\n",
    "\n",
    "        # 返回循環與非循環情況的最大值\n",
    "        print(f\"max({max_sum}, {circular_max}) = {max(max_sum, circular_max)}\")\n",
    "        return max(max_sum, circular_max)\n"
   ]
  },
  {
   "cell_type": "code",
   "execution_count": 14,
   "metadata": {},
   "outputs": [
    {
     "name": "stdout",
     "output_type": "stream",
     "text": [
      "<< no circular >>\n",
      "dp = 1, result = 1\n",
      "dp = -1, result = 1\n",
      "dp = 3, result = 3\n",
      "dp = 1, result = 3\n",
      "max_sum = 3\n",
      "\n",
      "<< circular >>\n",
      "dp = 1, result = 1\n",
      "dp = -2, result = -2\n",
      "dp = 1, result = -2\n",
      "dp = -2, result = -2\n",
      "total_sum = 0, min_sum = -2, circular_max = 2\n",
      "\n",
      "max(3, 2) = 3\n"
     ]
    },
    {
     "data": {
      "text/plain": [
       "3"
      ]
     },
     "execution_count": 14,
     "metadata": {},
     "output_type": "execute_result"
    }
   ],
   "source": [
    "nums = [1,-2,3,-2]\n",
    "Solution().maxSubarraySumCircular(nums)"
   ]
  },
  {
   "cell_type": "code",
   "execution_count": 15,
   "metadata": {},
   "outputs": [
    {
     "name": "stdout",
     "output_type": "stream",
     "text": [
      "<< no circular >>\n",
      "dp = 5, result = 5\n",
      "dp = 2, result = 5\n",
      "dp = 7, result = 7\n",
      "max_sum = 7\n",
      "\n",
      "<< circular >>\n",
      "dp = 5, result = 5\n",
      "dp = -3, result = -3\n",
      "dp = 2, result = -3\n",
      "total_sum = 7, min_sum = -3, circular_max = 10\n",
      "\n",
      "max(7, 10) = 10\n"
     ]
    },
    {
     "data": {
      "text/plain": [
       "10"
      ]
     },
     "execution_count": 15,
     "metadata": {},
     "output_type": "execute_result"
    }
   ],
   "source": [
    "nums = [5, -3, 5]\n",
    "Solution().maxSubarraySumCircular(nums)"
   ]
  }
 ],
 "metadata": {
  "kernelspec": {
   "display_name": ".venv",
   "language": "python",
   "name": "python3"
  },
  "language_info": {
   "codemirror_mode": {
    "name": "ipython",
    "version": 3
   },
   "file_extension": ".py",
   "mimetype": "text/x-python",
   "name": "python",
   "nbconvert_exporter": "python",
   "pygments_lexer": "ipython3",
   "version": "3.11.2"
  }
 },
 "nbformat": 4,
 "nbformat_minor": 2
}
