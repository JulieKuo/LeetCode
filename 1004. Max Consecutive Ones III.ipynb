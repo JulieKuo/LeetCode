{
 "cells": [
  {
   "cell_type": "markdown",
   "metadata": {},
   "source": [
    "### 1004. Max Consecutive Ones III"
   ]
  },
  {
   "cell_type": "markdown",
   "metadata": {},
   "source": [
    "https://leetcode.com/problems/max-consecutive-ones-iii/solutions/719833/python3-sliding-window-with-clear-example-explains-why-the-soln-works/?orderBy=most_votes&languageTags=python3"
   ]
  },
  {
   "cell_type": "code",
   "execution_count": 1,
   "metadata": {},
   "outputs": [],
   "source": [
    "class Solution:\n",
    "    def longestOnes(self, nums, k):\n",
    "        print(f\"k: {k}, nums: {nums}\")\n",
    "        left = 0\n",
    "        for right in range(len(nums)):\n",
    "            if nums[right] == 0: # 如果右側碰到0的話，k要減1 \n",
    "                k -= 1\n",
    "            print(f\"\\n<original> k: {k}, left: {left}, right: {right}, subarray: {nums[left:right+1]}\")\n",
    "            \n",
    "            # 如果k < 0，表示子串列中的0比可替代的0的數量還多，移動窗格的大小(right - left + 1)不可增加；\n",
    "            # 否則隨著right+1、left維持的狀況下，移動窗個會增加1\n",
    "            if k < 0: \n",
    "                if nums[left] == 0: # 左側是0，則砍掉第0個元素後，子串列中的0的數量也會少一個，因此k加1個回來\n",
    "                    k += 1\n",
    "                left += 1 # 因每一輪right都會加1，為了使移動窗格的大小(right - left + 1)相同，left也要加1\n",
    "                print(f\"<update> k: {k}, left: {left}, right: {right}, subarray: {nums[left:right+1]}\")\n",
    "            \n",
    "            print(f\"result: {right - left + 1}\")\n",
    "\n",
    "        return right - left + 1"
   ]
  },
  {
   "cell_type": "code",
   "execution_count": 2,
   "metadata": {},
   "outputs": [
    {
     "name": "stdout",
     "output_type": "stream",
     "text": [
      "k: 2, nums: [1, 1, 1, 0, 0, 0, 1, 1, 1, 1, 0]\n",
      "\n",
      "<original> k: 2, left: 0, right: 0, subarray: [1]\n",
      "result: 1\n",
      "\n",
      "<original> k: 2, left: 0, right: 1, subarray: [1, 1]\n",
      "result: 2\n",
      "\n",
      "<original> k: 2, left: 0, right: 2, subarray: [1, 1, 1]\n",
      "result: 3\n",
      "\n",
      "<original> k: 1, left: 0, right: 3, subarray: [1, 1, 1, 0]\n",
      "result: 4\n",
      "\n",
      "<original> k: 0, left: 0, right: 4, subarray: [1, 1, 1, 0, 0]\n",
      "result: 5\n",
      "\n",
      "<original> k: -1, left: 0, right: 5, subarray: [1, 1, 1, 0, 0, 0]\n",
      "<update> k: -1, left: 1, right: 5, subarray: [1, 1, 0, 0, 0]\n",
      "result: 5\n",
      "\n",
      "<original> k: -1, left: 1, right: 6, subarray: [1, 1, 0, 0, 0, 1]\n",
      "<update> k: -1, left: 2, right: 6, subarray: [1, 0, 0, 0, 1]\n",
      "result: 5\n",
      "\n",
      "<original> k: -1, left: 2, right: 7, subarray: [1, 0, 0, 0, 1, 1]\n",
      "<update> k: -1, left: 3, right: 7, subarray: [0, 0, 0, 1, 1]\n",
      "result: 5\n",
      "\n",
      "<original> k: -1, left: 3, right: 8, subarray: [0, 0, 0, 1, 1, 1]\n",
      "<update> k: 0, left: 4, right: 8, subarray: [0, 0, 1, 1, 1]\n",
      "result: 5\n",
      "\n",
      "<original> k: 0, left: 4, right: 9, subarray: [0, 0, 1, 1, 1, 1]\n",
      "result: 6\n",
      "\n",
      "<original> k: -1, left: 4, right: 10, subarray: [0, 0, 1, 1, 1, 1, 0]\n",
      "<update> k: 0, left: 5, right: 10, subarray: [0, 1, 1, 1, 1, 0]\n",
      "result: 6\n"
     ]
    },
    {
     "data": {
      "text/plain": [
       "6"
      ]
     },
     "execution_count": 2,
     "metadata": {},
     "output_type": "execute_result"
    }
   ],
   "source": [
    "nums = [1,1,1,0,0,0,1,1,1,1,0]\n",
    "k = 2\n",
    "\n",
    "# nums = [0,0,1,1,0,0,1,1,1,0,1,1,0,0,0,1,1,1,1]\n",
    "# k = 3\n",
    "\n",
    "Solution().longestOnes(nums, k)"
   ]
  }
 ],
 "metadata": {
  "kernelspec": {
   "display_name": ".venv",
   "language": "python",
   "name": "python3"
  },
  "language_info": {
   "codemirror_mode": {
    "name": "ipython",
    "version": 3
   },
   "file_extension": ".py",
   "mimetype": "text/x-python",
   "name": "python",
   "nbconvert_exporter": "python",
   "pygments_lexer": "ipython3",
   "version": "3.8.10"
  },
  "orig_nbformat": 4
 },
 "nbformat": 4,
 "nbformat_minor": 2
}
