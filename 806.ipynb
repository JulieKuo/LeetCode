{
 "cells": [
  {
   "cell_type": "markdown",
   "metadata": {},
   "source": [
    "## 806. Number of Lines To Write String"
   ]
  },
  {
   "cell_type": "markdown",
   "metadata": {},
   "source": [
    "### 1. 新增字典temp，key為字母，value為字母長度\n",
    "### 2. 依序抓出字符串的字母，每抓出一個就在length加上該字母的長度，若加上時常度會超過100，則換行(line + 1)，且length歸0重算\n",
    "### 3. 求最後的行數和length"
   ]
  },
  {
   "cell_type": "code",
   "execution_count": null,
   "metadata": {},
   "outputs": [],
   "source": [
    "class Solution:\n",
    "    def numberOfLines(self, widths: List[int], s: str) -> List[int]:\n",
    "        alphabet = list(map(chr, range(97, 123)))#小寫a~z\n",
    "        \n",
    "        #字母和字母長度的對照表\n",
    "        temp = dict()\n",
    "        for i, j in zip(alphabet, widths):\n",
    "            temp[i] = j\n",
    "\n",
    "        line = 1\n",
    "        length = 0\n",
    "        for i in s:\n",
    "            if length + temp[i] > 100:#如果累積的字母長度超過100，就換行\n",
    "                line += 1\n",
    "                length = 0\n",
    "            length += temp[i]\n",
    "            \n",
    "        return [line, length]"
   ]
  }
 ],
 "metadata": {
  "language_info": {
   "name": "python"
  },
  "orig_nbformat": 4
 },
 "nbformat": 4,
 "nbformat_minor": 2
}
