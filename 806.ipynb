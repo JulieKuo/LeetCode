{
 "cells": [
  {
   "cell_type": "markdown",
   "metadata": {},
   "source": [
    "### 806. Number of Lines To Write String"
   ]
  },
  {
   "cell_type": "code",
   "execution_count": null,
   "metadata": {},
   "outputs": [],
   "source": [
    "class Solution:\n",
    "    def numberOfLines(self, widths: List[int], s: str) -> List[int]:\n",
    "        alphabet = list(map(chr, range(97, 123)))#小寫a~z\n",
    "        \n",
    "        #字母和字母長度的對照表\n",
    "        temp = dict()\n",
    "        for i, j in zip(alphabet, widths):\n",
    "            temp[i] = j\n",
    "\n",
    "        line = 1\n",
    "        length = 0\n",
    "        for i in s:\n",
    "            if length + temp[i] > 100:#如果累積的字母長度超過100，就換行\n",
    "                line += 1\n",
    "                length = 0\n",
    "            length += temp[i]\n",
    "            \n",
    "        return [line, length]"
   ]
  }
 ],
 "metadata": {
  "language_info": {
   "name": "python"
  },
  "orig_nbformat": 4
 },
 "nbformat": 4,
 "nbformat_minor": 2
}
