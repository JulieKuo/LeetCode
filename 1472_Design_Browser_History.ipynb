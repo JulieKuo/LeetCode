{
 "cells": [
  {
   "cell_type": "markdown",
   "metadata": {},
   "source": [
    "## 1472. Design Browser History"
   ]
  },
  {
   "cell_type": "code",
   "execution_count": 61,
   "metadata": {},
   "outputs": [],
   "source": [
    "class BrowserHistory:\n",
    "\n",
    "    def __init__(self, homepage: str):\n",
    "        self.history = []\n",
    "        self.history.append(homepage)\n",
    "        self.page = 0\n",
    "\n",
    "    def visit(self, url: str) -> None:\n",
    "        self.history = self.history[:self.page+1] # visit後，刪除所有page之後的紀錄\n",
    "        self.history.append(url)\n",
    "        self.page = len(self.history) - 1\n",
    "\n",
    "    def back(self, steps: int) -> str:\n",
    "        self.page -= 1 * steps\n",
    "        if self.page > 0: # page必須大於0 (即最初的訪問紀錄)\n",
    "            return self.history[self.page]\n",
    "        else: # 已經到最初訪問紀錄後就不可再往前搜尋，直接返回最初紀錄\n",
    "            self.page = 0\n",
    "            return self.history[0]\n",
    "\n",
    "    def forward(self, steps: int) -> str:\n",
    "        self.page += 1 * steps\n",
    "        if self.page < len(self.history) - 1: # page必須小於紀錄長度 (即最後的訪問紀錄)\n",
    "            return self.history[self.page]\n",
    "        else: # 已經到最後訪問紀錄後就不可再往後搜尋，直接返回最後紀錄\n",
    "            self.page = len(self.history) - 1\n",
    "            return self.history[-1]"
   ]
  },
  {
   "cell_type": "code",
   "execution_count": 62,
   "metadata": {},
   "outputs": [
    {
     "name": "stdout",
     "output_type": "stream",
     "text": [
      "None\n",
      "None\n",
      "None\n",
      "facebook.com\n",
      "google.com\n",
      "facebook.com\n",
      "None\n",
      "linkedin.com\n",
      "google.com\n",
      "leetcode.com\n"
     ]
    }
   ],
   "source": [
    "browserHistory = BrowserHistory(\"leetcode.com\")\n",
    "print(browserHistory.visit(\"google.com\"))       # You are in \"leetcode.com\". Visit \"google.com\"\n",
    "print(browserHistory.visit(\"facebook.com\"))     # You are in \"google.com\". Visit \"facebook.com\"\n",
    "print(browserHistory.visit(\"youtube.com\"))      # You are in \"facebook.com\". Visit \"youtube.com\"\n",
    "print(browserHistory.back(1))                   # You are in \"youtube.com\", move back to \"facebook.com\" return \"facebook.com\"\n",
    "print(browserHistory.back(1))                   # You are in \"facebook.com\", move back to \"google.com\" return \"google.com\"\n",
    "print(browserHistory.forward(1))                # You are in \"google.com\", move forward to \"facebook.com\" return \"facebook.com\"\n",
    "print(browserHistory.visit(\"linkedin.com\"))     # You are in \"facebook.com\". Visit \"linkedin.com\"\n",
    "print(browserHistory.forward(2))                # You are in \"linkedin.com\", you cannot move forward any steps.\n",
    "print(browserHistory.back(2))                   # You are in \"linkedin.com\", move back two steps to \"facebook.com\" then to \"google.com\". return \"google.com\"\n",
    "print(browserHistory.back(7))                   # You are in \"google.com\", you can move back only one step to \"leetcode.com\". return \"leetcode.com\""
   ]
  }
 ],
 "metadata": {
  "kernelspec": {
   "display_name": "Python 3.8.7 ('.venv': venv)",
   "language": "python",
   "name": "python3"
  },
  "language_info": {
   "codemirror_mode": {
    "name": "ipython",
    "version": 3
   },
   "file_extension": ".py",
   "mimetype": "text/x-python",
   "name": "python",
   "nbconvert_exporter": "python",
   "pygments_lexer": "ipython3",
   "version": "3.8.7"
  },
  "orig_nbformat": 4,
  "vscode": {
   "interpreter": {
    "hash": "6a07fcf0145f94b3f971c13d061528107de20ab7b779375f96dab9bbac6a85db"
   }
  }
 },
 "nbformat": 4,
 "nbformat_minor": 2
}
