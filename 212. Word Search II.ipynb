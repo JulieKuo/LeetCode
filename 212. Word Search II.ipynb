{
 "cells": [
  {
   "cell_type": "markdown",
   "metadata": {},
   "source": [
    "### 212. Word Search II"
   ]
  },
  {
   "cell_type": "markdown",
   "metadata": {},
   "source": [
    "$r$ is the number of rows.  \n",
    "$c$ is the number of columns.  \n",
    "$t$ is the maximum length of any word in the array words.  \n",
    "$s$ is the sum of the lengths of all the words. "
   ]
  },
  {
   "cell_type": "markdown",
   "metadata": {},
   "source": [
    "### Backtracking (Trie)"
   ]
  },
  {
   "cell_type": "markdown",
   "metadata": {},
   "source": [
    "**時間複雜度: $O(r * c * 4 * 3^{t-1} + s)$**  \n",
    "**空間複雜度: $O(s)$**"
   ]
  },
  {
   "cell_type": "code",
   "execution_count": 1,
   "metadata": {},
   "outputs": [],
   "source": [
    "from typing import List\n",
    "\n",
    "# 定義 Trie（字典樹）節點結構\n",
    "class TreeNode:\n",
    "    def __init__(self):\n",
    "        self.children = [None] * 26  # 子節點陣列（對應 26 個英文字母）\n",
    "        self.ref = 0                 # 記錄有多少單詞經過此節點，用於剪枝\n",
    "        self.idx = -1                # 若為單詞結尾，紀錄該單詞在 words 中的索引\n",
    "\n",
    "    # 將單詞加入 Trie\n",
    "    def addWord(self, word, word_idx):\n",
    "        current = self\n",
    "        current.ref += 1  # 根節點也算被引用一次\n",
    "        for char in word:  # time: O(t)\n",
    "            char_idx = ord(char) - ord('a')  # 將字母轉為索引 (a→0, b→1, ...)\n",
    "            # 若對應子節點不存在，建立新節點\n",
    "            if not current.children[char_idx]:\n",
    "                current.children[char_idx] = TreeNode()\n",
    "            current = current.children[char_idx]\n",
    "            current.ref += 1  # 經過的每一層節點都增加引用次數\n",
    "        current.idx = word_idx  # 將單詞結尾節點記錄其索引\n",
    "\n",
    "\n",
    "class Solution:\n",
    "    def findWords(self, board: List[List[str]], words: List[str]) -> List[str]:\n",
    "        root = TreeNode()\n",
    "        # 將所有單詞加入 Trie\n",
    "        for i in range(len(words)):  # time: O(s)，最深為單詞長度 t，但相較於總節點數 s 通常可忽略\n",
    "            root.addWord(word=words[i], word_idx=i)\n",
    "        \n",
    "        row_length = len(board)\n",
    "        col_length = len(board[0])\n",
    "        result = []  # 儲存找到的單詞\n",
    "\n",
    "        # 深度優先搜尋 (DFS)\n",
    "        def dfs(row, col, node):\n",
    "            # 邊界條件與無效情況檢查\n",
    "            if (\n",
    "                row < 0 or col < 0 or\n",
    "                row >= row_length or col >= col_length or\n",
    "                board[row][col] == \"*\" or  # 已訪問過\n",
    "                not node.children[ord(board[row][col]) - ord('a')]  # 字母不在 Trie 子節點中\n",
    "            ):\n",
    "                return\n",
    "            \n",
    "            char = board[row][col]               # 暫存目前字母\n",
    "            char_idx = ord(char) - ord('a')      # 計算索引\n",
    "\n",
    "            board[row][col] = \"*\"                # 標記為已訪問\n",
    "            prev = node                          # 保存父節點\n",
    "            node = node.children[char_idx]       # 進入下一層節點\n",
    "\n",
    "            # 若此節點為某個單詞的結尾\n",
    "            if node.idx != -1:\n",
    "                result.append(words[node.idx])    # 將該單詞加入結果\n",
    "                node.idx = -1                     # 避免重複加入 (加速)\n",
    "                node.ref -= 1                     # 減少引用計數（已找到一個單詞）\n",
    "                # 若該節點再無其他單詞引用，剪枝：刪除此分支 (加速)\n",
    "                if node.ref == 0:\n",
    "                    prev.children[char_idx] = None\n",
    "                    board[row][col] = char        # 回溯：恢復原字母\n",
    "                    return \n",
    "\n",
    "            # 向四個方向繼續搜尋\n",
    "            # time: O(4)，第一次可以走上下左右 4 個方向\n",
    "            # time: O(3^(t-1))，後續不能回到前一次的位置，只有三個方向\n",
    "            dfs(row - 1, col, node)  # 上\n",
    "            dfs(row + 1, col, node)  # 下\n",
    "            dfs(row, col - 1, node)  # 左\n",
    "            dfs(row, col + 1, node)  # 右\n",
    "\n",
    "            # 回溯：恢復字母，讓其他路徑可使用\n",
    "            board[row][col] = char\n",
    "\n",
    "            return\n",
    "\n",
    "        # 從每個棋盤格子作為起點進行 DFS 搜尋\n",
    "        for row in range(row_length): # time: O(r)\n",
    "            for col in range(col_length): # time: O(c)\n",
    "                dfs(row, col, root)\n",
    "\n",
    "        return result"
   ]
  },
  {
   "cell_type": "code",
   "execution_count": 2,
   "metadata": {},
   "outputs": [
    {
     "data": {
      "text/plain": [
       "['oa', 'oaa']"
      ]
     },
     "execution_count": 2,
     "metadata": {},
     "output_type": "execute_result"
    }
   ],
   "source": [
    "board = [[\"o\",\"a\",\"b\",\"n\"],[\"o\",\"t\",\"a\",\"e\"],[\"a\",\"h\",\"k\",\"r\"],[\"a\",\"f\",\"l\",\"v\"]]\n",
    "words = [\"oa\",\"oaa\"]\n",
    "# Output: [\"eat\",\"oath\"]\n",
    "\n",
    "Solution().findWords(board, words)"
   ]
  },
  {
   "cell_type": "markdown",
   "metadata": {},
   "source": [
    "#### Backtracking (Trie + Hash Set)"
   ]
  },
  {
   "cell_type": "markdown",
   "metadata": {},
   "source": [
    "**時間複雜度: $O(r * c * 4 * 3^{t-1} + s)$**  \n",
    "**空間複雜度: $O(s)$**"
   ]
  },
  {
   "cell_type": "code",
   "execution_count": 3,
   "metadata": {},
   "outputs": [],
   "source": [
    "from typing import List\n",
    "\n",
    "# 定義 Trie（字典樹）節點\n",
    "class TrieNode():\n",
    "    def __init__(self):\n",
    "        self.children = {}  # 子節點，用字典儲存，例如 {'a': TrieNode, 'b': TrieNode, ...}\n",
    "        self.end = False    # 標記此節點是否為單詞結尾\n",
    "\n",
    "    # 將單詞加入 Trie\n",
    "    def add_word(self, word):\n",
    "        current = self\n",
    "        # 逐字建立 Trie 結構\n",
    "        for char in word:  # time: O(t)\n",
    "            if char not in current.children:\n",
    "                current.children[char] = TrieNode()\n",
    "            current = current.children[char]\n",
    "        current.end = True  # 標記單詞結尾\n",
    "\n",
    "class Solution:\n",
    "    def findWords(self, board: List[List[str]], words: List[str]) -> List[str]:\n",
    "        # 建立 Trie 並插入所有單詞\n",
    "        root = TrieNode()\n",
    "        for word in words: # time: O(s)，最深為單詞長度 t，但相較於總節點數 s 通常可忽略\n",
    "            root.add_word(word)\n",
    "\n",
    "        row_length = len(board)\n",
    "        col_length = len(board[0])\n",
    "            \n",
    "        result = set()   # 使用集合避免重複單詞\n",
    "        visit = set()    # 用來記錄 DFS 過程中已訪問的格子\n",
    "\n",
    "        # 定義 DFS 回溯函式\n",
    "        def dfs(row, col, node, word):\n",
    "            # 邊界與無效情況檢查\n",
    "            if (\n",
    "                row < 0 or col < 0 or\n",
    "                row >= row_length or col >= col_length or\n",
    "                (row, col) in visit or\n",
    "                board[row][col] not in node.children\n",
    "            ):\n",
    "                return\n",
    "            \n",
    "            # 將當前格子標記為已訪問\n",
    "            visit.add((row, col))\n",
    "            # 進入 Trie 的下一層\n",
    "            node = node.children[board[row][col]]\n",
    "            # 將當前字母加入組成中的單詞\n",
    "            word += board[row][col]\n",
    "            # 若到達單詞結尾，加入結果集合\n",
    "            if node.end:\n",
    "                result.add(word)\n",
    "\n",
    "            # ---- DFS 四個方向擴展 ----\n",
    "            # time: O(4)，第一次可以走上下左右 4 個方向\n",
    "            # time: O(3^(t-1))，後續不能回到前一次的位置，只有三個方向\n",
    "            dfs(row-1, col, node, word)\n",
    "            dfs(row+1, col, node, word)\n",
    "            dfs(row, col-1, node, word)\n",
    "            dfs(row, col+1, node, word)\n",
    "\n",
    "            # ---- 回溯步驟 ----\n",
    "            visit.remove((row, col))  # 恢復狀態，讓其他路徑能重複使用該格\n",
    "\n",
    "        # 從每一個格子作為起點進行 DFS 搜尋\n",
    "        for row in range(row_length): # time: O(r)\n",
    "            for col in range(col_length): # time: O(c)\n",
    "                dfs(row, col, root, '')\n",
    "\n",
    "        return list(result)"
   ]
  },
  {
   "cell_type": "code",
   "execution_count": 4,
   "metadata": {},
   "outputs": [
    {
     "data": {
      "text/plain": [
       "['oa', 'oaa']"
      ]
     },
     "execution_count": 4,
     "metadata": {},
     "output_type": "execute_result"
    }
   ],
   "source": [
    "board = [[\"o\",\"a\",\"b\",\"n\"],[\"o\",\"t\",\"a\",\"e\"],[\"a\",\"h\",\"k\",\"r\"],[\"a\",\"f\",\"l\",\"v\"]]\n",
    "words = [\"oa\",\"oaa\"]\n",
    "# Output: [\"eat\",\"oath\"]\n",
    "\n",
    "Solution().findWords(board, words)"
   ]
  },
  {
   "cell_type": "markdown",
   "metadata": {},
   "source": [
    "#### Backtracking"
   ]
  },
  {
   "cell_type": "markdown",
   "metadata": {},
   "source": [
    "**時間複雜度: $O(r * c * 4^t + s) = O(r * c * 4^t)$**  \n",
    "**空間複雜度: $O(t)$**"
   ]
  },
  {
   "cell_type": "code",
   "execution_count": 5,
   "metadata": {},
   "outputs": [],
   "source": [
    "from typing import List\n",
    "\n",
    "class Solution:\n",
    "    def findWords(self, board: List[List[str]], words: List[str]) -> List[str]:\n",
    "        # 取得棋盤的行數與列數\n",
    "        row_length = len(board)\n",
    "        col_length = len(board[0])\n",
    "        # 儲存最終找到的單詞\n",
    "        result_list = []\n",
    "\n",
    "        # 定義 DFS 函式，用來檢查從 (row, col) 開始能否找到 word[index:]\n",
    "        def dfs(word, index, row, col):\n",
    "            # 如果已經走到單詞的最後一個字母之後，代表整個單詞找到\n",
    "            if index == len(word):\n",
    "                return True\n",
    "            \n",
    "            # 邊界檢查 & 是否匹配字母 & 是否已訪問過\n",
    "            if (\n",
    "                row < 0 or col < 0 or\n",
    "                row >= row_length or col >= col_length or\n",
    "                word[index] != board[row][col] or\n",
    "                board[row][col] == '#'\n",
    "            ):\n",
    "                return False\n",
    "            \n",
    "            # 暫時標記為已訪問\n",
    "            board[row][col] = '#'\n",
    "\n",
    "            # 往上下左右四個方向繼續搜尋下一個字母 # time: O(4^t)\n",
    "            result_flag = (\n",
    "                dfs(word, index+1, row-1, col) or\n",
    "                dfs(word, index+1, row+1, col) or\n",
    "                dfs(word, index+1, row, col-1) or\n",
    "                dfs(word, index+1, row, col+1)\n",
    "            )\n",
    "\n",
    "            # 回溯：恢復原本的字母，讓其他搜尋路徑可以使用\n",
    "            board[row][col] = word[index]\n",
    "\n",
    "            return result_flag\n",
    "\n",
    "        # 針對每個單詞進行搜尋\n",
    "        for word in words: #time: O(s)，+s 是在遍歷 words 陣列、讀取字元的過程中累積的總成本，不是 DFS 的搜尋成本\n",
    "            flag = False  # 紀錄該單詞是否已經找到\n",
    "            for row in range(row_length): # time: O(r)，以下才是 DFS 的成本\n",
    "                if flag:  # 如果已經找到，提前跳出\n",
    "                    break\n",
    "                for col in range(col_length): # time: O(c)\n",
    "                    # 如果首字母不符合，直接跳過\n",
    "                    if board[row][col] != word[0]:\n",
    "                        continue\n",
    "                    # 如果能找到該單詞，加入結果\n",
    "                    if dfs(word, 0, row, col):\n",
    "                        result_list.append(word)\n",
    "                        flag = True\n",
    "                        break\n",
    "\n",
    "        return result_list"
   ]
  },
  {
   "cell_type": "code",
   "execution_count": 6,
   "metadata": {},
   "outputs": [
    {
     "data": {
      "text/plain": [
       "['oath', 'eat']"
      ]
     },
     "execution_count": 6,
     "metadata": {},
     "output_type": "execute_result"
    }
   ],
   "source": [
    "board = [[\"o\",\"a\",\"a\",\"n\"],[\"e\",\"t\",\"a\",\"e\"],[\"i\",\"h\",\"k\",\"r\"],[\"i\",\"f\",\"l\",\"v\"]]\n",
    "words = [\"oath\",\"pea\",\"eat\",\"rain\"]\n",
    "# Output: [\"eat\",\"oath\"]\n",
    "\n",
    "Solution().findWords(board, words)"
   ]
  }
 ],
 "metadata": {
  "kernelspec": {
   "display_name": ".venv (3.12.8)",
   "language": "python",
   "name": "python3"
  },
  "language_info": {
   "codemirror_mode": {
    "name": "ipython",
    "version": 3
   },
   "file_extension": ".py",
   "mimetype": "text/x-python",
   "name": "python",
   "nbconvert_exporter": "python",
   "pygments_lexer": "ipython3",
   "version": "3.12.8"
  }
 },
 "nbformat": 4,
 "nbformat_minor": 2
}
