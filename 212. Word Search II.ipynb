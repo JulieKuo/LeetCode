{
 "cells": [
  {
   "cell_type": "markdown",
   "metadata": {},
   "source": [
    "### 212. Word Search II"
   ]
  },
  {
   "cell_type": "markdown",
   "metadata": {},
   "source": [
    "$r$ is the number of rows.  \n",
    "$c$ is the number of columns.  \n",
    "$t$ is the maximum length of any word in the array words.  \n",
    "$s$ is the sum of the lengths of all the words. "
   ]
  },
  {
   "cell_type": "markdown",
   "metadata": {},
   "source": [
    "#### Backtracking (Trie + Hash Set)"
   ]
  },
  {
   "cell_type": "markdown",
   "metadata": {},
   "source": [
    "**時間複雜度: $O(r * c * 4 * 3^{t-1} + s)$**  \n",
    "**空間複雜度: $O(s)$**"
   ]
  },
  {
   "cell_type": "code",
   "execution_count": 1,
   "metadata": {},
   "outputs": [],
   "source": [
    "from typing import List\n",
    "\n",
    "class TrieNode():\n",
    "    def __init__(self):\n",
    "        self.children = {}\n",
    "        self.end = False\n",
    "    def add_word(self, word):\n",
    "        current = self\n",
    "        for char in word: # time: O(t)\n",
    "            if char not in current.children:\n",
    "                current.children[char] = TrieNode()\n",
    "            current = current.children[char]\n",
    "\n",
    "        current.end = True\n",
    "\n",
    "class Solution:\n",
    "    def findWords(self, board: List[List[str]], words: List[str]) -> List[str]:\n",
    "        root = TrieNode()\n",
    "        for word in words: # time: O(s)，最深為單詞長度 t，但相較於總節點數 s 通常可忽略\n",
    "            root.add_word(word)\n",
    "\n",
    "        row_length = len(board)\n",
    "        col_length = len(board[0])\n",
    "            \n",
    "        result = set()\n",
    "        visit = set()\n",
    "\n",
    "        def dfs(row, col, node, word):\n",
    "            if (\n",
    "                row < 0 or col < 0 or\n",
    "                row >= row_length or col >= col_length or\n",
    "                (row, col) in visit or\n",
    "                board[row][col] not in node.children\n",
    "            ):\n",
    "                return\n",
    "            \n",
    "            visit.add((row, col))\n",
    "            node = node.children[board[row][col]]\n",
    "            word += board[row][col]\n",
    "            if node.end:\n",
    "                result.add(word)\n",
    "\n",
    "            # time: O(4)，第一次可以走上下左右 4 個方向\n",
    "            # time: O(3^(t-1))，後續不能回到前一次的位置，只有三個方向\n",
    "            dfs(row-1, col, node, word)\n",
    "            dfs(row+1, col, node, word)\n",
    "            dfs(row, col-1, node, word)\n",
    "            dfs(row, col+1, node, word)\n",
    "\n",
    "            visit.remove((row, col))\n",
    "\n",
    "        for row in range(row_length): # time: O(r)\n",
    "            for col in range(col_length): # time: O(c)\n",
    "                dfs(row, col, root, '')\n",
    "\n",
    "        return list(result)"
   ]
  },
  {
   "cell_type": "code",
   "execution_count": 2,
   "metadata": {},
   "outputs": [
    {
     "data": {
      "text/plain": [
       "['oa', 'oaa']"
      ]
     },
     "execution_count": 2,
     "metadata": {},
     "output_type": "execute_result"
    }
   ],
   "source": [
    "board = [[\"o\",\"a\",\"b\",\"n\"],[\"o\",\"t\",\"a\",\"e\"],[\"a\",\"h\",\"k\",\"r\"],[\"a\",\"f\",\"l\",\"v\"]]\n",
    "words = [\"oa\",\"oaa\"]\n",
    "# Output: [\"eat\",\"oath\"]\n",
    "\n",
    "Solution().findWords(board, words)"
   ]
  },
  {
   "cell_type": "markdown",
   "metadata": {},
   "source": [
    "#### Backtracking"
   ]
  },
  {
   "cell_type": "markdown",
   "metadata": {},
   "source": [
    "**時間複雜度: $O(r * c * 4^t + s) = O(r * c * 4^t)$**  \n",
    "**空間複雜度: $O(t)$**"
   ]
  },
  {
   "cell_type": "code",
   "execution_count": 3,
   "metadata": {},
   "outputs": [],
   "source": [
    "from typing import List\n",
    "\n",
    "class Solution:\n",
    "    def findWords(self, board: List[List[str]], words: List[str]) -> List[str]:\n",
    "        # 取得棋盤的行數與列數\n",
    "        row_length = len(board)\n",
    "        col_length = len(board[0])\n",
    "        # 儲存最終找到的單詞\n",
    "        result_list = []\n",
    "\n",
    "        # 定義 DFS 函式，用來檢查從 (row, col) 開始能否找到 word[index:]\n",
    "        def dfs(word, index, row, col):\n",
    "            # 如果已經走到單詞的最後一個字母之後，代表整個單詞找到\n",
    "            if index == len(word):\n",
    "                return True\n",
    "            \n",
    "            # 邊界檢查 & 是否匹配字母 & 是否已訪問過\n",
    "            if (\n",
    "                row < 0 or col < 0 or\n",
    "                row >= row_length or col >= col_length or\n",
    "                word[index] != board[row][col] or\n",
    "                board[row][col] == '#'\n",
    "            ):\n",
    "                return False\n",
    "            \n",
    "            # 暫時標記為已訪問\n",
    "            board[row][col] = '#'\n",
    "\n",
    "            # 往上下左右四個方向繼續搜尋下一個字母 # time: O(4^t)\n",
    "            result_flag = (\n",
    "                dfs(word, index+1, row-1, col) or\n",
    "                dfs(word, index+1, row+1, col) or\n",
    "                dfs(word, index+1, row, col-1) or\n",
    "                dfs(word, index+1, row, col+1)\n",
    "            )\n",
    "\n",
    "            # 回溯：恢復原本的字母，讓其他搜尋路徑可以使用\n",
    "            board[row][col] = word[index]\n",
    "\n",
    "            return result_flag\n",
    "\n",
    "        # 針對每個單詞進行搜尋\n",
    "        for word in words: #time: O(s)，+s 是在遍歷 words 陣列、讀取字元的過程中累積的總成本，不是 DFS 的搜尋成本\n",
    "            flag = False  # 紀錄該單詞是否已經找到\n",
    "            for row in range(row_length): # time: O(r)，以下才是 DFS 的成本\n",
    "                if flag:  # 如果已經找到，提前跳出\n",
    "                    break\n",
    "                for col in range(col_length): # time: O(c)\n",
    "                    # 如果首字母不符合，直接跳過\n",
    "                    if board[row][col] != word[0]:\n",
    "                        continue\n",
    "                    # 如果能找到該單詞，加入結果\n",
    "                    if dfs(word, 0, row, col):\n",
    "                        result_list.append(word)\n",
    "                        flag = True\n",
    "                        break\n",
    "\n",
    "        return result_list"
   ]
  },
  {
   "cell_type": "code",
   "execution_count": 4,
   "metadata": {},
   "outputs": [
    {
     "data": {
      "text/plain": [
       "['oath', 'eat']"
      ]
     },
     "execution_count": 4,
     "metadata": {},
     "output_type": "execute_result"
    }
   ],
   "source": [
    "board = [[\"o\",\"a\",\"a\",\"n\"],[\"e\",\"t\",\"a\",\"e\"],[\"i\",\"h\",\"k\",\"r\"],[\"i\",\"f\",\"l\",\"v\"]]\n",
    "words = [\"oath\",\"pea\",\"eat\",\"rain\"]\n",
    "# Output: [\"eat\",\"oath\"]\n",
    "\n",
    "Solution().findWords(board, words)"
   ]
  }
 ],
 "metadata": {
  "kernelspec": {
   "display_name": ".venv (3.12.8)",
   "language": "python",
   "name": "python3"
  },
  "language_info": {
   "codemirror_mode": {
    "name": "ipython",
    "version": 3
   },
   "file_extension": ".py",
   "mimetype": "text/x-python",
   "name": "python",
   "nbconvert_exporter": "python",
   "pygments_lexer": "ipython3",
   "version": "3.12.8"
  }
 },
 "nbformat": 4,
 "nbformat_minor": 2
}
