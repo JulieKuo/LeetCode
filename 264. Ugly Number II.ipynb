{
 "cells": [
  {
   "cell_type": "markdown",
   "metadata": {},
   "source": [
    "## 264. Ugly Number II"
   ]
  },
  {
   "cell_type": "code",
   "execution_count": 1,
   "metadata": {},
   "outputs": [],
   "source": [
    "'''Runtime: 82.65%, Memory: 82.65%'''\n",
    "\n",
    "class Solution:\n",
    "    def nthUglyNumber(self, n: int) -> int:\n",
    "        num = [1]\n",
    "        p2 = p3 = p5 = 0\n",
    "        for i in range(n-1):\n",
    "            print(f\"origin: num = {num}\")\n",
    "            tmp = min(num[p2] * 2, num[p3] * 3, num[p5] * 5)\n",
    "            num.append(tmp)\n",
    "\n",
    "            print(f\"origin: p2 = {p2}, p3 = {p3}, p5 = {p5}\")\n",
    "            print(f\"num[p2] = {num[p2]}, num[p3] = {num[p3]}, num[p5] = {num[p5]}\")\n",
    "            print(f\"tmp = {tmp} = min({num[p2] * 2}, {num[p3] * 3}, {num[p5] * 5}) = min({num[p2]}*2, {num[p3]}*3, {num[p5]}*5)\")\n",
    "            print(f\"new num = {num}\")\n",
    "\n",
    "            if tmp == num[p2] * 2:\n",
    "                p2 += 1\n",
    "            if tmp == num[p3] * 3:\n",
    "                p3 += 1\n",
    "            if tmp == num[p5] * 5:\n",
    "                p5 += 1\n",
    "                \n",
    "            print(f\"new: p2 = {p2}, p3 = {p3}, p5 = {p5}\\n\")\n",
    "                \n",
    "        return num[-1]"
   ]
  },
  {
   "cell_type": "code",
   "execution_count": 2,
   "metadata": {},
   "outputs": [
    {
     "name": "stdout",
     "output_type": "stream",
     "text": [
      "origin: num = [1]\n",
      "origin: p2 = 0, p3 = 0, p5 = 0\n",
      "num[p2] = 1, num[p3] = 1, num[p5] = 1\n",
      "tmp = 2 = min(2, 3, 5) = min(1*2, 1*3, 1*5)\n",
      "new num = [1, 2]\n",
      "new: p2 = 1, p3 = 0, p5 = 0\n",
      "\n",
      "origin: num = [1, 2]\n",
      "origin: p2 = 1, p3 = 0, p5 = 0\n",
      "num[p2] = 2, num[p3] = 1, num[p5] = 1\n",
      "tmp = 3 = min(4, 3, 5) = min(2*2, 1*3, 1*5)\n",
      "new num = [1, 2, 3]\n",
      "new: p2 = 1, p3 = 1, p5 = 0\n",
      "\n",
      "origin: num = [1, 2, 3]\n",
      "origin: p2 = 1, p3 = 1, p5 = 0\n",
      "num[p2] = 2, num[p3] = 2, num[p5] = 1\n",
      "tmp = 4 = min(4, 6, 5) = min(2*2, 2*3, 1*5)\n",
      "new num = [1, 2, 3, 4]\n",
      "new: p2 = 2, p3 = 1, p5 = 0\n",
      "\n",
      "origin: num = [1, 2, 3, 4]\n",
      "origin: p2 = 2, p3 = 1, p5 = 0\n",
      "num[p2] = 3, num[p3] = 2, num[p5] = 1\n",
      "tmp = 5 = min(6, 6, 5) = min(3*2, 2*3, 1*5)\n",
      "new num = [1, 2, 3, 4, 5]\n",
      "new: p2 = 2, p3 = 1, p5 = 1\n",
      "\n",
      "origin: num = [1, 2, 3, 4, 5]\n",
      "origin: p2 = 2, p3 = 1, p5 = 1\n",
      "num[p2] = 3, num[p3] = 2, num[p5] = 2\n",
      "tmp = 6 = min(6, 6, 10) = min(3*2, 2*3, 2*5)\n",
      "new num = [1, 2, 3, 4, 5, 6]\n",
      "new: p2 = 3, p3 = 2, p5 = 1\n",
      "\n",
      "origin: num = [1, 2, 3, 4, 5, 6]\n",
      "origin: p2 = 3, p3 = 2, p5 = 1\n",
      "num[p2] = 4, num[p3] = 3, num[p5] = 2\n",
      "tmp = 8 = min(8, 9, 10) = min(4*2, 3*3, 2*5)\n",
      "new num = [1, 2, 3, 4, 5, 6, 8]\n",
      "new: p2 = 4, p3 = 2, p5 = 1\n",
      "\n",
      "origin: num = [1, 2, 3, 4, 5, 6, 8]\n",
      "origin: p2 = 4, p3 = 2, p5 = 1\n",
      "num[p2] = 5, num[p3] = 3, num[p5] = 2\n",
      "tmp = 9 = min(10, 9, 10) = min(5*2, 3*3, 2*5)\n",
      "new num = [1, 2, 3, 4, 5, 6, 8, 9]\n",
      "new: p2 = 4, p3 = 3, p5 = 1\n",
      "\n",
      "origin: num = [1, 2, 3, 4, 5, 6, 8, 9]\n",
      "origin: p2 = 4, p3 = 3, p5 = 1\n",
      "num[p2] = 5, num[p3] = 4, num[p5] = 2\n",
      "tmp = 10 = min(10, 12, 10) = min(5*2, 4*3, 2*5)\n",
      "new num = [1, 2, 3, 4, 5, 6, 8, 9, 10]\n",
      "new: p2 = 5, p3 = 3, p5 = 2\n",
      "\n",
      "origin: num = [1, 2, 3, 4, 5, 6, 8, 9, 10]\n",
      "origin: p2 = 5, p3 = 3, p5 = 2\n",
      "num[p2] = 6, num[p3] = 4, num[p5] = 3\n",
      "tmp = 12 = min(12, 12, 15) = min(6*2, 4*3, 3*5)\n",
      "new num = [1, 2, 3, 4, 5, 6, 8, 9, 10, 12]\n",
      "new: p2 = 6, p3 = 4, p5 = 2\n",
      "\n"
     ]
    },
    {
     "data": {
      "text/plain": [
       "12"
      ]
     },
     "execution_count": 2,
     "metadata": {},
     "output_type": "execute_result"
    }
   ],
   "source": [
    "n = 10\n",
    "Solution().nthUglyNumber(n)"
   ]
  },
  {
   "cell_type": "code",
   "execution_count": null,
   "metadata": {},
   "outputs": [],
   "source": []
  },
  {
   "cell_type": "code",
   "execution_count": 3,
   "metadata": {},
   "outputs": [],
   "source": [
    "'''Runtime: 19.80%, Memory: 51.11%'''\n",
    "\n",
    "import heapq\n",
    "\n",
    "class Solution:\n",
    "    def nthUglyNumber(self, n: int) -> int:\n",
    "        temp = []\n",
    "        res = []\n",
    "        heapq.heappush(temp, 1)\n",
    "        for i in range(n):\n",
    "            num = heapq.heappop(temp)\n",
    "            res.append(num)\n",
    "            print(f\"<< i = {i}, num = {num} >>\\ntemp add: \")\n",
    "            for prime in [2, 3, 5]:\n",
    "                new_num = num * prime\n",
    "                if (new_num not in temp):\n",
    "                    heapq.heappush(temp, new_num)\n",
    "                    print(f\"{num} * {prime} = {new_num}\")\n",
    "\n",
    "            print(f\"temp = {temp}\")\n",
    "            print(f\"res = {res}\\n\")\n",
    "        return res[-1]"
   ]
  },
  {
   "cell_type": "code",
   "execution_count": 4,
   "metadata": {},
   "outputs": [
    {
     "name": "stdout",
     "output_type": "stream",
     "text": [
      "<< i = 0, num = 1 >>\n",
      "temp add: \n",
      "1 * 2 = 2\n",
      "1 * 3 = 3\n",
      "1 * 5 = 5\n",
      "temp = [2, 3, 5]\n",
      "res = [1]\n",
      "\n",
      "<< i = 1, num = 2 >>\n",
      "temp add: \n",
      "2 * 2 = 4\n",
      "2 * 3 = 6\n",
      "2 * 5 = 10\n",
      "temp = [3, 5, 4, 6, 10]\n",
      "res = [1, 2]\n",
      "\n",
      "<< i = 2, num = 3 >>\n",
      "temp add: \n",
      "3 * 3 = 9\n",
      "3 * 5 = 15\n",
      "temp = [4, 5, 10, 6, 9, 15]\n",
      "res = [1, 2, 3]\n",
      "\n",
      "<< i = 3, num = 4 >>\n",
      "temp add: \n",
      "4 * 2 = 8\n",
      "4 * 3 = 12\n",
      "4 * 5 = 20\n",
      "temp = [5, 6, 8, 15, 9, 10, 12, 20]\n",
      "res = [1, 2, 3, 4]\n",
      "\n",
      "<< i = 4, num = 5 >>\n",
      "temp add: \n",
      "5 * 5 = 25\n",
      "temp = [6, 9, 8, 15, 20, 10, 12, 25]\n",
      "res = [1, 2, 3, 4, 5]\n",
      "\n",
      "<< i = 5, num = 6 >>\n",
      "temp add: \n",
      "6 * 3 = 18\n",
      "6 * 5 = 30\n",
      "temp = [8, 9, 10, 15, 20, 25, 12, 18, 30]\n",
      "res = [1, 2, 3, 4, 5, 6]\n",
      "\n",
      "<< i = 6, num = 8 >>\n",
      "temp add: \n",
      "8 * 2 = 16\n",
      "8 * 3 = 24\n",
      "8 * 5 = 40\n",
      "temp = [9, 15, 10, 16, 20, 25, 12, 30, 18, 24, 40]\n",
      "res = [1, 2, 3, 4, 5, 6, 8]\n",
      "\n",
      "<< i = 7, num = 9 >>\n",
      "temp add: \n",
      "9 * 3 = 27\n",
      "9 * 5 = 45\n",
      "temp = [10, 15, 12, 16, 20, 25, 40, 30, 18, 24, 27, 45]\n",
      "res = [1, 2, 3, 4, 5, 6, 8, 9]\n",
      "\n",
      "<< i = 8, num = 10 >>\n",
      "temp add: \n",
      "10 * 5 = 50\n",
      "temp = [12, 15, 25, 16, 20, 45, 40, 30, 18, 24, 27, 50]\n",
      "res = [1, 2, 3, 4, 5, 6, 8, 9, 10]\n",
      "\n",
      "<< i = 9, num = 12 >>\n",
      "temp add: \n",
      "12 * 3 = 36\n",
      "12 * 5 = 60\n",
      "temp = [15, 16, 25, 18, 20, 36, 40, 30, 50, 24, 27, 45, 60]\n",
      "res = [1, 2, 3, 4, 5, 6, 8, 9, 10, 12]\n",
      "\n"
     ]
    },
    {
     "data": {
      "text/plain": [
       "12"
      ]
     },
     "execution_count": 4,
     "metadata": {},
     "output_type": "execute_result"
    }
   ],
   "source": [
    "n = 10\n",
    "Solution().nthUglyNumber(n)"
   ]
  }
 ],
 "metadata": {
  "kernelspec": {
   "display_name": ".venv",
   "language": "python",
   "name": "python3"
  },
  "language_info": {
   "codemirror_mode": {
    "name": "ipython",
    "version": 3
   },
   "file_extension": ".py",
   "mimetype": "text/x-python",
   "name": "python",
   "nbconvert_exporter": "python",
   "pygments_lexer": "ipython3",
   "version": "3.8.10"
  },
  "orig_nbformat": 4,
  "vscode": {
   "interpreter": {
    "hash": "6a07fcf0145f94b3f971c13d061528107de20ab7b779375f96dab9bbac6a85db"
   }
  }
 },
 "nbformat": 4,
 "nbformat_minor": 2
}
