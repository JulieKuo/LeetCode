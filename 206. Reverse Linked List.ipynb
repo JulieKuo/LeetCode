{
 "cells": [
  {
   "cell_type": "markdown",
   "metadata": {},
   "source": [
    "### 206. Reverse Linked List"
   ]
  },
  {
   "cell_type": "code",
   "execution_count": 9,
   "metadata": {},
   "outputs": [],
   "source": [
    "# Definition for singly-linked list.\n",
    "class ListNode:\n",
    "    def __init__(self, val=0, next=None):\n",
    "        self.val = val\n",
    "        self.next = next"
   ]
  },
  {
   "cell_type": "markdown",
   "metadata": {},
   "source": [
    "### Traversal"
   ]
  },
  {
   "cell_type": "markdown",
   "metadata": {},
   "source": [
    "* 時間複雜度: O( $n$ )\n",
    "* 空間複雜度: O( $1$ )"
   ]
  },
  {
   "cell_type": "code",
   "execution_count": 10,
   "metadata": {},
   "outputs": [],
   "source": [
    "head = ListNode(\n",
    "    val = 1,\n",
    "    next = ListNode(\n",
    "        val = 2,\n",
    "        next = ListNode(\n",
    "            val = 3,\n",
    "            next = ListNode(\n",
    "                val = 4,\n",
    "                next = ListNode(\n",
    "                    val = 5,\n",
    "                    next = None\n",
    "                )\n",
    "            )\n",
    "        )\n",
    "    )\n",
    ")\n",
    "# [1,2,3,4,5]"
   ]
  },
  {
   "cell_type": "code",
   "execution_count": 11,
   "metadata": {},
   "outputs": [],
   "source": [
    "from typing import Optional\n",
    "class Solution:\n",
    "    def reverseList(self, head: Optional[ListNode]) -> Optional[ListNode]:\n",
    "        # 初始化前一個節點為 None\n",
    "        previous = None\n",
    "        # print(f\"init: {head = }\")\n",
    "        # print(f\"init: {previous = }\")\n",
    "\n",
    "        # 當前節點存在時，迴圈繼續\n",
    "        while head: # time: O(n)\n",
    "            # print(\"-\" * 150)\n",
    "\n",
    "            # 保存當前節點的下一個節點\n",
    "            next_tmp = head.next\n",
    "            # print(f\"{next_tmp = }\")\n",
    "\n",
    "            # 將當前節點的下一個指針指向前一個節點，實現反轉\n",
    "            head.next = previous\n",
    "            # print(f\"{head = }\")\n",
    "\n",
    "            # 將前一個節點移到當前節點\n",
    "            previous = head\n",
    "            # print(f\"{previous = }\")\n",
    "\n",
    "            # 將當前節點移到下一個節點\n",
    "            head = next_tmp\n",
    "            # print(f\"{head = }\")\n",
    "\n",
    "        return previous\n"
   ]
  },
  {
   "cell_type": "code",
   "execution_count": 12,
   "metadata": {},
   "outputs": [
    {
     "name": "stdout",
     "output_type": "stream",
     "text": [
      "5 4 3 2 1 "
     ]
    }
   ],
   "source": [
    "result = Solution().reverseList(head)\n",
    "while result:\n",
    "    print(result.val, end = ' ')\n",
    "    result = result.next"
   ]
  },
  {
   "cell_type": "code",
   "execution_count": 13,
   "metadata": {},
   "outputs": [],
   "source": [
    "# init: head = ListNode{val: 1, next: ListNode{val: 2, next: ListNode{val: 3, next: ListNode{val: 4, next: ListNode{val: 5, next: None}}}}}\n",
    "# init: previous = None\n",
    "# ------------------------------------------------------------------------------------------------------------------------------------------------------\n",
    "# next_tmp = ListNode{val: 2, next: ListNode{val: 3, next: ListNode{val: 4, next: ListNode{val: 5, next: None}}}}\n",
    "# head = ListNode{val: 1, next: None}\n",
    "# previous = ListNode{val: 1, next: None}\n",
    "# head = ListNode{val: 2, next: ListNode{val: 3, next: ListNode{val: 4, next: ListNode{val: 5, next: None}}}}\n",
    "# ------------------------------------------------------------------------------------------------------------------------------------------------------\n",
    "# next_tmp = ListNode{val: 3, next: ListNode{val: 4, next: ListNode{val: 5, next: None}}}\n",
    "# head = ListNode{val: 2, next: ListNode{val: 1, next: None}}\n",
    "# previous = ListNode{val: 2, next: ListNode{val: 1, next: None}}\n",
    "# head = ListNode{val: 3, next: ListNode{val: 4, next: ListNode{val: 5, next: None}}}\n",
    "# ------------------------------------------------------------------------------------------------------------------------------------------------------\n",
    "# next_tmp = ListNode{val: 4, next: ListNode{val: 5, next: None}}\n",
    "# head = ListNode{val: 3, next: ListNode{val: 2, next: ListNode{val: 1, next: None}}}\n",
    "# previous = ListNode{val: 3, next: ListNode{val: 2, next: ListNode{val: 1, next: None}}}\n",
    "# head = ListNode{val: 4, next: ListNode{val: 5, next: None}}\n",
    "# ------------------------------------------------------------------------------------------------------------------------------------------------------\n",
    "# next_tmp = ListNode{val: 5, next: None}\n",
    "# head = ListNode{val: 4, next: ListNode{val: 3, next: ListNode{val: 2, next: ListNode{val: 1, next: None}}}}\n",
    "# previous = ListNode{val: 4, next: ListNode{val: 3, next: ListNode{val: 2, next: ListNode{val: 1, next: None}}}}\n",
    "# head = ListNode{val: 5, next: None}\n",
    "# ------------------------------------------------------------------------------------------------------------------------------------------------------\n",
    "# next_tmp = None\n",
    "# head = ListNode{val: 5, next: ListNode{val: 4, next: ListNode{val: 3, next: ListNode{val: 2, next: ListNode{val: 1, next: None}}}}}\n",
    "# previous = ListNode{val: 5, next: ListNode{val: 4, next: ListNode{val: 3, next: ListNode{val: 2, next: ListNode{val: 1, next: None}}}}}\n",
    "# head = None"
   ]
  },
  {
   "cell_type": "markdown",
   "metadata": {},
   "source": [
    "### recursion"
   ]
  },
  {
   "cell_type": "markdown",
   "metadata": {},
   "source": [
    "* 時間複雜度: O( $n$ )\n",
    "* 空間複雜度: O( $n$ )\n",
    "\n",
    "每個節點都被調用一次，所以時間複雜度為 O( $n$ )  \n",
    "空間複雜度為遞迴調用棧深度，所以為 O( $n$ )"
   ]
  },
  {
   "cell_type": "code",
   "execution_count": 14,
   "metadata": {},
   "outputs": [],
   "source": [
    "head = ListNode(\n",
    "    val = 1,\n",
    "    next = ListNode(\n",
    "        val = 2,\n",
    "        next = ListNode(\n",
    "            val = 3,\n",
    "            next = ListNode(\n",
    "                val = 4,\n",
    "                next = ListNode(\n",
    "                    val = 5,\n",
    "                    next = None\n",
    "                )\n",
    "            )\n",
    "        )\n",
    "    )\n",
    ")\n",
    "# [1,2,3,4,5]"
   ]
  },
  {
   "cell_type": "code",
   "execution_count": 15,
   "metadata": {},
   "outputs": [],
   "source": [
    "from typing import Optional\n",
    "\n",
    "class Solution:\n",
    "    def reverseList(self, head: Optional[ListNode]) -> Optional[ListNode]:\n",
    "        # print(f\"{head=}\")\n",
    "\n",
    "        # 如果鏈表為空或只有一個節點，直接返回\n",
    "        if not head or not head.next:\n",
    "            # print(f\"** 當前 reversed_list = head({head})，但 head 修改時 reversed_list 始終握著 node({head.val}) **\") if head else \"\"\n",
    "            # print(\"-\" * 100)\n",
    "            return head\n",
    "\n",
    "        # 遞迴調用，反轉剩餘部分\n",
    "        reversed_list = self.reverseList(head.next)\n",
    "        # print(f\"{head=}\\n{reversed_list=}\\n\")\n",
    "\n",
    "        # 將當前節點接到反轉後的鏈表末尾(形成 cycle)\n",
    "        # ex: head: 4 -> \"5\" -> 4 -> cycle(5,4)；reversed_list: \"5\" -> 4 -> cycle(5,4)\n",
    "        # ex: head: 3 -> \"4\" -> 3 -> cycle(4,3)；reversed_list: 5 -> \"4\" -> -> 3 -> cycle(4,3)\n",
    "        # ex: head: 2 -> \"3\" -> 2 -> cycle(3,2)；reversed_list: 5 -> 4 -> -> \"3\" -> 2 -> cycle(3,2)\n",
    "        # ex: head: 1 -> \"2\" -> 1 -> cycle(2,1)；reversed_list: 5 -> 4 -> -> 3 -> \"2\" -> 1 -> cycle(2,1)\n",
    "        # print(f\"add {head.val} to end and become cycle\")\n",
    "        head.next.next = head\n",
    "        # print(f\"{head=}\\n{reversed_list=}\\n\")\n",
    "\n",
    "        # 切斷舊的連接(切斷 cycle)\n",
    "        # ex: head: 4 -> None、\"5\" -> 4 -> None；reversed_list: \"5\" -> 4 -> None\n",
    "        # ex: head: 3 -> None、\"4\" -> 3 -> None；reversed_list: 5 -> \"4\" -> 3 -> None\n",
    "        # ex: head: 2 -> None、\"3\" -> 2 -> None；reversed_list: 5 -> 4 -> \"3\" -> 2 -> None\n",
    "        # ex: head: 1 -> None、\"2\" -> 1 -> None；reversed_list: 5 -> 4 -> 3 -> \"2\" -> 1 -> None\n",
    "        # print(f\"cut cycle\")\n",
    "        head.next = None\n",
    "        # print(f\"{head=}\\n{reversed_list=}\\n\")\n",
    "        # print(\"-\" * 100)\n",
    "\n",
    "        return reversed_list\n"
   ]
  },
  {
   "cell_type": "code",
   "execution_count": 16,
   "metadata": {},
   "outputs": [
    {
     "name": "stdout",
     "output_type": "stream",
     "text": [
      "5 4 3 2 1 "
     ]
    }
   ],
   "source": [
    "result = Solution().reverseList(head)\n",
    "while result:\n",
    "    print(result.val, end = ' ')\n",
    "    result = result.next"
   ]
  }
 ],
 "metadata": {
  "kernelspec": {
   "display_name": ".venv",
   "language": "python",
   "name": "python3"
  },
  "language_info": {
   "codemirror_mode": {
    "name": "ipython",
    "version": 3
   },
   "file_extension": ".py",
   "mimetype": "text/x-python",
   "name": "python",
   "nbconvert_exporter": "python",
   "pygments_lexer": "ipython3",
   "version": "3.11.2"
  },
  "orig_nbformat": 4
 },
 "nbformat": 4,
 "nbformat_minor": 2
}
