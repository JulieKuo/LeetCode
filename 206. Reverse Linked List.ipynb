{
 "cells": [
  {
   "cell_type": "markdown",
   "metadata": {},
   "source": [
    "### 206. Reverse Linked List"
   ]
  },
  {
   "cell_type": "code",
   "execution_count": 1,
   "metadata": {},
   "outputs": [],
   "source": [
    "# Definition for singly-linked list.\n",
    "class ListNode:\n",
    "    def __init__(self, val=0, next=None):\n",
    "        self.val = val\n",
    "        self.next = next"
   ]
  },
  {
   "cell_type": "markdown",
   "metadata": {},
   "source": [
    "* 時間複雜度: O( $n$ )\n",
    "* 空間複雜度: O( $1$ )"
   ]
  },
  {
   "cell_type": "code",
   "execution_count": 2,
   "metadata": {},
   "outputs": [],
   "source": [
    "head = ListNode(\n",
    "    val = 1,\n",
    "    next = ListNode(\n",
    "        val = 2,\n",
    "        next = ListNode(\n",
    "            val = 3,\n",
    "            next = ListNode(\n",
    "                val = 4,\n",
    "                next = ListNode(\n",
    "                    val = 5,\n",
    "                    next = None\n",
    "                )\n",
    "            )\n",
    "        )\n",
    "    )\n",
    ")\n",
    "# [1,2,3,4,5]"
   ]
  },
  {
   "cell_type": "code",
   "execution_count": 3,
   "metadata": {},
   "outputs": [],
   "source": [
    "from typing import Optional\n",
    "class Solution:\n",
    "    def reverseList(self, head: Optional[ListNode]) -> Optional[ListNode]:\n",
    "        # 初始化前一個節點為 None\n",
    "        previous = None\n",
    "        # print(f\"init: {head = }\")\n",
    "        # print(f\"init: {previous = }\")\n",
    "\n",
    "        # 當前節點存在時，迴圈繼續\n",
    "        while head: # time: O(n)\n",
    "            # print(\"-\" * 150)\n",
    "\n",
    "            # 保存當前節點的下一個節點\n",
    "            next_tmp = head.next\n",
    "            # print(f\"{next_tmp = }\")\n",
    "\n",
    "            # 將當前節點的下一個指針指向前一個節點，實現反轉\n",
    "            head.next = previous\n",
    "            # print(f\"{head = }\")\n",
    "\n",
    "            # 將前一個節點移到當前節點\n",
    "            previous = head\n",
    "            # print(f\"{previous = }\")\n",
    "\n",
    "            # 將當前節點移到下一個節點\n",
    "            head = next_tmp\n",
    "            # print(f\"{head = }\")\n",
    "\n",
    "        return previous\n"
   ]
  },
  {
   "cell_type": "code",
   "execution_count": 4,
   "metadata": {},
   "outputs": [
    {
     "name": "stdout",
     "output_type": "stream",
     "text": [
      "5 4 3 2 1 "
     ]
    }
   ],
   "source": [
    "result = Solution().reverseList(head)\n",
    "while result:\n",
    "    print(result.val, end = ' ')\n",
    "    result = result.next"
   ]
  },
  {
   "cell_type": "code",
   "execution_count": 5,
   "metadata": {},
   "outputs": [],
   "source": [
    "# init: head = ListNode{val: 1, next: ListNode{val: 2, next: ListNode{val: 3, next: ListNode{val: 4, next: ListNode{val: 5, next: None}}}}}\n",
    "# init: previous = None\n",
    "# ------------------------------------------------------------------------------------------------------------------------------------------------------\n",
    "# next_tmp = ListNode{val: 2, next: ListNode{val: 3, next: ListNode{val: 4, next: ListNode{val: 5, next: None}}}}\n",
    "# head = ListNode{val: 1, next: None}\n",
    "# previous = ListNode{val: 1, next: None}\n",
    "# head = ListNode{val: 2, next: ListNode{val: 3, next: ListNode{val: 4, next: ListNode{val: 5, next: None}}}}\n",
    "# ------------------------------------------------------------------------------------------------------------------------------------------------------\n",
    "# next_tmp = ListNode{val: 3, next: ListNode{val: 4, next: ListNode{val: 5, next: None}}}\n",
    "# head = ListNode{val: 2, next: ListNode{val: 1, next: None}}\n",
    "# previous = ListNode{val: 2, next: ListNode{val: 1, next: None}}\n",
    "# head = ListNode{val: 3, next: ListNode{val: 4, next: ListNode{val: 5, next: None}}}\n",
    "# ------------------------------------------------------------------------------------------------------------------------------------------------------\n",
    "# next_tmp = ListNode{val: 4, next: ListNode{val: 5, next: None}}\n",
    "# head = ListNode{val: 3, next: ListNode{val: 2, next: ListNode{val: 1, next: None}}}\n",
    "# previous = ListNode{val: 3, next: ListNode{val: 2, next: ListNode{val: 1, next: None}}}\n",
    "# head = ListNode{val: 4, next: ListNode{val: 5, next: None}}\n",
    "# ------------------------------------------------------------------------------------------------------------------------------------------------------\n",
    "# next_tmp = ListNode{val: 5, next: None}\n",
    "# head = ListNode{val: 4, next: ListNode{val: 3, next: ListNode{val: 2, next: ListNode{val: 1, next: None}}}}\n",
    "# previous = ListNode{val: 4, next: ListNode{val: 3, next: ListNode{val: 2, next: ListNode{val: 1, next: None}}}}\n",
    "# head = ListNode{val: 5, next: None}\n",
    "# ------------------------------------------------------------------------------------------------------------------------------------------------------\n",
    "# next_tmp = None\n",
    "# head = ListNode{val: 5, next: ListNode{val: 4, next: ListNode{val: 3, next: ListNode{val: 2, next: ListNode{val: 1, next: None}}}}}\n",
    "# previous = ListNode{val: 5, next: ListNode{val: 4, next: ListNode{val: 3, next: ListNode{val: 2, next: ListNode{val: 1, next: None}}}}}\n",
    "# head = None"
   ]
  },
  {
   "cell_type": "markdown",
   "metadata": {},
   "source": [
    "* 時間複雜度: O($n$)\n",
    "* 空間複雜度: O($n$)"
   ]
  },
  {
   "cell_type": "code",
   "execution_count": 6,
   "metadata": {},
   "outputs": [],
   "source": [
    "head = ListNode(\n",
    "    val = 1,\n",
    "    next = ListNode(\n",
    "        val = 2,\n",
    "        next = ListNode(\n",
    "            val = 3,\n",
    "            next = ListNode(\n",
    "                val = 4,\n",
    "                next = ListNode(\n",
    "                    val = 5,\n",
    "                    next = None\n",
    "                )\n",
    "            )\n",
    "        )\n",
    "    )\n",
    ")\n",
    "# [1,2,3,4,5]"
   ]
  },
  {
   "cell_type": "code",
   "execution_count": 7,
   "metadata": {},
   "outputs": [],
   "source": [
    "from typing import Optional\n",
    "class Solution:\n",
    "    def reverseList(self, head: Optional[ListNode]) -> Optional[ListNode]:\n",
    "        # 初始化結果鏈結串列的頭部為空\n",
    "        result = None  # space: O(n)\n",
    "        \n",
    "        # 當前指標遍歷整個原始鏈結串列\n",
    "        while head: # time: O(n)\n",
    "            # 創建一個新的節點，其值為當前節點的值，下一個節點指向結果鏈結串列的頭部\n",
    "            result = ListNode(head.val, result)\n",
    "            # 將原始鏈結串列的頭部移到下一個節點\n",
    "            head = head.next\n",
    "            # print(f\"{result = }\\n{head = }\")\n",
    "\n",
    "        # 返回反轉後的鏈結串列的頭部\n",
    "        return result"
   ]
  },
  {
   "cell_type": "code",
   "execution_count": 8,
   "metadata": {},
   "outputs": [
    {
     "name": "stdout",
     "output_type": "stream",
     "text": [
      "5 4 3 2 1 "
     ]
    }
   ],
   "source": [
    "result = Solution().reverseList(head)\n",
    "while result:\n",
    "    print(result.val, end = ' ')\n",
    "    result = result.next"
   ]
  },
  {
   "cell_type": "code",
   "execution_count": 9,
   "metadata": {},
   "outputs": [],
   "source": [
    "# result = ListNode{val: 1, next: None}\n",
    "# head = ListNode{val: 2, next: ListNode{val: 3, next: ListNode{val: 4, next: ListNode{val: 5, next: None}}}}\n",
    "# ----------------------------------------------------------------------------------------------------\n",
    "# result = ListNode{val: 2, next: ListNode{val: 1, next: None}}\n",
    "# head = ListNode{val: 3, next: ListNode{val: 4, next: ListNode{val: 5, next: None}}}\n",
    "# ----------------------------------------------------------------------------------------------------\n",
    "# result = ListNode{val: 3, next: ListNode{val: 2, next: ListNode{val: 1, next: None}}}\n",
    "# head = ListNode{val: 4, next: ListNode{val: 5, next: None}}\n",
    "# ----------------------------------------------------------------------------------------------------\n",
    "# result = ListNode{val: 4, next: ListNode{val: 3, next: ListNode{val: 2, next: ListNode{val: 1, next: None}}}}\n",
    "# head = ListNode{val: 5, next: None}\n",
    "# ----------------------------------------------------------------------------------------------------\n",
    "# result = ListNode{val: 5, next: ListNode{val: 4, next: ListNode{val: 3, next: ListNode{val: 2, next: ListNode{val: 1, next: None}}}}}\n",
    "# head = None\n",
    "# ----------------------------------------------------------------------------------------------------"
   ]
  }
 ],
 "metadata": {
  "kernelspec": {
   "display_name": ".venv",
   "language": "python",
   "name": "python3"
  },
  "language_info": {
   "codemirror_mode": {
    "name": "ipython",
    "version": 3
   },
   "file_extension": ".py",
   "mimetype": "text/x-python",
   "name": "python",
   "nbconvert_exporter": "python",
   "pygments_lexer": "ipython3",
   "version": "3.11.2"
  },
  "orig_nbformat": 4
 },
 "nbformat": 4,
 "nbformat_minor": 2
}
