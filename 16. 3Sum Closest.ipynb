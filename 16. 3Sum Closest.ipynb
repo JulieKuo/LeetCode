{
 "cells": [
  {
   "cell_type": "markdown",
   "metadata": {},
   "source": [
    "### 16. 3Sum Closest"
   ]
  },
  {
   "cell_type": "code",
   "execution_count": 1,
   "metadata": {},
   "outputs": [],
   "source": [
    "class Solution:\n",
    "    def threeSumClosest(self, nums, target):\n",
    "        nums.sort()\n",
    "        print(f\"nums = {nums}, target = {target}\")\n",
    "\n",
    "\n",
    "        min_diff = None\n",
    "        closet_array = None\n",
    "        for i in range(len(nums)):\n",
    "            print(f\"{'-'*100}\")\n",
    "            left = i + 1\n",
    "            right = len(nums) - 1\n",
    "            print(f\"i = {i}, left = {left}, right = {right}\")\n",
    "            \n",
    "            while left < right:\n",
    "                total = (nums[i] + nums[left] + nums[right])\n",
    "                print(f\"\\noriginal: i = {i}, left = {left}, right = {right}\")\n",
    "                print(f\"nums[i]({nums[i]}) + nums[left]({nums[left]}) + nums[right]({nums[right]}) = {total} = total\")\n",
    "                temp_diff = abs(total - target) # 該組合與target的絕對差\n",
    "\n",
    "                if (not min_diff) or (temp_diff < min_diff): # min_diff為None時無法和數字做比較，需設一個not min_diff來直接進入\n",
    "                    closet_array = total\n",
    "                    min_diff = temp_diff\n",
    "                    print(f\"closet_array = {closet_array}, min_diff = {min_diff}\")\n",
    "\n",
    "                if total == target:\n",
    "                    print(f\"closet_array = {closet_array}\")\n",
    "                    return closet_array\n",
    "\n",
    "                elif total < target:\n",
    "                    left += 1\n",
    "                    print(f\"total < 0, new: i = {i}, left = {left}, right = {right}\")\n",
    "\n",
    "                else:\n",
    "                    right -= 1\n",
    "                    print(f\"total > 0, new: i = {i}, left = {left}, right = {right}\")\n",
    "\n",
    "        return closet_array"
   ]
  },
  {
   "cell_type": "code",
   "execution_count": 2,
   "metadata": {},
   "outputs": [
    {
     "name": "stdout",
     "output_type": "stream",
     "text": [
      "nums = [-4, -1, 1, 2], target = 1\n",
      "----------------------------------------------------------------------------------------------------\n",
      "i = 0, left = 1, right = 3\n",
      "\n",
      "original: i = 0, left = 1, right = 3\n",
      "nums[i](-4) + nums[left](-1) + nums[right](2) = -3 = total\n",
      "closet_array = -3, min_diff = 4\n",
      "total < 0, new: i = 0, left = 2, right = 3\n",
      "\n",
      "original: i = 0, left = 2, right = 3\n",
      "nums[i](-4) + nums[left](1) + nums[right](2) = -1 = total\n",
      "closet_array = -1, min_diff = 2\n",
      "total < 0, new: i = 0, left = 3, right = 3\n",
      "----------------------------------------------------------------------------------------------------\n",
      "i = 1, left = 2, right = 3\n",
      "\n",
      "original: i = 1, left = 2, right = 3\n",
      "nums[i](-1) + nums[left](1) + nums[right](2) = 2 = total\n",
      "closet_array = 2, min_diff = 1\n",
      "total > 0, new: i = 1, left = 2, right = 2\n",
      "----------------------------------------------------------------------------------------------------\n",
      "i = 2, left = 3, right = 3\n",
      "----------------------------------------------------------------------------------------------------\n",
      "i = 3, left = 4, right = 3\n"
     ]
    },
    {
     "data": {
      "text/plain": [
       "2"
      ]
     },
     "execution_count": 2,
     "metadata": {},
     "output_type": "execute_result"
    }
   ],
   "source": [
    "nums = [-1,2,1,-4]\n",
    "target = 1\n",
    "Solution().threeSumClosest(nums, target)"
   ]
  }
 ],
 "metadata": {
  "kernelspec": {
   "display_name": ".venv",
   "language": "python",
   "name": "python3"
  },
  "language_info": {
   "codemirror_mode": {
    "name": "ipython",
    "version": 3
   },
   "file_extension": ".py",
   "mimetype": "text/x-python",
   "name": "python",
   "nbconvert_exporter": "python",
   "pygments_lexer": "ipython3",
   "version": "3.8.10"
  },
  "orig_nbformat": 4
 },
 "nbformat": 4,
 "nbformat_minor": 2
}
