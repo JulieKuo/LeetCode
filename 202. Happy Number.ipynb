{
 "cells": [
  {
   "cell_type": "markdown",
   "metadata": {},
   "source": [
    "### 202. Happy Number"
   ]
  },
  {
   "cell_type": "markdown",
   "metadata": {},
   "source": [
    "* 時間複雜度: O( $k ⋅ log (n)$ )\n",
    "* 空間複雜度: O( $1$ )"
   ]
  },
  {
   "cell_type": "markdown",
   "metadata": {},
   "source": [
    "整體迭代的次數($k$)與輸入大小($n$)無關 - 「平方和」會快速減小\n",
    "\n",
    "如果 $n$ 的位數為 $d$，每一位數字的最大值為 9，每位的平方最大是 $9^2$ = 81，則平方和的最大值為 $81 * d$  \n",
    "  \n",
    "若 $n = 2147483647$  \n",
    "$d=[\\log_{10}2147483647]+1=10$, 最大平方和為 $81 * 10 = 810$\n",
    "\n",
    "若 $n = 810$  \n",
    "$d=[\\log_{10}810]+1=3$, 最大平方和為 $81 * 3 = 243$  \n",
    "  \n",
    "若 $n = 243$  \n",
    "$d=[\\log_{10}243]+1=3$, 最大平方和為 $81 * 3 = 243$  \n",
    "\n",
    "數值會迅速落入一個小範圍，最終落在[1, 234]"
   ]
  },
  {
   "cell_type": "code",
   "execution_count": 1,
   "metadata": {},
   "outputs": [],
   "source": [
    "class Solution:\n",
    "    def isHappy(self, n: int) -> bool:\n",
    "        # 初始化慢指針與快指針\n",
    "        slow = n # space: O(1)\n",
    "        print(f\"<< fast >>\")\n",
    "        fast = self.get_next(n)  # 快指針先計算一次下一數字 # space: O(1)\n",
    "        print(f\"{slow=}, {fast=}\\n\")\n",
    "\n",
    "        # 當快指針不是 1 且快慢指針未相遇時，繼續迭代\n",
    "        while fast != 1 and fast != slow: # time: O(k log n)\n",
    "            print(f\"<< slow >>\")\n",
    "            slow = self.get_next(slow)  # 慢指針移動一步\n",
    "\n",
    "            print(f\"<< fast >>\")\n",
    "            fast = self.get_next(self.get_next(fast))  # 快指針移動兩步\n",
    "\n",
    "            print(f\"{slow=}, {fast=}\\n\")            \n",
    "\n",
    "        # 如果快指針到達 1，返回 True；否則進入循環，返回 False\n",
    "        return fast == 1\n",
    "\n",
    "    def get_next(self, num): # time: O(log n)\n",
    "        print(f\"{num=}\")\n",
    "        total = 0  # 初始化平方和\n",
    "        for digit in str(num): # time: O(log n) # 數字 num 的位數約為 [log10(num)] + 1, ex: [log10(1000)] + 1 -> 3+1=4\n",
    "            total += int(digit) ** 2  # 將每位數字平方後累加\n",
    "            print(f\"{digit=}, {total=}\")\n",
    "\n",
    "        return total  # 返回平方和作為下一個數字"
   ]
  },
  {
   "cell_type": "code",
   "execution_count": 2,
   "metadata": {},
   "outputs": [
    {
     "name": "stdout",
     "output_type": "stream",
     "text": [
      "<< fast >>\n",
      "num=19\n",
      "digit='1', total=1\n",
      "digit='9', total=82\n",
      "slow=19, fast=82\n",
      "\n",
      "<< slow >>\n",
      "num=19\n",
      "digit='1', total=1\n",
      "digit='9', total=82\n",
      "<< fast >>\n",
      "num=82\n",
      "digit='8', total=64\n",
      "digit='2', total=68\n",
      "num=68\n",
      "digit='6', total=36\n",
      "digit='8', total=100\n",
      "slow=82, fast=100\n",
      "\n",
      "<< slow >>\n",
      "num=82\n",
      "digit='8', total=64\n",
      "digit='2', total=68\n",
      "<< fast >>\n",
      "num=100\n",
      "digit='1', total=1\n",
      "digit='0', total=1\n",
      "digit='0', total=1\n",
      "num=1\n",
      "digit='1', total=1\n",
      "slow=68, fast=1\n",
      "\n"
     ]
    },
    {
     "data": {
      "text/plain": [
       "True"
      ]
     },
     "execution_count": 2,
     "metadata": {},
     "output_type": "execute_result"
    }
   ],
   "source": [
    "n = 19\n",
    "Solution().isHappy(n) # True"
   ]
  },
  {
   "cell_type": "code",
   "execution_count": null,
   "metadata": {},
   "outputs": [],
   "source": []
  }
 ],
 "metadata": {
  "kernelspec": {
   "display_name": "Python 3",
   "language": "python",
   "name": "python3"
  },
  "language_info": {
   "codemirror_mode": {
    "name": "ipython",
    "version": 3
   },
   "file_extension": ".py",
   "mimetype": "text/x-python",
   "name": "python",
   "nbconvert_exporter": "python",
   "pygments_lexer": "ipython3",
   "version": "3.12.7"
  }
 },
 "nbformat": 4,
 "nbformat_minor": 2
}
