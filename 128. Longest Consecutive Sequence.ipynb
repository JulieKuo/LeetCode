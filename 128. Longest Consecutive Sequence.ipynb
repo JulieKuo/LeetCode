{
 "cells": [
  {
   "cell_type": "markdown",
   "metadata": {},
   "source": [
    "# 128. Longest Consecutive Sequence"
   ]
  },
  {
   "cell_type": "markdown",
   "metadata": {},
   "source": [
    "## Hash Map"
   ]
  },
  {
   "cell_type": "markdown",
   "metadata": {},
   "source": [
    "**時間複雜度: O( $n$ )**  \n",
    "**空間複雜度: O( $n$ )**"
   ]
  },
  {
   "cell_type": "markdown",
   "metadata": {},
   "source": [
    "邊界合併法在實務上可能略快於 Set 起點法"
   ]
  },
  {
   "cell_type": "code",
   "execution_count": 1,
   "metadata": {},
   "outputs": [],
   "source": [
    "from typing import List\n",
    "from collections import defaultdict\n",
    "\n",
    "class Solution:\n",
    "    def longestConsecutive(self, nums: List[int]) -> int:\n",
    "        length_map = defaultdict(int) # space: O(n)\n",
    "        max_length = 0\n",
    "\n",
    "        for num in nums: # time: O(n)\n",
    "            # 如果 num 不在 num_dict\n",
    "            if not length_map[num]:\n",
    "                # 插入新數字 num ， 並合併相鄰的左右區間\n",
    "                print(f\"Processing number: {num}\")\n",
    "                print(f\"num_dict[{num}] = (num_dict[{num - 1}] = {length_map[num - 1]}) + 1 + (num_dict[{num + 1}] = {length_map[num + 1]})\")\n",
    "                length_map[num] = length_map[num - 1] + 1 + length_map[num + 1]\n",
    "\n",
    "                # 獲取左右區間的長度\n",
    "                left_gap = length_map[num - 1]\n",
    "                right_gap = length_map[num + 1]\n",
    "                print(f\"left_gap = {left_gap}, right_gap = {right_gap}\")\n",
    "\n",
    "                # 更新左右邊界的長度，不須更新中間區間，因為不會再被訪問\n",
    "                length_map[num - left_gap] = length_map[num]\n",
    "                length_map[num + right_gap] = length_map[num]\n",
    "                print(f\"left board:  num_dict[{num} - {left_gap}] = num_dict[{num - left_gap}] = {length_map[num]}\")\n",
    "                print(f\"right borad: num_dict[{num} + {right_gap}] = num_dict[{num + right_gap}] = {length_map[num]}\")\n",
    "\n",
    "                # 更新最大長度\n",
    "                max_length = max(max_length, length_map[num])\n",
    "                print(f\"max_length = {max_length}\")\n",
    "                print(f\"num_dict = {dict(length_map)}\\n\")\n",
    "\n",
    "        return max_length"
   ]
  },
  {
   "cell_type": "code",
   "execution_count": 2,
   "metadata": {},
   "outputs": [
    {
     "name": "stdout",
     "output_type": "stream",
     "text": [
      "Processing number: 1\n",
      "num_dict[1] = (num_dict[0] = 0) + 1 + (num_dict[2] = 0)\n",
      "left_gap = 0, right_gap = 0\n",
      "left board:  num_dict[1 - 0] = num_dict[1] = 1\n",
      "right borad: num_dict[1 + 0] = num_dict[1] = 1\n",
      "max_length = 1\n",
      "num_dict = {1: 1, 0: 0, 2: 0}\n",
      "\n",
      "Processing number: 4\n",
      "num_dict[4] = (num_dict[3] = 0) + 1 + (num_dict[5] = 0)\n",
      "left_gap = 0, right_gap = 0\n",
      "left board:  num_dict[4 - 0] = num_dict[4] = 1\n",
      "right borad: num_dict[4 + 0] = num_dict[4] = 1\n",
      "max_length = 1\n",
      "num_dict = {1: 1, 0: 0, 2: 0, 4: 1, 3: 0, 5: 0}\n",
      "\n",
      "Processing number: 3\n",
      "num_dict[3] = (num_dict[2] = 0) + 1 + (num_dict[4] = 1)\n",
      "left_gap = 0, right_gap = 1\n",
      "left board:  num_dict[3 - 0] = num_dict[3] = 2\n",
      "right borad: num_dict[3 + 1] = num_dict[4] = 2\n",
      "max_length = 2\n",
      "num_dict = {1: 1, 0: 0, 2: 0, 4: 2, 3: 2, 5: 0}\n",
      "\n",
      "Processing number: 5\n",
      "num_dict[5] = (num_dict[4] = 2) + 1 + (num_dict[6] = 0)\n",
      "left_gap = 2, right_gap = 0\n",
      "left board:  num_dict[5 - 2] = num_dict[3] = 3\n",
      "right borad: num_dict[5 + 0] = num_dict[5] = 3\n",
      "max_length = 3\n",
      "num_dict = {1: 1, 0: 0, 2: 0, 4: 2, 3: 3, 5: 3, 6: 0}\n",
      "\n",
      "Processing number: 2\n",
      "num_dict[2] = (num_dict[1] = 1) + 1 + (num_dict[3] = 3)\n",
      "left_gap = 1, right_gap = 3\n",
      "left board:  num_dict[2 - 1] = num_dict[1] = 5\n",
      "right borad: num_dict[2 + 3] = num_dict[5] = 5\n",
      "max_length = 5\n",
      "num_dict = {1: 5, 0: 0, 2: 5, 4: 2, 3: 3, 5: 5, 6: 0}\n",
      "\n"
     ]
    },
    {
     "data": {
      "text/plain": [
       "5"
      ]
     },
     "execution_count": 2,
     "metadata": {},
     "output_type": "execute_result"
    }
   ],
   "source": [
    "nums = [1, 4, 3, 5, 2]\n",
    "# nums = [100,4,200,1,3,2]\n",
    "Solution().longestConsecutive(nums)"
   ]
  },
  {
   "cell_type": "markdown",
   "metadata": {},
   "source": [
    "## Hash Set"
   ]
  },
  {
   "cell_type": "markdown",
   "metadata": {},
   "source": [
    "**時間複雜度: O( $n$ )**  \n",
    "**空間複雜度: O( $n$ )**"
   ]
  },
  {
   "cell_type": "code",
   "execution_count": 3,
   "metadata": {},
   "outputs": [],
   "source": [
    "from typing import List\n",
    "\n",
    "class Solution:\n",
    "    def longestConsecutive(self, nums: List[int]) -> int:\n",
    "        # 將數字轉為 set，加快查找速度\n",
    "        num_set = set(nums) # space: O(n)\n",
    "        max_length = 0 \n",
    "        print(f\"{num_set=}\")\n",
    "\n",
    "        for num in num_set: # time: O(n)\n",
    "            print(f\"\\nchecking {num=}\")\n",
    "\n",
    "            # 只從序列起點開始找（前一個數不在 set 中，代表中間斷掉，重新計算）\n",
    "            if (num - 1) not in num_set:\n",
    "                current_num = num # 當前數字\n",
    "                current_length = 1 # 當前序列長度\n",
    "                print(f\"{num - 1} not in {num_set=}\")\n",
    "                print(f\"starting new sequence with {current_num=}, {current_length=}\")\n",
    "\n",
    "                # 往後找連續的數字\n",
    "                # 只要當前數字 + 1 在 set 中，就繼續往下找\n",
    "                # 否則就結束當前序列\n",
    "                while current_num + 1 in num_set:\n",
    "                    current_num += 1\n",
    "                    current_length += 1\n",
    "                    print(f\"{current_num} in {num_set=}\")\n",
    "                    print(f\"continuing sequence with {current_num=}, {current_length=}\")\n",
    "\n",
    "                # 更新最大序列長度\n",
    "                max_length = max(max_length, current_length)\n",
    "                print(f\"max_length updated to {max_length=}\")\n",
    "\n",
    "        return max_length\n"
   ]
  },
  {
   "cell_type": "code",
   "execution_count": 4,
   "metadata": {},
   "outputs": [
    {
     "name": "stdout",
     "output_type": "stream",
     "text": [
      "num_set={1, 2, 3, 100, 4, 200}\n",
      "\n",
      "checking num=1\n",
      "0 not in num_set={1, 2, 3, 100, 4, 200}\n",
      "starting new sequence with current_num=1, current_length=1\n",
      "2 in num_set={1, 2, 3, 100, 4, 200}\n",
      "continuing sequence with current_num=2, current_length=2\n",
      "3 in num_set={1, 2, 3, 100, 4, 200}\n",
      "continuing sequence with current_num=3, current_length=3\n",
      "4 in num_set={1, 2, 3, 100, 4, 200}\n",
      "continuing sequence with current_num=4, current_length=4\n",
      "max_length updated to max_length=4\n",
      "\n",
      "checking num=2\n",
      "\n",
      "checking num=3\n",
      "\n",
      "checking num=100\n",
      "99 not in num_set={1, 2, 3, 100, 4, 200}\n",
      "starting new sequence with current_num=100, current_length=1\n",
      "max_length updated to max_length=4\n",
      "\n",
      "checking num=4\n",
      "\n",
      "checking num=200\n",
      "199 not in num_set={1, 2, 3, 100, 4, 200}\n",
      "starting new sequence with current_num=200, current_length=1\n",
      "max_length updated to max_length=4\n"
     ]
    },
    {
     "data": {
      "text/plain": [
       "4"
      ]
     },
     "execution_count": 4,
     "metadata": {},
     "output_type": "execute_result"
    }
   ],
   "source": [
    "nums = [100,4,200,1,3,2]\n",
    "Solution().longestConsecutive(nums)"
   ]
  }
 ],
 "metadata": {
  "kernelspec": {
   "display_name": ".venv",
   "language": "python",
   "name": "python3"
  },
  "language_info": {
   "codemirror_mode": {
    "name": "ipython",
    "version": 3
   },
   "file_extension": ".py",
   "mimetype": "text/x-python",
   "name": "python",
   "nbconvert_exporter": "python",
   "pygments_lexer": "ipython3",
   "version": "3.11.11"
  },
  "orig_nbformat": 4,
  "vscode": {
   "interpreter": {
    "hash": "6a07fcf0145f94b3f971c13d061528107de20ab7b779375f96dab9bbac6a85db"
   }
  }
 },
 "nbformat": 4,
 "nbformat_minor": 2
}
