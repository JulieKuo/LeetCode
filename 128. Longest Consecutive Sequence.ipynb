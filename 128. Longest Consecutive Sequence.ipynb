{
 "cells": [
  {
   "cell_type": "markdown",
   "metadata": {},
   "source": [
    "# 128. Longest Consecutive Sequence"
   ]
  },
  {
   "cell_type": "markdown",
   "metadata": {},
   "source": [
    "**時間複雜度: O( $n$ )**  \n",
    "**空間複雜度: O( $n$ )**"
   ]
  },
  {
   "cell_type": "code",
   "execution_count": 1,
   "metadata": {},
   "outputs": [],
   "source": [
    "from typing import List\n",
    "\n",
    "class Solution:\n",
    "    def longestConsecutive(self, nums: List[int]) -> int:\n",
    "        # 將數字轉為 set，加快查找速度\n",
    "        num_set = set(nums) # space: O(n)\n",
    "        max_length = 0 \n",
    "        print(f\"{num_set=}\")\n",
    "\n",
    "        for num in num_set: # time: O(n)\n",
    "            print(f\"\\nchecking {num=}\")\n",
    "\n",
    "            # 只從序列起點開始找（前一個數不在 set 中，代表中間斷掉，重新計算）\n",
    "            if (num - 1) not in num_set:\n",
    "                current_num = num # 當前數字\n",
    "                current_length = 1 # 當前序列長度\n",
    "                print(f\"{num - 1} not in {num_set=}\")\n",
    "                print(f\"starting new sequence with {current_num=}, {current_length=}\")\n",
    "\n",
    "                # 往後找連續的數字\n",
    "                # 只要當前數字 + 1 在 set 中，就繼續往下找\n",
    "                # 否則就結束當前序列\n",
    "                while current_num + 1 in num_set:\n",
    "                    current_num += 1\n",
    "                    current_length += 1\n",
    "                    print(f\"{current_num} in {num_set=}\")\n",
    "                    print(f\"continuing sequence with {current_num=}, {current_length=}\")\n",
    "\n",
    "                # 更新最大序列長度\n",
    "                max_length = max(max_length, current_length)\n",
    "                print(f\"max_length updated to {max_length=}\")\n",
    "\n",
    "        return max_length\n"
   ]
  },
  {
   "cell_type": "code",
   "execution_count": 2,
   "metadata": {},
   "outputs": [
    {
     "name": "stdout",
     "output_type": "stream",
     "text": [
      "num_set={1, 2, 3, 100, 4, 200}\n",
      "\n",
      "checking num=1\n",
      "0 not in num_set={1, 2, 3, 100, 4, 200}\n",
      "starting new sequence with current_num=1, current_length=1\n",
      "2 in num_set={1, 2, 3, 100, 4, 200}\n",
      "continuing sequence with current_num=2, current_length=2\n",
      "3 in num_set={1, 2, 3, 100, 4, 200}\n",
      "continuing sequence with current_num=3, current_length=3\n",
      "4 in num_set={1, 2, 3, 100, 4, 200}\n",
      "continuing sequence with current_num=4, current_length=4\n",
      "max_length updated to max_length=4\n",
      "\n",
      "checking num=2\n",
      "\n",
      "checking num=3\n",
      "\n",
      "checking num=100\n",
      "99 not in num_set={1, 2, 3, 100, 4, 200}\n",
      "starting new sequence with current_num=100, current_length=1\n",
      "max_length updated to max_length=4\n",
      "\n",
      "checking num=4\n",
      "\n",
      "checking num=200\n",
      "199 not in num_set={1, 2, 3, 100, 4, 200}\n",
      "starting new sequence with current_num=200, current_length=1\n",
      "max_length updated to max_length=4\n"
     ]
    },
    {
     "data": {
      "text/plain": [
       "4"
      ]
     },
     "execution_count": 2,
     "metadata": {},
     "output_type": "execute_result"
    }
   ],
   "source": [
    "nums = [100,4,200,1,3,2]\n",
    "Solution().longestConsecutive(nums)"
   ]
  }
 ],
 "metadata": {
  "kernelspec": {
   "display_name": ".venv",
   "language": "python",
   "name": "python3"
  },
  "language_info": {
   "codemirror_mode": {
    "name": "ipython",
    "version": 3
   },
   "file_extension": ".py",
   "mimetype": "text/x-python",
   "name": "python",
   "nbconvert_exporter": "python",
   "pygments_lexer": "ipython3",
   "version": "3.11.11"
  },
  "orig_nbformat": 4,
  "vscode": {
   "interpreter": {
    "hash": "6a07fcf0145f94b3f971c13d061528107de20ab7b779375f96dab9bbac6a85db"
   }
  }
 },
 "nbformat": 4,
 "nbformat_minor": 2
}
