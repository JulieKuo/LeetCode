{
 "cells": [
  {
   "cell_type": "markdown",
   "metadata": {},
   "source": [
    "# 128. Longest Consecutive Sequence"
   ]
  },
  {
   "cell_type": "code",
   "execution_count": null,
   "metadata": {},
   "outputs": [],
   "source": [
    "class Solution:\n",
    "    def longestConsecutive(self, nums) -> int:\n",
    "        if not nums:\n",
    "            return 0\n",
    "\n",
    "        hashset = set(nums) # O(N)\n",
    "        visited = set()\n",
    "        current_max = 0\n",
    "        print(f\"nums: {nums}\")\n",
    "        print(f\"hashset: {hashset}\")\n",
    "        print(\"________________________________________________________________\")\n",
    "\n",
    "        for num in nums: # O(N)\n",
    "            print(f\"num: {num}, visited: {visited}\")\n",
    "            if num in visited: # O(1)\n",
    "                continue\n",
    "\n",
    "            cnt = 1\n",
    "            visited.add(num)\n",
    "            high, low = num+1, num-1\n",
    "            print(f\"high: {high}, low: {low}, hashset: {hashset}, count: {cnt}\")\n",
    "\n",
    "            while high in hashset:\n",
    "                print(f\"high: {high}, hashset: {hashset}, \", end = \"\")\n",
    "                visited.add(high)\n",
    "                high += 1\n",
    "                cnt += 1\n",
    "                print(f\"count: {cnt}\")\n",
    "\n",
    "            while low in hashset:\n",
    "                print(f\"low: {low}, hashset: {hashset}, \", end = \"\")\n",
    "                visited.add(low)\n",
    "                low -= 1\n",
    "                cnt += 1\n",
    "\n",
    "                print(f\"count: {cnt}\")\n",
    "\n",
    "            current_max = max(current_max, cnt)\n",
    "            \n",
    "            print(\"________________________________________________________________\")\n",
    "\n",
    "        return current_max"
   ]
  },
  {
   "cell_type": "code",
   "execution_count": null,
   "metadata": {},
   "outputs": [
    {
     "name": "stdout",
     "output_type": "stream",
     "text": [
      "nums: [100, 4, 200, 1, 3, 2, 201, 199, 202]\n",
      "hashset: {1, 2, 3, 100, 4, 199, 200, 201, 202}\n",
      "________________________________________________________________\n",
      "num: 100, visited: set()\n",
      "high: 101, low: 99, hashset: {1, 2, 3, 100, 4, 199, 200, 201, 202}, count: 1\n",
      "________________________________________________________________\n",
      "num: 4, visited: {100}\n",
      "high: 5, low: 3, hashset: {1, 2, 3, 100, 4, 199, 200, 201, 202}, count: 1\n",
      "low: 3, hashset: {1, 2, 3, 100, 4, 199, 200, 201, 202}, count: 2\n",
      "low: 2, hashset: {1, 2, 3, 100, 4, 199, 200, 201, 202}, count: 3\n",
      "low: 1, hashset: {1, 2, 3, 100, 4, 199, 200, 201, 202}, count: 4\n",
      "________________________________________________________________\n",
      "num: 200, visited: {1, 2, 3, 100, 4}\n",
      "high: 201, low: 199, hashset: {1, 2, 3, 100, 4, 199, 200, 201, 202}, count: 1\n",
      "high: 201, hashset: {1, 2, 3, 100, 4, 199, 200, 201, 202}, count: 2\n",
      "high: 202, hashset: {1, 2, 3, 100, 4, 199, 200, 201, 202}, count: 3\n",
      "low: 199, hashset: {1, 2, 3, 100, 4, 199, 200, 201, 202}, count: 4\n",
      "________________________________________________________________\n",
      "num: 1, visited: {1, 2, 3, 100, 4, 199, 200, 201, 202}\n",
      "num: 3, visited: {1, 2, 3, 100, 4, 199, 200, 201, 202}\n",
      "num: 2, visited: {1, 2, 3, 100, 4, 199, 200, 201, 202}\n",
      "num: 201, visited: {1, 2, 3, 100, 4, 199, 200, 201, 202}\n",
      "num: 199, visited: {1, 2, 3, 100, 4, 199, 200, 201, 202}\n",
      "num: 202, visited: {1, 2, 3, 100, 4, 199, 200, 201, 202}\n"
     ]
    },
    {
     "data": {
      "text/plain": [
       "4"
      ]
     },
     "metadata": {},
     "output_type": "display_data"
    }
   ],
   "source": [
    "nums = [100,4,200,1,3,2, 201, 199, 202]\n",
    "Solution().longestConsecutive(nums)"
   ]
  },
  {
   "cell_type": "code",
   "execution_count": 1,
   "metadata": {},
   "outputs": [],
   "source": [
    "class Solution:\n",
    "    def longestConsecutive(self, nums) -> int:\n",
    "        nums = sorted(set(nums))\n",
    "        print(nums)\n",
    "        \n",
    "        if len(nums) <= 1:\n",
    "            return len(nums)\n",
    "\n",
    "        start = nums[0]\n",
    "        count = 1\n",
    "        max_count = 1\n",
    "\n",
    "        for i in nums[1:]:\n",
    "            print(f\"\\ninit: num = {i}, start: {start}, count = {count}, max_count = {max_count}\")\n",
    "            if (start + 1) == i:\n",
    "                count += 1\n",
    "                start = i\n",
    "                max_count = max(max_count, count)\n",
    "            else:\n",
    "                start = i\n",
    "                count = 1\n",
    "            \n",
    "            print(f\"new: num = {i}, start: {start}, count = {count}, max_count = {max_count}\")\n",
    "    \n",
    "        return max_count"
   ]
  },
  {
   "cell_type": "code",
   "execution_count": 2,
   "metadata": {},
   "outputs": [
    {
     "name": "stdout",
     "output_type": "stream",
     "text": [
      "[1, 2, 3, 4, 100, 200]\n",
      "\n",
      "init: num = 2, start: 1, count = 1, max_count = 1\n",
      "new: num = 2, start: 2, count = 2, max_count = 2\n",
      "\n",
      "init: num = 3, start: 2, count = 2, max_count = 2\n",
      "new: num = 3, start: 3, count = 3, max_count = 3\n",
      "\n",
      "init: num = 4, start: 3, count = 3, max_count = 3\n",
      "new: num = 4, start: 4, count = 4, max_count = 4\n",
      "\n",
      "init: num = 100, start: 4, count = 4, max_count = 4\n",
      "new: num = 100, start: 100, count = 1, max_count = 4\n",
      "\n",
      "init: num = 200, start: 100, count = 1, max_count = 4\n",
      "new: num = 200, start: 200, count = 1, max_count = 4\n"
     ]
    },
    {
     "data": {
      "text/plain": [
       "4"
      ]
     },
     "execution_count": 2,
     "metadata": {},
     "output_type": "execute_result"
    }
   ],
   "source": [
    "nums = [100,4,200,1,3,2]\n",
    "Solution().longestConsecutive(nums)"
   ]
  }
 ],
 "metadata": {
  "kernelspec": {
   "display_name": ".venv",
   "language": "python",
   "name": "python3"
  },
  "language_info": {
   "codemirror_mode": {
    "name": "ipython",
    "version": 3
   },
   "file_extension": ".py",
   "mimetype": "text/x-python",
   "name": "python",
   "nbconvert_exporter": "python",
   "pygments_lexer": "ipython3",
   "version": "3.8.7"
  },
  "orig_nbformat": 4,
  "vscode": {
   "interpreter": {
    "hash": "6a07fcf0145f94b3f971c13d061528107de20ab7b779375f96dab9bbac6a85db"
   }
  }
 },
 "nbformat": 4,
 "nbformat_minor": 2
}
