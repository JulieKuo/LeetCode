{
 "cells": [
  {
   "cell_type": "markdown",
   "metadata": {},
   "source": [
    "## 895. Maximum Frequency Stack"
   ]
  },
  {
   "cell_type": "code",
   "execution_count": 1,
   "metadata": {},
   "outputs": [],
   "source": [
    "import heapq\n",
    "class FreqStack:\n",
    "\n",
    "    def __init__(self):\n",
    "        self.index = 0\n",
    "        self.val_freq = {}\n",
    "        self.heap = []\n",
    "\n",
    "    def push(self, val: int) -> None:\n",
    "        freq = self.val_freq.get(val, 0) + 1\n",
    "        self.val_freq[val] = freq\n",
    "\n",
    "        heapq.heappush(self.heap, [-freq, -self.index, val])\n",
    "        self.index += 1\n",
    "\n",
    "        print(\"<< push >>\")\n",
    "        print(f\"val_freq = {self.val_freq}\")\n",
    "        print(f\"heap = {self.heap}\\n\")\n",
    "\n",
    "    def pop(self) -> int:\n",
    "        _, _, val = heapq.heappop(self.heap)\n",
    "        self.val_freq[val] -= 1\n",
    "        \n",
    "        print(\"<< pop >>\")\n",
    "        print(f\"val_freq = {self.val_freq}\")\n",
    "        print(f\"heap = {self.heap}\")\n",
    "        print(f\"return {val}\\n\")\n",
    "        \n",
    "        return val"
   ]
  },
  {
   "cell_type": "code",
   "execution_count": 2,
   "metadata": {},
   "outputs": [
    {
     "name": "stdout",
     "output_type": "stream",
     "text": [
      "<< push >>\n",
      "val_freq = {5: 1}\n",
      "heap = [[-1, 0, 5]]\n",
      "\n",
      "<< push >>\n",
      "val_freq = {5: 1, 7: 1}\n",
      "heap = [[-1, -1, 7], [-1, 0, 5]]\n",
      "\n",
      "<< push >>\n",
      "val_freq = {5: 2, 7: 1}\n",
      "heap = [[-2, -2, 5], [-1, 0, 5], [-1, -1, 7]]\n",
      "\n",
      "<< push >>\n",
      "val_freq = {5: 2, 7: 2}\n",
      "heap = [[-2, -3, 7], [-2, -2, 5], [-1, -1, 7], [-1, 0, 5]]\n",
      "\n",
      "<< push >>\n",
      "val_freq = {5: 2, 7: 2, 4: 1}\n",
      "heap = [[-2, -3, 7], [-2, -2, 5], [-1, -1, 7], [-1, 0, 5], [-1, -4, 4]]\n",
      "\n",
      "<< push >>\n",
      "val_freq = {5: 3, 7: 2, 4: 1}\n",
      "heap = [[-3, -5, 5], [-2, -2, 5], [-2, -3, 7], [-1, 0, 5], [-1, -4, 4], [-1, -1, 7]]\n",
      "\n",
      "<< pop >>\n",
      "val_freq = {5: 2, 7: 2, 4: 1}\n",
      "heap = [[-2, -3, 7], [-2, -2, 5], [-1, -1, 7], [-1, 0, 5], [-1, -4, 4]]\n",
      "return 5\n",
      "\n",
      "<< pop >>\n",
      "val_freq = {5: 2, 7: 1, 4: 1}\n",
      "heap = [[-2, -2, 5], [-1, -4, 4], [-1, -1, 7], [-1, 0, 5]]\n",
      "return 7\n",
      "\n",
      "<< pop >>\n",
      "val_freq = {5: 1, 7: 1, 4: 1}\n",
      "heap = [[-1, -4, 4], [-1, 0, 5], [-1, -1, 7]]\n",
      "return 5\n",
      "\n",
      "<< pop >>\n",
      "val_freq = {5: 1, 7: 1, 4: 0}\n",
      "heap = [[-1, -1, 7], [-1, 0, 5]]\n",
      "return 4\n",
      "\n"
     ]
    },
    {
     "data": {
      "text/plain": [
       "4"
      ]
     },
     "execution_count": 2,
     "metadata": {},
     "output_type": "execute_result"
    }
   ],
   "source": [
    "freqStack = FreqStack()\n",
    "freqStack.push(5) # The stack is [5]\n",
    "freqStack.push(7) # The stack is [5,7]\n",
    "freqStack.push(5) # The stack is [5,7,5]\n",
    "freqStack.push(7) # The stack is [5,7,5,7]\n",
    "freqStack.push(4) # The stack is [5,7,5,7,4]\n",
    "freqStack.push(5) # The stack is [5,7,5,7,4,5]\n",
    "freqStack.pop() # return 5, as 5 is the most frequent. The stack becomes [5,7,5,7,4].\n",
    "freqStack.pop() # return 7, as 5 and 7 is the most frequent, but 7 is closest to the top. The stack becomes [5,7,5,4].\n",
    "freqStack.pop() # return 5, as 5 is the most frequent. The stack becomes [5,7,4].\n",
    "freqStack.pop() # return 4, as 4, 5 and 7 is the most frequent, but 4 is closest to the top. The stack becomes [5,7]."
   ]
  },
  {
   "cell_type": "code",
   "execution_count": null,
   "metadata": {},
   "outputs": [],
   "source": []
  },
  {
   "cell_type": "code",
   "execution_count": 3,
   "metadata": {},
   "outputs": [],
   "source": [
    "class FreqStack:\n",
    "\n",
    "    def __init__(self):\n",
    "        self.max_freq = 0\n",
    "        self.val_freq = {}\n",
    "        self.stack = {}\n",
    "\n",
    "    def push(self, val: int) -> None:\n",
    "        freq = self.val_freq.get(val, 0) + 1\n",
    "        self.val_freq[val] = freq\n",
    "\n",
    "        self.max_freq = max(self.max_freq, freq)\n",
    "        self.stack[freq] = self.stack.get(freq, []) + [val]\n",
    "\n",
    "        print(\"<< push >>\")\n",
    "        print(f\"val_freq = {self.val_freq}\")\n",
    "        print(f\"stack = {self.stack}\")\n",
    "        print(f\"max_freq = {self.max_freq}\\n\")\n",
    "\n",
    "    def pop(self) -> int:\n",
    "        top = self.stack[self.max_freq].pop()\n",
    "        self.val_freq[top] -= 1\n",
    "\n",
    "        if not self.stack[self.max_freq]:\n",
    "            self.max_freq -= 1\n",
    "        \n",
    "        print(\"<< pop >>\")\n",
    "        print(f\"val_freq = {self.val_freq}\")\n",
    "        print(f\"stack = {self.stack}\")\n",
    "        print(f\"max_freq = {self.max_freq}, return {top}\\n\")\n",
    "        \n",
    "        return top"
   ]
  },
  {
   "cell_type": "code",
   "execution_count": 4,
   "metadata": {},
   "outputs": [
    {
     "name": "stdout",
     "output_type": "stream",
     "text": [
      "<< push >>\n",
      "val_freq = {5: 1}\n",
      "stack = {1: [5]}\n",
      "max_freq = 1\n",
      "\n",
      "<< push >>\n",
      "val_freq = {5: 1, 7: 1}\n",
      "stack = {1: [5, 7]}\n",
      "max_freq = 1\n",
      "\n",
      "<< push >>\n",
      "val_freq = {5: 2, 7: 1}\n",
      "stack = {1: [5, 7], 2: [5]}\n",
      "max_freq = 2\n",
      "\n",
      "<< push >>\n",
      "val_freq = {5: 2, 7: 2}\n",
      "stack = {1: [5, 7], 2: [5, 7]}\n",
      "max_freq = 2\n",
      "\n",
      "<< push >>\n",
      "val_freq = {5: 2, 7: 2, 4: 1}\n",
      "stack = {1: [5, 7, 4], 2: [5, 7]}\n",
      "max_freq = 2\n",
      "\n",
      "<< push >>\n",
      "val_freq = {5: 3, 7: 2, 4: 1}\n",
      "stack = {1: [5, 7, 4], 2: [5, 7], 3: [5]}\n",
      "max_freq = 3\n",
      "\n",
      "<< pop >>\n",
      "val_freq = {5: 2, 7: 2, 4: 1}\n",
      "stack = {1: [5, 7, 4], 2: [5, 7], 3: []}\n",
      "max_freq = 2, return 5\n",
      "\n",
      "<< pop >>\n",
      "val_freq = {5: 2, 7: 1, 4: 1}\n",
      "stack = {1: [5, 7, 4], 2: [5], 3: []}\n",
      "max_freq = 2, return 7\n",
      "\n",
      "<< pop >>\n",
      "val_freq = {5: 1, 7: 1, 4: 1}\n",
      "stack = {1: [5, 7, 4], 2: [], 3: []}\n",
      "max_freq = 1, return 5\n",
      "\n",
      "<< pop >>\n",
      "val_freq = {5: 1, 7: 1, 4: 0}\n",
      "stack = {1: [5, 7], 2: [], 3: []}\n",
      "max_freq = 1, return 4\n",
      "\n"
     ]
    },
    {
     "data": {
      "text/plain": [
       "4"
      ]
     },
     "execution_count": 4,
     "metadata": {},
     "output_type": "execute_result"
    }
   ],
   "source": [
    "freqStack = FreqStack()\n",
    "freqStack.push(5) # The stack is [5]\n",
    "freqStack.push(7) # The stack is [5,7]\n",
    "freqStack.push(5) # The stack is [5,7,5]\n",
    "freqStack.push(7) # The stack is [5,7,5,7]\n",
    "freqStack.push(4) # The stack is [5,7,5,7,4]\n",
    "freqStack.push(5) # The stack is [5,7,5,7,4,5]\n",
    "freqStack.pop() # return 5, as 5 is the most frequent. The stack becomes [5,7,5,7,4].\n",
    "freqStack.pop() # return 7, as 5 and 7 is the most frequent, but 7 is closest to the top. The stack becomes [5,7,5,4].\n",
    "freqStack.pop() # return 5, as 5 is the most frequent. The stack becomes [5,7,4].\n",
    "freqStack.pop() # return 4, as 4, 5 and 7 is the most frequent, but 4 is closest to the top. The stack becomes [5,7]."
   ]
  }
 ],
 "metadata": {
  "kernelspec": {
   "display_name": ".venv",
   "language": "python",
   "name": "python3"
  },
  "language_info": {
   "codemirror_mode": {
    "name": "ipython",
    "version": 3
   },
   "file_extension": ".py",
   "mimetype": "text/x-python",
   "name": "python",
   "nbconvert_exporter": "python",
   "pygments_lexer": "ipython3",
   "version": "3.8.10"
  },
  "orig_nbformat": 4,
  "vscode": {
   "interpreter": {
    "hash": "6a07fcf0145f94b3f971c13d061528107de20ab7b779375f96dab9bbac6a85db"
   }
  }
 },
 "nbformat": 4,
 "nbformat_minor": 2
}
