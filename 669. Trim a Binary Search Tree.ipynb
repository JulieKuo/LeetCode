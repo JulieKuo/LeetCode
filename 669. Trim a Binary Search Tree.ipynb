{
 "cells": [
  {
   "cell_type": "markdown",
   "metadata": {},
   "source": [
    "### 669. Trim a Binary Search Tree"
   ]
  },
  {
   "cell_type": "code",
   "execution_count": 1,
   "metadata": {},
   "outputs": [],
   "source": [
    "# Definition for a binary tree node.\n",
    "class TreeNode:\n",
    "    def __init__(self, val=0, left=None, right=None):\n",
    "        self.val = val\n",
    "        self.left = left\n",
    "        self.right = right"
   ]
  },
  {
   "cell_type": "code",
   "execution_count": 2,
   "metadata": {},
   "outputs": [],
   "source": [
    "root = TreeNode(\n",
    "    val = 3,\n",
    "    left = TreeNode(\n",
    "        val = 0,\n",
    "        left = None,\n",
    "        right = TreeNode(\n",
    "            val = 2,\n",
    "            left = TreeNode(\n",
    "                val = 1,\n",
    "                left = None,\n",
    "                right = None\n",
    "            ),\n",
    "            right = None\n",
    "        )\n",
    "    ),\n",
    "    right = TreeNode(\n",
    "        val = 5,\n",
    "        left = TreeNode(\n",
    "            val = 4,\n",
    "            left = None,\n",
    "            right = None\n",
    "        ),\n",
    "        right = TreeNode(\n",
    "            val = 6,\n",
    "            left = None,\n",
    "            right = None\n",
    "        ),\n",
    "    )\n",
    ")\n",
    "low = 1; high = 4\n",
    "\n",
    "# Input: root = [3,0,5,null,2,4,6,1], low = 1, high = 4\n",
    "# Output: [3,2,4,1]"
   ]
  },
  {
   "cell_type": "markdown",
   "metadata": {},
   "source": [
    "<img src=\"img/669.png\" style=\"zoom:100%\"/>"
   ]
  },
  {
   "cell_type": "code",
   "execution_count": 3,
   "metadata": {},
   "outputs": [],
   "source": [
    "class Solution:\n",
    "    def trimBST(self, root, low, high):\n",
    "        print(\"-\" * 200)\n",
    "        if not root: # 如果節點為空，直接返回空節點\n",
    "            print(f\"return {root}\")\n",
    "            return root\n",
    "        \n",
    "        print(f\"low = {low}, root = {root.val}, high = {high}\")\n",
    "\n",
    "        if root.val < low: # 如果節點的值小於下限，因為是inorder所以右子樹最大，查看右子樹是否在範圍內，不是則繼續修剪\n",
    "            print(f\"((root = {root.val}) < (low = {low})) - right\")\n",
    "            return self.trimBST(root.right, low, high)\n",
    "        \n",
    "        if root.val > high: # 如果節點的值大於上限，因為是inorder所以左子樹最小，查看左子樹是否在範圍內，不是則繼續修剪\n",
    "            print(f\"((root = {root.val}) > (high = {high})) - left\")\n",
    "            return self.trimBST(root.left, low, high)\n",
    "        \n",
    "        print(f\"{root.val} - left\")\n",
    "        root.left = self.trimBST(root.left, low, high) # 遞迴修剪左子樹\n",
    "        print(f\"{root.val}.left = {root.left}\")\n",
    "\n",
    "        print(f\"{root.val} - right\")\n",
    "        root.right = self.trimBST(root.right, low, high) # 遞迴修剪右子樹\n",
    "        print(f\"{root.val}.right = {root.right}\")\n",
    "        \n",
    "        \n",
    "        print(f\"return {root.val} -> {root}\")\n",
    "        return root  # 返回修剪後的樹根節點\n"
   ]
  },
  {
   "cell_type": "code",
   "execution_count": 4,
   "metadata": {},
   "outputs": [
    {
     "name": "stdout",
     "output_type": "stream",
     "text": [
      "--------------------------------------------------------------------------------------------------------------------------------------------------------------------------------------------------------\n",
      "low = 1, root = 3, high = 4\n",
      "3 - left\n",
      "--------------------------------------------------------------------------------------------------------------------------------------------------------------------------------------------------------\n",
      "low = 1, root = 0, high = 4\n",
      "((root = 0) < (low = 1)) - right\n",
      "--------------------------------------------------------------------------------------------------------------------------------------------------------------------------------------------------------\n",
      "low = 1, root = 2, high = 4\n",
      "2 - left\n",
      "--------------------------------------------------------------------------------------------------------------------------------------------------------------------------------------------------------\n",
      "low = 1, root = 1, high = 4\n",
      "1 - left\n",
      "--------------------------------------------------------------------------------------------------------------------------------------------------------------------------------------------------------\n",
      "return None\n",
      "1.left = None\n",
      "1 - right\n",
      "--------------------------------------------------------------------------------------------------------------------------------------------------------------------------------------------------------\n",
      "return None\n",
      "1.right = None\n",
      "return 1 -> <__main__.TreeNode object at 0x000001B97ED6B220>\n",
      "2.left = <__main__.TreeNode object at 0x000001B97ED6B220>\n",
      "2 - right\n",
      "--------------------------------------------------------------------------------------------------------------------------------------------------------------------------------------------------------\n",
      "return None\n",
      "2.right = None\n",
      "return 2 -> <__main__.TreeNode object at 0x000001B97ED6B280>\n",
      "3.left = <__main__.TreeNode object at 0x000001B97ED6B280>\n",
      "3 - right\n",
      "--------------------------------------------------------------------------------------------------------------------------------------------------------------------------------------------------------\n",
      "low = 1, root = 5, high = 4\n",
      "((root = 5) > (high = 4)) - left\n",
      "--------------------------------------------------------------------------------------------------------------------------------------------------------------------------------------------------------\n",
      "low = 1, root = 4, high = 4\n",
      "4 - left\n",
      "--------------------------------------------------------------------------------------------------------------------------------------------------------------------------------------------------------\n",
      "return None\n",
      "4.left = None\n",
      "4 - right\n",
      "--------------------------------------------------------------------------------------------------------------------------------------------------------------------------------------------------------\n",
      "return None\n",
      "4.right = None\n",
      "return 4 -> <__main__.TreeNode object at 0x000001B97ED6B340>\n",
      "3.right = <__main__.TreeNode object at 0x000001B97ED6B340>\n",
      "return 3 -> <__main__.TreeNode object at 0x000001B97ED6B430>\n"
     ]
    },
    {
     "data": {
      "text/plain": [
       "<__main__.TreeNode at 0x1b97ed6b430>"
      ]
     },
     "execution_count": 4,
     "metadata": {},
     "output_type": "execute_result"
    }
   ],
   "source": [
    "Solution().trimBST(root, low, high)"
   ]
  }
 ],
 "metadata": {
  "kernelspec": {
   "display_name": ".venv",
   "language": "python",
   "name": "python3"
  },
  "language_info": {
   "codemirror_mode": {
    "name": "ipython",
    "version": 3
   },
   "file_extension": ".py",
   "mimetype": "text/x-python",
   "name": "python",
   "nbconvert_exporter": "python",
   "pygments_lexer": "ipython3",
   "version": "3.8.10"
  }
 },
 "nbformat": 4,
 "nbformat_minor": 2
}
