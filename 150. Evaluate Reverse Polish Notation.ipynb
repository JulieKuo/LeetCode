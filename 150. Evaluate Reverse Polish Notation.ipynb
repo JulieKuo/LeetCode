{
 "cells": [
  {
   "cell_type": "markdown",
   "metadata": {},
   "source": [
    "## 150. Evaluate Reverse Polish Notation"
   ]
  },
  {
   "cell_type": "markdown",
   "metadata": {},
   "source": [
    "* 遍歷tokens，遇到數字就存進stack\n",
    "* 遍歷tokens，遇到運算符號就用pop抓出stack最後兩個值進行運算，並把新算出來的值存進stack中"
   ]
  },
  {
   "cell_type": "code",
   "execution_count": null,
   "metadata": {},
   "outputs": [],
   "source": [
    "class Solution:\n",
    "    def evalRPN(self, tokens: List[str]) -> int:\n",
    "        stack = []\n",
    "\n",
    "        for value in tokens:\n",
    "            # 不是運算符就把值轉成 int 存進 stack 裡\n",
    "            if value not in \"+-*/\":\n",
    "                stack.append(int(value))\n",
    "                \n",
    "            else:\n",
    "                # 遇到運算符的時候，取得堆疊最上面兩個值進行運算\n",
    "                num2 = stack.pop()\n",
    "                num1 = stack.pop()\n",
    "\n",
    "                if value == '+':\n",
    "                    stack.append(num1 + num2)\n",
    "                elif value == '-':\n",
    "                    stack.append(num1 - num2)\n",
    "                elif value == '*':\n",
    "                    stack.append(num1 * num2)\n",
    "                elif value == '/':\n",
    "                    # 題目要求除法取整數就好\n",
    "                    stack.append(int(num1 / num2))\n",
    "\n",
    "        return stack[0]"
   ]
  }
 ],
 "metadata": {
  "kernelspec": {
   "display_name": "Python 3.8.7 ('.venv': venv)",
   "language": "python",
   "name": "python3"
  },
  "language_info": {
   "codemirror_mode": {
    "name": "ipython",
    "version": 3
   },
   "file_extension": ".py",
   "mimetype": "text/x-python",
   "name": "python",
   "nbconvert_exporter": "python",
   "pygments_lexer": "ipython3",
   "version": "3.8.7"
  },
  "orig_nbformat": 4,
  "vscode": {
   "interpreter": {
    "hash": "6a07fcf0145f94b3f971c13d061528107de20ab7b779375f96dab9bbac6a85db"
   }
  }
 },
 "nbformat": 4,
 "nbformat_minor": 2
}
