{
 "cells": [
  {
   "cell_type": "markdown",
   "metadata": {},
   "source": [
    "## 328. Odd Even Linked List"
   ]
  },
  {
   "cell_type": "code",
   "execution_count": null,
   "metadata": {},
   "outputs": [],
   "source": [
    "# Definition for singly-linked list.\n",
    "# class ListNode:\n",
    "#     def __init__(self, val=0, next=None):\n",
    "#         self.val = val\n",
    "#         self.next = next\n",
    "class Solution:\n",
    "    def oddEvenList(self, head: Optional[ListNode]) -> Optional[ListNode]:\n",
    "        odds = ListNode(0)\n",
    "        odd = odds # 移動odd時，odds不動\n",
    "        evens = ListNode(0)\n",
    "        even = evens # 移動even時，evens不動\n",
    "\n",
    "        # print(f\"初始 odds: {odds}\")\n",
    "        # print(f\"初始 evens: {evens}\")\n",
    "        # print(f\"初始 head: {head}\\n\")\n",
    "\n",
    "\n",
    "        while head and head.next:\n",
    "            odd.next = head # 將head的奇數項指定給odd的下一個，odds也會同時改變\n",
    "            even.next = head.next # 將head的偶數項指定給even的下一個，evens也會同時改變\n",
    "\n",
    "            odd = odd.next # odd移動到下一個才能進行下一輪指定\n",
    "            even = even.next # even移動到下一個才能進行下一輪指定\n",
    "            head = head.next.next # head移動到下兩個(一輪一個基數、一個偶數，共兩個)才能進行下一輪指定\n",
    "\n",
    "            # print(f\"-- odd: {odd}\")\n",
    "            # print(f\"-- even: {even}\")\n",
    "            # print(f\"== odds: {odds}\")\n",
    "            # print(f\"== evens: {evens}\")\n",
    "            # print(f\"** head: {head}\\n\")\n",
    "\n",
    "\n",
    "        if head: # 若長度為奇數，最後會剩一個\n",
    "            odd.next = head # 將最後一個指定給odd，odds也會同時改變\n",
    "            odd = odd.next # odd移到下一個，才能接evens\n",
    "            even.next = None  # even後面不能有東西，清除最後的剩餘項(若長度為奇數，會剩一個)\n",
    "\n",
    "            # print(\"<< 長度為奇數，將最後一個指定給odd >>\")\n",
    "            # print(f\"-- odd: {odd}\")\n",
    "            # print(f\"-- even: {even}\")\n",
    "            # print(f\"== odds: {odds}\")\n",
    "            # print(f\"== evens: {evens}\")\n",
    "            # print(f\"** head: {head}\\n\")\n",
    "\n",
    "\n",
    "\n",
    "        evens = evens.next #移動到第一個，初始化時建了一個0\n",
    "        odd.next = evens # 奇數後面接偶數\n",
    "        odds = odds.next#移動到第一個，初始化時建了一個0\n",
    "\n",
    "        # print(\"<< RESULT >>\")\n",
    "        # print(f\"== evens: {evens}\")\n",
    "        # print(f\"-- odd: {odd}\")\n",
    "        # print(f\"== odds: {odds}\")\n",
    "\n",
    "        return odds"
   ]
  },
  {
   "cell_type": "markdown",
   "metadata": {},
   "source": [
    "初始 odds: ListNode{val: 0, next: None}\n",
    "初始 evens: ListNode{val: 0, next: None}\n",
    "初始 head: ListNode{val: 1, next: ListNode{val: 2, next: ListNode{val: 3, next: ListNode{val: 4, next: ListNode{val: 5, next: None}}}}}\n",
    "\n",
    "-- odd: ListNode{val: 1, next: ListNode{val: 2, next: ListNode{val: 3, next: ListNode{val: 4, next: ListNode{val: 5, next: None}}}}}\n",
    "-- even: ListNode{val: 2, next: ListNode{val: 3, next: ListNode{val: 4, next: ListNode{val: 5, next: None}}}}\n",
    "== odds: ListNode{val: 0, next: ListNode{val: 1, next: ListNode{val: 2, next: ListNode{val: 3, next: ListNode{val: 4, next: ListNode{val: 5, next: None}}}}}}\n",
    "== evens: ListNode{val: 0, next: ListNode{val: 2, next: ListNode{val: 3, next: ListNode{val: 4, next: ListNode{val: 5, next: None}}}}}\n",
    "** head: ListNode{val: 3, next: ListNode{val: 4, next: ListNode{val: 5, next: None}}}\n",
    "\n",
    "-- odd: ListNode{val: 3, next: ListNode{val: 4, next: ListNode{val: 5, next: None}}}\n",
    "-- even: ListNode{val: 4, next: ListNode{val: 5, next: None}}\n",
    "== odds: ListNode{val: 0, next: ListNode{val: 1, next: ListNode{val: 3, next: ListNode{val: 4, next: ListNode{val: 5, next: None}}}}}\n",
    "== evens: ListNode{val: 0, next: ListNode{val: 2, next: ListNode{val: 4, next: ListNode{val: 5, next: None}}}}\n",
    "** head: ListNode{val: 5, next: None}\n",
    "\n",
    "<< 長度為奇數，將最後一個指定給odd >>\n",
    "-- odd: ListNode{val: 5, next: None}\n",
    "-- even: ListNode{val: 4, next: None}\n",
    "== odds: ListNode{val: 0, next: ListNode{val: 1, next: ListNode{val: 3, next: ListNode{val: 5, next: None}}}}\n",
    "== evens: ListNode{val: 0, next: ListNode{val: 2, next: ListNode{val: 4, next: None}}}\n",
    "** head: ListNode{val: 5, next: None}\n",
    "\n",
    "<< RESULT >>\n",
    "== evens: ListNode{val: 2, next: ListNode{val: 4, next: None}}\n",
    "-- odd: ListNode{val: 5, next: ListNode{val: 2, next: ListNode{val: 4, next: None}}}\n",
    "== odds: ListNode{val: 1, next: ListNode{val: 3, next: ListNode{val: 5, next: ListNode{val: 2, next: ListNode{val: 4, next: None}}}}}"
   ]
  }
 ],
 "metadata": {
  "kernelspec": {
   "display_name": "Python 3.8.7 ('.venv': venv)",
   "language": "python",
   "name": "python3"
  },
  "language_info": {
   "codemirror_mode": {
    "name": "ipython",
    "version": 3
   },
   "file_extension": ".py",
   "mimetype": "text/x-python",
   "name": "python",
   "nbconvert_exporter": "python",
   "pygments_lexer": "ipython3",
   "version": "3.8.7"
  },
  "orig_nbformat": 4,
  "vscode": {
   "interpreter": {
    "hash": "6a07fcf0145f94b3f971c13d061528107de20ab7b779375f96dab9bbac6a85db"
   }
  }
 },
 "nbformat": 4,
 "nbformat_minor": 2
}
