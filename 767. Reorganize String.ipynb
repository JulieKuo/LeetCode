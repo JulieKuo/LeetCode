{
 "cells": [
  {
   "cell_type": "markdown",
   "metadata": {},
   "source": [
    "## 767. Reorganize String"
   ]
  },
  {
   "cell_type": "code",
   "execution_count": 1,
   "metadata": {},
   "outputs": [],
   "source": [
    "import heapq\n",
    "class Solution:\n",
    "    def reorganizeString(self, s: str) -> str:\n",
    "        # 計算各個字母的數量\n",
    "        count = dict()\n",
    "        for i in s:\n",
    "            if i in count:\n",
    "                count[i] += 1\n",
    "            else:\n",
    "                count[i] = 1\n",
    "\n",
    "\n",
    "        # 先取數量多的字母，heap取最小值，須以負號轉換\n",
    "        que = [[-v, k] for k, v in count.items()]\n",
    "\n",
    "        heapq.heapify(que)\n",
    "        print(f\"origin que = {que}\\n\")\n",
    "\n",
    "\n",
    "        res = \"\"\n",
    "        pre = heapq.heappop(que)\n",
    "        res += pre[1]\n",
    "        print(f\"pop pre = {pre}, que = {que}\")\n",
    "        print(f\"res = {res}\\n\")\n",
    "\n",
    "        while que:\n",
    "            curr = heapq.heappop(que)\n",
    "            res += curr[1]\n",
    "            print(f\"pop curr = {curr}, que = {que}\")\n",
    "            print(f\"res = {res}\")\n",
    "\n",
    "            pre[0] += 1\n",
    "            if pre[0] < 0:\n",
    "                heapq.heappush(que, pre) # 前一輪取出的等這回pop完才放回，避免選到同樣的字母\n",
    "            \n",
    "            print(f\"push pre = {pre}, que = {que}\\n\")\n",
    "            \n",
    "            pre = curr\n",
    "\n",
    "        return \"\" if len(res) != len(s) else res"
   ]
  },
  {
   "cell_type": "code",
   "execution_count": 2,
   "metadata": {},
   "outputs": [
    {
     "name": "stdout",
     "output_type": "stream",
     "text": [
      "origin que = [[-3, 'a'], [-1, 'b'], [-1, 'c']]\n",
      "\n",
      "pop pre = [-3, 'a'], que = [[-1, 'b'], [-1, 'c']]\n",
      "res = a\n",
      "\n",
      "pop curr = [-1, 'b'], que = [[-1, 'c']]\n",
      "res = ab\n",
      "push pre = [-2, 'a'], que = [[-2, 'a'], [-1, 'c']]\n",
      "\n",
      "pop curr = [-2, 'a'], que = [[-1, 'c']]\n",
      "res = aba\n",
      "push pre = [0, 'b'], que = [[-1, 'c']]\n",
      "\n",
      "pop curr = [-1, 'c'], que = []\n",
      "res = abac\n",
      "push pre = [-1, 'a'], que = [[-1, 'a']]\n",
      "\n",
      "pop curr = [-1, 'a'], que = []\n",
      "res = abaca\n",
      "push pre = [0, 'c'], que = []\n",
      "\n"
     ]
    },
    {
     "data": {
      "text/plain": [
       "'abaca'"
      ]
     },
     "execution_count": 2,
     "metadata": {},
     "output_type": "execute_result"
    }
   ],
   "source": [
    "s = \"baaca\"\n",
    "Solution().reorganizeString(s)"
   ]
  },
  {
   "cell_type": "code",
   "execution_count": null,
   "metadata": {},
   "outputs": [],
   "source": []
  }
 ],
 "metadata": {
  "kernelspec": {
   "display_name": ".venv",
   "language": "python",
   "name": "python3"
  },
  "language_info": {
   "codemirror_mode": {
    "name": "ipython",
    "version": 3
   },
   "file_extension": ".py",
   "mimetype": "text/x-python",
   "name": "python",
   "nbconvert_exporter": "python",
   "pygments_lexer": "ipython3",
   "version": "3.8.10"
  },
  "orig_nbformat": 4,
  "vscode": {
   "interpreter": {
    "hash": "6a07fcf0145f94b3f971c13d061528107de20ab7b779375f96dab9bbac6a85db"
   }
  }
 },
 "nbformat": 4,
 "nbformat_minor": 2
}
