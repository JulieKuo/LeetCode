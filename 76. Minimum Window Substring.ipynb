{
 "cells": [
  {
   "cell_type": "markdown",
   "metadata": {},
   "source": [
    "### 76. Minimum Window Substring"
   ]
  },
  {
   "cell_type": "code",
   "execution_count": 1,
   "metadata": {},
   "outputs": [],
   "source": [
    "class Solution:\n",
    "    def minWindow(self, s, t):\n",
    "        print(f\"s = {s}\\nt = {t}\")\n",
    "        need = {}  # 用一個字典來儲存目標字串 t 中各個字符出現的次數\n",
    "        for i in t:\n",
    "            need[i] = need.get(i, 0) + 1  # 初始化 need 字典中各個字符的出現次數\n",
    "\n",
    "        missing = len(t)  # missing 表示需要匹配的字符數量\n",
    "        start, end = 0, 0  # start 和 end 分別表示匹配到的子字串的起始位置和結束位置\n",
    "        print(f\"init: start, = {start}, end = {end}, missing = {missing}, need = {need}\")\n",
    "        i = 0  # i 是匹配到的子字串的起始位置\n",
    "\n",
    "        for j, char in enumerate(s, 1):\n",
    "            print(f\"\\nj = {j}, char = {char}\")\n",
    "            if (char in need) and (need[char] > 0):\n",
    "                print(f\"(need[char] = need[{char}] = {need[char]}) > 0\")\n",
    "                missing -= 1  # 如果 s[j] 是目標字符，並且需要匹配的字符數量減 1\n",
    "\n",
    "            need[char] = need.get(char, 0) - 1  # 將目標字符對應的 need 字典中的值減 1，表示已經匹配到了一個字符\n",
    "            print(f\"substring: missing = {missing}, need = {need}\")\n",
    "            \n",
    "            if missing == 0:  # 如果需要匹配的字符數量已經為 0\n",
    "                print(f\"(missing = {missing}) == 0\")\n",
    "                while (i < j) and (need[s[i]] < 0):  # 移動 i 的位置，直到 need[s[i]] >= 0，以最小化該子字串\n",
    "                    print(f\"((i = {i}) < (j = {j})) and ((need[s[i]] = need[{s[i]}] = {need[s[i]]}) < 0)\")\n",
    "                    need[s[i]] += 1\n",
    "                    i += 1\n",
    "\n",
    "                missing += 1  # 增加需要匹配的字符數量\n",
    "                need[s[i]] += 1\n",
    "                print(f\"new substring: missing = {missing}, need = {need}\")\n",
    "\n",
    "                if (end == 0) or ((j - i) < (end - start)):  # 如果找到了一個更小的子字串\n",
    "                    print(f\"((end = {end}) == 0) or (((j - i) = ({j} - {i}) = {j - i}) < ((end - start) = ({end} - {start}) = {end - start}))\")\n",
    "                    start, end = i, j\n",
    "                    \n",
    "                i += 1  # 移動 i 的位置\n",
    "                print(f\"new: start = {start}, end = {end}, i = {i}\")\n",
    "                print(f\"result: {s[i-1:j]}, best_result = {s[start:end]}\")\n",
    "\n",
    "        return s[start:end]  # 返回找到的最小子字串\n"
   ]
  },
  {
   "cell_type": "code",
   "execution_count": 2,
   "metadata": {},
   "outputs": [
    {
     "name": "stdout",
     "output_type": "stream",
     "text": [
      "s = ADOBECODEBANC\n",
      "t = ABC\n",
      "init: start, = 0, end = 0, missing = 3, need = {'A': 1, 'B': 1, 'C': 1}\n",
      "\n",
      "j = 1, char = A\n",
      "(need[char] = need[A] = 1) > 0\n",
      "substring: missing = 2, need = {'A': 0, 'B': 1, 'C': 1}\n",
      "\n",
      "j = 2, char = D\n",
      "substring: missing = 2, need = {'A': 0, 'B': 1, 'C': 1, 'D': -1}\n",
      "\n",
      "j = 3, char = O\n",
      "substring: missing = 2, need = {'A': 0, 'B': 1, 'C': 1, 'D': -1, 'O': -1}\n",
      "\n",
      "j = 4, char = B\n",
      "(need[char] = need[B] = 1) > 0\n",
      "substring: missing = 1, need = {'A': 0, 'B': 0, 'C': 1, 'D': -1, 'O': -1}\n",
      "\n",
      "j = 5, char = E\n",
      "substring: missing = 1, need = {'A': 0, 'B': 0, 'C': 1, 'D': -1, 'O': -1, 'E': -1}\n",
      "\n",
      "j = 6, char = C\n",
      "(need[char] = need[C] = 1) > 0\n",
      "substring: missing = 0, need = {'A': 0, 'B': 0, 'C': 0, 'D': -1, 'O': -1, 'E': -1}\n",
      "(missing = 0) == 0\n",
      "new substring: missing = 1, need = {'A': 1, 'B': 0, 'C': 0, 'D': -1, 'O': -1, 'E': -1}\n",
      "((end = 0) == 0) or (((j - i) = (6 - 0) = 6) < ((end - start) = (0 - 0) = 0))\n",
      "new: start = 0, end = 6, i = 1\n",
      "result: ADOBEC, best_result = ADOBEC\n",
      "\n",
      "j = 7, char = O\n",
      "substring: missing = 1, need = {'A': 1, 'B': 0, 'C': 0, 'D': -1, 'O': -2, 'E': -1}\n",
      "\n",
      "j = 8, char = D\n",
      "substring: missing = 1, need = {'A': 1, 'B': 0, 'C': 0, 'D': -2, 'O': -2, 'E': -1}\n",
      "\n",
      "j = 9, char = E\n",
      "substring: missing = 1, need = {'A': 1, 'B': 0, 'C': 0, 'D': -2, 'O': -2, 'E': -2}\n",
      "\n",
      "j = 10, char = B\n",
      "substring: missing = 1, need = {'A': 1, 'B': -1, 'C': 0, 'D': -2, 'O': -2, 'E': -2}\n",
      "\n",
      "j = 11, char = A\n",
      "(need[char] = need[A] = 1) > 0\n",
      "substring: missing = 0, need = {'A': 0, 'B': -1, 'C': 0, 'D': -2, 'O': -2, 'E': -2}\n",
      "(missing = 0) == 0\n",
      "((i = 1) < (j = 11)) and ((need[s[i]] = need[D] = -2) < 0)\n",
      "((i = 2) < (j = 11)) and ((need[s[i]] = need[O] = -2) < 0)\n",
      "((i = 3) < (j = 11)) and ((need[s[i]] = need[B] = -1) < 0)\n",
      "((i = 4) < (j = 11)) and ((need[s[i]] = need[E] = -2) < 0)\n",
      "new substring: missing = 1, need = {'A': 0, 'B': 0, 'C': 1, 'D': -1, 'O': -1, 'E': -1}\n",
      "new: start = 0, end = 6, i = 6\n",
      "result: CODEBA, best_result = ADOBEC\n",
      "\n",
      "j = 12, char = N\n",
      "substring: missing = 1, need = {'A': 0, 'B': 0, 'C': 1, 'D': -1, 'O': -1, 'E': -1, 'N': -1}\n",
      "\n",
      "j = 13, char = C\n",
      "(need[char] = need[C] = 1) > 0\n",
      "substring: missing = 0, need = {'A': 0, 'B': 0, 'C': 0, 'D': -1, 'O': -1, 'E': -1, 'N': -1}\n",
      "(missing = 0) == 0\n",
      "((i = 6) < (j = 13)) and ((need[s[i]] = need[O] = -1) < 0)\n",
      "((i = 7) < (j = 13)) and ((need[s[i]] = need[D] = -1) < 0)\n",
      "((i = 8) < (j = 13)) and ((need[s[i]] = need[E] = -1) < 0)\n",
      "new substring: missing = 1, need = {'A': 0, 'B': 1, 'C': 0, 'D': 0, 'O': 0, 'E': 0, 'N': -1}\n",
      "((end = 6) == 0) or (((j - i) = (13 - 9) = 4) < ((end - start) = (6 - 0) = 6))\n",
      "new: start = 9, end = 13, i = 10\n",
      "result: BANC, best_result = BANC\n"
     ]
    },
    {
     "data": {
      "text/plain": [
       "'BANC'"
      ]
     },
     "execution_count": 2,
     "metadata": {},
     "output_type": "execute_result"
    }
   ],
   "source": [
    "s = \"ADOBECODEBANC\"\n",
    "t = \"ABC\"\n",
    "Solution().minWindow(s, t)"
   ]
  }
 ],
 "metadata": {
  "kernelspec": {
   "display_name": ".venv",
   "language": "python",
   "name": "python3"
  },
  "language_info": {
   "codemirror_mode": {
    "name": "ipython",
    "version": 3
   },
   "file_extension": ".py",
   "mimetype": "text/x-python",
   "name": "python",
   "nbconvert_exporter": "python",
   "pygments_lexer": "ipython3",
   "version": "3.8.10"
  },
  "orig_nbformat": 4
 },
 "nbformat": 4,
 "nbformat_minor": 2
}
