{
 "cells": [
  {
   "cell_type": "markdown",
   "metadata": {},
   "source": [
    "### 145. Binary Tree Postorder Traversal"
   ]
  },
  {
   "cell_type": "code",
   "execution_count": 1,
   "metadata": {},
   "outputs": [],
   "source": [
    "# Definition for a binary tree node.\n",
    "class TreeNode:\n",
    "    def __init__(self, val=0, left=None, right=None):\n",
    "        self.val = val\n",
    "        self.left = left\n",
    "        self.right = right"
   ]
  },
  {
   "cell_type": "code",
   "execution_count": 2,
   "metadata": {},
   "outputs": [],
   "source": [
    "root = TreeNode(\n",
    "    val = 1, \n",
    "    left = TreeNode(\n",
    "        val = 2, \n",
    "        left = TreeNode(\n",
    "            val = 4, \n",
    "            left = None, \n",
    "            right = None\n",
    "            ), \n",
    "        right = TreeNode(\n",
    "            val = 5, \n",
    "            left = None, \n",
    "            right = None\n",
    "            )\n",
    "        ), \n",
    "    right = TreeNode(\n",
    "        val = 3, \n",
    "        left = TreeNode(\n",
    "            val = 6, \n",
    "            left = None, \n",
    "            right = None\n",
    "            ), \n",
    "        right = TreeNode(\n",
    "            val = 7, \n",
    "            left = None, \n",
    "            right = None\n",
    "            )\n",
    "        ))\n",
    "\n",
    "# input:\n",
    "#        1\n",
    "#   2         3\n",
    "# 4   5     6   7\n",
    "\n",
    "# output:\n",
    "# [4, 5, 2, 6, 7, 3, 1]"
   ]
  },
  {
   "cell_type": "markdown",
   "metadata": {},
   "source": [
    "#### Stack"
   ]
  },
  {
   "cell_type": "code",
   "execution_count": 3,
   "metadata": {},
   "outputs": [],
   "source": [
    "class Solution:\n",
    "    def postorderTraversal(self, root):\n",
    "        res = []\n",
    "        stack = [(root, False)] # 儲存(節點、是否已查看該節點之左右節點)\n",
    "        print(f\"res = {res}, stack = {stack}\")\n",
    "\n",
    "        while stack:\n",
    "            node, visited = stack.pop()  # 取出最後一個元素\n",
    "            print(\"-\" * 200)\n",
    "            print(f\"visited = {visited}, node = {node}\")\n",
    "\n",
    "            if node:\n",
    "                print(f\"node.val = {node.val}\")\n",
    "\n",
    "                if visited:\n",
    "                    res.append(node.val)  # 如果節點已訪問過，則將其值添加到res中\n",
    "                    print(f\"res = {res}\")\n",
    "\n",
    "                else: # 後序遍歷: left -> right -> root ； 用stack反向存儲，使在pop()彈出時按照正確的順序處理\n",
    "                    stack.append((node, True))  # 推入根節點( 已訪問 )\n",
    "                    stack.append((node.right, False))  # 推入右子樹（未訪問）\n",
    "                    stack.append((node.left, False))  # 推入左子樹（未訪問）\n",
    "                    print(f\"stack = {stack}\")\n",
    "                    \n",
    "        return res\n"
   ]
  },
  {
   "cell_type": "code",
   "execution_count": 4,
   "metadata": {},
   "outputs": [
    {
     "name": "stdout",
     "output_type": "stream",
     "text": [
      "res = [], stack = [(<__main__.TreeNode object at 0x000001DA8EE9C1C0>, False)]\n",
      "--------------------------------------------------------------------------------------------------------------------------------------------------------------------------------------------------------\n",
      "visited = False, node = <__main__.TreeNode object at 0x000001DA8EE9C1C0>\n",
      "node.val = 1\n",
      "stack = [(<__main__.TreeNode object at 0x000001DA8EE9C1C0>, True), (<__main__.TreeNode object at 0x000001DA8EE9C160>, False), (<__main__.TreeNode object at 0x000001DA8EE9C040>, False)]\n",
      "--------------------------------------------------------------------------------------------------------------------------------------------------------------------------------------------------------\n",
      "visited = False, node = <__main__.TreeNode object at 0x000001DA8EE9C040>\n",
      "node.val = 2\n",
      "stack = [(<__main__.TreeNode object at 0x000001DA8EE9C1C0>, True), (<__main__.TreeNode object at 0x000001DA8EE9C160>, False), (<__main__.TreeNode object at 0x000001DA8EE9C040>, True), (<__main__.TreeNode object at 0x000001DA8ED3D4F0>, False), (<__main__.TreeNode object at 0x000001DA8ED3D070>, False)]\n",
      "--------------------------------------------------------------------------------------------------------------------------------------------------------------------------------------------------------\n",
      "visited = False, node = <__main__.TreeNode object at 0x000001DA8ED3D070>\n",
      "node.val = 4\n",
      "stack = [(<__main__.TreeNode object at 0x000001DA8EE9C1C0>, True), (<__main__.TreeNode object at 0x000001DA8EE9C160>, False), (<__main__.TreeNode object at 0x000001DA8EE9C040>, True), (<__main__.TreeNode object at 0x000001DA8ED3D4F0>, False), (<__main__.TreeNode object at 0x000001DA8ED3D070>, True), (None, False), (None, False)]\n",
      "--------------------------------------------------------------------------------------------------------------------------------------------------------------------------------------------------------\n",
      "visited = False, node = None\n",
      "--------------------------------------------------------------------------------------------------------------------------------------------------------------------------------------------------------\n",
      "visited = False, node = None\n",
      "--------------------------------------------------------------------------------------------------------------------------------------------------------------------------------------------------------\n",
      "visited = True, node = <__main__.TreeNode object at 0x000001DA8ED3D070>\n",
      "node.val = 4\n",
      "res = [4]\n",
      "--------------------------------------------------------------------------------------------------------------------------------------------------------------------------------------------------------\n",
      "visited = False, node = <__main__.TreeNode object at 0x000001DA8ED3D4F0>\n",
      "node.val = 5\n",
      "stack = [(<__main__.TreeNode object at 0x000001DA8EE9C1C0>, True), (<__main__.TreeNode object at 0x000001DA8EE9C160>, False), (<__main__.TreeNode object at 0x000001DA8EE9C040>, True), (<__main__.TreeNode object at 0x000001DA8ED3D4F0>, True), (None, False), (None, False)]\n",
      "--------------------------------------------------------------------------------------------------------------------------------------------------------------------------------------------------------\n",
      "visited = False, node = None\n",
      "--------------------------------------------------------------------------------------------------------------------------------------------------------------------------------------------------------\n",
      "visited = False, node = None\n",
      "--------------------------------------------------------------------------------------------------------------------------------------------------------------------------------------------------------\n",
      "visited = True, node = <__main__.TreeNode object at 0x000001DA8ED3D4F0>\n",
      "node.val = 5\n",
      "res = [4, 5]\n",
      "--------------------------------------------------------------------------------------------------------------------------------------------------------------------------------------------------------\n",
      "visited = True, node = <__main__.TreeNode object at 0x000001DA8EE9C040>\n",
      "node.val = 2\n",
      "res = [4, 5, 2]\n",
      "--------------------------------------------------------------------------------------------------------------------------------------------------------------------------------------------------------\n",
      "visited = False, node = <__main__.TreeNode object at 0x000001DA8EE9C160>\n",
      "node.val = 3\n",
      "stack = [(<__main__.TreeNode object at 0x000001DA8EE9C1C0>, True), (<__main__.TreeNode object at 0x000001DA8EE9C160>, True), (<__main__.TreeNode object at 0x000001DA8EE9C100>, False), (<__main__.TreeNode object at 0x000001DA8EE9C0A0>, False)]\n",
      "--------------------------------------------------------------------------------------------------------------------------------------------------------------------------------------------------------\n",
      "visited = False, node = <__main__.TreeNode object at 0x000001DA8EE9C0A0>\n",
      "node.val = 6\n",
      "stack = [(<__main__.TreeNode object at 0x000001DA8EE9C1C0>, True), (<__main__.TreeNode object at 0x000001DA8EE9C160>, True), (<__main__.TreeNode object at 0x000001DA8EE9C100>, False), (<__main__.TreeNode object at 0x000001DA8EE9C0A0>, True), (None, False), (None, False)]\n",
      "--------------------------------------------------------------------------------------------------------------------------------------------------------------------------------------------------------\n",
      "visited = False, node = None\n",
      "--------------------------------------------------------------------------------------------------------------------------------------------------------------------------------------------------------\n",
      "visited = False, node = None\n",
      "--------------------------------------------------------------------------------------------------------------------------------------------------------------------------------------------------------\n",
      "visited = True, node = <__main__.TreeNode object at 0x000001DA8EE9C0A0>\n",
      "node.val = 6\n",
      "res = [4, 5, 2, 6]\n",
      "--------------------------------------------------------------------------------------------------------------------------------------------------------------------------------------------------------\n",
      "visited = False, node = <__main__.TreeNode object at 0x000001DA8EE9C100>\n",
      "node.val = 7\n",
      "stack = [(<__main__.TreeNode object at 0x000001DA8EE9C1C0>, True), (<__main__.TreeNode object at 0x000001DA8EE9C160>, True), (<__main__.TreeNode object at 0x000001DA8EE9C100>, True), (None, False), (None, False)]\n",
      "--------------------------------------------------------------------------------------------------------------------------------------------------------------------------------------------------------\n",
      "visited = False, node = None\n",
      "--------------------------------------------------------------------------------------------------------------------------------------------------------------------------------------------------------\n",
      "visited = False, node = None\n",
      "--------------------------------------------------------------------------------------------------------------------------------------------------------------------------------------------------------\n",
      "visited = True, node = <__main__.TreeNode object at 0x000001DA8EE9C100>\n",
      "node.val = 7\n",
      "res = [4, 5, 2, 6, 7]\n",
      "--------------------------------------------------------------------------------------------------------------------------------------------------------------------------------------------------------\n",
      "visited = True, node = <__main__.TreeNode object at 0x000001DA8EE9C160>\n",
      "node.val = 3\n",
      "res = [4, 5, 2, 6, 7, 3]\n",
      "--------------------------------------------------------------------------------------------------------------------------------------------------------------------------------------------------------\n",
      "visited = True, node = <__main__.TreeNode object at 0x000001DA8EE9C1C0>\n",
      "node.val = 1\n",
      "res = [4, 5, 2, 6, 7, 3, 1]\n"
     ]
    },
    {
     "data": {
      "text/plain": [
       "[4, 5, 2, 6, 7, 3, 1]"
      ]
     },
     "execution_count": 4,
     "metadata": {},
     "output_type": "execute_result"
    }
   ],
   "source": [
    "Solution().postorderTraversal(root)"
   ]
  },
  {
   "cell_type": "markdown",
   "metadata": {},
   "source": [
    "#### DFS"
   ]
  },
  {
   "cell_type": "code",
   "execution_count": 5,
   "metadata": {},
   "outputs": [],
   "source": [
    "class Solution:\n",
    "    def postorderTraversal(self, root):\n",
    "        left_val = root.left.val if root.left else None\n",
    "        right_val = root.right.val if root.right else None\n",
    "        print(f\"root = {root.val}, left = {left_val}, right = {right_val}\")\n",
    "\n",
    "        res = []\n",
    "        if not root:\n",
    "            return res\n",
    "        \n",
    "        if root.left:\n",
    "            res.extend(self.postorderTraversal(root.left))\n",
    "            print(f\"{root.val} - left - res  =  {res}\")\n",
    "\n",
    "        if root.right:\n",
    "            res.extend(self.postorderTraversal(root.right))\n",
    "            print(f\"{root.val} - right - res  =  {res}\")\n",
    "\n",
    "        res.append(root.val)\n",
    "        print(f\"res = {res}\")\n",
    "\n",
    "        return res"
   ]
  },
  {
   "cell_type": "code",
   "execution_count": 6,
   "metadata": {},
   "outputs": [
    {
     "name": "stdout",
     "output_type": "stream",
     "text": [
      "root = 1, left = 2, right = 3\n",
      "root = 2, left = 4, right = 5\n",
      "root = 4, left = None, right = None\n",
      "res = [4]\n",
      "2 - left - res  =  [4]\n",
      "root = 5, left = None, right = None\n",
      "res = [5]\n",
      "2 - right - res  =  [4, 5]\n",
      "res = [4, 5, 2]\n",
      "1 - left - res  =  [4, 5, 2]\n",
      "root = 3, left = 6, right = 7\n",
      "root = 6, left = None, right = None\n",
      "res = [6]\n",
      "3 - left - res  =  [6]\n",
      "root = 7, left = None, right = None\n",
      "res = [7]\n",
      "3 - right - res  =  [6, 7]\n",
      "res = [6, 7, 3]\n",
      "1 - right - res  =  [4, 5, 2, 6, 7, 3]\n",
      "res = [4, 5, 2, 6, 7, 3, 1]\n"
     ]
    },
    {
     "data": {
      "text/plain": [
       "[4, 5, 2, 6, 7, 3, 1]"
      ]
     },
     "execution_count": 6,
     "metadata": {},
     "output_type": "execute_result"
    }
   ],
   "source": [
    "Solution().postorderTraversal(root)"
   ]
  }
 ],
 "metadata": {
  "kernelspec": {
   "display_name": ".venv",
   "language": "python",
   "name": "python3"
  },
  "language_info": {
   "codemirror_mode": {
    "name": "ipython",
    "version": 3
   },
   "file_extension": ".py",
   "mimetype": "text/x-python",
   "name": "python",
   "nbconvert_exporter": "python",
   "pygments_lexer": "ipython3",
   "version": "3.8.10"
  },
  "orig_nbformat": 4
 },
 "nbformat": 4,
 "nbformat_minor": 2
}
