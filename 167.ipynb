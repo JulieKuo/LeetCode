{
 "cells": [
  {
   "cell_type": "markdown",
   "metadata": {},
   "source": [
    "## 167. Two Sum II - Input Array Is Sorted"
   ]
  },
  {
   "cell_type": "markdown",
   "metadata": {},
   "source": [
    "<img src=\"img/167.jpg\" style=\"zoom:50%\"/>"
   ]
  },
  {
   "cell_type": "code",
   "execution_count": null,
   "metadata": {},
   "outputs": [],
   "source": [
    "class Solution:\n",
    "    def twoSum(self, numbers: List[int], target: int) -> List[int]:\n",
    "        # for i in range(len(numbers)):\n",
    "        #     if (target - numbers[i]) in numbers[i+1 :]:\n",
    "        #         output = [i+1, numbers[i + 1:].index(target - numbers[i]) + (i + 1)+1]\n",
    "        # return output\n",
    "    \n",
    "    \n",
    "        left, right = 0, len(numbers) - 1\n",
    "        while True:\n",
    "            tmp = numbers[left] + numbers[right]\n",
    "            if tmp == target:\n",
    "                return [left + 1, right + 1]\n",
    "            elif tmp < target:\n",
    "                left += 1\n",
    "            elif tmp > target:\n",
    "                right -= 1"
   ]
  }
 ],
 "metadata": {
  "language_info": {
   "name": "python"
  },
  "orig_nbformat": 4
 },
 "nbformat": 4,
 "nbformat_minor": 2
}
