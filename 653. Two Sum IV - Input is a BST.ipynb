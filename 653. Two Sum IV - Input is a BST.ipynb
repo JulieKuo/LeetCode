{
 "cells": [
  {
   "cell_type": "markdown",
   "metadata": {},
   "source": [
    "### 653. Two Sum IV - Input is a BST"
   ]
  },
  {
   "cell_type": "code",
   "execution_count": 1,
   "metadata": {},
   "outputs": [],
   "source": [
    "# Definition for a binary tree node.\n",
    "class TreeNode:\n",
    "    def __init__(self, val=0, left=None, right=None):\n",
    "        self.val = val\n",
    "        self.left = left\n",
    "        self.right = right"
   ]
  },
  {
   "cell_type": "code",
   "execution_count": 2,
   "metadata": {},
   "outputs": [],
   "source": [
    "root = TreeNode(\n",
    "    val = 5,\n",
    "    left = TreeNode(\n",
    "        val = 3,\n",
    "        left = TreeNode(\n",
    "            val = 2,\n",
    "            left = None,\n",
    "            right = None\n",
    "        ),\n",
    "        right = TreeNode(\n",
    "            val = 4,\n",
    "            left = None,\n",
    "            right = None\n",
    "        ),\n",
    "    ),\n",
    "    right = TreeNode(\n",
    "        val = 6,\n",
    "        left = None,\n",
    "        right = TreeNode(\n",
    "            val = 7,\n",
    "            left = None,\n",
    "            right = None\n",
    "        )\n",
    "    )\n",
    ")\n",
    "k = 9\n",
    "\n",
    "# Input: root = [5,3,6,2,4,null,7], k = 9\n",
    "# Output: true\n",
    "\n",
    "# Input: root = [5,3,6,2,4,null,7], k = 28\n",
    "# Output: false"
   ]
  },
  {
   "cell_type": "code",
   "execution_count": 3,
   "metadata": {},
   "outputs": [],
   "source": [
    "class Solution:\n",
    "    def __init__(self):\n",
    "        self.values = {}\n",
    "\n",
    "    def findTarget(self, root, k):\n",
    "        print(\"-\" * 200)\n",
    "        if not root:\n",
    "            return False\n",
    "\n",
    "        print(f\"root = {root.val}, k = {k}\")\n",
    "\n",
    "        # 如果節點的值在 values 中，代表總和為 k\n",
    "        if root.val in self.values:\n",
    "            print(f\"(root.val = {root.val}) in (values = {self.values})\")\n",
    "            return True\n",
    "\n",
    "        # 將將 (k - 節點的值) 加入 values 中，後續遍歷時若值在values中，表示總和為 k\n",
    "        self.values[k - root.val] = True\n",
    "\n",
    "\n",
    "        # 左子樹中是否有值在 values 中，使總和為 k\n",
    "        print(f\"{root.val} - left\")\n",
    "        left = self.findTarget(root.left, k)\n",
    "        print(f\"{root.val} - left - {left}\")\n",
    "\n",
    "        # 右子樹中是否有值在 values 中，使總和為 k\n",
    "        print(f\"{root.val} - right\")\n",
    "        right = self.findTarget(root.right, k)\n",
    "        print(f\"{root.val} - right - {right}\")\n",
    "\n",
    "        # 左右子樹任一為True，及代表有兩個元素的總和為 k\n",
    "        print(f\"{root.val} - ((left = {left}) or (right = {right}))\")\n",
    "        return left or right\n",
    "        "
   ]
  },
  {
   "cell_type": "code",
   "execution_count": 4,
   "metadata": {},
   "outputs": [
    {
     "name": "stdout",
     "output_type": "stream",
     "text": [
      "--------------------------------------------------------------------------------------------------------------------------------------------------------------------------------------------------------\n",
      "root = 5, k = 9\n",
      "5 - left\n",
      "--------------------------------------------------------------------------------------------------------------------------------------------------------------------------------------------------------\n",
      "root = 3, k = 9\n",
      "3 - left\n",
      "--------------------------------------------------------------------------------------------------------------------------------------------------------------------------------------------------------\n",
      "root = 2, k = 9\n",
      "2 - left\n",
      "--------------------------------------------------------------------------------------------------------------------------------------------------------------------------------------------------------\n",
      "2 - left - False\n",
      "2 - right\n",
      "--------------------------------------------------------------------------------------------------------------------------------------------------------------------------------------------------------\n",
      "2 - right - False\n",
      "2 - ((left = False) or (right = False))\n",
      "3 - left - False\n",
      "3 - right\n",
      "--------------------------------------------------------------------------------------------------------------------------------------------------------------------------------------------------------\n",
      "root = 4, k = 9\n",
      "(root.val = 4) in (values = {4: True, 6: True, 7: True})\n",
      "3 - right - True\n",
      "3 - ((left = False) or (right = True))\n",
      "5 - left - True\n",
      "5 - right\n",
      "--------------------------------------------------------------------------------------------------------------------------------------------------------------------------------------------------------\n",
      "root = 6, k = 9\n",
      "(root.val = 6) in (values = {4: True, 6: True, 7: True})\n",
      "5 - right - True\n",
      "5 - ((left = True) or (right = True))\n"
     ]
    },
    {
     "data": {
      "text/plain": [
       "True"
      ]
     },
     "execution_count": 4,
     "metadata": {},
     "output_type": "execute_result"
    }
   ],
   "source": [
    "Solution().findTarget(root, k)"
   ]
  }
 ],
 "metadata": {
  "kernelspec": {
   "display_name": ".venv",
   "language": "python",
   "name": "python3"
  },
  "language_info": {
   "codemirror_mode": {
    "name": "ipython",
    "version": 3
   },
   "file_extension": ".py",
   "mimetype": "text/x-python",
   "name": "python",
   "nbconvert_exporter": "python",
   "pygments_lexer": "ipython3",
   "version": "3.8.10"
  },
  "orig_nbformat": 4
 },
 "nbformat": 4,
 "nbformat_minor": 2
}
