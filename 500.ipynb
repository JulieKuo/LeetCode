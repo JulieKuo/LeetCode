{
 "cells": [
  {
   "cell_type": "markdown",
   "metadata": {},
   "source": [
    "## 500. Keyboard Row"
   ]
  },
  {
   "cell_type": "markdown",
   "metadata": {},
   "source": [
    "<img src=\"img/500.jpg\" style=\"zoom:50%\"/>"
   ]
  },
  {
   "cell_type": "code",
   "execution_count": null,
   "metadata": {},
   "outputs": [],
   "source": [
    "class Solution:\n",
    "    def findWords(self, words: List[str]) -> List[str]:\n",
    "        a = \"qwertyuiop\"\n",
    "        b = \"asdfghjkl\"\n",
    "        c = \"zxcvbnm\"\n",
    "        a = set([i for i in a])\n",
    "        b = set([i for i in b])\n",
    "        c = set([i for i in c])\n",
    "\n",
    "        output = []\n",
    "        for word in words:\n",
    "            d = set([i for i in word.lower()])\n",
    "            if (d-a == set()) or (d-b == set()) or (d-c == set()):\n",
    "                output.append(word)\n",
    "                \n",
    "        return output"
   ]
  }
 ],
 "metadata": {
  "language_info": {
   "name": "python"
  },
  "orig_nbformat": 4
 },
 "nbformat": 4,
 "nbformat_minor": 2
}
