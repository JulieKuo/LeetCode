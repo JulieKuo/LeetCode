{
 "cells": [
  {
   "cell_type": "markdown",
   "metadata": {},
   "source": [
    "## 242. Valid Anagram\n",
    "判斷兩個字符串 s 和 t 是否互為字母異位詞"
   ]
  },
  {
   "cell_type": "markdown",
   "metadata": {},
   "source": [
    "**時間複雜度: O( $n$ )**   \n",
    "**空間複雜度: O( $1$ )** "
   ]
  },
  {
   "cell_type": "code",
   "execution_count": null,
   "metadata": {},
   "outputs": [],
   "source": [
    "class Solution:\n",
    "    def isAnagram(self, s: str, t: str) -> bool:\n",
    "        if len(s) != len(t):\n",
    "            return False\n",
    "\n",
    "        counts = [0] * 26 # space: O(1)，26位字母是固定的常數\n",
    "\n",
    "        for i in range(len(s)): # time: O(n)，輸入的長度\n",
    "            counts[ord(s[i]) - ord(\"a\")] += 1\n",
    "            counts[ord(t[i]) - ord(\"a\")] -= 1\n",
    "\n",
    "        for count in counts: # time: O(1)，26位字母是固定的常數\n",
    "            if count != 0:\n",
    "                return False\n",
    "\n",
    "        return True"
   ]
  },
  {
   "cell_type": "markdown",
   "metadata": {},
   "source": [
    "**時間複雜度: O(n)**  \n",
    "**空間複雜度: O(1)**"
   ]
  },
  {
   "cell_type": "code",
   "execution_count": 1,
   "metadata": {},
   "outputs": [],
   "source": [
    "class Solution:\n",
    "    def isAnagram(self, s: str, t: str) -> bool:\n",
    "        # 創建一個哈希表來存儲字母和其對應的數量\n",
    "        hash_table = {}\n",
    "        \n",
    "        # 遍歷第一個字串 s，更新哈希表中的計數\n",
    "        for char in s:\n",
    "            hash_table[char] = hash_table.get(char, 0) + 1\n",
    "        \n",
    "        # 遍歷第二個字串 t，將已經計數的字母數量減去1\n",
    "        for char in t:\n",
    "            hash_table[char] = hash_table.get(char, 0) - 1\n",
    "        \n",
    "        # 檢查哈希表中所有的值；如果所有值為0，則返回 True，否則返回 False\n",
    "        for value in hash_table.values():\n",
    "            if value != 0:\n",
    "                return False\n",
    "        \n",
    "        return True"
   ]
  },
  {
   "cell_type": "markdown",
   "metadata": {},
   "source": [
    "**時間複雜度: O(n)**  \n",
    "**空間複雜度: O(1)**"
   ]
  },
  {
   "cell_type": "code",
   "execution_count": 2,
   "metadata": {},
   "outputs": [],
   "source": [
    "class Solution:\n",
    "    def isAnagram(self, s: str, t: str) -> bool:\n",
    "        # 如果兩個字符串的長度不相等，則它們不可能是字母異位詞\n",
    "        if len(s) != len(t):\n",
    "            return False      \n",
    "        \n",
    "        # 用於儲字每個字符的出現次數\n",
    "        hash_table = {}\n",
    "\n",
    "        # 遍歷字符串 s，統計每個字符的出現次數\n",
    "        for char in s:\n",
    "            # 如果字典中已有此字符，則其計數增加1；否則，初始化為1\n",
    "            hash_table[char] = hash_table.get(char, 0) + 1\n",
    "        \n",
    "        # 遍歷字符串 t，減少字典中相應字符的計數\n",
    "        for char in t:\n",
    "            # 如果字符在字典中存在，則減1\n",
    "            if char in hash_table:\n",
    "                hash_table[char] -= 1\n",
    "                # 如果某字符的計數減至0，則從字典中移除該字符\n",
    "                if hash_table[char] == 0:\n",
    "                    hash_table.pop(char)\n",
    "            else:\n",
    "                # 如果字符不在字典中，則直接返回 False，因為這表示 t 有 s 中沒有的字符\n",
    "                return False\n",
    "        \n",
    "        # 如果字典最後為空，則 s 和 t 互為字母異位詞\n",
    "        return True\n"
   ]
  },
  {
   "cell_type": "code",
   "execution_count": 3,
   "metadata": {},
   "outputs": [
    {
     "data": {
      "text/plain": [
       "True"
      ]
     },
     "execution_count": 3,
     "metadata": {},
     "output_type": "execute_result"
    }
   ],
   "source": [
    "s = \"anagram\"; t = \"nagaram\"\n",
    "# s = \"rat\"; t = \"car\"\n",
    "Solution().isAnagram(s, t)"
   ]
  }
 ],
 "metadata": {
  "kernelspec": {
   "display_name": "Python 3",
   "language": "python",
   "name": "python3"
  },
  "language_info": {
   "codemirror_mode": {
    "name": "ipython",
    "version": 3
   },
   "file_extension": ".py",
   "mimetype": "text/x-python",
   "name": "python",
   "nbconvert_exporter": "python",
   "pygments_lexer": "ipython3",
   "version": "3.10.6"
  }
 },
 "nbformat": 4,
 "nbformat_minor": 2
}
