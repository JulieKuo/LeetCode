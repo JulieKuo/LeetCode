{
 "cells": [
  {
   "cell_type": "markdown",
   "metadata": {},
   "source": [
    "## 242. Valid Anagram"
   ]
  },
  {
   "cell_type": "code",
   "execution_count": 1,
   "metadata": {},
   "outputs": [],
   "source": [
    "class Solution:\n",
    "    def isAnagram(self, s: str, t: str) -> bool:\n",
    "        # 創建一個哈希表來存儲字母和其對應的數量\n",
    "        hashtable = {}\n",
    "        \n",
    "        # 遍歷第一個字串 s，更新哈希表中的計數\n",
    "        for char in s:\n",
    "            hashtable[char] = hashtable.get(char, 0) + 1\n",
    "        \n",
    "        # 遍歷第二個字串 t，將已經計數的字母數量減去1\n",
    "        for char in t:\n",
    "            hashtable[char] = hashtable.get(char, 0) - 1\n",
    "        \n",
    "        # 檢查哈希表中所有的值；如果所有值為0，則返回 True，否則返回 False\n",
    "        for value in hashtable.values():\n",
    "            if value != 0:\n",
    "                return False\n",
    "        \n",
    "        return True"
   ]
  },
  {
   "cell_type": "code",
   "execution_count": 3,
   "metadata": {},
   "outputs": [
    {
     "data": {
      "text/plain": [
       "False"
      ]
     },
     "execution_count": 3,
     "metadata": {},
     "output_type": "execute_result"
    }
   ],
   "source": [
    "s = \"anagram\"; t = \"nagaram\"\n",
    "s = \"rat\"; t = \"car\"\n",
    "Solution().isAnagram(s, t)"
   ]
  }
 ],
 "metadata": {
  "kernelspec": {
   "display_name": "Python 3",
   "language": "python",
   "name": "python3"
  },
  "language_info": {
   "codemirror_mode": {
    "name": "ipython",
    "version": 3
   },
   "file_extension": ".py",
   "mimetype": "text/x-python",
   "name": "python",
   "nbconvert_exporter": "python",
   "pygments_lexer": "ipython3",
   "version": "3.10.6"
  }
 },
 "nbformat": 4,
 "nbformat_minor": 2
}
