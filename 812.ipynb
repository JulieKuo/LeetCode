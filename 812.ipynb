{
 "cells": [
  {
   "cell_type": "markdown",
   "metadata": {},
   "source": [
    "## 812. Largest Triangle Area"
   ]
  },
  {
   "cell_type": "markdown",
   "metadata": {},
   "source": [
    "<img src=\"img/812.png\"  width = \"600px\"/>"
   ]
  },
  {
   "cell_type": "code",
   "execution_count": null,
   "metadata": {},
   "outputs": [],
   "source": [
    "class Solution:\n",
    "    def largestTriangleArea(self, points: List[List[int]]) -> float:\n",
    "        res = 0\n",
    "        N = len(points)\n",
    "        for i in range(N - 2):\n",
    "            for j in range(i + 1, N - 1):\n",
    "                for k in range(j + 1, N):\n",
    "                    # print(i, j, k)\n",
    "                    (x1, y1), (x2, y2), (x3, y3) = points[i], points[j], points[k]\n",
    "                    area = 0.5 * abs((x1*y2 - y1*x2) + (x2*y3 - y2*x3) + (x3*y1 - y3*x1))\n",
    "                    res = max(res, area)\n",
    "                    \n",
    "        return res"
   ]
  }
 ],
 "metadata": {
  "interpreter": {
   "hash": "c5c899ed1fea65c1aad495f30148e1731af1bcf36c22dbd1b46cba8952568d24"
  },
  "kernelspec": {
   "display_name": "Python 3.9.7 64-bit ('.venv': venv)",
   "name": "python3"
  },
  "language_info": {
   "codemirror_mode": {
    "name": "ipython",
    "version": 3
   },
   "file_extension": ".py",
   "mimetype": "text/x-python",
   "name": "python",
   "nbconvert_exporter": "python",
   "pygments_lexer": "ipython3",
   "version": "3.9.7"
  },
  "orig_nbformat": 4
 },
 "nbformat": 4,
 "nbformat_minor": 2
}
