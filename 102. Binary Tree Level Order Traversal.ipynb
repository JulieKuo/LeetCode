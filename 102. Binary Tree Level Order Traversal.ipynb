{
 "cells": [
  {
   "attachments": {},
   "cell_type": "markdown",
   "metadata": {},
   "source": [
    "### 102. Binary Tree Level Order Traversal"
   ]
  },
  {
   "cell_type": "markdown",
   "metadata": {},
   "source": [
    "**時間複雜度: $O( n )$**  \n",
    "**空間複雜度: $O( n )$**"
   ]
  },
  {
   "cell_type": "code",
   "execution_count": 1,
   "metadata": {},
   "outputs": [],
   "source": [
    "# Definition for a binary tree node.\n",
    "class TreeNode:\n",
    "    def __init__(self, val=0, left=None, right=None):\n",
    "        self.val = val\n",
    "        self.left = left\n",
    "        self.right = right"
   ]
  },
  {
   "cell_type": "markdown",
   "metadata": {},
   "source": [
    "### BFS"
   ]
  },
  {
   "cell_type": "code",
   "execution_count": 2,
   "metadata": {},
   "outputs": [],
   "source": [
    "from typing import Optional, List\n",
    "from collections import deque\n",
    "\n",
    "class Solution:\n",
    "    def levelOrder(self, root: Optional[TreeNode]) -> List[List[int]]:\n",
    "        # 如果樹為空，返回空列表\n",
    "        if not root:\n",
    "            return []\n",
    "\n",
    "        # 初始化結果列表和隊列\n",
    "        result = [] # space: O(n)，n是節點數\n",
    "        queue = deque([root]) # space: O(n)，n是節點數\n",
    "\n",
    "        # 當隊列不為空時繼續遍歷\n",
    "        while queue: # time: O(n)，n是節點數\n",
    "            level_size = len(queue) # 獲取當前層的節點數量\n",
    "            level = [] # 存儲當前層的節點值\n",
    "\n",
    "            print(\"_\"*100)\n",
    "            print(f\"queue={[node.val for node in queue]}\")\n",
    "            print(f\"{level_size=}, {level=}\")\n",
    "\n",
    "            # 遍歷當前層的所有節點\n",
    "            for _ in range(level_size):\n",
    "                node = queue.popleft() # 從隊列左側取出節點\n",
    "                level.append(node.val) # 將節點值加入當前層列表\n",
    "                \n",
    "                print(\"-\"*100)\n",
    "                print(f\"{node.val=}, {level=}\")\n",
    "\n",
    "                # 如果有左子節點，加入隊列\n",
    "                if node.left:\n",
    "                    queue.append(node.left)\n",
    "\n",
    "                    print(f\"append left ({node.left.val}): queue={[node.val for node in queue]}\")\n",
    "\n",
    "                # 如果有右子節點，加入隊列\n",
    "                if node.right:\n",
    "                    queue.append(node.right)\n",
    "\n",
    "                    print(f\"append right ({node.right.val}): queue={[node.val for node in queue]}\")\n",
    "            \n",
    "            result.append(level) # 將當前層的節點值列表加入結果中\n",
    "            print(f\"{result=}\")\n",
    "\n",
    "        return result"
   ]
  },
  {
   "cell_type": "code",
   "execution_count": 3,
   "metadata": {},
   "outputs": [
    {
     "name": "stdout",
     "output_type": "stream",
     "text": [
      "____________________________________________________________________________________________________\n",
      "queue=[3]\n",
      "level_size=1, level=[]\n",
      "----------------------------------------------------------------------------------------------------\n",
      "node.val=3, level=[3]\n",
      "append left (9): queue=[9]\n",
      "append right (20): queue=[9, 20]\n",
      "result=[[3]]\n",
      "____________________________________________________________________________________________________\n",
      "queue=[9, 20]\n",
      "level_size=2, level=[]\n",
      "----------------------------------------------------------------------------------------------------\n",
      "node.val=9, level=[9]\n",
      "----------------------------------------------------------------------------------------------------\n",
      "node.val=20, level=[9, 20]\n",
      "append left (15): queue=[15]\n",
      "append right (7): queue=[15, 7]\n",
      "result=[[3], [9, 20]]\n",
      "____________________________________________________________________________________________________\n",
      "queue=[15, 7]\n",
      "level_size=2, level=[]\n",
      "----------------------------------------------------------------------------------------------------\n",
      "node.val=15, level=[15]\n",
      "----------------------------------------------------------------------------------------------------\n",
      "node.val=7, level=[15, 7]\n",
      "result=[[3], [9, 20], [15, 7]]\n"
     ]
    },
    {
     "data": {
      "text/plain": [
       "[[3], [9, 20], [15, 7]]"
      ]
     },
     "execution_count": 3,
     "metadata": {},
     "output_type": "execute_result"
    }
   ],
   "source": [
    "root = TreeNode(3)\n",
    "root.left = TreeNode(9)\n",
    "root.right = TreeNode(20)\n",
    "root.right.left = TreeNode(15)\n",
    "root.right.right = TreeNode(7)\n",
    "\n",
    "Solution().levelOrder(root)"
   ]
  },
  {
   "cell_type": "markdown",
   "metadata": {},
   "source": [
    "### DFS"
   ]
  },
  {
   "cell_type": "markdown",
   "metadata": {},
   "source": [
    "**時間複雜度: $O( n )$**  \n",
    "**空間複雜度: $O( n )$**"
   ]
  },
  {
   "cell_type": "code",
   "execution_count": 4,
   "metadata": {},
   "outputs": [],
   "source": [
    "from typing import Optional, List\n",
    "\n",
    "class Solution:\n",
    "    def levelOrder(self, root: Optional[TreeNode]) -> List[List[int]]:\n",
    "        result = []\n",
    "\n",
    "        def dfs(node, level):\n",
    "            # 如果當前節點為空，直接返回（結束此路徑）\n",
    "            if not node:\n",
    "                return \n",
    "            \n",
    "            print(f\"\\n{node.val = }, {level = }\")\n",
    "            \n",
    "            # 如果 result 的長度等於當前層數，代表這層還沒建立子清單\n",
    "            # 因此要新增一個空清單，來存放這一層的節點值\n",
    "            if len(result) == level:\n",
    "                result.append([])\n",
    "                print(f\"\\nadd a []: {result = }\")\n",
    "            \n",
    "            # 將當前節點的值加入對應層級的清單中\n",
    "            result[level].append(node.val)\n",
    "            print(f\"{result = }\")\n",
    "\n",
    "            # 遞迴處理左子樹，層數 +1\n",
    "            dfs(node=node.left, level=level + 1)\n",
    "\n",
    "            # 遞迴處理右子樹，層數 +1\n",
    "            dfs(node=node.right, level=level + 1)\n",
    "\n",
    "        # 從根節點開始遞迴，層數從 0 開始\n",
    "        dfs(node=root, level=0)\n",
    "\n",
    "        return result"
   ]
  },
  {
   "cell_type": "code",
   "execution_count": 5,
   "metadata": {},
   "outputs": [
    {
     "name": "stdout",
     "output_type": "stream",
     "text": [
      "\n",
      "node.val = 3, level = 0\n",
      "\n",
      "add a []: result = [[]]\n",
      "result = [[3]]\n",
      "\n",
      "node.val = 9, level = 1\n",
      "\n",
      "add a []: result = [[3], []]\n",
      "result = [[3], [9]]\n",
      "\n",
      "node.val = 15, level = 2\n",
      "\n",
      "add a []: result = [[3], [9], []]\n",
      "result = [[3], [9], [15]]\n",
      "\n",
      "node.val = 7, level = 2\n",
      "result = [[3], [9], [15, 7]]\n",
      "\n",
      "node.val = 20, level = 1\n",
      "result = [[3], [9, 20], [15, 7]]\n"
     ]
    },
    {
     "data": {
      "text/plain": [
       "[[3], [9, 20], [15, 7]]"
      ]
     },
     "execution_count": 5,
     "metadata": {},
     "output_type": "execute_result"
    }
   ],
   "source": [
    "root = TreeNode(3)\n",
    "root.left = TreeNode(9)\n",
    "root.right = TreeNode(20)\n",
    "root.left.left = TreeNode(15)\n",
    "root.left.right = TreeNode(7)\n",
    "\n",
    "Solution().levelOrder(root)"
   ]
  }
 ],
 "metadata": {
  "kernelspec": {
   "display_name": ".venv (3.12.8)",
   "language": "python",
   "name": "python3"
  },
  "language_info": {
   "codemirror_mode": {
    "name": "ipython",
    "version": 3
   },
   "file_extension": ".py",
   "mimetype": "text/x-python",
   "name": "python",
   "nbconvert_exporter": "python",
   "pygments_lexer": "ipython3",
   "version": "3.12.8"
  },
  "orig_nbformat": 4
 },
 "nbformat": 4,
 "nbformat_minor": 2
}
