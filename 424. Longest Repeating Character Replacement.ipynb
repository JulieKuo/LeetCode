{
 "cells": [
  {
   "cell_type": "markdown",
   "metadata": {},
   "source": [
    "### 424. Longest Repeating Character Replacement"
   ]
  },
  {
   "cell_type": "code",
   "execution_count": 1,
   "metadata": {},
   "outputs": [],
   "source": [
    "class Solution:\n",
    "    def characterReplacement(self, s: str, k: int) -> int:\n",
    "        print(f\"s = {s}, k = {k}\")\n",
    "        left = 0\n",
    "        right = 0\n",
    "        dict_table = {}\n",
    "        res = 0\n",
    "        while right < len(s):\n",
    "            print(f\"{'-'*30}\\noriginal: right = {right}, left = {left}\")\n",
    "            dict_table[s[right]] = dict_table.get(s[right], 0) + 1\n",
    "            while (right - left + 1) - max(dict_table.values()) > k:\n",
    "                # 該區間的元素數量，扣除掉最多數量的類別後，剩餘的元素數量需要小於k。(這樣才能取代，使該區間內的元素皆相同)\n",
    "                # 如果大於k，left就加1\n",
    "                print(f\"(({(right - left + 1)} - {max(dict_table.values())}) = {(right - left + 1) - max(dict_table.values())}) > (k = {k})\")\n",
    "                dict_table[s[left]] -= 1\n",
    "                left += 1\n",
    "                print(f\"update: right = {right}, left = {left}\")\n",
    "            \n",
    "            print(f\"(({(right - left + 1)} - {max(dict_table.values())}) = {(right - left + 1) - max(dict_table.values())}) <= (k = {k})\")\n",
    "            \n",
    "            res = max(res, (right - left + 1))\n",
    "            right += 1\n",
    "            print(f\"res = {res}\")\n",
    "        return res"
   ]
  },
  {
   "cell_type": "code",
   "execution_count": 2,
   "metadata": {},
   "outputs": [
    {
     "name": "stdout",
     "output_type": "stream",
     "text": [
      "s = AABABBA, k = 1\n",
      "------------------------------\n",
      "original: right = 0, left = 0\n",
      "((1 - 1) = 0) <= (k = 1)\n",
      "res = 1\n",
      "------------------------------\n",
      "original: right = 1, left = 0\n",
      "((2 - 2) = 0) <= (k = 1)\n",
      "res = 2\n",
      "------------------------------\n",
      "original: right = 2, left = 0\n",
      "((3 - 2) = 1) <= (k = 1)\n",
      "res = 3\n",
      "------------------------------\n",
      "original: right = 3, left = 0\n",
      "((4 - 3) = 1) <= (k = 1)\n",
      "res = 4\n",
      "------------------------------\n",
      "original: right = 4, left = 0\n",
      "((5 - 3) = 2) > (k = 1)\n",
      "update: right = 4, left = 1\n",
      "((4 - 2) = 2) > (k = 1)\n",
      "update: right = 4, left = 2\n",
      "((3 - 2) = 1) <= (k = 1)\n",
      "res = 4\n",
      "------------------------------\n",
      "original: right = 5, left = 2\n",
      "((4 - 3) = 1) <= (k = 1)\n",
      "res = 4\n",
      "------------------------------\n",
      "original: right = 6, left = 2\n",
      "((5 - 3) = 2) > (k = 1)\n",
      "update: right = 6, left = 3\n",
      "((4 - 2) = 2) > (k = 1)\n",
      "update: right = 6, left = 4\n",
      "((3 - 2) = 1) <= (k = 1)\n",
      "res = 4\n"
     ]
    },
    {
     "data": {
      "text/plain": [
       "4"
      ]
     },
     "execution_count": 2,
     "metadata": {},
     "output_type": "execute_result"
    }
   ],
   "source": [
    "s = \"AABABBA\"\n",
    "k = 1\n",
    "Solution().characterReplacement(s, k)"
   ]
  }
 ],
 "metadata": {
  "kernelspec": {
   "display_name": ".venv",
   "language": "python",
   "name": "python3"
  },
  "language_info": {
   "codemirror_mode": {
    "name": "ipython",
    "version": 3
   },
   "file_extension": ".py",
   "mimetype": "text/x-python",
   "name": "python",
   "nbconvert_exporter": "python",
   "pygments_lexer": "ipython3",
   "version": "3.8.10"
  },
  "orig_nbformat": 4
 },
 "nbformat": 4,
 "nbformat_minor": 2
}
