{
 "cells": [
  {
   "cell_type": "markdown",
   "metadata": {},
   "source": [
    "### 424. Longest Repeating Character Replacement"
   ]
  },
  {
   "cell_type": "markdown",
   "metadata": {},
   "source": [
    "**時間複雜度: O(n)**  \n",
    "**空間複雜度: O(1)**"
   ]
  },
  {
   "cell_type": "code",
   "execution_count": 1,
   "metadata": {},
   "outputs": [],
   "source": [
    "class Solution:\n",
    "    def characterReplacement(self, s: str, k: int) -> int:\n",
    "        print(f\"s = {s}, k = {k}\")\n",
    "        left = 0 # 滑動窗口左邊界\n",
    "        result = 0 # 紀錄最長的有效字串長度\n",
    "        hash_table = {} # 用於記錄窗口中每個字符的出現次數\n",
    "        for right in range(len(s)):\n",
    "            hash_table[s[right]] = hash_table.get(s[right], 0) + 1 # 增加當前字符的計數\n",
    "            print(f\"{'-'*100}\\ninit:   {left = }, {right = }\")\n",
    "            print(f\"s = {'*' * left}{s[left:right+1]}{'*' * (len(s) - right - 1)}\")\n",
    "            print(f\"add - {s[right] = }, {hash_table = }\")            \n",
    "            \n",
    "            window_size = right - left + 1 # 該窗口大小\n",
    "            max_count = max(hash_table.values()) # 窗口最多類別數量\n",
    "\n",
    "            # 窗口的元素數量 - 窗口最多類別數量 = 需取代數。 (需取代數 <= 可取代數) 才是有效區間\n",
    "            if (window_size - max_count) <= k:\n",
    "                print(f\"((窗口的元素數量({window_size}) - 窗口最多類別數量({max_count})) = 需取代數({window_size - max_count})) <= 可取代數({k})\")\n",
    "                result = window_size\n",
    "                print(f\"{result = }\")\n",
    "            \n",
    "            # 維持同樣窗口大小，向右滑動窗口，查看該窗口大小在後續字串中是否有效\n",
    "            else:\n",
    "                print(f\"((窗口的元素數量({window_size}) - 窗口最多類別數量({max_count})) = 需取代數({window_size - max_count})) > 可取代數({k})\")\n",
    "                \n",
    "                hash_table[s[left]] -= 1 # 刪除hash_table中儲存的左指針對應的字符資訊\n",
    "\n",
    "                # 清除記憶體\n",
    "                if hash_table[s[left]] == 0:\n",
    "                    hash_table.pop(s[left])\n",
    "                print(f\"del - {s[left] = }, {hash_table = }\")\n",
    "                \n",
    "                left += 1 # 左指針加1，才能在下個迴圈的right加1時維持窗口大小\n",
    "                print(f\"update: {left = }, {right = }\")          \n",
    "\n",
    "        return result"
   ]
  },
  {
   "cell_type": "code",
   "execution_count": 2,
   "metadata": {},
   "outputs": [
    {
     "name": "stdout",
     "output_type": "stream",
     "text": [
      "s = AABCBBA, k = 1\n",
      "----------------------------------------------------------------------------------------------------\n",
      "init:   left = 0, right = 0\n",
      "s = A******\n",
      "add - s[right] = 'A', hash_table = {'A': 1}\n",
      "((窗口的元素數量(1) - 窗口最多類別數量(1)) = 需取代數(0)) <= 可取代數(1)\n",
      "result = 1\n",
      "----------------------------------------------------------------------------------------------------\n",
      "init:   left = 0, right = 1\n",
      "s = AA*****\n",
      "add - s[right] = 'A', hash_table = {'A': 2}\n",
      "((窗口的元素數量(2) - 窗口最多類別數量(2)) = 需取代數(0)) <= 可取代數(1)\n",
      "result = 2\n",
      "----------------------------------------------------------------------------------------------------\n",
      "init:   left = 0, right = 2\n",
      "s = AAB****\n",
      "add - s[right] = 'B', hash_table = {'A': 2, 'B': 1}\n",
      "((窗口的元素數量(3) - 窗口最多類別數量(2)) = 需取代數(1)) <= 可取代數(1)\n",
      "result = 3\n",
      "----------------------------------------------------------------------------------------------------\n",
      "init:   left = 0, right = 3\n",
      "s = AABC***\n",
      "add - s[right] = 'C', hash_table = {'A': 2, 'B': 1, 'C': 1}\n",
      "((窗口的元素數量(4) - 窗口最多類別數量(2)) = 需取代數(2)) > 可取代數(1)\n",
      "del - s[left] = 'A', hash_table = {'A': 1, 'B': 1, 'C': 1}\n",
      "update: left = 1, right = 3\n",
      "----------------------------------------------------------------------------------------------------\n",
      "init:   left = 1, right = 4\n",
      "s = *ABCB**\n",
      "add - s[right] = 'B', hash_table = {'A': 1, 'B': 2, 'C': 1}\n",
      "((窗口的元素數量(4) - 窗口最多類別數量(2)) = 需取代數(2)) > 可取代數(1)\n",
      "del - s[left] = 'A', hash_table = {'B': 2, 'C': 1}\n",
      "update: left = 2, right = 4\n",
      "----------------------------------------------------------------------------------------------------\n",
      "init:   left = 2, right = 5\n",
      "s = **BCBB*\n",
      "add - s[right] = 'B', hash_table = {'B': 3, 'C': 1}\n",
      "((窗口的元素數量(4) - 窗口最多類別數量(3)) = 需取代數(1)) <= 可取代數(1)\n",
      "result = 4\n",
      "----------------------------------------------------------------------------------------------------\n",
      "init:   left = 2, right = 6\n",
      "s = **BCBBA\n",
      "add - s[right] = 'A', hash_table = {'B': 3, 'C': 1, 'A': 1}\n",
      "((窗口的元素數量(5) - 窗口最多類別數量(3)) = 需取代數(2)) > 可取代數(1)\n",
      "del - s[left] = 'B', hash_table = {'B': 2, 'C': 1, 'A': 1}\n",
      "update: left = 3, right = 6\n"
     ]
    },
    {
     "data": {
      "text/plain": [
       "4"
      ]
     },
     "execution_count": 2,
     "metadata": {},
     "output_type": "execute_result"
    }
   ],
   "source": [
    "s = \"AABCBBA\"\n",
    "k = 1\n",
    "Solution().characterReplacement(s, k)"
   ]
  },
  {
   "cell_type": "code",
   "execution_count": null,
   "metadata": {},
   "outputs": [],
   "source": []
  }
 ],
 "metadata": {
  "kernelspec": {
   "display_name": ".venv",
   "language": "python",
   "name": "python3"
  },
  "language_info": {
   "codemirror_mode": {
    "name": "ipython",
    "version": 3
   },
   "file_extension": ".py",
   "mimetype": "text/x-python",
   "name": "python",
   "nbconvert_exporter": "python",
   "pygments_lexer": "ipython3",
   "version": "3.10.6"
  },
  "orig_nbformat": 4
 },
 "nbformat": 4,
 "nbformat_minor": 2
}
