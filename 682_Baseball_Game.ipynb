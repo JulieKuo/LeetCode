{
 "cells": [
  {
   "cell_type": "markdown",
   "metadata": {},
   "source": [
    "## 682. Baseball Game"
   ]
  },
  {
   "cell_type": "markdown",
   "metadata": {},
   "source": [
    "<img src=\"img/682.jpg\" style=\"zoom:50%\"/>"
   ]
  },
  {
   "cell_type": "code",
   "execution_count": null,
   "metadata": {},
   "outputs": [],
   "source": [
    "class Solution:\n",
    "    def calPoints(self, ops: List[str]) -> int:\n",
    "        \n",
    "        output = []\n",
    "        for i in range(len(ops)):\n",
    "            if ops[i] not in [\"+\", \"D\", \"C\"]:\n",
    "                output.append(int(ops[i]))\n",
    "            elif ops[i] == \"+\":\n",
    "                output.append(int(output[-1])+int(output[-2]))\n",
    "            elif ops[i] == \"D\":\n",
    "                output.append(int(output[-1])*2)\n",
    "            elif ops[i] == \"C\":\n",
    "                output.pop(len(output)-1)\n",
    "        \n",
    "        return sum(output)"
   ]
  }
 ],
 "metadata": {
  "language_info": {
   "name": "python"
  },
  "orig_nbformat": 4
 },
 "nbformat": 4,
 "nbformat_minor": 2
}
