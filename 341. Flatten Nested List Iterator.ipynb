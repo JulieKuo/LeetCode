{
 "cells": [
  {
   "cell_type": "markdown",
   "metadata": {},
   "source": [
    "### 341. Flatten Nested List Iterator"
   ]
  },
  {
   "cell_type": "code",
   "execution_count": 1,
   "metadata": {},
   "outputs": [],
   "source": [
    "class NestedInteger:\n",
    "    def __init__(self, _integer = None, _list = []):\n",
    "        # 如果提供了 value，將其儲存為一個整數。如果提供了 nestedList，將其儲存為一個列表。\n",
    "        self.integer = _integer\n",
    "        self.list = _list\n",
    "\n",
    "    def isInteger(self):\n",
    "        # 檢查此 NestedInteger 是否包含一個單獨的整數。\n",
    "        return self.integer is not None\n",
    "\n",
    "    def getInteger(self):\n",
    "        # 返回此 NestedInteger 包含的單個整數。\n",
    "        if self.isInteger():\n",
    "            return self.integer\n",
    "\n",
    "    def getList(self):\n",
    "        # 返回此 NestedInteger 包含的巢狀整數列表。\n",
    "        return self.list"
   ]
  },
  {
   "cell_type": "code",
   "execution_count": 2,
   "metadata": {},
   "outputs": [],
   "source": [
    "# nestedList = [[1,1],2,[1,1]]\n",
    "nestedList = [\n",
    "    NestedInteger(\n",
    "        _integer = None,\n",
    "        _list    = [\n",
    "            NestedInteger(\n",
    "                _integer = 1,\n",
    "                _list    = []\n",
    "                ),\n",
    "            NestedInteger(\n",
    "                _integer = 1,\n",
    "                _list    = []\n",
    "                )\n",
    "            ]\n",
    "        ),\n",
    "    NestedInteger(\n",
    "        _integer = 2,\n",
    "        _list    = []\n",
    "        ),\n",
    "    NestedInteger(\n",
    "        _integer = None,\n",
    "        _list    = [\n",
    "            NestedInteger(\n",
    "                _integer = 1,\n",
    "                _list    = []\n",
    "                ),\n",
    "            NestedInteger(\n",
    "                _integer = 1,\n",
    "                _list    = []\n",
    "                )\n",
    "            ]\n",
    "        )\n",
    "    ]"
   ]
  },
  {
   "cell_type": "code",
   "execution_count": 3,
   "metadata": {},
   "outputs": [],
   "source": [
    "from collections import deque\n",
    "class NestedIterator:\n",
    "    def __init__(self, nestedList: [NestedInteger]):\n",
    "        self.temp = deque() # 雙端隊列，對於左邊的元素進行添加和彈出操作是高效的\n",
    "        self.flatten(nestedList)\n",
    "    \n",
    "    def next(self) -> int:\n",
    "        return self.temp.popleft() # 彈出最左邊的元素\n",
    "        \n",
    "    \n",
    "    def hasNext(self) -> bool:\n",
    "        return bool(self.temp) # 判斷是否還有值\n",
    "\n",
    "\n",
    "    def flatten(self, nestedList):\n",
    "        for ele in nestedList: # 依序抓出nestedList裡的元素\n",
    "\n",
    "            if ele.isInteger(): # 如果元素是整數，取得該整數後存進temp\n",
    "                self.temp.append(ele.getInteger())\n",
    "\n",
    "            else: # 否則，取得該list後存進temp\n",
    "                self.flatten(ele.getList())"
   ]
  },
  {
   "cell_type": "code",
   "execution_count": 4,
   "metadata": {},
   "outputs": [
    {
     "data": {
      "text/plain": [
       "[1, 1, 2, 1, 1]"
      ]
     },
     "execution_count": 4,
     "metadata": {},
     "output_type": "execute_result"
    }
   ],
   "source": [
    "# 初始化iterator\n",
    "iterator = NestedIterator(nestedList)\n",
    "\n",
    "# flatten\n",
    "res = []\n",
    "while iterator.hasNext(): \n",
    "    res.append(iterator.next())\n",
    "res"
   ]
  }
 ],
 "metadata": {
  "kernelspec": {
   "display_name": ".venv",
   "language": "python",
   "name": "python3"
  },
  "language_info": {
   "codemirror_mode": {
    "name": "ipython",
    "version": 3
   },
   "file_extension": ".py",
   "mimetype": "text/x-python",
   "name": "python",
   "nbconvert_exporter": "python",
   "pygments_lexer": "ipython3",
   "version": "3.8.10"
  }
 },
 "nbformat": 4,
 "nbformat_minor": 2
}
