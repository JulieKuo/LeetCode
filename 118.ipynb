{
 "cells": [
  {
   "cell_type": "markdown",
   "metadata": {},
   "source": [
    "## 118. Pascal's Triangle"
   ]
  },
  {
   "cell_type": "markdown",
   "metadata": {},
   "source": [
    "<img src=\"img/118.jpg\" style=\"zoom:50%\"/>"
   ]
  },
  {
   "cell_type": "code",
   "execution_count": null,
   "metadata": {},
   "outputs": [],
   "source": [
    "class Solution:\n",
    "    def generate(self, numRows: int) -> List[List[int]]:\n",
    "        a = [[1]]\n",
    "        for i in range(numRows-1):\n",
    "            b = [a[-1][0]]\n",
    "            for j in range(0, len(a[-1])):\n",
    "                if j == len(a[-1])-1:\n",
    "                    b.append(a[-1][-1])\n",
    "                else:\n",
    "                    b.append(a[-1][j] + a[-1][j+1])\n",
    "            a.append(b)\n",
    "        return a"
   ]
  }
 ],
 "metadata": {
  "language_info": {
   "name": "python"
  },
  "orig_nbformat": 4
 },
 "nbformat": 4,
 "nbformat_minor": 2
}
