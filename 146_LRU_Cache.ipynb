{
 "cells": [
  {
   "cell_type": "markdown",
   "metadata": {},
   "source": [
    "## 146. LRU Cache"
   ]
  },
  {
   "cell_type": "code",
   "execution_count": 35,
   "metadata": {},
   "outputs": [],
   "source": [
    "class ListNode:\n",
    "    def __init__(self, key, value):\n",
    "        self.key = key\n",
    "        self.value = value\n",
    "        self.prev = self\n",
    "        self.next = self\n",
    "\n",
    "class LRUCache:\n",
    "\n",
    "    def __init__(self, capacity: int):\n",
    "        self.dic = dict()\n",
    "        self.capacity = capacity\n",
    "        self.size = 0\n",
    "        self.root = ListNode(0, 0)\n",
    "\n",
    "    def get(self, key: int) -> int:\n",
    "        if key in self.dic:\n",
    "            node = self.dic[key]\n",
    "            self.removeFromList(node)\n",
    "            self.insertIntoHead(node)\n",
    "            return node.value\n",
    "        else:\n",
    "            return -1\n",
    "\n",
    "    def put(self, key: int, value: int) -> None:\n",
    "        print(self.dic, self.size, self.capacity)\n",
    "        if key in self.dic:\n",
    "            node = self.dic[key]\n",
    "            self.removeFromList(node)\n",
    "            self.insertIntoHead(node)\n",
    "            node.value = value\n",
    "        else:\n",
    "            if self.size >= self.capacity:\n",
    "                self.removeFromTail()\n",
    "                self.size -= 1\n",
    "            node = ListNode(key, value)\n",
    "            print(\"node:\", node.key, node.value, node.prev, node, node.next)\n",
    "            print(\"root:\", self.root.prev, self.root, self.root.next)\n",
    "            self.insertIntoHead(node)\n",
    "            self.dic[key] = node\n",
    "            self.size += 1\n",
    "\n",
    "    def removeFromList(self, node):\n",
    "        if node == self.root: return\n",
    "        prev_node = node.prev\n",
    "        next_node = node.next\n",
    "        prev_node.next = next_node\n",
    "        next_node.prev = prev_node\n",
    "        node.prev = node.next = None\n",
    "    \n",
    "    def insertIntoHead(self, node):\n",
    "        head_node = self.root.next\n",
    "        print(\"head_node:\", head_node.prev, head_node, head_node.next)\n",
    "        head_node.prev = node\n",
    "        print(\"head_node:\", head_node.prev, head_node, head_node.next)\n",
    "        node.prev = self.root\n",
    "        print(\"node:\", node.prev, node, node.next)\n",
    "        self.root.next = node\n",
    "        print(\"root:\", self.root.prev, self.root, self.root.next)\n",
    "        node.next = head_node\n",
    "    \n",
    "    def removeFromTail(self):\n",
    "        if self.size == 0: return\n",
    "        tail_node = self.root.prev\n",
    "        del self.dic[tail_node.key]\n",
    "        self.removeFromList(tail_node)"
   ]
  },
  {
   "cell_type": "code",
   "execution_count": 36,
   "metadata": {},
   "outputs": [
    {
     "name": "stdout",
     "output_type": "stream",
     "text": [
      "{} 0 2\n",
      "node: 1 1 <__main__.ListNode object at 0x0000022E855968B0> <__main__.ListNode object at 0x0000022E855968B0> <__main__.ListNode object at 0x0000022E855968B0>\n",
      "root: <__main__.ListNode object at 0x0000022E859EF6A0> <__main__.ListNode object at 0x0000022E859EF6A0> <__main__.ListNode object at 0x0000022E859EF6A0>\n",
      "head_node: <__main__.ListNode object at 0x0000022E859EF6A0> <__main__.ListNode object at 0x0000022E859EF6A0> <__main__.ListNode object at 0x0000022E859EF6A0>\n",
      "head_node: <__main__.ListNode object at 0x0000022E855968B0> <__main__.ListNode object at 0x0000022E859EF6A0> <__main__.ListNode object at 0x0000022E859EF6A0>\n",
      "node: <__main__.ListNode object at 0x0000022E859EF6A0> <__main__.ListNode object at 0x0000022E855968B0> <__main__.ListNode object at 0x0000022E855968B0>\n",
      "root: <__main__.ListNode object at 0x0000022E855968B0> <__main__.ListNode object at 0x0000022E859EF6A0> <__main__.ListNode object at 0x0000022E855968B0>\n",
      "None\n"
     ]
    }
   ],
   "source": [
    "cache = LRUCache(2)\n",
    "\n",
    "print(cache.put(1, 1))\n",
    "# print(cache.put(2, 2))\n",
    "# print(cache.get(1)) # returns 1\n",
    "# print(cache.put(3, 3)) # evicts key 2\n",
    "# print(cache.get(2)) # returns -1 (not found)\n",
    "# print(cache.put(4, 4)) # evicts key 1\n",
    "# print(cache.get(1)) # returns -1 (not found)\n",
    "# print(cache.get(3)) # returns 3\n",
    "# print(cache.get(4)) # returns 4"
   ]
  },
  {
   "cell_type": "code",
   "execution_count": null,
   "metadata": {},
   "outputs": [],
   "source": []
  }
 ],
 "metadata": {
  "kernelspec": {
   "display_name": "Python 3.8.7 ('.venv': venv)",
   "language": "python",
   "name": "python3"
  },
  "language_info": {
   "codemirror_mode": {
    "name": "ipython",
    "version": 3
   },
   "file_extension": ".py",
   "mimetype": "text/x-python",
   "name": "python",
   "nbconvert_exporter": "python",
   "pygments_lexer": "ipython3",
   "version": "3.8.7 (tags/v3.8.7:6503f05, Dec 21 2020, 17:59:51) [MSC v.1928 64 bit (AMD64)]"
  },
  "orig_nbformat": 4,
  "vscode": {
   "interpreter": {
    "hash": "6a07fcf0145f94b3f971c13d061528107de20ab7b779375f96dab9bbac6a85db"
   }
  }
 },
 "nbformat": 4,
 "nbformat_minor": 2
}
