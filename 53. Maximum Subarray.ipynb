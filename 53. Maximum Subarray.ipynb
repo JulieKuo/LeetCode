{
 "cells": [
  {
   "cell_type": "markdown",
   "metadata": {},
   "source": [
    "## 53. Maximum Subarray"
   ]
  },
  {
   "cell_type": "markdown",
   "metadata": {},
   "source": [
    "<img src=\"img/53.jpg\" style=\"zoom:50%\"/>"
   ]
  },
  {
   "cell_type": "markdown",
   "metadata": {},
   "source": [
    "* 時間複雜度: O(n)\n",
    "* 空間複雜度: O(1)"
   ]
  },
  {
   "cell_type": "code",
   "execution_count": 3,
   "metadata": {},
   "outputs": [
    {
     "name": "stdout",
     "output_type": "stream",
     "text": [
      "dp = -2, result = -2\n",
      "dp = 1, result = 1\n",
      "dp = -2, result = 1\n",
      "dp = 4, result = 4\n",
      "dp = 3, result = 4\n",
      "dp = 5, result = 5\n",
      "dp = 6, result = 6\n",
      "dp = 1, result = 6\n",
      "dp = 5, result = 6\n"
     ]
    },
    {
     "data": {
      "text/plain": [
       "6"
      ]
     },
     "execution_count": 3,
     "metadata": {},
     "output_type": "execute_result"
    }
   ],
   "source": [
    "# Runtime時間較短\n",
    "class Solution:\n",
    "    def maxSubArray(self, nums):\n",
    "        dp = nums[0]\n",
    "        result = nums[0]\n",
    "        print(f\"{dp = }, {result = }\")\n",
    "\n",
    "        for num in nums[1:]:\n",
    "            dp = max(dp + num, num)\n",
    "            \n",
    "            if dp > result:\n",
    "                result = dp\n",
    "            print(f\"{dp = }, {result = }\")\n",
    "\n",
    "        return result\n",
    "\n",
    "nums = [-2,1,-3,4,-1,2,1,-5,4]\n",
    "Solution().maxSubArray(nums)"
   ]
  },
  {
   "cell_type": "markdown",
   "metadata": {},
   "source": [
    "* 時間複雜度: O(n)\n",
    "* 空間複雜度: O(1)"
   ]
  },
  {
   "cell_type": "code",
   "execution_count": 4,
   "metadata": {},
   "outputs": [
    {
     "name": "stdout",
     "output_type": "stream",
     "text": [
      "dp = -2, result = -2\n",
      "dp = 1, result = 1\n",
      "dp = -2, result = 1\n",
      "dp = 4, result = 4\n",
      "dp = 3, result = 4\n",
      "dp = 5, result = 5\n",
      "dp = 6, result = 6\n",
      "dp = 1, result = 6\n",
      "dp = 5, result = 6\n"
     ]
    },
    {
     "data": {
      "text/plain": [
       "6"
      ]
     },
     "execution_count": 4,
     "metadata": {},
     "output_type": "execute_result"
    }
   ],
   "source": [
    "# Runtime時間較長\n",
    "class Solution:\n",
    "    def maxSubArray(self, nums):\n",
    "        dp = nums[0]\n",
    "        result = nums[0]\n",
    "        print(f\"{dp = }, {result = }\")\n",
    "\n",
    "        for num in nums[1:]:\n",
    "            dp = max(dp + num, num)\n",
    "            result = max(result, dp)\n",
    "            print(f\"{dp = }, {result = }\")\n",
    "\n",
    "        return result\n",
    "    \n",
    "nums = [-2,1,-3,4,-1,2,1,-5,4]\n",
    "Solution().maxSubArray(nums)"
   ]
  },
  {
   "cell_type": "markdown",
   "metadata": {},
   "source": [
    "* 時間複雜度: O(n)\n",
    "* 空間複雜度: O(n)"
   ]
  },
  {
   "cell_type": "code",
   "execution_count": null,
   "metadata": {},
   "outputs": [],
   "source": [
    "class Solution:\n",
    "    def maxSubArray(self, nums: List[int]) -> int:\n",
    "        dp = [nums[0]]\n",
    "        res = dp[0]\n",
    "        for i in nums[1:]:\n",
    "            dp.append(max(dp[-1] + i, i))\n",
    "            if dp[-1] > res:\n",
    "                res = dp[-1]\n",
    "        \n",
    "        return res\n",
    "    \n",
    "    \n",
    "    \n",
    "# class Solution:\n",
    "#     def maxSubArray(self, nums: List[int]) -> int:\n",
    "#         dp = [nums[0]]\n",
    "#         for i in nums[1:]:\n",
    "#             dp.append(max(dp[-1] + i, i))\n",
    "        \n",
    "        \n",
    "#         return max(dp)"
   ]
  }
 ],
 "metadata": {
  "kernelspec": {
   "display_name": ".venv",
   "language": "python",
   "name": "python3"
  },
  "language_info": {
   "codemirror_mode": {
    "name": "ipython",
    "version": 3
   },
   "file_extension": ".py",
   "mimetype": "text/x-python",
   "name": "python",
   "nbconvert_exporter": "python",
   "pygments_lexer": "ipython3",
   "version": "3.10.6"
  },
  "orig_nbformat": 4
 },
 "nbformat": 4,
 "nbformat_minor": 2
}
