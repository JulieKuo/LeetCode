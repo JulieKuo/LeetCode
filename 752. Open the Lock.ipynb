{
 "cells": [
  {
   "cell_type": "markdown",
   "metadata": {},
   "source": [
    "### 752. Open the Lock"
   ]
  },
  {
   "cell_type": "code",
   "execution_count": 1,
   "metadata": {},
   "outputs": [],
   "source": [
    "from collections import deque\n",
    "class Solution:\n",
    "    def openLock(self, deadends, target):  \n",
    "        if \"0000\" in deadends:\n",
    "            return -1\n",
    "        \n",
    "        if \"0000\" == target:\n",
    "            return 0\n",
    "        \n",
    "        visited = set() # 存放已測過的組合\n",
    "        queue = deque([(\"0000\", 0)]) # 初始化隊列\n",
    "\n",
    "        while queue:\n",
    "            current, level = queue.popleft()\n",
    "\n",
    "            # 當前密碼可改變的8個新密碼 (四個數字，每個數字可+1或-1，共8個組合)\n",
    "            new_num = []\n",
    "            for i in range(4):\n",
    "                new_num.append(current[:i] + str((int(current[i]) + 1) % 10) + current[i + 1:])\n",
    "                new_num.append(current[:i] + str((int(current[i]) - 1) % 10) + current[i + 1:])\n",
    "\n",
    "            for num in new_num: # 依序查看新密碼\n",
    "                if num == target: # 新密碼與target相同\n",
    "                    return level + 1\n",
    "                \n",
    "                if (num not in visited) and (num not in deadends): # 新密碼不在visited或deadends中\n",
    "                    visited.add(num) # 將新密碼加入已測過的組合\n",
    "                    queue.append((num, level + 1)) # 將新密碼加入隊列\n",
    "                    \n",
    "        return -1"
   ]
  },
  {
   "cell_type": "code",
   "execution_count": 2,
   "metadata": {},
   "outputs": [
    {
     "data": {
      "text/plain": [
       "6"
      ]
     },
     "execution_count": 2,
     "metadata": {},
     "output_type": "execute_result"
    }
   ],
   "source": [
    "deadends = [\"0201\",\"0101\",\"0102\",\"1212\",\"2002\"]\n",
    "target = \"0202\"\n",
    "Solution().openLock(deadends, target)"
   ]
  }
 ],
 "metadata": {
  "kernelspec": {
   "display_name": ".venv",
   "language": "python",
   "name": "python3"
  },
  "language_info": {
   "codemirror_mode": {
    "name": "ipython",
    "version": 3
   },
   "file_extension": ".py",
   "mimetype": "text/x-python",
   "name": "python",
   "nbconvert_exporter": "python",
   "pygments_lexer": "ipython3",
   "version": "3.8.10"
  },
  "orig_nbformat": 4
 },
 "nbformat": 4,
 "nbformat_minor": 2
}
