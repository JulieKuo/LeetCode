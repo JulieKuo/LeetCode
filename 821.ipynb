{
 "cells": [
  {
   "cell_type": "markdown",
   "metadata": {},
   "source": [
    "## 812. Largest Triangle Area"
   ]
  },
  {
   "cell_type": "markdown",
   "metadata": {},
   "source": [
    "<img src=\"img/812.svg\" style=\"zoom:100%\"/>"
   ]
  },
  {
   "cell_type": "code",
   "execution_count": null,
   "metadata": {},
   "outputs": [],
   "source": [
    "class Solution:\n",
    "    def shortestToChar(self, s: str, c: str) -> List[int]:\n",
    "        temp1 = [0 if i == c else 1 for i in s]\n",
    "        start, end = s.find(c), s.rfind(c)\n",
    "\n",
    "        for i in range(len(s)):\n",
    "            temp2 = float(\"inf\")\n",
    "            if s[i] != c:\n",
    "                if i < start:\n",
    "                    temp2 = min(temp2, s[i:].find(c))#返回第一個\n",
    "                elif i > end:\n",
    "                    temp2 = min(temp2, len(s[:i]) - s[:i].rfind(c))#返回最後一個\n",
    "                else:\n",
    "                    temp2 = min(temp2, s[i:].find(c))#返回第一個\n",
    "                    temp2 = min(temp2, len(s[:i]) - s[:i].rfind(c))#返回最後一個\n",
    "                # print(i, temp2)\n",
    "                temp1[i] = temp2\n",
    "                \n",
    "        return temp1"
   ]
  }
 ],
 "metadata": {
  "interpreter": {
   "hash": "c5c899ed1fea65c1aad495f30148e1731af1bcf36c22dbd1b46cba8952568d24"
  },
  "kernelspec": {
   "display_name": "Python 3.9.7 64-bit ('.venv': venv)",
   "name": "python3"
  },
  "language_info": {
   "codemirror_mode": {
    "name": "ipython",
    "version": 3
   },
   "file_extension": ".py",
   "mimetype": "text/x-python",
   "name": "python",
   "nbconvert_exporter": "python",
   "pygments_lexer": "ipython3",
   "version": "3.9.7"
  },
  "orig_nbformat": 4
 },
 "nbformat": 4,
 "nbformat_minor": 2
}
