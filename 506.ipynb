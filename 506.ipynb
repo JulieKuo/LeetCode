{
 "cells": [
  {
   "cell_type": "markdown",
   "metadata": {},
   "source": [
    "## 506. Relative Ranks"
   ]
  },
  {
   "cell_type": "markdown",
   "metadata": {},
   "source": [
    "<img src=\"img/506.jpg\" style=\"zoom:50%\"/>"
   ]
  },
  {
   "cell_type": "code",
   "execution_count": null,
   "metadata": {},
   "outputs": [],
   "source": [
    "class Solution(object):\n",
    "    def findRelativeRanks(self, score):\n",
    "        \"\"\"\n",
    "        :type score: List[int]\n",
    "        :rtype: List[str]\n",
    "        \"\"\"\n",
    "        \n",
    "        rank = [\"Gold Medal\", \"Silver Medal\", \"Bronze Medal\"]\n",
    "        hashmap = dict()\n",
    "        for i, s in enumerate(score):\n",
    "            hashmap[s] = i\n",
    "        \n",
    "        score = sorted(score, reverse = True)\n",
    "        res = [\"\" for _ in score]\n",
    "        \n",
    "        for i, s in enumerate(score):\n",
    "            if i <= 2:\n",
    "                res[hashmap[s]] = rank[i]\n",
    "            else:\n",
    "                res[hashmap[s]] = str(i+1)\n",
    "            \n",
    "        \n",
    "        return res"
   ]
  }
 ],
 "metadata": {
  "language_info": {
   "name": "python"
  },
  "orig_nbformat": 4
 },
 "nbformat": 4,
 "nbformat_minor": 2
}
