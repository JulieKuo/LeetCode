{
 "cells": [
  {
   "cell_type": "markdown",
   "metadata": {},
   "source": [
    "### 210. Course Schedule II"
   ]
  },
  {
   "cell_type": "markdown",
   "metadata": {},
   "source": [
    "**時間複雜度: $O( V + E )$**  \n",
    "**空間複雜度: $O( V + E )$**\n",
    "\n",
    "- V: 節點數（課程數）\n",
    "- E: 邊數（先修條件數）"
   ]
  },
  {
   "cell_type": "markdown",
   "metadata": {},
   "source": [
    "### bfs"
   ]
  },
  {
   "cell_type": "code",
   "execution_count": null,
   "metadata": {},
   "outputs": [],
   "source": [
    "from typing import List\n",
    "from collections import deque\n",
    "\n",
    "class Solution:\n",
    "    def findOrder(self, numCourses: int, prerequisites: List[List[int]]) -> List[int]:\n",
    "        # 建立鄰接表和入度表\n",
    "        graph = [[] for _ in range(numCourses)] # space: O(E)\n",
    "        indegree = [0] * numCourses # space: O(V)\n",
    "        \n",
    "        # 建立鄰接表和計算每個節點的入度\n",
    "        for course, prereq in prerequisites:\n",
    "            graph[prereq].append(course)\n",
    "            indegree[course] += 1\n",
    "            \n",
    "        # 將所有入度為0的課程加入隊列\n",
    "        queue = deque() # space: O(V)\n",
    "        for i in range(numCourses):\n",
    "            if indegree[i] == 0:\n",
    "                queue.append(i)\n",
    "                \n",
    "        result = [] # space: O(V)\n",
    "        \n",
    "        # BFS\n",
    "        while queue:\n",
    "            curr = queue.popleft()\n",
    "            result.append(curr)\n",
    "            \n",
    "            # 將當前課程的所有後續課程的入度減1\n",
    "            for next_course in graph[curr]:\n",
    "                indegree[next_course] -= 1\n",
    "                # 如果入度變為0，表示可以修這門課了\n",
    "                if indegree[next_course] == 0:\n",
    "                    queue.append(next_course)\n",
    "                    \n",
    "        # 如果無法完成所有課程（存在環），返回空列表\n",
    "        return result if len(result) == numCourses else []"
   ]
  },
  {
   "cell_type": "code",
   "execution_count": null,
   "metadata": {},
   "outputs": [
    {
     "name": "stdout",
     "output_type": "stream",
     "text": [
      "graph={}\n",
      "\n",
      "----------------------------------------------------------------------------------------------------\n",
      "\n",
      "course=0, visited=[0]\n",
      "visited[0] = 1\n",
      "visited=[1]\n",
      "visited[0] = 2\n",
      "visited=[2]\n",
      "result=[0] -> return True\n",
      "course=0, status=True\n",
      "____________________________________________________________________________________________________\n"
     ]
    },
    {
     "data": {
      "text/plain": [
       "[0]"
      ]
     },
     "metadata": {},
     "output_type": "display_data"
    }
   ],
   "source": [
    "# empty (沒有先修條件，直接返回課程順序)\n",
    "numCourses = 1\n",
    "prerequisites = []\n",
    "Solution().findOrder(numCourses, prerequisites) # [0]"
   ]
  },
  {
   "cell_type": "code",
   "execution_count": null,
   "metadata": {},
   "outputs": [
    {
     "name": "stdout",
     "output_type": "stream",
     "text": [
      "graph={0: [1], 1: [0]}\n",
      "\n",
      "----------------------------------------------------------------------------------------------------\n",
      "\n",
      "course=0, visited=[0, 0]\n",
      "visited[0] = 1\n",
      "visited=[1, 0]\n",
      "\n",
      "course=0 -> next_course=1\n",
      "----------------------------------------------------------------------------------------------------\n",
      "\n",
      "course=1, visited=[1, 0]\n",
      "visited[1] = 1\n",
      "visited=[1, 1]\n",
      "\n",
      "course=1 -> next_course=0\n",
      "----------------------------------------------------------------------------------------------------\n",
      "\n",
      "course=0, visited=[1, 1]\n",
      "visited[0] == 1 -> return False\n",
      "\n",
      "course=1 -> next_course=0, status=False\n",
      "return False\n",
      "\n",
      "course=0 -> next_course=1, status=False\n",
      "return False\n",
      "course=0, status=False\n",
      "____________________________________________________________________________________________________\n",
      "return []\n"
     ]
    },
    {
     "data": {
      "text/plain": [
       "[]"
      ]
     },
     "metadata": {},
     "output_type": "display_data"
    }
   ],
   "source": [
    "# cycle (有環，已經訪問過的課程，再次訪問，表示有環，無法完成所有課程。ex: 1 -> 0 -> 1)\n",
    "numCourses = 2\n",
    "prerequisites = [[1, 0], [0, 1]]\n",
    "Solution().findOrder(numCourses, prerequisites) # []"
   ]
  },
  {
   "cell_type": "code",
   "execution_count": null,
   "metadata": {},
   "outputs": [
    {
     "name": "stdout",
     "output_type": "stream",
     "text": [
      "graph={0: [1, 2], 1: [3], 2: [3]}\n",
      "\n",
      "----------------------------------------------------------------------------------------------------\n",
      "\n",
      "course=0, visited=[0, 0, 0, 0]\n",
      "visited[0] = 1\n",
      "visited=[1, 0, 0, 0]\n",
      "\n",
      "course=0 -> next_course=1\n",
      "----------------------------------------------------------------------------------------------------\n",
      "\n",
      "course=1, visited=[1, 0, 0, 0]\n",
      "visited[1] = 1\n",
      "visited=[1, 1, 0, 0]\n",
      "\n",
      "course=1 -> next_course=3\n",
      "----------------------------------------------------------------------------------------------------\n",
      "\n",
      "course=3, visited=[1, 1, 0, 0]\n",
      "visited[3] = 1\n",
      "visited=[1, 1, 0, 1]\n",
      "visited[3] = 2\n",
      "visited=[1, 1, 0, 2]\n",
      "result=[3] -> return True\n",
      "\n",
      "course=1 -> next_course=3, status=True\n",
      "visited[1] = 2\n",
      "visited=[1, 2, 0, 2]\n",
      "result=[3, 1] -> return True\n",
      "\n",
      "course=0 -> next_course=1, status=True\n",
      "\n",
      "course=0 -> next_course=2\n",
      "----------------------------------------------------------------------------------------------------\n",
      "\n",
      "course=2, visited=[1, 2, 0, 2]\n",
      "visited[2] = 1\n",
      "visited=[1, 2, 1, 2]\n",
      "\n",
      "course=2 -> next_course=3\n",
      "----------------------------------------------------------------------------------------------------\n",
      "\n",
      "course=3, visited=[1, 2, 1, 2]\n",
      "visited[3] == 2 -> return True\n",
      "\n",
      "course=2 -> next_course=3, status=True\n",
      "visited[2] = 2\n",
      "visited=[1, 2, 2, 2]\n",
      "result=[3, 1, 2] -> return True\n",
      "\n",
      "course=0 -> next_course=2, status=True\n",
      "visited[0] = 2\n",
      "visited=[2, 2, 2, 2]\n",
      "result=[3, 1, 2, 0] -> return True\n",
      "course=0, status=True\n",
      "____________________________________________________________________________________________________\n",
      "----------------------------------------------------------------------------------------------------\n",
      "\n",
      "course=1, visited=[2, 2, 2, 2]\n",
      "visited[1] == 2 -> return True\n",
      "course=1, status=True\n",
      "____________________________________________________________________________________________________\n",
      "----------------------------------------------------------------------------------------------------\n",
      "\n",
      "course=2, visited=[2, 2, 2, 2]\n",
      "visited[2] == 2 -> return True\n",
      "course=2, status=True\n",
      "____________________________________________________________________________________________________\n",
      "----------------------------------------------------------------------------------------------------\n",
      "\n",
      "course=3, visited=[2, 2, 2, 2]\n",
      "visited[3] == 2 -> return True\n",
      "course=3, status=True\n",
      "____________________________________________________________________________________________________\n"
     ]
    },
    {
     "data": {
      "text/plain": [
       "[0, 2, 1, 3]"
      ]
     },
     "metadata": {},
     "output_type": "display_data"
    }
   ],
   "source": [
    "# normal (沒有環，可以完成所有課程)\n",
    "numCourses = 4\n",
    "prerequisites = [[1, 0], [2, 0], [3, 1], [3, 2]]\n",
    "Solution().findOrder(numCourses, prerequisites) # [0, 1, 2, 3]"
   ]
  },
  {
   "cell_type": "markdown",
   "metadata": {},
   "source": [
    "### dfs"
   ]
  },
  {
   "cell_type": "code",
   "execution_count": 33,
   "metadata": {},
   "outputs": [],
   "source": [
    "from typing import List\n",
    "\n",
    "class Solution:\n",
    "    def findOrder(self, numCourses: int, prerequisites: List[List[int]]) -> List[int]:\n",
    "        # 建立鄰接表來表示課程之間的依賴關係圖\n",
    "        # key: 先修課程，value: 後續可以修的課程列表\n",
    "        graph = {} # space: O(E)，E: 邊數（先修條件數）\n",
    "        for course, prereq in prerequisites:\n",
    "            graph[prereq] = graph.get(prereq, []) + [course]\n",
    "        print(f\"{graph=}\\n\")\n",
    "\n",
    "        # 用來追蹤每個課程的狀態\n",
    "        # 0: 未訪問, 1: 正在訪問（用於檢測環）, 2: 已完成訪問\n",
    "        visited = [0] * numCourses # space: O(V)，V: 節點數（課程數）\n",
    "        # 存儲最終的課程修習順序\n",
    "        result = [] # space: O(V)，V: 節點數（課程數）\n",
    "\n",
    "        def dfs(course):\n",
    "            print(\"-\"*100)\n",
    "            print(f\"\\n{course=}, {visited=}\")\n",
    "\n",
    "            # 如果當前課程正在被訪問，表示存在環（循環依賴）\n",
    "            if visited[course] == 1:\n",
    "                print(f\"visited[{course}] == 1 -> return False\")\n",
    "                return False\n",
    "            \n",
    "            # 如果課程已經完成訪問，不需要再次處理\n",
    "            if visited[course] == 2:\n",
    "                print(f\"visited[{course}] == 2 -> return True\")\n",
    "                return True\n",
    "\n",
    "            # 標記當前課程為正在訪問\n",
    "            visited[course] = 1\n",
    "            print(f\"visited[{course}] = 1\")\n",
    "            print(f\"{visited=}\")\n",
    "\n",
    "            # 遍歷當前課程的所有後續課程\n",
    "            for next_course in graph.get(course, []): # time: O(E)，E: 邊數（先修條件數）\n",
    "                print(f\"\\n{course=} -> {next_course=}\")\n",
    "                status = dfs(next_course)\n",
    "                print(f\"\\n{course=} -> {next_course=}, {status=}\")\n",
    "                # 如果在遍歷後續課程時發現環，返回 False\n",
    "                if not status:\n",
    "                    print(f\"return False\")\n",
    "                    return False\n",
    "\n",
    "            # 標記當前課程為已完成訪問\n",
    "            visited[course] = 2\n",
    "            # 將當前課程加入結果列表\n",
    "            # （由於最後會反轉結果，所以這裡是按照完成順序加入）\n",
    "            result.append(course)\n",
    "\n",
    "            print(f\"visited[{course}] = 2\")\n",
    "            print(f\"{visited=}\")\n",
    "            print(f\"{result=} -> return True\")\n",
    "\n",
    "            return True\n",
    "\n",
    "        # 對每個課程進行 DFS\n",
    "        for course in range(numCourses): # time: O(V)，V: 節點數（課程數）\n",
    "            status = dfs(course)\n",
    "            print(f\"{course=}, {status=}\")\n",
    "            print(\"_\"*100)\n",
    "            \n",
    "            # 如果發現環，返回空列表表示無法完成所有課程\n",
    "            if not status:\n",
    "                print(f\"return []\")\n",
    "                return []\n",
    "\n",
    "        # 反轉結果得到正確的修課順序 （因為 DFS 是從後往前加入的）\n",
    "        return result[::-1]"
   ]
  },
  {
   "cell_type": "code",
   "execution_count": 34,
   "metadata": {},
   "outputs": [
    {
     "name": "stdout",
     "output_type": "stream",
     "text": [
      "graph={}\n",
      "\n",
      "----------------------------------------------------------------------------------------------------\n",
      "\n",
      "course=0, visited=[0]\n",
      "visited[0] = 1\n",
      "visited=[1]\n",
      "visited[0] = 2\n",
      "visited=[2]\n",
      "result=[0] -> return True\n",
      "course=0, status=True\n",
      "____________________________________________________________________________________________________\n"
     ]
    },
    {
     "data": {
      "text/plain": [
       "[0]"
      ]
     },
     "execution_count": 34,
     "metadata": {},
     "output_type": "execute_result"
    }
   ],
   "source": [
    "# empty (沒有先修條件，直接返回課程順序)\n",
    "numCourses = 1\n",
    "prerequisites = []\n",
    "Solution().findOrder(numCourses, prerequisites) # [0]"
   ]
  },
  {
   "cell_type": "code",
   "execution_count": 35,
   "metadata": {},
   "outputs": [
    {
     "name": "stdout",
     "output_type": "stream",
     "text": [
      "graph={0: [1], 1: [0]}\n",
      "\n",
      "----------------------------------------------------------------------------------------------------\n",
      "\n",
      "course=0, visited=[0, 0]\n",
      "visited[0] = 1\n",
      "visited=[1, 0]\n",
      "\n",
      "course=0 -> next_course=1\n",
      "----------------------------------------------------------------------------------------------------\n",
      "\n",
      "course=1, visited=[1, 0]\n",
      "visited[1] = 1\n",
      "visited=[1, 1]\n",
      "\n",
      "course=1 -> next_course=0\n",
      "----------------------------------------------------------------------------------------------------\n",
      "\n",
      "course=0, visited=[1, 1]\n",
      "visited[0] == 1 -> return False\n",
      "\n",
      "course=1 -> next_course=0, status=False\n",
      "return False\n",
      "\n",
      "course=0 -> next_course=1, status=False\n",
      "return False\n",
      "course=0, status=False\n",
      "____________________________________________________________________________________________________\n",
      "return []\n"
     ]
    },
    {
     "data": {
      "text/plain": [
       "[]"
      ]
     },
     "execution_count": 35,
     "metadata": {},
     "output_type": "execute_result"
    }
   ],
   "source": [
    "# cycle (有環，已經訪問過的課程，再次訪問，表示有環，無法完成所有課程。ex: 1 -> 0 -> 1)\n",
    "numCourses = 2\n",
    "prerequisites = [[1, 0], [0, 1]]\n",
    "Solution().findOrder(numCourses, prerequisites) # []"
   ]
  },
  {
   "cell_type": "code",
   "execution_count": 36,
   "metadata": {},
   "outputs": [
    {
     "name": "stdout",
     "output_type": "stream",
     "text": [
      "graph={0: [1, 2], 1: [3], 2: [3]}\n",
      "\n",
      "----------------------------------------------------------------------------------------------------\n",
      "\n",
      "course=0, visited=[0, 0, 0, 0]\n",
      "visited[0] = 1\n",
      "visited=[1, 0, 0, 0]\n",
      "\n",
      "course=0 -> next_course=1\n",
      "----------------------------------------------------------------------------------------------------\n",
      "\n",
      "course=1, visited=[1, 0, 0, 0]\n",
      "visited[1] = 1\n",
      "visited=[1, 1, 0, 0]\n",
      "\n",
      "course=1 -> next_course=3\n",
      "----------------------------------------------------------------------------------------------------\n",
      "\n",
      "course=3, visited=[1, 1, 0, 0]\n",
      "visited[3] = 1\n",
      "visited=[1, 1, 0, 1]\n",
      "visited[3] = 2\n",
      "visited=[1, 1, 0, 2]\n",
      "result=[3] -> return True\n",
      "\n",
      "course=1 -> next_course=3, status=True\n",
      "visited[1] = 2\n",
      "visited=[1, 2, 0, 2]\n",
      "result=[3, 1] -> return True\n",
      "\n",
      "course=0 -> next_course=1, status=True\n",
      "\n",
      "course=0 -> next_course=2\n",
      "----------------------------------------------------------------------------------------------------\n",
      "\n",
      "course=2, visited=[1, 2, 0, 2]\n",
      "visited[2] = 1\n",
      "visited=[1, 2, 1, 2]\n",
      "\n",
      "course=2 -> next_course=3\n",
      "----------------------------------------------------------------------------------------------------\n",
      "\n",
      "course=3, visited=[1, 2, 1, 2]\n",
      "visited[3] == 2 -> return True\n",
      "\n",
      "course=2 -> next_course=3, status=True\n",
      "visited[2] = 2\n",
      "visited=[1, 2, 2, 2]\n",
      "result=[3, 1, 2] -> return True\n",
      "\n",
      "course=0 -> next_course=2, status=True\n",
      "visited[0] = 2\n",
      "visited=[2, 2, 2, 2]\n",
      "result=[3, 1, 2, 0] -> return True\n",
      "course=0, status=True\n",
      "____________________________________________________________________________________________________\n",
      "----------------------------------------------------------------------------------------------------\n",
      "\n",
      "course=1, visited=[2, 2, 2, 2]\n",
      "visited[1] == 2 -> return True\n",
      "course=1, status=True\n",
      "____________________________________________________________________________________________________\n",
      "----------------------------------------------------------------------------------------------------\n",
      "\n",
      "course=2, visited=[2, 2, 2, 2]\n",
      "visited[2] == 2 -> return True\n",
      "course=2, status=True\n",
      "____________________________________________________________________________________________________\n",
      "----------------------------------------------------------------------------------------------------\n",
      "\n",
      "course=3, visited=[2, 2, 2, 2]\n",
      "visited[3] == 2 -> return True\n",
      "course=3, status=True\n",
      "____________________________________________________________________________________________________\n"
     ]
    },
    {
     "data": {
      "text/plain": [
       "[0, 2, 1, 3]"
      ]
     },
     "execution_count": 36,
     "metadata": {},
     "output_type": "execute_result"
    }
   ],
   "source": [
    "# normal (沒有環，可以完成所有課程)\n",
    "numCourses = 4\n",
    "prerequisites = [[1, 0], [2, 0], [3, 1], [3, 2]]\n",
    "Solution().findOrder(numCourses, prerequisites) # [0, 1, 2, 3]"
   ]
  }
 ],
 "metadata": {
  "kernelspec": {
   "display_name": ".venv",
   "language": "python",
   "name": "python3"
  },
  "language_info": {
   "codemirror_mode": {
    "name": "ipython",
    "version": 3
   },
   "file_extension": ".py",
   "mimetype": "text/x-python",
   "name": "python",
   "nbconvert_exporter": "python",
   "pygments_lexer": "ipython3",
   "version": "3.11.11"
  }
 },
 "nbformat": 4,
 "nbformat_minor": 2
}
