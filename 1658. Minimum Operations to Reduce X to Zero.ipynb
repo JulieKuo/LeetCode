{
 "cells": [
  {
   "attachments": {},
   "cell_type": "markdown",
   "metadata": {},
   "source": [
    "### 1658. Minimum Operations to Reduce X to Zero"
   ]
  },
  {
   "attachments": {},
   "cell_type": "markdown",
   "metadata": {},
   "source": [
    "如果值正好等於『完整陣列加總值 – x』（也就是目標值），則說明目前並未加進來的值正好就是答案的操作步驟。"
   ]
  },
  {
   "cell_type": "code",
   "execution_count": 6,
   "metadata": {},
   "outputs": [],
   "source": [
    "class Solution:\n",
    "    def minOperations(self, nums, x):\n",
    "        target = sum(nums) - x  # 計算目標總和，透過從 nums 的所有元素總和減去 x\n",
    "        _sum = 0  # 當前的總和\n",
    "        max_len = 0  # 用於儲存子陣列的最大長度\n",
    "        left = 0  # 滑動窗口的左指標\n",
    "        isFound = False  # 用於標記是否找到和為目標值的子陣列\n",
    "        print(f\"nums = {nums}\\nx = {x}, target = {target}\")\n",
    "\n",
    "        for right in range(len(nums)):\n",
    "            _sum += nums[right]  # 將當前元素加到總和中\n",
    "            print(f\"right = {right}, nums[right] = {nums[right]}, _sum = {_sum}\")\n",
    "\n",
    "            # 如果當前的總和太大，透過移動左指標來減少總和\n",
    "            while left <= right and _sum > target:\n",
    "                print(f\"->(_sum = {_sum}) > (target = {target})\")\n",
    "                _sum -= nums[left]  # 從總和中減去左指標所指的元素\n",
    "                print(f\"->left = {left}, nums[left] = {nums[left]}, _sum = {_sum}\")\n",
    "                left += 1  # 將左指標向右移動\n",
    "\n",
    "            # 如果當前總和等於目標值，記錄最大長度\n",
    "            if _sum == target:\n",
    "                isFound = True  # 設置標記表示找到了有效的子陣列\n",
    "                max_len = max(max_len, right - left + 1)  # 更新最大長度\n",
    "                print(f\"update: right = {right}, left = {left}, max_len = {max_len}\\n\")\n",
    "\n",
    "        if isFound:\n",
    "            return len(nums)-max_len\n",
    "        else:\n",
    "            return -1"
   ]
  },
  {
   "cell_type": "code",
   "execution_count": 7,
   "metadata": {},
   "outputs": [
    {
     "name": "stdout",
     "output_type": "stream",
     "text": [
      "nums = [1, 1, 4, 2, 3]\n",
      "x = 5, target = 6\n",
      "right = 0, nums[right] = 1, _sum = 1\n",
      "right = 1, nums[right] = 1, _sum = 2\n",
      "right = 2, nums[right] = 4, _sum = 6\n",
      "update: right = 2, left = 0, max_len = 3\n",
      "\n",
      "right = 3, nums[right] = 2, _sum = 8\n",
      "->(_sum = 8) > (target = 6)\n",
      "->left = 0, nums[left] = 1, _sum = 7\n",
      "->(_sum = 7) > (target = 6)\n",
      "->left = 1, nums[left] = 1, _sum = 6\n",
      "update: right = 3, left = 2, max_len = 3\n",
      "\n",
      "right = 4, nums[right] = 3, _sum = 9\n",
      "->(_sum = 9) > (target = 6)\n",
      "->left = 2, nums[left] = 4, _sum = 5\n"
     ]
    },
    {
     "data": {
      "text/plain": [
       "2"
      ]
     },
     "execution_count": 7,
     "metadata": {},
     "output_type": "execute_result"
    }
   ],
   "source": [
    "nums = [1,1,4,2,3]\n",
    "x = 5\n",
    "# nums = [5,6,7,8,9]\n",
    "# x = 4\n",
    "Solution().minOperations(nums, x)"
   ]
  }
 ],
 "metadata": {
  "kernelspec": {
   "display_name": ".venv",
   "language": "python",
   "name": "python3"
  },
  "language_info": {
   "codemirror_mode": {
    "name": "ipython",
    "version": 3
   },
   "file_extension": ".py",
   "mimetype": "text/x-python",
   "name": "python",
   "nbconvert_exporter": "python",
   "pygments_lexer": "ipython3",
   "version": "3.8.10"
  },
  "orig_nbformat": 4
 },
 "nbformat": 4,
 "nbformat_minor": 2
}
