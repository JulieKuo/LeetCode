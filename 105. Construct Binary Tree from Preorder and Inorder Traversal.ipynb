{
 "cells": [
  {
   "cell_type": "markdown",
   "metadata": {},
   "source": [
    "### 105. Construct Binary Tree from Preorder and Inorder Traversal"
   ]
  },
  {
   "cell_type": "markdown",
   "metadata": {},
   "source": [
    "preorder: 根節點、左節點、右節點  \n",
    "inorder: 左節點、根節點、右節點"
   ]
  },
  {
   "cell_type": "code",
   "execution_count": 1,
   "metadata": {},
   "outputs": [],
   "source": [
    "# Definition for a binary tree node.\n",
    "class TreeNode:\n",
    "    def __init__(self, val=0, left=None, right=None):\n",
    "        self.val = val\n",
    "        self.left = left\n",
    "        self.right = right"
   ]
  },
  {
   "cell_type": "markdown",
   "metadata": {},
   "source": [
    "### DFS (Optimal)"
   ]
  },
  {
   "cell_type": "markdown",
   "metadata": {},
   "source": [
    "**時間複雜度: $O( n )$**  \n",
    "**空間複雜度: $O( n )$**"
   ]
  },
  {
   "cell_type": "code",
   "execution_count": 2,
   "metadata": {},
   "outputs": [],
   "source": [
    "from typing import List, Optional\n",
    "\n",
    "class Solution:\n",
    "    def buildTree(self, preorder: List[int], inorder: List[int]) -> Optional[TreeNode]:\n",
    "        # 紀錄目前處理到的前序遍歷和中序遍歷的索引位置\n",
    "        self.preorder_index = 0\n",
    "        self.inorder_index = 0\n",
    "\n",
    "        def dfs(parent_node_limit):\n",
    "            # 若前序索引已超出範圍，代表樹已構建完畢，返回 None\n",
    "            if self.preorder_index >= len(preorder):\n",
    "                return None\n",
    "\n",
    "            # 如果目前中序節點值等於父節點限制值，代表左子樹已完成，返回 None\n",
    "            if inorder[self.inorder_index] == parent_node_limit:\n",
    "                self.inorder_index += 1  # 移動到下一個中序節點\n",
    "                return None\n",
    "\n",
    "            # 建立目前的根節點\n",
    "            root = TreeNode(preorder[self.preorder_index])\n",
    "            self.preorder_index += 1  # 移動到下一個前序節點\n",
    "\n",
    "            # 遞迴構建左子樹，左子樹的邊界為當前 root 的值\n",
    "            root.left = dfs(parent_node_limit = root.val)\n",
    "            # 遞迴構建右子樹，右子樹的邊界與當前相同（父層傳下來的限制）\n",
    "            root.right = dfs(parent_node_limit = parent_node_limit)\n",
    "\n",
    "            return root\n",
    "\n",
    "        # 初始呼叫，使用無窮大作為整棵樹的邊界\n",
    "        return dfs(parent_node_limit = float(\"inf\")) # time: O(n), space: O(n)"
   ]
  },
  {
   "cell_type": "code",
   "execution_count": 3,
   "metadata": {},
   "outputs": [
    {
     "data": {
      "text/plain": [
       "<__main__.TreeNode at 0x12052d400>"
      ]
     },
     "execution_count": 3,
     "metadata": {},
     "output_type": "execute_result"
    }
   ],
   "source": [
    "# Input: \n",
    "preorder = [3,9,20,15,7]\n",
    "inorder  = [9,3,15,20,7]\n",
    "# Output: [3,9,20,null,null,15,7]\n",
    "\n",
    "Solution().buildTree(preorder, inorder)"
   ]
  },
  {
   "cell_type": "markdown",
   "metadata": {},
   "source": [
    "### DFS + Hash Map"
   ]
  },
  {
   "cell_type": "markdown",
   "metadata": {},
   "source": [
    "**時間複雜度: $O( n )$**  \n",
    "**空間複雜度: $O( n )$**"
   ]
  },
  {
   "cell_type": "code",
   "execution_count": 4,
   "metadata": {},
   "outputs": [],
   "source": [
    "from typing import List, Optional\n",
    "\n",
    "class Solution:\n",
    "    def buildTree(self, preorder: List[int], inorder: List[int]) -> Optional[TreeNode]:\n",
    "        # 建立一個字典，用來快速查詢某個節點值在中序遍歷中的索引位置\n",
    "        indices = {value: idx for idx, value in enumerate(inorder)} # time: O(n)\n",
    "\n",
    "        # 使用類別屬性來紀錄目前在前序遍歷中的索引位置\n",
    "        self.pre_index = 0\n",
    "\n",
    "        def dfs(left, right):\n",
    "            # 若左邊界超過右邊界，代表此區間無節點，回傳 None\n",
    "            if left > right:\n",
    "                return None\n",
    "            \n",
    "            root_value = preorder[self.pre_index] # 取得目前前序遍歷中的根節點值\n",
    "            root = TreeNode(root_value) # 建立根節點\n",
    "            mid = indices[root_value] # 取得此根節點在中序遍歷中的索引位置\n",
    "            \n",
    "            print(\"-\" * 50)\n",
    "            print(f\"{indices = }\")\n",
    "            print(f\"{preorder = }\")\n",
    "            print(f\"{inorder = }\")\n",
    "            print(f\"\\n{left = }, {right = }\")\n",
    "            print(f\"{preorder[left:right+1] = }\")\n",
    "            print(f\"{inorder[left:right+1] = }\")\n",
    "            print(f\"{self.pre_index = }, {root.val = }, {mid = }\")\n",
    "\n",
    "            self.pre_index += 1 # 將前序索引往右移，準備建構下一個節點\n",
    "\n",
    "            # 遞迴建構左子樹，範圍為中序的 left 到 mid - 1\n",
    "            root.left = dfs(left, mid - 1)\n",
    "\n",
    "            # 遞迴建構右子樹，範圍為中序的 mid + 1 到 right\n",
    "            root.right = dfs(mid + 1, right)\n",
    "            print(f\"{root.val = }\")\n",
    "            print(f\"{root.left.val = }\") if root.left else print(f\"{root.left = }\")\n",
    "            print(f\"{root.right.val =}\") if root.right else print(f\"{root.right = }\")\n",
    "\n",
    "            return root\n",
    "\n",
    "        return dfs(0, len(preorder)-1) # time: O(n), space: O(n)"
   ]
  },
  {
   "cell_type": "code",
   "execution_count": 5,
   "metadata": {},
   "outputs": [
    {
     "name": "stdout",
     "output_type": "stream",
     "text": [
      "--------------------------------------------------\n",
      "indices = {9: 0, 3: 1, 15: 2, 20: 3, 7: 4}\n",
      "preorder = [3, 9, 20, 15, 7]\n",
      "inorder = [9, 3, 15, 20, 7]\n",
      "\n",
      "left = 0, right = 4\n",
      "preorder[left:right+1] = [3, 9, 20, 15, 7]\n",
      "inorder[left:right+1] = [9, 3, 15, 20, 7]\n",
      "self.pre_index = 0, root.val = 3, mid = 1\n",
      "--------------------------------------------------\n",
      "indices = {9: 0, 3: 1, 15: 2, 20: 3, 7: 4}\n",
      "preorder = [3, 9, 20, 15, 7]\n",
      "inorder = [9, 3, 15, 20, 7]\n",
      "\n",
      "left = 0, right = 0\n",
      "preorder[left:right+1] = [3]\n",
      "inorder[left:right+1] = [9]\n",
      "self.pre_index = 1, root.val = 9, mid = 0\n",
      "root.val = 9\n",
      "root.left = None\n",
      "root.right = None\n",
      "--------------------------------------------------\n",
      "indices = {9: 0, 3: 1, 15: 2, 20: 3, 7: 4}\n",
      "preorder = [3, 9, 20, 15, 7]\n",
      "inorder = [9, 3, 15, 20, 7]\n",
      "\n",
      "left = 2, right = 4\n",
      "preorder[left:right+1] = [20, 15, 7]\n",
      "inorder[left:right+1] = [15, 20, 7]\n",
      "self.pre_index = 2, root.val = 20, mid = 3\n",
      "--------------------------------------------------\n",
      "indices = {9: 0, 3: 1, 15: 2, 20: 3, 7: 4}\n",
      "preorder = [3, 9, 20, 15, 7]\n",
      "inorder = [9, 3, 15, 20, 7]\n",
      "\n",
      "left = 2, right = 2\n",
      "preorder[left:right+1] = [20]\n",
      "inorder[left:right+1] = [15]\n",
      "self.pre_index = 3, root.val = 15, mid = 2\n",
      "root.val = 15\n",
      "root.left = None\n",
      "root.right = None\n",
      "--------------------------------------------------\n",
      "indices = {9: 0, 3: 1, 15: 2, 20: 3, 7: 4}\n",
      "preorder = [3, 9, 20, 15, 7]\n",
      "inorder = [9, 3, 15, 20, 7]\n",
      "\n",
      "left = 4, right = 4\n",
      "preorder[left:right+1] = [7]\n",
      "inorder[left:right+1] = [7]\n",
      "self.pre_index = 4, root.val = 7, mid = 4\n",
      "root.val = 7\n",
      "root.left = None\n",
      "root.right = None\n",
      "root.val = 20\n",
      "root.left.val = 15\n",
      "root.right.val =7\n",
      "root.val = 3\n",
      "root.left.val = 9\n",
      "root.right.val =20\n"
     ]
    },
    {
     "data": {
      "text/plain": [
       "<__main__.TreeNode at 0x12052e240>"
      ]
     },
     "execution_count": 5,
     "metadata": {},
     "output_type": "execute_result"
    }
   ],
   "source": [
    "# Input: \n",
    "preorder = [3,9,20,15,7]\n",
    "inorder  = [9,3,15,20,7]\n",
    "# Output: [3,9,20,null,null,15,7]\n",
    "\n",
    "Solution().buildTree(preorder, inorder)"
   ]
  },
  {
   "cell_type": "markdown",
   "metadata": {},
   "source": [
    "### DFS"
   ]
  },
  {
   "cell_type": "markdown",
   "metadata": {},
   "source": [
    "**時間複雜度: $O( n^2 )$**  \n",
    "**空間複雜度: $O( n )$**"
   ]
  },
  {
   "cell_type": "code",
   "execution_count": 6,
   "metadata": {},
   "outputs": [],
   "source": [
    "from typing import List, Optional\n",
    "\n",
    "class Solution:\n",
    "    def buildTree(self, preorder: List[int], inorder: List[int]) -> Optional[TreeNode]: # time: O(n^2), space: O(n)\n",
    "        # 如果前序或中序為空，代表沒有節點可建，返回 None\n",
    "        if not preorder or not inorder:\n",
    "            return None\n",
    "        \n",
    "        # 建立根節點，根節點為前序遍歷的第一個元素\n",
    "        root = TreeNode(preorder[0])\n",
    "        print(f\"\\n{preorder = }, {inorder = }\")\n",
    "        print(f\"{root.val = }\")\n",
    "\n",
    "        # 在中序遍歷中找到根節點的位置，左邊的都是左子樹的節點\n",
    "        mid = inorder.index(preorder[0]) # time: O(n)\n",
    "        print(f\"root的左邊有 ({mid = }) 個節點\")\n",
    "\n",
    "        preorder_left_nodes = preorder[1:mid+1] # preorder 中左子樹的部分，去除:root(第1個)，left的結尾會落在(mid+1)，總共才會是mid個\n",
    "        preorder_right_nodes = preorder[mid+1:] # preorder 中右子樹的部分，去除:left(mid個)+root(1個)\n",
    "        inorder_left_nodes = inorder[:mid] # inorder 中左子樹的部分\n",
    "        inorder_right_nodes = inorder[mid+1:] # inorder 中右子樹的部分\n",
    "        print(f\"-> {preorder_left_nodes = }\")\n",
    "        print(f\"-> {preorder_right_nodes = }\")\n",
    "        print(f\"-> {inorder_left_nodes = }\")\n",
    "        print(f\"-> {inorder_right_nodes = }\")\n",
    "        \n",
    "        # 遞迴建立左子樹與右子樹\n",
    "        root.left = self.buildTree(preorder=preorder_left_nodes, inorder=inorder_left_nodes) # time: O(n)\n",
    "        root.right = self.buildTree(preorder=preorder_right_nodes, inorder=inorder_right_nodes) # time: O(n)\n",
    "        print(f\"{root.val = }\")\n",
    "        print(f\"{root.left.val = }\") if root.left else print(f\"{root.left = }\")\n",
    "        print(f\"{root.right.val =}\") if root.right else print(f\"{root.right = }\")\n",
    "\n",
    "        return root"
   ]
  },
  {
   "cell_type": "code",
   "execution_count": 7,
   "metadata": {},
   "outputs": [
    {
     "name": "stdout",
     "output_type": "stream",
     "text": [
      "\n",
      "preorder = [3, 9, 20, 15, 7], inorder = [9, 3, 15, 20, 7]\n",
      "root.val = 3\n",
      "root的左邊有 (mid = 1) 個節點\n",
      "-> preorder_left_nodes = [9]\n",
      "-> preorder_right_nodes = [20, 15, 7]\n",
      "-> inorder_left_nodes = [9]\n",
      "-> inorder_right_nodes = [15, 20, 7]\n",
      "\n",
      "preorder = [9], inorder = [9]\n",
      "root.val = 9\n",
      "root的左邊有 (mid = 0) 個節點\n",
      "-> preorder_left_nodes = []\n",
      "-> preorder_right_nodes = []\n",
      "-> inorder_left_nodes = []\n",
      "-> inorder_right_nodes = []\n",
      "root.val = 9\n",
      "root.left = None\n",
      "root.right = None\n",
      "\n",
      "preorder = [20, 15, 7], inorder = [15, 20, 7]\n",
      "root.val = 20\n",
      "root的左邊有 (mid = 1) 個節點\n",
      "-> preorder_left_nodes = [15]\n",
      "-> preorder_right_nodes = [7]\n",
      "-> inorder_left_nodes = [15]\n",
      "-> inorder_right_nodes = [7]\n",
      "\n",
      "preorder = [15], inorder = [15]\n",
      "root.val = 15\n",
      "root的左邊有 (mid = 0) 個節點\n",
      "-> preorder_left_nodes = []\n",
      "-> preorder_right_nodes = []\n",
      "-> inorder_left_nodes = []\n",
      "-> inorder_right_nodes = []\n",
      "root.val = 15\n",
      "root.left = None\n",
      "root.right = None\n",
      "\n",
      "preorder = [7], inorder = [7]\n",
      "root.val = 7\n",
      "root的左邊有 (mid = 0) 個節點\n",
      "-> preorder_left_nodes = []\n",
      "-> preorder_right_nodes = []\n",
      "-> inorder_left_nodes = []\n",
      "-> inorder_right_nodes = []\n",
      "root.val = 7\n",
      "root.left = None\n",
      "root.right = None\n",
      "root.val = 20\n",
      "root.left.val = 15\n",
      "root.right.val =7\n",
      "root.val = 3\n",
      "root.left.val = 9\n",
      "root.right.val =20\n"
     ]
    },
    {
     "data": {
      "text/plain": [
       "<__main__.TreeNode at 0x12056c080>"
      ]
     },
     "execution_count": 7,
     "metadata": {},
     "output_type": "execute_result"
    }
   ],
   "source": [
    "# Input: \n",
    "preorder = [3,9,20,15,7]\n",
    "inorder  = [9,3,15,20,7]\n",
    "# Output: [3,9,20,null,null,15,7]\n",
    "\n",
    "Solution().buildTree(preorder, inorder)"
   ]
  }
 ],
 "metadata": {
  "kernelspec": {
   "display_name": ".venv (3.12.8)",
   "language": "python",
   "name": "python3"
  },
  "language_info": {
   "codemirror_mode": {
    "name": "ipython",
    "version": 3
   },
   "file_extension": ".py",
   "mimetype": "text/x-python",
   "name": "python",
   "nbconvert_exporter": "python",
   "pygments_lexer": "ipython3",
   "version": "3.12.8"
  },
  "orig_nbformat": 4
 },
 "nbformat": 4,
 "nbformat_minor": 2
}
