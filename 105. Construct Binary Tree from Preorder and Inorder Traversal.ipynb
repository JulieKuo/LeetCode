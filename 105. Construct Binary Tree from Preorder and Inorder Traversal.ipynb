{
 "cells": [
  {
   "cell_type": "markdown",
   "metadata": {},
   "source": [
    "### 105. Construct Binary Tree from Preorder and Inorder Traversal"
   ]
  },
  {
   "cell_type": "code",
   "execution_count": 1,
   "metadata": {},
   "outputs": [],
   "source": [
    "# Definition for a binary tree node.\n",
    "class TreeNode:\n",
    "    def __init__(self, val=0, left=None, right=None):\n",
    "        self.val = val\n",
    "        self.left = left\n",
    "        self.right = right"
   ]
  },
  {
   "cell_type": "code",
   "execution_count": 2,
   "metadata": {},
   "outputs": [],
   "source": [
    "class Solution:\n",
    "    def buildTree(self, preorder, inorder):\n",
    "        # 建立一個字典來映射中序遍歷中每個節點的值到其索引\n",
    "        self.in_index_map = dict(map(reversed, enumerate(inorder)))\n",
    "        \n",
    "        # 調用 build_tree 函數來構建二叉樹，初始設置 pre_start 為 0，in_start 為 0，in_end 為中序遍歷的長度，preorder 為前序遍歷列表\n",
    "        ans = self.build_tree(0, 0, len(inorder), preorder)\n",
    "        # 返回構建好的二叉樹的根節點\n",
    "        return ans[0]\n",
    "\n",
    "    def build_tree(self, pre_start, in_start, in_end, preorder):\n",
    "        # 如果中序遍歷的起始索引大於等於結束索引，表示子樹為空，返回 None 以及 pre_start\n",
    "        if in_start >= in_end:\n",
    "            return None, pre_start\n",
    "        \n",
    "        # 從前序遍歷中取得根節點的值\n",
    "        root_val = preorder[pre_start]\n",
    "        # 使用字典查找中序遍歷中根節點的索引\n",
    "        root_index = self.in_index_map[root_val]\n",
    "        \n",
    "        # 遞歸構建左子樹，pre_end 用於確定右子樹的起始位置\n",
    "        l_tree, pre_end = self.build_tree(pre_start + 1, in_start, root_index, preorder)\n",
    "        # 遞歸構建右子樹，pre_end 會被更新以反映左子樹的結束位置\n",
    "        r_tree, pre_end = self.build_tree(pre_end, root_index + 1, in_end, preorder)\n",
    "        \n",
    "        # 返回構建好的二叉樹節點以及更新後的 pre_end\n",
    "        return TreeNode(root_val, l_tree, r_tree), pre_end"
   ]
  },
  {
   "cell_type": "code",
   "execution_count": 3,
   "metadata": {},
   "outputs": [
    {
     "data": {
      "text/plain": [
       "<__main__.TreeNode at 0x27be08b99f0>"
      ]
     },
     "execution_count": 3,
     "metadata": {},
     "output_type": "execute_result"
    }
   ],
   "source": [
    "# Input: \n",
    "preorder = [3,9,20,15,7]\n",
    "inorder  = [9,3,15,20,7]\n",
    "# Output: [3,9,20,null,null,15,7]\n",
    "\n",
    "# Input:\n",
    "preorder = [-1]\n",
    "inorder  = [-1]\n",
    "# Output: [-1]\n",
    "Solution().buildTree(preorder, inorder)"
   ]
  }
 ],
 "metadata": {
  "kernelspec": {
   "display_name": ".venv",
   "language": "python",
   "name": "python3"
  },
  "language_info": {
   "codemirror_mode": {
    "name": "ipython",
    "version": 3
   },
   "file_extension": ".py",
   "mimetype": "text/x-python",
   "name": "python",
   "nbconvert_exporter": "python",
   "pygments_lexer": "ipython3",
   "version": "3.10.6"
  },
  "orig_nbformat": 4
 },
 "nbformat": 4,
 "nbformat_minor": 2
}
