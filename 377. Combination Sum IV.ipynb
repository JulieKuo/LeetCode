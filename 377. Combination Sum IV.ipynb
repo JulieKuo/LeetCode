{
 "cells": [
  {
   "cell_type": "markdown",
   "metadata": {},
   "source": [
    "## 377. Combination Sum IV"
   ]
  },
  {
   "cell_type": "code",
   "execution_count": 27,
   "metadata": {},
   "outputs": [],
   "source": [
    "class Solution:\n",
    "    def combinationSum4(self, nums, target):\n",
    "        # 初始化一個長度為(target+1)的動態規劃列表，並全部初始化為0\n",
    "        dp = [0] * (target + 1)\n",
    "        \n",
    "        # 當目標總和為0時，只有一種組合方式，即什麼都不選擇，因此dp[0]設置為1\n",
    "        dp[0] = 1\n",
    "        print(f\"{dp = }\")\n",
    "        \n",
    "        # 從0開始遍歷到目標總和，計算每個目標總和的組合數\n",
    "        for t in range(target + 1):\n",
    "            # 遍歷給定的數字列表\n",
    "            for num in nums:\n",
    "                print(\"-\" * 20)\n",
    "                print(f\"{t = }, {num = }\")\n",
    "                # 如果當前的數字小於等於目標總和t，則該數字可以被選擇\n",
    "                if num <= t:\n",
    "                    print(f\"({num = }) <= ({t = })\")\n",
    "                    print(f\"{dp[t] = }, {dp[t - num] = }\")\n",
    "                    # 將組合數加上選擇該數字後的組合數，即為不選擇該數字時的組合數加上選擇該數字時的組合數\n",
    "                    dp[t] += dp[t - num]\n",
    "                    print(f\"new: {dp = }\")\n",
    "\n",
    "        # 返回目標總和的組合數\n",
    "        return dp[target]\n"
   ]
  },
  {
   "cell_type": "code",
   "execution_count": 28,
   "metadata": {},
   "outputs": [
    {
     "name": "stdout",
     "output_type": "stream",
     "text": [
      "dp = [1, 0, 0, 0, 0]\n",
      "--------------------\n",
      "t = 0, num = 1\n",
      "--------------------\n",
      "t = 0, num = 2\n",
      "--------------------\n",
      "t = 0, num = 3\n",
      "--------------------\n",
      "t = 1, num = 1\n",
      "(num = 1) <= (t = 1)\n",
      "dp[t] = 0, dp[t - num] = 1\n",
      "new: dp = [1, 1, 0, 0, 0]\n",
      "--------------------\n",
      "t = 1, num = 2\n",
      "--------------------\n",
      "t = 1, num = 3\n",
      "--------------------\n",
      "t = 2, num = 1\n",
      "(num = 1) <= (t = 2)\n",
      "dp[t] = 0, dp[t - num] = 1\n",
      "new: dp = [1, 1, 1, 0, 0]\n",
      "--------------------\n",
      "t = 2, num = 2\n",
      "(num = 2) <= (t = 2)\n",
      "dp[t] = 1, dp[t - num] = 1\n",
      "new: dp = [1, 1, 2, 0, 0]\n",
      "--------------------\n",
      "t = 2, num = 3\n",
      "--------------------\n",
      "t = 3, num = 1\n",
      "(num = 1) <= (t = 3)\n",
      "dp[t] = 0, dp[t - num] = 2\n",
      "new: dp = [1, 1, 2, 2, 0]\n",
      "--------------------\n",
      "t = 3, num = 2\n",
      "(num = 2) <= (t = 3)\n",
      "dp[t] = 2, dp[t - num] = 1\n",
      "new: dp = [1, 1, 2, 3, 0]\n",
      "--------------------\n",
      "t = 3, num = 3\n",
      "(num = 3) <= (t = 3)\n",
      "dp[t] = 3, dp[t - num] = 1\n",
      "new: dp = [1, 1, 2, 4, 0]\n",
      "--------------------\n",
      "t = 4, num = 1\n",
      "(num = 1) <= (t = 4)\n",
      "dp[t] = 0, dp[t - num] = 4\n",
      "new: dp = [1, 1, 2, 4, 4]\n",
      "--------------------\n",
      "t = 4, num = 2\n",
      "(num = 2) <= (t = 4)\n",
      "dp[t] = 4, dp[t - num] = 2\n",
      "new: dp = [1, 1, 2, 4, 6]\n",
      "--------------------\n",
      "t = 4, num = 3\n",
      "(num = 3) <= (t = 4)\n",
      "dp[t] = 6, dp[t - num] = 1\n",
      "new: dp = [1, 1, 2, 4, 7]\n"
     ]
    },
    {
     "data": {
      "text/plain": [
       "7"
      ]
     },
     "execution_count": 28,
     "metadata": {},
     "output_type": "execute_result"
    }
   ],
   "source": [
    "nums = [1, 2, 3]; target = 4\n",
    "Solution().combinationSum4(nums, target) # 7"
   ]
  },
  {
   "cell_type": "code",
   "execution_count": null,
   "metadata": {},
   "outputs": [],
   "source": []
  }
 ],
 "metadata": {
  "kernelspec": {
   "display_name": ".venv",
   "language": "python",
   "name": "python3"
  },
  "language_info": {
   "codemirror_mode": {
    "name": "ipython",
    "version": 3
   },
   "file_extension": ".py",
   "mimetype": "text/x-python",
   "name": "python",
   "nbconvert_exporter": "python",
   "pygments_lexer": "ipython3",
   "version": "3.9.13"
  }
 },
 "nbformat": 4,
 "nbformat_minor": 2
}
