{
 "cells": [
  {
   "cell_type": "markdown",
   "metadata": {},
   "source": [
    "## 643. Maximum Average Subarray I"
   ]
  },
  {
   "cell_type": "markdown",
   "metadata": {},
   "source": [
    "<img src=\"img/643.jpg\" style=\"zoom:50%\"/>"
   ]
  },
  {
   "cell_type": "code",
   "execution_count": null,
   "metadata": {},
   "outputs": [],
   "source": [
    "class Solution(object):\n",
    "    def findMaxAverage(self, nums, k):\n",
    "        \"\"\"\n",
    "        :type nums: List[int]\n",
    "        :type k: int\n",
    "        :rtype: float\n",
    "        \"\"\"\n",
    "        \n",
    "        # a =  [0 for _ in range(len(nums))]\n",
    "        # a[0] = nums[0]\n",
    "        # for i in range(1, len(nums)):\n",
    "        #     a[i] = a[i-1] + nums[i]\n",
    "\n",
    "        # b = a[k-1]\n",
    "        # for i in range(k, len(a)):\n",
    "        #     b =  max(b, a[i] - a[i-k])\n",
    "\n",
    "        # return b * 1.0 / k\n",
    "\n",
    "        sum = 0\n",
    "        a = float('-inf')\n",
    "        for i in range(len(nums)):\n",
    "            sum += nums[i]\n",
    "            if i >= k:\n",
    "                sum -= nums[i - k]\n",
    "            if i >= k - 1:\n",
    "                a = max(a, sum)\n",
    "                \n",
    "        return a / float(k)"
   ]
  }
 ],
 "metadata": {
  "language_info": {
   "name": "python"
  },
  "orig_nbformat": 4
 },
 "nbformat": 4,
 "nbformat_minor": 2
}
