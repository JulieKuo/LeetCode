{
 "cells": [
  {
   "cell_type": "markdown",
   "metadata": {},
   "source": [
    "## 599. Minimum Index Sum of Two Lists"
   ]
  },
  {
   "cell_type": "markdown",
   "metadata": {},
   "source": [
    "<img src=\"img/599.jpg\" style=\"zoom:50%\"/>"
   ]
  },
  {
   "cell_type": "code",
   "execution_count": null,
   "metadata": {},
   "outputs": [],
   "source": [
    "class Solution(object):\n",
    "    def findRestaurant(self, list1, list2):\n",
    "        \"\"\"\n",
    "        :type list1: List[str]\n",
    "        :type list2: List[str]\n",
    "        :rtype: List[str]\n",
    "        \"\"\"\n",
    "        \n",
    "        hashmap1 = dict()\n",
    "        for i, name in enumerate(list1):\n",
    "            hashmap1[name] = i\n",
    "\n",
    "        hashmap2 = dict()\n",
    "        for i, name in enumerate(list2):\n",
    "            hashmap2[name] = i\n",
    "        hashmap1, hashmap2\n",
    "\n",
    "        a = list(set(list1) & set(list2))\n",
    "        b = len(list1)+len(list2)\n",
    "        for i in a:\n",
    "            if hashmap1[i]+hashmap2[i] < b:\n",
    "                b = hashmap1[i]+hashmap2[i]\n",
    "                res = [i]\n",
    "            elif hashmap1[i]+hashmap2[i] == b:\n",
    "                res.append(i)\n",
    "                \n",
    "        return res"
   ]
  }
 ],
 "metadata": {
  "language_info": {
   "name": "python"
  },
  "orig_nbformat": 4
 },
 "nbformat": 4,
 "nbformat_minor": 2
}
