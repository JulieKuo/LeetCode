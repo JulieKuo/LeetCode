{
 "cells": [
  {
   "cell_type": "markdown",
   "metadata": {},
   "source": [
    "### 101. Symmetric Tree"
   ]
  },
  {
   "cell_type": "code",
   "execution_count": 1,
   "metadata": {},
   "outputs": [],
   "source": [
    "# Definition for a binary tree node.\n",
    "class TreeNode:\n",
    "    def __init__(self, val=0, left=None, right=None):\n",
    "        self.val = val\n",
    "        self.left = left\n",
    "        self.right = right"
   ]
  },
  {
   "cell_type": "code",
   "execution_count": 2,
   "metadata": {},
   "outputs": [],
   "source": [
    "root = TreeNode(\n",
    "    val = 1, \n",
    "    left = TreeNode(\n",
    "        val = 2, \n",
    "        left = TreeNode(\n",
    "            val = 3, \n",
    "            left = None, \n",
    "            right = None\n",
    "            ), \n",
    "        right = TreeNode(\n",
    "            val = 4, \n",
    "            left = None, \n",
    "            right = None\n",
    "            )\n",
    "        ), \n",
    "    right = TreeNode(\n",
    "        val = 2, \n",
    "        left = TreeNode(\n",
    "            val = 4, \n",
    "            left = None, \n",
    "            right = None\n",
    "            ), \n",
    "        right = TreeNode(\n",
    "            val = 3, \n",
    "            left = None, \n",
    "            right = None\n",
    "            )\n",
    "        ))\n",
    "# Input: root = [1,2,2,3,4,4,3]\n",
    "# Output: true\n",
    "\n",
    "\n",
    "root = TreeNode(\n",
    "    val = 1, \n",
    "    left = TreeNode(\n",
    "        val = 2, \n",
    "        left = None, \n",
    "        right = TreeNode(\n",
    "            val = 3, \n",
    "            left = None, \n",
    "            right = None\n",
    "            )\n",
    "        ), \n",
    "    right = TreeNode(\n",
    "        val = 2, \n",
    "        left = None, \n",
    "        right = TreeNode(\n",
    "            val = 3, \n",
    "            left = None, \n",
    "            right = None\n",
    "            )\n",
    "        ))\n",
    "# Input: root = [1,2,2,null,3,null,3]\n",
    "# Output: false"
   ]
  },
  {
   "cell_type": "code",
   "execution_count": 3,
   "metadata": {},
   "outputs": [],
   "source": [
    "class Solution:\n",
    "    def isSymmetric(self, root):        \n",
    "        if not root: # 特殊情況處理\n",
    "            return True\n",
    "        \n",
    "        return self.isSame(root.left, root.right) # 遞迴呼叫函數\n",
    "    \n",
    "    # 一棵樹被稱為對稱的，如果左子樹必須是右子樹的鏡像反轉\n",
    "    def isSame(self, leftroot, rightroot):\n",
    "        # 如果兩個根節點都是空節點，返回True\n",
    "        if leftroot == None and rightroot == None:\n",
    "            return True\n",
    "        \n",
    "        # 如果只有一個是空節點，返回False\n",
    "        if leftroot == None or rightroot == None:\n",
    "            return False\n",
    "        \n",
    "        # 如果根節點的值不同，返回False\n",
    "        if leftroot.val != rightroot.val:\n",
    "            return False\n",
    "        \n",
    "        # 如果根節點的值相同且左右子樹都是對稱的，返回True\n",
    "        return self.isSame(leftroot.left, rightroot.right) and self.isSame(leftroot.right, rightroot.left)\n"
   ]
  },
  {
   "cell_type": "code",
   "execution_count": 4,
   "metadata": {},
   "outputs": [
    {
     "data": {
      "text/plain": [
       "False"
      ]
     },
     "execution_count": 4,
     "metadata": {},
     "output_type": "execute_result"
    }
   ],
   "source": [
    "Solution().isSymmetric(root)"
   ]
  }
 ],
 "metadata": {
  "kernelspec": {
   "display_name": ".venv",
   "language": "python",
   "name": "python3"
  },
  "language_info": {
   "codemirror_mode": {
    "name": "ipython",
    "version": 3
   },
   "file_extension": ".py",
   "mimetype": "text/x-python",
   "name": "python",
   "nbconvert_exporter": "python",
   "pygments_lexer": "ipython3",
   "version": "3.8.10"
  },
  "orig_nbformat": 4
 },
 "nbformat": 4,
 "nbformat_minor": 2
}
