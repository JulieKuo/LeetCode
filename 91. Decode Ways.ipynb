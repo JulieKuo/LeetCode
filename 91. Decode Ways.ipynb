{
 "cells": [
  {
   "cell_type": "markdown",
   "metadata": {},
   "source": [
    "## 91. Decode Ways"
   ]
  },
  {
   "cell_type": "code",
   "execution_count": 1,
   "metadata": {},
   "outputs": [],
   "source": [
    "class Solution:\n",
    "    def numDecodings(self, s: str) -> int:\n",
    "        dp = [0] * (len(s) + 1)\n",
    "        dp[0] = 1\n",
    "        for i in range(1, len(dp)):\n",
    "            print(f\"<< i = {i}, s[{i-1}] = {s[i-1]} >>\")\n",
    "            if int(s[i-1]) != 0:\n",
    "                dp[i] = dp[i-1]\n",
    "                print(f\"s[{i-1}] = {s[i-1]} -> ({s[i-1]} != 0)\")\n",
    "                print(f\"1: {dp}\", \"\\n\")\n",
    "\n",
    "            if (i != 1) and ('10' <= s[i-2:i] < '26'):\n",
    "                dp[i] += dp[i-2]\n",
    "                print(f\"s[{i-2}:{i}] = {s[i-2:i]} -> (09 < {s[i-2:i]} < 27)\")\n",
    "                print(f\"2: {dp}\", \"\\n\")\n",
    "            \n",
    "            print(f\"new: {dp}\", \"\\n\")\n",
    "\n",
    "        return dp[-1]"
   ]
  },
  {
   "cell_type": "code",
   "execution_count": 2,
   "metadata": {},
   "outputs": [
    {
     "name": "stdout",
     "output_type": "stream",
     "text": [
      "<< i = 1, s[0] = 2 >>\n",
      "s[0] = 2 -> (2 != 0)\n",
      "1: [1, 1, 0, 0, 0, 0] \n",
      "\n",
      "new: [1, 1, 0, 0, 0, 0] \n",
      "\n",
      "<< i = 2, s[1] = 2 >>\n",
      "s[1] = 2 -> (2 != 0)\n",
      "1: [1, 1, 1, 0, 0, 0] \n",
      "\n",
      "s[0:2] = 22 -> (09 < 22 < 27)\n",
      "2: [1, 1, 2, 0, 0, 0] \n",
      "\n",
      "new: [1, 1, 2, 0, 0, 0] \n",
      "\n",
      "<< i = 3, s[2] = 2 >>\n",
      "s[2] = 2 -> (2 != 0)\n",
      "1: [1, 1, 2, 2, 0, 0] \n",
      "\n",
      "s[1:3] = 22 -> (09 < 22 < 27)\n",
      "2: [1, 1, 2, 3, 0, 0] \n",
      "\n",
      "new: [1, 1, 2, 3, 0, 0] \n",
      "\n",
      "<< i = 4, s[3] = 1 >>\n",
      "s[3] = 1 -> (1 != 0)\n",
      "1: [1, 1, 2, 3, 3, 0] \n",
      "\n",
      "s[2:4] = 21 -> (09 < 21 < 27)\n",
      "2: [1, 1, 2, 3, 5, 0] \n",
      "\n",
      "new: [1, 1, 2, 3, 5, 0] \n",
      "\n",
      "<< i = 5, s[4] = 6 >>\n",
      "s[4] = 6 -> (6 != 0)\n",
      "1: [1, 1, 2, 3, 5, 5] \n",
      "\n",
      "s[3:5] = 16 -> (09 < 16 < 27)\n",
      "2: [1, 1, 2, 3, 5, 8] \n",
      "\n",
      "new: [1, 1, 2, 3, 5, 8] \n",
      "\n"
     ]
    },
    {
     "data": {
      "text/plain": [
       "8"
      ]
     },
     "execution_count": 2,
     "metadata": {},
     "output_type": "execute_result"
    }
   ],
   "source": [
    "s = \"22216\"\n",
    "Solution().numDecodings(s)"
   ]
  }
 ],
 "metadata": {
  "kernelspec": {
   "display_name": ".venv",
   "language": "python",
   "name": "python3"
  },
  "language_info": {
   "codemirror_mode": {
    "name": "ipython",
    "version": 3
   },
   "file_extension": ".py",
   "mimetype": "text/x-python",
   "name": "python",
   "nbconvert_exporter": "python",
   "pygments_lexer": "ipython3",
   "version": "3.8.10"
  },
  "orig_nbformat": 4,
  "vscode": {
   "interpreter": {
    "hash": "6a07fcf0145f94b3f971c13d061528107de20ab7b779375f96dab9bbac6a85db"
   }
  }
 },
 "nbformat": 4,
 "nbformat_minor": 2
}
