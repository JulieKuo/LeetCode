{
 "cells": [
  {
   "cell_type": "markdown",
   "metadata": {},
   "source": [
    "## 748. Shortest Completing Word"
   ]
  },
  {
   "cell_type": "markdown",
   "metadata": {},
   "source": [
    "<img src=\"img/747.svg\"/>"
   ]
  },
  {
   "cell_type": "code",
   "execution_count": 103,
   "metadata": {},
   "outputs": [],
   "source": [
    "licensePlate = \"1s3 PSt\"\n",
    "words = [\"step\",\"steps\",\"stripe\",\"stepple\"]"
   ]
  },
  {
   "cell_type": "code",
   "execution_count": 104,
   "metadata": {},
   "outputs": [
    {
     "data": {
      "text/plain": [
       "'spst'"
      ]
     },
     "execution_count": 104,
     "metadata": {},
     "output_type": "execute_result"
    }
   ],
   "source": [
    "licensePlate = licensePlate.lower()\n",
    "licensePlate = licensePlate.replace(\" \", \"\")\n",
    "licensePlate = re.sub(r'[0-9]+', '', licensePlate)\n",
    "licensePlate"
   ]
  },
  {
   "cell_type": "code",
   "execution_count": 105,
   "metadata": {},
   "outputs": [
    {
     "name": "stdout",
     "output_type": "stream",
     "text": [
      "pt\n",
      "p\n",
      "p\n",
      "\n",
      "pt\n",
      "p\n",
      "p\n",
      "\n",
      "\n",
      "pt\n",
      "p\n",
      "p\n",
      "p\n",
      "\n",
      "\n",
      "pt\n",
      "p\n",
      "p\n",
      "\n",
      "\n",
      "\n",
      "\n"
     ]
    }
   ],
   "source": [
    "for i in words:\n",
    "    temp = licensePlate\n",
    "    for j in i:\n",
    "        if j in temp:\n",
    "            temp = temp.replace(j, \"\")\n",
    "        print(temp)"
   ]
  }
 ],
 "metadata": {
  "interpreter": {
   "hash": "c5c899ed1fea65c1aad495f30148e1731af1bcf36c22dbd1b46cba8952568d24"
  },
  "kernelspec": {
   "display_name": "Python 3.9.7 64-bit ('.venv': venv)",
   "name": "python3"
  },
  "language_info": {
   "codemirror_mode": {
    "name": "ipython",
    "version": 3
   },
   "file_extension": ".py",
   "mimetype": "text/x-python",
   "name": "python",
   "nbconvert_exporter": "python",
   "pygments_lexer": "ipython3",
   "version": "3.9.7"
  },
  "orig_nbformat": 4
 },
 "nbformat": 4,
 "nbformat_minor": 2
}
