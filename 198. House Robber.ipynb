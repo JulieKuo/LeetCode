{
 "cells": [
  {
   "cell_type": "markdown",
   "metadata": {},
   "source": [
    "### 198. House Robber"
   ]
  },
  {
   "cell_type": "markdown",
   "metadata": {},
   "source": [
    "**斐波那契數列的一個變體**  \n",
    "Fibonacci Numbers（費波那契數列）\n",
    "特點：\n",
    "- 序列的前兩個數字是 0 和 1\n",
    "- 從第三個數字開始，每個數字都是前兩個數字的和\n",
    "- ex: 0, 1, 1, 2, 3, 5, 8, 13, 21, 34, 55, 89, 144, ..."
   ]
  },
  {
   "cell_type": "markdown",
   "metadata": {},
   "source": [
    "### Dynamic Programming - optimize\n",
    "\n",
    "**時間複雜度: O(n)**  \n",
    "**空間複雜度: O(1)**"
   ]
  },
  {
   "cell_type": "code",
   "execution_count": 7,
   "metadata": {},
   "outputs": [],
   "source": [
    "from typing import List\n",
    "\n",
    "class Solution:\n",
    "    def rob(self, nums: List[int]) -> int:\n",
    "        # 如果只有一個房子，直接返回該房子的金額\n",
    "        if len(nums) == 1:\n",
    "            return nums[0]\n",
    "\n",
    "        last2 = nums[0] # 第0個房子的金額 # space: O(1)\n",
    "        last1 = max(nums[0], nums[1]) # 第0個房子和第1個房子中，較大的金額 # space: O(1)\n",
    "\n",
    "        # 從第2個房子開始，遍歷所有房子\n",
    "        for i in range(2, len(nums)): # time: O(n)\n",
    "            # 不能連續偷兩個房子，所以偷 i-2 的房子可以偷 i；偷 i-1 的房子不能偷 i\n",
    "            # 比較那個值大，紀錄當前最大金額\n",
    "            current = max(nums[i] + last2, last1) \n",
    "            last2 = last1\n",
    "            last1 = current\n",
    "\n",
    "        return last1"
   ]
  },
  {
   "cell_type": "code",
   "execution_count": 8,
   "metadata": {},
   "outputs": [
    {
     "data": {
      "text/plain": [
       "12"
      ]
     },
     "execution_count": 8,
     "metadata": {},
     "output_type": "execute_result"
    }
   ],
   "source": [
    "nums = [2,7,9,3,1]\n",
    "Solution().rob(nums)"
   ]
  },
  {
   "cell_type": "markdown",
   "metadata": {},
   "source": [
    "### Dynamic Programming\n",
    "**時間複雜度: $O(n)$**  \n",
    "**空間複雜度: $O(n)$**"
   ]
  },
  {
   "cell_type": "code",
   "execution_count": 9,
   "metadata": {},
   "outputs": [],
   "source": [
    "from typing import List\n",
    "\n",
    "class Solution:\n",
    "    def rob(self, nums: List[int]) -> int:\n",
    "        # 如果只有一個房子，直接返回該房子的金額\n",
    "        if len(nums) == 1:\n",
    "            return nums[0]\n",
    "\n",
    "        dp = [0] * len(nums) # 儲存累績到第i個房子時的最大金額 # space: O(n)\n",
    "        dp[0] = nums[0]\n",
    "        dp[1] = max(nums[0], nums[1]) # 第0個房子和第1個房子中，較大的金額\n",
    "\n",
    "        # 從第2個房子開始，遍歷所有房子\n",
    "        for i in range(2, len(nums)): # time: O(n)\n",
    "            # 不能連續偷兩個房子，所以偷 i-2 的房子可以偷 i；偷 i-1 的房子不能偷 i\n",
    "            # 比較那個值大，紀錄當前最大金額\n",
    "            dp[i] = max(nums[i] + dp[i-2], dp[i-1])\n",
    "\n",
    "        return dp[-1]"
   ]
  },
  {
   "cell_type": "code",
   "execution_count": 10,
   "metadata": {},
   "outputs": [
    {
     "data": {
      "text/plain": [
       "12"
      ]
     },
     "execution_count": 10,
     "metadata": {},
     "output_type": "execute_result"
    }
   ],
   "source": [
    "nums = [2,7,9,3,1]\n",
    "Solution().rob(nums)"
   ]
  }
 ],
 "metadata": {
  "kernelspec": {
   "display_name": ".venv",
   "language": "python",
   "name": "python3"
  },
  "language_info": {
   "codemirror_mode": {
    "name": "ipython",
    "version": 3
   },
   "file_extension": ".py",
   "mimetype": "text/x-python",
   "name": "python",
   "nbconvert_exporter": "python",
   "pygments_lexer": "ipython3",
   "version": "3.11.2"
  }
 },
 "nbformat": 4,
 "nbformat_minor": 2
}
