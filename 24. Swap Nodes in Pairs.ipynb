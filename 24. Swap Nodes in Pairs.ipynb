{
 "cells": [
  {
   "cell_type": "markdown",
   "metadata": {},
   "source": [
    "### 24. Swap Nodes in Pairs"
   ]
  },
  {
   "cell_type": "markdown",
   "metadata": {},
   "source": [
    "* 時間複雜度: O( $n$ )\n",
    "* 空間複雜度: O( $1$ )"
   ]
  },
  {
   "cell_type": "code",
   "execution_count": 1,
   "metadata": {},
   "outputs": [],
   "source": [
    "# 定義鏈結串列的節點類別\n",
    "class ListNode:\n",
    "    def __init__(self, val=0, next=None):\n",
    "        self.val = val  # 節點的值\n",
    "        self.next = next  # 指向下一個節點的指標"
   ]
  },
  {
   "cell_type": "code",
   "execution_count": 2,
   "metadata": {},
   "outputs": [],
   "source": [
    "head = ListNode(\n",
    "    val = 1,\n",
    "    next = ListNode(\n",
    "        val = 2,\n",
    "        next = ListNode(\n",
    "            val = 3,\n",
    "            next = ListNode(\n",
    "                val = 4,\n",
    "                next = None\n",
    "            )\n",
    "        )\n",
    "    )\n",
    ")"
   ]
  },
  {
   "cell_type": "code",
   "execution_count": 3,
   "metadata": {},
   "outputs": [],
   "source": [
    "from typing import Optional\n",
    "\n",
    "class Solution:\n",
    "    def swapPairs(self, head: Optional[ListNode]) -> Optional[ListNode]:\n",
    "        # 建立虛擬頭節點，方便處理邊界情況\n",
    "        dummy = ListNode(0, head)  # 值為 0，next 指向原始頭節點\n",
    "        previous = dummy  # 初始化 previous 指針，指向虛擬頭節點\n",
    "\n",
    "        # 當有至少兩個節點可以交換時，進入迴圈\n",
    "        while previous.next and previous.next.next:\n",
    "            # 取得相鄰的兩個節點\n",
    "            first = previous.next  # 第一個節點\n",
    "            second = previous.next.next  # 第二個節點\n",
    "\n",
    "            # 開始交換兩個節點的指針\n",
    "            first.next = second.next  # 將第一個節點的 next 指向第二個節點之後的節點\n",
    "            second.next = first  # 將第二個節點的 next 指向第一個節點\n",
    "            previous.next = second  # 將 previous 的 next 指向新的起始節點（第二個節點）\n",
    "\n",
    "            # 移動 previous 指針，準備處理下一組節點\n",
    "            previous = first  # first 現在是新組的最後一個節點\n",
    "\n",
    "        # 返回新鏈結串列的頭節點\n",
    "        return dummy.next\n"
   ]
  },
  {
   "cell_type": "code",
   "execution_count": 4,
   "metadata": {},
   "outputs": [
    {
     "name": "stdout",
     "output_type": "stream",
     "text": [
      "2 1 4 3 "
     ]
    }
   ],
   "source": [
    "result = Solution().swapPairs(head)\n",
    "while result:\n",
    "    print(result.val, end = ' ')\n",
    "    result = result.next"
   ]
  }
 ],
 "metadata": {
  "kernelspec": {
   "display_name": "Python 3",
   "language": "python",
   "name": "python3"
  },
  "language_info": {
   "codemirror_mode": {
    "name": "ipython",
    "version": 3
   },
   "file_extension": ".py",
   "mimetype": "text/x-python",
   "name": "python",
   "nbconvert_exporter": "python",
   "pygments_lexer": "ipython3",
   "version": "3.12.7"
  }
 },
 "nbformat": 4,
 "nbformat_minor": 2
}
