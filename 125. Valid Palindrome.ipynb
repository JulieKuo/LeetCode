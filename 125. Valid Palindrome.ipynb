{
 "cells": [
  {
   "cell_type": "markdown",
   "metadata": {},
   "source": [
    "## 125. Valid Palindrome"
   ]
  },
  {
   "cell_type": "markdown",
   "metadata": {},
   "source": [
    "**時間複雜度: O( $n$ )**  \n",
    "**空間複雜度: O( $1$ )**"
   ]
  },
  {
   "cell_type": "code",
   "execution_count": 1,
   "metadata": {},
   "outputs": [],
   "source": [
    "class Solution:\n",
    "    def isPalindrome(self, s: str) -> bool:\n",
    "        # 初始化左右指標\n",
    "        left = 0 # space: O(1)\n",
    "        right = len(s) - 1 # space: O(1)\n",
    "\n",
    "        # 當左指標小於右指標時持續進行比對\n",
    "        while left < right: # time: O(n/2) = O(n)\n",
    "            # 略過左側不是英數字的字元\n",
    "            while left < right and not s[left].isalnum():\n",
    "                left += 1\n",
    "            # 略過右側不是英數字的字元\n",
    "            while left < right and not s[right].isalnum():\n",
    "                right -= 1\n",
    "\n",
    "            # 比對左右指標指向的字元（忽略大小寫）\n",
    "            if s[left].lower() != s[right].lower():\n",
    "                return False  # 若不相同則不是回文\n",
    "\n",
    "            # 移動指標進行下一輪比對\n",
    "            left += 1\n",
    "            right -= 1\n",
    "\n",
    "        return True  # 全部比對成功則為回文"
   ]
  },
  {
   "cell_type": "code",
   "execution_count": 2,
   "metadata": {},
   "outputs": [
    {
     "data": {
      "text/plain": [
       "True"
      ]
     },
     "execution_count": 2,
     "metadata": {},
     "output_type": "execute_result"
    }
   ],
   "source": [
    "s = \"A man, a plan, a canal: Panama\"\n",
    "Solution().isPalindrome(s)"
   ]
  }
 ],
 "metadata": {
  "kernelspec": {
   "display_name": ".venv",
   "language": "python",
   "name": "python3"
  },
  "language_info": {
   "codemirror_mode": {
    "name": "ipython",
    "version": 3
   },
   "file_extension": ".py",
   "mimetype": "text/x-python",
   "name": "python",
   "nbconvert_exporter": "python",
   "pygments_lexer": "ipython3",
   "version": "3.12.8"
  },
  "orig_nbformat": 4,
  "vscode": {
   "interpreter": {
    "hash": "6a07fcf0145f94b3f971c13d061528107de20ab7b779375f96dab9bbac6a85db"
   }
  }
 },
 "nbformat": 4,
 "nbformat_minor": 2
}
