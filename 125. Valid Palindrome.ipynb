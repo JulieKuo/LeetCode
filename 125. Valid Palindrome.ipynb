{
 "cells": [
  {
   "cell_type": "markdown",
   "metadata": {},
   "source": [
    "## 125. Valid Palindrome"
   ]
  },
  {
   "cell_type": "code",
   "execution_count": 1,
   "metadata": {},
   "outputs": [],
   "source": [
    "class Solution:\n",
    "    def isPalindrome(self, s: str) -> bool:\n",
    "        print(f\"s = {s}\")\n",
    "        l = 0\n",
    "        r = len(s) - 1\n",
    "        while l < r:\n",
    "            print(f\"{'-'*100}\\norginal: l = {l}, r = {r}\")\n",
    "            while l < r and not s[l].isalnum():\n",
    "                print(f\"( l({l}) < r({r}) ) and ( not s[l].isalnum() = not '{s[l]}'.isalnum() = {not s[l].isalnum()} )\")\n",
    "                l += 1\n",
    "                print(f\"new:  l = {l}, r = {r}\\n\")\n",
    "\n",
    "            while l < r and not s[r].isalnum():\n",
    "                print(f\"( l({l}) < r({r}) ) and ( not s[r].isalnum() = not '{s[r]}'.isalnum() = {not s[r].isalnum()} )\")\n",
    "                r -= 1\n",
    "                print(f\"new:  l = {l}, r = {r}\\n\")\n",
    "\n",
    "            if s[l].lower() != s[r].lower():\n",
    "                print(f\"(s[l].lower() = s[{l}].lower() = '{s[l]}'.lower() = {s[l].lower()}) != (s[r].lower() = s[{r}].lower() = '{s[r]}'.lower() = {s[r].lower()})\")\n",
    "                return False\n",
    "\n",
    "            print(f\"palindrome: (s[l].lower() = s[{l}].lower() = '{s[l]}'.lower() = {s[l].lower()}) == (s[r].lower() = s[{r}].lower() = '{s[r]}'.lower() = {s[r].lower()})\")\n",
    "            l += 1\n",
    "            r -= 1\n",
    "        \n",
    "        return True"
   ]
  },
  {
   "cell_type": "code",
   "execution_count": 2,
   "metadata": {},
   "outputs": [
    {
     "name": "stdout",
     "output_type": "stream",
     "text": [
      "s = A man, a plan, a canal: Panama\n",
      "----------------------------------------------------------------------------------------------------\n",
      "orginal: l = 0, r = 29\n",
      "palindrome: (s[l].lower() = s[0].lower() = 'A'.lower() = a) == (s[r].lower() = s[29].lower() = 'a'.lower() = a)\n",
      "----------------------------------------------------------------------------------------------------\n",
      "orginal: l = 1, r = 28\n",
      "( l(1) < r(28) ) and ( not s[l].isalnum() = not ' '.isalnum() = True )\n",
      "new:  l = 2, r = 28\n",
      "\n",
      "palindrome: (s[l].lower() = s[2].lower() = 'm'.lower() = m) == (s[r].lower() = s[28].lower() = 'm'.lower() = m)\n",
      "----------------------------------------------------------------------------------------------------\n",
      "orginal: l = 3, r = 27\n",
      "palindrome: (s[l].lower() = s[3].lower() = 'a'.lower() = a) == (s[r].lower() = s[27].lower() = 'a'.lower() = a)\n",
      "----------------------------------------------------------------------------------------------------\n",
      "orginal: l = 4, r = 26\n",
      "palindrome: (s[l].lower() = s[4].lower() = 'n'.lower() = n) == (s[r].lower() = s[26].lower() = 'n'.lower() = n)\n",
      "----------------------------------------------------------------------------------------------------\n",
      "orginal: l = 5, r = 25\n",
      "( l(5) < r(25) ) and ( not s[l].isalnum() = not ','.isalnum() = True )\n",
      "new:  l = 6, r = 25\n",
      "\n",
      "( l(6) < r(25) ) and ( not s[l].isalnum() = not ' '.isalnum() = True )\n",
      "new:  l = 7, r = 25\n",
      "\n",
      "palindrome: (s[l].lower() = s[7].lower() = 'a'.lower() = a) == (s[r].lower() = s[25].lower() = 'a'.lower() = a)\n",
      "----------------------------------------------------------------------------------------------------\n",
      "orginal: l = 8, r = 24\n",
      "( l(8) < r(24) ) and ( not s[l].isalnum() = not ' '.isalnum() = True )\n",
      "new:  l = 9, r = 24\n",
      "\n",
      "palindrome: (s[l].lower() = s[9].lower() = 'p'.lower() = p) == (s[r].lower() = s[24].lower() = 'P'.lower() = p)\n",
      "----------------------------------------------------------------------------------------------------\n",
      "orginal: l = 10, r = 23\n",
      "( l(10) < r(23) ) and ( not s[r].isalnum() = not ' '.isalnum() = True )\n",
      "new:  l = 10, r = 22\n",
      "\n",
      "( l(10) < r(22) ) and ( not s[r].isalnum() = not ':'.isalnum() = True )\n",
      "new:  l = 10, r = 21\n",
      "\n",
      "palindrome: (s[l].lower() = s[10].lower() = 'l'.lower() = l) == (s[r].lower() = s[21].lower() = 'l'.lower() = l)\n",
      "----------------------------------------------------------------------------------------------------\n",
      "orginal: l = 11, r = 20\n",
      "palindrome: (s[l].lower() = s[11].lower() = 'a'.lower() = a) == (s[r].lower() = s[20].lower() = 'a'.lower() = a)\n",
      "----------------------------------------------------------------------------------------------------\n",
      "orginal: l = 12, r = 19\n",
      "palindrome: (s[l].lower() = s[12].lower() = 'n'.lower() = n) == (s[r].lower() = s[19].lower() = 'n'.lower() = n)\n",
      "----------------------------------------------------------------------------------------------------\n",
      "orginal: l = 13, r = 18\n",
      "( l(13) < r(18) ) and ( not s[l].isalnum() = not ','.isalnum() = True )\n",
      "new:  l = 14, r = 18\n",
      "\n",
      "( l(14) < r(18) ) and ( not s[l].isalnum() = not ' '.isalnum() = True )\n",
      "new:  l = 15, r = 18\n",
      "\n",
      "palindrome: (s[l].lower() = s[15].lower() = 'a'.lower() = a) == (s[r].lower() = s[18].lower() = 'a'.lower() = a)\n",
      "----------------------------------------------------------------------------------------------------\n",
      "orginal: l = 16, r = 17\n",
      "( l(16) < r(17) ) and ( not s[l].isalnum() = not ' '.isalnum() = True )\n",
      "new:  l = 17, r = 17\n",
      "\n",
      "palindrome: (s[l].lower() = s[17].lower() = 'c'.lower() = c) == (s[r].lower() = s[17].lower() = 'c'.lower() = c)\n"
     ]
    },
    {
     "data": {
      "text/plain": [
       "True"
      ]
     },
     "execution_count": 2,
     "metadata": {},
     "output_type": "execute_result"
    }
   ],
   "source": [
    "s = \"A man, a plan, a canal: Panama\"\n",
    "Solution().isPalindrome(s)"
   ]
  }
 ],
 "metadata": {
  "kernelspec": {
   "display_name": ".venv",
   "language": "python",
   "name": "python3"
  },
  "language_info": {
   "codemirror_mode": {
    "name": "ipython",
    "version": 3
   },
   "file_extension": ".py",
   "mimetype": "text/x-python",
   "name": "python",
   "nbconvert_exporter": "python",
   "pygments_lexer": "ipython3",
   "version": "3.8.10"
  },
  "orig_nbformat": 4,
  "vscode": {
   "interpreter": {
    "hash": "6a07fcf0145f94b3f971c13d061528107de20ab7b779375f96dab9bbac6a85db"
   }
  }
 },
 "nbformat": 4,
 "nbformat_minor": 2
}
