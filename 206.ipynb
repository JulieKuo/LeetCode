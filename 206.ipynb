{
 "cells": [
  {
   "cell_type": "markdown",
   "metadata": {},
   "source": [
    "### 206. Reverse Linked List"
   ]
  },
  {
   "cell_type": "code",
   "execution_count": null,
   "metadata": {},
   "outputs": [],
   "source": [
    "# Definition for singly-linked list.\n",
    "# class ListNode:\n",
    "#     def __init__(self, val=0, next=None):\n",
    "#         self.val = val\n",
    "#         self.next = next\n",
    "class Solution:\n",
    "    def reverseList(self, head: Optional[ListNode]) -> Optional[ListNode]:\n",
    "        pre = None\n",
    "        while head:\n",
    "            print(f\"head = {head}\")\n",
    "            \n",
    "            temp = head.next\n",
    "            print(f\"先處理head第0個值，其餘的存進temp: \\n    temp = {temp}\")\n",
    "            \n",
    "            head.next = pre\n",
    "            print(f\"head的第0個值後的節點改為接續上一輪的排序結果pre: \\n    head = {head}\")\n",
    "            \n",
    "            pre = head\n",
    "            print(f\"把head指定給pre，供下一輪使用: \\n    pre = {pre}\")\n",
    "            \n",
    "            head = temp\n",
    "            print(f\"進入下一輪前先將剛剛暫存的temp指定回head: \\n    head= {head}\")\n",
    "            print(\"---------------------------------------------------------------------------------------------------------------------------------------\")\n",
    "        \n",
    "        return pre"
   ]
  },
  {
   "cell_type": "code",
   "execution_count": null,
   "metadata": {},
   "outputs": [],
   "source": [
    "# head = ListNode{val: 1, next: ListNode{val: 2, next: ListNode{val: 3, next: ListNode{val: 4, next: ListNode{val: 5, next: None}}}}}\n",
    "# 先處理head第0個值，其餘的存進temp: \n",
    "#     temp = ListNode{val: 2, next: ListNode{val: 3, next: ListNode{val: 4, next: ListNode{val: 5, next: None}}}}\n",
    "# head的第0個值後的節點改為接續上一輪的排序結果pre: \n",
    "#     head = ListNode{val: 1, next: None}\n",
    "# 把head指定給pre，供下一輪使用: \n",
    "#     pre = ListNode{val: 1, next: None}\n",
    "# 進入下一輪前先將剛剛暫存的temp指定回head: \n",
    "#     head= ListNode{val: 2, next: ListNode{val: 3, next: ListNode{val: 4, next: ListNode{val: 5, next: None}}}}\n",
    "# ---------------------------------------------------------------------------------------------------------------------------------------\n",
    "# head = ListNode{val: 2, next: ListNode{val: 3, next: ListNode{val: 4, next: ListNode{val: 5, next: None}}}}\n",
    "# 先處理head第0個值，其餘的存進temp: \n",
    "#     temp = ListNode{val: 3, next: ListNode{val: 4, next: ListNode{val: 5, next: None}}}\n",
    "# head的第0個值後的節點改為接續上一輪的排序結果pre: \n",
    "#     head = ListNode{val: 2, next: ListNode{val: 1, next: None}}\n",
    "# 把head指定給pre，供下一輪使用: \n",
    "#     pre = ListNode{val: 2, next: ListNode{val: 1, next: None}}\n",
    "# 進入下一輪前先將剛剛暫存的temp指定回head: \n",
    "#     head= ListNode{val: 3, next: ListNode{val: 4, next: ListNode{val: 5, next: None}}}\n",
    "# ---------------------------------------------------------------------------------------------------------------------------------------\n",
    "# head = ListNode{val: 3, next: ListNode{val: 4, next: ListNode{val: 5, next: None}}}\n",
    "# 先處理head第0個值，其餘的存進temp: \n",
    "#     temp = ListNode{val: 4, next: ListNode{val: 5, next: None}}\n",
    "# head的第0個值後的節點改為接續上一輪的排序結果pre: \n",
    "#     head = ListNode{val: 3, next: ListNode{val: 2, next: ListNode{val: 1, next: None}}}\n",
    "# 把head指定給pre，供下一輪使用: \n",
    "#     pre = ListNode{val: 3, next: ListNode{val: 2, next: ListNode{val: 1, next: None}}}\n",
    "# 進入下一輪前先將剛剛暫存的temp指定回head: \n",
    "#     head= ListNode{val: 4, next: ListNode{val: 5, next: None}}\n",
    "# ---------------------------------------------------------------------------------------------------------------------------------------\n",
    "# head = ListNode{val: 4, next: ListNode{val: 5, next: None}}\n",
    "# 先處理head第0個值，其餘的存進temp: \n",
    "#     temp = ListNode{val: 5, next: None}\n",
    "# head的第0個值後的節點改為接續上一輪的排序結果pre: \n",
    "#     head = ListNode{val: 4, next: ListNode{val: 3, next: ListNode{val: 2, next: ListNode{val: 1, next: None}}}}\n",
    "# 把head指定給pre，供下一輪使用: \n",
    "#     pre = ListNode{val: 4, next: ListNode{val: 3, next: ListNode{val: 2, next: ListNode{val: 1, next: None}}}}\n",
    "# 進入下一輪前先將剛剛暫存的temp指定回head: \n",
    "#     head= ListNode{val: 5, next: None}\n",
    "# ---------------------------------------------------------------------------------------------------------------------------------------\n",
    "# head = ListNode{val: 5, next: None}\n",
    "# 先處理head第0個值，其餘的存進temp: \n",
    "#     temp = None\n",
    "# head的第0個值後的節點改為接續上一輪的排序結果pre: \n",
    "#     head = ListNode{val: 5, next: ListNode{val: 4, next: ListNode{val: 3, next: ListNode{val: 2, next: ListNode{val: 1, next: None}}}}}\n",
    "# 把head指定給pre，供下一輪使用: \n",
    "#     pre = ListNode{val: 5, next: ListNode{val: 4, next: ListNode{val: 3, next: ListNode{val: 2, next: ListNode{val: 1, next: None}}}}}\n",
    "# 進入下一輪前先將剛剛暫存的temp指定回head: \n",
    "#     head= None\n",
    "# ---------------------------------------------------------------------------------------------------------------------------------------"
   ]
  }
 ],
 "metadata": {
  "interpreter": {
   "hash": "d8c1a87e4764ea7881547c536887df2e9c9ef9a1d8b44ae688e9c35499972fab"
  },
  "kernelspec": {
   "display_name": "Python 3.8.9 ('.venv': venv)",
   "language": "python",
   "name": "python3"
  },
  "language_info": {
   "codemirror_mode": {
    "name": "ipython",
    "version": 3
   },
   "file_extension": ".py",
   "mimetype": "text/x-python",
   "name": "python",
   "nbconvert_exporter": "python",
   "pygments_lexer": "ipython3",
   "version": "3.8.9"
  },
  "orig_nbformat": 4
 },
 "nbformat": 4,
 "nbformat_minor": 2
}
