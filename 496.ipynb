{
 "cells": [
  {
   "cell_type": "markdown",
   "metadata": {},
   "source": [
    "## 496. Next Greater Element I"
   ]
  },
  {
   "cell_type": "code",
   "execution_count": null,
   "metadata": {},
   "outputs": [],
   "source": [
    "class Solution:\n",
    "    def nextGreaterElement(self, nums1: List[int], nums2: List[int]) -> List[int]:\n",
    "        output = []\n",
    "        for i in nums1:\n",
    "            ind = nums2.index(i)\n",
    "            if (ind == len(nums2) - 1 ):\n",
    "                output.append(-1)\n",
    "            elif (max(nums2[ind+1:]) <= i):\n",
    "                 output.append(-1)\n",
    "            else:\n",
    "                for j in nums2[ind+1:]:\n",
    "                    if j > i:\n",
    "                        output.append(j)\n",
    "                        break\n",
    "\n",
    "        return output"
   ]
  }
 ],
 "metadata": {
  "language_info": {
   "name": "python"
  },
  "orig_nbformat": 4
 },
 "nbformat": 4,
 "nbformat_minor": 2
}
