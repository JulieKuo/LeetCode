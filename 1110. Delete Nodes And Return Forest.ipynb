{
 "cells": [
  {
   "cell_type": "markdown",
   "metadata": {},
   "source": [
    "### 1110. Delete Nodes And Return Forest"
   ]
  },
  {
   "cell_type": "code",
   "execution_count": 1,
   "metadata": {},
   "outputs": [],
   "source": [
    "# Definition for a binary tree node.\n",
    "class TreeNode:\n",
    "    def __init__(self, val=0, left=None, right=None):\n",
    "        self.val = val\n",
    "        self.left = left\n",
    "        self.right = right"
   ]
  },
  {
   "cell_type": "code",
   "execution_count": 2,
   "metadata": {},
   "outputs": [],
   "source": [
    "root = TreeNode(\n",
    "    val = 1,\n",
    "    left = TreeNode(\n",
    "        val = 2,\n",
    "        left = TreeNode(\n",
    "            val = 4,\n",
    "            left = None,\n",
    "            right = None\n",
    "        ),\n",
    "        right = TreeNode(\n",
    "            val = 5,\n",
    "            left = None,\n",
    "            right = None\n",
    "        ),\n",
    "    ),\n",
    "    right = TreeNode(\n",
    "        val = 3,\n",
    "        left = TreeNode(\n",
    "            val = 6,\n",
    "            left = None,\n",
    "            right = None\n",
    "        ),\n",
    "        right = TreeNode(\n",
    "            val = 7,\n",
    "            left = None,\n",
    "            right = None\n",
    "        )\n",
    "    )\n",
    ")\n",
    "to_delete = [3,5]\n",
    "\n",
    "# Input: root = [1,2,3,4,5,6,7], to_delete = [3,5]\n",
    "# Output: [[1,2,null,4],[6],[7]"
   ]
  },
  {
   "cell_type": "code",
   "execution_count": 3,
   "metadata": {},
   "outputs": [],
   "source": [
    "from collections import deque\n",
    "\n",
    "class Solution:\n",
    "    def delNodes(self, root, to_delete):\n",
    "        queue = deque([(root, False)]) # 初始化佇列，起始節點root 和 是否有父節點的flag為False\n",
    "        res = [] # 儲存結果的列表\n",
    "\n",
    "        while queue:\n",
    "            node, hasParent = queue.popleft() # 從佇列中取出(節點, 是否有父節點的flag)\n",
    "            print(\"-\" * 200)\n",
    "            print(f\"hasParent = {hasParent}, node = {node}\")\n",
    "\n",
    "            # 如果節點 沒有父節點 且 不在要刪除的節點集合中，則將其加入結果列表\n",
    "            if (not hasParent) and (node.val not in to_delete):\n",
    "                res.append(node)\n",
    "                print(f\"- (not (hasParent = {hasParent})) and ((node.val = {node.val}) not in (to_delete = {to_delete}))\")\n",
    "                print(f\"- res = {res}\")\n",
    "\n",
    "            hasParent = not (node.val in to_delete) # 更新是否有父節點的flag\n",
    "            print(f\"hasParent  = (not ((node.val = {node.val}) in (to_delete = {to_delete}))) = {hasParent}\")\n",
    "\n",
    "            # 如果左節點不為None\n",
    "            if node.left:\n",
    "                print(f\"node.left  = {node.left.val}, hasParent = {hasParent}\")\n",
    "                queue.append((node.left, hasParent)) # 將(左節點, 是否有父節點的flag)加入佇列\n",
    "                if (node.left.val in to_delete):\n",
    "                    node.left = None # 如果左節點在要刪除的節點中，則將左節點設為None\n",
    "                    print(f\"- node = {node}\")\n",
    "                    print(f\"- res  = {res}\")\n",
    "            \n",
    "            # 如果右節點不為None\n",
    "            if node.right:\n",
    "                print(f\"node.right = {node.right.val}, hasParent = {hasParent}\")\n",
    "                queue.append((node.right, hasParent)) # 將(右節點, 是否有父節點的flag)加入佇列\n",
    "                if (node.right.val in to_delete):\n",
    "                    node.right = None # 如果右節點在要刪除的節點中，則將右節點設為None\n",
    "                    print(f\"- node = {node}\")\n",
    "                    print(f\"- res  = {res}\")\n",
    "\n",
    "        return res  # 返回最終結果列表"
   ]
  },
  {
   "cell_type": "code",
   "execution_count": 4,
   "metadata": {},
   "outputs": [
    {
     "name": "stdout",
     "output_type": "stream",
     "text": [
      "--------------------------------------------------------------------------------------------------------------------------------------------------------------------------------------------------------\n",
      "hasParent = False, node = <__main__.TreeNode object at 0x00000219D52C9460>\n",
      "- (not (hasParent = False)) and ((node.val = 1) not in (to_delete = [3, 5]))\n",
      "- res = [<__main__.TreeNode object at 0x00000219D52C9460>]\n",
      "hasParent  = (not ((node.val = 1) in (to_delete = [3, 5]))) = True\n",
      "node.left  = 2, hasParent = True\n",
      "node.right = 3, hasParent = True\n",
      "- node = <__main__.TreeNode object at 0x00000219D52C9460>\n",
      "- res  = [<__main__.TreeNode object at 0x00000219D52C9460>]\n",
      "--------------------------------------------------------------------------------------------------------------------------------------------------------------------------------------------------------\n",
      "hasParent = True, node = <__main__.TreeNode object at 0x00000219D52C92E0>\n",
      "hasParent  = (not ((node.val = 2) in (to_delete = [3, 5]))) = True\n",
      "node.left  = 4, hasParent = True\n",
      "node.right = 5, hasParent = True\n",
      "- node = <__main__.TreeNode object at 0x00000219D52C92E0>\n",
      "- res  = [<__main__.TreeNode object at 0x00000219D52C9460>]\n",
      "--------------------------------------------------------------------------------------------------------------------------------------------------------------------------------------------------------\n",
      "hasParent = True, node = <__main__.TreeNode object at 0x00000219D52C9400>\n",
      "hasParent  = (not ((node.val = 3) in (to_delete = [3, 5]))) = False\n",
      "node.left  = 6, hasParent = False\n",
      "node.right = 7, hasParent = False\n",
      "--------------------------------------------------------------------------------------------------------------------------------------------------------------------------------------------------------\n",
      "hasParent = True, node = <__main__.TreeNode object at 0x00000219D52C9220>\n",
      "hasParent  = (not ((node.val = 4) in (to_delete = [3, 5]))) = True\n",
      "--------------------------------------------------------------------------------------------------------------------------------------------------------------------------------------------------------\n",
      "hasParent = True, node = <__main__.TreeNode object at 0x00000219D52C9280>\n",
      "hasParent  = (not ((node.val = 5) in (to_delete = [3, 5]))) = False\n",
      "--------------------------------------------------------------------------------------------------------------------------------------------------------------------------------------------------------\n",
      "hasParent = False, node = <__main__.TreeNode object at 0x00000219D52C9340>\n",
      "- (not (hasParent = False)) and ((node.val = 6) not in (to_delete = [3, 5]))\n",
      "- res = [<__main__.TreeNode object at 0x00000219D52C9460>, <__main__.TreeNode object at 0x00000219D52C9340>]\n",
      "hasParent  = (not ((node.val = 6) in (to_delete = [3, 5]))) = True\n",
      "--------------------------------------------------------------------------------------------------------------------------------------------------------------------------------------------------------\n",
      "hasParent = False, node = <__main__.TreeNode object at 0x00000219D52C93A0>\n",
      "- (not (hasParent = False)) and ((node.val = 7) not in (to_delete = [3, 5]))\n",
      "- res = [<__main__.TreeNode object at 0x00000219D52C9460>, <__main__.TreeNode object at 0x00000219D52C9340>, <__main__.TreeNode object at 0x00000219D52C93A0>]\n",
      "hasParent  = (not ((node.val = 7) in (to_delete = [3, 5]))) = True\n"
     ]
    },
    {
     "data": {
      "text/plain": [
       "[<__main__.TreeNode at 0x219d52c9460>,\n",
       " <__main__.TreeNode at 0x219d52c9340>,\n",
       " <__main__.TreeNode at 0x219d52c93a0>]"
      ]
     },
     "execution_count": 4,
     "metadata": {},
     "output_type": "execute_result"
    }
   ],
   "source": [
    "Solution().delNodes(root, to_delete)\n"
   ]
  }
 ],
 "metadata": {
  "kernelspec": {
   "display_name": ".venv",
   "language": "python",
   "name": "python3"
  },
  "language_info": {
   "codemirror_mode": {
    "name": "ipython",
    "version": 3
   },
   "file_extension": ".py",
   "mimetype": "text/x-python",
   "name": "python",
   "nbconvert_exporter": "python",
   "pygments_lexer": "ipython3",
   "version": "3.8.10"
  }
 },
 "nbformat": 4,
 "nbformat_minor": 2
}
