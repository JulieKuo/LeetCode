{
 "cells": [
  {
   "cell_type": "markdown",
   "metadata": {},
   "source": [
    "### 207. Course Schedule"
   ]
  },
  {
   "cell_type": "code",
   "execution_count": 1,
   "metadata": {},
   "outputs": [],
   "source": [
    "from collections import deque\n",
    "\n",
    "class Solution:\n",
    "    def canFinish(self, numCourses, prerequisites):\n",
    "        print(f\"n= {numCourses}, prerequisites = {prerequisites}\")\n",
    "        adjacency = [[] for _ in range(numCourses)]  # 修完第i堂課才能修adjacency[i]裡的後續課程\n",
    "        indegree = [0] * numCourses  # 記錄每門課程所需的先修課程數量\n",
    "        ans = []  # 用於存儲可以完成的課程順序\n",
    "\n",
    "        for pair in prerequisites:\n",
    "            course = pair[0]  # 目前的課程\n",
    "            prerequisite = pair[1]  # 先修課程\n",
    "            print(f\"course = {course}, prerequisite = {prerequisite}\")\n",
    "            adjacency[prerequisite].append(course)  # 紀錄修完第prerequisite堂課才能修course課\n",
    "            indegree[course] += 1  # 增加目前課程的先修課程數量\n",
    "            print(f\"adj = {adjacency}\")\n",
    "            print(f\"indegree = {indegree}\")\n",
    "\n",
    "        print()\n",
    "        queue = deque()\n",
    "        for i in range(numCourses):\n",
    "            if indegree[i] == 0:\n",
    "                queue.append(i)  # 如果indegree為0，表示該課程沒有其他先修課，將該課程添加到隊列中\n",
    "                print(f\"(indegree[{i}] = {indegree[i]}) == 0\")\n",
    "                print(f\"queue = {queue}\")\n",
    "        print()\n",
    "\n",
    "        while queue:\n",
    "            current = queue.popleft()  # 從隊列中取出一門課程\n",
    "            ans.append(current)  # 將該課程添加到答案中，表示可以完成\n",
    "            print(\"-\" * 200)\n",
    "            print(f\"current = {current}, ans = {ans}\")\n",
    "\n",
    "            print(f\"adj[{current}] = {adjacency[current]}\")\n",
    "            for next_course in adjacency[current]:\n",
    "                print(f\"next_course = {next_course}, indegree = {indegree}\")\n",
    "                indegree[next_course] -= 1  # 減少下一門課程的indegree\n",
    "                print(f\"indegree = {indegree}\")\n",
    "                if indegree[next_course] == 0:\n",
    "                    queue.append(next_course)  # 如果下一門課程的indegree為0，添加到隊列中\n",
    "                    print(f\"(indegree[{next_course}] = {indegree[next_course]}) == 0\")\n",
    "                    print(f\"queue = {queue}\")\n",
    "\n",
    "        return len(ans) == numCourses  # 如果答案中的課程數等於總課程數，則表示可以完成所有課程\n"
   ]
  },
  {
   "cell_type": "code",
   "execution_count": 2,
   "metadata": {},
   "outputs": [
    {
     "name": "stdout",
     "output_type": "stream",
     "text": [
      "n= 5, prerequisites = [[2, 0], [4, 2], [2, 1], [3, 2]]\n",
      "course = 2, prerequisite = 0\n",
      "adj = [[2], [], [], [], []]\n",
      "indegree = [0, 0, 1, 0, 0]\n",
      "course = 4, prerequisite = 2\n",
      "adj = [[2], [], [4], [], []]\n",
      "indegree = [0, 0, 1, 0, 1]\n",
      "course = 2, prerequisite = 1\n",
      "adj = [[2], [2], [4], [], []]\n",
      "indegree = [0, 0, 2, 0, 1]\n",
      "course = 3, prerequisite = 2\n",
      "adj = [[2], [2], [4, 3], [], []]\n",
      "indegree = [0, 0, 2, 1, 1]\n",
      "\n",
      "(indegree[0] = 0) == 0\n",
      "queue = deque([0])\n",
      "(indegree[1] = 0) == 0\n",
      "queue = deque([0, 1])\n",
      "\n",
      "--------------------------------------------------------------------------------------------------------------------------------------------------------------------------------------------------------\n",
      "current = 0, ans = [0]\n",
      "adj[0] = [2]\n",
      "next_course = 2, indegree = [0, 0, 2, 1, 1]\n",
      "indegree = [0, 0, 1, 1, 1]\n",
      "--------------------------------------------------------------------------------------------------------------------------------------------------------------------------------------------------------\n",
      "current = 1, ans = [0, 1]\n",
      "adj[1] = [2]\n",
      "next_course = 2, indegree = [0, 0, 1, 1, 1]\n",
      "indegree = [0, 0, 0, 1, 1]\n",
      "(indegree[2] = 0) == 0\n",
      "queue = deque([2])\n",
      "--------------------------------------------------------------------------------------------------------------------------------------------------------------------------------------------------------\n",
      "current = 2, ans = [0, 1, 2]\n",
      "adj[2] = [4, 3]\n",
      "next_course = 4, indegree = [0, 0, 0, 1, 1]\n",
      "indegree = [0, 0, 0, 1, 0]\n",
      "(indegree[4] = 0) == 0\n",
      "queue = deque([4])\n",
      "next_course = 3, indegree = [0, 0, 0, 1, 0]\n",
      "indegree = [0, 0, 0, 0, 0]\n",
      "(indegree[3] = 0) == 0\n",
      "queue = deque([4, 3])\n",
      "--------------------------------------------------------------------------------------------------------------------------------------------------------------------------------------------------------\n",
      "current = 4, ans = [0, 1, 2, 4]\n",
      "adj[4] = []\n",
      "--------------------------------------------------------------------------------------------------------------------------------------------------------------------------------------------------------\n",
      "current = 3, ans = [0, 1, 2, 4, 3]\n",
      "adj[3] = []\n"
     ]
    },
    {
     "data": {
      "text/plain": [
       "True"
      ]
     },
     "execution_count": 2,
     "metadata": {},
     "output_type": "execute_result"
    }
   ],
   "source": [
    "numCourses = 5\n",
    "prerequisites = [[2,0], [4,2], [2,1], [3,2]]\n",
    "\n",
    "Solution().canFinish(numCourses, prerequisites)"
   ]
  }
 ],
 "metadata": {
  "kernelspec": {
   "display_name": ".venv",
   "language": "python",
   "name": "python3"
  },
  "language_info": {
   "codemirror_mode": {
    "name": "ipython",
    "version": 3
   },
   "file_extension": ".py",
   "mimetype": "text/x-python",
   "name": "python",
   "nbconvert_exporter": "python",
   "pygments_lexer": "ipython3",
   "version": "3.8.10"
  },
  "orig_nbformat": 4
 },
 "nbformat": 4,
 "nbformat_minor": 2
}
