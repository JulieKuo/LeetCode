{
 "cells": [
  {
   "cell_type": "markdown",
   "metadata": {},
   "source": [
    "## 506. Relative Ranks"
   ]
  },
  {
   "cell_type": "code",
   "execution_count": null,
   "metadata": {},
   "outputs": [],
   "source": [
    "class Solution(object):\n",
    "    def findRelativeRanks(self, score):\n",
    "        \"\"\"\n",
    "        :type score: List[int]\n",
    "        :rtype: List[str]\n",
    "        \"\"\"\n",
    "        \n",
    "        rank = [\"Gold Medal\", \"Silver Medal\", \"Bronze Medal\"]\n",
    "        hashmap = dict()\n",
    "        for i, s in enumerate(score):\n",
    "            hashmap[s] = i\n",
    "        \n",
    "        score = sorted(score, reverse = True)\n",
    "        res = [\"\" for _ in score]\n",
    "        \n",
    "        for i, s in enumerate(score):\n",
    "            if i <= 2:\n",
    "                res[hashmap[s]] = rank[i]\n",
    "            else:\n",
    "                res[hashmap[s]] = str(i+1)\n",
    "            \n",
    "        \n",
    "        return res"
   ]
  },
  {
   "cell_type": "markdown",
   "metadata": {},
   "source": [
    "## 561. Array Partition I"
   ]
  },
  {
   "cell_type": "code",
   "execution_count": null,
   "metadata": {},
   "outputs": [],
   "source": [
    "class Solution(object):\n",
    "    def arrayPairSum(self, nums):\n",
    "        \"\"\"\n",
    "        :type nums: List[int]\n",
    "        :rtype: int\n",
    "        \"\"\"\n",
    "        \n",
    "        nums = sorted(nums)\n",
    "        \n",
    "        return sum(nums[::2])"
   ]
  },
  {
   "cell_type": "markdown",
   "metadata": {},
   "source": [
    "## 566. Reshape the Matrix"
   ]
  },
  {
   "cell_type": "code",
   "execution_count": null,
   "metadata": {},
   "outputs": [],
   "source": [
    "class Solution(object):\n",
    "    def matrixReshape(self, mat, r, c):\n",
    "        \"\"\"\n",
    "        :type mat: List[List[int]]\n",
    "        :type r: int\n",
    "        :type c: int\n",
    "        :rtype: List[List[int]]\n",
    "        \"\"\"\n",
    "        \n",
    "        # import numpy as np\n",
    "        # try:\n",
    "        #     return np.array(mat).reshape(r, c)\n",
    "        # except:\n",
    "        #     return mat\n",
    "        \n",
    "        if len(mat) * len(mat[0]) != r * c:\n",
    "            return mat\n",
    "\n",
    "        orign = []\n",
    "        for row in mat:\n",
    "            for col in row:\n",
    "                orign.append(col)\n",
    "\n",
    "        res = []\n",
    "        k = 0\n",
    "        for i in range(r):\n",
    "            res1 = []\n",
    "            for j in range(c):\n",
    "                res1.append(orign[k])\n",
    "                k += 1\n",
    "            res.append(res1)\n",
    "        return res"
   ]
  },
  {
   "cell_type": "markdown",
   "metadata": {},
   "source": [
    "## 575. Distribute Candies"
   ]
  },
  {
   "cell_type": "code",
   "execution_count": null,
   "metadata": {},
   "outputs": [],
   "source": [
    "class Solution(object):\n",
    "    def distributeCandies(self, candyType):\n",
    "        \"\"\"\n",
    "        :type candyType: List[int]\n",
    "        :rtype: int\n",
    "        \"\"\"\n",
    "        a = len(candyType) / 2\n",
    "        b = len(set(candyType))\n",
    "        \n",
    "        if a >= b:\n",
    "            return b\n",
    "        else:\n",
    "            return a"
   ]
  },
  {
   "cell_type": "markdown",
   "metadata": {},
   "source": [
    "## 594. Longest Harmonious Subsequence"
   ]
  },
  {
   "cell_type": "code",
   "execution_count": null,
   "metadata": {},
   "outputs": [],
   "source": [
    "class Solution(object):\n",
    "    def findLHS(self, nums):\n",
    "        \"\"\"\n",
    "        :type nums: List[int]\n",
    "        :rtype: int\n",
    "        \"\"\"\n",
    "        a = Counter(nums)\n",
    "        \n",
    "        res = 0\n",
    "        for i in a:\n",
    "            if i + 1 in a:\n",
    "                res = max(res, a[i] + a[i+1])\n",
    "                \n",
    "        return res"
   ]
  },
  {
   "cell_type": "markdown",
   "metadata": {},
   "source": [
    "## 598. Range Addition II"
   ]
  },
  {
   "cell_type": "code",
   "execution_count": null,
   "metadata": {},
   "outputs": [],
   "source": [
    "class Solution(object):\n",
    "    def maxCount(self, m, n, ops):\n",
    "        \"\"\"\n",
    "        :type m: int\n",
    "        :type n: int\n",
    "        :type ops: List[List[int]]\n",
    "        :rtype: int\n",
    "        \"\"\"\n",
    "        \n",
    "        row = m\n",
    "        col = n\n",
    "        \n",
    "        for i in ops:\n",
    "            row = min(row, i[0])\n",
    "            col = min(col, i[1])\n",
    "            \n",
    "        return row*col\n",
    "        "
   ]
  },
  {
   "cell_type": "markdown",
   "metadata": {},
   "source": [
    "## 599. Minimum Index Sum of Two Lists"
   ]
  },
  {
   "cell_type": "code",
   "execution_count": null,
   "metadata": {},
   "outputs": [],
   "source": [
    "class Solution(object):\n",
    "    def findRestaurant(self, list1, list2):\n",
    "        \"\"\"\n",
    "        :type list1: List[str]\n",
    "        :type list2: List[str]\n",
    "        :rtype: List[str]\n",
    "        \"\"\"\n",
    "        \n",
    "        hashmap1 = dict()\n",
    "        for i, name in enumerate(list1):\n",
    "            hashmap1[name] = i\n",
    "\n",
    "        hashmap2 = dict()\n",
    "        for i, name in enumerate(list2):\n",
    "            hashmap2[name] = i\n",
    "        hashmap1, hashmap2\n",
    "\n",
    "        a = list(set(list1) & set(list2))\n",
    "        b = len(list1)+len(list2)\n",
    "        for i in a:\n",
    "            if hashmap1[i]+hashmap2[i] < b:\n",
    "                b = hashmap1[i]+hashmap2[i]\n",
    "                res = [i]\n",
    "            elif hashmap1[i]+hashmap2[i] == b:\n",
    "                res.append(i)\n",
    "                \n",
    "        return res"
   ]
  },
  {
   "cell_type": "markdown",
   "metadata": {},
   "source": [
    "## 605. Can Place Flowers"
   ]
  },
  {
   "cell_type": "code",
   "execution_count": null,
   "metadata": {},
   "outputs": [],
   "source": [
    "class Solution(object):\n",
    "    def canPlaceFlowers(self, flowerbed, n):\n",
    "        \"\"\"\n",
    "        :type flowerbed: List[int]\n",
    "        :type n: int\n",
    "        :rtype: bool\n",
    "        \"\"\"\n",
    "        \n",
    "        m = 0\n",
    "        flowerbed = [0] + flowerbed + [0]\n",
    "        for i in range(0,len(flowerbed)-2):\n",
    "            num=0\n",
    "            num=flowerbed[i]+flowerbed[i+1]+flowerbed[i+2]\n",
    "            if num ==0:\n",
    "                m += 1\n",
    "                flowerbed[i+1] = 1\n",
    "        if m >= n:\n",
    "            return True"
   ]
  },
  {
   "cell_type": "markdown",
   "metadata": {},
   "source": [
    "## 628. Maximum Product of Three Numbers"
   ]
  },
  {
   "cell_type": "code",
   "execution_count": null,
   "metadata": {},
   "outputs": [],
   "source": [
    "class Solution(object):\n",
    "    def maximumProduct(self, nums):\n",
    "        \"\"\"\n",
    "        :type nums: List[int]\n",
    "        :rtype: int\n",
    "        \"\"\"\n",
    "        \n",
    "        nums = sorted(nums)\n",
    "        a = nums[-3] * nums[-2] * nums[-1]\n",
    "        b = nums[0] * nums[1] * nums[-1]\n",
    "        return max(a, b)"
   ]
  },
  {
   "cell_type": "markdown",
   "metadata": {},
   "source": [
    "## "
   ]
  },
  {
   "cell_type": "code",
   "execution_count": null,
   "metadata": {},
   "outputs": [],
   "source": []
  },
  {
   "cell_type": "markdown",
   "metadata": {},
   "source": [
    "## "
   ]
  },
  {
   "cell_type": "code",
   "execution_count": null,
   "metadata": {},
   "outputs": [],
   "source": []
  }
 ],
 "metadata": {
  "interpreter": {
   "hash": "b8bdd4e700647ba2b08c59e5df8b7da1dcf50a218bcd4c1bcd9b3dc92e8788e5"
  },
  "kernelspec": {
   "display_name": "Python 3.9.7 64-bit",
   "name": "python3"
  },
  "language_info": {
   "codemirror_mode": {
    "name": "ipython",
    "version": 3
   },
   "file_extension": ".py",
   "mimetype": "text/x-python",
   "name": "python",
   "nbconvert_exporter": "python",
   "pygments_lexer": "ipython3",
   "version": "3.9.7"
  },
  "orig_nbformat": 4
 },
 "nbformat": 4,
 "nbformat_minor": 2
}
