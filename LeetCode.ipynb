{
 "cells": [
  {
   "cell_type": "markdown",
   "metadata": {},
   "source": [
    "## 1. Two Sum"
   ]
  },
  {
   "cell_type": "markdown",
   "metadata": {},
   "source": [
    "<img src=\"img/1.jpg\" style=\"zoom:50%\" />"
   ]
  },
  {
   "cell_type": "code",
   "execution_count": null,
   "metadata": {},
   "outputs": [],
   "source": [
    "class Solution:\n",
    "    def twoSum(self, nums: List[int], target: int) -> List[int]:\n",
    "        \n",
    "        for i in range(len(nums)):\n",
    "            if (target - nums[i]) in nums[i+1 :]:\n",
    "                output = [i, nums[i + 1:].index(target - nums[i]) + (i + 1)]\n",
    "                \n",
    "        return output\n",
    "    \n",
    "    \n",
    "# class Solution:\n",
    "#     def twoSum(self, nums: List[int], target: int) -> List[int]:\n",
    "        \n",
    "#         for i in range(len(nums)):\n",
    "#             for j in range(i + 1, len(nums)):\n",
    "#                 if nums[i] + nums[j] == target:\n",
    "#                     output = [i, j]\n",
    "                \n",
    "#         return output\n",
    "    \n",
    "\n",
    "# class Solution:\n",
    "#     def twoSum(self, nums: List[int], target: int) -> List[int]:\n",
    "            \n",
    "        \n",
    "#         [[i, j] for i in range(len(nums)) for j in range(i + 1, len(nums)) if nums[i] + nums[j] == target][0]\n",
    "                \n",
    "#         return output"
   ]
  },
  {
   "cell_type": "markdown",
   "metadata": {},
   "source": [
    "## 26. Remove Duplicates from Sorted Array"
   ]
  },
  {
   "cell_type": "code",
   "execution_count": null,
   "metadata": {},
   "outputs": [],
   "source": [
    "class Solution:\n",
    "    def removeDuplicates(self, nums: List[int]) -> int:\n",
    "        a = 0\n",
    "        for i in range(1, len(nums)):\n",
    "            if nums[i] != nums[i-1]:\n",
    "                a += 1\n",
    "                nums[a] = nums[i]\n",
    "                \n",
    "        return a + 1"
   ]
  },
  {
   "cell_type": "markdown",
   "metadata": {},
   "source": [
    "## 27. Remove Element"
   ]
  },
  {
   "cell_type": "code",
   "execution_count": null,
   "metadata": {},
   "outputs": [],
   "source": [
    "class Solution:\n",
    "    def removeElement(self, nums: List[int], val: int) -> int:\n",
    "        a = 0\n",
    "        for i in range(0, len(nums)):\n",
    "            if nums[i] != val:\n",
    "                nums[a] = nums[i]\n",
    "                a += 1\n",
    "                \n",
    "        return a"
   ]
  },
  {
   "cell_type": "markdown",
   "metadata": {},
   "source": [
    "## 35. Search Insert Position"
   ]
  },
  {
   "cell_type": "code",
   "execution_count": null,
   "metadata": {},
   "outputs": [],
   "source": [
    "class Solution:\n",
    "    def searchInsert(self, nums: List[int], target: int) -> int:\n",
    "        low = 0\n",
    "        high = len(nums) - 1\n",
    "        while low <= high:\n",
    "            mid = ( low + high ) // 2\n",
    "            if nums[mid] < target:\n",
    "                low = mid + 1\n",
    "            elif nums[mid] > target:\n",
    "                high = mid - 1\n",
    "            else:\n",
    "                return mid\n",
    "            \n",
    "        return low\n",
    "        \n",
    "#         low = 0\n",
    "#         high = len(nums) - 1\n",
    "#         while True:\n",
    "#             median = math.floor((low + high)/2)\n",
    "#             print(low, high,  median)\n",
    "\n",
    "#             if target < nums[0]:\n",
    "#                 median = 0\n",
    "#                 return median\n",
    "#             elif target > nums[-1]:\n",
    "#                 median = len(nums)\n",
    "#                 return median\n",
    "\n",
    "#             if nums[median] > target:\n",
    "#                 high = median\n",
    "#             elif nums[median] < target:\n",
    "#                 low = median\n",
    "#             else:\n",
    "#                 return median\n",
    "\n",
    "#             if median == math.floor((low + high)/2):\n",
    "#                 median += 1\n",
    "#                 return median\n",
    "        \n",
    "        \n",
    "        \n",
    "                \n",
    "#         for i, num in enumerate(nums):\n",
    "#             if num >= target:\n",
    "#                 return i\n",
    "            \n",
    "#         return len(nums)\n",
    "        \n",
    "        \n",
    "        \n",
    "        # return sorted(list(set(nums + [target]))).index(target)\n",
    "    "
   ]
  },
  {
   "cell_type": "markdown",
   "metadata": {},
   "source": [
    "## 53. Maximum Subarray"
   ]
  },
  {
   "cell_type": "code",
   "execution_count": null,
   "metadata": {},
   "outputs": [],
   "source": [
    "class Solution:\n",
    "    def maxSubArray(self, nums: List[int]) -> int:\n",
    "        dp = [nums[0]]\n",
    "        res = dp[0]\n",
    "        for i in nums[1:]:\n",
    "            dp.append(max(dp[-1] + i, i))\n",
    "            if dp[-1] > res:\n",
    "                res = dp[-1]\n",
    "        \n",
    "        return res\n",
    "    \n",
    "    \n",
    "    \n",
    "# class Solution:\n",
    "#     def maxSubArray(self, nums: List[int]) -> int:\n",
    "#         dp = [nums[0]]\n",
    "#         for i in nums[1:]:\n",
    "#             dp.append(max(dp[-1] + i, i))\n",
    "        \n",
    "        \n",
    "#         return max(dp)\n",
    "    \n"
   ]
  },
  {
   "cell_type": "markdown",
   "metadata": {},
   "source": [
    "## 66. Plus One"
   ]
  },
  {
   "cell_type": "code",
   "execution_count": null,
   "metadata": {},
   "outputs": [],
   "source": [
    "class Solution:\n",
    "    def plusOne(self, digits: List[int]) -> List[int]:\n",
    "        for i in range(len(digits)-1, -1, -1):\n",
    "            if digits[i] < 9:\n",
    "                digits[i] = digits[i] + 1\n",
    "                \n",
    "                return digits\n",
    "            \n",
    "            else:\n",
    "                digits[i] = 0\n",
    "\n",
    "        digits.insert(0,1)\n",
    "        \n",
    "        return digits"
   ]
  },
  {
   "cell_type": "markdown",
   "metadata": {},
   "source": [
    "## 88. Merge Sorted Array"
   ]
  },
  {
   "cell_type": "code",
   "execution_count": null,
   "metadata": {},
   "outputs": [],
   "source": [
    "class Solution:\n",
    "    def merge(self, nums1: List[int], m: int, nums2: List[int], n: int) -> None:\n",
    "        \"\"\"\n",
    "        Do not return anything, modify nums1 in-place instead.\n",
    "        \"\"\"\n",
    "        nums = sorted(nums1[:m] + nums2)\n",
    "        \n",
    "        for i, num in enumerate(nums):\n",
    "            nums1[i] = num\n",
    "        "
   ]
  },
  {
   "cell_type": "markdown",
   "metadata": {},
   "source": [
    "## 108. Convert Sorted Array to Binary Search Tree"
   ]
  },
  {
   "cell_type": "code",
   "execution_count": null,
   "metadata": {},
   "outputs": [],
   "source": [
    "# Definition for a binary tree node.\n",
    "# class TreeNode(object):\n",
    "#     def __init__(self, val=0, left=None, right=None):\n",
    "#         self.val = val\n",
    "#         self.left = left\n",
    "#         self.right = right\n",
    "class Solution(object):\n",
    "    def sortedArrayToBST(self, nums):\n",
    "        \"\"\"\n",
    "        :type nums: List[int]\n",
    "        :rtype: TreeNode\n",
    "        \"\"\"\n",
    "        # class TreeNode:\n",
    "        #     def __init__(self, x):\n",
    "        #         self.val = x\n",
    "        #         self.left = None\n",
    "        #         self.right = None\n",
    "        \n",
    "        \n",
    "        if not nums:\n",
    "            return None\n",
    "        \n",
    "        l = len(nums) // 2\n",
    "        root = TreeNode(nums[l])\n",
    "        root.left = self.sortedArrayToBST(nums[:l])\n",
    "        root.right = self.sortedArrayToBST(nums[l + 1:])\n",
    "        \n",
    "        return root"
   ]
  },
  {
   "cell_type": "markdown",
   "metadata": {},
   "source": [
    "## 118. Pascal's Triangle"
   ]
  },
  {
   "cell_type": "code",
   "execution_count": null,
   "metadata": {},
   "outputs": [],
   "source": [
    "class Solution:\n",
    "    def generate(self, numRows: int) -> List[List[int]]:\n",
    "        a = [[1]]\n",
    "        for i in range(numRows-1):\n",
    "            b = [a[-1][0]]\n",
    "            for j in range(0, len(a[-1])):\n",
    "                if j == len(a[-1])-1:\n",
    "                    b.append(a[-1][-1])\n",
    "                else:\n",
    "                    b.append(a[-1][j] + a[-1][j+1])\n",
    "            a.append(b)\n",
    "        return a"
   ]
  },
  {
   "cell_type": "markdown",
   "metadata": {},
   "source": [
    "## 119. Pascal's Triangle II"
   ]
  },
  {
   "cell_type": "code",
   "execution_count": null,
   "metadata": {},
   "outputs": [],
   "source": [
    "class Solution(object):\n",
    "    def getRow(self, rowIndex):\n",
    "        \"\"\"\n",
    "        :type rowIndex: int\n",
    "        :rtype: List[int]\n",
    "        \"\"\"\n",
    "        res = [[1]]\n",
    "        for i in range(0, rowIndex):\n",
    "            res.append(list(map(lambda x, y: x+y, res[-1] + [0], [0] + res[-1])))\n",
    "            \n",
    "        return res[rowIndex]"
   ]
  },
  {
   "cell_type": "markdown",
   "metadata": {},
   "source": [
    "## 121. Best Time to Buy and Sell Stock"
   ]
  },
  {
   "cell_type": "code",
   "execution_count": null,
   "metadata": {},
   "outputs": [],
   "source": [
    "class Solution:\n",
    "    def maxProfit(self, prices: List[int]) -> int:\n",
    "        base = prices[0]\n",
    "        profit = 0\n",
    "        \n",
    "        for i in range(1, len(prices)):\n",
    "            \n",
    "            base = min(base, prices[i])\n",
    "            \n",
    "            profit = max(profit, (prices[i] - base))\n",
    "        \n",
    "        return profit"
   ]
  },
  {
   "cell_type": "markdown",
   "metadata": {},
   "source": [
    "## 136. Single Number"
   ]
  },
  {
   "cell_type": "code",
   "execution_count": null,
   "metadata": {},
   "outputs": [],
   "source": [
    "class Solution:\n",
    "    def singleNumber(self, nums: List[int]) -> int:\n",
    "        for i in range(len(nums)):\n",
    "            if (nums[i] not in nums[i+1:]) and (nums[i] not in nums[:i]):\n",
    "                return nums[i]\n",
    "            "
   ]
  },
  {
   "cell_type": "markdown",
   "metadata": {},
   "source": [
    "## 167. Two Sum II - Input Array Is Sorted"
   ]
  },
  {
   "cell_type": "code",
   "execution_count": null,
   "metadata": {},
   "outputs": [],
   "source": [
    "class Solution:\n",
    "    def twoSum(self, numbers: List[int], target: int) -> List[int]:\n",
    "        # for i in range(len(numbers)):\n",
    "        #     if (target - numbers[i]) in numbers[i+1 :]:\n",
    "        #         output = [i+1, numbers[i + 1:].index(target - numbers[i]) + (i + 1)+1]\n",
    "        # return output\n",
    "    \n",
    "    \n",
    "        left, right = 0, len(numbers) - 1\n",
    "        while True:\n",
    "            tmp = numbers[left] + numbers[right]\n",
    "            if tmp == target:\n",
    "                return [left + 1, right + 1]\n",
    "            elif tmp < target:\n",
    "                left += 1\n",
    "            elif tmp > target:\n",
    "                right -= 1"
   ]
  },
  {
   "cell_type": "markdown",
   "metadata": {},
   "source": [
    "## 169. Majority Element"
   ]
  },
  {
   "cell_type": "code",
   "execution_count": null,
   "metadata": {},
   "outputs": [],
   "source": [
    "class Solution:\n",
    "    def majorityElement(self, nums: List[int]) -> int:\n",
    "\n",
    "        # return statistics.mode(nums)\n",
    "        \n",
    "        nums.sort()\n",
    "        return nums[round((len(nums)-1)/2)]"
   ]
  },
  {
   "cell_type": "markdown",
   "metadata": {},
   "source": [
    "## 217. Contains Duplicate"
   ]
  },
  {
   "cell_type": "code",
   "execution_count": null,
   "metadata": {},
   "outputs": [],
   "source": [
    "class Solution:\n",
    "    def containsDuplicate(self, nums: List[int]) -> bool:\n",
    "        \n",
    "        return len(nums) != len(set(nums))"
   ]
  },
  {
   "cell_type": "markdown",
   "metadata": {},
   "source": [
    "## 219. Contains Duplicate II"
   ]
  },
  {
   "cell_type": "code",
   "execution_count": null,
   "metadata": {},
   "outputs": [],
   "source": [
    "class Solution:\n",
    "    def containsNearbyDuplicate(self, nums: List[int], k: int) -> bool:\n",
    "        record = dict()\n",
    "        for i, num in enumerate(nums):\n",
    "            if record.get(num, -1) != -1:\n",
    "                if abs(record[num] - i) <= k:\n",
    "                    return True\n",
    "            record[num] = i\n",
    "        return False\n",
    "\n",
    "        "
   ]
  },
  {
   "cell_type": "markdown",
   "metadata": {},
   "source": [
    "## 228. Summary Ranges"
   ]
  },
  {
   "cell_type": "code",
   "execution_count": null,
   "metadata": {},
   "outputs": [],
   "source": [
    "class Solution:\n",
    "    def summaryRanges(self, nums: List[int]) -> List[str]:\n",
    "        if nums == []:\n",
    "            return nums\n",
    "        \n",
    "        start, end = nums[0], nums[0]\n",
    "        output = []\n",
    "        for i in nums[1:]:\n",
    "            if end + 1 == i:\n",
    "                end = i\n",
    "            else:\n",
    "                if start == end:\n",
    "                    output.append(str(end))\n",
    "                else:\n",
    "                    output.append(str(start) + \"->\" + str(end))\n",
    "                start, end = i, i\n",
    "                \n",
    "        if start == end:\n",
    "            output.append(str(end))\n",
    "        else:\n",
    "            output.append(str(start) + \"->\" + str(end))\n",
    "        \n",
    "        return output"
   ]
  },
  {
   "cell_type": "markdown",
   "metadata": {},
   "source": [
    "## 268. Missing Number"
   ]
  },
  {
   "cell_type": "code",
   "execution_count": null,
   "metadata": {},
   "outputs": [],
   "source": [
    "class Solution:\n",
    "    def missingNumber(self, nums: List[int]) -> int:\n",
    "        a = set(range(len(nums) + 1))\n",
    "        a = list(a - set(nums))\n",
    "        \n",
    "        return a[0]"
   ]
  },
  {
   "cell_type": "markdown",
   "metadata": {},
   "source": [
    "## 283. Move Zeroes"
   ]
  },
  {
   "cell_type": "code",
   "execution_count": null,
   "metadata": {},
   "outputs": [],
   "source": [
    "class Solution:\n",
    "    def moveZeroes(self, nums: List[int]) -> None:\n",
    "        \"\"\"\n",
    "        Do not return anything, modify nums in-place instead.\n",
    "        \"\"\"\n",
    "        j = 0\n",
    "        for i in range(len(nums)):\n",
    "            if nums[i] != 0:\n",
    "                nums[j], nums[i] = nums[i], nums[j]\n",
    "                j += 1\n",
    "        return nums"
   ]
  },
  {
   "cell_type": "markdown",
   "metadata": {},
   "source": [
    "## 303. Range Sum Query - Immutable"
   ]
  },
  {
   "cell_type": "code",
   "execution_count": null,
   "metadata": {},
   "outputs": [],
   "source": [
    "class NumArray:\n",
    "\n",
    "    def __init__(self, nums: List[int]):\n",
    "        \"\"\"\n",
    "        :type nums: List[int]\n",
    "        \"\"\"\n",
    "        if not nums:\n",
    "            return None\n",
    "        \n",
    "        self.nums = nums\n",
    "        \n",
    "    def sumRange(self, left: int, right: int) -> int:\n",
    "        \n",
    "        return sum(self.nums[left:right+1])\n",
    "\n",
    "\n",
    "\n",
    "# Your NumArray object will be instantiated and called as such:\n",
    "# obj = NumArray(nums)\n",
    "# param_1 = obj.sumRange(left,right)"
   ]
  },
  {
   "cell_type": "markdown",
   "metadata": {},
   "source": [
    "## 349. Intersection of Two Arrays"
   ]
  },
  {
   "cell_type": "code",
   "execution_count": null,
   "metadata": {},
   "outputs": [],
   "source": [
    "class Solution:\n",
    "    def intersection(self, nums1: List[int], nums2: List[int]) -> List[int]:\n",
    "        \n",
    "        return list(set(nums1) & set(nums2))"
   ]
  },
  {
   "cell_type": "markdown",
   "metadata": {},
   "source": [
    "## 350. Intersection of Two Arrays II"
   ]
  },
  {
   "cell_type": "code",
   "execution_count": null,
   "metadata": {},
   "outputs": [],
   "source": [
    "class Solution:\n",
    "    def intersect(self, nums1: List[int], nums2: List[int]) -> List[int]:\n",
    "        output = []\n",
    "        \n",
    "        for i in nums1:\n",
    "            if i in nums2:\n",
    "                nums2.remove(i)\n",
    "                output.append(i)\n",
    "                \n",
    "        return output"
   ]
  },
  {
   "cell_type": "markdown",
   "metadata": {},
   "source": [
    "## 414. Third Maximum Number"
   ]
  },
  {
   "cell_type": "code",
   "execution_count": null,
   "metadata": {},
   "outputs": [],
   "source": [
    "class Solution:\n",
    "    def thirdMax(self, nums: List[int]) -> int:\n",
    "        nums = sorted(list(set(nums)))\n",
    "        \n",
    "        if len(nums) >= 3:\n",
    "            return nums[-3]\n",
    "        else:\n",
    "            return nums[-1]"
   ]
  },
  {
   "cell_type": "markdown",
   "metadata": {},
   "source": [
    "## 448. Find All Numbers Disappeared in an Array"
   ]
  },
  {
   "cell_type": "code",
   "execution_count": null,
   "metadata": {},
   "outputs": [],
   "source": [
    "class Solution:\n",
    "    def findDisappearedNumbers(self, nums: List[int]) -> List[int]:\n",
    "        a = range(1, len(nums)+1)\n",
    "        output = list(set(a) - set(nums))\n",
    "        \n",
    "        return output"
   ]
  },
  {
   "cell_type": "markdown",
   "metadata": {},
   "source": [
    "## 455. Assign Cookies"
   ]
  },
  {
   "cell_type": "code",
   "execution_count": null,
   "metadata": {},
   "outputs": [],
   "source": [
    "class Solution(object):\n",
    "    def findContentChildren(self, g, s):\n",
    "        \"\"\"\n",
    "        :type g: List[int]\n",
    "        :type s: List[int]\n",
    "        :rtype: int\n",
    "        \"\"\"\n",
    "        \n",
    "        g, s = sorted(g), sorted(s)\n",
    "\n",
    "        child = 0\n",
    "        cookie = 0\n",
    "\n",
    "        while (child < len(g)) and (cookie < len(s)):\n",
    "            if g[child] <= s[cookie]:\n",
    "                child += 1\n",
    "            cookie += 1\n",
    "        \n",
    "        return  child"
   ]
  },
  {
   "cell_type": "markdown",
   "metadata": {},
   "source": [
    "## 463. Island Perimeter"
   ]
  },
  {
   "cell_type": "code",
   "execution_count": null,
   "metadata": {},
   "outputs": [],
   "source": [
    "class Solution(object):\n",
    "    def islandPerimeter(self, grid):\n",
    "        \"\"\"\n",
    "        :type grid: List[List[int]]\n",
    "        :rtype: int\n",
    "        \"\"\"\n",
    "        \n",
    "        a = 0\n",
    "        b = 0\n",
    "        for i in grid:\n",
    "            a += sum(i) * 4\n",
    "            for j in range(1,len(i)):\n",
    "                if (i[j-1] == i[j]) and (i[j] == 1):\n",
    "                    b += 2\n",
    "        \n",
    "        rows, cols = len(grid), len(grid[0])\n",
    "        for col in range(cols):\n",
    "            for row in range(1, rows):\n",
    "                if (grid[row-1][col] == grid[row][col]) and (grid[row][col] == 1):\n",
    "                    b += 2\n",
    "                    \n",
    "        return a - b"
   ]
  },
  {
   "cell_type": "markdown",
   "metadata": {},
   "source": [
    "## 485. Max Consecutive Ones"
   ]
  },
  {
   "cell_type": "code",
   "execution_count": null,
   "metadata": {},
   "outputs": [],
   "source": [
    "class Solution:\n",
    "    def findMaxConsecutiveOnes(self, nums: List[int]) -> int:\n",
    "        \n",
    "        one = 0\n",
    "        res = 0\n",
    "        \n",
    "        for i in nums:\n",
    "            if i == 1:\n",
    "                one += 1\n",
    "                res = max(res, one)\n",
    "            else:\n",
    "                one = 0\n",
    "        \n",
    "        return res"
   ]
  },
  {
   "cell_type": "markdown",
   "metadata": {},
   "source": [
    "## 495. Teemo Attacking"
   ]
  },
  {
   "cell_type": "code",
   "execution_count": null,
   "metadata": {},
   "outputs": [],
   "source": [
    "class Solution:\n",
    "    def findPoisonedDuration(self, timeSeries: List[int], duration: int) -> int:\n",
    "        a = duration\n",
    "        for i in range(1, len(timeSeries)):\n",
    "            if (timeSeries[i] - timeSeries[i-1]) < duration:\n",
    "                a += (timeSeries[i] - timeSeries[i-1])\n",
    "            else:\n",
    "                a += duration\n",
    "                \n",
    "        return a"
   ]
  },
  {
   "cell_type": "markdown",
   "metadata": {},
   "source": [
    "## 496. Next Greater Element I"
   ]
  },
  {
   "cell_type": "code",
   "execution_count": null,
   "metadata": {},
   "outputs": [],
   "source": [
    "class Solution:\n",
    "    def nextGreaterElement(self, nums1: List[int], nums2: List[int]) -> List[int]:\n",
    "        output = []\n",
    "        for i in nums1:\n",
    "            ind = nums2.index(i)\n",
    "            if (ind == len(nums2) - 1 ):\n",
    "                output.append(-1)\n",
    "            elif (max(nums2[ind+1:]) <= i):\n",
    "                 output.append(-1)\n",
    "            else:\n",
    "                for j in nums2[ind+1:]:\n",
    "                    if j > i:\n",
    "                        output.append(j)\n",
    "                        break\n",
    "\n",
    "        return output"
   ]
  },
  {
   "cell_type": "markdown",
   "metadata": {},
   "source": [
    "## 500. Keyboard Row"
   ]
  },
  {
   "cell_type": "code",
   "execution_count": null,
   "metadata": {},
   "outputs": [],
   "source": [
    "class Solution:\n",
    "    def findWords(self, words: List[str]) -> List[str]:\n",
    "        a = \"qwertyuiop\"\n",
    "        b = \"asdfghjkl\"\n",
    "        c = \"zxcvbnm\"\n",
    "        a = set([i for i in a])\n",
    "        b = set([i for i in b])\n",
    "        c = set([i for i in c])\n",
    "\n",
    "        output = []\n",
    "        for word in words:\n",
    "            d = set([i for i in word.lower()])\n",
    "            if (d-a == set()) or (d-b == set()) or (d-c == set()):\n",
    "                output.append(word)\n",
    "                \n",
    "        return output"
   ]
  },
  {
   "cell_type": "markdown",
   "metadata": {},
   "source": [
    "## 506. Relative Ranks"
   ]
  },
  {
   "cell_type": "code",
   "execution_count": null,
   "metadata": {},
   "outputs": [],
   "source": [
    "class Solution(object):\n",
    "    def findRelativeRanks(self, score):\n",
    "        \"\"\"\n",
    "        :type score: List[int]\n",
    "        :rtype: List[str]\n",
    "        \"\"\"\n",
    "        \n",
    "        rank = [\"Gold Medal\", \"Silver Medal\", \"Bronze Medal\"]\n",
    "        hashmap = dict()\n",
    "        for i, s in enumerate(score):\n",
    "            hashmap[s] = i\n",
    "        \n",
    "        score = sorted(score, reverse = True)\n",
    "        res = [\"\" for _ in score]\n",
    "        \n",
    "        for i, s in enumerate(score):\n",
    "            if i <= 2:\n",
    "                res[hashmap[s]] = rank[i]\n",
    "            else:\n",
    "                res[hashmap[s]] = str(i+1)\n",
    "            \n",
    "        \n",
    "        return res"
   ]
  },
  {
   "cell_type": "markdown",
   "metadata": {},
   "source": [
    "## 561. Array Partition I"
   ]
  },
  {
   "cell_type": "code",
   "execution_count": null,
   "metadata": {},
   "outputs": [],
   "source": [
    "class Solution(object):\n",
    "    def arrayPairSum(self, nums):\n",
    "        \"\"\"\n",
    "        :type nums: List[int]\n",
    "        :rtype: int\n",
    "        \"\"\"\n",
    "        \n",
    "        nums = sorted(nums)\n",
    "        \n",
    "        return sum(nums[::2])"
   ]
  },
  {
   "cell_type": "markdown",
   "metadata": {},
   "source": [
    "## 566. Reshape the Matrix"
   ]
  },
  {
   "cell_type": "code",
   "execution_count": null,
   "metadata": {},
   "outputs": [],
   "source": [
    "class Solution(object):\n",
    "    def matrixReshape(self, mat, r, c):\n",
    "        \"\"\"\n",
    "        :type mat: List[List[int]]\n",
    "        :type r: int\n",
    "        :type c: int\n",
    "        :rtype: List[List[int]]\n",
    "        \"\"\"\n",
    "        \n",
    "        # import numpy as np\n",
    "        # try:\n",
    "        #     return np.array(mat).reshape(r, c)\n",
    "        # except:\n",
    "        #     return mat\n",
    "        \n",
    "        if len(mat) * len(mat[0]) != r * c:\n",
    "            return mat\n",
    "\n",
    "        orign = []\n",
    "        for row in mat:\n",
    "            for col in row:\n",
    "                orign.append(col)\n",
    "\n",
    "        res = []\n",
    "        k = 0\n",
    "        for i in range(r):\n",
    "            res1 = []\n",
    "            for j in range(c):\n",
    "                res1.append(orign[k])\n",
    "                k += 1\n",
    "            res.append(res1)\n",
    "        return res"
   ]
  },
  {
   "cell_type": "markdown",
   "metadata": {},
   "source": [
    "## 575. Distribute Candies"
   ]
  },
  {
   "cell_type": "code",
   "execution_count": null,
   "metadata": {},
   "outputs": [],
   "source": [
    "class Solution(object):\n",
    "    def distributeCandies(self, candyType):\n",
    "        \"\"\"\n",
    "        :type candyType: List[int]\n",
    "        :rtype: int\n",
    "        \"\"\"\n",
    "        a = len(candyType) / 2\n",
    "        b = len(set(candyType))\n",
    "        \n",
    "        if a >= b:\n",
    "            return b\n",
    "        else:\n",
    "            return a"
   ]
  },
  {
   "cell_type": "markdown",
   "metadata": {},
   "source": [
    "## 594. Longest Harmonious Subsequence"
   ]
  },
  {
   "cell_type": "code",
   "execution_count": null,
   "metadata": {},
   "outputs": [],
   "source": [
    "class Solution(object):\n",
    "    def findLHS(self, nums):\n",
    "        \"\"\"\n",
    "        :type nums: List[int]\n",
    "        :rtype: int\n",
    "        \"\"\"\n",
    "        a = Counter(nums)\n",
    "        \n",
    "        res = 0\n",
    "        for i in a:\n",
    "            if i + 1 in a:\n",
    "                res = max(res, a[i] + a[i+1])\n",
    "                \n",
    "        return res"
   ]
  },
  {
   "cell_type": "markdown",
   "metadata": {},
   "source": [
    "## 598. Range Addition II"
   ]
  },
  {
   "cell_type": "code",
   "execution_count": null,
   "metadata": {},
   "outputs": [],
   "source": [
    "class Solution(object):\n",
    "    def maxCount(self, m, n, ops):\n",
    "        \"\"\"\n",
    "        :type m: int\n",
    "        :type n: int\n",
    "        :type ops: List[List[int]]\n",
    "        :rtype: int\n",
    "        \"\"\"\n",
    "        \n",
    "        row = m\n",
    "        col = n\n",
    "        \n",
    "        for i in ops:\n",
    "            row = min(row, i[0])\n",
    "            col = min(col, i[1])\n",
    "            \n",
    "        return row*col\n",
    "        "
   ]
  },
  {
   "cell_type": "markdown",
   "metadata": {},
   "source": [
    "## 599. Minimum Index Sum of Two Lists"
   ]
  },
  {
   "cell_type": "code",
   "execution_count": null,
   "metadata": {},
   "outputs": [],
   "source": [
    "class Solution(object):\n",
    "    def findRestaurant(self, list1, list2):\n",
    "        \"\"\"\n",
    "        :type list1: List[str]\n",
    "        :type list2: List[str]\n",
    "        :rtype: List[str]\n",
    "        \"\"\"\n",
    "        \n",
    "        hashmap1 = dict()\n",
    "        for i, name in enumerate(list1):\n",
    "            hashmap1[name] = i\n",
    "\n",
    "        hashmap2 = dict()\n",
    "        for i, name in enumerate(list2):\n",
    "            hashmap2[name] = i\n",
    "        hashmap1, hashmap2\n",
    "\n",
    "        a = list(set(list1) & set(list2))\n",
    "        b = len(list1)+len(list2)\n",
    "        for i in a:\n",
    "            if hashmap1[i]+hashmap2[i] < b:\n",
    "                b = hashmap1[i]+hashmap2[i]\n",
    "                res = [i]\n",
    "            elif hashmap1[i]+hashmap2[i] == b:\n",
    "                res.append(i)\n",
    "                \n",
    "        return res"
   ]
  },
  {
   "cell_type": "markdown",
   "metadata": {},
   "source": [
    "## 605. Can Place Flowers"
   ]
  },
  {
   "cell_type": "code",
   "execution_count": null,
   "metadata": {},
   "outputs": [],
   "source": [
    "class Solution(object):\n",
    "    def canPlaceFlowers(self, flowerbed, n):\n",
    "        \"\"\"\n",
    "        :type flowerbed: List[int]\n",
    "        :type n: int\n",
    "        :rtype: bool\n",
    "        \"\"\"\n",
    "        \n",
    "        m = 0\n",
    "        flowerbed = [0] + flowerbed + [0]\n",
    "        for i in range(len(flowerbed)):\n",
    "            if flowerbed[i:i+3] ==[0, 0, 0]:\n",
    "                m += 1\n",
    "                flowerbed[i+1] = 1\n",
    "                \n",
    "        return m >= n"
   ]
  },
  {
   "cell_type": "markdown",
   "metadata": {},
   "source": [
    "## 628. Maximum Product of Three Numbers"
   ]
  },
  {
   "cell_type": "code",
   "execution_count": null,
   "metadata": {},
   "outputs": [],
   "source": [
    "class Solution(object):\n",
    "    def maximumProduct(self, nums):\n",
    "        \"\"\"\n",
    "        :type nums: List[int]\n",
    "        :rtype: int\n",
    "        \"\"\"\n",
    "        nums = sorted(nums)\n",
    "        a = nums[-3] * nums[-2] * nums[-1]\n",
    "        b = nums[0] * nums[1] * nums[-1]\n",
    "\n",
    "        return max(a, b)"
   ]
  },
  {
   "cell_type": "markdown",
   "metadata": {},
   "source": [
    "## 643. Maximum Average Subarray I"
   ]
  },
  {
   "cell_type": "code",
   "execution_count": null,
   "metadata": {},
   "outputs": [],
   "source": [
    "class Solution(object):\n",
    "    def findMaxAverage(self, nums, k):\n",
    "        \"\"\"\n",
    "        :type nums: List[int]\n",
    "        :type k: int\n",
    "        :rtype: float\n",
    "        \"\"\"\n",
    "        \n",
    "        # a =  [0 for _ in range(len(nums))]\n",
    "        # a[0] = nums[0]\n",
    "        # for i in range(1, len(nums)):\n",
    "        #     a[i] = a[i-1] + nums[i]\n",
    "\n",
    "        # b = a[k-1]\n",
    "        # for i in range(k, len(a)):\n",
    "        #     b =  max(b, a[i] - a[i-k])\n",
    "\n",
    "        # return b * 1.0 / k\n",
    "\n",
    "        sum = 0\n",
    "        a = float('-inf')\n",
    "        for i in range(len(nums)):\n",
    "            sum += nums[i]\n",
    "            if i >= k:\n",
    "                sum -= nums[i - k]\n",
    "            if i >= k - 1:\n",
    "                a = max(a, sum)\n",
    "                \n",
    "        return a / float(k)"
   ]
  },
  {
   "cell_type": "markdown",
   "metadata": {},
   "source": [
    "## 645. Set Mismatch"
   ]
  },
  {
   "cell_type": "code",
   "execution_count": null,
   "metadata": {},
   "outputs": [],
   "source": [
    "class Solution(object):\n",
    "    def findErrorNums(self, nums):\n",
    "        \"\"\"\n",
    "        :type nums: List[int]\n",
    "        :rtype: List[int]\n",
    "        \"\"\"\n",
    "        \n",
    "        temp = [0 for _ in nums]\n",
    "        for num in nums:\n",
    "            temp[num-1] += 1\n",
    "\n",
    "        for i in range(len(nums)):\n",
    "            if temp[i] == 2:\n",
    "                repeat = i + 1\n",
    "            if temp[i] == 0:\n",
    "                lost = i + 1\n",
    "                \n",
    "        return [repeat, lost]"
   ]
  },
  {
   "cell_type": "markdown",
   "metadata": {},
   "source": [
    "## 661. Image Smoother"
   ]
  },
  {
   "cell_type": "code",
   "execution_count": null,
   "metadata": {},
   "outputs": [],
   "source": [
    "class Solution:\n",
    "    def imageSmoother(self, img: List[List[int]]) -> List[List[int]]:\n",
    "        \n",
    "        total1 = []\n",
    "        for row in range(len(img)):\n",
    "            total2 = []\n",
    "            for col in range(len(img[0])):\n",
    "                temp = 0\n",
    "                count = 0\n",
    "                for r in range(row-1, row+2):\n",
    "                    for c in range(col-1, col+2):\n",
    "                        if (r >= 0) and (r < len(img)) and (c >= 0) and (c < len(img[0])):\n",
    "                            temp += img[r][c]\n",
    "                            count += 1\n",
    "                temp //= count\n",
    "                total2.append(temp)\n",
    "            total1.append(total2)\n",
    "\n",
    "        return total1"
   ]
  },
  {
   "cell_type": "markdown",
   "metadata": {},
   "source": [
    "## 674. Longest Continuous Increasing Subsequence"
   ]
  },
  {
   "cell_type": "code",
   "execution_count": null,
   "metadata": {},
   "outputs": [],
   "source": [
    "class Solution:\n",
    "    def findLengthOfLCIS(self, nums: List[int]) -> int:\n",
    "        a = 1\n",
    "        b = 1\n",
    "        for i in range(1, len(nums)):\n",
    "            if nums[i] > nums[i-1]:\n",
    "                b += 1\n",
    "                a = max(a, b)\n",
    "            else:\n",
    "                b = 1 \n",
    "        return a"
   ]
  },
  {
   "cell_type": "markdown",
   "metadata": {},
   "source": [
    "## 682. Baseball Game"
   ]
  },
  {
   "cell_type": "code",
   "execution_count": null,
   "metadata": {},
   "outputs": [],
   "source": []
  }
 ],
 "metadata": {
  "interpreter": {
   "hash": "c5c899ed1fea65c1aad495f30148e1731af1bcf36c22dbd1b46cba8952568d24"
  },
  "kernelspec": {
   "display_name": "Python 3.9.7 64-bit ('.venv': venv)",
   "name": "python3"
  },
  "language_info": {
   "codemirror_mode": {
    "name": "ipython",
    "version": 3
   },
   "file_extension": ".py",
   "mimetype": "text/x-python",
   "name": "python",
   "nbconvert_exporter": "python",
   "pygments_lexer": "ipython3",
   "version": "3.8.9"
  },
  "orig_nbformat": 4
 },
 "nbformat": 4,
 "nbformat_minor": 2
}
