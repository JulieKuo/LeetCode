{
 "cells": [
  {
   "cell_type": "markdown",
   "metadata": {},
   "source": [
    "## 278. First Bad Version"
   ]
  },
  {
   "cell_type": "code",
   "execution_count": 1,
   "metadata": {},
   "outputs": [],
   "source": [
    "version = [False, False, False, True, True]\n",
    "def isBadVersion(index):\n",
    "    return version[index-1]"
   ]
  },
  {
   "cell_type": "code",
   "execution_count": 2,
   "metadata": {},
   "outputs": [],
   "source": [
    "# The isBadVersion API is already defined for you.\n",
    "# def isBadVersion(version: int) -> bool:\n",
    "\n",
    "class Solution:\n",
    "    def firstBadVersion(self, n: int) -> int:\n",
    "        left = 0\n",
    "        right = n\n",
    "        while left <= right:\n",
    "            mid = (left + right) // 2\n",
    "\n",
    "            print(f\"origin: left = {left}, right = {right}, mid = {mid}\")\n",
    "            print(f\"isBadVersion({mid}) = {isBadVersion(mid)}\")\n",
    "\n",
    "            if isBadVersion(mid):\n",
    "                right = mid - 1\n",
    "            else:\n",
    "                left = mid + 1\n",
    "            \n",
    "            print(f\"new: left = {left}, right = {right}, mid = {mid}\\n\")\n",
    "\n",
    "        return left"
   ]
  },
  {
   "cell_type": "code",
   "execution_count": 3,
   "metadata": {},
   "outputs": [
    {
     "name": "stdout",
     "output_type": "stream",
     "text": [
      "origin: left = 0, right = 5, mid = 2\n",
      "isBadVersion(2) = False\n",
      "new: left = 3, right = 5, mid = 2\n",
      "\n",
      "origin: left = 3, right = 5, mid = 4\n",
      "isBadVersion(4) = True\n",
      "new: left = 3, right = 3, mid = 4\n",
      "\n",
      "origin: left = 3, right = 3, mid = 3\n",
      "isBadVersion(3) = False\n",
      "new: left = 4, right = 3, mid = 3\n",
      "\n"
     ]
    },
    {
     "data": {
      "text/plain": [
       "4"
      ]
     },
     "execution_count": 3,
     "metadata": {},
     "output_type": "execute_result"
    }
   ],
   "source": [
    "n = 5\n",
    "Solution().firstBadVersion(n)"
   ]
  }
 ],
 "metadata": {
  "kernelspec": {
   "display_name": ".venv",
   "language": "python",
   "name": "python3"
  },
  "language_info": {
   "codemirror_mode": {
    "name": "ipython",
    "version": 3
   },
   "file_extension": ".py",
   "mimetype": "text/x-python",
   "name": "python",
   "nbconvert_exporter": "python",
   "pygments_lexer": "ipython3",
   "version": "3.8.10"
  },
  "orig_nbformat": 4,
  "vscode": {
   "interpreter": {
    "hash": "6a07fcf0145f94b3f971c13d061528107de20ab7b779375f96dab9bbac6a85db"
   }
  }
 },
 "nbformat": 4,
 "nbformat_minor": 2
}
