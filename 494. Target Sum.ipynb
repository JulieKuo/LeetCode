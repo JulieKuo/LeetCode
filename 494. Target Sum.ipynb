{
 "cells": [
  {
   "cell_type": "markdown",
   "metadata": {},
   "source": [
    "### 494. Target Sum"
   ]
  },
  {
   "cell_type": "markdown",
   "metadata": {},
   "source": [
    "**時間複雜度: $O( n \\times target )$**  \n",
    "**空間複雜度: $O( target )$**"
   ]
  },
  {
   "cell_type": "markdown",
   "metadata": {},
   "source": [
    "* 放 + 的數字和為 P，放 - 的數字和為 N\n",
    "* 則 P + (-N) = target\n",
    "* 且 P + N = sum(nums)\n",
    "* 兩式相加得 P = (sum(nums) + target) / 2\n",
    "* 所以問題變成在 nums 中找到和為 P 的子集數量"
   ]
  },
  {
   "cell_type": "code",
   "execution_count": 3,
   "metadata": {},
   "outputs": [],
   "source": [
    "from typing import List\n",
    "\n",
    "class Solution:\n",
    "    def findTargetSumWays(self, nums: List[int], target: int) -> int:\n",
    "        total_sum = sum(nums)\n",
    "        \n",
    "        # 如果目標值的絕對值大於總和，不可能實現\n",
    "        if abs(target) > total_sum:\n",
    "            return 0\n",
    "            \n",
    "        # 如果 target + total_sum 是奇數，不可能實現\n",
    "        if (target + total_sum) % 2 != 0:\n",
    "            return 0\n",
    "        \n",
    "        # 新的目標和\n",
    "        new_target = (target + total_sum) // 2\n",
    "        \n",
    "        # 創建 dp 數組\n",
    "        dp = [0] * (new_target + 1)\n",
    "        dp[0] = 1\n",
    "        \n",
    "        # 填充 dp 數組\n",
    "        for num in nums:\n",
    "            for j in range(new_target, num - 1, -1):\n",
    "                dp[j] += dp[j - num]\n",
    "        \n",
    "        return dp[new_target]"
   ]
  },
  {
   "cell_type": "code",
   "execution_count": 4,
   "metadata": {},
   "outputs": [],
   "source": [
    "nums = [1,1,1,1,1]\n",
    "target = 3\n",
    "Solution().findTargetSumWays(nums, target)"
   ]
  }
 ],
 "metadata": {
  "kernelspec": {
   "display_name": ".venv",
   "language": "python",
   "name": "python3"
  },
  "language_info": {
   "codemirror_mode": {
    "name": "ipython",
    "version": 3
   },
   "file_extension": ".py",
   "mimetype": "text/x-python",
   "name": "python",
   "nbconvert_exporter": "python",
   "pygments_lexer": "ipython3",
   "version": "3.11.2"
  }
 },
 "nbformat": 4,
 "nbformat_minor": 2
}
