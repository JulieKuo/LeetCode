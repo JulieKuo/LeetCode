{
 "cells": [
  {
   "cell_type": "markdown",
   "metadata": {},
   "source": [
    "### 494. Target Sum"
   ]
  },
  {
   "cell_type": "markdown",
   "metadata": {},
   "source": [
    "**時間複雜度: $O( n \\times target )$**  \n",
    "**空間複雜度: $O( target )$**"
   ]
  },
  {
   "cell_type": "markdown",
   "metadata": {},
   "source": [
    "* 放 + 的數字和為 P，放 - 的數字和為 N\n",
    "* 則 P + (-N) = target\n",
    "* 且 P + N = sum(nums)\n",
    "* 兩式相加得 P = (sum(nums) + target) / 2\n",
    "* 所以問題變成在 nums 中找到和為 P 的子集數量"
   ]
  },
  {
   "cell_type": "code",
   "execution_count": 54,
   "metadata": {},
   "outputs": [],
   "source": [
    "from typing import List\n",
    "\n",
    "class Solution:\n",
    "    def findTargetSumWays(self, nums: List[int], target: int) -> int:\n",
    "        total_sum = sum(nums)\n",
    "        print(f\"{total_sum=}, {target=}\")\n",
    "        \n",
    "        # 如果目標值的絕對值大於總和，不可能實現\n",
    "        if abs(target) > total_sum:\n",
    "            print(f\"({abs(target)=}) > ({total_sum=}) -> 0\")\n",
    "            return 0\n",
    "        \n",
    "            \n",
    "        # 如果 target + total_sum 是奇數，不可能實現\n",
    "        if (target + total_sum) % 2 != 0:\n",
    "            print(f\"({(target + total_sum) % 2} != 0) -> 0\")\n",
    "            return 0\n",
    "        \n",
    "        # 新的目標和\n",
    "        new_target = (target + total_sum) // 2\n",
    "        print(f\"{new_target=}\")\n",
    "        \n",
    "        # 創建 dp 數組\n",
    "        dp = [0] * (new_target + 1)\n",
    "        dp[0] = 1\n",
    "        print(f\"{dp=}\")\n",
    "        \n",
    "        # 填充 dp 數組\n",
    "        for num in nums:\n",
    "            print(\"-\"*100)\n",
    "            for j in range(new_target, num - 1, -1):\n",
    "                print(f\"{num=}, {j=}\")\n",
    "                print(f\"dp[j]=dp[{j}]={dp[j]}, dp[j - num]=dp[{j - num}]={dp[j - num]}\")\n",
    "                dp[j] += dp[j - num]\n",
    "                print(f\"dp[j]=dp[{j}]={dp[j]} -> {dp=}\\n\")\n",
    "        \n",
    "        return dp[new_target]"
   ]
  },
  {
   "cell_type": "code",
   "execution_count": 55,
   "metadata": {},
   "outputs": [
    {
     "name": "stdout",
     "output_type": "stream",
     "text": [
      "total_sum=5, target=3\n",
      "new_target=4\n",
      "dp=[1, 0, 0, 0, 0]\n",
      "----------------------------------------------------------------------------------------------------\n",
      "num=1, j=4\n",
      "dp[j]=dp[4]=0, dp[j - num]=dp[3]=0\n",
      "dp[j]=dp[4]=0 -> dp=[1, 0, 0, 0, 0]\n",
      "\n",
      "num=1, j=3\n",
      "dp[j]=dp[3]=0, dp[j - num]=dp[2]=0\n",
      "dp[j]=dp[3]=0 -> dp=[1, 0, 0, 0, 0]\n",
      "\n",
      "num=1, j=2\n",
      "dp[j]=dp[2]=0, dp[j - num]=dp[1]=0\n",
      "dp[j]=dp[2]=0 -> dp=[1, 0, 0, 0, 0]\n",
      "\n",
      "num=1, j=1\n",
      "dp[j]=dp[1]=0, dp[j - num]=dp[0]=1\n",
      "dp[j]=dp[1]=1 -> dp=[1, 1, 0, 0, 0]\n",
      "\n",
      "----------------------------------------------------------------------------------------------------\n",
      "num=1, j=4\n",
      "dp[j]=dp[4]=0, dp[j - num]=dp[3]=0\n",
      "dp[j]=dp[4]=0 -> dp=[1, 1, 0, 0, 0]\n",
      "\n",
      "num=1, j=3\n",
      "dp[j]=dp[3]=0, dp[j - num]=dp[2]=0\n",
      "dp[j]=dp[3]=0 -> dp=[1, 1, 0, 0, 0]\n",
      "\n",
      "num=1, j=2\n",
      "dp[j]=dp[2]=0, dp[j - num]=dp[1]=1\n",
      "dp[j]=dp[2]=1 -> dp=[1, 1, 1, 0, 0]\n",
      "\n",
      "num=1, j=1\n",
      "dp[j]=dp[1]=1, dp[j - num]=dp[0]=1\n",
      "dp[j]=dp[1]=2 -> dp=[1, 2, 1, 0, 0]\n",
      "\n",
      "----------------------------------------------------------------------------------------------------\n",
      "num=1, j=4\n",
      "dp[j]=dp[4]=0, dp[j - num]=dp[3]=0\n",
      "dp[j]=dp[4]=0 -> dp=[1, 2, 1, 0, 0]\n",
      "\n",
      "num=1, j=3\n",
      "dp[j]=dp[3]=0, dp[j - num]=dp[2]=1\n",
      "dp[j]=dp[3]=1 -> dp=[1, 2, 1, 1, 0]\n",
      "\n",
      "num=1, j=2\n",
      "dp[j]=dp[2]=1, dp[j - num]=dp[1]=2\n",
      "dp[j]=dp[2]=3 -> dp=[1, 2, 3, 1, 0]\n",
      "\n",
      "num=1, j=1\n",
      "dp[j]=dp[1]=2, dp[j - num]=dp[0]=1\n",
      "dp[j]=dp[1]=3 -> dp=[1, 3, 3, 1, 0]\n",
      "\n",
      "----------------------------------------------------------------------------------------------------\n",
      "num=1, j=4\n",
      "dp[j]=dp[4]=0, dp[j - num]=dp[3]=1\n",
      "dp[j]=dp[4]=1 -> dp=[1, 3, 3, 1, 1]\n",
      "\n",
      "num=1, j=3\n",
      "dp[j]=dp[3]=1, dp[j - num]=dp[2]=3\n",
      "dp[j]=dp[3]=4 -> dp=[1, 3, 3, 4, 1]\n",
      "\n",
      "num=1, j=2\n",
      "dp[j]=dp[2]=3, dp[j - num]=dp[1]=3\n",
      "dp[j]=dp[2]=6 -> dp=[1, 3, 6, 4, 1]\n",
      "\n",
      "num=1, j=1\n",
      "dp[j]=dp[1]=3, dp[j - num]=dp[0]=1\n",
      "dp[j]=dp[1]=4 -> dp=[1, 4, 6, 4, 1]\n",
      "\n",
      "----------------------------------------------------------------------------------------------------\n",
      "num=1, j=4\n",
      "dp[j]=dp[4]=1, dp[j - num]=dp[3]=4\n",
      "dp[j]=dp[4]=5 -> dp=[1, 4, 6, 4, 5]\n",
      "\n",
      "num=1, j=3\n",
      "dp[j]=dp[3]=4, dp[j - num]=dp[2]=6\n",
      "dp[j]=dp[3]=10 -> dp=[1, 4, 6, 10, 5]\n",
      "\n",
      "num=1, j=2\n",
      "dp[j]=dp[2]=6, dp[j - num]=dp[1]=4\n",
      "dp[j]=dp[2]=10 -> dp=[1, 4, 10, 10, 5]\n",
      "\n",
      "num=1, j=1\n",
      "dp[j]=dp[1]=4, dp[j - num]=dp[0]=1\n",
      "dp[j]=dp[1]=5 -> dp=[1, 5, 10, 10, 5]\n",
      "\n"
     ]
    },
    {
     "data": {
      "text/plain": [
       "5"
      ]
     },
     "execution_count": 55,
     "metadata": {},
     "output_type": "execute_result"
    }
   ],
   "source": [
    "nums = [1,1,1,1,1]\n",
    "target = 3\n",
    "Solution().findTargetSumWays(nums, target)"
   ]
  },
  {
   "cell_type": "code",
   "execution_count": 40,
   "metadata": {},
   "outputs": [
    {
     "name": "stdout",
     "output_type": "stream",
     "text": [
      "total_sum=5, target=4\n",
      "(1 != 0) -> 0\n"
     ]
    },
    {
     "data": {
      "text/plain": [
       "0"
      ]
     },
     "execution_count": 40,
     "metadata": {},
     "output_type": "execute_result"
    }
   ],
   "source": [
    "nums = [1,1,1,1,1]\n",
    "target = 4\n",
    "Solution().findTargetSumWays(nums, target)"
   ]
  },
  {
   "cell_type": "code",
   "execution_count": 41,
   "metadata": {},
   "outputs": [
    {
     "name": "stdout",
     "output_type": "stream",
     "text": [
      "total_sum=5, target=8\n",
      "(abs(target)=8) > (total_sum=5) -> 0\n"
     ]
    },
    {
     "data": {
      "text/plain": [
       "0"
      ]
     },
     "execution_count": 41,
     "metadata": {},
     "output_type": "execute_result"
    }
   ],
   "source": [
    "nums = [1,1,1,1,1]\n",
    "target = 8\n",
    "Solution().findTargetSumWays(nums, target)"
   ]
  }
 ],
 "metadata": {
  "kernelspec": {
   "display_name": ".venv",
   "language": "python",
   "name": "python3"
  },
  "language_info": {
   "codemirror_mode": {
    "name": "ipython",
    "version": 3
   },
   "file_extension": ".py",
   "mimetype": "text/x-python",
   "name": "python",
   "nbconvert_exporter": "python",
   "pygments_lexer": "ipython3",
   "version": "3.11.2"
  }
 },
 "nbformat": 4,
 "nbformat_minor": 2
}
