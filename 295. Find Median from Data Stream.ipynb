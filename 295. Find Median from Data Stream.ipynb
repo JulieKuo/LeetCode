{
 "cells": [
  {
   "cell_type": "markdown",
   "metadata": {},
   "source": [
    "## 295. Find Median from Data Stream"
   ]
  },
  {
   "cell_type": "code",
   "execution_count": 1,
   "metadata": {},
   "outputs": [],
   "source": [
    "'''Runtime: 87.11%, Memory: 80.81%'''\n",
    "import heapq\n",
    "class MedianFinder:\n",
    "\n",
    "    def __init__(self):\n",
    "        minheap = []\n",
    "        maxheap = []\n",
    "        heapq.heapify(minheap)\n",
    "        heapq.heapify(maxheap)\n",
    "        self.minheap = minheap\n",
    "        self.maxheap = maxheap\n",
    "\n",
    "    def addNum(self, num: int) -> None:\n",
    "        if not self.minheap and not self.maxheap:\n",
    "            heapq.heappush(self.minheap, -num)\n",
    "        elif num < -self.minheap[0]:\n",
    "            heapq.heappush(self.minheap, -num)\n",
    "        else:\n",
    "            heapq.heappush(self.maxheap, num)\n",
    "        print(f\"add {num}: minheap = {self.minheap}, maxheap = {self.maxheap}\")\n",
    "\n",
    "\n",
    "        len_diff = len(self.maxheap) - len(self.minheap)\n",
    "        if len_diff > 1:\n",
    "            tmp = heapq.heappop(self.maxheap)\n",
    "            heapq.heappush(self.minheap, -tmp)\n",
    "        elif len_diff < -1:\n",
    "            tmp = heapq.heappop(self.minheap)\n",
    "            heapq.heappush(self.maxheap, -tmp)\n",
    "        print(f\"len_diff({len_diff}): minheap = {self.minheap}, maxheap = {self.maxheap}\\n\")\n",
    "        \n",
    "    def findMedian(self) -> float:\n",
    "        if not self.minheap and not self.maxheap:\n",
    "            return 0\n",
    "        elif len(self.minheap) > len(self.maxheap):\n",
    "            return - self.minheap[0]\n",
    "        elif len(self.minheap) < len(self.maxheap):\n",
    "            return self.maxheap[0]\n",
    "        else:\n",
    "            return (- self.minheap[0] + self.maxheap[0]) / 2"
   ]
  },
  {
   "cell_type": "code",
   "execution_count": 2,
   "metadata": {},
   "outputs": [
    {
     "name": "stdout",
     "output_type": "stream",
     "text": [
      "add 2: minheap = [-2], maxheap = []\n",
      "len_diff(-1): minheap = [-2], maxheap = []\n",
      "\n",
      "add 4: minheap = [-2], maxheap = [4]\n",
      "len_diff(0): minheap = [-2], maxheap = [4]\n",
      "\n",
      "add 1: minheap = [-2, -1], maxheap = [4]\n",
      "len_diff(-1): minheap = [-2, -1], maxheap = [4]\n",
      "\n",
      "2 \n",
      "\n",
      "add -1: minheap = [-2, -1, 1], maxheap = [4]\n",
      "len_diff(-2): minheap = [-1, 1], maxheap = [2, 4]\n",
      "\n",
      "1.5 \n",
      "\n",
      "add 5: minheap = [-1, 1], maxheap = [2, 4, 5]\n",
      "len_diff(1): minheap = [-1, 1], maxheap = [2, 4, 5]\n",
      "\n",
      "add 3: minheap = [-1, 1], maxheap = [2, 3, 5, 4]\n",
      "len_diff(2): minheap = [-2, 1, -1], maxheap = [3, 4, 5]\n",
      "\n",
      "2.5 \n",
      "\n"
     ]
    }
   ],
   "source": [
    "medianFinder = MedianFinder()\n",
    "medianFinder.addNum(2)\n",
    "medianFinder.addNum(4)\n",
    "medianFinder.addNum(1)\n",
    "print(medianFinder.findMedian(), \"\\n\")\n",
    "medianFinder.addNum(-1)\n",
    "print(medianFinder.findMedian(), \"\\n\")\n",
    "medianFinder.addNum(5)\n",
    "medianFinder.addNum(3)\n",
    "print(medianFinder.findMedian(), \"\\n\")"
   ]
  },
  {
   "cell_type": "code",
   "execution_count": null,
   "metadata": {},
   "outputs": [],
   "source": [
    "'''Runtime: 5.2%, Memory: 7.47%'''\n",
    "class MedianFinder:\n",
    "\n",
    "    def __init__(self):\n",
    "        self.list = []\n",
    "\n",
    "    def addNum(self, num: int) -> None:\n",
    "        self.list.append(num)\n",
    "\n",
    "    def findMedian(self) -> float:\n",
    "        self.list = sorted(self.list)\n",
    "        n = len(self.list)\n",
    "        if n % 2 != 0:\n",
    "            return self.list[(n//2)]\n",
    "        else:\n",
    "            return (self.list[(n//2) - 1] + self.list[(n//2)]) / 2"
   ]
  }
 ],
 "metadata": {
  "kernelspec": {
   "display_name": ".venv",
   "language": "python",
   "name": "python3"
  },
  "language_info": {
   "codemirror_mode": {
    "name": "ipython",
    "version": 3
   },
   "file_extension": ".py",
   "mimetype": "text/x-python",
   "name": "python",
   "nbconvert_exporter": "python",
   "pygments_lexer": "ipython3",
   "version": "3.8.10"
  },
  "orig_nbformat": 4,
  "vscode": {
   "interpreter": {
    "hash": "6a07fcf0145f94b3f971c13d061528107de20ab7b779375f96dab9bbac6a85db"
   }
  }
 },
 "nbformat": 4,
 "nbformat_minor": 2
}
