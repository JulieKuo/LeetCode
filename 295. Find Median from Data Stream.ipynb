{
 "cells": [
  {
   "cell_type": "markdown",
   "metadata": {},
   "source": [
    "## 295. Find Median from Data Stream"
   ]
  },
  {
   "cell_type": "markdown",
   "metadata": {},
   "source": [
    "**時間複雜度: $O(log n)$**  \n",
    "**空間複雜度: $O( n )$**\n",
    "\n",
    "Where  \n",
    "$m$ is the number of function calls  \n",
    "$n$ is the length of the array. "
   ]
  },
  {
   "cell_type": "code",
   "execution_count": 1,
   "metadata": {},
   "outputs": [],
   "source": [
    "import heapq\n",
    "\n",
    "class MedianFinder:\n",
    "\n",
    "    def __init__(self):\n",
    "        # 大頂堆（存較小的一半數字，取負數來模擬最大堆）\n",
    "        self.small = [] # space: O(n)\n",
    "        # 小頂堆（存較大的一半數字）\n",
    "        self.large = [] # space: O(n)\n",
    "\n",
    "    def addNum(self, num: int) -> None:\n",
    "        # 如果 large 有數字且新數字大於 large 的最小值（即 large[0]）\n",
    "        if self.large and num > self.large[0]:\n",
    "            heapq.heappush(self.large, num)  # 加入 large 小頂堆 # time: O(log n)\n",
    "        else:\n",
    "            heapq.heappush(self.small, -num)  # 加入 small 大頂堆（取負數模擬）# time: O(log n)\n",
    "\n",
    "        print(f\"\\naddNum-1 -> {self.large = }\")\n",
    "        print(f\"addNum-1 -> {self.small = }\")\n",
    "\n",
    "        # 平衡兩個堆的大小，如果 small 比 large 多超過 1 個元素\n",
    "        if len(self.small) >= len(self.large) + 1:\n",
    "            value = heapq.heappop(self.small)  # 取出 small 最大值（實際是最小的負數）# time: O(log n)\n",
    "            heapq.heappush(self.large, -value)  # 放入 large（轉回正數）# time: O(log n)\n",
    "        \n",
    "        # 如果 large 比 small 多超過 1 個元素\n",
    "        if len(self.large) >= len(self.small) + 1:\n",
    "            value = heapq.heappop(self.large)  # 取出 large 最小值 # time: O(log n)\n",
    "            heapq.heappush(self.small, -value)  # 放入 small（轉為負數模擬最大堆）# time: O(log n)\n",
    "\n",
    "        print(f\"addNum-2 -> {self.large = }\")\n",
    "        print(f\"addNum-2 -> {self.small = }\")\n",
    "\n",
    "    def findMedian(self) -> float:\n",
    "        # 如果 large 堆的元素比較多，代表總數是奇數，中位數就是 large[0]\n",
    "        if len(self.large) > len(self.small):\n",
    "            return self.large[0] # time: O(1)\n",
    "        # 如果 small 堆的元素比較多，中位數是 -self.small[0]\n",
    "        elif len(self.small) > len(self.large):\n",
    "            return -self.small[0] # time: O(1)\n",
    "        else:\n",
    "            # 如果兩堆長度相同，代表總數是偶數，中位數為兩個堆頂的平均\n",
    "            return (self.large[0] + -self.small[0]) / 2 # time: O(1)"
   ]
  },
  {
   "cell_type": "code",
   "execution_count": 2,
   "metadata": {},
   "outputs": [
    {
     "name": "stdout",
     "output_type": "stream",
     "text": [
      "\n",
      "addNum-1 -> self.large = []\n",
      "addNum-1 -> self.small = [-1]\n",
      "addNum-2 -> self.large = []\n",
      "addNum-2 -> self.small = [-1]\n",
      "obj.small = [-1], obj.large = []\n",
      "\n",
      "\n",
      "addNum-1 -> self.large = []\n",
      "addNum-1 -> self.small = [-2, -1]\n",
      "addNum-2 -> self.large = [2]\n",
      "addNum-2 -> self.small = [-1]\n",
      "obj.small = [-1], obj.large = [2]\n",
      "\n",
      "median = 1.5\n",
      "\n",
      "\n",
      "addNum-1 -> self.large = [2, 3]\n",
      "addNum-1 -> self.small = [-1]\n",
      "addNum-2 -> self.large = [3]\n",
      "addNum-2 -> self.small = [-2, -1]\n",
      "obj.small = [-2, -1], obj.large = [3]\n",
      "\n",
      "median = 2\n",
      "\n"
     ]
    }
   ],
   "source": [
    "# Input\n",
    "# [\"MedianFinder\", \"addNum\", \"addNum\", \"findMedian\", \"addNum\", \"findMedian\"]\n",
    "# [[], [1], [2], [], [3], []]\n",
    "# Output\n",
    "# [null, null, null, 1.5, null, 2.0]\n",
    "\n",
    "# Your MedianFinder object will be instantiated and called as such:\n",
    "obj = MedianFinder()\n",
    "obj.addNum(1)\n",
    "print(f\"{obj.small = }, {obj.large = }\\n\")\n",
    "obj.addNum(2)\n",
    "print(f\"{obj.small = }, {obj.large = }\\n\")\n",
    "median = obj.findMedian()\n",
    "print(f\"{median = }\\n\")\n",
    "obj.addNum(3)\n",
    "print(f\"{obj.small = }, {obj.large = }\\n\")\n",
    "median = obj.findMedian()\n",
    "print(f\"{median = }\\n\")"
   ]
  },
  {
   "cell_type": "code",
   "execution_count": null,
   "metadata": {},
   "outputs": [],
   "source": []
  }
 ],
 "metadata": {
  "kernelspec": {
   "display_name": ".venv (3.12.8)",
   "language": "python",
   "name": "python3"
  },
  "language_info": {
   "codemirror_mode": {
    "name": "ipython",
    "version": 3
   },
   "file_extension": ".py",
   "mimetype": "text/x-python",
   "name": "python",
   "nbconvert_exporter": "python",
   "pygments_lexer": "ipython3",
   "version": "3.12.8"
  },
  "orig_nbformat": 4
 },
 "nbformat": 4,
 "nbformat_minor": 2
}
