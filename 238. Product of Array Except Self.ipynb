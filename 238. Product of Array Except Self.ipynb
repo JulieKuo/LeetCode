{
 "cells": [
  {
   "cell_type": "markdown",
   "metadata": {},
   "source": [
    "### 238. Product of Array Except Self"
   ]
  },
  {
   "cell_type": "markdown",
   "metadata": {},
   "source": [
    "* 時間複雜度: O(n)\n",
    "* 空間複雜度: O(n)"
   ]
  },
  {
   "cell_type": "code",
   "execution_count": 11,
   "metadata": {},
   "outputs": [],
   "source": [
    "class Solution:\n",
    "    def productExceptSelf(self, nums):\n",
    "        n = len(nums)\n",
    "\n",
    "        prefix = [1]\n",
    "        for i in range(n-1):\n",
    "            prefix.append(prefix[-1] * nums[i])\n",
    "        print(f\"{prefix = }\")\n",
    "\n",
    "        suffix = [1]\n",
    "        for i in range(n-1, 0, -1):\n",
    "            suffix.insert(0, suffix[0] * nums[i])\n",
    "        print(f\"{suffix = }\")\n",
    "\n",
    "        result = []\n",
    "        for i in range(n):\n",
    "            result.append(prefix[i] * suffix[i])\n",
    "        print(f\"{result = }\")\n",
    "\n",
    "        return result"
   ]
  },
  {
   "cell_type": "code",
   "execution_count": 12,
   "metadata": {},
   "outputs": [
    {
     "name": "stdout",
     "output_type": "stream",
     "text": [
      "prefix = [1, 1, 2, 6]\n",
      "suffix = [24, 12, 4, 1]\n",
      "result = [24, 12, 8, 6]\n"
     ]
    },
    {
     "data": {
      "text/plain": [
       "[24, 12, 8, 6]"
      ]
     },
     "execution_count": 12,
     "metadata": {},
     "output_type": "execute_result"
    }
   ],
   "source": [
    "nums = [1,2,3,4]\n",
    "Solution().productExceptSelf(nums)"
   ]
  }
 ],
 "metadata": {
  "kernelspec": {
   "display_name": ".venv",
   "language": "python",
   "name": "python3"
  },
  "language_info": {
   "codemirror_mode": {
    "name": "ipython",
    "version": 3
   },
   "file_extension": ".py",
   "mimetype": "text/x-python",
   "name": "python",
   "nbconvert_exporter": "python",
   "pygments_lexer": "ipython3",
   "version": "3.10.6"
  }
 },
 "nbformat": 4,
 "nbformat_minor": 2
}
