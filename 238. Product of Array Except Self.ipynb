{
 "cells": [
  {
   "cell_type": "markdown",
   "metadata": {},
   "source": [
    "### 238. Product of Array Except Self"
   ]
  },
  {
   "cell_type": "markdown",
   "metadata": {},
   "source": [
    "### Prefix & Suffix (Optimal)"
   ]
  },
  {
   "cell_type": "markdown",
   "metadata": {},
   "source": [
    "* 時間複雜度: O(n)\n",
    "* 空間複雜度: O(n)"
   ]
  },
  {
   "cell_type": "code",
   "execution_count": 24,
   "metadata": {},
   "outputs": [],
   "source": [
    "class Solution:\n",
    "    def productExceptSelf(self, nums):\n",
    "        n = len(nums)\n",
    "\n",
    "        result = [1] * n # space: O(n)\n",
    "\n",
    "        prefix = 1\n",
    "        for i in range(n): # time: O(n)\n",
    "            result[i] = prefix\n",
    "            print(f\"result[{i}] = {result[i]} -> {result = }\")\n",
    "            print(f\"nums[{i}] = {nums[i]}\")\n",
    "            print(f\"prefix = {prefix} * {nums[i]} = {prefix * nums[i]}\\n\")\n",
    "            prefix *= nums[i]\n",
    "\n",
    "        print(\"-\" * 100)\n",
    "        \n",
    "        suffix = 1\n",
    "        for i in range(n-1, -1, -1): # time: O(n)\n",
    "            result[i] *= suffix\n",
    "\n",
    "            print(f\"result[{i}] = {result[i]} -> {result = }\")\n",
    "            print(f\"nums[{i}] = {nums[i]}\")\n",
    "            print(f\"suffix = {suffix} * {nums[i]} = {suffix * nums[i]}\\n\")\n",
    "\n",
    "            suffix *= nums[i]\n",
    "\n",
    "        return result"
   ]
  },
  {
   "cell_type": "code",
   "execution_count": 25,
   "metadata": {},
   "outputs": [
    {
     "name": "stdout",
     "output_type": "stream",
     "text": [
      "result[0] = 1 -> result = [1, 1, 1, 1]\n",
      "nums[0] = 1\n",
      "prefix = 1 * 1 = 1\n",
      "\n",
      "result[1] = 1 -> result = [1, 1, 1, 1]\n",
      "nums[1] = 2\n",
      "prefix = 1 * 2 = 2\n",
      "\n",
      "result[2] = 2 -> result = [1, 1, 2, 1]\n",
      "nums[2] = 3\n",
      "prefix = 2 * 3 = 6\n",
      "\n",
      "result[3] = 6 -> result = [1, 1, 2, 6]\n",
      "nums[3] = 4\n",
      "prefix = 6 * 4 = 24\n",
      "\n",
      "----------------------------------------------------------------------------------------------------\n",
      "result[3] = 6 -> result = [1, 1, 2, 6]\n",
      "nums[3] = 4\n",
      "suffix = 1 * 4 = 4\n",
      "\n",
      "result[2] = 8 -> result = [1, 1, 8, 6]\n",
      "nums[2] = 3\n",
      "suffix = 4 * 3 = 12\n",
      "\n",
      "result[1] = 12 -> result = [1, 12, 8, 6]\n",
      "nums[1] = 2\n",
      "suffix = 12 * 2 = 24\n",
      "\n",
      "result[0] = 24 -> result = [24, 12, 8, 6]\n",
      "nums[0] = 1\n",
      "suffix = 24 * 1 = 24\n",
      "\n"
     ]
    },
    {
     "data": {
      "text/plain": [
       "[24, 12, 8, 6]"
      ]
     },
     "execution_count": 25,
     "metadata": {},
     "output_type": "execute_result"
    }
   ],
   "source": [
    "nums = [1,2,3,4]\n",
    "Solution().productExceptSelf(nums)"
   ]
  },
  {
   "cell_type": "markdown",
   "metadata": {},
   "source": [
    "### Prefix & Suffix"
   ]
  },
  {
   "cell_type": "markdown",
   "metadata": {},
   "source": [
    "* 時間複雜度: O(n)\n",
    "* 空間複雜度: O(n)"
   ]
  },
  {
   "cell_type": "code",
   "execution_count": 3,
   "metadata": {},
   "outputs": [],
   "source": [
    "class Solution:\n",
    "    def productExceptSelf(self, nums):\n",
    "        n = len(nums)\n",
    "\n",
    "        prefix = [1] # space: O(n)\n",
    "        for i in range(n-1): # 從左到右遍歷，計算每個元素左邊的累積乘積 (最後一個元素不須乘) # time: O(n)\n",
    "            prefix.append(prefix[-1] * nums[i])\n",
    "            print(f\"process: {prefix = }\")\n",
    "        print(f\"final:   {prefix = }\")\n",
    "        print()\n",
    "\n",
    "        suffix = [1] # space: O(n)\n",
    "        for i in range(n-1, 0, -1): # 從右到左遍歷，計算每個元素右邊的累積乘積 (第0個元素不須乘) # time: O(n)\n",
    "            suffix.insert(0, suffix[0] * nums[i])\n",
    "            print(f\"process: {suffix = }\")\n",
    "        print(f\"final:   {suffix = }\")\n",
    "        print()\n",
    "\n",
    "        result = [] # space: O(n)\n",
    "        for i in range(n): # 將左右兩邊的累積乘積相乘 (不包含自己) # time: O(n)\n",
    "            result.append(prefix[i] * suffix[i])\n",
    "        print(f\"{result = }\")\n",
    "\n",
    "        return result"
   ]
  },
  {
   "cell_type": "code",
   "execution_count": 4,
   "metadata": {},
   "outputs": [
    {
     "name": "stdout",
     "output_type": "stream",
     "text": [
      "process: prefix = [1, 1]\n",
      "process: prefix = [1, 1, 2]\n",
      "process: prefix = [1, 1, 2, 6]\n",
      "final:   prefix = [1, 1, 2, 6]\n",
      "\n",
      "process: suffix = [4, 1]\n",
      "process: suffix = [12, 4, 1]\n",
      "process: suffix = [24, 12, 4, 1]\n",
      "final:   suffix = [24, 12, 4, 1]\n",
      "\n",
      "result = [24, 12, 8, 6]\n"
     ]
    },
    {
     "data": {
      "text/plain": [
       "[24, 12, 8, 6]"
      ]
     },
     "execution_count": 4,
     "metadata": {},
     "output_type": "execute_result"
    }
   ],
   "source": [
    "nums = [1,2,3,4]\n",
    "Solution().productExceptSelf(nums)"
   ]
  }
 ],
 "metadata": {
  "kernelspec": {
   "display_name": ".venv",
   "language": "python",
   "name": "python3"
  },
  "language_info": {
   "codemirror_mode": {
    "name": "ipython",
    "version": 3
   },
   "file_extension": ".py",
   "mimetype": "text/x-python",
   "name": "python",
   "nbconvert_exporter": "python",
   "pygments_lexer": "ipython3",
   "version": "3.11.11"
  }
 },
 "nbformat": 4,
 "nbformat_minor": 2
}
