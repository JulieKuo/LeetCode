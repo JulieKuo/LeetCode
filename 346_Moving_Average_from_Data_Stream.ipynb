{
 "cells": [
  {
   "cell_type": "markdown",
   "metadata": {},
   "source": [
    "## 346. Moving Average from Data Stream"
   ]
  },
  {
   "cell_type": "code",
   "execution_count": 1,
   "metadata": {},
   "outputs": [],
   "source": [
    "class MovingAverage:\n",
    "\n",
    "    def __init__(self, size):\n",
    "        \"\"\"\n",
    "        Initialize your data structure here.\n",
    "        \"\"\"\n",
    "\n",
    "        self.num = []\n",
    "        self.size = size\n",
    "    def next(self, val):\n",
    "        self.num.append(val)\n",
    "        if len(self.num) < self.size:\n",
    "            return sum(self.num[-self.size:])/len(self.num)\n",
    "        else:\n",
    "            return sum(self.num[-self.size:])/self.size"
   ]
  },
  {
   "cell_type": "code",
   "execution_count": 2,
   "metadata": {},
   "outputs": [
    {
     "name": "stdout",
     "output_type": "stream",
     "text": [
      "1.0\n",
      "5.5\n",
      "4.666666666666667\n",
      "6.0\n"
     ]
    }
   ],
   "source": [
    "m = MovingAverage(3)\n",
    "print(m.next(1)) # 1\n",
    "print(m.next(10)) # (1 + 10) / 2\n",
    "print(m.next(3)) # (1 + 10 + 3) / 3\n",
    "print(m.next(5)) # (10 + 3 + 5) / 3"
   ]
  }
 ],
 "metadata": {
  "kernelspec": {
   "display_name": "Python 3.8.7 ('.venv': venv)",
   "language": "python",
   "name": "python3"
  },
  "language_info": {
   "codemirror_mode": {
    "name": "ipython",
    "version": 3
   },
   "file_extension": ".py",
   "mimetype": "text/x-python",
   "name": "python",
   "nbconvert_exporter": "python",
   "pygments_lexer": "ipython3",
   "version": "3.8.7"
  },
  "orig_nbformat": 4,
  "vscode": {
   "interpreter": {
    "hash": "6a07fcf0145f94b3f971c13d061528107de20ab7b779375f96dab9bbac6a85db"
   }
  }
 },
 "nbformat": 4,
 "nbformat_minor": 2
}
