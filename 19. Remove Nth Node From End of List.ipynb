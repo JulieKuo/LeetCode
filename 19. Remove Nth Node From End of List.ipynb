{
 "cells": [
  {
   "cell_type": "markdown",
   "metadata": {},
   "source": [
    "### 19. Remove Nth Node From End of List"
   ]
  },
  {
   "cell_type": "code",
   "execution_count": 1,
   "metadata": {},
   "outputs": [],
   "source": [
    "# Definition for singly-linked list.\n",
    "class ListNode:\n",
    "    def __init__(self, val=0, next=None):\n",
    "        self.val = val\n",
    "        self.next = next"
   ]
  },
  {
   "cell_type": "markdown",
   "metadata": {},
   "source": [
    "* 時間複雜度: O($L$)  \n",
    "$n$為倒數第幾個，$L$為鏈表總長度\n",
    "* 空間複雜度: O($1$)"
   ]
  },
  {
   "cell_type": "code",
   "execution_count": 2,
   "metadata": {},
   "outputs": [],
   "source": [
    "head = ListNode(\n",
    "    val = 1,\n",
    "    next = ListNode(\n",
    "        val = 2,\n",
    "        next = ListNode(\n",
    "            val = 3,\n",
    "            next = ListNode(\n",
    "                val = 4,\n",
    "                next = ListNode(\n",
    "                    val = 5,\n",
    "                    next = None\n",
    "                )\n",
    "            )\n",
    "        )\n",
    "    )\n",
    ")\n",
    "# [1,2,3,4,5]\n",
    "n = 2"
   ]
  },
  {
   "cell_type": "code",
   "execution_count": 3,
   "metadata": {},
   "outputs": [],
   "source": [
    "from typing import Optional\n",
    "class Solution:\n",
    "    def removeNthFromEnd(self, head: Optional[ListNode], n: int) -> Optional[ListNode]:\n",
    "        # 建立一個虛擬節點，並指向頭節點\n",
    "        dummy = ListNode(0, head) # space: O(1)\n",
    "        fast = dummy # space: O(1)\n",
    "        slow = dummy # space: O(1)\n",
    "\n",
    "        # 讓快指針先前進n步\n",
    "        for _ in range(n): # time: O(n)  \n",
    "            fast = fast.next\n",
    "\n",
    "        # 讓快慢指針同時前進，直到快指針到達末尾\n",
    "        while fast.next:  # time: O(L-n)  \n",
    "            fast = fast.next\n",
    "            slow = slow.next\n",
    "\n",
    "        # 刪除倒數第n個節點\n",
    "        slow.next = slow.next.next\n",
    "        \n",
    "        # 返回新的頭節點\n",
    "        return dummy.next"
   ]
  },
  {
   "cell_type": "code",
   "execution_count": 4,
   "metadata": {},
   "outputs": [
    {
     "name": "stdout",
     "output_type": "stream",
     "text": [
      "1 2 3 5 "
     ]
    }
   ],
   "source": [
    "result = Solution().removeNthFromEnd(head, n)\n",
    "while result:\n",
    "    print(result.val, end = ' ')\n",
    "    result = result.next"
   ]
  },
  {
   "cell_type": "code",
   "execution_count": 5,
   "metadata": {},
   "outputs": [],
   "source": [
    "# head = [1,2,3,4,5]\n",
    "# n = 2\n",
    "#                   V\n",
    "#       0  1  2  3  4  5\n",
    "# slow  v\n",
    "# fast  v\n",
    "# ----------------------  for _ in range(n):\n",
    "# slow  v\n",
    "# fast     v\n",
    "\n",
    "# slow  v\n",
    "# fast        v\n",
    "# ----------------------  while fast.next:\n",
    "# slow     v\n",
    "# fast           v\n",
    "\n",
    "# slow        v\n",
    "# fast              v\n",
    "#       1  2  3  4  5"
   ]
  }
 ],
 "metadata": {
  "kernelspec": {
   "display_name": "Python 3",
   "language": "python",
   "name": "python3"
  },
  "language_info": {
   "codemirror_mode": {
    "name": "ipython",
    "version": 3
   },
   "file_extension": ".py",
   "mimetype": "text/x-python",
   "name": "python",
   "nbconvert_exporter": "python",
   "pygments_lexer": "ipython3",
   "version": "3.10.6"
  }
 },
 "nbformat": 4,
 "nbformat_minor": 2
}
