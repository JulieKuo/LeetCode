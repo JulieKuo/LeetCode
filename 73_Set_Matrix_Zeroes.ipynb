{
 "cells": [
  {
   "cell_type": "markdown",
   "metadata": {},
   "source": [
    "# 73. Set Matrix Zeroes"
   ]
  },
  {
   "cell_type": "code",
   "execution_count": 32,
   "metadata": {},
   "outputs": [],
   "source": [
    "class Solution:\n",
    "    def setZeroes(self, matrix) -> None:\n",
    "        \"\"\"\n",
    "        Do not return anything, modify matrix in-place instead.\n",
    "        \"\"\"\n",
    "        hash_row = set()\n",
    "        hash_col = set()\n",
    "        print(f\"int matrix: {matrix}\")\n",
    "\n",
    "        # 抓出需要轉換的row和col，並存進set\n",
    "        for row in range(len(matrix)):\n",
    "            for col in  range(len(matrix[0])):\n",
    "                if matrix[row][col] == 0:\n",
    "                    hash_row.add(row)\n",
    "                    hash_col.add(col)\n",
    "\n",
    "        print(f\"hash_row: {hash_row}\")\n",
    "        print(f\"hash_col: {hash_col}\")\n",
    "\n",
    "\n",
    "        # 轉換row，可直接指定整個row更改\n",
    "        for row in hash_row:\n",
    "            matrix[row] = [0] * len(matrix[0])\n",
    "            print(f\"row: {row}, matrix: {matrix}\")\n",
    "\n",
    "        # 轉換col，需先指定row再指定col才可更改\n",
    "        for col in hash_col:\n",
    "            for row in range(len(matrix)):\n",
    "                matrix[row][col] = 0\n",
    "                print(f\"row: {row}, col: {col}, matrix: {matrix}\")\n",
    "\n",
    "        return matrix"
   ]
  },
  {
   "cell_type": "code",
   "execution_count": 33,
   "metadata": {},
   "outputs": [
    {
     "name": "stdout",
     "output_type": "stream",
     "text": [
      "int matrix: [[0, 1, 2, 0], [3, 4, 5, 2], [1, 3, 1, 5]]\n",
      "hash_row: {0}\n",
      "hash_col: {0, 3}\n",
      "row: 0, matrix: [[0, 0, 0, 0], [3, 4, 5, 2], [1, 3, 1, 5]]\n",
      "row: 0, col: 0, matrix: [[0, 0, 0, 0], [3, 4, 5, 2], [1, 3, 1, 5]]\n",
      "row: 1, col: 0, matrix: [[0, 0, 0, 0], [0, 4, 5, 2], [1, 3, 1, 5]]\n",
      "row: 2, col: 0, matrix: [[0, 0, 0, 0], [0, 4, 5, 2], [0, 3, 1, 5]]\n",
      "row: 0, col: 3, matrix: [[0, 0, 0, 0], [0, 4, 5, 2], [0, 3, 1, 5]]\n",
      "row: 1, col: 3, matrix: [[0, 0, 0, 0], [0, 4, 5, 0], [0, 3, 1, 5]]\n",
      "row: 2, col: 3, matrix: [[0, 0, 0, 0], [0, 4, 5, 0], [0, 3, 1, 0]]\n"
     ]
    },
    {
     "data": {
      "text/plain": [
       "[[0, 0, 0, 0], [0, 4, 5, 0], [0, 3, 1, 0]]"
      ]
     },
     "execution_count": 33,
     "metadata": {},
     "output_type": "execute_result"
    }
   ],
   "source": [
    "matrix = [[0,1,2,0],[3,4,5,2],[1,3,1,5]]\n",
    "Solution().setZeroes(matrix)"
   ]
  }
 ],
 "metadata": {
  "kernelspec": {
   "display_name": "servtech",
   "language": "python",
   "name": "python3"
  },
  "language_info": {
   "codemirror_mode": {
    "name": "ipython",
    "version": 3
   },
   "file_extension": ".py",
   "mimetype": "text/x-python",
   "name": "python",
   "nbconvert_exporter": "python",
   "pygments_lexer": "ipython3",
   "version": "3.8.15"
  },
  "orig_nbformat": 4,
  "vscode": {
   "interpreter": {
    "hash": "b4e06251350f7d4dc4e777a60219df6f799a43322844e92d92fd6156d3f0a542"
   }
  }
 },
 "nbformat": 4,
 "nbformat_minor": 2
}
