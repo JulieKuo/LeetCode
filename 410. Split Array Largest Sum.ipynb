{
 "cells": [
  {
   "cell_type": "markdown",
   "metadata": {},
   "source": [
    "## 410. Split Array Largest Sum"
   ]
  },
  {
   "cell_type": "code",
   "execution_count": 1,
   "metadata": {},
   "outputs": [],
   "source": [
    "class Solution:\n",
    "    def splitArray(self, nums, k):\n",
    "        print(f\"nums = {nums} = {sum(nums)}\")\n",
    "        low = max(nums) # 先不管要分幾組，若每個數字一組，最好的答案就是最大值\n",
    "        high = sum(nums) # 最差的答案是指分一組，及總和\n",
    "        while low < high:\n",
    "            mid = (low + high) // 2\n",
    "            print('-'*50)\n",
    "            print(f\"origin: low = {low}, mid = {mid}, high = {high}\\n\")\n",
    "\n",
    "            total = 0\n",
    "            count = 1\n",
    "            for num in nums:\n",
    "                if total + num <= mid: # 小組總和 <= mid，繼續新增數字進該組\n",
    "                    print(f\"( total({total}) + num({num}) = {total + num}) <= (mid = {mid})\")\n",
    "                    total += num\n",
    "                else: # 小組和 > mid，新開一組\n",
    "                    print(f\"( total({total}) + num({num}) = {total + num}) > (mid = {mid})\")\n",
    "                    total = num\n",
    "                    count += 1\n",
    "                print(f\"total = {total}, count = {count}\")\n",
    "\n",
    "            if count > k: # 需要分的組 > 規定的k組，表示mid太低，將low調高至mid+1\n",
    "                print(f\"\\n(count = {count}) > (k = {k})\")\n",
    "                low = mid + 1\n",
    "            else: # 需要分的組 <= 規定的k組，表示mid太高，將high調低至mid\n",
    "                print(f\"\\n(count = {count}) <= (k = {k})\")\n",
    "                high = mid\n",
    "            \n",
    "            print(f\"new: low = {low}, mid = {mid}, high = {high}\")\n",
    "                \n",
    "        return high"
   ]
  },
  {
   "cell_type": "code",
   "execution_count": 2,
   "metadata": {},
   "outputs": [
    {
     "name": "stdout",
     "output_type": "stream",
     "text": [
      "nums = [7, 2, 5, 10, 8] = 32\n",
      "--------------------------------------------------\n",
      "origin: low = 10, mid = 21, high = 32\n",
      "\n",
      "( total(0) + num(7) = 7) <= (mid = 21)\n",
      "total = 7, count = 1\n",
      "( total(7) + num(2) = 9) <= (mid = 21)\n",
      "total = 9, count = 1\n",
      "( total(9) + num(5) = 14) <= (mid = 21)\n",
      "total = 14, count = 1\n",
      "( total(14) + num(10) = 24) > (mid = 21)\n",
      "total = 10, count = 2\n",
      "( total(10) + num(8) = 18) <= (mid = 21)\n",
      "total = 18, count = 2\n",
      "\n",
      "(count = 2) <= (k = 2)\n",
      "new: low = 10, mid = 21, high = 21\n",
      "--------------------------------------------------\n",
      "origin: low = 10, mid = 15, high = 21\n",
      "\n",
      "( total(0) + num(7) = 7) <= (mid = 15)\n",
      "total = 7, count = 1\n",
      "( total(7) + num(2) = 9) <= (mid = 15)\n",
      "total = 9, count = 1\n",
      "( total(9) + num(5) = 14) <= (mid = 15)\n",
      "total = 14, count = 1\n",
      "( total(14) + num(10) = 24) > (mid = 15)\n",
      "total = 10, count = 2\n",
      "( total(10) + num(8) = 18) > (mid = 15)\n",
      "total = 8, count = 3\n",
      "\n",
      "(count = 3) > (k = 2)\n",
      "new: low = 16, mid = 15, high = 21\n",
      "--------------------------------------------------\n",
      "origin: low = 16, mid = 18, high = 21\n",
      "\n",
      "( total(0) + num(7) = 7) <= (mid = 18)\n",
      "total = 7, count = 1\n",
      "( total(7) + num(2) = 9) <= (mid = 18)\n",
      "total = 9, count = 1\n",
      "( total(9) + num(5) = 14) <= (mid = 18)\n",
      "total = 14, count = 1\n",
      "( total(14) + num(10) = 24) > (mid = 18)\n",
      "total = 10, count = 2\n",
      "( total(10) + num(8) = 18) <= (mid = 18)\n",
      "total = 18, count = 2\n",
      "\n",
      "(count = 2) <= (k = 2)\n",
      "new: low = 16, mid = 18, high = 18\n",
      "--------------------------------------------------\n",
      "origin: low = 16, mid = 17, high = 18\n",
      "\n",
      "( total(0) + num(7) = 7) <= (mid = 17)\n",
      "total = 7, count = 1\n",
      "( total(7) + num(2) = 9) <= (mid = 17)\n",
      "total = 9, count = 1\n",
      "( total(9) + num(5) = 14) <= (mid = 17)\n",
      "total = 14, count = 1\n",
      "( total(14) + num(10) = 24) > (mid = 17)\n",
      "total = 10, count = 2\n",
      "( total(10) + num(8) = 18) > (mid = 17)\n",
      "total = 8, count = 3\n",
      "\n",
      "(count = 3) > (k = 2)\n",
      "new: low = 18, mid = 17, high = 18\n"
     ]
    },
    {
     "data": {
      "text/plain": [
       "18"
      ]
     },
     "execution_count": 2,
     "metadata": {},
     "output_type": "execute_result"
    }
   ],
   "source": [
    "nums = [7,2,5,10,8]\n",
    "k = 2\n",
    "Solution().splitArray(nums, k)"
   ]
  },
  {
   "cell_type": "code",
   "execution_count": 3,
   "metadata": {},
   "outputs": [
    {
     "name": "stdout",
     "output_type": "stream",
     "text": [
      "nums = [1, 2, 3, 4, 5] = 15\n",
      "--------------------------------------------------\n",
      "origin: low = 5, mid = 10, high = 15\n",
      "\n",
      "( total(0) + num(1) = 1) <= (mid = 10)\n",
      "total = 1, count = 1\n",
      "( total(1) + num(2) = 3) <= (mid = 10)\n",
      "total = 3, count = 1\n",
      "( total(3) + num(3) = 6) <= (mid = 10)\n",
      "total = 6, count = 1\n",
      "( total(6) + num(4) = 10) <= (mid = 10)\n",
      "total = 10, count = 1\n",
      "( total(10) + num(5) = 15) > (mid = 10)\n",
      "total = 5, count = 2\n",
      "\n",
      "(count = 2) <= (k = 2)\n",
      "new: low = 5, mid = 10, high = 10\n",
      "--------------------------------------------------\n",
      "origin: low = 5, mid = 7, high = 10\n",
      "\n",
      "( total(0) + num(1) = 1) <= (mid = 7)\n",
      "total = 1, count = 1\n",
      "( total(1) + num(2) = 3) <= (mid = 7)\n",
      "total = 3, count = 1\n",
      "( total(3) + num(3) = 6) <= (mid = 7)\n",
      "total = 6, count = 1\n",
      "( total(6) + num(4) = 10) > (mid = 7)\n",
      "total = 4, count = 2\n",
      "( total(4) + num(5) = 9) > (mid = 7)\n",
      "total = 5, count = 3\n",
      "\n",
      "(count = 3) > (k = 2)\n",
      "new: low = 8, mid = 7, high = 10\n",
      "--------------------------------------------------\n",
      "origin: low = 8, mid = 9, high = 10\n",
      "\n",
      "( total(0) + num(1) = 1) <= (mid = 9)\n",
      "total = 1, count = 1\n",
      "( total(1) + num(2) = 3) <= (mid = 9)\n",
      "total = 3, count = 1\n",
      "( total(3) + num(3) = 6) <= (mid = 9)\n",
      "total = 6, count = 1\n",
      "( total(6) + num(4) = 10) > (mid = 9)\n",
      "total = 4, count = 2\n",
      "( total(4) + num(5) = 9) <= (mid = 9)\n",
      "total = 9, count = 2\n",
      "\n",
      "(count = 2) <= (k = 2)\n",
      "new: low = 8, mid = 9, high = 9\n",
      "--------------------------------------------------\n",
      "origin: low = 8, mid = 8, high = 9\n",
      "\n",
      "( total(0) + num(1) = 1) <= (mid = 8)\n",
      "total = 1, count = 1\n",
      "( total(1) + num(2) = 3) <= (mid = 8)\n",
      "total = 3, count = 1\n",
      "( total(3) + num(3) = 6) <= (mid = 8)\n",
      "total = 6, count = 1\n",
      "( total(6) + num(4) = 10) > (mid = 8)\n",
      "total = 4, count = 2\n",
      "( total(4) + num(5) = 9) > (mid = 8)\n",
      "total = 5, count = 3\n",
      "\n",
      "(count = 3) > (k = 2)\n",
      "new: low = 9, mid = 8, high = 9\n"
     ]
    },
    {
     "data": {
      "text/plain": [
       "9"
      ]
     },
     "execution_count": 3,
     "metadata": {},
     "output_type": "execute_result"
    }
   ],
   "source": [
    "nums = [1,2,3,4,5]\n",
    "k = 2\n",
    "Solution().splitArray(nums, k)"
   ]
  }
 ],
 "metadata": {
  "kernelspec": {
   "display_name": ".venv",
   "language": "python",
   "name": "python3"
  },
  "language_info": {
   "codemirror_mode": {
    "name": "ipython",
    "version": 3
   },
   "file_extension": ".py",
   "mimetype": "text/x-python",
   "name": "python",
   "nbconvert_exporter": "python",
   "pygments_lexer": "ipython3",
   "version": "3.8.10"
  },
  "orig_nbformat": 4,
  "vscode": {
   "interpreter": {
    "hash": "6a07fcf0145f94b3f971c13d061528107de20ab7b779375f96dab9bbac6a85db"
   }
  }
 },
 "nbformat": 4,
 "nbformat_minor": 2
}
