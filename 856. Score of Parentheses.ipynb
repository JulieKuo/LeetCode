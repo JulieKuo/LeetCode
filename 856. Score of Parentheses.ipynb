{
 "cells": [
  {
   "cell_type": "markdown",
   "metadata": {},
   "source": [
    "### 856. Score of Parentheses"
   ]
  },
  {
   "cell_type": "code",
   "execution_count": 1,
   "metadata": {},
   "outputs": [],
   "source": [
    "s = \"()\"\n",
    "# Output: 1\n",
    "\n",
    "s = \"(())\"\n",
    "# Output: 2\n",
    "\n",
    "s = \"(()(()))(())\"\n",
    "# Output: 2*(1 + (2*(1))) + 2 = 8"
   ]
  },
  {
   "cell_type": "code",
   "execution_count": 2,
   "metadata": {},
   "outputs": [],
   "source": [
    "class Solution:\n",
    "    def scoreOfParentheses(self, s: str) -> int:\n",
    "        return self.dfs(s = s, left = 0, right = (len(s) - 1))\n",
    "\n",
    "    def dfs(self, s, left, right):\n",
    "        print(\"-\" * 150)\n",
    "        print(f\"s = {s}, left = {left}, right = {right}\")\n",
    "        if (right - left) == 1:  # 如果括號範圍只有一對，回傳1\n",
    "            print(f\"({left}~{right}) - () -> 1\")\n",
    "            return 1\n",
    "\n",
    "        count = 0\n",
    "        for i in range(left, right):  # 迭代括號範圍\n",
    "            if s[i] == '(':  # 若是左括號\n",
    "                count += 1\n",
    "\n",
    "            if s[i] == ')':  # 若是右括號\n",
    "                count -= 1\n",
    "            \n",
    "            print(f\"i = {i}, s[i] = {s[i]}, count = {count}\")\n",
    "\n",
    "            if count == 0:  # 若括號內的計數歸零\n",
    "                # 遞迴處理左右括號內的字串，並相加結果\n",
    "                print(f\"({left}~{right}) - AB -> (A) +  B\")\n",
    "                A = self.dfs(s = s, left = left, right = i)\n",
    "                print(f\"({left}~{right}) - AB ->  A  + (B)\")\n",
    "                B = self.dfs(s = s, left = (i + 1), right = right)\n",
    "                print(f\"({left}~{right}) - AB ->  A  +  B = {A} + {B} = {A + B}\")\n",
    "                return A + B\n",
    "\n",
    "        # 若是整個字串，則回傳 2 乘以去頭去尾後的字串計算結果\n",
    "        print(f\"({left}~{right}) - (A) -> 2 * A\")\n",
    "        A = self.dfs(s = s, left = (left + 1), right = (right - 1))        \n",
    "        print(f\"({left}~{right}) - (A) -> 2 * A -> 2 * ({A}) -> {2 * A}\")\n",
    "        return 2 * A"
   ]
  },
  {
   "cell_type": "code",
   "execution_count": 3,
   "metadata": {},
   "outputs": [
    {
     "name": "stdout",
     "output_type": "stream",
     "text": [
      "------------------------------------------------------------------------------------------------------------------------------------------------------\n",
      "s = (()(()))(()), left = 0, right = 11\n",
      "i = 0, s[i] = (, count = 1\n",
      "i = 1, s[i] = (, count = 2\n",
      "i = 2, s[i] = ), count = 1\n",
      "i = 3, s[i] = (, count = 2\n",
      "i = 4, s[i] = (, count = 3\n",
      "i = 5, s[i] = ), count = 2\n",
      "i = 6, s[i] = ), count = 1\n",
      "i = 7, s[i] = ), count = 0\n",
      "(0~11) - AB -> (A) +  B\n",
      "------------------------------------------------------------------------------------------------------------------------------------------------------\n",
      "s = (()(()))(()), left = 0, right = 7\n",
      "i = 0, s[i] = (, count = 1\n",
      "i = 1, s[i] = (, count = 2\n",
      "i = 2, s[i] = ), count = 1\n",
      "i = 3, s[i] = (, count = 2\n",
      "i = 4, s[i] = (, count = 3\n",
      "i = 5, s[i] = ), count = 2\n",
      "i = 6, s[i] = ), count = 1\n",
      "(0~7) - (A) -> 2 * A\n",
      "------------------------------------------------------------------------------------------------------------------------------------------------------\n",
      "s = (()(()))(()), left = 1, right = 6\n",
      "i = 1, s[i] = (, count = 1\n",
      "i = 2, s[i] = ), count = 0\n",
      "(1~6) - AB -> (A) +  B\n",
      "------------------------------------------------------------------------------------------------------------------------------------------------------\n",
      "s = (()(()))(()), left = 1, right = 2\n",
      "(1~2) - () -> 1\n",
      "(1~6) - AB ->  A  + (B)\n",
      "------------------------------------------------------------------------------------------------------------------------------------------------------\n",
      "s = (()(()))(()), left = 3, right = 6\n",
      "i = 3, s[i] = (, count = 1\n",
      "i = 4, s[i] = (, count = 2\n",
      "i = 5, s[i] = ), count = 1\n",
      "(3~6) - (A) -> 2 * A\n",
      "------------------------------------------------------------------------------------------------------------------------------------------------------\n",
      "s = (()(()))(()), left = 4, right = 5\n",
      "(4~5) - () -> 1\n",
      "(3~6) - (A) -> 2 * A -> 2 * (1) -> 2\n",
      "(1~6) - AB ->  A  +  B = 1 + 2 = 3\n",
      "(0~7) - (A) -> 2 * A -> 2 * (3) -> 6\n",
      "(0~11) - AB ->  A  + (B)\n",
      "------------------------------------------------------------------------------------------------------------------------------------------------------\n",
      "s = (()(()))(()), left = 8, right = 11\n",
      "i = 8, s[i] = (, count = 1\n",
      "i = 9, s[i] = (, count = 2\n",
      "i = 10, s[i] = ), count = 1\n",
      "(8~11) - (A) -> 2 * A\n",
      "------------------------------------------------------------------------------------------------------------------------------------------------------\n",
      "s = (()(()))(()), left = 9, right = 10\n",
      "(9~10) - () -> 1\n",
      "(8~11) - (A) -> 2 * A -> 2 * (1) -> 2\n",
      "(0~11) - AB ->  A  +  B = 6 + 2 = 8\n"
     ]
    },
    {
     "data": {
      "text/plain": [
       "8"
      ]
     },
     "execution_count": 3,
     "metadata": {},
     "output_type": "execute_result"
    }
   ],
   "source": [
    "Solution().scoreOfParentheses(s)"
   ]
  }
 ],
 "metadata": {
  "kernelspec": {
   "display_name": ".venv",
   "language": "python",
   "name": "python3"
  },
  "language_info": {
   "codemirror_mode": {
    "name": "ipython",
    "version": 3
   },
   "file_extension": ".py",
   "mimetype": "text/x-python",
   "name": "python",
   "nbconvert_exporter": "python",
   "pygments_lexer": "ipython3",
   "version": "3.8.10"
  }
 },
 "nbformat": 4,
 "nbformat_minor": 2
}
