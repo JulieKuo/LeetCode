{
 "cells": [
  {
   "cell_type": "markdown",
   "metadata": {},
   "source": [
    "### 168. Excel Sheet Column Title"
   ]
  },
  {
   "cell_type": "code",
   "execution_count": 5,
   "metadata": {},
   "outputs": [],
   "source": [
    "class Solution:\n",
    "    def convertToTitle(self, columnNumber):\n",
    "        chrs = [chr(i) for i in range(ord('A'), ord('Z')+1)] # 透過ord找出A、Z在ASCII的數值，透過chr找出各數值所對應的字母，利用迴圈生成A-Z的所有字母\n",
    "\n",
    "        res = []\n",
    "        while columnNumber > 0:\n",
    "            print(f\"columnNumber = {columnNumber}\\n{(columnNumber-1)} % 26 = {(columnNumber-1) % 26} = {chrs[(columnNumber - 1) % 26]}\\n\")\n",
    "            res.append(chrs[(columnNumber - 1) % 26]) # A從0開始，要減1\n",
    "            columnNumber = (columnNumber - 1) // 26 # A從0開始，要減1\n",
    "\n",
    "        res = [res[i] for i in range(len(res)-1, -1, -1)]\n",
    "\n",
    "        return \"\".join(res)"
   ]
  },
  {
   "cell_type": "code",
   "execution_count": 2,
   "metadata": {},
   "outputs": [
    {
     "name": "stdout",
     "output_type": "stream",
     "text": [
      "columnNumber = 1\n",
      "0 % 26 = 0 = A\n",
      "\n"
     ]
    },
    {
     "data": {
      "text/plain": [
       "'A'"
      ]
     },
     "execution_count": 2,
     "metadata": {},
     "output_type": "execute_result"
    }
   ],
   "source": [
    "columnNumber = 1\n",
    "Solution().convertToTitle(columnNumber)"
   ]
  },
  {
   "cell_type": "code",
   "execution_count": 3,
   "metadata": {},
   "outputs": [
    {
     "name": "stdout",
     "output_type": "stream",
     "text": [
      "columnNumber = 28\n",
      "27 % 26 = 1 = B\n",
      "\n",
      "columnNumber = 1\n",
      "0 % 26 = 0 = A\n",
      "\n"
     ]
    },
    {
     "data": {
      "text/plain": [
       "'AB'"
      ]
     },
     "execution_count": 3,
     "metadata": {},
     "output_type": "execute_result"
    }
   ],
   "source": [
    "columnNumber = 28\n",
    "Solution().convertToTitle(columnNumber)"
   ]
  },
  {
   "cell_type": "code",
   "execution_count": 4,
   "metadata": {},
   "outputs": [
    {
     "name": "stdout",
     "output_type": "stream",
     "text": [
      "columnNumber = 701\n",
      "700 % 26 = 24 = Y\n",
      "\n",
      "columnNumber = 26\n",
      "25 % 26 = 25 = Z\n",
      "\n"
     ]
    },
    {
     "data": {
      "text/plain": [
       "'ZY'"
      ]
     },
     "execution_count": 4,
     "metadata": {},
     "output_type": "execute_result"
    }
   ],
   "source": [
    "columnNumber = 701\n",
    "Solution().convertToTitle(columnNumber)"
   ]
  }
 ],
 "metadata": {
  "kernelspec": {
   "display_name": ".venv",
   "language": "python",
   "name": "python3"
  },
  "language_info": {
   "codemirror_mode": {
    "name": "ipython",
    "version": 3
   },
   "file_extension": ".py",
   "mimetype": "text/x-python",
   "name": "python",
   "nbconvert_exporter": "python",
   "pygments_lexer": "ipython3",
   "version": "3.8.10"
  },
  "orig_nbformat": 4
 },
 "nbformat": 4,
 "nbformat_minor": 2
}
