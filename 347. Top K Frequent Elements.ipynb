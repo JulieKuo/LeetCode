{
 "cells": [
  {
   "cell_type": "markdown",
   "metadata": {},
   "source": [
    "## 347. Top K Frequent Elements"
   ]
  },
  {
   "cell_type": "markdown",
   "metadata": {},
   "source": [
    "* 時間複雜度: O( $n + (m * log {_2} {k}) + k $ )\n",
    "* 空間複雜度: O( $m + k$ )"
   ]
  },
  {
   "cell_type": "code",
   "execution_count": 1,
   "metadata": {},
   "outputs": [],
   "source": [
    "import heapq\n",
    "from typing import List\n",
    "\n",
    "class Solution:\n",
    "    def topKFrequent(self, nums: List[int], k: int) -> List[int]:\n",
    "        count = {}  # 每個數字出現次數的字典 # space: O(m)，m 為不重複數字的個數，m ≈ n\n",
    "        for num in nums: # time: O(n)\n",
    "            # 更新字典中的計數，若該數字尚未存在則預設為 0\n",
    "            count[num] = count.get(num, 0) + 1\n",
    "        print(f\"{count=}\")\n",
    "\n",
    "        heap = []  # 最小堆，存儲前 k 個頻率最高的數字 # space: O(k)\n",
    "        for num, count in count.items(): # time: O(m), m 為不重複數字的個數，m ≈ n\n",
    "            if len(heap) < k: # 當堆的長度小於 k，直接將 (頻率, 數字) 加入堆中                \n",
    "                heapq.heappush(heap, [count, num]) # 將當前數字加入堆中，time: O(logk)\n",
    "                print(f\"{heap=}\")\n",
    "            elif count > heap[0][0]: # 當當前數字的頻率大於堆頂的頻率時，替換堆中的最小值\n",
    "                heapq.heappush(heap, [count, num])  # 將當前數字加入堆中 # time: O(logk)\n",
    "                print(f\"{heap=}\")\n",
    "                popped = heapq.heappop(heap)  # 移除堆中的最小值 # time: O(logk)\n",
    "                print(f\"{popped=}, {heap=}\")\n",
    "\n",
    "        # 將堆中存儲的數字加入結果\n",
    "        result = [] # space: O(k)\n",
    "        for count, num in heap:\n",
    "            result.append(num)\n",
    "        print(f\"{result=}\")\n",
    "\n",
    "        return result"
   ]
  },
  {
   "cell_type": "code",
   "execution_count": 2,
   "metadata": {},
   "outputs": [
    {
     "name": "stdout",
     "output_type": "stream",
     "text": [
      "count={1: 3, 2: 2, 3: 4}\n",
      "heap=[[3, 1]]\n",
      "heap=[[2, 2], [3, 1]]\n",
      "heap=[[2, 2], [3, 1], [4, 3]]\n",
      "popped=[2, 2], heap=[[3, 1], [4, 3]]\n",
      "result=[1, 3]\n"
     ]
    },
    {
     "data": {
      "text/plain": [
       "[1, 3]"
      ]
     },
     "execution_count": 2,
     "metadata": {},
     "output_type": "execute_result"
    }
   ],
   "source": [
    "nums = [1,1,1,2,2,3,3,3,3]; k = 2\n",
    "Solution().topKFrequent(nums, k)"
   ]
  }
 ],
 "metadata": {
  "kernelspec": {
   "display_name": ".venv",
   "language": "python",
   "name": "python3"
  },
  "language_info": {
   "codemirror_mode": {
    "name": "ipython",
    "version": 3
   },
   "file_extension": ".py",
   "mimetype": "text/x-python",
   "name": "python",
   "nbconvert_exporter": "python",
   "pygments_lexer": "ipython3",
   "version": "3.11.2"
  },
  "orig_nbformat": 4,
  "vscode": {
   "interpreter": {
    "hash": "6a07fcf0145f94b3f971c13d061528107de20ab7b779375f96dab9bbac6a85db"
   }
  }
 },
 "nbformat": 4,
 "nbformat_minor": 2
}
