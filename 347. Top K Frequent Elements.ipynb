{
 "cells": [
  {
   "cell_type": "markdown",
   "metadata": {},
   "source": [
    "## 347. Top K Frequent Elements"
   ]
  },
  {
   "cell_type": "markdown",
   "metadata": {},
   "source": [
    "* 時間複雜度: O( $n$ )\n",
    "* 空間複雜度: O( $n$ )"
   ]
  },
  {
   "cell_type": "code",
   "execution_count": 1,
   "metadata": {},
   "outputs": [],
   "source": [
    "from collections import defaultdict\n",
    "from typing import List\n",
    "\n",
    "class Solution:\n",
    "    def topKFrequent(self, nums: List[int], k: int) -> List[int]:\n",
    "        # 計算每個數字出現的次數\n",
    "        counts = defaultdict(int) # space: O(m)，m 為不重複數字的個數，m ≈ n\n",
    "        for num in nums: # time: O(n)\n",
    "            counts[num] += 1\n",
    "\n",
    "        # 建立桶子，索引代表出現次數，值為出現該次數的數字列表\n",
    "        # 因為一個數字最多出現 len(nums) 次，所以桶子大小為 len(nums) + 1\n",
    "        bucket = [[] for _ in range(len(nums) + 1)] # space: O(n)\n",
    "\n",
    "        # 將每個數字放入對應次數的桶子中\n",
    "        for num, count in counts.items(): # time: O(m)，m 為不重複數字的個數，m ≈ n\n",
    "            bucket[count].append(num)\n",
    "\n",
    "        # 從後往前遍歷桶子(從最高頻率開始)，收集前k個數字\n",
    "        result = [] # space: O(k)，k < n\n",
    "        for i in range(len(bucket) - 1, 0, -1): # time: O(n)\n",
    "            for num in bucket[i]:\n",
    "                result.append(num)\n",
    "                if len(result) == k:\n",
    "                    return result"
   ]
  },
  {
   "cell_type": "code",
   "execution_count": 2,
   "metadata": {},
   "outputs": [
    {
     "data": {
      "text/plain": [
       "[3, 1]"
      ]
     },
     "execution_count": 2,
     "metadata": {},
     "output_type": "execute_result"
    }
   ],
   "source": [
    "nums = [1,1,1,2,2,3,3,3,3]; k = 2\n",
    "Solution().topKFrequent(nums, k) # [3, 1]"
   ]
  },
  {
   "cell_type": "markdown",
   "metadata": {},
   "source": [
    "* 時間複雜度: O( $n + (m * log {_2} {k}) + k $ )\n",
    "* 空間複雜度: O( $m + k$ )"
   ]
  },
  {
   "cell_type": "markdown",
   "metadata": {},
   "source": [
    "可參考215. 手動建立heap"
   ]
  },
  {
   "cell_type": "code",
   "execution_count": 1,
   "metadata": {},
   "outputs": [],
   "source": [
    "import heapq\n",
    "from typing import List\n",
    "\n",
    "class Solution:\n",
    "    def topKFrequent(self, nums: List[int], k: int) -> List[int]:\n",
    "        count_dict = {}  # 每個數字出現次數的字典 # space: O(m)，m 為不重複數字的個數，m ≈ n\n",
    "        for num in nums: # time: O(n)\n",
    "            # 更新字典中的計數，若該數字尚未存在則預設為 0\n",
    "            count_dict[num] = count_dict.get(num, 0) + 1\n",
    "        print(f\"{count_dict=}\")\n",
    "\n",
    "        heap = []  # 最小堆，存儲前 k 個頻率最高的數字 # space: O(k)\n",
    "        for num, count in count_dict.items(): # time: O(m), m 為不重複數字的個數，m ≈ n\n",
    "            if len(heap) < k: # 當堆的長度小於 k，直接將 (頻率, 數字) 加入堆中                \n",
    "                heapq.heappush(heap, [count, num]) # 將當前數字加入堆中，time: O(logk)\n",
    "                print(f\"{heap=}\")\n",
    "            elif count > heap[0][0]: # 當當前數字的頻率大於堆頂的頻率時，替換堆中的最小值\n",
    "                heapq.heappush(heap, [count, num])  # 將當前數字加入堆中 # time: O(logk)\n",
    "                print(f\"{heap=}\")\n",
    "                popped = heapq.heappop(heap)  # 移除堆中的最小值 # time: O(logk)\n",
    "                print(f\"{popped=}, {heap=}\")\n",
    "\n",
    "        # 將堆中存儲的數字加入結果\n",
    "        result = [] # space: O(k)\n",
    "        for count, num in heap:\n",
    "            result.append(num)\n",
    "        print(f\"{result=}\")\n",
    "\n",
    "        return result"
   ]
  },
  {
   "cell_type": "code",
   "execution_count": 2,
   "metadata": {},
   "outputs": [
    {
     "name": "stdout",
     "output_type": "stream",
     "text": [
      "count_dict={1: 3, 2: 2, 3: 4}\n",
      "heap=[[3, 1]]\n",
      "heap=[[2, 2], [3, 1]]\n",
      "heap=[[2, 2], [3, 1], [4, 3]]\n",
      "popped=[2, 2], heap=[[3, 1], [4, 3]]\n",
      "result=[1, 3]\n"
     ]
    },
    {
     "data": {
      "text/plain": [
       "[1, 3]"
      ]
     },
     "execution_count": 2,
     "metadata": {},
     "output_type": "execute_result"
    }
   ],
   "source": [
    "nums = [1,1,1,2,2,3,3,3,3]; k = 2\n",
    "Solution().topKFrequent(nums, k) # [3, 1]"
   ]
  }
 ],
 "metadata": {
  "kernelspec": {
   "display_name": ".venv",
   "language": "python",
   "name": "python3"
  },
  "language_info": {
   "codemirror_mode": {
    "name": "ipython",
    "version": 3
   },
   "file_extension": ".py",
   "mimetype": "text/x-python",
   "name": "python",
   "nbconvert_exporter": "python",
   "pygments_lexer": "ipython3",
   "version": "3.11.11"
  },
  "orig_nbformat": 4,
  "vscode": {
   "interpreter": {
    "hash": "6a07fcf0145f94b3f971c13d061528107de20ab7b779375f96dab9bbac6a85db"
   }
  }
 },
 "nbformat": 4,
 "nbformat_minor": 2
}
