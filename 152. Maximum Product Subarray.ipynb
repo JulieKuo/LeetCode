{
 "cells": [
  {
   "cell_type": "markdown",
   "metadata": {},
   "source": [
    "## 152. Maximum Product Subarray"
   ]
  },
  {
   "cell_type": "markdown",
   "metadata": {},
   "source": [
    "<img src=\"img/152.jpg\" style=\"zoom:50%\"/>"
   ]
  },
  {
   "cell_type": "code",
   "execution_count": 1,
   "metadata": {},
   "outputs": [],
   "source": [
    "from typing import List"
   ]
  },
  {
   "cell_type": "markdown",
   "metadata": {},
   "source": [
    "* 時間複雜度：O(n)  \n",
    "* 空間複雜度：O(1)"
   ]
  },
  {
   "cell_type": "code",
   "execution_count": 2,
   "metadata": {},
   "outputs": [],
   "source": [
    "class Solution:\n",
    "    def maxProduct(self, nums: List[int]) -> int:\n",
    "        # 初始化三個變數，分別用來存儲當前最大值、最小值和結果\n",
    "        dp_max = nums[0]\n",
    "        dp_min = nums[0]\n",
    "        dp_result = nums[0]\n",
    "        print(f\"{dp_max = }, {dp_min = }, {dp_result = }\")\n",
    "\n",
    "        # 遍歷列表中的每一個數字，從第二個數字開始\n",
    "        for num in nums[1:]:\n",
    "            print(\"-\" * 50)\n",
    "            # 計算當前數字乘以之前的最大值和最小值\n",
    "            product_max = num * dp_max # may be max or min\n",
    "            product_min = num * dp_min # may be max or min\n",
    "            print(f\"{product_max = }, {product_min = }\")\n",
    "\n",
    "            # 更新當前的最大值和最小值\n",
    "            dp_max = max(num, product_max, product_min)\n",
    "            dp_min = min(num, product_max, product_min)\n",
    "\n",
    "            # 更新結果\n",
    "            dp_result = max(dp_result, dp_max)\n",
    "\n",
    "            print(f\"{dp_max = }, {dp_min = }, {dp_result = }\")\n",
    "\n",
    "        return dp_result"
   ]
  },
  {
   "cell_type": "code",
   "execution_count": 3,
   "metadata": {},
   "outputs": [
    {
     "name": "stdout",
     "output_type": "stream",
     "text": [
      "dp_max = 2, dp_min = 2, dp_result = 2\n",
      "--------------------------------------------------\n",
      "product_max = 6, product_min = 6\n",
      "dp_max = 6, dp_min = 3, dp_result = 6\n",
      "--------------------------------------------------\n",
      "product_max = -12, product_min = -6\n",
      "dp_max = -2, dp_min = -12, dp_result = 6\n",
      "--------------------------------------------------\n",
      "product_max = -8, product_min = -48\n",
      "dp_max = 4, dp_min = -48, dp_result = 6\n"
     ]
    },
    {
     "data": {
      "text/plain": [
       "6"
      ]
     },
     "execution_count": 3,
     "metadata": {},
     "output_type": "execute_result"
    }
   ],
   "source": [
    "nums = [2,3,-2,4]\n",
    "Solution().maxProduct(nums)"
   ]
  },
  {
   "cell_type": "markdown",
   "metadata": {},
   "source": [
    "* 時間複雜度：O(n)  \n",
    "* 空間複雜度：O(n)"
   ]
  },
  {
   "cell_type": "code",
   "execution_count": 4,
   "metadata": {},
   "outputs": [],
   "source": [
    "class Solution:\n",
    "    def maxProduct(self, nums: List[int]) -> int:\n",
    "        # 獲取輸入列表的長度\n",
    "        length = len(nums)\n",
    "        \n",
    "        # 初始化dp_max和dp_min列表，大小為length，每個元素初始值為0\n",
    "        dp_max = [0] * length\n",
    "        dp_min = [0] * length\n",
    "        \n",
    "        # 初始化dp_max和dp_min的第一個元素為nums的第一個元素\n",
    "        dp_max[0] = nums[0]\n",
    "        dp_min[0] = nums[0]\n",
    "        print(f\"{dp_max = }, {dp_min = }\")\n",
    "\n",
    "        # 遍歷nums列表的每個元素，從第二個元素開始\n",
    "        for i in range(1, length):\n",
    "            print(\"-\" * 50)\n",
    "\n",
    "            # 計算當前元素與前一個dp_max和dp_min相乘的最大值\n",
    "            dp_max[i] = max(nums[i], (nums[i] * dp_max[i - 1]), (nums[i] * dp_min[i - 1]))\n",
    "            # 計算當前元素與前一個dp_max和dp_min相乘的最小值\n",
    "            dp_min[i] = min(nums[i], (nums[i] * dp_max[i - 1]), (nums[i] * dp_min[i - 1]))\n",
    "            \n",
    "            print(f\"{dp_max = }, {dp_min = }\")\n",
    "\n",
    "        # 返回dp_max列表中的最大值，即為結果\n",
    "        return max(dp_max)"
   ]
  },
  {
   "cell_type": "code",
   "execution_count": 5,
   "metadata": {},
   "outputs": [
    {
     "name": "stdout",
     "output_type": "stream",
     "text": [
      "dp_max = [2, 0, 0, 0], dp_min = [2, 0, 0, 0]\n",
      "--------------------------------------------------\n",
      "dp_max = [2, 6, 0, 0], dp_min = [2, 3, 0, 0]\n",
      "--------------------------------------------------\n",
      "dp_max = [2, 6, -2, 0], dp_min = [2, 3, -12, 0]\n",
      "--------------------------------------------------\n",
      "dp_max = [2, 6, -2, 4], dp_min = [2, 3, -12, -48]\n"
     ]
    },
    {
     "data": {
      "text/plain": [
       "6"
      ]
     },
     "execution_count": 5,
     "metadata": {},
     "output_type": "execute_result"
    }
   ],
   "source": [
    "nums = [2,3,-2,4]\n",
    "Solution().maxProduct(nums)"
   ]
  },
  {
   "cell_type": "markdown",
   "metadata": {},
   "source": [
    "* 時間複雜度：O(n)  \n",
    "* 空間複雜度：O(n)"
   ]
  },
  {
   "cell_type": "code",
   "execution_count": 6,
   "metadata": {},
   "outputs": [],
   "source": [
    "class Solution:\n",
    "    def maxProduct(self, nums: List[int]) -> int:\n",
    "        length = len(nums)\n",
    "        \n",
    "        dp_max = [0] * length\n",
    "        dp_min = [0] * length\n",
    "\n",
    "        dp_max[0] = nums[0]\n",
    "        dp_min[0] = nums[0]\n",
    "        print(f\"{dp_max = }, {dp_min = }\")\n",
    "\n",
    "        for i in range(1, length):\n",
    "            print(\"-\" * 50)\n",
    "\n",
    "            product_max = nums[i] * dp_max[i - 1] # may be max or min\n",
    "            product_min = nums[i] * dp_min[i - 1] # may be max or min\n",
    "            print(f\"{product_max = }, {product_min = }\")\n",
    "\n",
    "            if product_max > product_min:\n",
    "                dp_max[i] = max(nums[i], product_max)\n",
    "                dp_min[i] = min(nums[i], product_min)\n",
    "            else:\n",
    "                dp_max[i] = max(nums[i], product_min)\n",
    "                dp_min[i] = min(nums[i], product_max)\n",
    "\n",
    "            print(f\"{dp_max = }, {dp_min = }\")\n",
    "\n",
    "        return max(dp_max)"
   ]
  },
  {
   "cell_type": "code",
   "execution_count": 7,
   "metadata": {},
   "outputs": [
    {
     "name": "stdout",
     "output_type": "stream",
     "text": [
      "dp_max = [2, 0, 0, 0], dp_min = [2, 0, 0, 0]\n",
      "--------------------------------------------------\n",
      "product_max = 6, product_min = 6\n",
      "dp_max = [2, 6, 0, 0], dp_min = [2, 3, 0, 0]\n",
      "--------------------------------------------------\n",
      "product_max = -12, product_min = -6\n",
      "dp_max = [2, 6, -2, 0], dp_min = [2, 3, -12, 0]\n",
      "--------------------------------------------------\n",
      "product_max = -8, product_min = -48\n",
      "dp_max = [2, 6, -2, 4], dp_min = [2, 3, -12, -48]\n"
     ]
    },
    {
     "data": {
      "text/plain": [
       "6"
      ]
     },
     "execution_count": 7,
     "metadata": {},
     "output_type": "execute_result"
    }
   ],
   "source": [
    "nums = [2,3,-2,4]\n",
    "Solution().maxProduct(nums)"
   ]
  }
 ],
 "metadata": {
  "kernelspec": {
   "display_name": ".venv",
   "language": "python",
   "name": "python3"
  },
  "language_info": {
   "codemirror_mode": {
    "name": "ipython",
    "version": 3
   },
   "file_extension": ".py",
   "mimetype": "text/x-python",
   "name": "python",
   "nbconvert_exporter": "python",
   "pygments_lexer": "ipython3",
   "version": "3.9.13"
  },
  "orig_nbformat": 4
 },
 "nbformat": 4,
 "nbformat_minor": 2
}
