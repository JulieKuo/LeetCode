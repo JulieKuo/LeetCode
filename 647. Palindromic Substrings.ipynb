{
 "cells": [
  {
   "cell_type": "markdown",
   "metadata": {},
   "source": [
    "### 647. Palindromic Substrings"
   ]
  },
  {
   "cell_type": "markdown",
   "metadata": {},
   "source": [
    "#### 雙指針"
   ]
  },
  {
   "cell_type": "code",
   "execution_count": 1,
   "metadata": {},
   "outputs": [],
   "source": [
    "class Solution:\n",
    "    def countSubstrings(self, s: str) -> int:\n",
    "        n = len(s)\n",
    "        res = n\n",
    "        for i in range(n):\n",
    "            print(f\"{'-'*100}\\ni = {i}\")\n",
    "            \n",
    "            print(\"\\n<< even >>\") # \"aa\"\n",
    "            even = self.find(s, n, left = i, right = i+1)\n",
    "            print(\"\\n<< odd >>\") # \"aba\"\n",
    "            odd = self.find(s, n, left = i, right = i+2)\n",
    "\n",
    "            \n",
    "            print(f\"\\nres = {res}, even = {even}, odd = {odd}\")\n",
    "            res += (even + odd)\n",
    "            print(f\"new: res = {res}\")\n",
    "        \n",
    "        return res\n",
    "        \n",
    "\n",
    "    def find(self, s, n, left, right):\n",
    "        count = 0\n",
    "        while (left >= 0) and (right < n) and (s[left] == s[right]):\n",
    "            print(f\"((left={left}) >= 0) and  ((right={right}) < (n={n})) and ((s[left]=s[{left}]={s[left]}) == (s[right]=s[{right}]={s[right]}))\")\n",
    "            left -= 1\n",
    "            right += 1\n",
    "            count += 1\n",
    "            print(f\"count = {count}\")\n",
    "            \n",
    "        return count"
   ]
  },
  {
   "cell_type": "code",
   "execution_count": 2,
   "metadata": {},
   "outputs": [
    {
     "name": "stdout",
     "output_type": "stream",
     "text": [
      "----------------------------------------------------------------------------------------------------\n",
      "i = 0\n",
      "\n",
      "<< even >>\n",
      "((left=0) >= 0) and  ((right=1) < (n=3)) and ((s[left]=s[0]=a) == (s[right]=s[1]=a))\n",
      "count = 1\n",
      "\n",
      "<< odd >>\n",
      "((left=0) >= 0) and  ((right=2) < (n=3)) and ((s[left]=s[0]=a) == (s[right]=s[2]=a))\n",
      "count = 1\n",
      "\n",
      "res = 3, even = 1, odd = 1\n",
      "new: res = 5\n",
      "----------------------------------------------------------------------------------------------------\n",
      "i = 1\n",
      "\n",
      "<< even >>\n",
      "((left=1) >= 0) and  ((right=2) < (n=3)) and ((s[left]=s[1]=a) == (s[right]=s[2]=a))\n",
      "count = 1\n",
      "\n",
      "<< odd >>\n",
      "\n",
      "res = 5, even = 1, odd = 0\n",
      "new: res = 6\n",
      "----------------------------------------------------------------------------------------------------\n",
      "i = 2\n",
      "\n",
      "<< even >>\n",
      "\n",
      "<< odd >>\n",
      "\n",
      "res = 6, even = 0, odd = 0\n",
      "new: res = 6\n"
     ]
    },
    {
     "data": {
      "text/plain": [
       "6"
      ]
     },
     "execution_count": 2,
     "metadata": {},
     "output_type": "execute_result"
    }
   ],
   "source": [
    "s = \"aaa\"\n",
    "Solution().countSubstrings(s)"
   ]
  },
  {
   "cell_type": "markdown",
   "metadata": {},
   "source": [
    "#### 動態規劃"
   ]
  },
  {
   "cell_type": "code",
   "execution_count": 3,
   "metadata": {},
   "outputs": [],
   "source": [
    "class Solution:\n",
    "    def countSubstrings(self, s: str) -> int:\n",
    "        import numpy as np\n",
    "\n",
    "        n = len(s)\n",
    "        dp = [[0] * n for _ in range(n)]\n",
    "        for i in range(n):\n",
    "            dp[i][i] = 1 # 單一字一定是回文，對角線為True\n",
    "        print(f\"orginal: dp = \\n{np.array(dp)}\")\n",
    "\n",
    "        count = n\n",
    "        for i in range(n-2, -1, -1):\n",
    "            for j in range(i+1, n):\n",
    "                print(f\"\\ni = {i}, j = {j}\")\n",
    "                if (s[i] == s[j]):\n",
    "                    if ((j - i) == 1) or (dp[i+1][j-1]):\n",
    "                        # (j - i) == 1, ex: \"aa\", \"cc\", 間隔為1，前後相同的字一定為回文\n",
    "                        # dp[i+1][j-1],ex: \"aba\", \"cdc\"\n",
    "                        print(f\"( (s[i] = {s[i]}) == (s[j] = {s[j]}) ) and ( ((j - i = {j - i}) == 1) or (dp[i+1][j-1] = {dp[i+1][j-1]}) )\")\n",
    "                        dp[i][j] = 1\n",
    "                        print(f\"new: dp = \\n{np.array(dp)}\")\n",
    "                    else:\n",
    "                        print(f\"only - ( (s[i] = {s[i]}) == (s[j] = {s[j]})\")\n",
    "                else:\n",
    "                    print(f\"(s[i] = {s[i]}) != (s[j] = {s[j]})\")\n",
    "                \n",
    "                if dp[i][j]:\n",
    "                    count += 1\n",
    "                    print(f\"count = {count}\")\n",
    "                    \n",
    "        return count"
   ]
  },
  {
   "cell_type": "code",
   "execution_count": 4,
   "metadata": {},
   "outputs": [
    {
     "name": "stdout",
     "output_type": "stream",
     "text": [
      "orginal: dp = \n",
      "[[1 0 0]\n",
      " [0 1 0]\n",
      " [0 0 1]]\n",
      "\n",
      "i = 1, j = 2\n",
      "( (s[i] = a) == (s[j] = a) ) and ( ((j - i = 1) == 1) or (dp[i+1][j-1] = 0) )\n",
      "new: dp = \n",
      "[[1 0 0]\n",
      " [0 1 1]\n",
      " [0 0 1]]\n",
      "count = 4\n",
      "\n",
      "i = 0, j = 1\n",
      "( (s[i] = a) == (s[j] = a) ) and ( ((j - i = 1) == 1) or (dp[i+1][j-1] = 0) )\n",
      "new: dp = \n",
      "[[1 1 0]\n",
      " [0 1 1]\n",
      " [0 0 1]]\n",
      "count = 5\n",
      "\n",
      "i = 0, j = 2\n",
      "( (s[i] = a) == (s[j] = a) ) and ( ((j - i = 2) == 1) or (dp[i+1][j-1] = 1) )\n",
      "new: dp = \n",
      "[[1 1 1]\n",
      " [0 1 1]\n",
      " [0 0 1]]\n",
      "count = 6\n"
     ]
    },
    {
     "data": {
      "text/plain": [
       "6"
      ]
     },
     "execution_count": 4,
     "metadata": {},
     "output_type": "execute_result"
    }
   ],
   "source": [
    "s = \"aaa\"\n",
    "Solution().countSubstrings(s)"
   ]
  }
 ],
 "metadata": {
  "kernelspec": {
   "display_name": ".venv",
   "language": "python",
   "name": "python3"
  },
  "language_info": {
   "codemirror_mode": {
    "name": "ipython",
    "version": 3
   },
   "file_extension": ".py",
   "mimetype": "text/x-python",
   "name": "python",
   "nbconvert_exporter": "python",
   "pygments_lexer": "ipython3",
   "version": "3.8.10"
  },
  "orig_nbformat": 4
 },
 "nbformat": 4,
 "nbformat_minor": 2
}
