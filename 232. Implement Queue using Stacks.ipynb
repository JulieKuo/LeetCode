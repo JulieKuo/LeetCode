{
 "cells": [
  {
   "cell_type": "markdown",
   "metadata": {},
   "source": [
    "## 232. Implement Queue using Stacks"
   ]
  },
  {
   "cell_type": "markdown",
   "metadata": {},
   "source": [
    "https://ithelp.ithome.com.tw/articles/10268057"
   ]
  },
  {
   "cell_type": "markdown",
   "metadata": {},
   "source": [
    "### 先進先出"
   ]
  },
  {
   "cell_type": "code",
   "execution_count": null,
   "metadata": {},
   "outputs": [],
   "source": [
    "class MyQueue:\n",
    "\n",
    "    def __init__(self):\n",
    "        self.stack1 = []\n",
    "        self.stack2 = []\n",
    "\n",
    "    def push(self, x: int) -> None:\n",
    "        while self.stack2:\n",
    "            self.stack1.append(self.stack2.pop())\n",
    "        self.stack1.append(x)\n",
    "\n",
    "    def pop(self) -> int:\n",
    "        while self.stack1:\n",
    "            self.stack2.append(self.stack1.pop())\n",
    "        return self.stack2.pop()\n",
    "\n",
    "    def peek(self) -> int: # 取出最早的元素\n",
    "        return self.stack1[0] if self.stack1 else self.stack2[-1]\n",
    "\n",
    "    def empty(self) -> bool:\n",
    "        return (not self.stack1) and (not self.stack2)\n",
    "\n",
    "\n",
    "# Your MyQueue object will be instantiated and called as such:\n",
    "# obj = MyQueue()\n",
    "# obj.push(x)\n",
    "# param_2 = obj.pop()\n",
    "# param_3 = obj.peek()\n",
    "# param_4 = obj.empty()"
   ]
  }
 ],
 "metadata": {
  "kernelspec": {
   "display_name": "Python 3.8.7 ('.venv': venv)",
   "language": "python",
   "name": "python3"
  },
  "language_info": {
   "name": "python",
   "version": "3.8.7"
  },
  "orig_nbformat": 4,
  "vscode": {
   "interpreter": {
    "hash": "6a07fcf0145f94b3f971c13d061528107de20ab7b779375f96dab9bbac6a85db"
   }
  }
 },
 "nbformat": 4,
 "nbformat_minor": 2
}
