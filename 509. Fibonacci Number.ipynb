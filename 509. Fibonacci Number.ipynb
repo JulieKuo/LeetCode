{
 "cells": [
  {
   "cell_type": "markdown",
   "metadata": {},
   "source": [
    "### 509. Fibonacci Number"
   ]
  },
  {
   "cell_type": "markdown",
   "metadata": {},
   "source": [
    "Fibonacci Numbers（費波那契數列）\n",
    "特點：\n",
    "- 序列的前兩個數字是 0 和 1\n",
    "- 從第三個數字開始，每個數字都是前兩個數字的和\n",
    "- ex: 0, 1, 1, 2, 3, 5, 8, 13, 21, 34, 55, 89, 144, ..."
   ]
  },
  {
   "cell_type": "markdown",
   "metadata": {},
   "source": [
    "參考 70. Climbing Stairs"
   ]
  },
  {
   "cell_type": "markdown",
   "metadata": {},
   "source": [
    "**時間複雜度: O(n)**  \n",
    "**空間複雜度: O(1)**"
   ]
  },
  {
   "cell_type": "code",
   "execution_count": 1,
   "metadata": {},
   "outputs": [],
   "source": [
    "class Solution:\n",
    "    def fib(self, n: int) -> int:\n",
    "        # 如果 n <= 1,直接返回 n\n",
    "        # n = 0 返回 0, n = 1 返回 1\n",
    "        if n <= 1:\n",
    "            return n\n",
    "        \n",
    "        # 初始化前兩個數字\n",
    "        # last1 代表 f(1) = 1\n",
    "        # last2 代表 f(0) = 0 \n",
    "        last1 = 1 # space: O(1)\n",
    "        last2 = 0 # space: O(1)\n",
    "        \n",
    "        # 從第2個數字開始計算到第n個數字\n",
    "        for _ in range(2, n+1): # time: O(n)\n",
    "            # current 為前兩個數字的和\n",
    "            current = last1 + last2\n",
    "            # 更新 last2 為前一個數字\n",
    "            last2 = last1\n",
    "            # 更新 last1 為當前數字\n",
    "            last1 = current\n",
    "\n",
    "        # 返回第n個斐波那契數\n",
    "        return last1"
   ]
  },
  {
   "cell_type": "code",
   "execution_count": 2,
   "metadata": {},
   "outputs": [
    {
     "data": {
      "text/plain": [
       "3"
      ]
     },
     "execution_count": 2,
     "metadata": {},
     "output_type": "execute_result"
    }
   ],
   "source": [
    "n = 4\n",
    "Solution().fib(n)"
   ]
  }
 ],
 "metadata": {
  "kernelspec": {
   "display_name": ".venv",
   "language": "python",
   "name": "python3"
  },
  "language_info": {
   "codemirror_mode": {
    "name": "ipython",
    "version": 3
   },
   "file_extension": ".py",
   "mimetype": "text/x-python",
   "name": "python",
   "nbconvert_exporter": "python",
   "pygments_lexer": "ipython3",
   "version": "3.11.2"
  }
 },
 "nbformat": 4,
 "nbformat_minor": 2
}
