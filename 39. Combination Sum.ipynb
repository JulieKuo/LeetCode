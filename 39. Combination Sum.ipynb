{
 "cells": [
  {
   "cell_type": "markdown",
   "metadata": {},
   "source": [
    "### 39. Combination Sum"
   ]
  },
  {
   "cell_type": "markdown",
   "metadata": {},
   "source": [
    "**時間複雜度: $O\\left(2^{\\tfrac{t}{m}}\\right)$**  \n",
    "**空間複雜度: $O\\left(\\tfrac{t}{m}\\right)$**\n",
    "\n",
    "* $t$：目標值 target\n",
    "* $m$：candidates 裡的最小值\n",
    "\n",
    "時間複雜度:\n",
    "1. 每個候選值都可選或可不選，複雜度是 $O(2)$\n",
    "2. 組成 target 最多需要 $\\tfrac{target}{min(candidates)}$組，複雜度是 $O\\left(\\tfrac{t}{m}\\right)$，也就是遞迴深度\n",
    "3. 遞迴的複雜度是 $O\\left(2^{\\tfrac{t}{m}}\\right)$\n",
    "4. 前面的 sort 複雜度是 $O(n \\log n)$\n",
    "5. 總複雜度是 $O\\left(n \\log n + 2^{\\tfrac{t}{m}}\\right)$ ≈ $O\\left(2^{\\tfrac{t}{m}}\\right)$\n",
    "\n",
    "空間複雜度:  \n",
    "即遞迴深度，複雜度是 $O\\left(\\tfrac{t}{m}\\right)$"
   ]
  },
  {
   "cell_type": "code",
   "execution_count": 1,
   "metadata": {},
   "outputs": [],
   "source": [
    "from typing import List\n",
    "\n",
    "class Solution:\n",
    "    def combinationSum(self, candidates: List[int], target: int) -> List[List[int]]:\n",
    "        result = []\n",
    "        candidates.sort()\n",
    "\n",
    "        print(f'{candidates = }\\n')\n",
    "\n",
    "        def dfs(index, current_list, previous_total):\n",
    "            if previous_total == target:\n",
    "                result.append(current_list.copy())\n",
    "                print(f'({previous_total = }) == ({target = })')\n",
    "                print(f'{result = }')\n",
    "                return\n",
    "            \n",
    "            for j in range(index, len(candidates)):\n",
    "                current_total = previous_total + candidates[j]\n",
    "\n",
    "                print(f'{index = }, {j = }, {current_list = }, {previous_total = }, {current_total = }')\n",
    "                if current_total > target:\n",
    "                    print(f'({current_total = }) > ({target = })')\n",
    "                    return\n",
    "                \n",
    "                current_list.append(candidates[j])\n",
    "                print(f'{current_list = }')\n",
    "                \n",
    "                dfs(index=j, current_list = current_list, previous_total=current_total)\n",
    "\n",
    "                current_list.pop()\n",
    "                print(f'pop -> {index = }, {j = }, {current_list = }, {previous_total = }\\n')\n",
    "\n",
    "\n",
    "        dfs(index=0, current_list=[], previous_total=0)\n",
    "\n",
    "        return result"
   ]
  },
  {
   "cell_type": "code",
   "execution_count": 2,
   "metadata": {},
   "outputs": [
    {
     "name": "stdout",
     "output_type": "stream",
     "text": [
      "candidates = [2, 3, 6, 7]\n",
      "\n",
      "index = 0, j = 0, current_list = [], previous_total = 0, current_total = 2\n",
      "current_list = [2]\n",
      "index = 0, j = 0, current_list = [2], previous_total = 2, current_total = 4\n",
      "current_list = [2, 2]\n",
      "index = 0, j = 0, current_list = [2, 2], previous_total = 4, current_total = 6\n",
      "current_list = [2, 2, 2]\n",
      "index = 0, j = 0, current_list = [2, 2, 2], previous_total = 6, current_total = 8\n",
      "(current_total = 8) > (target = 7)\n",
      "pop -> index = 0, j = 0, current_list = [2, 2], previous_total = 4\n",
      "\n",
      "index = 0, j = 1, current_list = [2, 2], previous_total = 4, current_total = 7\n",
      "current_list = [2, 2, 3]\n",
      "(previous_total = 7) == (target = 7)\n",
      "result = [[2, 2, 3]]\n",
      "pop -> index = 0, j = 1, current_list = [2, 2], previous_total = 4\n",
      "\n",
      "index = 0, j = 2, current_list = [2, 2], previous_total = 4, current_total = 10\n",
      "(current_total = 10) > (target = 7)\n",
      "pop -> index = 0, j = 0, current_list = [2], previous_total = 2\n",
      "\n",
      "index = 0, j = 1, current_list = [2], previous_total = 2, current_total = 5\n",
      "current_list = [2, 3]\n",
      "index = 1, j = 1, current_list = [2, 3], previous_total = 5, current_total = 8\n",
      "(current_total = 8) > (target = 7)\n",
      "pop -> index = 0, j = 1, current_list = [2], previous_total = 2\n",
      "\n",
      "index = 0, j = 2, current_list = [2], previous_total = 2, current_total = 8\n",
      "(current_total = 8) > (target = 7)\n",
      "pop -> index = 0, j = 0, current_list = [], previous_total = 0\n",
      "\n",
      "index = 0, j = 1, current_list = [], previous_total = 0, current_total = 3\n",
      "current_list = [3]\n",
      "index = 1, j = 1, current_list = [3], previous_total = 3, current_total = 6\n",
      "current_list = [3, 3]\n",
      "index = 1, j = 1, current_list = [3, 3], previous_total = 6, current_total = 9\n",
      "(current_total = 9) > (target = 7)\n",
      "pop -> index = 1, j = 1, current_list = [3], previous_total = 3\n",
      "\n",
      "index = 1, j = 2, current_list = [3], previous_total = 3, current_total = 9\n",
      "(current_total = 9) > (target = 7)\n",
      "pop -> index = 0, j = 1, current_list = [], previous_total = 0\n",
      "\n",
      "index = 0, j = 2, current_list = [], previous_total = 0, current_total = 6\n",
      "current_list = [6]\n",
      "index = 2, j = 2, current_list = [6], previous_total = 6, current_total = 12\n",
      "(current_total = 12) > (target = 7)\n",
      "pop -> index = 0, j = 2, current_list = [], previous_total = 0\n",
      "\n",
      "index = 0, j = 3, current_list = [], previous_total = 0, current_total = 7\n",
      "current_list = [7]\n",
      "(previous_total = 7) == (target = 7)\n",
      "result = [[2, 2, 3], [7]]\n",
      "pop -> index = 0, j = 3, current_list = [], previous_total = 0\n",
      "\n"
     ]
    },
    {
     "data": {
      "text/plain": [
       "[[2, 2, 3], [7]]"
      ]
     },
     "execution_count": 2,
     "metadata": {},
     "output_type": "execute_result"
    }
   ],
   "source": [
    "candidates = [2,3,6,7]; target = 7\n",
    "# Output: [[2,2,3],[7]]\n",
    "\n",
    "Solution().combinationSum(candidates, target)"
   ]
  },
  {
   "cell_type": "code",
   "execution_count": null,
   "metadata": {},
   "outputs": [],
   "source": []
  }
 ],
 "metadata": {
  "kernelspec": {
   "display_name": ".venv (3.12.8)",
   "language": "python",
   "name": "python3"
  },
  "language_info": {
   "codemirror_mode": {
    "name": "ipython",
    "version": 3
   },
   "file_extension": ".py",
   "mimetype": "text/x-python",
   "name": "python",
   "nbconvert_exporter": "python",
   "pygments_lexer": "ipython3",
   "version": "3.12.8"
  }
 },
 "nbformat": 4,
 "nbformat_minor": 2
}
