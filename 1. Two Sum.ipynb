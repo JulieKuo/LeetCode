{
 "cells": [
  {
   "cell_type": "markdown",
   "metadata": {},
   "source": [
    "## 1. Two Sum"
   ]
  },
  {
   "attachments": {},
   "cell_type": "markdown",
   "metadata": {},
   "source": [
    "#### hash table"
   ]
  },
  {
   "cell_type": "markdown",
   "metadata": {},
   "source": [
    "**時間複雜度: O(n)**  \n",
    "**空間複雜度: O(n)**"
   ]
  },
  {
   "cell_type": "code",
   "execution_count": 1,
   "metadata": {},
   "outputs": [
    {
     "name": "stdout",
     "output_type": "stream",
     "text": [
      "num1 = 3, num2 = 3, hash_table = {}\n",
      "num1 = 2, num2 = 4, hash_table = {3: 0}\n",
      "num1 = 4, num2 = 2, hash_table = {3: 0, 2: 1}\n"
     ]
    },
    {
     "data": {
      "text/plain": [
       "[1, 2]"
      ]
     },
     "execution_count": 1,
     "metadata": {},
     "output_type": "execute_result"
    }
   ],
   "source": [
    "class Solution:\n",
    "    def twoSum(self, nums, target):\n",
    "        hash_table = {}  # 儲存數字及其索引\n",
    "        for idx, num1 in enumerate(nums):\n",
    "            num2 = target - num1  # 計算目標值與當前元素的差值\n",
    "            print(f\"{num1 = }, {num2 = }, {hash_table = }\")\n",
    "\n",
    "            if num2 in hash_table:  # 如果差值存在於哈希表中\n",
    "                return [hash_table[num2], idx]  # 返回差值的索引和當前元素的索引\n",
    "            \n",
    "            hash_table[num1] = idx  # 將當前元素及其索引存入哈希表\n",
    "\n",
    "nums = [3,2,4]\n",
    "target = 6\n",
    "Solution().twoSum(nums, target)"
   ]
  },
  {
   "cell_type": "markdown",
   "metadata": {},
   "source": [
    "#### 雙指針"
   ]
  },
  {
   "cell_type": "markdown",
   "metadata": {},
   "source": [
    "**時間複雜度: O(n log n)**  \n",
    "**空間複雜度: O(n)**"
   ]
  },
  {
   "cell_type": "code",
   "execution_count": 2,
   "metadata": {},
   "outputs": [
    {
     "name": "stdout",
     "output_type": "stream",
     "text": [
      "nums = [1, 2, 3, 4, 6, 7], target = 6\n",
      "\n",
      "original: left = 0, right = 5\n",
      "( (nums[left] = 1) + (nums[right] = 7) = 8 ) > ( target = 6 )\n",
      "new: left = 0, right = 4\n",
      "\n",
      "original: left = 0, right = 4\n",
      "( (nums[left] = 1) + (nums[right] = 6) = 7 ) > ( target = 6 )\n",
      "new: left = 0, right = 3\n",
      "\n",
      "original: left = 0, right = 3\n",
      "( (nums[left] = 1) + (nums[right] = 4) = 5 ) < ( target = 6 )\n",
      "new: left = 1, right = 3\n",
      "\n",
      "end: ( (nums[left] = 2) + (nums[right] = 4) = 6 ) == ( target = 6 )\n"
     ]
    },
    {
     "data": {
      "text/plain": [
       "[1, 2]"
      ]
     },
     "execution_count": 2,
     "metadata": {},
     "output_type": "execute_result"
    }
   ],
   "source": [
    "class Solution(object):\n",
    "    def twoSum(self, nums, target):\n",
    "        # 複製一份原始的 nums 陣列\n",
    "        nums1 = nums.copy()\n",
    "        # 將 nums 陣列排序\n",
    "        nums = sorted(nums)\n",
    "        print(f\"{nums = }, {target = }\\n\")\n",
    "        \n",
    "        # 初始化左右指標\n",
    "        left = 0\n",
    "        right = len(nums) - 1\n",
    "        # 使用雙指標法尋找兩個數字的和為目標值\n",
    "        while (nums[left] + nums[right]) != target:\n",
    "            print(f\"original: left = {left}, right = {right}\")\n",
    "            # 如果兩數之和大於目標值，右指標左移\n",
    "            if (nums[left] + nums[right]) > target:\n",
    "                print(f\"( (nums[left] = {nums[left]}) + (nums[right] = {nums[right]}) = {(nums[left] + nums[right])} ) > ( target = {target} )\")\n",
    "                right -= 1\n",
    "            else:\n",
    "                # 如果兩數之和小於目標值，左指標右移\n",
    "                print(f\"( (nums[left] = {nums[left]}) + (nums[right] = {nums[right]}) = {(nums[left] + nums[right])} ) < ( target = {target} )\")\n",
    "                left += 1\n",
    "            print(f\"new: left = {left}, right = {right}\\n\")\n",
    "        \n",
    "        # 當找到目標值時，輸出結果\n",
    "        print(f\"end: ( (nums[left] = {nums[left]}) + (nums[right] = {nums[right]}) = {(nums[left] + nums[right])} ) == ( target = {target} )\")\n",
    "        \n",
    "        res = []\n",
    "        # 找出原始陣列中的索引\n",
    "        for i in range(len(nums1)):\n",
    "            if (nums[left] == nums1[i]) or (nums[right] == nums1[i]):\n",
    "                res.append(i)\n",
    "                \n",
    "        return res\n",
    "\n",
    "# 測試範例\n",
    "nums = [1, 4, 2, 7, 3, 6]\n",
    "target = 6\n",
    "Solution().twoSum(nums, target)\n"
   ]
  },
  {
   "cell_type": "code",
   "execution_count": 3,
   "metadata": {},
   "outputs": [
    {
     "name": "stdout",
     "output_type": "stream",
     "text": [
      "<< sort values >>\n",
      "\n",
      "left = [1, 4, 2], right = [7, 3, 6]\n",
      "\n",
      "left = [1], right = [4, 2]\n",
      "\n",
      "left = [4], right = [2]\n",
      "merge_list = [2, 4]\n",
      "merge_list = [1, 2, 4]\n",
      "\n",
      "left = [7], right = [3, 6]\n",
      "\n",
      "left = [3], right = [6]\n",
      "merge_list = [3, 6]\n",
      "merge_list = [3, 6, 7]\n",
      "merge_list = [1, 2, 3, 4, 6, 7]\n",
      "\n",
      "<< find index >>\n",
      "original: left = 0, right = 5\n",
      "( (nums[left] = 1) + (nums[right] = 7) = 8 ) > ( target = 6 )\n",
      "new: left = 0, right = 4\n",
      "\n",
      "original: left = 0, right = 4\n",
      "( (nums[left] = 1) + (nums[right] = 6) = 7 ) > ( target = 6 )\n",
      "new: left = 0, right = 3\n",
      "\n",
      "original: left = 0, right = 3\n",
      "( (nums[left] = 1) + (nums[right] = 4) = 5 ) < ( target = 6 )\n",
      "new: left = 1, right = 3\n",
      "\n",
      "end: ( (nums[left] = 2) + (nums[right] = 4) = 6 ) == ( target = 6 )\n"
     ]
    },
    {
     "data": {
      "text/plain": [
       "[1, 2]"
      ]
     },
     "execution_count": 3,
     "metadata": {},
     "output_type": "execute_result"
    }
   ],
   "source": [
    "class Solution(object):\n",
    "    def twoSum(self, nums, target):          \n",
    "        nums1 = nums.copy()\n",
    "        print(\"<< sort values >>\")\n",
    "        nums = self.sortList(nums)\n",
    "\n",
    "        print(\"\\n<< find index >>\")\n",
    "        left = 0\n",
    "        right = len(nums) - 1\n",
    "        while (nums[left] + nums[right]) != target:\n",
    "            print(f\"original: left = {left}, right = {right}\")\n",
    "            if (nums[left] + nums[right]) > target:\n",
    "                print(f\"( (nums[left] = {nums[left]}) + (nums[right] = {nums[right]}) = {(nums[left] + nums[right])} ) > ( target = {target} )\")\n",
    "                right -= 1\n",
    "            else:\n",
    "                print(f\"( (nums[left] = {nums[left]}) + (nums[right] = {nums[right]}) = {(nums[left] + nums[right])} ) < ( target = {target} )\")\n",
    "                left += 1\n",
    "            print(f\"new: left = {left}, right = {right}\\n\")\n",
    "\n",
    "\n",
    "        print(f\"end: ( (nums[left] = {nums[left]}) + (nums[right] = {nums[right]}) = {(nums[left] + nums[right])} ) == ( target = {target} )\")\n",
    "        \n",
    "        res = []\n",
    "        for i in range(len(nums1)):\n",
    "            if (nums[left] == nums1[i]) or (nums[right] == nums1[i]):\n",
    "                res.append(i)\n",
    "                \n",
    "        return res\n",
    "\n",
    "    def sortList(self, nums):\n",
    "        if len(nums) > 1:\n",
    "            mid = len(nums) // 2\n",
    "            left = nums[:mid]\n",
    "            right = nums[mid:]\n",
    "            print(f\"\\nleft = {left}, right = {right}\")\n",
    "\n",
    "            left1 = self.sortList(left)\n",
    "            right1 = self.sortList(right)\n",
    "            merge_list = self.merge(left1, right1)\n",
    "            print(f\"merge_list = {merge_list}\")\n",
    "        \n",
    "        else:\n",
    "            return nums\n",
    "\n",
    "        return merge_list\n",
    "\n",
    "    def merge(self, left, right):\n",
    "        merge_list = []\n",
    "        while left and right:\n",
    "            if left[0] < right[0]:\n",
    "                merge_list.append(left.pop(0))\n",
    "            else:\n",
    "                merge_list.append(right.pop(0))\n",
    "\n",
    "        if left:\n",
    "            merge_list.extend(left) \n",
    "        else:\n",
    "            merge_list.extend(right)\n",
    "\n",
    "        return merge_list\n",
    "\n",
    "\n",
    "nums = [1, 4, 2, 7, 3, 6]\n",
    "target = 6\n",
    "Solution().twoSum(nums, target)"
   ]
  },
  {
   "cell_type": "markdown",
   "metadata": {},
   "source": [
    "#### index"
   ]
  },
  {
   "cell_type": "markdown",
   "metadata": {},
   "source": [
    "<img src=\"img/1.jpg\" style=\"zoom:50%\" />"
   ]
  },
  {
   "cell_type": "code",
   "execution_count": 4,
   "metadata": {},
   "outputs": [
    {
     "data": {
      "text/plain": [
       "[1, 2]"
      ]
     },
     "execution_count": 4,
     "metadata": {},
     "output_type": "execute_result"
    }
   ],
   "source": [
    "class Solution:\n",
    "    def twoSum(self, nums, target):\n",
    "        \n",
    "        for i in range(len(nums)):\n",
    "            if (target - nums[i]) in nums[i+1 :]:\n",
    "                output = [i, nums[i + 1:].index(target - nums[i]) + (i + 1)]\n",
    "                \n",
    "        return output\n",
    "    \n",
    "    \n",
    "# class Solution:\n",
    "#     def twoSum(self, nums: List[int], target: int) -> List[int]:\n",
    "        \n",
    "#         for i in range(len(nums)):\n",
    "#             for j in range(i + 1, len(nums)):\n",
    "#                 if nums[i] + nums[j] == target:\n",
    "#                     output = [i, j]\n",
    "                \n",
    "#         return output\n",
    "    \n",
    "\n",
    "# class Solution:\n",
    "#     def twoSum(self, nums: List[int], target: int) -> List[int]:\n",
    "            \n",
    "        \n",
    "#         [[i, j] for i in range(len(nums)) for j in range(i + 1, len(nums)) if nums[i] + nums[j] == target][0]\n",
    "                \n",
    "#         return output\n",
    "nums = [1, 4, 2, 7, 3, 6]\n",
    "target = 6\n",
    "Solution().twoSum(nums, target)"
   ]
  }
 ],
 "metadata": {
  "kernelspec": {
   "display_name": "Python 3.8.7 ('.venv': venv)",
   "language": "python",
   "name": "python3"
  },
  "language_info": {
   "codemirror_mode": {
    "name": "ipython",
    "version": 3
   },
   "file_extension": ".py",
   "mimetype": "text/x-python",
   "name": "python",
   "nbconvert_exporter": "python",
   "pygments_lexer": "ipython3",
   "version": "3.10.6"
  },
  "orig_nbformat": 4,
  "vscode": {
   "interpreter": {
    "hash": "6a07fcf0145f94b3f971c13d061528107de20ab7b779375f96dab9bbac6a85db"
   }
  }
 },
 "nbformat": 4,
 "nbformat_minor": 2
}
