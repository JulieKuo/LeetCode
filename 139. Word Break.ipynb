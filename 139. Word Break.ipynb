{
 "cells": [
  {
   "cell_type": "markdown",
   "metadata": {},
   "source": [
    "### 139. Word Break"
   ]
  },
  {
   "cell_type": "code",
   "execution_count": 1,
   "metadata": {},
   "outputs": [],
   "source": [
    "class Solution:\n",
    "    def wordBreak(self, s, wordDict):\n",
    "        self.wordDict = wordDict\n",
    "        return self.dfs(current = s, memory = {})\n",
    "    \n",
    "    def dfs(self, current, memory):\n",
    "        print(\"-\" * 150)\n",
    "\n",
    "        if (current == \"\"):\n",
    "            print(f'True -> (current == \"\")')\n",
    "            return True\n",
    "        \n",
    "        if (current in memory):\n",
    "            print(f\"{memory[current]} -> ((current = {current}) in (memory = {memory}))\")\n",
    "            return memory[current]\n",
    "        \n",
    "        for word in self.wordDict:\n",
    "            print(f\"word = {word}, current = {current}\")\n",
    "            if current.startswith(word):\n",
    "                print(f\"(current = {current}) start with (word = {word})\")\n",
    "                new_current = current[len(word):]\n",
    "                print(f\"new_current = {new_current}\")\n",
    "\n",
    "                if self.dfs(current = new_current, memory = memory):\n",
    "                    memory[current] = True\n",
    "                    print(f\"True -> memory = {memory}\")\n",
    "                    return True\n",
    "            \n",
    "            # print(\"_\" * 150)\n",
    "        \n",
    "        memory[current] = False\n",
    "        print(f\"False -> memory = {memory}\")\n",
    "        print(\"_\" * 150)\n",
    "        \n",
    "        return False"
   ]
  },
  {
   "cell_type": "code",
   "execution_count": 2,
   "metadata": {},
   "outputs": [
    {
     "name": "stdout",
     "output_type": "stream",
     "text": [
      "------------------------------------------------------------------------------------------------------------------------------------------------------\n",
      "word = apple, current = applepenapple\n",
      "(current = applepenapple) start with (word = apple)\n",
      "new_current = penapple\n",
      "------------------------------------------------------------------------------------------------------------------------------------------------------\n",
      "word = apple, current = penapple\n",
      "word = pen, current = penapple\n",
      "(current = penapple) start with (word = pen)\n",
      "new_current = apple\n",
      "------------------------------------------------------------------------------------------------------------------------------------------------------\n",
      "word = apple, current = apple\n",
      "(current = apple) start with (word = apple)\n",
      "new_current = \n",
      "------------------------------------------------------------------------------------------------------------------------------------------------------\n",
      "True -> (current == \"\")\n",
      "True -> memory = {'apple': True}\n",
      "True -> memory = {'apple': True, 'penapple': True}\n",
      "True -> memory = {'apple': True, 'penapple': True, 'applepenapple': True}\n"
     ]
    },
    {
     "data": {
      "text/plain": [
       "True"
      ]
     },
     "execution_count": 2,
     "metadata": {},
     "output_type": "execute_result"
    }
   ],
   "source": [
    "s = \"applepenapple\"; wordDict = [\"apple\",\"pen\"]\n",
    "Solution().wordBreak(s, wordDict)"
   ]
  }
 ],
 "metadata": {
  "kernelspec": {
   "display_name": ".venv",
   "language": "python",
   "name": "python3"
  },
  "language_info": {
   "codemirror_mode": {
    "name": "ipython",
    "version": 3
   },
   "file_extension": ".py",
   "mimetype": "text/x-python",
   "name": "python",
   "nbconvert_exporter": "python",
   "pygments_lexer": "ipython3",
   "version": "3.8.10"
  }
 },
 "nbformat": 4,
 "nbformat_minor": 2
}
