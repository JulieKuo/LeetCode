{
 "cells": [
  {
   "attachments": {},
   "cell_type": "markdown",
   "metadata": {},
   "source": [
    "### 11. Container With Most Water"
   ]
  },
  {
   "cell_type": "markdown",
   "metadata": {},
   "source": [
    "**時間複雜度: O(n)**  \n",
    "**空間複雜度: O(1)**"
   ]
  },
  {
   "cell_type": "code",
   "execution_count": 1,
   "metadata": {},
   "outputs": [],
   "source": [
    "from typing import List\n",
    "\n",
    "class Solution:\n",
    "    def maxArea(self, height: List[int]) -> int:\n",
    "        left = 0\n",
    "        right = len(height) - 1\n",
    "        area = 0\n",
    "\n",
    "        while left < right:\n",
    "            # 計算兩指針之間的水平距離\n",
    "            x_delta = right - left\n",
    "            # 計算垂直高度，取兩指針所指向的高度的最小值 (取大的另一邊會溢出)\n",
    "            y_delta = min(height[left], height[right])\n",
    "            # 計算面積，並更新最大面積\n",
    "            area = max(area, (x_delta * y_delta))\n",
    "\n",
    "            # 如果左指針所指向的高度大於右指針所指向的高度\n",
    "            if height[left] > height[right]:\n",
    "                # 右指針向左移動一位\n",
    "                right -= 1\n",
    "            else:\n",
    "                # 否則左指針向右移動一位\n",
    "                left += 1\n",
    "        \n",
    "        return area"
   ]
  },
  {
   "cell_type": "code",
   "execution_count": 2,
   "metadata": {},
   "outputs": [
    {
     "data": {
      "text/plain": [
       "49"
      ]
     },
     "execution_count": 2,
     "metadata": {},
     "output_type": "execute_result"
    }
   ],
   "source": [
    "height = [1,8,6,2,5,4,8,3,7]\n",
    "Solution().maxArea(height)"
   ]
  }
 ],
 "metadata": {
  "kernelspec": {
   "display_name": ".venv",
   "language": "python",
   "name": "python3"
  },
  "language_info": {
   "codemirror_mode": {
    "name": "ipython",
    "version": 3
   },
   "file_extension": ".py",
   "mimetype": "text/x-python",
   "name": "python",
   "nbconvert_exporter": "python",
   "pygments_lexer": "ipython3",
   "version": "3.9.13"
  },
  "orig_nbformat": 4
 },
 "nbformat": 4,
 "nbformat_minor": 2
}
