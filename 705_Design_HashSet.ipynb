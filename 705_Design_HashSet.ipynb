{
 "cells": [
  {
   "cell_type": "markdown",
   "metadata": {},
   "source": [
    "## 705. Design HashSet"
   ]
  },
  {
   "cell_type": "markdown",
   "metadata": {},
   "source": [
    "### 1. 建一個空list\n",
    "### 2. add  \n",
    "#### 如果list裡面沒有這個值，就新增進list裡\n",
    "### 3. remove\n",
    "#### 如果list裡面有這個值，就從list裡刪除該值\n",
    "### 4. contains\n",
    "#### 如果list裡面有這個值，就返回True，否則返回False"
   ]
  },
  {
   "cell_type": "code",
   "execution_count": null,
   "metadata": {},
   "outputs": [],
   "source": [
    "class MyHashSet:\n",
    "\n",
    "    def __init__(self):\n",
    "        self.temp = []\n",
    "\n",
    "    def add(self, key: int) -> None:\n",
    "        if key not in self.temp:\n",
    "            self.temp.append(key)\n",
    "            return self.temp\n",
    "\n",
    "    def remove(self, key: int) -> None:\n",
    "        if key in self.temp:\n",
    "            self.temp.remove(key)\n",
    "            return self.temp\n",
    "\n",
    "    def contains(self, key: int) -> bool:\n",
    "        if key in self.temp:\n",
    "            return True\n",
    "        else:\n",
    "            return False\n",
    "        \n",
    "\n",
    "\n",
    "# Your MyHashSet object will be instantiated and called as such:\n",
    "# obj = MyHashSet()\n",
    "# obj.add(key)\n",
    "# obj.remove(key)\n",
    "# param_3 = obj.contains(key)"
   ]
  }
 ],
 "metadata": {
  "language_info": {
   "name": "python"
  },
  "orig_nbformat": 4
 },
 "nbformat": 4,
 "nbformat_minor": 2
}
