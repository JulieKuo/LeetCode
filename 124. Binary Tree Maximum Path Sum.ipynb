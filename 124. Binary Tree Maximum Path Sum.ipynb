{
 "cells": [
  {
   "cell_type": "markdown",
   "metadata": {},
   "source": [
    "### 124. Binary Tree Maximum Path Sum"
   ]
  },
  {
   "cell_type": "code",
   "execution_count": 1,
   "metadata": {},
   "outputs": [],
   "source": [
    "# Definition for a binary tree node.\n",
    "class TreeNode:\n",
    "    def __init__(self, val=0, left=None, right=None):\n",
    "        self.val = val\n",
    "        self.left = left\n",
    "        self.right = right"
   ]
  },
  {
   "cell_type": "code",
   "execution_count": 2,
   "metadata": {},
   "outputs": [],
   "source": [
    "root = TreeNode(\n",
    "    val = 1, \n",
    "    left = TreeNode(\n",
    "        val = 2, \n",
    "        left = None, \n",
    "        right = None \n",
    "        ), \n",
    "    right = TreeNode(\n",
    "        val = 3, \n",
    "        left = None, \n",
    "        right = None\n",
    "        ))\n",
    "# root = [1,2,3] # 6\n",
    "\n",
    "root = TreeNode(\n",
    "    val = 10,\n",
    "    left = TreeNode(\n",
    "        val = 9, \n",
    "        left = None, \n",
    "        right = None \n",
    "        ), \n",
    "    right = TreeNode(\n",
    "        val = 20, \n",
    "        left = TreeNode(\n",
    "            val = 15, \n",
    "            left = None, \n",
    "            right = None\n",
    "            ), \n",
    "        right = TreeNode(\n",
    "            val = 7, \n",
    "            left = None, \n",
    "            right = None\n",
    "            ),\n",
    "        ))\n",
    "# root = [10,9,20,None,None,15,7] # 54"
   ]
  },
  {
   "cell_type": "code",
   "execution_count": 3,
   "metadata": {},
   "outputs": [],
   "source": [
    "class Solution:\n",
    "    def __init__(self):\n",
    "        self.maxSum = float('-inf')  # 初始化最大總和為負無窮小\n",
    "\n",
    "    def maxPathSum(self, root):\n",
    "        self.depth(root)  # 呼叫遞迴函式進行樹的遍歷\n",
    "        return self.maxSum  # 回傳最大總和\n",
    "\n",
    "    def depth(self, node):\n",
    "        left_val = node.left.val if node.left else None\n",
    "        right_val = node.right.val if node.right else None\n",
    "        print(f\"node = {node.val}, node.left = {left_val}, node.right = {right_val}\")\n",
    "\n",
    "        left = self.depth(node.left) if node.left else 0  # 遞迴左子樹\n",
    "        print(f\"{node.val} - left  =  {left}\")\n",
    "\n",
    "        right = self.depth(node.right) if node.right else 0  # 遞迴右子樹\n",
    "        print(f\"{node.val} - right =  {right}\")\n",
    "\n",
    "        # 更新最大總和，考慮四種情況：1. 僅包含當前節點 2. 包含當前節點和左子樹 3. 包含當前節點和右子樹 4. 包含當前節點、左子樹和右子樹\n",
    "        print(f\"node_max: ({self.maxSum}, {node.val}, {node.val + left}, {node.val + right}, {node.val + left + right})\")\n",
    "        self.maxSum = max(self.maxSum, node.val, node.val + left, node.val + right, node.val + left + right)\n",
    "        print(f\"maxSum = {self.maxSum}\")\n",
    "        \n",
    "        # 回傳包含當前節點的最大總和，只考慮三種情況： 1. 僅包含當前節點 2. 包含當前節點和左子樹 3. 包含當前節點和右子樹\n",
    "        print(f\"return_max: ({node.val}, {node.val + left}, {node.val + right})\")\n",
    "        return max(node.val, node.val + left, node.val + right)  "
   ]
  },
  {
   "cell_type": "code",
   "execution_count": 4,
   "metadata": {},
   "outputs": [
    {
     "name": "stdout",
     "output_type": "stream",
     "text": [
      "node = 10, node.left = 9, node.right = 20\n",
      "node = 9, node.left = None, node.right = None\n",
      "9 - left  =  0\n",
      "9 - right =  0\n",
      "node_max: (-inf, 9, 9, 9, 9)\n",
      "maxSum = 9\n",
      "return_max: (9, 9, 9)\n",
      "10 - left  =  9\n",
      "node = 20, node.left = 15, node.right = 7\n",
      "node = 15, node.left = None, node.right = None\n",
      "15 - left  =  0\n",
      "15 - right =  0\n",
      "node_max: (9, 15, 15, 15, 15)\n",
      "maxSum = 15\n",
      "return_max: (15, 15, 15)\n",
      "20 - left  =  15\n",
      "node = 7, node.left = None, node.right = None\n",
      "7 - left  =  0\n",
      "7 - right =  0\n",
      "node_max: (15, 7, 7, 7, 7)\n",
      "maxSum = 15\n",
      "return_max: (7, 7, 7)\n",
      "20 - right =  7\n",
      "node_max: (15, 20, 35, 27, 42)\n",
      "maxSum = 42\n",
      "return_max: (20, 35, 27)\n",
      "10 - right =  35\n",
      "node_max: (42, 10, 19, 45, 54)\n",
      "maxSum = 54\n",
      "return_max: (10, 19, 45)\n"
     ]
    },
    {
     "data": {
      "text/plain": [
       "54"
      ]
     },
     "execution_count": 4,
     "metadata": {},
     "output_type": "execute_result"
    }
   ],
   "source": [
    "Solution().maxPathSum(root)"
   ]
  }
 ],
 "metadata": {
  "kernelspec": {
   "display_name": ".venv",
   "language": "python",
   "name": "python3"
  },
  "language_info": {
   "codemirror_mode": {
    "name": "ipython",
    "version": 3
   },
   "file_extension": ".py",
   "mimetype": "text/x-python",
   "name": "python",
   "nbconvert_exporter": "python",
   "pygments_lexer": "ipython3",
   "version": "3.8.10"
  },
  "orig_nbformat": 4
 },
 "nbformat": 4,
 "nbformat_minor": 2
}
