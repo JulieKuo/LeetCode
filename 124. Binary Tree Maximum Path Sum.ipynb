{
 "cells": [
  {
   "cell_type": "markdown",
   "metadata": {},
   "source": [
    "### 124. Binary Tree Maximum Path Sum"
   ]
  },
  {
   "cell_type": "markdown",
   "metadata": {},
   "source": [
    "**時間複雜度: $O( n )$**  \n",
    "**空間複雜度: $O( H )$**"
   ]
  },
  {
   "cell_type": "markdown",
   "metadata": {},
   "source": [
    "可參考257的複雜度分析"
   ]
  },
  {
   "cell_type": "code",
   "execution_count": 1,
   "metadata": {},
   "outputs": [],
   "source": [
    "# Definition for a binary tree node.\n",
    "class TreeNode:\n",
    "    def __init__(self, val=0, left=None, right=None):\n",
    "        self.val = val\n",
    "        self.left = left\n",
    "        self.right = right"
   ]
  },
  {
   "cell_type": "code",
   "execution_count": 2,
   "metadata": {},
   "outputs": [],
   "source": [
    "root = TreeNode(\n",
    "    val = 1, \n",
    "    left = TreeNode(\n",
    "        val = 2, \n",
    "        left = None, \n",
    "        right = None \n",
    "        ), \n",
    "    right = TreeNode(\n",
    "        val = 3, \n",
    "        left = None, \n",
    "        right = None\n",
    "        ))\n",
    "# root = [1,2,3] # 6\n",
    "\n",
    "root = TreeNode(\n",
    "    val = 10,\n",
    "    left = TreeNode(\n",
    "        val = 9, \n",
    "        left = None, \n",
    "        right = None \n",
    "        ), \n",
    "    right = TreeNode(\n",
    "        val = 20, \n",
    "        left = TreeNode(\n",
    "            val = 15, \n",
    "            left = None, \n",
    "            right = None\n",
    "            ), \n",
    "        right = TreeNode(\n",
    "            val = 7, \n",
    "            left = None, \n",
    "            right = None\n",
    "            ),\n",
    "        ))\n",
    "# root = [10,9,20,None,None,15,7] # 54\n",
    "\n",
    "root = TreeNode(\n",
    "    val = 10,\n",
    "    left = TreeNode(\n",
    "        val = 9, \n",
    "        left = None, \n",
    "        right = None \n",
    "        ), \n",
    "    right = TreeNode(\n",
    "        val = 20, \n",
    "        left = TreeNode(\n",
    "            val = -15, \n",
    "            left = None, \n",
    "            right = None\n",
    "            ), \n",
    "        right = TreeNode(\n",
    "            val = 7, \n",
    "            left = None, \n",
    "            right = None\n",
    "            ),\n",
    "        ))\n",
    "# root = [10,9,20,None,None,-15,7] # 46"
   ]
  },
  {
   "cell_type": "code",
   "execution_count": 3,
   "metadata": {},
   "outputs": [],
   "source": [
    "from typing import Optional\n",
    "\n",
    "class Solution:\n",
    "    def maxPathSum(self, root: Optional[TreeNode]) -> int:\n",
    "        # PostOrder_dfs: 後序遍歷 + 深度優先搜尋 (Depth First Search)，left -> right -> root\n",
    "        def PostOrder_dfs(node): # time: O(n), space: O(H)，n 為節點數，H 為樹的高度\n",
    "            # 如果當前節點為空，返回0\n",
    "            if not node:\n",
    "                return 0\n",
    "\n",
    "            # 遍歷左子樹\n",
    "            print(f\"left -> {node=}\")\n",
    "            left = PostOrder_dfs(node.left)\n",
    "            print(f\"{left=}\")\n",
    "\n",
    "            # 遍歷右子樹\n",
    "            print(f\"right -> {node=}\")\n",
    "            right = PostOrder_dfs(node.right)\n",
    "            print(f\"{right=}\")\n",
    "\n",
    "            # 計算左子樹和右子樹的最大值（至少為0，避免貢獻負值）\n",
    "            left_max = max(left, 0)\n",
    "            right_max = max(right, 0)\n",
    "            print(f\"left_max=max({left}, 0)={left_max}\")\n",
    "            print(f\"right_max=max({right}, 0)={right_max}\")\n",
    "        \n",
    "            # 計算通過當前節點的路徑和（包含當前節點及左、右子樹的值）\n",
    "            current_sum = node.val + left_max + right_max\n",
    "            print(f\"current_sum=({node.val=} + {left_max=} + {right_max=})={current_sum}\")\n",
    "            \n",
    "            # 更新全局最大路徑和 (當前節點的路徑和與全局最大路徑和取最大值)\n",
    "            print(f\"max_sum=max({self.max_sum=}, {current_sum=})={max(self.max_sum, current_sum)}\")\n",
    "            self.max_sum = max(self.max_sum, current_sum)\n",
    "\n",
    "            # 返回包含當前節點的最大單向路徑和 (左右子樹中選擇一條最大的路徑)\n",
    "            max_one_way = node.val + max(left_max, right_max)\n",
    "            print(f\"max_one_way=({node.val=} + max({left_max=}, {right_max=}))={max_one_way}\\n\")\n",
    "\n",
    "            return max_one_way\n",
    "            \n",
    "        self.max_sum = float(\"-inf\") # 初始化全局最大路徑和為負無窮\n",
    "        PostOrder_dfs(root) # 遍歷整棵樹\n",
    "\n",
    "        return self.max_sum\n"
   ]
  },
  {
   "cell_type": "code",
   "execution_count": 4,
   "metadata": {},
   "outputs": [
    {
     "name": "stdout",
     "output_type": "stream",
     "text": [
      "left -> node=<__main__.TreeNode object at 0x7f4a2cac8710>\n",
      "left -> node=<__main__.TreeNode object at 0x7f4a2cac3d90>\n",
      "left=0\n",
      "right -> node=<__main__.TreeNode object at 0x7f4a2cac3d90>\n",
      "right=0\n",
      "left_max=max(0, 0)=0\n",
      "right_max=max(0, 0)=0\n",
      "current_sum=(node.val=9 + left_max=0 + right_max=0)=9\n",
      "max_sum=max(self.max_sum=-inf, current_sum=9)=9\n",
      "max_one_way=(node.val=9 + max(left_max=0, right_max=0))=9\n",
      "\n",
      "left=9\n",
      "right -> node=<__main__.TreeNode object at 0x7f4a2cac8710>\n",
      "left -> node=<__main__.TreeNode object at 0x7f4a2cac88d0>\n",
      "left -> node=<__main__.TreeNode object at 0x7f4a2cac3e90>\n",
      "left=0\n",
      "right -> node=<__main__.TreeNode object at 0x7f4a2cac3e90>\n",
      "right=0\n",
      "left_max=max(0, 0)=0\n",
      "right_max=max(0, 0)=0\n",
      "current_sum=(node.val=-15 + left_max=0 + right_max=0)=-15\n",
      "max_sum=max(self.max_sum=9, current_sum=-15)=9\n",
      "max_one_way=(node.val=-15 + max(left_max=0, right_max=0))=-15\n",
      "\n",
      "left=-15\n",
      "right -> node=<__main__.TreeNode object at 0x7f4a2cac88d0>\n",
      "left -> node=<__main__.TreeNode object at 0x7f4a2cac8c50>\n",
      "left=0\n",
      "right -> node=<__main__.TreeNode object at 0x7f4a2cac8c50>\n",
      "right=0\n",
      "left_max=max(0, 0)=0\n",
      "right_max=max(0, 0)=0\n",
      "current_sum=(node.val=7 + left_max=0 + right_max=0)=7\n",
      "max_sum=max(self.max_sum=9, current_sum=7)=9\n",
      "max_one_way=(node.val=7 + max(left_max=0, right_max=0))=7\n",
      "\n",
      "right=7\n",
      "left_max=max(-15, 0)=0\n",
      "right_max=max(7, 0)=7\n",
      "current_sum=(node.val=20 + left_max=0 + right_max=7)=27\n",
      "max_sum=max(self.max_sum=9, current_sum=27)=27\n",
      "max_one_way=(node.val=20 + max(left_max=0, right_max=7))=27\n",
      "\n",
      "right=27\n",
      "left_max=max(9, 0)=9\n",
      "right_max=max(27, 0)=27\n",
      "current_sum=(node.val=10 + left_max=9 + right_max=27)=46\n",
      "max_sum=max(self.max_sum=27, current_sum=46)=46\n",
      "max_one_way=(node.val=10 + max(left_max=9, right_max=27))=37\n",
      "\n"
     ]
    },
    {
     "data": {
      "text/plain": [
       "46"
      ]
     },
     "execution_count": 4,
     "metadata": {},
     "output_type": "execute_result"
    }
   ],
   "source": [
    "Solution().maxPathSum(root)"
   ]
  }
 ],
 "metadata": {
  "kernelspec": {
   "display_name": ".venv",
   "language": "python",
   "name": "python3"
  },
  "language_info": {
   "codemirror_mode": {
    "name": "ipython",
    "version": 3
   },
   "file_extension": ".py",
   "mimetype": "text/x-python",
   "name": "python",
   "nbconvert_exporter": "python",
   "pygments_lexer": "ipython3",
   "version": "3.11.11"
  },
  "orig_nbformat": 4
 },
 "nbformat": 4,
 "nbformat_minor": 2
}
