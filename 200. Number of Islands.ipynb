{
 "cells": [
  {
   "attachments": {},
   "cell_type": "markdown",
   "metadata": {},
   "source": [
    "### 200. Number of Islands"
   ]
  },
  {
   "cell_type": "markdown",
   "metadata": {},
   "source": [
    "**時間複雜度: $O(m \\times n)$**  \n",
    "**空間複雜度: $O(m \\times n)$**\n",
    "\n",
    "- 變數解釋:\n",
    "  - `m`: 行數\n",
    "  - `n`: 列數"
   ]
  },
  {
   "cell_type": "markdown",
   "metadata": {},
   "source": [
    "- dfs 特點 (建議 - 只需要標記連通區域，不需要找最短路徑)\n",
    "  - 優點\n",
    "    - 程式碼較簡潔\n",
    "    - 在處理小型圖片時，記憶體使用較少\n",
    "  - 缺點\n",
    "    - 在處理大型圖片時，可能會導致堆疊溢出\n",
    "- bfs 特點\n",
    "  - 優點\n",
    "    - 能保證找到最短路徑\n",
    "    - 按層次遍歷，更容易理解搜索過程\n",
    "    - 不會有堆疊溢出的風險\n",
    "  - 缺點\n",
    "    - 需要額外的佇列空間\n",
    "    - 實現較複雜"
   ]
  },
  {
   "cell_type": "markdown",
   "metadata": {},
   "source": [
    "### dfs"
   ]
  },
  {
   "cell_type": "code",
   "execution_count": 15,
   "metadata": {},
   "outputs": [],
   "source": [
    "from typing import List\n",
    "\n",
    "class Solution:\n",
    "    def numIslands(self, grid: List[List[str]]) -> int:\n",
    "        # 獲取網格的行數和列數\n",
    "        rows = len(grid)\n",
    "        cols = len(grid[0])\n",
    "\n",
    "        def dfs(row, col):\n",
    "            # 檢查邊界條件和當前位置是否為陸地(\"1\")\n",
    "            if (\n",
    "                row < 0 or row == rows or \n",
    "                col < 0 or col == cols or \n",
    "                grid[row][col] != \"1\"\n",
    "                ):\n",
    "                return\n",
    "\n",
    "            # 將當前位置標記為已訪問(\"0\")\n",
    "            grid[row][col] = \"0\"\n",
    "            print(f\"{row=}, {col=}, grid[{row}][{col}] = {grid[row][col]}\")\n",
    "            \n",
    "            # 遞迴訪問上下左右四個方向\n",
    "            dfs(row-1, col)  # 上\n",
    "            dfs(row+1, col)  # 下\n",
    "            dfs(row, col-1)  # 左\n",
    "            dfs(row, col+1)  # 右\n",
    "\n",
    "        count = 0 # 島嶼的數量\n",
    "\n",
    "        # 遍歷整個網格\n",
    "        for row in range(rows):\n",
    "            for col in range(cols):\n",
    "                # 如果找到一塊未訪問的陸地\n",
    "                if grid[row][col] == \"1\":\n",
    "                    count += 1  # 島嶼數量加1\n",
    "                    print(\"-\" * 100)\n",
    "                    print(f\"init: {grid=}\")\n",
    "                    print(f\"grid[{row}][{col}] = {grid[row][col]}, count = {count}\\n\")\n",
    "                    dfs(row, col)  # 使用DFS訪問整個島嶼\n",
    "                    print(f\"after: {grid=}\")\n",
    "                    \n",
    "        return count"
   ]
  },
  {
   "cell_type": "code",
   "execution_count": 16,
   "metadata": {},
   "outputs": [
    {
     "name": "stdout",
     "output_type": "stream",
     "text": [
      "----------------------------------------------------------------------------------------------------\n",
      "init: grid=[['1', '1', '1', '0', '1'], ['1', '1', '0', '0', '0'], ['1', '1', '0', '1', '1'], ['0', '0', '0', '1', '1']]\n",
      "grid[0][0] = 1, count = 1\n",
      "\n",
      "row=0, col=0, grid[0][0] = 0\n",
      "row=1, col=0, grid[1][0] = 0\n",
      "row=2, col=0, grid[2][0] = 0\n",
      "row=2, col=1, grid[2][1] = 0\n",
      "row=1, col=1, grid[1][1] = 0\n",
      "row=0, col=1, grid[0][1] = 0\n",
      "row=0, col=2, grid[0][2] = 0\n",
      "after: grid=[['0', '0', '0', '0', '1'], ['0', '0', '0', '0', '0'], ['0', '0', '0', '1', '1'], ['0', '0', '0', '1', '1']]\n",
      "----------------------------------------------------------------------------------------------------\n",
      "init: grid=[['0', '0', '0', '0', '1'], ['0', '0', '0', '0', '0'], ['0', '0', '0', '1', '1'], ['0', '0', '0', '1', '1']]\n",
      "grid[0][4] = 1, count = 2\n",
      "\n",
      "row=0, col=4, grid[0][4] = 0\n",
      "after: grid=[['0', '0', '0', '0', '0'], ['0', '0', '0', '0', '0'], ['0', '0', '0', '1', '1'], ['0', '0', '0', '1', '1']]\n",
      "----------------------------------------------------------------------------------------------------\n",
      "init: grid=[['0', '0', '0', '0', '0'], ['0', '0', '0', '0', '0'], ['0', '0', '0', '1', '1'], ['0', '0', '0', '1', '1']]\n",
      "grid[2][3] = 1, count = 3\n",
      "\n",
      "row=2, col=3, grid[2][3] = 0\n",
      "row=3, col=3, grid[3][3] = 0\n",
      "row=3, col=4, grid[3][4] = 0\n",
      "row=2, col=4, grid[2][4] = 0\n",
      "after: grid=[['0', '0', '0', '0', '0'], ['0', '0', '0', '0', '0'], ['0', '0', '0', '0', '0'], ['0', '0', '0', '0', '0']]\n"
     ]
    },
    {
     "data": {
      "text/plain": [
       "3"
      ]
     },
     "execution_count": 16,
     "metadata": {},
     "output_type": "execute_result"
    }
   ],
   "source": [
    "grid = [\n",
    "  [\"1\",\"1\",\"1\",\"0\",\"1\"],\n",
    "  [\"1\",\"1\",\"0\",\"0\",\"0\"],\n",
    "  [\"1\",\"1\",\"0\",\"1\",\"1\"],\n",
    "  [\"0\",\"0\",\"0\",\"1\",\"1\"]\n",
    "]\n",
    "Solution().numIslands(grid)"
   ]
  },
  {
   "cell_type": "markdown",
   "metadata": {},
   "source": [
    "### bfs"
   ]
  },
  {
   "cell_type": "code",
   "execution_count": 17,
   "metadata": {},
   "outputs": [],
   "source": [
    "from collections import deque\n",
    "\n",
    "class Solution:\n",
    "    def numIslands(self, grid: List[List[str]]) -> int:\n",
    "        # 獲取網格的行數和列數\n",
    "        rows = len(grid)\n",
    "        cols = len(grid[0])\n",
    "\n",
    "        def bfs(row, col):\n",
    "            # 創建一個隊列並將起始位置加入\n",
    "            queue = deque([(row, col)])\n",
    "            # 將當前位置標記為已訪問\n",
    "            grid[row][col] = \"0\"\n",
    "            print(f\"grid[{row}][{col}] = {grid[row][col]}\")\n",
    "\n",
    "            # 定義四個方向的偏移量(上、下、左、右)\n",
    "            directions = [(-1, 0), (1, 0), (0, -1), (0, 1)]\n",
    "\n",
    "            # 當隊列不為空時繼續搜索\n",
    "            while queue:\n",
    "                # 取出隊列中的一個位置\n",
    "                row, col = queue.popleft()\n",
    "                print(\"-\" * 100)\n",
    "                print(f\"{row=}, {col=}, grid[{row}][{col}] = {grid[row][col]}, queue = {queue}\")\n",
    "                # 遍歷四個方向\n",
    "                for dr, dc in directions:\n",
    "                    # 計算新的位置\n",
    "                    new_row = row + dr\n",
    "                    new_col = col + dc\n",
    "\n",
    "                    # 檢查新位置是否有效且為陸地\n",
    "                    if (0 <= new_row < rows) and (0 <= new_col < cols) and (grid[new_row][new_col] == \"1\"):\n",
    "                        # 將新位置標記為已訪問\n",
    "                        grid[new_row][new_col] = \"0\"\n",
    "                        # 將新位置加入隊列\n",
    "                        queue.append((new_row, new_col))\n",
    "                        print(f\"{new_row=}, {new_col=}, grid[{new_row}][{new_col}] = {grid[new_row][new_col]}, queue = {queue}\")\n",
    "\n",
    "        count = 0 # 島嶼的數量\n",
    "        # 遍歷整個網格\n",
    "        for row in range(rows):\n",
    "            for col in range(cols):\n",
    "                # 如果找到一塊未訪問的陸地\n",
    "                if grid[row][col] == \"1\":\n",
    "                    print(\"_\" * 100)\n",
    "                    print(f\"init: {grid=}\")\n",
    "                    print(f\"grid[{row}][{col}] = {grid[row][col]}, count = {count}\\n\")\n",
    "                    count += 1  # 島嶼數量加1\n",
    "                    bfs(row, col)  # 使用BFS訪問整個島嶼\n",
    "                    print(f\"after: {grid=}\")\n",
    "\n",
    "        return count"
   ]
  },
  {
   "cell_type": "code",
   "execution_count": 18,
   "metadata": {},
   "outputs": [
    {
     "name": "stdout",
     "output_type": "stream",
     "text": [
      "____________________________________________________________________________________________________\n",
      "init: grid=[['1', '1', '1', '0', '1'], ['1', '1', '0', '0', '0'], ['1', '1', '0', '1', '1'], ['0', '0', '0', '1', '1']]\n",
      "grid[0][0] = 1, count = 0\n",
      "\n",
      "grid[0][0] = 0\n",
      "----------------------------------------------------------------------------------------------------\n",
      "row=0, col=0, grid[0][0] = 0, queue = deque([])\n",
      "new_row=1, new_col=0, grid[1][0] = 0, queue = deque([(1, 0)])\n",
      "new_row=0, new_col=1, grid[0][1] = 0, queue = deque([(1, 0), (0, 1)])\n",
      "----------------------------------------------------------------------------------------------------\n",
      "row=1, col=0, grid[1][0] = 0, queue = deque([(0, 1)])\n",
      "new_row=2, new_col=0, grid[2][0] = 0, queue = deque([(0, 1), (2, 0)])\n",
      "new_row=1, new_col=1, grid[1][1] = 0, queue = deque([(0, 1), (2, 0), (1, 1)])\n",
      "----------------------------------------------------------------------------------------------------\n",
      "row=0, col=1, grid[0][1] = 0, queue = deque([(2, 0), (1, 1)])\n",
      "new_row=0, new_col=2, grid[0][2] = 0, queue = deque([(2, 0), (1, 1), (0, 2)])\n",
      "----------------------------------------------------------------------------------------------------\n",
      "row=2, col=0, grid[2][0] = 0, queue = deque([(1, 1), (0, 2)])\n",
      "new_row=2, new_col=1, grid[2][1] = 0, queue = deque([(1, 1), (0, 2), (2, 1)])\n",
      "----------------------------------------------------------------------------------------------------\n",
      "row=1, col=1, grid[1][1] = 0, queue = deque([(0, 2), (2, 1)])\n",
      "----------------------------------------------------------------------------------------------------\n",
      "row=0, col=2, grid[0][2] = 0, queue = deque([(2, 1)])\n",
      "----------------------------------------------------------------------------------------------------\n",
      "row=2, col=1, grid[2][1] = 0, queue = deque([])\n",
      "after: grid=[['0', '0', '0', '0', '1'], ['0', '0', '0', '0', '0'], ['0', '0', '0', '1', '1'], ['0', '0', '0', '1', '1']]\n",
      "____________________________________________________________________________________________________\n",
      "init: grid=[['0', '0', '0', '0', '1'], ['0', '0', '0', '0', '0'], ['0', '0', '0', '1', '1'], ['0', '0', '0', '1', '1']]\n",
      "grid[0][4] = 1, count = 1\n",
      "\n",
      "grid[0][4] = 0\n",
      "----------------------------------------------------------------------------------------------------\n",
      "row=0, col=4, grid[0][4] = 0, queue = deque([])\n",
      "after: grid=[['0', '0', '0', '0', '0'], ['0', '0', '0', '0', '0'], ['0', '0', '0', '1', '1'], ['0', '0', '0', '1', '1']]\n",
      "____________________________________________________________________________________________________\n",
      "init: grid=[['0', '0', '0', '0', '0'], ['0', '0', '0', '0', '0'], ['0', '0', '0', '1', '1'], ['0', '0', '0', '1', '1']]\n",
      "grid[2][3] = 1, count = 2\n",
      "\n",
      "grid[2][3] = 0\n",
      "----------------------------------------------------------------------------------------------------\n",
      "row=2, col=3, grid[2][3] = 0, queue = deque([])\n",
      "new_row=3, new_col=3, grid[3][3] = 0, queue = deque([(3, 3)])\n",
      "new_row=2, new_col=4, grid[2][4] = 0, queue = deque([(3, 3), (2, 4)])\n",
      "----------------------------------------------------------------------------------------------------\n",
      "row=3, col=3, grid[3][3] = 0, queue = deque([(2, 4)])\n",
      "new_row=3, new_col=4, grid[3][4] = 0, queue = deque([(2, 4), (3, 4)])\n",
      "----------------------------------------------------------------------------------------------------\n",
      "row=2, col=4, grid[2][4] = 0, queue = deque([(3, 4)])\n",
      "----------------------------------------------------------------------------------------------------\n",
      "row=3, col=4, grid[3][4] = 0, queue = deque([])\n",
      "after: grid=[['0', '0', '0', '0', '0'], ['0', '0', '0', '0', '0'], ['0', '0', '0', '0', '0'], ['0', '0', '0', '0', '0']]\n"
     ]
    },
    {
     "data": {
      "text/plain": [
       "3"
      ]
     },
     "execution_count": 18,
     "metadata": {},
     "output_type": "execute_result"
    }
   ],
   "source": [
    "grid = [\n",
    "  [\"1\",\"1\",\"1\",\"0\",\"1\"],\n",
    "  [\"1\",\"1\",\"0\",\"0\",\"0\"],\n",
    "  [\"1\",\"1\",\"0\",\"1\",\"1\"],\n",
    "  [\"0\",\"0\",\"0\",\"1\",\"1\"]\n",
    "]\n",
    "Solution().numIslands(grid)"
   ]
  },
  {
   "cell_type": "code",
   "execution_count": null,
   "metadata": {},
   "outputs": [],
   "source": []
  }
 ],
 "metadata": {
  "kernelspec": {
   "display_name": ".venv",
   "language": "python",
   "name": "python3"
  },
  "language_info": {
   "codemirror_mode": {
    "name": "ipython",
    "version": 3
   },
   "file_extension": ".py",
   "mimetype": "text/x-python",
   "name": "python",
   "nbconvert_exporter": "python",
   "pygments_lexer": "ipython3",
   "version": "3.11.2"
  },
  "orig_nbformat": 4
 },
 "nbformat": 4,
 "nbformat_minor": 2
}
