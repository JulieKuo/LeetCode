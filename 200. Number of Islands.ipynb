{
 "cells": [
  {
   "attachments": {},
   "cell_type": "markdown",
   "metadata": {},
   "source": [
    "### 200. Number of Islands"
   ]
  },
  {
   "cell_type": "code",
   "execution_count": 25,
   "metadata": {},
   "outputs": [],
   "source": [
    "class Solution:\n",
    "    def numIslands(self, grid):\n",
    "        print(f\"grid = {grid}\")\n",
    "        count = 0  # 島嶼的數量\n",
    "        for r in range(len(grid)):\n",
    "            for c in range(len(grid[0])):\n",
    "                if grid[r][c] == \"1\":  # 如果當前位置為島嶼（\"1\"代表島嶼）\n",
    "                    self.dfs(r, c, grid)  # 執行深度優先搜索，將相連的島嶼標記為已訪問\n",
    "                    count += 1  # 跳出dfs表示已找完一片島嶼\n",
    "                    print(f\"count = {count}\\n\") \n",
    "        return count\n",
    "    \n",
    "    def dfs(self, r, c, grid):\n",
    "        print(f\"r = {r}, c = {c}\")\n",
    "        if (r < 0) or (c < 0) or (r >= len(grid)) or (c >= len(grid[0])) or (grid[r][c] != \"1\"):\n",
    "            return  # 如果當前位置超出範圍或不是島嶼，則返回\n",
    "        \n",
    "        print(f\"-> grid[r][c] = {grid[r][c]}\")\n",
    "\n",
    "        grid[r][c] = \"#\"  # 將當前位置標記為已訪問（使用\"#\"表示）\n",
    "        print(f\"-> change: grid = {grid}\")\n",
    "\n",
    "        self.dfs(r-1, c, grid)  # 上\n",
    "        self.dfs(r+1, c, grid)  # 下\n",
    "        self.dfs(r, c-1, grid)  # 左\n",
    "        self.dfs(r, c+1, grid)  # 右\n"
   ]
  },
  {
   "cell_type": "code",
   "execution_count": 26,
   "metadata": {},
   "outputs": [
    {
     "name": "stdout",
     "output_type": "stream",
     "text": [
      "grid = [['1', '1', '1', '0', '1'], ['1', '1', '0', '0', '0'], ['1', '1', '0', '1', '1'], ['0', '0', '0', '1', '1']]\n",
      "r = 0, c = 0\n",
      "-> grid[r][c] = 1\n",
      "-> change: grid = [['#', '1', '1', '0', '1'], ['1', '1', '0', '0', '0'], ['1', '1', '0', '1', '1'], ['0', '0', '0', '1', '1']]\n",
      "r = -1, c = 0\n",
      "r = 1, c = 0\n",
      "-> grid[r][c] = 1\n",
      "-> change: grid = [['#', '1', '1', '0', '1'], ['#', '1', '0', '0', '0'], ['1', '1', '0', '1', '1'], ['0', '0', '0', '1', '1']]\n",
      "r = 0, c = 0\n",
      "r = 2, c = 0\n",
      "-> grid[r][c] = 1\n",
      "-> change: grid = [['#', '1', '1', '0', '1'], ['#', '1', '0', '0', '0'], ['#', '1', '0', '1', '1'], ['0', '0', '0', '1', '1']]\n",
      "r = 1, c = 0\n",
      "r = 3, c = 0\n",
      "r = 2, c = -1\n",
      "r = 2, c = 1\n",
      "-> grid[r][c] = 1\n",
      "-> change: grid = [['#', '1', '1', '0', '1'], ['#', '1', '0', '0', '0'], ['#', '#', '0', '1', '1'], ['0', '0', '0', '1', '1']]\n",
      "r = 1, c = 1\n",
      "-> grid[r][c] = 1\n",
      "-> change: grid = [['#', '1', '1', '0', '1'], ['#', '#', '0', '0', '0'], ['#', '#', '0', '1', '1'], ['0', '0', '0', '1', '1']]\n",
      "r = 0, c = 1\n",
      "-> grid[r][c] = 1\n",
      "-> change: grid = [['#', '#', '1', '0', '1'], ['#', '#', '0', '0', '0'], ['#', '#', '0', '1', '1'], ['0', '0', '0', '1', '1']]\n",
      "r = -1, c = 1\n",
      "r = 1, c = 1\n",
      "r = 0, c = 0\n",
      "r = 0, c = 2\n",
      "-> grid[r][c] = 1\n",
      "-> change: grid = [['#', '#', '#', '0', '1'], ['#', '#', '0', '0', '0'], ['#', '#', '0', '1', '1'], ['0', '0', '0', '1', '1']]\n",
      "r = -1, c = 2\n",
      "r = 1, c = 2\n",
      "r = 0, c = 1\n",
      "r = 0, c = 3\n",
      "r = 2, c = 1\n",
      "r = 1, c = 0\n",
      "r = 1, c = 2\n",
      "r = 3, c = 1\n",
      "r = 2, c = 0\n",
      "r = 2, c = 2\n",
      "r = 1, c = -1\n",
      "r = 1, c = 1\n",
      "r = 0, c = -1\n",
      "r = 0, c = 1\n",
      "count = 1\n",
      "\n",
      "r = 0, c = 4\n",
      "-> grid[r][c] = 1\n",
      "-> change: grid = [['#', '#', '#', '0', '#'], ['#', '#', '0', '0', '0'], ['#', '#', '0', '1', '1'], ['0', '0', '0', '1', '1']]\n",
      "r = -1, c = 4\n",
      "r = 1, c = 4\n",
      "r = 0, c = 3\n",
      "r = 0, c = 5\n",
      "count = 2\n",
      "\n",
      "r = 2, c = 3\n",
      "-> grid[r][c] = 1\n",
      "-> change: grid = [['#', '#', '#', '0', '#'], ['#', '#', '0', '0', '0'], ['#', '#', '0', '#', '1'], ['0', '0', '0', '1', '1']]\n",
      "r = 1, c = 3\n",
      "r = 3, c = 3\n",
      "-> grid[r][c] = 1\n",
      "-> change: grid = [['#', '#', '#', '0', '#'], ['#', '#', '0', '0', '0'], ['#', '#', '0', '#', '1'], ['0', '0', '0', '#', '1']]\n",
      "r = 2, c = 3\n",
      "r = 4, c = 3\n",
      "r = 3, c = 2\n",
      "r = 3, c = 4\n",
      "-> grid[r][c] = 1\n",
      "-> change: grid = [['#', '#', '#', '0', '#'], ['#', '#', '0', '0', '0'], ['#', '#', '0', '#', '1'], ['0', '0', '0', '#', '#']]\n",
      "r = 2, c = 4\n",
      "-> grid[r][c] = 1\n",
      "-> change: grid = [['#', '#', '#', '0', '#'], ['#', '#', '0', '0', '0'], ['#', '#', '0', '#', '#'], ['0', '0', '0', '#', '#']]\n",
      "r = 1, c = 4\n",
      "r = 3, c = 4\n",
      "r = 2, c = 3\n",
      "r = 2, c = 5\n",
      "r = 4, c = 4\n",
      "r = 3, c = 3\n",
      "r = 3, c = 5\n",
      "r = 2, c = 2\n",
      "r = 2, c = 4\n",
      "count = 3\n",
      "\n"
     ]
    },
    {
     "data": {
      "text/plain": [
       "3"
      ]
     },
     "execution_count": 26,
     "metadata": {},
     "output_type": "execute_result"
    }
   ],
   "source": [
    "grid = [\n",
    "  [\"1\",\"1\",\"1\",\"0\",\"1\"],\n",
    "  [\"1\",\"1\",\"0\",\"0\",\"0\"],\n",
    "  [\"1\",\"1\",\"0\",\"1\",\"1\"],\n",
    "  [\"0\",\"0\",\"0\",\"1\",\"1\"]\n",
    "]\n",
    "Solution().numIslands(grid)"
   ]
  }
 ],
 "metadata": {
  "kernelspec": {
   "display_name": ".venv",
   "language": "python",
   "name": "python3"
  },
  "language_info": {
   "codemirror_mode": {
    "name": "ipython",
    "version": 3
   },
   "file_extension": ".py",
   "mimetype": "text/x-python",
   "name": "python",
   "nbconvert_exporter": "python",
   "pygments_lexer": "ipython3",
   "version": "3.8.10"
  },
  "orig_nbformat": 4
 },
 "nbformat": 4,
 "nbformat_minor": 2
}
