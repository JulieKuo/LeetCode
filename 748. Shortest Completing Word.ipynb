{
 "cells": [
  {
   "cell_type": "markdown",
   "metadata": {},
   "source": [
    "## 748. Shortest Completing Word"
   ]
  },
  {
   "cell_type": "markdown",
   "metadata": {},
   "source": [
    "#### 1. licensePlate轉小寫\n",
    "#### 2. licensePlate刪除空格\n",
    "#### 3. licensePlate刪除數字\n",
    "#### 4. 依序抓出每個詞\n",
    "#### 5. 新增一個temp=licensePlate (避免之後刪除字母時修改到原始數據)\n",
    "#### 6. 依序抓出每個詞的每個字母，如果字母在temp中，就刪除temp中的該字母\n",
    "#### 7. 如果該詞跑完後temp裡沒有字母，該詞就符合題目要求\n",
    "#### 8. 最後判斷若同時有數個詞符合要求時，保留字數最短的詞\n",
    " "
   ]
  },
  {
   "cell_type": "code",
   "execution_count": 1,
   "metadata": {},
   "outputs": [],
   "source": [
    "class Solution:\n",
    "    def shortestCompletingWord(self, licensePlate: str, words: List[str]) -> str:\n",
    "        licensePlate = licensePlate.lower()\n",
    "        licensePlate = licensePlate.replace(\" \", \"\")\n",
    "        licensePlate = re.sub(r'[0-9]+', '', licensePlate)\n",
    "\n",
    "        length = 15 \n",
    "        for i in words:\n",
    "            temp = licensePlate\n",
    "            for j in i:\n",
    "                if j in temp:\n",
    "                    temp = temp.replace(j, \"\", 1)\n",
    "                    # print(i, temp)\n",
    "            if temp == \"\":\n",
    "                if len(i) < length:\n",
    "                    length = len(i)\n",
    "                    word = i\n",
    "                    print(word)\n",
    "                    \n",
    "        return word"
   ]
  }
 ],
 "metadata": {
  "interpreter": {
   "hash": "c5c899ed1fea65c1aad495f30148e1731af1bcf36c22dbd1b46cba8952568d24"
  },
  "kernelspec": {
   "display_name": "Python 3.9.7 64-bit ('.venv': venv)",
   "name": "python3"
  },
  "language_info": {
   "codemirror_mode": {
    "name": "ipython",
    "version": 3
   },
   "file_extension": ".py",
   "mimetype": "text/x-python",
   "name": "python",
   "nbconvert_exporter": "python",
   "pygments_lexer": "ipython3",
   "version": "3.8.9"
  },
  "orig_nbformat": 4
 },
 "nbformat": 4,
 "nbformat_minor": 2
}
