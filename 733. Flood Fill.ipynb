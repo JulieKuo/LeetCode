{
 "cells": [
  {
   "cell_type": "markdown",
   "metadata": {},
   "source": [
    "## 733. Flood Fill"
   ]
  },
  {
   "cell_type": "markdown",
   "metadata": {},
   "source": [
    "**時間複雜度: $O(m \\times n)$**  \n",
    "**空間複雜度: $O(m \\times n)$**\n",
    "\n",
    "- 變數解釋:\n",
    "  - `m`: 圖片的行數\n",
    "  - `n`: 圖片的列數"
   ]
  },
  {
   "cell_type": "markdown",
   "metadata": {},
   "source": [
    "- bfs 特點 (建議)\n",
    "  - 優點    \n",
    "    - 逐層處理，較符合\"填充\"的直觀概念 (V)\n",
    "    - 不會有堆疊溢出的風險\n",
    "    - 在處理大型圖片時更穩定 (V)\n",
    "  - 缺點\n",
    "    - 需要額外的佇列空間\n",
    "- dfs 特點\n",
    "  - 優點\n",
    "    - 程式碼較簡潔\n",
    "    - 在處理小型圖片時，記憶體使用較少\n",
    "  - 缺點\n",
    "    - 在處理大型圖片時，可能會導致堆疊溢出"
   ]
  },
  {
   "cell_type": "markdown",
   "metadata": {},
   "source": [
    "### bfs"
   ]
  },
  {
   "cell_type": "code",
   "execution_count": 5,
   "metadata": {},
   "outputs": [],
   "source": [
    "from typing import List\n",
    "from collections import deque\n",
    "\n",
    "class Solution:\n",
    "    def floodFill(self, image: List[List[int]], sr: int, sc: int, color: int) -> List[List[int]]:\n",
    "        # 儲存目標位置原始顏色\n",
    "        original_color = image[sr][sc]\n",
    "\n",
    "        # 如果原始顏色與新顏色相同,直接返回原圖\n",
    "        if original_color == color:\n",
    "            return image\n",
    "        \n",
    "        # 取得圖片的行列數\n",
    "        rows = len(image)\n",
    "        cols = len(image[0])\n",
    "\n",
    "        # 將目標位置改為新顏色\n",
    "        image[sr][sc] = color\n",
    "        # 使用佇列儲存待處理的位置\n",
    "        queue = deque([(sr, sc)]) # space: O(m * n)\n",
    "\n",
    "        # 定義上下左右四個方向\n",
    "        directions = [(-1, 0), (1, 0), (0, -1), (0, 1)]\n",
    "\n",
    "        # 廣度優先搜尋\n",
    "        while queue: # time: O(m * n)\n",
    "            # 取出當前位置\n",
    "            row, col = queue.popleft()\n",
    "\n",
    "            # 檢查四個方向的相鄰位置\n",
    "            for d_row, d_col in directions:\n",
    "                new_row = row + d_row\n",
    "                new_col = col + d_col\n",
    "\n",
    "                # 判斷新位置是否在圖片範圍內且顏色與原始顏色相同\n",
    "                if (0 <= new_row < rows) and (0 <= new_col < cols) and (image[new_row][new_col] == original_color):\n",
    "                    image[new_row][new_col] = color # 將新位置改為新顏色                    \n",
    "                    queue.append((new_row, new_col)) # 將新位置加入佇列\n",
    "\n",
    "        return image"
   ]
  },
  {
   "cell_type": "code",
   "execution_count": 6,
   "metadata": {},
   "outputs": [
    {
     "data": {
      "text/plain": [
       "[[2, 2, 2], [2, 2, 0], [2, 0, 1]]"
      ]
     },
     "execution_count": 6,
     "metadata": {},
     "output_type": "execute_result"
    }
   ],
   "source": [
    "image = [[1,1,1],[1,1,0],[1,0,1]]\n",
    "sr = 1\n",
    "sc = 1\n",
    "color = 2\n",
    "Solution().floodFill(image, sr, sc, color)\n"
   ]
  },
  {
   "cell_type": "markdown",
   "metadata": {},
   "source": [
    "### dfs"
   ]
  },
  {
   "cell_type": "code",
   "execution_count": 7,
   "metadata": {},
   "outputs": [],
   "source": [
    "from typing import List\n",
    "\n",
    "class Solution:\n",
    "    def floodFill(self, image: List[List[int]], sr: int, sc: int, color: int) -> List[List[int]]:\n",
    "        # 儲存目標位置原始顏色\n",
    "        original_color = image[sr][sc]\n",
    "        \n",
    "        # 如果原始顏色與新顏色相同,直接返回原圖\n",
    "        if original_color == color:\n",
    "            return image\n",
    "        \n",
    "        # 取得圖片的行列數\n",
    "        rows = len(image)\n",
    "        cols = len(image[0])\n",
    "        \n",
    "        def dfs(row, col):\n",
    "            # 檢查邊界條件和顏色是否符合要求\n",
    "            if (row < 0 or row >= rows or \n",
    "                col < 0 or col >= cols or\n",
    "                image[row][col] != original_color):\n",
    "                return\n",
    "            \n",
    "            # 將當前位置改為新顏色\n",
    "            image[row][col] = color\n",
    "            \n",
    "            # 遞迴處理四個方向\n",
    "            dfs(row-1, col)  # 上\n",
    "            dfs(row+1, col)  # 下\n",
    "            dfs(row, col-1)  # 左\n",
    "            dfs(row, col+1)  # 右\n",
    "        \n",
    "        # 從起始位置開始深度優先搜尋\n",
    "        dfs(sr, sc) # time: O(m * n)，space: O(m * n)，最壞情況下，遞迴深度可能達到圖片所有像素量\n",
    "\n",
    "        return image"
   ]
  },
  {
   "cell_type": "code",
   "execution_count": 8,
   "metadata": {},
   "outputs": [
    {
     "data": {
      "text/plain": [
       "[[2, 2, 2], [2, 2, 0], [2, 0, 1]]"
      ]
     },
     "execution_count": 8,
     "metadata": {},
     "output_type": "execute_result"
    }
   ],
   "source": [
    "image = [[1,1,1],[1,1,0],[1,0,1]]\n",
    "sr = 1\n",
    "sc = 1\n",
    "color = 2\n",
    "Solution().floodFill(image, sr, sc, color)\n"
   ]
  }
 ],
 "metadata": {
  "interpreter": {
   "hash": "c5c899ed1fea65c1aad495f30148e1731af1bcf36c22dbd1b46cba8952568d24"
  },
  "kernelspec": {
   "display_name": "Python 3.9.7 64-bit ('.venv': venv)",
   "name": "python3"
  },
  "language_info": {
   "codemirror_mode": {
    "name": "ipython",
    "version": 3
   },
   "file_extension": ".py",
   "mimetype": "text/x-python",
   "name": "python",
   "nbconvert_exporter": "python",
   "pygments_lexer": "ipython3",
   "version": "3.11.2"
  },
  "orig_nbformat": 4
 },
 "nbformat": 4,
 "nbformat_minor": 2
}
