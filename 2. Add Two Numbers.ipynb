{
 "cells": [
  {
   "cell_type": "markdown",
   "metadata": {},
   "source": [
    "## 2. Add Two Numbers"
   ]
  },
  {
   "cell_type": "markdown",
   "metadata": {},
   "source": [
    "<!-- # Definition for singly-linked list.\n",
    "# class ListNode:\n",
    "#     def __init__(self, val=0, next=None):\n",
    "#         self.val = val\n",
    "#         self.next = next -->"
   ]
  },
  {
   "cell_type": "code",
   "execution_count": 1,
   "metadata": {},
   "outputs": [],
   "source": [
    "class ListNode:\n",
    "    def __init__(self, val=0, next=None):\n",
    "        self.val = val\n",
    "        self.next = next"
   ]
  },
  {
   "cell_type": "code",
   "execution_count": 2,
   "metadata": {},
   "outputs": [],
   "source": [
    "l1 = ListNode(\n",
    "    val = 2,\n",
    "    next = ListNode(\n",
    "        val = 4,\n",
    "        next = ListNode(\n",
    "            val = 3,\n",
    "            next = None\n",
    "        )\n",
    "    )\n",
    ")\n",
    "# 2 -> 4 -> 3\n",
    "l2 = ListNode(\n",
    "    val = 5,\n",
    "    next = ListNode(\n",
    "        val = 6,\n",
    "        next = ListNode(\n",
    "            val = 4,\n",
    "            next = None\n",
    "        )\n",
    "    )\n",
    ")\n",
    "# 5 -> 6 -> 4"
   ]
  },
  {
   "cell_type": "code",
   "execution_count": 3,
   "metadata": {},
   "outputs": [],
   "source": [
    "class Solution:\n",
    "    def addTwoNumbers(self, l1, l2):\n",
    "        # 創建一個虛擬頭節點，方便操作，最終返回時去除虛擬頭節點即可\n",
    "        dummy_head = ListNode(0)\n",
    "        tail = dummy_head  # tail用於追蹤目前的節點，起始設置為虛擬頭節點\n",
    "        carry = 0  # carry用於處理進位情況\n",
    "        print(f\"{l1 = }\\n{l2 = }\")\n",
    "        print(f\"{dummy_head = }\\n{tail = }\")\n",
    "\n",
    "        # 當l1或l2不為空，或者有進位時，進行迴圈\n",
    "        while l1 or l2 or (carry != 0):\n",
    "            # 獲取l1和l2當前節點的數字，若為空則設置為0\n",
    "            digit1 = l1.val if l1 else 0\n",
    "            digit2 = l2.val if l2 else 0\n",
    "            print(f\"{digit1 = }, {digit2 = }, {carry = }\")\n",
    "\n",
    "            # 獲取當前位相加的總和，及進位情況\n",
    "            total = digit1 + digit2 + carry\n",
    "            digit = total % 10  # 獲取當前位的數字\n",
    "            carry = total // 10  # 計算進位\n",
    "            print(f\"{total = }, {digit = }, {carry = }\")\n",
    "\n",
    "            # 將當前位的數字加入新的節點中，並將tail指向該節點\n",
    "            tail.next = ListNode(digit)\n",
    "            tail = tail.next\n",
    "            print(f\"{dummy_head = }\\n{tail = }\")\n",
    "\n",
    "            # 移動到下一個節點\n",
    "            l1 = l1.next if l1 else None\n",
    "            l2 = l2.next if l2 else None\n",
    "            print(f\"{l1 = }\\n{l2 = }\")\n",
    "            print(\"-\" * 50)\n",
    "        \n",
    "        # 去除虛擬頭節點，返回結果\n",
    "        dummy_head = dummy_head.next\n",
    "        print(f\"{dummy_head = }\")\n",
    "\n",
    "        return dummy_head\n"
   ]
  },
  {
   "cell_type": "code",
   "execution_count": 4,
   "metadata": {},
   "outputs": [
    {
     "name": "stdout",
     "output_type": "stream",
     "text": [
      "l1 = <__main__.ListNode object at 0x000001D92F936160>\n",
      "l2 = <__main__.ListNode object at 0x000001D92F900CD0>\n",
      "dummy_head = <__main__.ListNode object at 0x000001D92F93F760>\n",
      "tail = <__main__.ListNode object at 0x000001D92F93F760>\n",
      "digit1 = 2, digit2 = 5, carry = 0\n",
      "total = 7, digit = 7, carry = 0\n",
      "dummy_head = <__main__.ListNode object at 0x000001D92F93F760>\n",
      "tail = <__main__.ListNode object at 0x000001D92F93FAF0>\n",
      "l1 = <__main__.ListNode object at 0x000001D92F936070>\n",
      "l2 = <__main__.ListNode object at 0x000001D92F936610>\n",
      "--------------------------------------------------\n",
      "digit1 = 4, digit2 = 6, carry = 0\n",
      "total = 10, digit = 0, carry = 1\n",
      "dummy_head = <__main__.ListNode object at 0x000001D92F93F760>\n",
      "tail = <__main__.ListNode object at 0x000001D92F93F130>\n",
      "l1 = <__main__.ListNode object at 0x000001D92F9369D0>\n",
      "l2 = <__main__.ListNode object at 0x000001D92F936C70>\n",
      "--------------------------------------------------\n",
      "digit1 = 3, digit2 = 4, carry = 1\n",
      "total = 8, digit = 8, carry = 0\n",
      "dummy_head = <__main__.ListNode object at 0x000001D92F93F760>\n",
      "tail = <__main__.ListNode object at 0x000001D92F93FC70>\n",
      "l1 = None\n",
      "l2 = None\n",
      "--------------------------------------------------\n",
      "dummy_head = <__main__.ListNode object at 0x000001D92F93FAF0>\n"
     ]
    }
   ],
   "source": [
    "ans = Solution().addTwoNumbers(l1, l2)"
   ]
  },
  {
   "cell_type": "code",
   "execution_count": 5,
   "metadata": {},
   "outputs": [
    {
     "name": "stdout",
     "output_type": "stream",
     "text": [
      "7\n",
      "0\n",
      "8\n"
     ]
    }
   ],
   "source": [
    "ans1 = ans\n",
    "while ans1:\n",
    "    print(ans1.val)\n",
    "    ans1 = ans1.next"
   ]
  }
 ],
 "metadata": {
  "kernelspec": {
   "display_name": ".venv",
   "language": "python",
   "name": "python3"
  },
  "language_info": {
   "codemirror_mode": {
    "name": "ipython",
    "version": 3
   },
   "file_extension": ".py",
   "mimetype": "text/x-python",
   "name": "python",
   "nbconvert_exporter": "python",
   "pygments_lexer": "ipython3",
   "version": "3.9.13"
  }
 },
 "nbformat": 4,
 "nbformat_minor": 2
}
