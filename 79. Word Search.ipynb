{
 "cells": [
  {
   "cell_type": "markdown",
   "id": "9c9e4ac5",
   "metadata": {},
   "source": [
    "### 79. Word Search.ipynb"
   ]
  },
  {
   "cell_type": "markdown",
   "id": "25cc857a",
   "metadata": {},
   "source": [
    "**時間複雜度: $O(r * c * 4^L) = O(m * 4^L)$**  \n",
    "**空間複雜度: $O(L)$**\n",
    "\n",
    "$r$ is the number of rows in the board  \n",
    "$c$ is the number of cols in the board  \n",
    "$(r*c)$ = $m$ is the number of cells in the board  \n",
    "$L$ is the length of the word"
   ]
  },
  {
   "cell_type": "code",
   "execution_count": 1,
   "id": "7c8730cc",
   "metadata": {},
   "outputs": [],
   "source": [
    "from typing import List\n",
    "\n",
    "class Solution:\n",
    "    def exist(self, board: List[List[str]], word: str) -> bool:\n",
    "        row_length = len(board)\n",
    "        col_length = len(board[0])\n",
    "        word_length = len(word)\n",
    "        direction = [(1, 0), (-1, 0), (0, -1), (0, 1)] # 上下左右\n",
    "\n",
    "        def dfs(row, col, index): # time:O(4^L)\n",
    "            if word_length == index:\n",
    "                return True\n",
    "            \n",
    "            if (\n",
    "                row < 0 or col < 0 or\n",
    "                row >= row_length or col >= col_length or\n",
    "                word[index] != board[row][col] or\n",
    "                board[row][col] == '#'\n",
    "            ):\n",
    "                return False\n",
    "            \n",
    "            board[row][col] = '#'\n",
    "            \n",
    "            result = (\n",
    "                dfs(row=row-1, col = col, index=index+1) or\n",
    "                dfs(row=row+1, col = col, index=index+1) or\n",
    "                dfs(row=row, col = col-1, index=index+1) or\n",
    "                dfs(row=row, col = col+1, index=index+1) # time:O(L)\n",
    "                ) # time:o(4)\n",
    "                \n",
    "            board[row][col] = word[index]\n",
    "            \n",
    "            return result\n",
    "\n",
    "\n",
    "        for row in range(row_length): # time:O(r)\n",
    "            for col in range(col_length): # time:O(c)\n",
    "                if dfs(row=row, col=col, index=0): # time:O(4^L)\n",
    "                    return True\n",
    "\n",
    "        return False"
   ]
  },
  {
   "cell_type": "code",
   "execution_count": 2,
   "id": "c1aba6c8",
   "metadata": {},
   "outputs": [
    {
     "data": {
      "text/plain": [
       "True"
      ]
     },
     "execution_count": 2,
     "metadata": {},
     "output_type": "execute_result"
    }
   ],
   "source": [
    "board = [[\"A\",\"B\",\"C\",\"E\"],[\"S\",\"F\",\"C\",\"S\"],[\"A\",\"D\",\"E\",\"E\"]]\n",
    "word = \"ABCCED\"\n",
    "# Output: true\n",
    "\n",
    "Solution().exist(board, word)"
   ]
  }
 ],
 "metadata": {
  "kernelspec": {
   "display_name": ".venv (3.12.8)",
   "language": "python",
   "name": "python3"
  },
  "language_info": {
   "codemirror_mode": {
    "name": "ipython",
    "version": 3
   },
   "file_extension": ".py",
   "mimetype": "text/x-python",
   "name": "python",
   "nbconvert_exporter": "python",
   "pygments_lexer": "ipython3",
   "version": "3.12.8"
  }
 },
 "nbformat": 4,
 "nbformat_minor": 5
}
