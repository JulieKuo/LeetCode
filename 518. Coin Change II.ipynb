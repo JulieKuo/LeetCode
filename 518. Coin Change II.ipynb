{
 "cells": [
  {
   "cell_type": "markdown",
   "metadata": {},
   "source": [
    "### 518. Coin Change II"
   ]
  },
  {
   "cell_type": "markdown",
   "metadata": {},
   "source": [
    "**時間複雜度: O($amount \\times n$)**  \n",
    "**空間複雜度: O($amount$)**\n",
    "\n",
    "$n$: 可用硬幣數"
   ]
  },
  {
   "cell_type": "code",
   "execution_count": 1,
   "metadata": {},
   "outputs": [],
   "source": [
    "from typing import List\n",
    "\n",
    "class Solution:\n",
    "    def change(self, amount: int, coins: List[int]) -> int:\n",
    "        # dp[i] 代表湊出金額 i 的組合數\n",
    "        dp = [0] * (amount + 1)\n",
    "        # 金額為 0 的組合數為 1 (空集合)\n",
    "        dp[0] = 1\n",
    "\n",
    "        # 對每個硬幣面額進行迭代\n",
    "        for coin in coins:\n",
    "            # 從coin開始迭代到amount,因為金額小於coin的無法用當前硬幣湊出\n",
    "            for i in range(coin, amount + 1):\n",
    "                # dp[i] 加上不使用當前硬幣的組合數\n",
    "                dp[i] += dp[i - coin]\n",
    "\n",
    "                # 印出當前狀態以便觀察\n",
    "                print(f\"{coin=}, {i=}\")\n",
    "                print(f\"{dp[i - coin]=}, {dp[i]=}\")\n",
    "                print(f\"{dp=}\\n\")\n",
    "\n",
    "        # 返回目標金額的組合數\n",
    "        return dp[amount]"
   ]
  },
  {
   "cell_type": "code",
   "execution_count": 2,
   "metadata": {},
   "outputs": [
    {
     "name": "stdout",
     "output_type": "stream",
     "text": [
      "coin=1, i=1\n",
      "dp[i - coin]=1, dp[i]=1\n",
      "dp=[1, 1, 0, 0, 0, 0]\n",
      "\n",
      "coin=1, i=2\n",
      "dp[i - coin]=1, dp[i]=1\n",
      "dp=[1, 1, 1, 0, 0, 0]\n",
      "\n",
      "coin=1, i=3\n",
      "dp[i - coin]=1, dp[i]=1\n",
      "dp=[1, 1, 1, 1, 0, 0]\n",
      "\n",
      "coin=1, i=4\n",
      "dp[i - coin]=1, dp[i]=1\n",
      "dp=[1, 1, 1, 1, 1, 0]\n",
      "\n",
      "coin=1, i=5\n",
      "dp[i - coin]=1, dp[i]=1\n",
      "dp=[1, 1, 1, 1, 1, 1]\n",
      "\n",
      "coin=2, i=2\n",
      "dp[i - coin]=1, dp[i]=2\n",
      "dp=[1, 1, 2, 1, 1, 1]\n",
      "\n",
      "coin=2, i=3\n",
      "dp[i - coin]=1, dp[i]=2\n",
      "dp=[1, 1, 2, 2, 1, 1]\n",
      "\n",
      "coin=2, i=4\n",
      "dp[i - coin]=2, dp[i]=3\n",
      "dp=[1, 1, 2, 2, 3, 1]\n",
      "\n",
      "coin=2, i=5\n",
      "dp[i - coin]=2, dp[i]=3\n",
      "dp=[1, 1, 2, 2, 3, 3]\n",
      "\n",
      "coin=5, i=5\n",
      "dp[i - coin]=1, dp[i]=4\n",
      "dp=[1, 1, 2, 2, 3, 4]\n",
      "\n"
     ]
    },
    {
     "data": {
      "text/plain": [
       "4"
      ]
     },
     "execution_count": 2,
     "metadata": {},
     "output_type": "execute_result"
    }
   ],
   "source": [
    "amount = 5\n",
    "coins = [1,2,5]\n",
    "\n",
    "Solution().change(amount, coins)"
   ]
  }
 ],
 "metadata": {
  "kernelspec": {
   "display_name": "Python 3",
   "language": "python",
   "name": "python3"
  },
  "language_info": {
   "codemirror_mode": {
    "name": "ipython",
    "version": 3
   },
   "file_extension": ".py",
   "mimetype": "text/x-python",
   "name": "python",
   "nbconvert_exporter": "python",
   "pygments_lexer": "ipython3",
   "version": "3.12.7"
  }
 },
 "nbformat": 4,
 "nbformat_minor": 2
}
