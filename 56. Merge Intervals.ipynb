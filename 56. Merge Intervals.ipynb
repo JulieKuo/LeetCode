{
 "cells": [
  {
   "cell_type": "markdown",
   "metadata": {},
   "source": [
    "## 56. Merge Intervals"
   ]
  },
  {
   "cell_type": "markdown",
   "metadata": {},
   "source": [
    "* 時間複雜度: O( $n\\ log\\ n$ )\n",
    "* 空間複雜度: O( $n$ )"
   ]
  },
  {
   "cell_type": "code",
   "execution_count": null,
   "metadata": {},
   "outputs": [],
   "source": [
    "class Solution:\n",
    "    def merge(self, intervals: List[List[int]]) -> List[List[int]]:\n",
    "        # 先將 intervals 根據每個區間的起始值進行排序，以方便後續合併\n",
    "        intervals = sorted(intervals) # time: O(nlogn), space: O(n)\n",
    "        # print(f\"{intervals = }\")\n",
    "\n",
    "        # 初始化結果列表，並將第一個區間放入結果中\n",
    "        result = [intervals[0]] # space: O(n)\n",
    "        # print(f\"{result = }\")\n",
    "\n",
    "        # 從第二個區間開始遍歷每個區間\n",
    "        for interval in intervals[1:]: # time: O(n)\n",
    "            # print(f\"{interval = }\")\n",
    "\n",
    "            # 判斷\"當前區間\"是否與\"結果列表中最後一個區間\"重疊\n",
    "            if result[-1][1] < interval[0]:\n",
    "                # print(f\"if\\n{result[-1][1]} < {interval[0]}\")\n",
    "                result.append(interval) # 沒有重疊，將當前區間加入結果列表\n",
    "            else:\n",
    "                # print(f\"else\\n{result[-1][1]} >= {interval[0]}\")\n",
    "                # print(f\"{result[-1][1] =} = max({result[-1][1]}, {interval[1]})\")\n",
    "                \n",
    "                result[-1][1] = max(result[-1][1], interval[1])  # 重疊，將結果列表中最後一個區間的結束值更新為兩者之中較大的結束值\n",
    "            \n",
    "            # print(f\"{result = }\")\n",
    "            # print(\"-\" * 100)\n",
    "        \n",
    "        return result"
   ]
  }
 ],
 "metadata": {
  "kernelspec": {
   "display_name": "Python 3.8.10 ('.venv': venv)",
   "language": "python",
   "name": "python3"
  },
  "language_info": {
   "codemirror_mode": {
    "name": "ipython",
    "version": 3
   },
   "file_extension": ".py",
   "mimetype": "text/x-python",
   "name": "python",
   "nbconvert_exporter": "python",
   "pygments_lexer": "ipython3",
   "version": "3.8.10"
  },
  "orig_nbformat": 4,
  "vscode": {
   "interpreter": {
    "hash": "6c2898c30be5f73b03e044cf4b0ab3750666a8191d61a4c93b022a132c823988"
   }
  }
 },
 "nbformat": 4,
 "nbformat_minor": 2
}
