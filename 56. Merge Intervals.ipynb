{
 "cells": [
  {
   "cell_type": "markdown",
   "metadata": {},
   "source": [
    "## 56. Merge Intervals"
   ]
  },
  {
   "cell_type": "markdown",
   "metadata": {},
   "source": [
    "#### 1. 按list裡的第1個值排序\n",
    "#### 2. res裡先放入第0個list\n",
    "#### 3. 依序抓出第1個之後的list，如果最後一個res的尾值大於抓出的list的尾值時，表示該list包含在最後一個res中，不做任何事;否則如果res最後一個的尾值大於抓出的list的首值時，表示有部分重疊，需將res的尾值改成抓出的list的尾值;否則，表示皆無重疊，直接新增list在res中。"
   ]
  },
  {
   "cell_type": "code",
   "execution_count": null,
   "metadata": {},
   "outputs": [],
   "source": [
    "class Solution:\n",
    "    def merge(self, intervals: List[List[int]]) -> List[List[int]]:\n",
    "        intervals.sort(key = lambda X: X[0])#按list裡的第1個值排序\n",
    "        res = [intervals[0]] #res裡先放入第0個list\n",
    "        for i in intervals[1:]:\n",
    "            if res[-1][1] >= i[1]: \n",
    "            #如果最後一個res的尾值大於抓出的list的尾值時，表示該list包含在最後一個res中，不做任何事\n",
    "                continue\n",
    "            elif res[-1][1] >= i[0]: \n",
    "            #否則如果res最後一個的尾值大於抓出的list的首值時，表示有部分重疊，需將res的尾值改成抓出的list的尾值\n",
    "                res[-1][1] = i[1]\n",
    "            else:\n",
    "            #否則，表示皆無重疊，直接新增list在res中\n",
    "                res.append(i)\n",
    "                \n",
    "        return res"
   ]
  },
  {
   "cell_type": "markdown",
   "metadata": {},
   "source": [
    "#### 1. 按list裡的第1個值排序\n",
    "#### 2. res裡先放入第0個list\n",
    "#### 3. 依序抓出第1個之後的list，如果抓出的list的首值小於等於res最後一個的尾值時，表示有部分重疊，需將res的尾值與抓出的list的尾值做比較，以較大的取代res的尾值;否則，表示皆無重疊，直接新增list在res中。"
   ]
  },
  {
   "cell_type": "code",
   "execution_count": null,
   "metadata": {},
   "outputs": [],
   "source": [
    "class Solution:\n",
    "    def merge(self, intervals: List[List[int]]) -> List[List[int]]:\n",
    "        intervals.sort(key = (lambda X: X[0])) # 按list裡的第1個值排序\n",
    "\n",
    "        res = [intervals[0]] # res裡先放入第0個list\n",
    "        for i in range(1, len(intervals)):\n",
    "            if intervals[i][0] <= res[-1][-1]: # 抓出的list的首值小於等於res最後一個的尾值\n",
    "                res[-1][-1] = max(intervals[i][-1], res[-1][-1]) # 需將res的尾值與抓出的list的尾值做比較，以較大的取代res的尾值\n",
    "            else:\n",
    "                res.append(intervals[i]) # 皆無重疊，直接新增list在res中\n",
    "        \n",
    "        return res"
   ]
  }
 ],
 "metadata": {
  "kernelspec": {
   "display_name": "Python 3.8.10 ('.venv': venv)",
   "language": "python",
   "name": "python3"
  },
  "language_info": {
   "codemirror_mode": {
    "name": "ipython",
    "version": 3
   },
   "file_extension": ".py",
   "mimetype": "text/x-python",
   "name": "python",
   "nbconvert_exporter": "python",
   "pygments_lexer": "ipython3",
   "version": "3.8.10"
  },
  "orig_nbformat": 4,
  "vscode": {
   "interpreter": {
    "hash": "6c2898c30be5f73b03e044cf4b0ab3750666a8191d61a4c93b022a132c823988"
   }
  }
 },
 "nbformat": 4,
 "nbformat_minor": 2
}
