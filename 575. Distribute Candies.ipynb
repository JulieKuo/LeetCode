{
 "cells": [
  {
   "cell_type": "markdown",
   "metadata": {},
   "source": [
    "## 575. Distribute Candies"
   ]
  },
  {
   "cell_type": "markdown",
   "metadata": {},
   "source": [
    "<img src=\"img/575.jpg\" style=\"zoom:50%\"/>"
   ]
  },
  {
   "cell_type": "code",
   "execution_count": null,
   "metadata": {},
   "outputs": [],
   "source": [
    "class Solution(object):\n",
    "    def distributeCandies(self, candyType):\n",
    "        \"\"\"\n",
    "        :type candyType: List[int]\n",
    "        :rtype: int\n",
    "        \"\"\"\n",
    "        a = len(candyType) / 2\n",
    "        b = len(set(candyType))\n",
    "        \n",
    "        if a >= b:\n",
    "            return b\n",
    "        else:\n",
    "            return a"
   ]
  }
 ],
 "metadata": {
  "language_info": {
   "name": "python"
  },
  "orig_nbformat": 4
 },
 "nbformat": 4,
 "nbformat_minor": 2
}
