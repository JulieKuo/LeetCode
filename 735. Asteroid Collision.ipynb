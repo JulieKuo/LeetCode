{
 "cells": [
  {
   "cell_type": "markdown",
   "metadata": {},
   "source": [
    "## 735. Asteroid Collision"
   ]
  },
  {
   "cell_type": "code",
   "execution_count": 41,
   "metadata": {},
   "outputs": [],
   "source": [
    "class Solution:\n",
    "    def asteroidCollision(self, asteroids):\n",
    "        stack = []\n",
    "        for i in asteroids:\n",
    "            while stack and (i < 0) and (stack[-1] > 0): # stack有值；i為正數，前一個數為負數，才會有相撞的可能\n",
    "                prev = stack.pop() # 先抓出前一個數\n",
    "                if prev == abs(i): # 若絕對值後相等，兩個都會爆炸\n",
    "                    i = None\n",
    "                    break # i為None，無法判斷 i < 0，會報錯，提前跳出迴圈  \n",
    "                elif prev > abs(i): # 若絕對值後前一個數比i還大，i會爆炸，保留前一個數\n",
    "                    i = prev\n",
    "            if i: # 如果i不為None，就把i加進stack中\n",
    "                stack.append(i)\n",
    "\n",
    "            print(stack)\n",
    "        \n",
    "        return stack"
   ]
  },
  {
   "cell_type": "code",
   "execution_count": 42,
   "metadata": {},
   "outputs": [
    {
     "name": "stdout",
     "output_type": "stream",
     "text": [
      "[-2]\n",
      "[-2, -2]\n",
      "[-2, -2, 1]\n",
      "[-2, -2]\n"
     ]
    },
    {
     "data": {
      "text/plain": [
       "[-2, -2]"
      ]
     },
     "execution_count": 42,
     "metadata": {},
     "output_type": "execute_result"
    }
   ],
   "source": [
    "asteroids = [-2, -1, 1, 2]\n",
    "asteroids = [10, 2, -5]\n",
    "asteroids = [8, -8]\n",
    "asteroids = [5, 10, -5]\n",
    "asteroids = [-2,-2,1,-1]\n",
    "\n",
    "Solution().asteroidCollision(asteroids)"
   ]
  }
 ],
 "metadata": {
  "kernelspec": {
   "display_name": "Python 3.8.7 ('.venv': venv)",
   "language": "python",
   "name": "python3"
  },
  "language_info": {
   "codemirror_mode": {
    "name": "ipython",
    "version": 3
   },
   "file_extension": ".py",
   "mimetype": "text/x-python",
   "name": "python",
   "nbconvert_exporter": "python",
   "pygments_lexer": "ipython3",
   "version": "3.8.7"
  },
  "orig_nbformat": 4,
  "vscode": {
   "interpreter": {
    "hash": "6a07fcf0145f94b3f971c13d061528107de20ab7b779375f96dab9bbac6a85db"
   }
  }
 },
 "nbformat": 4,
 "nbformat_minor": 2
}
