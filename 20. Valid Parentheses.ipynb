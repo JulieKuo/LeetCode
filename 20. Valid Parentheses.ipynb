{
 "cells": [
  {
   "cell_type": "markdown",
   "metadata": {},
   "source": [
    "## 20. Valid Parentheses"
   ]
  },
  {
   "cell_type": "markdown",
   "metadata": {},
   "source": [
    "<img src=\"img/20.png\" style=\"zoom:100%\" />"
   ]
  },
  {
   "cell_type": "markdown",
   "metadata": {},
   "source": [
    "**時間複雜度: O(n)**  \n",
    "**空間複雜度: O(n)**"
   ]
  },
  {
   "cell_type": "code",
   "execution_count": 1,
   "metadata": {},
   "outputs": [
    {
     "data": {
      "text/plain": [
       "True"
      ]
     },
     "execution_count": 1,
     "metadata": {},
     "output_type": "execute_result"
    }
   ],
   "source": [
    "class Solution:\n",
    "    def isValid(self, s: str) -> bool:\n",
    "        stack = []\n",
    "        hash_table = {\n",
    "            \")\": \"(\",\n",
    "            \"]\": \"[\",\n",
    "            \"}\": \"{\"\n",
    "        }\n",
    "        \n",
    "        for char in s:\n",
    "            if char in hash_table.values(): # 如果是左括號，就放進stack\n",
    "                stack.append(char)\n",
    "            elif (stack == []) or (stack.pop() != hash_table[char]): # 如果是右括號，就檢查stack是否為空，或是pop出來的左括號是否與右括號對應\n",
    "                return False\n",
    "\n",
    "        return stack == []\n",
    "    \n",
    "    \n",
    "Solution().isValid(\"[({})]\")"
   ]
  },
  {
   "cell_type": "code",
   "execution_count": 2,
   "metadata": {},
   "outputs": [
    {
     "data": {
      "text/plain": [
       "True"
      ]
     },
     "execution_count": 2,
     "metadata": {},
     "output_type": "execute_result"
    }
   ],
   "source": [
    "class Solution:\n",
    "    def isValid(self, s: str) -> bool:\n",
    "        stack = []\n",
    "        for i in s:\n",
    "            if i in [\"(\", \"{\", \"[\"]: #把開頭存入stack\n",
    "                stack.append(i)\n",
    "            elif not stack: # 沒有開頭，直接結尾，錯誤\n",
    "                return False\n",
    "            else:\n",
    "                # 若為結尾，查看最後的開頭與結尾是否相符\n",
    "                if ((i == \")\") and (stack[-1] == \"(\")) or \\\n",
    "                ((i == \"}\") and (stack[-1] == \"{\")) or \\\n",
    "                ((i == \"]\") and (stack[-1] == \"[\")):\n",
    "                    stack.pop() # 相同的話刪除最後的開頭\n",
    "                \n",
    "                # 開頭與結尾不相符，反錯誤\n",
    "                else:\n",
    "                    return False \n",
    "            # print(stack)\n",
    "                    \n",
    "        return not stack\n",
    "\n",
    "Solution().isValid(\"[({})]\")"
   ]
  }
 ],
 "metadata": {
  "kernelspec": {
   "display_name": "Python 3.8.7 ('.venv': venv)",
   "language": "python",
   "name": "python3"
  },
  "language_info": {
   "codemirror_mode": {
    "name": "ipython",
    "version": 3
   },
   "file_extension": ".py",
   "mimetype": "text/x-python",
   "name": "python",
   "nbconvert_exporter": "python",
   "pygments_lexer": "ipython3",
   "version": "3.10.6"
  },
  "orig_nbformat": 4,
  "vscode": {
   "interpreter": {
    "hash": "6a07fcf0145f94b3f971c13d061528107de20ab7b779375f96dab9bbac6a85db"
   }
  }
 },
 "nbformat": 4,
 "nbformat_minor": 2
}
