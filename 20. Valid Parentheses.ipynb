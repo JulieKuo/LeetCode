{
 "cells": [
  {
   "cell_type": "markdown",
   "metadata": {},
   "source": [
    "## 20. Valid Parentheses"
   ]
  },
  {
   "cell_type": "markdown",
   "metadata": {},
   "source": [
    "<img src=\"img/20.png\" style=\"zoom:100%\" />"
   ]
  },
  {
   "cell_type": "markdown",
   "metadata": {},
   "source": [
    "**時間複雜度: O(n)**  \n",
    "**空間複雜度: O(n)**"
   ]
  },
  {
   "cell_type": "code",
   "execution_count": 1,
   "metadata": {},
   "outputs": [
    {
     "data": {
      "text/plain": [
       "True"
      ]
     },
     "execution_count": 1,
     "metadata": {},
     "output_type": "execute_result"
    }
   ],
   "source": [
    "class Solution:\n",
    "    def isValid(self, s: str) -> bool:\n",
    "        # 建立一個字典，將每個右括號對應到對應的左括號\n",
    "        close_to_open = {\n",
    "            \")\": \"(\",\n",
    "            \"}\": \"{\",\n",
    "            \"]\": \"[\"\n",
    "        } # space O(n)\n",
    "\n",
    "        # 使用堆疊來記錄左括號\n",
    "        stack = []\n",
    "\n",
    "        # 遍歷字串中的每個字元\n",
    "        for char in s: # time: O(n)\n",
    "            # 如果是右括號\n",
    "            if char in close_to_open:\n",
    "                # 如果堆疊非空且頂部元素是對應的左括號，則匹配成功，將左括號從堆疊中移除\n",
    "                if stack and stack[-1] == close_to_open[char]:\n",
    "                    stack.pop()\n",
    "                else:\n",
    "                    # 否則表示括號不匹配，返回 False\n",
    "                    return False\n",
    "            else:\n",
    "                # 如果是左括號，推入堆疊等待之後匹配\n",
    "                stack.append(char)\n",
    "\n",
    "        # 若堆疊為空，表示所有括號都已正確匹配\n",
    "        return not stack\n",
    "\n",
    "Solution().isValid(\"[({})]\")"
   ]
  },
  {
   "cell_type": "code",
   "execution_count": 2,
   "metadata": {},
   "outputs": [
    {
     "data": {
      "text/plain": [
       "True"
      ]
     },
     "execution_count": 2,
     "metadata": {},
     "output_type": "execute_result"
    }
   ],
   "source": [
    "class Solution:\n",
    "    def isValid(self, s: str) -> bool:\n",
    "        stack = []\n",
    "        for i in s:\n",
    "            if i in [\"(\", \"{\", \"[\"]: #把開頭存入stack\n",
    "                stack.append(i)\n",
    "            elif not stack: # 沒有開頭，直接結尾，錯誤\n",
    "                return False\n",
    "            else:\n",
    "                # 若為結尾，查看最後的開頭與結尾是否相符\n",
    "                if ((i == \")\") and (stack[-1] == \"(\")) or \\\n",
    "                ((i == \"}\") and (stack[-1] == \"{\")) or \\\n",
    "                ((i == \"]\") and (stack[-1] == \"[\")):\n",
    "                    stack.pop() # 相同的話刪除最後的開頭\n",
    "                \n",
    "                # 開頭與結尾不相符，反錯誤\n",
    "                else:\n",
    "                    return False \n",
    "            # print(stack)\n",
    "                    \n",
    "        return not stack\n",
    "\n",
    "Solution().isValid(\"[({})]\")"
   ]
  }
 ],
 "metadata": {
  "kernelspec": {
   "display_name": "Python 3",
   "language": "python",
   "name": "python3"
  },
  "language_info": {
   "codemirror_mode": {
    "name": "ipython",
    "version": 3
   },
   "file_extension": ".py",
   "mimetype": "text/x-python",
   "name": "python",
   "nbconvert_exporter": "python",
   "pygments_lexer": "ipython3",
   "version": "3.12.9"
  },
  "orig_nbformat": 4
 },
 "nbformat": 4,
 "nbformat_minor": 2
}
