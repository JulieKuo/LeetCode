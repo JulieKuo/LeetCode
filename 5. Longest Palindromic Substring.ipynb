{
 "cells": [
  {
   "cell_type": "markdown",
   "metadata": {},
   "source": [
    "### 5. Longest Palindromic Substring"
   ]
  },
  {
   "cell_type": "code",
   "execution_count": 1,
   "metadata": {},
   "outputs": [],
   "source": [
    "class Solution:\n",
    "    def longestPalindrome(self, s: str) -> str:\n",
    "        res = s[0]\n",
    "        n = len(s)\n",
    "        for i in range(n):\n",
    "            print(f\"{'-'*100}\\ni = {i}\")\n",
    "            \n",
    "            print(\"\\n<< even >>\") # \"aa\"\n",
    "            even = self.find(s, n, left = i, right = i+1)\n",
    "            print(\"\\n<< odd >>\") # \"aba\"\n",
    "            odd = self.find(s, n, left = i, right = i+2)\n",
    "\n",
    "            print(f\"\\nres = {res}, even = {even}, odd = {odd}\")\n",
    "            if len(even) > len(res):\n",
    "                res = even\n",
    "            if len(odd) > len(res):\n",
    "                res = odd\n",
    "            print(f\"new: res = {res}\")\n",
    "        \n",
    "        return res\n",
    "        \n",
    "\n",
    "    def find(self, s, n, left, right):\n",
    "        while (left >= 0) and (right < n) and (s[left] == s[right]):\n",
    "            print(f\"((left={left}) >= 0) and  ((right={right}) < (n={n})) and ((s[left]=s[{left}]={s[left]}) == (s[right]=s[{right}]={s[right]}))\")\n",
    "            left -= 1\n",
    "            right += 1\n",
    "            print(f\"s[left+1:right] = s[{left}+1:{right}] = s[{left+1}:{right}] = {s[left+1:right]}\")\n",
    "            \n",
    "        return s[left+1:right]"
   ]
  },
  {
   "cell_type": "code",
   "execution_count": 2,
   "metadata": {},
   "outputs": [
    {
     "name": "stdout",
     "output_type": "stream",
     "text": [
      "----------------------------------------------------------------------------------------------------\n",
      "i = 0\n",
      "\n",
      "<< even >>\n",
      "((left=0) >= 0) and  ((right=1) < (n=7)) and ((s[left]=s[0]=b) == (s[right]=s[1]=b))\n",
      "s[left+1:right] = s[-1+1:2] = s[0:2] = bb\n",
      "\n",
      "<< odd >>\n",
      "\n",
      "res = b, even = bb, odd = b\n",
      "new: res = bb\n",
      "----------------------------------------------------------------------------------------------------\n",
      "i = 1\n",
      "\n",
      "<< even >>\n",
      "\n",
      "<< odd >>\n",
      "\n",
      "res = bb, even = , odd = c\n",
      "new: res = bb\n",
      "----------------------------------------------------------------------------------------------------\n",
      "i = 2\n",
      "\n",
      "<< even >>\n",
      "((left=2) >= 0) and  ((right=3) < (n=7)) and ((s[left]=s[2]=c) == (s[right]=s[3]=c))\n",
      "s[left+1:right] = s[1+1:4] = s[2:4] = cc\n",
      "\n",
      "<< odd >>\n",
      "((left=2) >= 0) and  ((right=4) < (n=7)) and ((s[left]=s[2]=c) == (s[right]=s[4]=c))\n",
      "s[left+1:right] = s[1+1:5] = s[2:5] = ccc\n",
      "((left=1) >= 0) and  ((right=5) < (n=7)) and ((s[left]=s[1]=b) == (s[right]=s[5]=b))\n",
      "s[left+1:right] = s[0+1:6] = s[1:6] = bcccb\n",
      "\n",
      "res = bb, even = cc, odd = bcccb\n",
      "new: res = bcccb\n",
      "----------------------------------------------------------------------------------------------------\n",
      "i = 3\n",
      "\n",
      "<< even >>\n",
      "((left=3) >= 0) and  ((right=4) < (n=7)) and ((s[left]=s[3]=c) == (s[right]=s[4]=c))\n",
      "s[left+1:right] = s[2+1:5] = s[3:5] = cc\n",
      "\n",
      "<< odd >>\n",
      "\n",
      "res = bcccb, even = cc, odd = c\n",
      "new: res = bcccb\n",
      "----------------------------------------------------------------------------------------------------\n",
      "i = 4\n",
      "\n",
      "<< even >>\n",
      "\n",
      "<< odd >>\n",
      "\n",
      "res = bcccb, even = , odd = b\n",
      "new: res = bcccb\n",
      "----------------------------------------------------------------------------------------------------\n",
      "i = 5\n",
      "\n",
      "<< even >>\n",
      "\n",
      "<< odd >>\n",
      "\n",
      "res = bcccb, even = , odd = a\n",
      "new: res = bcccb\n",
      "----------------------------------------------------------------------------------------------------\n",
      "i = 6\n",
      "\n",
      "<< even >>\n",
      "\n",
      "<< odd >>\n",
      "\n",
      "res = bcccb, even = , odd = \n",
      "new: res = bcccb\n"
     ]
    },
    {
     "data": {
      "text/plain": [
       "'bcccb'"
      ]
     },
     "execution_count": 2,
     "metadata": {},
     "output_type": "execute_result"
    }
   ],
   "source": [
    "s = \"ccc\"\n",
    "s = \"bbcccba\"\n",
    "Solution().longestPalindrome(s)"
   ]
  },
  {
   "cell_type": "code",
   "execution_count": null,
   "metadata": {},
   "outputs": [],
   "source": []
  }
 ],
 "metadata": {
  "kernelspec": {
   "display_name": ".venv",
   "language": "python",
   "name": "python3"
  },
  "language_info": {
   "codemirror_mode": {
    "name": "ipython",
    "version": 3
   },
   "file_extension": ".py",
   "mimetype": "text/x-python",
   "name": "python",
   "nbconvert_exporter": "python",
   "pygments_lexer": "ipython3",
   "version": "3.8.10"
  },
  "orig_nbformat": 4,
  "vscode": {
   "interpreter": {
    "hash": "6a07fcf0145f94b3f971c13d061528107de20ab7b779375f96dab9bbac6a85db"
   }
  }
 },
 "nbformat": 4,
 "nbformat_minor": 2
}
