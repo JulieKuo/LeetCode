{
 "cells": [
  {
   "cell_type": "markdown",
   "metadata": {},
   "source": [
    "## 717. 1-bit and 2-bit Characters"
   ]
  },
  {
   "cell_type": "code",
   "execution_count": null,
   "metadata": {},
   "outputs": [],
   "source": [
    "class Solution:\n",
    "    def isOneBitCharacter(self, bits: List[int]) -> bool:\n",
    "        i = 0\n",
    "        while i < len(bits) - 1:\n",
    "            print(i, len(bits))\n",
    "            if bits[i] == 1:\n",
    "                i += 2\n",
    "            elif bits[i] == 0:\n",
    "                i += 1\n",
    "        return i == len(bits) - 1"
   ]
  }
 ],
 "metadata": {
  "language_info": {
   "name": "python"
  },
  "orig_nbformat": 4
 },
 "nbformat": 4,
 "nbformat_minor": 2
}
