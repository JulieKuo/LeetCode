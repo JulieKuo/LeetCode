{
 "cells": [
  {
   "cell_type": "markdown",
   "metadata": {},
   "source": [
    "## 717. 1-bit and 2-bit Characters"
   ]
  },
  {
   "cell_type": "code",
   "execution_count": null,
   "metadata": {},
   "outputs": [],
   "source": [
    "class Solution:\n",
    "    def isOneBitCharacter(self, bits: List[int]) -> bool:\n",
    "        i = 0\n",
    "        while i < len(bits) - 1:\n",
    "            print(i, len(bits))\n",
    "            if bits[i] == 1:\n",
    "                i += 2\n",
    "            elif bits[i] == 0:\n",
    "                i += 1\n",
    "        return i == len(bits) - 1"
   ]
  }
 ],
 "metadata": {
  "interpreter": {
   "hash": "d8c1a87e4764ea7881547c536887df2e9c9ef9a1d8b44ae688e9c35499972fab"
  },
  "kernelspec": {
   "display_name": "Python 3.8.9 64-bit ('.venv': venv)",
   "language": "python",
   "name": "python3"
  },
  "language_info": {
   "codemirror_mode": {
    "name": "ipython",
    "version": 3
   },
   "file_extension": ".py",
   "mimetype": "text/x-python",
   "name": "python",
   "nbconvert_exporter": "python",
   "pygments_lexer": "ipython3",
   "version": "3.8.9"
  },
  "orig_nbformat": 4
 },
 "nbformat": 4,
 "nbformat_minor": 2
}
