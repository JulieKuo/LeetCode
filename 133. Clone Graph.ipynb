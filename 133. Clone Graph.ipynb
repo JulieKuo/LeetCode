{
 "cells": [
  {
   "attachments": {},
   "cell_type": "markdown",
   "metadata": {},
   "source": [
    "### 133. Clone Graph"
   ]
  },
  {
   "cell_type": "code",
   "execution_count": 1,
   "metadata": {},
   "outputs": [],
   "source": [
    "class Node:\n",
    "    def __init__(self, val = 0, neighbors = None):\n",
    "        self.val = val\n",
    "        self.neighbors = neighbors if neighbors is not None else []"
   ]
  },
  {
   "cell_type": "code",
   "execution_count": 2,
   "metadata": {},
   "outputs": [],
   "source": [
    "import collections\n",
    "class Solution:\n",
    "    def cloneGraph(self, node):\n",
    "        if not node:\n",
    "            return\n",
    "\n",
    "        queu = collections.deque([node])  # 建立一個雙向隊列，初始放入節點node\n",
    "        clone = {node.val: Node(node.val, [])}  # 建立一個字典，以節點值為鍵，對應的值為一個新的節點clone\n",
    "\n",
    "        while queu:  # 當隊列不為空時進行迴圈\n",
    "            print(f\"init: queu = {queu}\")\n",
    "            print(f\"init: clone = {clone}\")\n",
    "            cur = queu.popleft()  # 從隊列的左邊彈出一個節點，並將其賦值給cur\n",
    "            print(f\"cur = {cur}\")\n",
    "            print(f\"cur.val = {cur.val}\")\n",
    "            for neighbor in cur.neighbors:  # 對於當前節點cur的每個鄰居節點\n",
    "                if neighbor.val not in clone:  # 若neighbor節點的值不在clone字典中\n",
    "                    clone[neighbor.val] = Node(neighbor.val, [])  # 創建一個新的節點並添加到clone字典中\n",
    "                    queu.append(neighbor)  # 將neighbor節點添加到隊列中\n",
    "\n",
    "                clone[cur.val].neighbors.append(clone[neighbor.val])  # 在clone字典中對應的節點的neighbors中添加相應的節點\n",
    "                print(f\"-> node{cur.val} 的 neighbors 增加 node{neighbor.val}\")\n",
    "            \n",
    "            print(f\"new: queu = {queu}\")\n",
    "            print(f\"new: clone = {clone}\")\n",
    "            print(\"-\"*200)\n",
    "            \n",
    "        return clone[node.val]"
   ]
  },
  {
   "cell_type": "code",
   "execution_count": 3,
   "metadata": {},
   "outputs": [
    {
     "name": "stdout",
     "output_type": "stream",
     "text": [
      "init: queu = deque([<__main__.Node object at 0x0000026617331880>])\n",
      "init: clone = {1: <__main__.Node object at 0x00000266173069A0>}\n",
      "cur = <__main__.Node object at 0x0000026617331880>\n",
      "cur.val = 1\n",
      "-> node1 的 neighbors 增加 node2\n",
      "-> node1 的 neighbors 增加 node4\n",
      "new: queu = deque([<__main__.Node object at 0x0000026617331D30>, <__main__.Node object at 0x0000026617331FA0>])\n",
      "new: clone = {1: <__main__.Node object at 0x00000266173069A0>, 2: <__main__.Node object at 0x00000266173780A0>, 4: <__main__.Node object at 0x0000026617378100>}\n",
      "--------------------------------------------------------------------------------------------------------------------------------------------------------------------------------------------------------\n",
      "init: queu = deque([<__main__.Node object at 0x0000026617331D30>, <__main__.Node object at 0x0000026617331FA0>])\n",
      "init: clone = {1: <__main__.Node object at 0x00000266173069A0>, 2: <__main__.Node object at 0x00000266173780A0>, 4: <__main__.Node object at 0x0000026617378100>}\n",
      "cur = <__main__.Node object at 0x0000026617331D30>\n",
      "cur.val = 2\n",
      "-> node2 的 neighbors 增加 node1\n",
      "-> node2 的 neighbors 增加 node3\n",
      "new: queu = deque([<__main__.Node object at 0x0000026617331FA0>, <__main__.Node object at 0x0000026617331BE0>])\n",
      "new: clone = {1: <__main__.Node object at 0x00000266173069A0>, 2: <__main__.Node object at 0x00000266173780A0>, 4: <__main__.Node object at 0x0000026617378100>, 3: <__main__.Node object at 0x0000026617378160>}\n",
      "--------------------------------------------------------------------------------------------------------------------------------------------------------------------------------------------------------\n",
      "init: queu = deque([<__main__.Node object at 0x0000026617331FA0>, <__main__.Node object at 0x0000026617331BE0>])\n",
      "init: clone = {1: <__main__.Node object at 0x00000266173069A0>, 2: <__main__.Node object at 0x00000266173780A0>, 4: <__main__.Node object at 0x0000026617378100>, 3: <__main__.Node object at 0x0000026617378160>}\n",
      "cur = <__main__.Node object at 0x0000026617331FA0>\n",
      "cur.val = 4\n",
      "-> node4 的 neighbors 增加 node1\n",
      "-> node4 的 neighbors 增加 node3\n",
      "new: queu = deque([<__main__.Node object at 0x0000026617331BE0>])\n",
      "new: clone = {1: <__main__.Node object at 0x00000266173069A0>, 2: <__main__.Node object at 0x00000266173780A0>, 4: <__main__.Node object at 0x0000026617378100>, 3: <__main__.Node object at 0x0000026617378160>}\n",
      "--------------------------------------------------------------------------------------------------------------------------------------------------------------------------------------------------------\n",
      "init: queu = deque([<__main__.Node object at 0x0000026617331BE0>])\n",
      "init: clone = {1: <__main__.Node object at 0x00000266173069A0>, 2: <__main__.Node object at 0x00000266173780A0>, 4: <__main__.Node object at 0x0000026617378100>, 3: <__main__.Node object at 0x0000026617378160>}\n",
      "cur = <__main__.Node object at 0x0000026617331BE0>\n",
      "cur.val = 3\n",
      "-> node3 的 neighbors 增加 node2\n",
      "-> node3 的 neighbors 增加 node4\n",
      "new: queu = deque([])\n",
      "new: clone = {1: <__main__.Node object at 0x00000266173069A0>, 2: <__main__.Node object at 0x00000266173780A0>, 4: <__main__.Node object at 0x0000026617378100>, 3: <__main__.Node object at 0x0000026617378160>}\n",
      "--------------------------------------------------------------------------------------------------------------------------------------------------------------------------------------------------------\n"
     ]
    },
    {
     "data": {
      "text/plain": [
       "<__main__.Node at 0x266173069a0>"
      ]
     },
     "execution_count": 3,
     "metadata": {},
     "output_type": "execute_result"
    }
   ],
   "source": [
    "node = Node(1)\n",
    "node2 = Node(2)\n",
    "node3 = Node(3)\n",
    "node4 = Node(4)\n",
    "node.neighbors = [node2, node4]\n",
    "node2.neighbors = [node, node3]\n",
    "node3.neighbors = [node2, node4]\n",
    "node4.neighbors = [node, node3]\n",
    "Solution().cloneGraph(node)"
   ]
  }
 ],
 "metadata": {
  "kernelspec": {
   "display_name": ".venv",
   "language": "python",
   "name": "python3"
  },
  "language_info": {
   "codemirror_mode": {
    "name": "ipython",
    "version": 3
   },
   "file_extension": ".py",
   "mimetype": "text/x-python",
   "name": "python",
   "nbconvert_exporter": "python",
   "pygments_lexer": "ipython3",
   "version": "3.8.10"
  },
  "orig_nbformat": 4
 },
 "nbformat": 4,
 "nbformat_minor": 2
}
