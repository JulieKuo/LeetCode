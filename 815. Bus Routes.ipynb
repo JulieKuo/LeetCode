{
 "cells": [
  {
   "cell_type": "markdown",
   "metadata": {},
   "source": [
    "### 815. Bus Routes"
   ]
  },
  {
   "cell_type": "code",
   "execution_count": 1,
   "metadata": {},
   "outputs": [],
   "source": [
    "from collections import defaultdict, deque\n",
    "\n",
    "class Solution:\n",
    "    def numBusesToDestination(self, routes, source, target):\n",
    "        print(f\"routes = {routes}\")\n",
    "        print(f\"source = {source}, target = {target}\")\n",
    "\n",
    "        # 找出每個車站經過的公車\n",
    "        stations = defaultdict(set)\n",
    "        for bus, route in enumerate(routes):\n",
    "            for station in route:\n",
    "                stations[station].add(bus)\n",
    "        print(f\"stations = {stations}\")\n",
    "\n",
    "        visited_bus = set() # 已搭過的公車\n",
    "        queue = deque([(0, [source])]) # 每次轉車時所有可能經過的站\n",
    "        while queue:\n",
    "            print(f\"{'-'*200}\")\n",
    "            ans, current = queue.popleft() # 第幾次轉車、該次轉車會經過的站\n",
    "            print(f\"ans = {ans}, current = {current}\")\n",
    "            for station in current:\n",
    "                if station == target:\n",
    "                    print(f\"ans = {ans}\")\n",
    "                    return ans\n",
    "\n",
    "                print(f\"station = {station}, buses = {stations[station]}\")\n",
    "                for bus in stations[station]: # 該站裡會經過的公車\n",
    "                    if (bus not in visited_bus): # 如果該公車沒被經過和搭過\n",
    "                        visited_bus.add(bus) # 儲存該公車進已搭乘名單\n",
    "                        queue.append((ans + 1, routes[bus])) # 該公車之後會經過的站\n",
    "                        print(f\"bus = {bus}, queue = {queue}\")  \n",
    "                        print(f\"visited_bus = {visited_bus}\")      \n",
    "        \n",
    "        return -1\n",
    "        "
   ]
  },
  {
   "cell_type": "code",
   "execution_count": 2,
   "metadata": {},
   "outputs": [
    {
     "name": "stdout",
     "output_type": "stream",
     "text": [
      "routes = [[1, 2, 7], [3, 6, 7]]\n",
      "source = 1, target = 6\n",
      "stations = defaultdict(<class 'set'>, {1: {0}, 2: {0}, 7: {0, 1}, 3: {1}, 6: {1}})\n",
      "--------------------------------------------------------------------------------------------------------------------------------------------------------------------------------------------------------\n",
      "ans = 0, current = [1]\n",
      "station = 1, buses = {0}\n",
      "bus = 0, queue = deque([(1, [1, 2, 7])])\n",
      "visited_bus = {0}\n",
      "--------------------------------------------------------------------------------------------------------------------------------------------------------------------------------------------------------\n",
      "ans = 1, current = [1, 2, 7]\n",
      "station = 1, buses = {0}\n",
      "station = 2, buses = {0}\n",
      "station = 7, buses = {0, 1}\n",
      "bus = 1, queue = deque([(2, [3, 6, 7])])\n",
      "visited_bus = {0, 1}\n",
      "--------------------------------------------------------------------------------------------------------------------------------------------------------------------------------------------------------\n",
      "ans = 2, current = [3, 6, 7]\n",
      "station = 3, buses = {1}\n",
      "ans = 2\n"
     ]
    },
    {
     "data": {
      "text/plain": [
       "2"
      ]
     },
     "execution_count": 2,
     "metadata": {},
     "output_type": "execute_result"
    }
   ],
   "source": [
    "routes = [[1, 2, 7], [3, 6, 7]]\n",
    "source = 1\n",
    "target = 6\n",
    "\n",
    "# routes = [[1,2,7,12],[4,5,15],[4,6,19],[3,4],[15,18],[9,12,13,19]]\n",
    "# source = 15\n",
    "# target = 12\n",
    "Solution().numBusesToDestination(routes, source, target)"
   ]
  }
 ],
 "metadata": {
  "kernelspec": {
   "display_name": ".venv",
   "language": "python",
   "name": "python3"
  },
  "language_info": {
   "codemirror_mode": {
    "name": "ipython",
    "version": 3
   },
   "file_extension": ".py",
   "mimetype": "text/x-python",
   "name": "python",
   "nbconvert_exporter": "python",
   "pygments_lexer": "ipython3",
   "version": "3.8.10"
  },
  "orig_nbformat": 4
 },
 "nbformat": 4,
 "nbformat_minor": 2
}
