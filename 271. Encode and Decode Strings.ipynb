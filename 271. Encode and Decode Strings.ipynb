{
 "cells": [
  {
   "cell_type": "markdown",
   "metadata": {
    "vscode": {
     "languageId": "plaintext"
    }
   },
   "source": [
    "### 271. Encode and Decode Strings"
   ]
  },
  {
   "cell_type": "markdown",
   "metadata": {},
   "source": [
    "**時間複雜度: O( $m$ )**   \n",
    "**空間複雜度: O( $n + m$ )** "
   ]
  },
  {
   "cell_type": "markdown",
   "metadata": {},
   "source": [
    "$n$ 代表 strs 中的字串數量 <br>\n",
    "$m$ 代表 strs 中字串的總長度 <br>\n",
    "\n",
    "- encode\n",
    "  - space\n",
    "    - result 的 space 會是 $O(n + n + m) = O(2n + m) = O(n + m)$ <br>\n",
    "      (需要存「n個字的長度」 + 「n個字中間的 #」 + 「n個字的字母長度=m」)\n",
    "    - 總空間複雜度為 $O(n + m)$\n",
    "  - time\n",
    "    - 迴圈跑 n 次，time 是 $O(n)$\n",
    "    - result 是 string，是 immutable (不可變)，每次更新都要重新分配記憶體 <br>\n",
    "      -> 每次更新的 time 是 $O(len(result) + 1 + len(word))$，1 為加上 \"#\" 所需的 time，可寫為 $O(len(result) + len(word))$ <br>\n",
    "      -> 如果很多字，`len(word)` 的長度會遠小於 `len(result)`，可忽略 `len(word)` 的長度 <br>\n",
    "      -> 每次更新的 time 是 $O(len(result))$ <br>\n",
    "      -> `len(result)` 包含 (「n個字的長度」 + 「n個字中間的 #」 + 「n個字的字母長度=m」) <br>\n",
    "          其中一般情況「每個字的長度」和「每個字中間的 #」會比「每個字的字母長度」還小 <br>\n",
    "      -> result 處理到最後時，$O(len(result)) = O(2n + m) = O(n + m) ≈ O(m)$\n",
    "    - 總時間複雜度為 $O(m)$ <br>\n",
    "      雖然迴圈跑了 n 次，但每次進去執行的實際時間複雜度是在 result 上\n",
    "- decode\n",
    "  - space\n",
    "    - result 的 space 是 $O(n)$\n",
    "  - time\n",
    "    - 外層迴圈最多只會遍歷 n 次，time 是 $O(n)$\n",
    "    - 內層迴圈只會遍歷每個字的長度字符，$O(len(wordSize))$，很小，可忽略\n",
    "    - 第一個 `str[start:end]` 每次只讀取長度，很小，可忽略\n",
    "    - 第二個 `str[start:end]` 每次讀取整個字，time 是 $O(len(word))$ <br>\n",
    "      -> 但最差情況輸入只有一個字，此時的 time 是 $O(m)$\n",
    "    - 總時間複雜度為 $O(m)$ <br>\n",
    "      雖然迴圈跑了 n 次，但每次進去執行的實際時間複雜度是在 result 上"
   ]
  },
  {
   "cell_type": "code",
   "execution_count": 1,
   "metadata": {},
   "outputs": [],
   "source": [
    "from typing import List\n",
    "\n",
    "class Solution:\n",
    "    def encode(self, strs: List[str]) -> str:\n",
    "        # 處理空列表的情況\n",
    "        if not strs:\n",
    "            return \"\"\n",
    "\n",
    "        result = \"\" # space: O(n + m)\n",
    "\n",
    "        # 遍歷每個字串,將其長度和內容編碼\n",
    "        for word in strs: # time: O(n)\n",
    "            # 格式為: 字串長度 + \"#\" + 字串內容\n",
    "            result += str(len(word)) + \"#\" + word  # time: O(m)\n",
    "\n",
    "        return result\n",
    "    \n",
    "    def decode(self, str: str) -> List[str]:\n",
    "        # 處理空字串的情況\n",
    "        if not str:\n",
    "            return []\n",
    "\n",
    "        result = [] # space: O(n)\n",
    "        start = 0\n",
    "\n",
    "        # 持續解碼直到處理完整個字串\n",
    "        while start < len(str): # time: O(n)\n",
    "            end = start\n",
    "\n",
    "            # 找到分隔符號\"#\"的位置\n",
    "            while str[end] != \"#\":\n",
    "                end += 1\n",
    "\n",
    "            # 讀取字串長度\n",
    "            word_size = int(str[start:end])\n",
    "\n",
    "            start = end + 1 # 跳過\"#\"\n",
    "            end = start + word_size # 計算字串結束位置\n",
    "\n",
    "            # 根據長度取出字串並加入結果\n",
    "            result.append(str[start:end]) # time: O(m)\n",
    "\n",
    "            start = end\n",
    "            \n",
    "        return result           "
   ]
  },
  {
   "cell_type": "code",
   "execution_count": 2,
   "metadata": {},
   "outputs": [
    {
     "data": {
      "text/plain": [
       "'4#neet4#code4#love3#you'"
      ]
     },
     "execution_count": 2,
     "metadata": {},
     "output_type": "execute_result"
    }
   ],
   "source": [
    "strs = [\"neet\",\"code\",\"love\",\"you\"]\n",
    "\n",
    "Solution().encode(strs)"
   ]
  },
  {
   "cell_type": "code",
   "execution_count": 3,
   "metadata": {},
   "outputs": [
    {
     "data": {
      "text/plain": [
       "['neet', 'code', 'love', 'you']"
      ]
     },
     "execution_count": 3,
     "metadata": {},
     "output_type": "execute_result"
    }
   ],
   "source": [
    "Solution().decode(Solution().encode(strs))"
   ]
  },
  {
   "cell_type": "markdown",
   "metadata": {},
   "source": [
    "**時間複雜度: O( $m$ )**   \n",
    "**空間複雜度: O( $n + m$ )** "
   ]
  },
  {
   "cell_type": "code",
   "execution_count": 4,
   "metadata": {},
   "outputs": [],
   "source": [
    "from typing import List\n",
    "\n",
    "class Solution:\n",
    "    def encode(self, strs: List[str]) -> str:\n",
    "        # 處理空列表的情況\n",
    "        if not strs:\n",
    "            return \"\"\n",
    "\n",
    "        # 初始化儲存每個字串長度的列表和結果字串\n",
    "        sizes, result = [], \"\"\n",
    "        \n",
    "        # 取得每個字串的長度\n",
    "        for word in strs:\n",
    "            sizes.append(len(word))\n",
    "        \n",
    "        # 將每個字串長度加入結果,並用逗號分隔\n",
    "        for word_size in sizes:\n",
    "            result += str(word_size)\n",
    "            result += ','\n",
    "\n",
    "        # 加入\"#\"作為分隔「字串長度」和「字串」的符號    \n",
    "        result += '#'\n",
    "        \n",
    "        # 將所有字串串接在一起\n",
    "        for word in strs:\n",
    "            result += word\n",
    "        \n",
    "        return result\n",
    "\n",
    "    def decode(self, s: str) -> List[str]:\n",
    "        # 處理空字串的情況\n",
    "        if not s:\n",
    "            return []\n",
    "\n",
    "        # 初始化儲存字串長度的列表、結果列表和索引\n",
    "        sizes, result, i = [], [], 0\n",
    "        \n",
    "        # 讀取每個字串的長度直到遇到\"#\"，代表字串長度讀取結束\n",
    "        while s[i] != '#':\n",
    "            word_size = \"\"\n",
    "            while s[i] != ',': # 遇到逗號代表當前字串長度結束，開始讀取下一個字串長度\n",
    "                word_size += s[i]\n",
    "                i += 1\n",
    "\n",
    "            sizes.append(int(word_size))\n",
    "            i += 1 # 跳過逗號\n",
    " \n",
    "        i += 1 # 跳過\"#\"\n",
    "\n",
    "        # 根據之前讀取的長度切割字串\n",
    "        for word_size in sizes:\n",
    "            result.append(s[i : (i + word_size)])\n",
    "            i += word_size\n",
    "            \n",
    "        return result"
   ]
  },
  {
   "cell_type": "code",
   "execution_count": 5,
   "metadata": {},
   "outputs": [
    {
     "data": {
      "text/plain": [
       "'4,4,4,3,#neetcodeloveyou'"
      ]
     },
     "execution_count": 5,
     "metadata": {},
     "output_type": "execute_result"
    }
   ],
   "source": [
    "strs = [\"neet\",\"code\",\"love\",\"you\"]\n",
    "\n",
    "Solution().encode(strs)"
   ]
  },
  {
   "cell_type": "code",
   "execution_count": 6,
   "metadata": {},
   "outputs": [
    {
     "data": {
      "text/plain": [
       "['neet', 'code', 'love', 'you']"
      ]
     },
     "execution_count": 6,
     "metadata": {},
     "output_type": "execute_result"
    }
   ],
   "source": [
    "Solution().decode(Solution().encode(strs))"
   ]
  }
 ],
 "metadata": {
  "kernelspec": {
   "display_name": ".venv",
   "language": "python",
   "name": "python3"
  },
  "language_info": {
   "codemirror_mode": {
    "name": "ipython",
    "version": 3
   },
   "file_extension": ".py",
   "mimetype": "text/x-python",
   "name": "python",
   "nbconvert_exporter": "python",
   "pygments_lexer": "ipython3",
   "version": "3.11.11"
  }
 },
 "nbformat": 4,
 "nbformat_minor": 2
}
