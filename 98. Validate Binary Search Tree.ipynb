{
 "cells": [
  {
   "cell_type": "markdown",
   "metadata": {},
   "source": [
    "### 98. Validate Binary Search Tree"
   ]
  },
  {
   "cell_type": "code",
   "execution_count": 1,
   "metadata": {},
   "outputs": [],
   "source": [
    "# Definition for a binary tree node.\n",
    "class TreeNode:\n",
    "    def __init__(self, val=0, left=None, right=None):\n",
    "        self.val = val\n",
    "        self.left = left\n",
    "        self.right = right"
   ]
  },
  {
   "cell_type": "code",
   "execution_count": 2,
   "metadata": {},
   "outputs": [],
   "source": [
    "root = TreeNode(\n",
    "    val = 5,\n",
    "    left = TreeNode(\n",
    "        val = 1,\n",
    "        left = None,\n",
    "        right = None,\n",
    "    ),\n",
    "    right = TreeNode(\n",
    "        val = 4,\n",
    "        left = TreeNode(\n",
    "            val = 3,\n",
    "            left = None,\n",
    "            right = None\n",
    "        ),\n",
    "        right = TreeNode(\n",
    "            val = 6,\n",
    "            left = None,\n",
    "            right = None\n",
    "        )\n",
    "    )\n",
    ")\n",
    "\n",
    "# Input: root = [5,1,4,null,null,3,6]\n",
    "# Output: false"
   ]
  },
  {
   "cell_type": "code",
   "execution_count": 3,
   "metadata": {},
   "outputs": [],
   "source": [
    "root = TreeNode(\n",
    "    val = 2,\n",
    "    left = TreeNode(\n",
    "        val = 1,\n",
    "        left = None,\n",
    "        right = None,\n",
    "    ),\n",
    "    right = TreeNode(\n",
    "        val = 4,\n",
    "        left = TreeNode(\n",
    "            val = 3,\n",
    "            left = None,\n",
    "            right = None\n",
    "        ),\n",
    "        right = TreeNode(\n",
    "            val = 6,\n",
    "            left = None,\n",
    "            right = None\n",
    "        )\n",
    "    )\n",
    ")\n",
    "\n",
    "# Output: True"
   ]
  },
  {
   "cell_type": "code",
   "execution_count": 4,
   "metadata": {},
   "outputs": [],
   "source": [
    "class Solution:\n",
    "    def isValidBST(self, root):        \n",
    "        inf = float('inf') # 初始化上、下限為正、負無限大\n",
    "\n",
    "        # 調用inorder函數 (左子樹節點-小, 當前節點-中, 右子樹節點-大)\n",
    "        return self.inorder(node = root, lower = -inf, upper = inf)\n",
    "\n",
    "    \n",
    "    # 如果當前節點值不在(lower, upper)的區間內，則返回False，表示違反BST規則\n",
    "    def inorder(self, node, lower, upper):\n",
    "        print(\"-\" * 200)\n",
    "        if not node: # 如果節點是空的或樹是空的，則它是BST\n",
    "            return True        \n",
    "        \n",
    "        print(f\"lower = {lower}, node = {node.val}, upper = {upper}\")\n",
    "        \n",
    "        # 當前節點值位於(lower, upper)的區間內\n",
    "        flag1 = (lower < node.val < upper)\n",
    "        print(f\"{node.val} - current - {flag1}\")\n",
    "        if not flag1:\n",
    "            return False\n",
    "\n",
    "        # 左子樹是BST\n",
    "        print(f\"{node.val} - left\")\n",
    "        flag2 = self.inorder(node.left, lower, node.val)\n",
    "        print(f\"{node.val} - left - {flag2}\")\n",
    "        if not flag2:\n",
    "            return False\n",
    "\n",
    "        # 右子樹是BST\n",
    "        print(f\"{node.val} - right\")\n",
    "        flag3 = self.inorder(node.right, node.val, upper)\n",
    "        print(f\"{node.val} - right - {flag3}\")        \n",
    "        if not flag3:\n",
    "            return False    \n",
    "\n",
    "        # 檢查是否所有樹節點都符合BST規則\n",
    "        return flag1 and flag2 and flag3"
   ]
  },
  {
   "cell_type": "code",
   "execution_count": 5,
   "metadata": {},
   "outputs": [
    {
     "name": "stdout",
     "output_type": "stream",
     "text": [
      "--------------------------------------------------------------------------------------------------------------------------------------------------------------------------------------------------------\n",
      "lower = -inf, node = 2, upper = inf\n",
      "2 - current - True\n",
      "2 - left\n",
      "--------------------------------------------------------------------------------------------------------------------------------------------------------------------------------------------------------\n",
      "lower = -inf, node = 1, upper = 2\n",
      "1 - current - True\n",
      "1 - left\n",
      "--------------------------------------------------------------------------------------------------------------------------------------------------------------------------------------------------------\n",
      "1 - left - True\n",
      "1 - right\n",
      "--------------------------------------------------------------------------------------------------------------------------------------------------------------------------------------------------------\n",
      "1 - right - True\n",
      "2 - left - True\n",
      "2 - right\n",
      "--------------------------------------------------------------------------------------------------------------------------------------------------------------------------------------------------------\n",
      "lower = 2, node = 4, upper = inf\n",
      "4 - current - True\n",
      "4 - left\n",
      "--------------------------------------------------------------------------------------------------------------------------------------------------------------------------------------------------------\n",
      "lower = 2, node = 3, upper = 4\n",
      "3 - current - True\n",
      "3 - left\n",
      "--------------------------------------------------------------------------------------------------------------------------------------------------------------------------------------------------------\n",
      "3 - left - True\n",
      "3 - right\n",
      "--------------------------------------------------------------------------------------------------------------------------------------------------------------------------------------------------------\n",
      "3 - right - True\n",
      "4 - left - True\n",
      "4 - right\n",
      "--------------------------------------------------------------------------------------------------------------------------------------------------------------------------------------------------------\n",
      "lower = 4, node = 6, upper = inf\n",
      "6 - current - True\n",
      "6 - left\n",
      "--------------------------------------------------------------------------------------------------------------------------------------------------------------------------------------------------------\n",
      "6 - left - True\n",
      "6 - right\n",
      "--------------------------------------------------------------------------------------------------------------------------------------------------------------------------------------------------------\n",
      "6 - right - True\n",
      "4 - right - True\n",
      "2 - right - True\n"
     ]
    },
    {
     "data": {
      "text/plain": [
       "True"
      ]
     },
     "execution_count": 5,
     "metadata": {},
     "output_type": "execute_result"
    }
   ],
   "source": [
    "Solution().isValidBST(root)"
   ]
  }
 ],
 "metadata": {
  "kernelspec": {
   "display_name": ".venv",
   "language": "python",
   "name": "python3"
  },
  "language_info": {
   "codemirror_mode": {
    "name": "ipython",
    "version": 3
   },
   "file_extension": ".py",
   "mimetype": "text/x-python",
   "name": "python",
   "nbconvert_exporter": "python",
   "pygments_lexer": "ipython3",
   "version": "3.8.10"
  }
 },
 "nbformat": 4,
 "nbformat_minor": 2
}
