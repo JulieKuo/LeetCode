{
 "cells": [
  {
   "cell_type": "markdown",
   "metadata": {},
   "source": [
    "### 994. Rotting Oranges"
   ]
  },
  {
   "cell_type": "markdown",
   "metadata": {},
   "source": [
    "**時間複雜度: $O( m \\times n )$**  \n",
    "**空間複雜度: $O( m \\times n )$**\n",
    "\n",
    "- 變數解釋:\n",
    "  - `m`: 網格的行數\n",
    "  - `n`: 網格的列數"
   ]
  },
  {
   "cell_type": "markdown",
   "metadata": {},
   "source": [
    "- bfs優點\n",
    "  - 最短時間\n",
    "    - dfs可以使所有橘子腐爛，但可能會走較長路徑\n",
    "  - 時間準確性\n",
    "    -  bfs會按照「層」的概念同時處理所有腐爛橘子\n",
    "    -  dfs會一直往深處走，無法反映同時腐爛的特性\n",
    "  - bfs可模擬「同心圓」擴散的特性\n",
    "  - 平行處理\n",
    "    -  bfs可以同時處理所有腐爛橘子\n",
    "    -  dfs只能一個一個處理腐爛橘子"
   ]
  },
  {
   "cell_type": "code",
   "execution_count": 3,
   "metadata": {},
   "outputs": [],
   "source": [
    "from typing import List\n",
    "\n",
    "from collections import deque\n",
    "\n",
    "class Solution:\n",
    "    def orangesRotting(self, grid: List[List[int]]) -> int:\n",
    "        # 獲取網格的行數和列數\n",
    "        rows = len(grid) # space: O(m)\n",
    "        cols = len(grid[0]) # space: O(n)\n",
    "        print(f\"{rows=}, {cols=}\")\n",
    "\n",
    "        fresh_count = 0 # 記錄新鮮橘子的數量\n",
    "        queue = deque() # 存放腐爛橘子的座標 # space: O(m * n)\n",
    "\n",
    "        # 遍歷網格，找到腐爛橘子和新鮮橘子的初始狀態\n",
    "        for row in range(rows):\n",
    "            for col in range(cols):\n",
    "                if grid[row][col] == 2: # 如果是腐爛橘子，加入隊列\n",
    "                    queue.append([row, col])\n",
    "                elif grid[row][col] == 1: # 如果是新鮮橘子，計數\n",
    "                    fresh_count += 1\n",
    "        print(f\"{fresh_count=}, {queue=}\")\n",
    "\n",
    "        # 如果沒有新鮮橘子，直接返回0\n",
    "        if fresh_count == 0:\n",
    "            return 0\n",
    "\n",
    "        minutes = 0 # 記錄腐爛的時間\n",
    "        directions = [(-1, 0), (1, 0), (0, -1), (0, 1)] # 上下左右四個方向\n",
    "\n",
    "        # 如果腐爛橘子還有，且新鮮橘子還有，則進入腐爛過程\n",
    "        while queue and (fresh_count != 0): # time: O(m * n)，最多變歷所有網格1次\n",
    "            print(\"_\" * 100)\n",
    "            print(f\"{len(queue)=}\")\n",
    "            \n",
    "            # 每次處理隊列中所有腐爛橘子\n",
    "            for _ in range(len(queue)): \n",
    "                row, col = queue.popleft() # 取出腐爛橘子的座標\n",
    "                print(\"-\" * 100)\n",
    "                print(f\"{row=}, {col=}\")\n",
    "\n",
    "                # 遍歷腐爛橘子的四個方向\n",
    "                for row_delta, col_delta in directions:\n",
    "                    # 計算與腐爛橘子相鄰的四個座標\n",
    "                    row_new = row + row_delta\n",
    "                    col_new = col + col_delta\n",
    "                    print(f\"{row_new=}, {col_new=}\")\n",
    "\n",
    "                    # 如果相鄰座標在網格內且是新鮮橘子，則腐爛並計數\n",
    "                    if (0 <= row_new < rows) and (0 <= col_new < cols) and (grid[row_new][col_new] == 1):\n",
    "                        grid[row_new][col_new] = 2\n",
    "                        fresh_count -= 1\n",
    "                        queue.append([row_new, col_new])\n",
    "                        print(f\"grid[{row_new}][{col_new}] == 1 -> {grid[row_new][col_new]}\")\n",
    "                        print(f\"{grid=}\")\n",
    "                        print(f\"{fresh_count=}, {queue=}\")\n",
    "\n",
    "            minutes += 1 # 腐爛時間加1\n",
    "            print(f\"{minutes=}\")\n",
    "\n",
    "        return minutes if fresh_count == 0 else -1"
   ]
  },
  {
   "cell_type": "code",
   "execution_count": 4,
   "metadata": {},
   "outputs": [
    {
     "name": "stdout",
     "output_type": "stream",
     "text": [
      "rows=3, cols=3\n",
      "fresh_count=6, queue=deque([[0, 0]])\n",
      "____________________________________________________________________________________________________\n",
      "len(queue)=1\n",
      "----------------------------------------------------------------------------------------------------\n",
      "row=0, col=0\n",
      "row_new=-1, col_new=0\n",
      "row_new=1, col_new=0\n",
      "grid[1][0] == 1 -> 2\n",
      "grid=[[2, 1, 1], [2, 1, 0], [0, 1, 1]]\n",
      "fresh_count=5, queue=deque([[1, 0]])\n",
      "row_new=0, col_new=-1\n",
      "row_new=0, col_new=1\n",
      "grid[0][1] == 1 -> 2\n",
      "grid=[[2, 2, 1], [2, 1, 0], [0, 1, 1]]\n",
      "fresh_count=4, queue=deque([[1, 0], [0, 1]])\n",
      "minutes=1\n",
      "____________________________________________________________________________________________________\n",
      "len(queue)=2\n",
      "----------------------------------------------------------------------------------------------------\n",
      "row=1, col=0\n",
      "row_new=0, col_new=0\n",
      "row_new=2, col_new=0\n",
      "row_new=1, col_new=-1\n",
      "row_new=1, col_new=1\n",
      "grid[1][1] == 1 -> 2\n",
      "grid=[[2, 2, 1], [2, 2, 0], [0, 1, 1]]\n",
      "fresh_count=3, queue=deque([[0, 1], [1, 1]])\n",
      "----------------------------------------------------------------------------------------------------\n",
      "row=0, col=1\n",
      "row_new=-1, col_new=1\n",
      "row_new=1, col_new=1\n",
      "row_new=0, col_new=0\n",
      "row_new=0, col_new=2\n",
      "grid[0][2] == 1 -> 2\n",
      "grid=[[2, 2, 2], [2, 2, 0], [0, 1, 1]]\n",
      "fresh_count=2, queue=deque([[1, 1], [0, 2]])\n",
      "minutes=2\n",
      "____________________________________________________________________________________________________\n",
      "len(queue)=2\n",
      "----------------------------------------------------------------------------------------------------\n",
      "row=1, col=1\n",
      "row_new=0, col_new=1\n",
      "row_new=2, col_new=1\n",
      "grid[2][1] == 1 -> 2\n",
      "grid=[[2, 2, 2], [2, 2, 0], [0, 2, 1]]\n",
      "fresh_count=1, queue=deque([[0, 2], [2, 1]])\n",
      "row_new=1, col_new=0\n",
      "row_new=1, col_new=2\n",
      "----------------------------------------------------------------------------------------------------\n",
      "row=0, col=2\n",
      "row_new=-1, col_new=2\n",
      "row_new=1, col_new=2\n",
      "row_new=0, col_new=1\n",
      "row_new=0, col_new=3\n",
      "minutes=3\n",
      "____________________________________________________________________________________________________\n",
      "len(queue)=1\n",
      "----------------------------------------------------------------------------------------------------\n",
      "row=2, col=1\n",
      "row_new=1, col_new=1\n",
      "row_new=3, col_new=1\n",
      "row_new=2, col_new=0\n",
      "row_new=2, col_new=2\n",
      "grid[2][2] == 1 -> 2\n",
      "grid=[[2, 2, 2], [2, 2, 0], [0, 2, 2]]\n",
      "fresh_count=0, queue=deque([[2, 2]])\n",
      "minutes=4\n"
     ]
    },
    {
     "data": {
      "text/plain": [
       "4"
      ]
     },
     "execution_count": 4,
     "metadata": {},
     "output_type": "execute_result"
    }
   ],
   "source": [
    "grid = [[2,1,1],[1,1,0],[0,1,1]]\n",
    "Solution().orangesRotting(grid)"
   ]
  },
  {
   "cell_type": "code",
   "execution_count": null,
   "metadata": {},
   "outputs": [],
   "source": []
  }
 ],
 "metadata": {
  "kernelspec": {
   "display_name": ".venv",
   "language": "python",
   "name": "python3"
  },
  "language_info": {
   "codemirror_mode": {
    "name": "ipython",
    "version": 3
   },
   "file_extension": ".py",
   "mimetype": "text/x-python",
   "name": "python",
   "nbconvert_exporter": "python",
   "pygments_lexer": "ipython3",
   "version": "3.11.11"
  }
 },
 "nbformat": 4,
 "nbformat_minor": 2
}
