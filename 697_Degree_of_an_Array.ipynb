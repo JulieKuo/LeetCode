{
 "cells": [
  {
   "cell_type": "markdown",
   "metadata": {},
   "source": [
    "## 697. Degree of an Array"
   ]
  },
  {
   "cell_type": "markdown",
   "metadata": {},
   "source": [
    "<img src=\"img/697.jpg\" style=\"zoom:50%\"/>"
   ]
  },
  {
   "cell_type": "code",
   "execution_count": null,
   "metadata": {},
   "outputs": [],
   "source": [
    "class Solution:\n",
    "    def findShortestSubArray(self, nums: List[int]) -> int:\n",
    "        count = dict()\n",
    "        start = dict()\n",
    "        end = dict()\n",
    "        length = dict()\n",
    "        max_count = 0\n",
    "        for i, num in enumerate(nums):\n",
    "            if num not in count:\n",
    "                count[num] = 1\n",
    "                start[num] = i\n",
    "                end[num] = i\n",
    "            else:\n",
    "                count[num] += 1\n",
    "                end[num] = i\n",
    "            max_count = max(max_count, count[num])\n",
    "            length[num] = end[num] - start[num] + 1\n",
    "        \n",
    "        output = len(nums)\n",
    "        for num in count:\n",
    "            if (count[num] == max_count):\n",
    "                output = min(output, length[num])\n",
    "                \n",
    "        return output"
   ]
  }
 ],
 "metadata": {
  "interpreter": {
   "hash": "ac5c71763ce4af7d6dc057106aa53cb2371e41115cfc9dc46f264378d07e5f1a"
  },
  "kernelspec": {
   "display_name": "Python 3.8.9 ('.venv': venv)",
   "language": "python",
   "name": "python3"
  },
  "language_info": {
   "codemirror_mode": {
    "name": "ipython",
    "version": 3
   },
   "file_extension": ".py",
   "mimetype": "text/x-python",
   "name": "python",
   "nbconvert_exporter": "python",
   "pygments_lexer": "ipython3",
   "version": "3.8.9"
  },
  "orig_nbformat": 4
 },
 "nbformat": 4,
 "nbformat_minor": 2
}
