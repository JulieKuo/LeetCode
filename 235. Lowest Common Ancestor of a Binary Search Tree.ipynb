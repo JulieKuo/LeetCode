{
 "cells": [
  {
   "cell_type": "markdown",
   "metadata": {},
   "source": [
    "### 235. Lowest Common Ancestor of a Binary Search Tree"
   ]
  },
  {
   "cell_type": "code",
   "execution_count": 1,
   "metadata": {},
   "outputs": [],
   "source": [
    "# Definition for a binary tree node.\n",
    "class TreeNode:\n",
    "    def __init__(self, val=0, left=None, right=None):\n",
    "        self.val = val\n",
    "        self.left = left\n",
    "        self.right = right"
   ]
  },
  {
   "cell_type": "code",
   "execution_count": 2,
   "metadata": {},
   "outputs": [],
   "source": [
    "root = TreeNode(\n",
    "    val = 6,\n",
    "    left = TreeNode(\n",
    "        val = 2,\n",
    "        left = TreeNode(\n",
    "            val = 0,\n",
    "            left = None,\n",
    "            right = None\n",
    "        ),\n",
    "        right = TreeNode(\n",
    "            val = 4,\n",
    "            left = TreeNode(\n",
    "                val = 3,\n",
    "                left = None,\n",
    "                right = None\n",
    "            ),\n",
    "            right = TreeNode(\n",
    "                val = 5,\n",
    "                left = None,\n",
    "                right = None\n",
    "            )\n",
    "        )\n",
    "    ),\n",
    "    right = TreeNode(\n",
    "        val = 8,\n",
    "        left = TreeNode(\n",
    "            val = 7,\n",
    "            left = None,\n",
    "            right = None\n",
    "        ),\n",
    "        right = TreeNode(\n",
    "            val = 9,\n",
    "            left = None,\n",
    "            right = None\n",
    "        )\n",
    "    )\n",
    ")\n",
    "\n",
    "p = root.left\n",
    "q = root.right\n",
    "# Input: root = [6,2,8,0,4,7,9,null,null,3,5], p = 2, q = 8\n",
    "# Output: 6\n",
    "# Explanation: The LCA of nodes 2 and 8 is 6.\n",
    "\n",
    "\n",
    "p = root.left.right\n",
    "q = root.left.right.right\n",
    "# Input: root = [6,2,8,0,4,7,9,null,null,3,5], p = 4, q = 5\n",
    "# Output: 4"
   ]
  },
  {
   "cell_type": "code",
   "execution_count": 3,
   "metadata": {},
   "outputs": [],
   "source": [
    "class Solution:\n",
    "    def lowestCommonAncestor(self, root, p, q):\n",
    "        while True:\n",
    "            print(f\"root = {root.val}, p = {p.val}, q = {q.val}\")\n",
    "            if (root.val > p.val) and (root.val > q.val):  # 如果根節點的值大於p和q的值\n",
    "                root = root.left  # 向左子樹移動\n",
    "\n",
    "            elif (root.val < p.val) and (root.val < q.val):  # 如果根節點的值小於p和q的值\n",
    "                root = root.right  # 向右子樹移動\n",
    "\n",
    "            else:  # 如果根節點的值在p和q之間，或者等於其中一個的值\n",
    "                return root  # 返回根節點作為最低共同祖先\n"
   ]
  },
  {
   "cell_type": "code",
   "execution_count": 4,
   "metadata": {},
   "outputs": [
    {
     "name": "stdout",
     "output_type": "stream",
     "text": [
      "root = 6, p = 4, q = 5\n",
      "root = 2, p = 4, q = 5\n",
      "root = 4, p = 4, q = 5\n"
     ]
    },
    {
     "data": {
      "text/plain": [
       "<__main__.TreeNode at 0x20a480c7ac0>"
      ]
     },
     "execution_count": 4,
     "metadata": {},
     "output_type": "execute_result"
    }
   ],
   "source": [
    "Solution().lowestCommonAncestor(root, p, q)"
   ]
  }
 ],
 "metadata": {
  "kernelspec": {
   "display_name": ".venv",
   "language": "python",
   "name": "python3"
  },
  "language_info": {
   "codemirror_mode": {
    "name": "ipython",
    "version": 3
   },
   "file_extension": ".py",
   "mimetype": "text/x-python",
   "name": "python",
   "nbconvert_exporter": "python",
   "pygments_lexer": "ipython3",
   "version": "3.8.10"
  }
 },
 "nbformat": 4,
 "nbformat_minor": 2
}
