{
 "cells": [
  {
   "cell_type": "markdown",
   "metadata": {},
   "source": [
    "### 235. Lowest Common Ancestor of a Binary Search Tree"
   ]
  },
  {
   "cell_type": "code",
   "execution_count": 1,
   "metadata": {},
   "outputs": [],
   "source": [
    "# Definition for a binary tree node.\n",
    "class TreeNode:\n",
    "    def __init__(self, val=0, left=None, right=None):\n",
    "        self.val = val\n",
    "        self.left = left\n",
    "        self.right = right"
   ]
  },
  {
   "cell_type": "code",
   "execution_count": 2,
   "metadata": {},
   "outputs": [],
   "source": [
    "root = TreeNode(\n",
    "    val = 6,\n",
    "    left = TreeNode(\n",
    "        val = 2,\n",
    "        left = TreeNode(\n",
    "            val = 0,\n",
    "            left = None,\n",
    "            right = None\n",
    "        ),\n",
    "        right = TreeNode(\n",
    "            val = 4,\n",
    "            left = TreeNode(\n",
    "                val = 3,\n",
    "                left = None,\n",
    "                right = None\n",
    "            ),\n",
    "            right = TreeNode(\n",
    "                val = 5,\n",
    "                left = None,\n",
    "                right = None\n",
    "            )\n",
    "        )\n",
    "    ),\n",
    "    right = TreeNode(\n",
    "        val = 8,\n",
    "        left = TreeNode(\n",
    "            val = 7,\n",
    "            left = None,\n",
    "            right = None\n",
    "        ),\n",
    "        right = TreeNode(\n",
    "            val = 9,\n",
    "            left = None,\n",
    "            right = None\n",
    "        )\n",
    "    )\n",
    ")\n",
    "\n",
    "p = root.left\n",
    "q = root.right\n",
    "# Input: root = [6,2,8,0,4,7,9,null,null,3,5], p = 2, q = 8\n",
    "# Output: 6\n",
    "# Explanation: The LCA of nodes 2 and 8 is 6.\n",
    "\n",
    "\n",
    "p = root.left.right\n",
    "q = root.left.right.right\n",
    "# Input: root = [6,2,8,0,4,7,9,null,null,3,5], p = 4, q = 5\n",
    "# Output: 4"
   ]
  },
  {
   "cell_type": "markdown",
   "metadata": {},
   "source": [
    "### Recursion"
   ]
  },
  {
   "cell_type": "markdown",
   "metadata": {},
   "source": [
    "**時間複雜度: $O(h)$**  \n",
    "**空間複雜度: $O(h)$**\n",
    "\n",
    "$ h $: root 的高度  \n",
    "最佳的情況為平衡樹: $h$ 是 $ O(log n) $  \n",
    "最差的情況為退化成鏈狀: $h$ 是 $ O(n) $"
   ]
  },
  {
   "cell_type": "code",
   "execution_count": 3,
   "metadata": {},
   "outputs": [],
   "source": [
    "class Solution:\n",
    "    def lowestCommonAncestor(self, root: 'TreeNode', p: 'TreeNode', q: 'TreeNode') -> 'TreeNode':\n",
    "        # 如果根節點或 p 或 q 為空，則無法找到共同祖先，回傳 None\n",
    "        if not root or not p or not q:\n",
    "            return None\n",
    "\n",
    "        # 如果 p 和 q 的值都比根節點小，代表它們都在左子樹\n",
    "        if p.val < root.val and q.val < root.val:\n",
    "            return self.lowestCommonAncestor(root.left, p, q)  # 遞迴往左子樹搜尋\n",
    "\n",
    "        # 如果 p 和 q 的值都比根節點大，代表它們都在右子樹\n",
    "        elif p.val > root.val and q.val > root.val:\n",
    "            return self.lowestCommonAncestor(root.right, p, q)  # 遞迴往右子樹搜尋\n",
    "\n",
    "        # 否則，表示此節點正好是兩個節點的分岔點，即為最近共同祖先\n",
    "        else:\n",
    "            return root"
   ]
  },
  {
   "cell_type": "code",
   "execution_count": 4,
   "metadata": {},
   "outputs": [
    {
     "data": {
      "text/plain": [
       "4"
      ]
     },
     "execution_count": 4,
     "metadata": {},
     "output_type": "execute_result"
    }
   ],
   "source": [
    "result = Solution().lowestCommonAncestor(root, p, q)\n",
    "result.val"
   ]
  },
  {
   "cell_type": "markdown",
   "metadata": {},
   "source": [
    "### Iteration"
   ]
  },
  {
   "cell_type": "markdown",
   "metadata": {},
   "source": [
    "**時間複雜度: $O(h)$**  \n",
    "**空間複雜度: $O(1)$**\n",
    "\n",
    "$ h $: root 的高度  \n",
    "最佳的情況為平衡樹: $h$ 是 $ O(log n) $  \n",
    "最差的情況為退化成鏈狀: $h$ 是 $ O(n) $"
   ]
  },
  {
   "cell_type": "code",
   "execution_count": 5,
   "metadata": {},
   "outputs": [],
   "source": [
    "class Solution:\n",
    "    def lowestCommonAncestor(self, root: 'TreeNode', p: 'TreeNode', q: 'TreeNode') -> 'TreeNode':\n",
    "        # 當前節點不為空時持續迴圈\n",
    "        while root:\n",
    "            # 如果 p 和 q 的值都小於當前節點，代表兩個節點都在左子樹\n",
    "            if p.val < root.val and q.val < root.val:\n",
    "                root = root.left  # 繼續往左子樹搜尋\n",
    "            # 如果 p 和 q 的值都大於當前節點，代表兩個節點都在右子樹\n",
    "            elif p.val > root.val and q.val > root.val:\n",
    "                root = root.right  # 繼續往右子樹搜尋\n",
    "            # 否則，表示此節點正好是兩個節點的分岔點，即為最近共同祖先\n",
    "            else:\n",
    "                return root"
   ]
  },
  {
   "cell_type": "code",
   "execution_count": 6,
   "metadata": {},
   "outputs": [
    {
     "data": {
      "text/plain": [
       "4"
      ]
     },
     "execution_count": 6,
     "metadata": {},
     "output_type": "execute_result"
    }
   ],
   "source": [
    "result = Solution().lowestCommonAncestor(root, p, q)\n",
    "result.val"
   ]
  }
 ],
 "metadata": {
  "kernelspec": {
   "display_name": ".venv (3.12.8)",
   "language": "python",
   "name": "python3"
  },
  "language_info": {
   "codemirror_mode": {
    "name": "ipython",
    "version": 3
   },
   "file_extension": ".py",
   "mimetype": "text/x-python",
   "name": "python",
   "nbconvert_exporter": "python",
   "pygments_lexer": "ipython3",
   "version": "3.12.8"
  }
 },
 "nbformat": 4,
 "nbformat_minor": 2
}
