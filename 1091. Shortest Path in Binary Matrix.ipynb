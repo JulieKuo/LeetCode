{
 "cells": [
  {
   "cell_type": "markdown",
   "metadata": {},
   "source": [
    "### 1091. Shortest Path in Binary Matrix"
   ]
  },
  {
   "cell_type": "markdown",
   "metadata": {},
   "source": [
    "Given an n x n binary matrix grid, return the length of the shortest clear path in the matrix. If there is no clear path, return -1.  \n",
    "\n",
    "A clear path in a binary matrix is a path from the top-left cell (i.e., (0, 0)) to the bottom-right cell (i.e., (n - 1, n - 1)) such that:  \n",
    "\n",
    "All the visited cells of the path are 0.  \n",
    "All the adjacent cells of the path are 8-directionally connected (i.e., they are different and they share an edge or a corner).  \n",
    "The length of a clear path is the number of visited cells of this path.  "
   ]
  },
  {
   "cell_type": "markdown",
   "metadata": {},
   "source": [
    "Input: grid = [[0,1],[1,0]]  \n",
    "Output: 2"
   ]
  },
  {
   "cell_type": "markdown",
   "metadata": {},
   "source": [
    "Input: grid = [[0,0,0],[1,1,0],[1,1,0]]  \n",
    "Output: 4"
   ]
  },
  {
   "cell_type": "markdown",
   "metadata": {},
   "source": [
    "Input: grid = [[1,0,0],[1,1,0],[1,1,0]]  \n",
    "Output: -1"
   ]
  },
  {
   "cell_type": "code",
   "execution_count": 1,
   "metadata": {},
   "outputs": [],
   "source": [
    "from collections import deque\n",
    "\n",
    "class Solution:\n",
    "    def shortestPathBinaryMatrix(self, grid):\n",
    "        row_length = len(grid)\n",
    "        col_length = len(grid[0])\n",
    "        print(f\"row_length = {row_length}, col_length = {col_length}\")\n",
    "\n",
    "        # 左上或右下角為1\n",
    "        if (grid[0][0] == 1) or (grid[row_length-1][col_length-1] == 1):\n",
    "            return -1\n",
    "        \n",
    "        # 只有一個值\n",
    "        if (row_length == 1) and (col_length == 1):\n",
    "            return 1\n",
    "\n",
    "        visited = set({(0, 0)}) # 已訪問過的座標\n",
    "        queue = deque([(0, 0, 1)]) # 隊列中放入可經過的座標\n",
    "        while queue:\n",
    "            print(f\"{'-' * 200}\")\n",
    "            row, col, ans = queue.popleft()\n",
    "            print(f\"row = {row}, col = {col}, ans = {ans}\")\n",
    "\n",
    "            # 依序查看8個方向\n",
    "            directions = [(row-1, col-1), (row-1, col), (row-1, col+1), (row, col-1), (row, col+1), (row+1, col-1), (row+1, col), (row+1, col+1)]\n",
    "            for row1, col1 in directions:\n",
    "                if (0 <= row1 < row_length) & (0 <= col1 < col_length): # 座標在範圍內\n",
    "                    print(f\"grid[row1][col1] = grid[{row1}][{col1}] = {grid[row1][col1]}\")                    \n",
    "                    if (grid[row1][col1] != 1) & ((row1, col1) not in visited): # 該座標可行走且未訪問過                   \n",
    "                        if (row1, col1) == (row_length-1, col_length-1): # 抵達右下角\n",
    "                            print(f\"ans = {ans + 1}\")\n",
    "                            return ans + 1\n",
    "                        else:\n",
    "                            queue.append((row1, col1, ans+1))\n",
    "                            visited.add((row1, col1))\n",
    "                            print(f\"- queue = {queue}\")\n",
    "                            print(f\"- visited = {visited}\")\n",
    "        return -1"
   ]
  },
  {
   "cell_type": "code",
   "execution_count": 2,
   "metadata": {},
   "outputs": [
    {
     "name": "stdout",
     "output_type": "stream",
     "text": [
      "row_length = 3, col_length = 3\n",
      "--------------------------------------------------------------------------------------------------------------------------------------------------------------------------------------------------------\n",
      "row = 0, col = 0, ans = 1\n",
      "grid[row1][col1] = grid[0][1] = 1\n",
      "grid[row1][col1] = grid[1][0] = 0\n",
      "- queue = deque([(1, 0, 2)])\n",
      "- visited = {(1, 0), (0, 0)}\n",
      "grid[row1][col1] = grid[1][1] = 0\n",
      "- queue = deque([(1, 0, 2), (1, 1, 2)])\n",
      "- visited = {(1, 0), (1, 1), (0, 0)}\n",
      "--------------------------------------------------------------------------------------------------------------------------------------------------------------------------------------------------------\n",
      "row = 1, col = 0, ans = 2\n",
      "grid[row1][col1] = grid[0][0] = 0\n",
      "grid[row1][col1] = grid[0][1] = 1\n",
      "grid[row1][col1] = grid[1][1] = 0\n",
      "grid[row1][col1] = grid[2][0] = 0\n",
      "- queue = deque([(1, 1, 2), (2, 0, 3)])\n",
      "- visited = {(1, 0), (1, 1), (2, 0), (0, 0)}\n",
      "grid[row1][col1] = grid[2][1] = 0\n",
      "- queue = deque([(1, 1, 2), (2, 0, 3), (2, 1, 3)])\n",
      "- visited = {(2, 1), (0, 0), (1, 1), (2, 0), (1, 0)}\n",
      "--------------------------------------------------------------------------------------------------------------------------------------------------------------------------------------------------------\n",
      "row = 1, col = 1, ans = 2\n",
      "grid[row1][col1] = grid[0][0] = 0\n",
      "grid[row1][col1] = grid[0][1] = 1\n",
      "grid[row1][col1] = grid[0][2] = 0\n",
      "- queue = deque([(2, 0, 3), (2, 1, 3), (0, 2, 3)])\n",
      "- visited = {(2, 1), (0, 0), (1, 1), (2, 0), (0, 2), (1, 0)}\n",
      "grid[row1][col1] = grid[1][0] = 0\n",
      "grid[row1][col1] = grid[1][2] = 1\n",
      "grid[row1][col1] = grid[2][0] = 0\n",
      "grid[row1][col1] = grid[2][1] = 0\n",
      "grid[row1][col1] = grid[2][2] = 0\n",
      "ans = 3\n"
     ]
    },
    {
     "data": {
      "text/plain": [
       "3"
      ]
     },
     "execution_count": 2,
     "metadata": {},
     "output_type": "execute_result"
    }
   ],
   "source": [
    "grid = [\n",
    "    [0,1,0],\n",
    "    [0,0,1],\n",
    "    [0,0,0]\n",
    "    ]\n",
    "ans = Solution().shortestPathBinaryMatrix(grid)\n",
    "ans"
   ]
  }
 ],
 "metadata": {
  "kernelspec": {
   "display_name": ".venv",
   "language": "python",
   "name": "python3"
  },
  "language_info": {
   "codemirror_mode": {
    "name": "ipython",
    "version": 3
   },
   "file_extension": ".py",
   "mimetype": "text/x-python",
   "name": "python",
   "nbconvert_exporter": "python",
   "pygments_lexer": "ipython3",
   "version": "3.8.10"
  },
  "orig_nbformat": 4
 },
 "nbformat": 4,
 "nbformat_minor": 2
}
