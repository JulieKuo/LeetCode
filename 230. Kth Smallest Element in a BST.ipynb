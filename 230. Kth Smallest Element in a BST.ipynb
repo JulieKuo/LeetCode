{
 "cells": [
  {
   "cell_type": "markdown",
   "metadata": {},
   "source": [
    "### 230. Kth Smallest Element in a BST"
   ]
  },
  {
   "cell_type": "code",
   "execution_count": null,
   "metadata": {},
   "outputs": [],
   "source": [
    "# Definition for a binary tree node.\n",
    "class TreeNode:\n",
    "    def __init__(self, val=0, left=None, right=None):\n",
    "        self.val = val\n",
    "        self.left = left\n",
    "        self.right = right"
   ]
  },
  {
   "cell_type": "code",
   "execution_count": null,
   "metadata": {},
   "outputs": [],
   "source": [
    "root = TreeNode(\n",
    "    val = 3,\n",
    "    left = TreeNode(\n",
    "        val = 1,\n",
    "        left = None,\n",
    "        right = TreeNode(\n",
    "            val = 2,\n",
    "            left = None,\n",
    "            right = None\n",
    "        ),\n",
    "    ),\n",
    "    right = TreeNode(\n",
    "        val = 4,\n",
    "        left = None,\n",
    "        right = None\n",
    "    )\n",
    ")\n",
    "\n",
    "k = 1\n",
    "\n",
    "# Input: root = [4,2,6,1,3,5,7], k = 1\n",
    "# Output: 1"
   ]
  },
  {
   "cell_type": "code",
   "execution_count": null,
   "metadata": {},
   "outputs": [],
   "source": [
    "root = TreeNode(\n",
    "    val = 5,\n",
    "    left = TreeNode(\n",
    "        val = 3,\n",
    "        left = TreeNode(\n",
    "            val = 2,\n",
    "            left = TreeNode(\n",
    "                val = 1,\n",
    "                left = None,\n",
    "                right = None\n",
    "            ),\n",
    "            right = None\n",
    "        ),\n",
    "        right = TreeNode(\n",
    "            val = 4,\n",
    "            left = None,\n",
    "            right = None\n",
    "        ),\n",
    "    ),\n",
    "    right = TreeNode(\n",
    "        val = 6,\n",
    "        left = None,\n",
    "        right = None\n",
    "    )\n",
    ")\n",
    "\n",
    "k = 3\n",
    "\n",
    "# Input: root = [5,3,6,2,4,null,null,1], k = 3\n",
    "# Output: 3"
   ]
  },
  {
   "cell_type": "markdown",
   "metadata": {},
   "source": [
    "**時間複雜度: $O( k )$**  \n",
    "**空間複雜度: $O( H )$**"
   ]
  },
  {
   "cell_type": "code",
   "execution_count": null,
   "metadata": {},
   "outputs": [],
   "source": [
    "from typing import Optional\n",
    "\n",
    "class Solution:\n",
    "    def kthSmallest(self, root: Optional[TreeNode], k: int) -> int:\n",
    "        # 中序遍歷: left -> root -> right，由小到大\n",
    "        def inorder(node): # time: O(k), space: O(H)，只需遍歷 k 個節點，H 為樹的高度\n",
    "            # 如果節點為空，直接返回\n",
    "            if not node or self.result:\n",
    "                return\n",
    "            \n",
    "            print(f\"left: {node.left=}\\n\")\n",
    "            inorder(node.left) # 遞迴遍歷左子樹\n",
    "            self.count += 1 # 紀錄當前節點是第幾個被訪問的節點\n",
    "            print(f\"{self.count=}\")\n",
    "            if self.count == k: # 如果當前節點是第 k 個被訪問的節點\n",
    "                self.result = node.val # 將當前節點的值記錄為結果，並返回\n",
    "                print(f\"{node=}\")\n",
    "                print(f\"{self.result=}\\n\")\n",
    "                return\n",
    "\n",
    "            \n",
    "            print(f\"right: {node.right=}\")\n",
    "            inorder(node.right) # 遞迴遍歷右子樹\n",
    "        \n",
    "        print(f\"{k=}, {root=}\")\n",
    "        self.count = 0 # space: O(1)\n",
    "        self.result = None # space: O(1)\n",
    "        inorder(root) # 調用中序遍歷函數\n",
    "\n",
    "        return self.result"
   ]
  },
  {
   "cell_type": "code",
   "execution_count": null,
   "metadata": {},
   "outputs": [
    {
     "name": "stdout",
     "output_type": "stream",
     "text": [
      "k=3, root=<__main__.TreeNode object at 0x0000027E059BA7D0>\n",
      "left: node.left=<__main__.TreeNode object at 0x0000027E059BB810>\n",
      "\n",
      "left: node.left=<__main__.TreeNode object at 0x0000027E059BA650>\n",
      "\n",
      "left: node.left=<__main__.TreeNode object at 0x0000027E059773D0>\n",
      "\n",
      "left: node.left=None\n",
      "\n",
      "self.count=1\n",
      "right: node.right=None\n",
      "self.count=2\n",
      "right: node.right=None\n",
      "self.count=3\n",
      "node=<__main__.TreeNode object at 0x0000027E059BB810>\n",
      "self.result=3\n",
      "\n",
      "self.count=4\n",
      "right: node.right=<__main__.TreeNode object at 0x0000027E059BBF50>\n"
     ]
    },
    {
     "data": {
      "text/plain": [
       "3"
      ]
     },
     "execution_count": 5,
     "metadata": {},
     "output_type": "execute_result"
    }
   ],
   "source": [
    "Solution().kthSmallest(root, k)"
   ]
  },
  {
   "cell_type": "markdown",
   "metadata": {},
   "source": [
    "**時間複雜度: $O( n )$**  \n",
    "**空間複雜度: $O( n + H )$**"
   ]
  },
  {
   "cell_type": "code",
   "execution_count": null,
   "metadata": {},
   "outputs": [],
   "source": [
    "from typing import Optional\n",
    "\n",
    "# Definition for a binary tree node.\n",
    "class TreeNode:\n",
    "    def __init__(self, val=0, left=None, right=None):\n",
    "        self.val = val\n",
    "        self.left = left\n",
    "        self.right = right\n",
    "\n",
    "class Solution:\n",
    "    def kthSmallest(self, root: Optional[TreeNode], k: int) -> int:\n",
    "        # 中序遍歷: left -> root -> right，由小到大\n",
    "        def inorder(node): # time: O(n), space: O(H)，n 為二叉搜索樹的節點數，H 為二叉搜索樹的高度\n",
    "            # 如果節點為空，直接返回\n",
    "            if not node:\n",
    "                return\n",
    "            \n",
    "            print(f\"left: {node.left=}\\n\")\n",
    "            inorder(node.left) # 遞迴遍歷左子樹\n",
    "            result.append(node.val) # 添加當前節點的值到結果列表\n",
    "            print(f\"{node=}\")\n",
    "            print(f\"{node.val=}, {result=}\\n\")\n",
    "            \n",
    "            print(f\"right: {node.right=}\")\n",
    "            inorder(node.right) # 遞迴遍歷右子樹\n",
    "        \n",
    "        print(f\"{root=}\")\n",
    "        result = [] # space: O(n)\n",
    "        inorder(root) # 調用中序遍歷函數\n",
    "\n",
    "        return result[k-1]"
   ]
  },
  {
   "cell_type": "code",
   "execution_count": null,
   "metadata": {},
   "outputs": [
    {
     "name": "stdout",
     "output_type": "stream",
     "text": [
      "root=<__main__.TreeNode object at 0x0000027E059BA710>\n",
      "left: node.left=<__main__.TreeNode object at 0x0000027E059BB290>\n",
      "\n",
      "left: node.left=<__main__.TreeNode object at 0x0000027E059BB4D0>\n",
      "\n",
      "left: node.left=<__main__.TreeNode object at 0x0000027E059BBBD0>\n",
      "\n",
      "left: node.left=None\n",
      "\n",
      "node=<__main__.TreeNode object at 0x0000027E059BBBD0>\n",
      "node.val=1, result=[1]\n",
      "\n",
      "right: node.right=None\n",
      "node=<__main__.TreeNode object at 0x0000027E059BB4D0>\n",
      "node.val=2, result=[1, 2]\n",
      "\n",
      "right: node.right=None\n",
      "node=<__main__.TreeNode object at 0x0000027E059BB290>\n",
      "node.val=3, result=[1, 2, 3]\n",
      "\n",
      "right: node.right=<__main__.TreeNode object at 0x0000027E059BA990>\n",
      "left: node.left=None\n",
      "\n",
      "node=<__main__.TreeNode object at 0x0000027E059BA990>\n",
      "node.val=4, result=[1, 2, 3, 4]\n",
      "\n",
      "right: node.right=None\n",
      "node=<__main__.TreeNode object at 0x0000027E059BA710>\n",
      "node.val=5, result=[1, 2, 3, 4, 5]\n",
      "\n",
      "right: node.right=<__main__.TreeNode object at 0x0000027E059BB510>\n",
      "left: node.left=None\n",
      "\n",
      "node=<__main__.TreeNode object at 0x0000027E059BB510>\n",
      "node.val=6, result=[1, 2, 3, 4, 5, 6]\n",
      "\n",
      "right: node.right=None\n"
     ]
    },
    {
     "data": {
      "text/plain": [
       "3"
      ]
     },
     "execution_count": 8,
     "metadata": {},
     "output_type": "execute_result"
    }
   ],
   "source": [
    "Solution().kthSmallest(root, k)"
   ]
  },
  {
   "cell_type": "code",
   "execution_count": null,
   "metadata": {},
   "outputs": [],
   "source": []
  }
 ],
 "metadata": {
  "kernelspec": {
   "display_name": ".venv",
   "language": "python",
   "name": "python3"
  },
  "language_info": {
   "codemirror_mode": {
    "name": "ipython",
    "version": 3
   },
   "file_extension": ".py",
   "mimetype": "text/x-python",
   "name": "python",
   "nbconvert_exporter": "python",
   "pygments_lexer": "ipython3",
   "version": "3.11.2"
  }
 },
 "nbformat": 4,
 "nbformat_minor": 2
}
