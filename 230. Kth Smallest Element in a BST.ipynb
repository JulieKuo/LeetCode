{
 "cells": [
  {
   "cell_type": "markdown",
   "metadata": {},
   "source": [
    "### 230. Kth Smallest Element in a BST"
   ]
  },
  {
   "cell_type": "code",
   "execution_count": 1,
   "metadata": {},
   "outputs": [],
   "source": [
    "# Definition for a binary tree node.\n",
    "class TreeNode:\n",
    "    def __init__(self, val=0, left=None, right=None):\n",
    "        self.val = val\n",
    "        self.left = left\n",
    "        self.right = right"
   ]
  },
  {
   "cell_type": "code",
   "execution_count": 2,
   "metadata": {},
   "outputs": [],
   "source": [
    "root = TreeNode(\n",
    "    val = 3,\n",
    "    left = TreeNode(\n",
    "        val = 1,\n",
    "        left = None,\n",
    "        right = TreeNode(\n",
    "            val = 2,\n",
    "            left = None,\n",
    "            right = None\n",
    "        ),\n",
    "    ),\n",
    "    right = TreeNode(\n",
    "        val = 4,\n",
    "        left = None,\n",
    "        right = None\n",
    "    )\n",
    ")\n",
    "\n",
    "k = 1\n",
    "\n",
    "# Input: root = [3,1,4,null,2], k = 1\n",
    "# Output: 1"
   ]
  },
  {
   "cell_type": "code",
   "execution_count": 3,
   "metadata": {},
   "outputs": [],
   "source": [
    "root = TreeNode(\n",
    "    val = 5,\n",
    "    left = TreeNode(\n",
    "        val = 3,\n",
    "        left = TreeNode(\n",
    "            val = 2,\n",
    "            left = TreeNode(\n",
    "                val = 1,\n",
    "                left = None,\n",
    "                right = None\n",
    "            ),\n",
    "            right = None\n",
    "        ),\n",
    "        right = TreeNode(\n",
    "            val = 4,\n",
    "            left = None,\n",
    "            right = None\n",
    "        ),\n",
    "    ),\n",
    "    right = TreeNode(\n",
    "        val = 6,\n",
    "        left = None,\n",
    "        right = None\n",
    "    )\n",
    ")\n",
    "\n",
    "k = 3\n",
    "\n",
    "# Input: root = [5,3,6,2,4,null,null,1], k = 3\n",
    "# Output: 3"
   ]
  },
  {
   "cell_type": "code",
   "execution_count": 4,
   "metadata": {},
   "outputs": [],
   "source": [
    "class Solution:\n",
    "    def kthSmallest(self, root, k):        \n",
    "        res = [] # 創建一個空的列表來儲存中序遍歷的結果        \n",
    "        self.inorder(root, res, k) # 調用_inorder來執行中序遍歷，並將結果存儲在 res 中\n",
    "        \n",
    "        return res[-1] # 返回中序遍歷結果中的第 k 小的元素\n",
    "    \n",
    "    def inorder(self, node, res, k):       \n",
    "        print(\"-\" * 200)\n",
    "        if not node: # 如果當前節點為空，直接返回\n",
    "            print(None)\n",
    "            return\n",
    "        \n",
    "        print(f\"node = {node.val}\")\n",
    "        print(f\"{node.val} - left\")\n",
    "        self.inorder(node.left, res, k) # 遞迴遍歷左子樹\n",
    "\n",
    "        if len(res) == k: # 如果已經找到了第 k 小的元素，則返回，不再進行遍歷\n",
    "            print(f\"{node.val} - ((len(res) = {len(res)}) == (k = {k}))\")\n",
    "            return\n",
    "        \n",
    "        res.append(node.val) # 添加當前節點的值到結果列表\n",
    "        print(f\"{node.val} - res = {res}\")\n",
    "        \n",
    "        print(f\"{node.val} - right\")\n",
    "        self.inorder(node.right, res, k) # 遞迴遍歷右子樹"
   ]
  },
  {
   "cell_type": "code",
   "execution_count": 5,
   "metadata": {},
   "outputs": [
    {
     "name": "stdout",
     "output_type": "stream",
     "text": [
      "--------------------------------------------------------------------------------------------------------------------------------------------------------------------------------------------------------\n",
      "node = 5\n",
      "5 - left\n",
      "--------------------------------------------------------------------------------------------------------------------------------------------------------------------------------------------------------\n",
      "node = 3\n",
      "3 - left\n",
      "--------------------------------------------------------------------------------------------------------------------------------------------------------------------------------------------------------\n",
      "node = 2\n",
      "2 - left\n",
      "--------------------------------------------------------------------------------------------------------------------------------------------------------------------------------------------------------\n",
      "node = 1\n",
      "1 - left\n",
      "--------------------------------------------------------------------------------------------------------------------------------------------------------------------------------------------------------\n",
      "None\n",
      "1 - res = [1]\n",
      "1 - right\n",
      "--------------------------------------------------------------------------------------------------------------------------------------------------------------------------------------------------------\n",
      "None\n",
      "2 - res = [1, 2]\n",
      "2 - right\n",
      "--------------------------------------------------------------------------------------------------------------------------------------------------------------------------------------------------------\n",
      "None\n",
      "3 - res = [1, 2, 3]\n",
      "3 - right\n",
      "--------------------------------------------------------------------------------------------------------------------------------------------------------------------------------------------------------\n",
      "node = 4\n",
      "4 - left\n",
      "--------------------------------------------------------------------------------------------------------------------------------------------------------------------------------------------------------\n",
      "None\n",
      "4 - ((len(res) = 3) == (k = 3))\n",
      "5 - ((len(res) = 3) == (k = 3))\n"
     ]
    },
    {
     "data": {
      "text/plain": [
       "3"
      ]
     },
     "execution_count": 5,
     "metadata": {},
     "output_type": "execute_result"
    }
   ],
   "source": [
    "Solution().kthSmallest(root, k)"
   ]
  }
 ],
 "metadata": {
  "kernelspec": {
   "display_name": ".venv",
   "language": "python",
   "name": "python3"
  },
  "language_info": {
   "codemirror_mode": {
    "name": "ipython",
    "version": 3
   },
   "file_extension": ".py",
   "mimetype": "text/x-python",
   "name": "python",
   "nbconvert_exporter": "python",
   "pygments_lexer": "ipython3",
   "version": "3.8.10"
  }
 },
 "nbformat": 4,
 "nbformat_minor": 2
}
