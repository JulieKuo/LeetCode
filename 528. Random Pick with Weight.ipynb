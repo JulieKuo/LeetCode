{
 "cells": [
  {
   "cell_type": "markdown",
   "metadata": {},
   "source": [
    "## 528. Random Pick with Weight"
   ]
  },
  {
   "cell_type": "code",
   "execution_count": 1,
   "metadata": {},
   "outputs": [],
   "source": [
    "import random\n",
    "\n",
    "class Solution:\n",
    "\n",
    "    def __init__(self, w):\n",
    "        self.cumsum = [w[0]]\n",
    "        for i in range(1, len(w)):\n",
    "            self.cumsum.append(self.cumsum[i-1] + w[i])\n",
    "        \n",
    "        print(f\"w = {w}\\ncumsum = {self.cumsum}\\n\")\n",
    "\n",
    "    def pickIndex(self):\n",
    "        print(\"-\"*50)\n",
    "        rand = random.randint(1, self.cumsum[-1])\n",
    "\n",
    "        left = 0\n",
    "        right = len(self.cumsum) - 1\n",
    "        while left < right:\n",
    "            mid = (left + right) // 2\n",
    "            print(f\"origin: left = {left}, mid = {mid}, right = {right}\")\n",
    "\n",
    "            if self.cumsum [mid] < rand:\n",
    "                print(f\"(w[mid] = {self.cumsum [mid]}) < (rand = {rand})\")\n",
    "                left = mid + 1\n",
    "            else:\n",
    "                print(f\"(w[mid] = {self.cumsum [mid]}) >= (rand = {rand})\")\n",
    "                right = mid\n",
    "            print(f\"new: left = {left}, mid = {mid}, right = {right}\\n\")\n",
    "\n",
    "        print(f\"return {right}\")\n",
    "\n",
    "        return right"
   ]
  },
  {
   "cell_type": "code",
   "execution_count": 2,
   "metadata": {},
   "outputs": [
    {
     "name": "stdout",
     "output_type": "stream",
     "text": [
      "w = [1, 2, 3, 4]\n",
      "cumsum = [1, 3, 6, 10]\n",
      "\n",
      "--------------------------------------------------\n",
      "origin: left = 0, mid = 1, right = 3\n",
      "(w[mid] = 3) < (rand = 4)\n",
      "new: left = 2, mid = 1, right = 3\n",
      "\n",
      "origin: left = 2, mid = 2, right = 3\n",
      "(w[mid] = 6) >= (rand = 4)\n",
      "new: left = 2, mid = 2, right = 2\n",
      "\n",
      "return 2\n",
      "--------------------------------------------------\n",
      "origin: left = 0, mid = 1, right = 3\n",
      "(w[mid] = 3) >= (rand = 2)\n",
      "new: left = 0, mid = 1, right = 1\n",
      "\n",
      "origin: left = 0, mid = 0, right = 1\n",
      "(w[mid] = 1) < (rand = 2)\n",
      "new: left = 1, mid = 0, right = 1\n",
      "\n",
      "return 1\n",
      "--------------------------------------------------\n",
      "origin: left = 0, mid = 1, right = 3\n",
      "(w[mid] = 3) < (rand = 4)\n",
      "new: left = 2, mid = 1, right = 3\n",
      "\n",
      "origin: left = 2, mid = 2, right = 3\n",
      "(w[mid] = 6) >= (rand = 4)\n",
      "new: left = 2, mid = 2, right = 2\n",
      "\n",
      "return 2\n",
      "--------------------------------------------------\n",
      "origin: left = 0, mid = 1, right = 3\n",
      "(w[mid] = 3) >= (rand = 2)\n",
      "new: left = 0, mid = 1, right = 1\n",
      "\n",
      "origin: left = 0, mid = 0, right = 1\n",
      "(w[mid] = 1) < (rand = 2)\n",
      "new: left = 1, mid = 0, right = 1\n",
      "\n",
      "return 1\n",
      "--------------------------------------------------\n",
      "origin: left = 0, mid = 1, right = 3\n",
      "(w[mid] = 3) < (rand = 8)\n",
      "new: left = 2, mid = 1, right = 3\n",
      "\n",
      "origin: left = 2, mid = 2, right = 3\n",
      "(w[mid] = 6) < (rand = 8)\n",
      "new: left = 3, mid = 2, right = 3\n",
      "\n",
      "return 3\n"
     ]
    },
    {
     "data": {
      "text/plain": [
       "3"
      ]
     },
     "execution_count": 2,
     "metadata": {},
     "output_type": "execute_result"
    }
   ],
   "source": [
    "w = [1,2,3,4]\n",
    "\n",
    "solution = Solution(w)\n",
    "solution.pickIndex() # return 1. It is returning the second element (index = 1) that has a probability of 3/4.\n",
    "solution.pickIndex() # return 1\n",
    "solution.pickIndex() # return 1\n",
    "solution.pickIndex() # return 1\n",
    "solution.pickIndex() # return 0. It is returning the first element (index = 0) that has a probability of 1/4."
   ]
  }
 ],
 "metadata": {
  "kernelspec": {
   "display_name": ".venv",
   "language": "python",
   "name": "python3"
  },
  "language_info": {
   "codemirror_mode": {
    "name": "ipython",
    "version": 3
   },
   "file_extension": ".py",
   "mimetype": "text/x-python",
   "name": "python",
   "nbconvert_exporter": "python",
   "pygments_lexer": "ipython3",
   "version": "3.8.10"
  },
  "orig_nbformat": 4,
  "vscode": {
   "interpreter": {
    "hash": "6a07fcf0145f94b3f971c13d061528107de20ab7b779375f96dab9bbac6a85db"
   }
  }
 },
 "nbformat": 4,
 "nbformat_minor": 2
}
