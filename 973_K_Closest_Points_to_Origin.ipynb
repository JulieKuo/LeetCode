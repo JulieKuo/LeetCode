{
 "cells": [
  {
   "cell_type": "markdown",
   "metadata": {},
   "source": [
    "## 973. K Closest Points to Origin"
   ]
  },
  {
   "cell_type": "code",
   "execution_count": 1,
   "metadata": {},
   "outputs": [],
   "source": [
    "import heapq\n",
    "\n",
    "class Solution:\n",
    "    def kClosest(self, points, k):\n",
    "        heap = []\n",
    "        for x, y in points:\n",
    "            d = - (x ** 2 + y ** 2)\n",
    "            if len(heap) < k:\n",
    "                heapq.heappush(heap, [d, [x, y]])\n",
    "            else:\n",
    "                heapq.heappushpop(heap, [d, [x, y]])\n",
    "                \n",
    "            print(heap)\n",
    "\n",
    "        return [d[1] for d in heap]"
   ]
  },
  {
   "cell_type": "code",
   "execution_count": 2,
   "metadata": {},
   "outputs": [
    {
     "name": "stdout",
     "output_type": "stream",
     "text": [
      "[[-18, [3, 3]]]\n",
      "[[-32, [4, 4]], [-18, [3, 3]]]\n",
      "[[-26, [5, -1]], [-18, [3, 3]]]\n",
      "[[-20, [-2, 4]], [-18, [3, 3]]]\n"
     ]
    },
    {
     "data": {
      "text/plain": [
       "[[-2, 4], [3, 3]]"
      ]
     },
     "execution_count": 2,
     "metadata": {},
     "output_type": "execute_result"
    }
   ],
   "source": [
    "points = [[3,3], [4,4], [5,-1], [-2,4]]; k = 2\n",
    "Solution().kClosest(points, k)"
   ]
  },
  {
   "cell_type": "code",
   "execution_count": null,
   "metadata": {},
   "outputs": [],
   "source": []
  }
 ],
 "metadata": {
  "kernelspec": {
   "display_name": ".venv",
   "language": "python",
   "name": "python3"
  },
  "language_info": {
   "codemirror_mode": {
    "name": "ipython",
    "version": 3
   },
   "file_extension": ".py",
   "mimetype": "text/x-python",
   "name": "python",
   "nbconvert_exporter": "python",
   "pygments_lexer": "ipython3",
   "version": "3.8.10"
  },
  "orig_nbformat": 4,
  "vscode": {
   "interpreter": {
    "hash": "6a07fcf0145f94b3f971c13d061528107de20ab7b779375f96dab9bbac6a85db"
   }
  }
 },
 "nbformat": 4,
 "nbformat_minor": 2
}
