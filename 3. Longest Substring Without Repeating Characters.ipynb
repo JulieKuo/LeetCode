{
 "cells": [
  {
   "cell_type": "markdown",
   "metadata": {},
   "source": [
    "## 3. Longest Substring Without Repeating Characters"
   ]
  },
  {
   "cell_type": "markdown",
   "metadata": {},
   "source": [
    "**時間複雜度: O(n)**  \n",
    "**空間複雜度: O(1)**"
   ]
  },
  {
   "cell_type": "code",
   "execution_count": 1,
   "metadata": {},
   "outputs": [],
   "source": [
    "class Solution:\n",
    "    def lengthOfLongestSubstring(self, s): # time: O(n), space: O(1) # time看起來是O(n^2)，但每個字符只被考慮2次，加入或刪除，總操作次數是O(2n) = O(n)\n",
    "        char_set = set() # 存放字母 # space: O(1)\n",
    "        max_length = 0\n",
    "        left = 0\n",
    "        for right, char in enumerate(s): # time: O(n)\n",
    "            print(f\"\\nchar = {char}\")\n",
    "            # 如果該字元已經在char_set中，就不斷刪除左邊界對應的字母，直到該字元不在char_set中\n",
    "            while char in char_set: # time: O(n)\n",
    "                char_set.remove(s[left])\n",
    "                print(f\"remove ({s[left]}) from ({s[left:right+1]}): char_set = {char_set}\", end = \"\")\n",
    "                left += 1\n",
    "                print(f\", substring = {s[left:right+1]}\")\n",
    "            \n",
    "            # 把該字母加入char_set中\n",
    "            char_set.add(char)\n",
    "            print(f\"add: char_set = {char_set}\")\n",
    "\n",
    "            # 更新最大長度\n",
    "            max_length = max(max_length, right - left + 1)\n",
    "            print(f\"length = {right - left + 1}, max_length = {max_length}\")\n",
    "\n",
    "        return max_length"
   ]
  },
  {
   "cell_type": "code",
   "execution_count": 2,
   "metadata": {},
   "outputs": [
    {
     "name": "stdout",
     "output_type": "stream",
     "text": [
      "\n",
      "char = p\n",
      "add: char_set = {'p'}\n",
      "length = 1, max_length = 1\n",
      "\n",
      "char = w\n",
      "add: char_set = {'p', 'w'}\n",
      "length = 2, max_length = 2\n",
      "\n",
      "char = w\n",
      "remove (p) from (pww): char_set = {'w'}, substring = ww\n",
      "remove (w) from (ww): char_set = set(), substring = w\n",
      "add: char_set = {'w'}\n",
      "length = 1, max_length = 2\n",
      "\n",
      "char = k\n",
      "add: char_set = {'w', 'k'}\n",
      "length = 2, max_length = 2\n",
      "\n",
      "char = e\n",
      "add: char_set = {'w', 'k', 'e'}\n",
      "length = 3, max_length = 3\n",
      "\n",
      "char = w\n",
      "remove (w) from (wkew): char_set = {'k', 'e'}, substring = kew\n",
      "add: char_set = {'w', 'k', 'e'}\n",
      "length = 3, max_length = 3\n"
     ]
    },
    {
     "data": {
      "text/plain": [
       "3"
      ]
     },
     "execution_count": 2,
     "metadata": {},
     "output_type": "execute_result"
    }
   ],
   "source": [
    "s = \"pwwkew\"\n",
    "Solution().lengthOfLongestSubstring(s)"
   ]
  },
  {
   "cell_type": "markdown",
   "metadata": {},
   "source": [
    "**時間複雜度: O(n)**  \n",
    "**空間複雜度: O(1)**"
   ]
  },
  {
   "cell_type": "code",
   "execution_count": 3,
   "metadata": {},
   "outputs": [],
   "source": [
    "class Solution:\n",
    "    def lengthOfLongestSubstring(self, s: str) -> int:\n",
    "        hash_table = {} # 存儲字符及其索引位置 # space: O(1)\n",
    "        result = 0 # 存儲最長不重複子字串的長度\n",
    "        left = 0 # 存儲當前子字串的起始位置\n",
    "\n",
    "        for right in range(len(s)): # time: O(n)\n",
    "            print(f\"\\n{left = }, {right = }, {s[right] = }\")\n",
    "\n",
    "            # 檢查右指針指向的字符是否不在hash_table中，或者其索引位置小於當前左指針位置(即字符存在，但不在當前slide window中)\n",
    "            if (s[right] not in hash_table) or (hash_table[s[right]] < left):\n",
    "                result = max(result, (right - left + 1))\n",
    "                print(f\"success: {result = }, {hash_table = }\")\n",
    "            else:\n",
    "                left = hash_table[s[right]] + 1 # 更新左指針到上一次該字符出現的下一個位置\n",
    "                print(f\"fail:     {left = }, {hash_table = }\")\n",
    "            \n",
    "            hash_table[s[right]] = right # 更新右指針的位置\n",
    "\n",
    "        return result\n",
    "        "
   ]
  },
  {
   "cell_type": "code",
   "execution_count": 4,
   "metadata": {},
   "outputs": [
    {
     "name": "stdout",
     "output_type": "stream",
     "text": [
      "\n",
      "left = 0, right = 0, s[right] = 'p'\n",
      "success: result = 1, hash_table = {}\n",
      "\n",
      "left = 0, right = 1, s[right] = 'w'\n",
      "success: result = 2, hash_table = {'p': 0}\n",
      "\n",
      "left = 0, right = 2, s[right] = 'w'\n",
      "fail:     left = 2, hash_table = {'p': 0, 'w': 1}\n",
      "\n",
      "left = 2, right = 3, s[right] = 'k'\n",
      "success: result = 2, hash_table = {'p': 0, 'w': 2}\n",
      "\n",
      "left = 2, right = 4, s[right] = 'e'\n",
      "success: result = 3, hash_table = {'p': 0, 'w': 2, 'k': 3}\n",
      "\n",
      "left = 2, right = 5, s[right] = 'w'\n",
      "fail:     left = 3, hash_table = {'p': 0, 'w': 2, 'k': 3, 'e': 4}\n"
     ]
    },
    {
     "data": {
      "text/plain": [
       "3"
      ]
     },
     "execution_count": 4,
     "metadata": {},
     "output_type": "execute_result"
    }
   ],
   "source": [
    "s = \"pwwkew\"\n",
    "Solution().lengthOfLongestSubstring(s)"
   ]
  }
 ],
 "metadata": {
  "kernelspec": {
   "display_name": ".venv",
   "language": "python",
   "name": "python3"
  },
  "language_info": {
   "codemirror_mode": {
    "name": "ipython",
    "version": 3
   },
   "file_extension": ".py",
   "mimetype": "text/x-python",
   "name": "python",
   "nbconvert_exporter": "python",
   "pygments_lexer": "ipython3",
   "version": "3.10.6"
  },
  "orig_nbformat": 4
 },
 "nbformat": 4,
 "nbformat_minor": 2
}
