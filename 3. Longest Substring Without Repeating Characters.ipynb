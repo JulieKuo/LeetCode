{
 "cells": [
  {
   "cell_type": "markdown",
   "metadata": {},
   "source": [
    "## 3. Longest Substring Without Repeating Characters"
   ]
  },
  {
   "cell_type": "code",
   "execution_count": 37,
   "metadata": {},
   "outputs": [],
   "source": [
    "class Solution:\n",
    "    def lengthOfLongestSubstring(self, s):\n",
    "        char_set = set() # 存放字母\n",
    "        max_length = 0\n",
    "        left = 0\n",
    "        for right, char in enumerate(s):\n",
    "            print(f\"\\nchar = {char}\")\n",
    "            # 如果該字元已經在char_set中，就不斷刪除左邊界對應的字母，直到該字元不在char_set中\n",
    "            while char in char_set: \n",
    "                char_set.remove(s[left])\n",
    "                print(f\"remove ({s[left]}) from ({s[left:right+1]}): char_set = {char_set}\", end = \"\")\n",
    "                left += 1\n",
    "                print(f\", substring = {s[left:right+1]}\")\n",
    "            \n",
    "            # 把該字母加入char_set中\n",
    "            char_set.add(char)\n",
    "            print(f\"add: char_set = {char_set}\")\n",
    "\n",
    "            # 更新最大長度\n",
    "            max_length = max(max_length, right - left + 1)\n",
    "            print(f\"length = {right - left + 1}, max_length = {max_length}\")\n",
    "\n",
    "        return max_length"
   ]
  },
  {
   "cell_type": "code",
   "execution_count": 38,
   "metadata": {},
   "outputs": [
    {
     "name": "stdout",
     "output_type": "stream",
     "text": [
      "\n",
      "char = p\n",
      "add: char_set = {'p'}\n",
      "length = 1, max_length = 1\n",
      "\n",
      "char = w\n",
      "add: char_set = {'p', 'w'}\n",
      "length = 2, max_length = 2\n",
      "\n",
      "char = w\n",
      "remove (p) from (pww): char_set = {'w'}, substring = ww\n",
      "remove (w) from (ww): char_set = set(), substring = w\n",
      "add: char_set = {'w'}\n",
      "length = 1, max_length = 2\n",
      "\n",
      "char = k\n",
      "add: char_set = {'w', 'k'}\n",
      "length = 2, max_length = 2\n",
      "\n",
      "char = e\n",
      "add: char_set = {'w', 'k', 'e'}\n",
      "length = 3, max_length = 3\n",
      "\n",
      "char = w\n",
      "remove (w) from (wkew): char_set = {'k', 'e'}, substring = kew\n",
      "add: char_set = {'w', 'k', 'e'}\n",
      "length = 3, max_length = 3\n"
     ]
    },
    {
     "data": {
      "text/plain": [
       "3"
      ]
     },
     "execution_count": 38,
     "metadata": {},
     "output_type": "execute_result"
    }
   ],
   "source": [
    "s = \"pwwkew\"\n",
    "Solution().lengthOfLongestSubstring(s)"
   ]
  }
 ],
 "metadata": {
  "kernelspec": {
   "display_name": ".venv",
   "language": "python",
   "name": "python3"
  },
  "language_info": {
   "codemirror_mode": {
    "name": "ipython",
    "version": 3
   },
   "file_extension": ".py",
   "mimetype": "text/x-python",
   "name": "python",
   "nbconvert_exporter": "python",
   "pygments_lexer": "ipython3",
   "version": "3.8.10"
  },
  "orig_nbformat": 4
 },
 "nbformat": 4,
 "nbformat_minor": 2
}
