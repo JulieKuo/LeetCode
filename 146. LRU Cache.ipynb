{
 "cells": [
  {
   "cell_type": "markdown",
   "metadata": {},
   "source": [
    "## 146. LRU Cache"
   ]
  },
  {
   "cell_type": "code",
   "execution_count": 32,
   "metadata": {},
   "outputs": [],
   "source": [
    "class ListNode:\n",
    "    def __init__(self, key, value):\n",
    "        self.key = key\n",
    "        self.value = value\n",
    "        self.prev = self\n",
    "        self.next = self\n",
    "\n",
    "class LRUCache:\n",
    "\n",
    "    def __init__(self, capacity: int):\n",
    "        self.dic = dict()\n",
    "        self.capacity = capacity\n",
    "        self.size = 0\n",
    "        self.root = ListNode(0, 0)\n",
    "\n",
    "    def get(self, key: int) -> int:\n",
    "        print(\"* Get *\")\n",
    "        print(f\"dic: {self.dic.keys()}, size: {self.size}, capacity: {self.capacity}, key: {key}\")\n",
    "        if key in self.dic:\n",
    "            print(f\"dic - k: {self.dic[key].key}, v: {self.dic[key].value}\")\n",
    "            node = self.dic[key]\n",
    "            print(f\"<< node >>  (prev - k: {node.prev.key}, v: {node.prev.value}), (now - k: {node.key}, v: {node.value}), (next - k: {node.next.key}, v: {node.next.value})\")\n",
    "            self.removeFromList(node)\n",
    "            self.insertIntoHead(node)\n",
    "            return node.value\n",
    "        else:\n",
    "            return -1\n",
    "\n",
    "    def put(self, key: int, value: int) -> None:\n",
    "        print(\"* Put *\")\n",
    "        print(f\"dic: {self.dic}, size: {self.size}, capacity: {self.capacity}, key: {key}, value: {value}\")\n",
    "        if key in self.dic: # 該數值是否已在存放的數據中\n",
    "            node = self.dic[key]\n",
    "            self.removeFromList(node)\n",
    "            self.insertIntoHead(node)\n",
    "            node.value = value\n",
    "        else:\n",
    "            if self.size >= self.capacity: #現在存放的數據是否達到容量上限\n",
    "                self.removeFromTail()\n",
    "                self.size -= 1\n",
    "            node = ListNode(key, value)\n",
    "            print(f\"<< node >>  (prev - k: {node.prev.key}, v: {node.prev.value}), (now - k: {node.key}, v: {node.value}), (next - k: {node.next.key}, v: {node.next.value})\")\n",
    "            print(f\"<< root >>  (prev - k: {self.root.prev.key}, v: {self.root.prev.value}), (now - k: {self.root.key}, v: {self.root.value}), (next - k: {self.root.next.key}, v: {self.root.next.value})\")\n",
    "            self.insertIntoHead(node)\n",
    "            self.dic[key] = node\n",
    "            self.size += 1\n",
    "            print(f\"dic: {self.dic.keys()}, size: {self.size}, capacity: {self.capacity}\")\n",
    "\n",
    "    def removeFromList(self, node):\n",
    "        print(\"\\n** removeFromList **\")\n",
    "        if node == self.root:\n",
    "            print(\"node == root\")\n",
    "            return\n",
    "\n",
    "        print(f\"<< node.prev >>  (prev - k: {node.prev.prev.key}, v: {node.prev.prev.value}), (now - k: {node.prev.key}, v: {node.prev.value}), (next - k: {node.prev.next.key}, v: {node.prev.next.value})\")\n",
    "        prev_node = node.prev\n",
    "        print(f\"<< prev_node >>  (prev - k: {prev_node.prev.key}, v: {prev_node.prev.value}), (now - k: {prev_node.key}, v: {prev_node.value}), (next - k: {prev_node.next.key}, v: {prev_node.next.value})\")\n",
    "        next_node = node.next\n",
    "        print(f\"<< next_node >>  (prev - k: {next_node.prev.key}, v: {next_node.prev.value}), (now - k: {next_node.key}, v: {next_node.value}), (next - k: {next_node.next.key}, v: {next_node.next.value})\")\n",
    "        prev_node.next = next_node\n",
    "        print(f\"<< prev_node >>  (prev - k: {prev_node.prev.key}, v: {prev_node.prev.value}), (now - k: {prev_node.key}, v: {prev_node.value}), (next - k: {prev_node.next.key}, v: {prev_node.next.value})\")\n",
    "        next_node.prev = prev_node\n",
    "        print(f\"<< next_node >>  (prev - k: {next_node.prev.key}, v: {next_node.prev.value}), (now - k: {next_node.key}, v: {next_node.value}), (next - k: {next_node.next.key}, v: {next_node.next.value})\")\n",
    "        node.prev = node.next = None\n",
    "        print(f\"<< node >>  (now - k: {node.key}, v: {node.value})\")\n",
    "        # print(f\"<< node >>  (prev - k: {node.prev.key}, v: {node.prev.value}), (now - k: {node.key}, v: {node.value}), (next - k: {node.next.key}, v: {node.next.value})\")\n",
    "    \n",
    "    def insertIntoHead(self, node):\n",
    "        print(\"\\n** InsertIntoHead **\")\n",
    "        head_node = self.root.next\n",
    "        print(f\"<< head_node >>  (prev - k: {head_node.prev.key}, v: {head_node.prev.value}), (now - k: {head_node.key}, v: {head_node.value}), (next - k: {head_node.next.key}, v: {head_node.next.value})\")\n",
    "        head_node.prev = node\n",
    "        print(f\"<< head_node >>  (prev - k: {head_node.prev.key}, v: {head_node.prev.value}), (now - k: {head_node.key}, v: {head_node.value}), (next - k: {head_node.next.key}, v: {head_node.next.value})\")\n",
    "        print(f\"<< root >>  (prev - k: {self.root.prev.key}, v: {self.root.prev.value}), (now - k: {self.root.key}, v: {self.root.value}), (next - k: {self.root.next.key}, v: {self.root.next.value})\")\n",
    "        node.prev = self.root\n",
    "        print(f\"<< node >>  (prev - k: {node.prev.key}, v: {node.prev.value}), (now - k: {node.key}, v: {node.value})\")\n",
    "        # print(f\"<< node >>  (prev - k: {node.prev.key}, v: {node.prev.value}), (now - k: {node.key}, v: {node.value}), (next - k: {node.next.key}, v: {node.next.value})\")\n",
    "        self.root.next = node\n",
    "        print(f\"<< root >>  (prev - k: {self.root.prev.key}, v: {self.root.prev.value}), (now - k: {self.root.key}, v: {self.root.value}), (next - k: {self.root.next.key}, v: {self.root.next.value})\")\n",
    "        node.next = head_node\n",
    "        print(f\"<< node >>  (prev - k: {node.prev.key}, v: {node.prev.value}), (now - k: {node.key}, v: {node.value}), (next - k: {node.next.key}, v: {node.next.value})\")\n",
    "    \n",
    "    def removeFromTail(self):\n",
    "        if self.size == 0: return\n",
    "        tail_node = self.root.prev\n",
    "        del self.dic[tail_node.key]\n",
    "        self.removeFromList(tail_node)"
   ]
  },
  {
   "cell_type": "code",
   "execution_count": 33,
   "metadata": {},
   "outputs": [
    {
     "name": "stdout",
     "output_type": "stream",
     "text": [
      "* Put *\n",
      "dic: {}, size: 0, capacity: 2, key: 1, value: 1\n",
      "<< node >>  (prev - k: 1, v: 1), (now - k: 1, v: 1), (next - k: 1, v: 1)\n",
      "<< root >>  (prev - k: 0, v: 0), (now - k: 0, v: 0), (next - k: 0, v: 0)\n",
      "\n",
      "** InsertIntoHead **\n",
      "<< head_node >>  (prev - k: 0, v: 0), (now - k: 0, v: 0), (next - k: 0, v: 0)\n",
      "<< head_node >>  (prev - k: 1, v: 1), (now - k: 0, v: 0), (next - k: 0, v: 0)\n",
      "<< root >>  (prev - k: 1, v: 1), (now - k: 0, v: 0), (next - k: 0, v: 0)\n",
      "<< node >>  (prev - k: 0, v: 0), (now - k: 1, v: 1)\n",
      "<< root >>  (prev - k: 1, v: 1), (now - k: 0, v: 0), (next - k: 1, v: 1)\n",
      "<< node >>  (prev - k: 0, v: 0), (now - k: 1, v: 1), (next - k: 0, v: 0)\n",
      "dic: dict_keys([1]), size: 1, capacity: 2\n",
      "None \n",
      "\n",
      "\n",
      "* Get *\n",
      "dic: dict_keys([1]), size: 1, capacity: 2, key: 1\n",
      "dic - k: 1, v: 1\n",
      "<< node >>  (prev - k: 0, v: 0), (now - k: 1, v: 1), (next - k: 0, v: 0)\n",
      "\n",
      "** removeFromList **\n",
      "<< node.prev >>  (prev - k: 1, v: 1), (now - k: 0, v: 0), (next - k: 1, v: 1)\n",
      "<< prev_node >>  (prev - k: 1, v: 1), (now - k: 0, v: 0), (next - k: 1, v: 1)\n",
      "<< next_node >>  (prev - k: 1, v: 1), (now - k: 0, v: 0), (next - k: 1, v: 1)\n",
      "<< prev_node >>  (prev - k: 1, v: 1), (now - k: 0, v: 0), (next - k: 0, v: 0)\n",
      "<< next_node >>  (prev - k: 0, v: 0), (now - k: 0, v: 0), (next - k: 0, v: 0)\n",
      "<< node >>  (now - k: 1, v: 1)\n",
      "\n",
      "** InsertIntoHead **\n",
      "<< head_node >>  (prev - k: 0, v: 0), (now - k: 0, v: 0), (next - k: 0, v: 0)\n",
      "<< head_node >>  (prev - k: 1, v: 1), (now - k: 0, v: 0), (next - k: 0, v: 0)\n",
      "<< root >>  (prev - k: 1, v: 1), (now - k: 0, v: 0), (next - k: 0, v: 0)\n",
      "<< node >>  (prev - k: 0, v: 0), (now - k: 1, v: 1)\n",
      "<< root >>  (prev - k: 1, v: 1), (now - k: 0, v: 0), (next - k: 1, v: 1)\n",
      "<< node >>  (prev - k: 0, v: 0), (now - k: 1, v: 1), (next - k: 0, v: 0)\n",
      "1\n"
     ]
    }
   ],
   "source": [
    "cache = LRUCache(2)\n",
    "\n",
    "print(cache.put(1, 1), \"\\n\\n\")\n",
    "print(cache.get(1)) # returns 1\n",
    "# print(cache.put(2, 2))\n",
    "# print(cache.get(1)) # returns 1\n",
    "# print(cache.put(3, 3)) # evicts key 2\n",
    "# print(cache.get(2)) # returns -1 (not found)\n",
    "# print(cache.put(4, 4)) # evicts key 1\n",
    "# print(cache.get(1)) # returns -1 (not found)\n",
    "# print(cache.get(3)) # returns 3\n",
    "# print(cache.get(4)) # returns 4"
   ]
  },
  {
   "cell_type": "code",
   "execution_count": null,
   "metadata": {},
   "outputs": [],
   "source": []
  },
  {
   "cell_type": "code",
   "execution_count": null,
   "metadata": {},
   "outputs": [],
   "source": []
  },
  {
   "cell_type": "code",
   "execution_count": 3,
   "metadata": {},
   "outputs": [
    {
     "data": {
      "text/plain": [
       "1"
      ]
     },
     "execution_count": 3,
     "metadata": {},
     "output_type": "execute_result"
    }
   ],
   "source": [
    "cache.dic[1].value"
   ]
  },
  {
   "cell_type": "code",
   "execution_count": null,
   "metadata": {},
   "outputs": [],
   "source": []
  }
 ],
 "metadata": {
  "kernelspec": {
   "display_name": "Python 3.8.7 ('.venv': venv)",
   "language": "python",
   "name": "python3"
  },
  "language_info": {
   "codemirror_mode": {
    "name": "ipython",
    "version": 3
   },
   "file_extension": ".py",
   "mimetype": "text/x-python",
   "name": "python",
   "nbconvert_exporter": "python",
   "pygments_lexer": "ipython3",
   "version": "3.8.7"
  },
  "orig_nbformat": 4,
  "vscode": {
   "interpreter": {
    "hash": "6a07fcf0145f94b3f971c13d061528107de20ab7b779375f96dab9bbac6a85db"
   }
  }
 },
 "nbformat": 4,
 "nbformat_minor": 2
}
