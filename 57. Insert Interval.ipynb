{
 "cells": [
  {
   "cell_type": "markdown",
   "metadata": {},
   "source": [
    "### 57. Insert Interval"
   ]
  },
  {
   "cell_type": "markdown",
   "metadata": {},
   "source": [
    "* 時間複雜度: O( $n$ )\n",
    "* 空間複雜度: O( $n$ )"
   ]
  },
  {
   "cell_type": "code",
   "execution_count": 1,
   "metadata": {},
   "outputs": [],
   "source": [
    "from typing import List\n",
    "\n",
    "class Solution:\n",
    "    def insert(self, intervals: List[List[int]], newInterval: List[int]) -> List[List[int]]:\n",
    "        print(f\"{intervals=}\\n{newInterval=}\")\n",
    "        print(\"-\" * 100)\n",
    "        i = 0\n",
    "        n = len(intervals)\n",
    "        result = [] # space: O(n)\n",
    "\n",
    "        # **步驟 1：處理所有在 newInterval 左邊且不重疊的區間**\n",
    "        while i < n and intervals[i][1] < newInterval[0]: # time: O(n)\n",
    "            result.append(intervals[i])\n",
    "            print(f\"({intervals[i][1]=}) < ({newInterval[0]=})\")\n",
    "            print(f\"{intervals[i]=}, {result=}\")\n",
    "            i += 1\n",
    "        print(\"-\" * 100)\n",
    "\n",
    "        # **步驟 2：合併與 newInterval 重疊的區間**\n",
    "        while i < n and intervals[i][0] <= newInterval[1]: # time: O(n)\n",
    "            newInterval[0] = min(intervals[i][0], newInterval[0])\n",
    "            newInterval[1] = max(intervals[i][1], newInterval[1])\n",
    "            print(f\"({intervals[i][0]=}) <= ({newInterval[1]=})\")\n",
    "            print(f\"{intervals[i]=}, {newInterval=}\")\n",
    "            i += 1\n",
    "        result.append(newInterval)\n",
    "        print(f\"{result=}\")\n",
    "        print(\"-\" * 100)\n",
    "\n",
    "        # **步驟 3：處理所有在 newInterval 右邊的區間**\n",
    "        while i < n: # time: O(n)\n",
    "            result.append(intervals[i])\n",
    "            i += 1\n",
    "            print(f\"{result=}\")\n",
    "\n",
    "        return result"
   ]
  },
  {
   "cell_type": "code",
   "execution_count": 2,
   "metadata": {},
   "outputs": [
    {
     "name": "stdout",
     "output_type": "stream",
     "text": [
      "intervals=[[1, 2], [3, 5], [6, 7], [8, 10], [12, 16]]\n",
      "newInterval=[4, 8]\n",
      "----------------------------------------------------------------------------------------------------\n",
      "(intervals[i][1]=2) < (newInterval[0]=4)\n",
      "intervals[i]=[1, 2], result=[[1, 2]]\n",
      "----------------------------------------------------------------------------------------------------\n",
      "(intervals[i][0]=3) <= (newInterval[1]=8)\n",
      "intervals[i]=[3, 5], newInterval=[3, 8]\n",
      "(intervals[i][0]=6) <= (newInterval[1]=8)\n",
      "intervals[i]=[6, 7], newInterval=[3, 8]\n",
      "(intervals[i][0]=8) <= (newInterval[1]=10)\n",
      "intervals[i]=[8, 10], newInterval=[3, 10]\n",
      "result=[[1, 2], [3, 10]]\n",
      "----------------------------------------------------------------------------------------------------\n",
      "result=[[1, 2], [3, 10], [12, 16]]\n"
     ]
    },
    {
     "data": {
      "text/plain": [
       "[[1, 2], [3, 10], [12, 16]]"
      ]
     },
     "execution_count": 2,
     "metadata": {},
     "output_type": "execute_result"
    }
   ],
   "source": [
    "intervals = [[1,2],[3,5],[6,7],[8,10],[12,16]]\n",
    "newInterval = [4,8]\n",
    "\n",
    "Solution().insert(intervals, newInterval)"
   ]
  },
  {
   "cell_type": "code",
   "execution_count": null,
   "metadata": {},
   "outputs": [],
   "source": []
  }
 ],
 "metadata": {
  "kernelspec": {
   "display_name": ".venv",
   "language": "python",
   "name": "python3"
  },
  "language_info": {
   "codemirror_mode": {
    "name": "ipython",
    "version": 3
   },
   "file_extension": ".py",
   "mimetype": "text/x-python",
   "name": "python",
   "nbconvert_exporter": "python",
   "pygments_lexer": "ipython3",
   "version": "3.11.2"
  }
 },
 "nbformat": 4,
 "nbformat_minor": 2
}
