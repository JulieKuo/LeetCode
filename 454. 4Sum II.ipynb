{
 "cells": [
  {
   "cell_type": "markdown",
   "metadata": {},
   "source": [
    "### 454. 4Sum II"
   ]
  },
  {
   "cell_type": "code",
   "execution_count": 1,
   "metadata": {},
   "outputs": [],
   "source": [
    "class Solution:\n",
    "    def fourSumCount(self, nums1, nums2, nums3, nums4):\n",
    "        temp = {}\n",
    "        for v1 in nums1:\n",
    "            for v2 in nums2:\n",
    "                temp[v1+v2] = temp.get(v1+v2, 0) + 1\n",
    "        print(f\"temp = {temp}\")\n",
    "\n",
    "        # res = 0\n",
    "        # for v3 in nums3:\n",
    "        #     for v4 in nums4:\n",
    "        #         res += temp.get(-v3-v4, 0)\n",
    "        res = sum([temp.get(-v3-v4, 0) for v3 in nums3 for v4 in nums4])\n",
    "\n",
    "        return res"
   ]
  },
  {
   "cell_type": "code",
   "execution_count": 2,
   "metadata": {},
   "outputs": [
    {
     "name": "stdout",
     "output_type": "stream",
     "text": [
      "temp = {-1: 1, 0: 2, 1: 1}\n"
     ]
    },
    {
     "data": {
      "text/plain": [
       "2"
      ]
     },
     "execution_count": 2,
     "metadata": {},
     "output_type": "execute_result"
    }
   ],
   "source": [
    "nums1 = [1,2]\n",
    "nums2 = [-2,-1]\n",
    "nums3 = [-1,2]\n",
    "nums4 = [0,2]\n",
    "\n",
    "# nums1 = [0]\n",
    "# nums2 = [0]\n",
    "# nums3 = [0]\n",
    "# nums4 = [0]\n",
    "\n",
    "Solution().fourSumCount(nums1, nums2, nums3, nums4)"
   ]
  }
 ],
 "metadata": {
  "kernelspec": {
   "display_name": ".venv",
   "language": "python",
   "name": "python3"
  },
  "language_info": {
   "codemirror_mode": {
    "name": "ipython",
    "version": 3
   },
   "file_extension": ".py",
   "mimetype": "text/x-python",
   "name": "python",
   "nbconvert_exporter": "python",
   "pygments_lexer": "ipython3",
   "version": "3.8.10"
  },
  "orig_nbformat": 4
 },
 "nbformat": 4,
 "nbformat_minor": 2
}
