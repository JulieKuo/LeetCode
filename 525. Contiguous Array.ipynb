{
 "cells": [
  {
   "cell_type": "markdown",
   "metadata": {
    "vscode": {
     "languageId": "plaintext"
    }
   },
   "source": [
    "### 525. Contiguous Array"
   ]
  },
  {
   "cell_type": "code",
   "execution_count": 5,
   "metadata": {},
   "outputs": [],
   "source": [
    "from typing import List\n",
    "\n",
    "class Solution:\n",
    "    def findMaxLength(self, nums: List[int]) -> int:\n",
    "        cumulative_sum = 0 # 累積和\n",
    "        prefix_sum = {0: -1} # 存儲`累積和`及`其第一次出現的索引`, space: O(n) \n",
    "        max_length = 0 # 最長子陣列的長度\n",
    "\n",
    "        for idx, num in enumerate(nums): # time: O(n)\n",
    "            # 將 0 視為 -1，將 1 保持為 1\n",
    "            # 使計算累積和時，可以在數量上相互抵消\n",
    "            cumulative_sum += -1 if num == 0 else 1\n",
    "\n",
    "            print(f\"{idx = }, {num = }\\n{cumulative_sum = }\")\n",
    "\n",
    "            # 如果累積和在表中，從該累積和第一次出現的位置到目前位置，擁有相等數量的 0 和 1\n",
    "            if (cumulative_sum in prefix_sum):\n",
    "                print(\"- update max_length\")\n",
    "                max_length = max(max_length, (idx - prefix_sum[cumulative_sum])) # 更新最長子陣列的長度\n",
    "            else:\n",
    "                print(\"- add prefix_sum\")\n",
    "                prefix_sum[cumulative_sum] = idx # 紀錄累積和第一次出現的位置\n",
    "\n",
    "            print(f\"{prefix_sum = }\\n{max_length = }\\n\")\n",
    "\n",
    "        return max_length"
   ]
  },
  {
   "cell_type": "code",
   "execution_count": 6,
   "metadata": {},
   "outputs": [
    {
     "name": "stdout",
     "output_type": "stream",
     "text": [
      "idx = 0, num = 0\n",
      "cumulative_sum = -1\n",
      "- add prefix_sum\n",
      "prefix_sum = {0: -1, -1: 0}\n",
      "max_length = 0\n",
      "\n",
      "idx = 1, num = 0\n",
      "cumulative_sum = -2\n",
      "- add prefix_sum\n",
      "prefix_sum = {0: -1, -1: 0, -2: 1}\n",
      "max_length = 0\n",
      "\n",
      "idx = 2, num = 1\n",
      "cumulative_sum = -1\n",
      "- update max_length\n",
      "prefix_sum = {0: -1, -1: 0, -2: 1}\n",
      "max_length = 2\n",
      "\n",
      "idx = 3, num = 0\n",
      "cumulative_sum = -2\n",
      "- update max_length\n",
      "prefix_sum = {0: -1, -1: 0, -2: 1}\n",
      "max_length = 2\n",
      "\n",
      "idx = 4, num = 0\n",
      "cumulative_sum = -3\n",
      "- add prefix_sum\n",
      "prefix_sum = {0: -1, -1: 0, -2: 1, -3: 4}\n",
      "max_length = 2\n",
      "\n",
      "idx = 5, num = 0\n",
      "cumulative_sum = -4\n",
      "- add prefix_sum\n",
      "prefix_sum = {0: -1, -1: 0, -2: 1, -3: 4, -4: 5}\n",
      "max_length = 2\n",
      "\n",
      "idx = 6, num = 1\n",
      "cumulative_sum = -3\n",
      "- update max_length\n",
      "prefix_sum = {0: -1, -1: 0, -2: 1, -3: 4, -4: 5}\n",
      "max_length = 2\n",
      "\n",
      "idx = 7, num = 1\n",
      "cumulative_sum = -2\n",
      "- update max_length\n",
      "prefix_sum = {0: -1, -1: 0, -2: 1, -3: 4, -4: 5}\n",
      "max_length = 6\n",
      "\n"
     ]
    },
    {
     "data": {
      "text/plain": [
       "6"
      ]
     },
     "execution_count": 6,
     "metadata": {},
     "output_type": "execute_result"
    }
   ],
   "source": [
    "nums = [0,0,1,0,0,0,1,1] # 6\n",
    "Solution().findMaxLength(nums)"
   ]
  }
 ],
 "metadata": {
  "kernelspec": {
   "display_name": ".venv",
   "language": "python",
   "name": "python3"
  },
  "language_info": {
   "codemirror_mode": {
    "name": "ipython",
    "version": 3
   },
   "file_extension": ".py",
   "mimetype": "text/x-python",
   "name": "python",
   "nbconvert_exporter": "python",
   "pygments_lexer": "ipython3",
   "version": "3.11.2"
  }
 },
 "nbformat": 4,
 "nbformat_minor": 2
}
