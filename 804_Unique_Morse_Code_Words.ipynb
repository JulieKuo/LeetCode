{
 "cells": [
  {
   "cell_type": "markdown",
   "metadata": {},
   "source": [
    "## 804. Unique Morse Code Words"
   ]
  },
  {
   "cell_type": "markdown",
   "metadata": {},
   "source": [
    "### 1.建一個叫hash的dictionary，字母為key，摩斯密碼為value\n",
    "### 2.依序抓出words的每個字，再依序抓出每個字裡的字母\n",
    "### 3.對照該字母在hash裡的摩斯密碼，把每個字裡的字母的摩斯密碼連在一起，儲存為temp2\n",
    "### 4.把每個字的摩斯密碼存進temp1\n",
    "### 5.將temp1轉為集合，並查看該集合裡有多少元素"
   ]
  },
  {
   "cell_type": "code",
   "execution_count": 1,
   "metadata": {},
   "outputs": [],
   "source": [
    "class Solution:\n",
    "    def uniqueMorseRepresentations(self, words: List[str]) -> int:\n",
    "        morse = [\".-\",\"-...\",\"-.-.\",\"-..\",\".\",\"..-.\",\"--.\",\"....\",\"..\",\".---\",\"-.-\",\".-..\",\"--\",\"-.\",\"---\",\".--.\",\n",
    "                 \"--.-\",\".-.\",\"...\",\"-\",\"..-\",\"...-\",\".--\",\"-..-\",\"-.--\",\"--..\"]\n",
    "        \n",
    "        alphabet = list(map(chr, range(97, 123)))#小寫a~z\n",
    "        \n",
    "        # 建一個叫hash的dictionary，字母為key，摩斯密碼為value\n",
    "        hash = dict()\n",
    "        for i, j in zip(alphabet, morse):\n",
    "            hash[i] = j\n",
    "        \n",
    "        \n",
    "        temp1 = []\n",
    "        for i in words: # 依序抓出words的每個字\n",
    "            temp2 = str()\n",
    "            for j in i: # 依序抓出每個字裡的字母\n",
    "                temp2 += hash[j] # 對照該字母在hash裡的摩斯密碼，把每個字裡的字母的摩斯密碼連在一起，儲存為temp2\n",
    "            temp1.append(temp2)# 把每個字的摩斯密碼存進temp1\n",
    "            \n",
    "            \n",
    "        return len(set(temp1)) # 將temp1轉為集合，並查看該集合裡有多少元素\n",
    "        "
   ]
  }
 ],
 "metadata": {
  "interpreter": {
   "hash": "c5c899ed1fea65c1aad495f30148e1731af1bcf36c22dbd1b46cba8952568d24"
  },
  "kernelspec": {
   "display_name": "Python 3.9.7 64-bit ('.venv': venv)",
   "name": "python3"
  },
  "language_info": {
   "codemirror_mode": {
    "name": "ipython",
    "version": 3
   },
   "file_extension": ".py",
   "mimetype": "text/x-python",
   "name": "python",
   "nbconvert_exporter": "python",
   "pygments_lexer": "ipython3",
   "version": "3.8.9"
  },
  "orig_nbformat": 4
 },
 "nbformat": 4,
 "nbformat_minor": 2
}
