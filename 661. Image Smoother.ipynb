{
 "cells": [
  {
   "cell_type": "markdown",
   "metadata": {},
   "source": [
    "## 661. Image Smoother"
   ]
  },
  {
   "cell_type": "markdown",
   "metadata": {},
   "source": [
    "<img src=\"img/661.jpg\" style=\"zoom:50%\"/>"
   ]
  },
  {
   "cell_type": "code",
   "execution_count": null,
   "metadata": {},
   "outputs": [],
   "source": [
    "class Solution:\n",
    "    def imageSmoother(self, img: List[List[int]]) -> List[List[int]]:\n",
    "        \n",
    "        total1 = []\n",
    "        for row in range(len(img)):\n",
    "            total2 = []\n",
    "            for col in range(len(img[0])):\n",
    "                temp = 0\n",
    "                count = 0\n",
    "                for r in range(row-1, row+2):\n",
    "                    for c in range(col-1, col+2):\n",
    "                        if (r >= 0) and (r < len(img)) and (c >= 0) and (c < len(img[0])):\n",
    "                            temp += img[r][c]\n",
    "                            count += 1\n",
    "                temp //= count\n",
    "                total2.append(temp)\n",
    "            total1.append(total2)\n",
    "\n",
    "        return total1"
   ]
  }
 ],
 "metadata": {
  "language_info": {
   "name": "python"
  },
  "orig_nbformat": 4
 },
 "nbformat": 4,
 "nbformat_minor": 2
}
