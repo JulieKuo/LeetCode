{
 "cells": [
  {
   "cell_type": "markdown",
   "metadata": {},
   "source": [
    "### 75. Sort Colors"
   ]
  },
  {
   "cell_type": "markdown",
   "metadata": {},
   "source": [
    "<img src=\"img/75.png\" style=\"zoom:100%\"/>"
   ]
  },
  {
   "cell_type": "code",
   "execution_count": 79,
   "metadata": {},
   "outputs": [
    {
     "name": "stdout",
     "output_type": "stream",
     "text": [
      "nums = [2, 0, 2, 1, 1, 0]\n",
      "\n",
      "nums的第0個位置: 2 ，初始的nums為   [2, 0, 2, 1, 1, 0]\n",
      "                    換位置的nums為 [0, 0, 2, 1, 1, 2]\n",
      "\n",
      "nums的第0個位置: 0 ，初始的nums為   [0, 0, 2, 1, 1, 2]\n",
      "                    換位置的nums為 [0, 0, 2, 1, 1, 2]\n",
      "\n",
      "nums的第1個位置: 0 ，初始的nums為   [0, 0, 2, 1, 1, 2]\n",
      "                    換位置的nums為 [0, 0, 2, 1, 1, 2]\n",
      "\n",
      "nums的第2個位置: 2 ，初始的nums為   [0, 0, 2, 1, 1, 2]\n",
      "                    換位置的nums為 [0, 0, 1, 1, 2, 2]\n",
      "\n",
      "nums的第2個位置: 1 ，初始的nums為   [0, 0, 1, 1, 2, 2]\n",
      "                    換位置的nums為 [0, 0, 1, 1, 2, 2]\n",
      "\n",
      "nums的第3個位置: 1 ，初始的nums為   [0, 0, 1, 1, 2, 2]\n",
      "                    換位置的nums為 [0, 0, 1, 1, 2, 2]\n",
      "\n",
      "最終nums = [0, 0, 1, 1, 2, 2]\n"
     ]
    }
   ],
   "source": [
    "class Solution:\n",
    "    def sortColors(self, nums: List[int]) -> None:\n",
    "        \"\"\"\n",
    "        Do not return anything, modify nums in-place instead.\n",
    "        \"\"\"\n",
    "        zero = 0\n",
    "        two = len(nums) - 1\n",
    "        i = 0\n",
    "        while i <= two:\n",
    "            print(f\"nums的第{i}個位置: {nums[i]} ，初始的nums為   {nums}\")\n",
    "            if nums[i] == 0:\n",
    "                nums[zero], nums[i] = nums[i], nums[zero]\n",
    "                zero += 1\n",
    "                i += 1\n",
    "            elif nums[i] == 1:\n",
    "                i+=1\n",
    "            elif nums[i] == 2:\n",
    "                nums[two], nums[i] = nums[i], nums[two]\n",
    "                two -= 1\n",
    "            print(f\"                    換位置的nums為 {nums}\\n\")\n",
    "        \n",
    "        return nums"
   ]
  }
 ],
 "metadata": {
  "interpreter": {
   "hash": "d8c1a87e4764ea7881547c536887df2e9c9ef9a1d8b44ae688e9c35499972fab"
  },
  "kernelspec": {
   "display_name": "Python 3.8.9 ('.venv': venv)",
   "language": "python",
   "name": "python3"
  },
  "language_info": {
   "codemirror_mode": {
    "name": "ipython",
    "version": 3
   },
   "file_extension": ".py",
   "mimetype": "text/x-python",
   "name": "python",
   "nbconvert_exporter": "python",
   "pygments_lexer": "ipython3",
   "version": "3.8.9"
  },
  "orig_nbformat": 4
 },
 "nbformat": 4,
 "nbformat_minor": 2
}
