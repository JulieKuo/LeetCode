{
 "cells": [
  {
   "cell_type": "markdown",
   "metadata": {},
   "source": [
    "## 697. Degree of an Array"
   ]
  },
  {
   "cell_type": "markdown",
   "metadata": {},
   "source": [
    "<img src=\"img/697.jpg\" style=\"zoom:50%\"/>"
   ]
  },
  {
   "cell_type": "code",
   "execution_count": null,
   "metadata": {},
   "outputs": [],
   "source": [
    "class Solution:\n",
    "    def findShortestSubArray(self, nums: List[int]) -> int:\n",
    "        count = dict()\n",
    "        start = dict()\n",
    "        end = dict()\n",
    "        length = dict()\n",
    "        max_count = 0\n",
    "        for i, num in enumerate(nums):\n",
    "            if num not in count:\n",
    "                count[num] = 1\n",
    "                start[num] = i\n",
    "                end[num] = i\n",
    "            else:\n",
    "                count[num] += 1\n",
    "                end[num] = i\n",
    "            max_count = max(max_count, count[num])\n",
    "            length[num] = end[num] - start[num] + 1\n",
    "        \n",
    "        output = len(nums)\n",
    "        for num in count:\n",
    "            if (count[num] == max_count):\n",
    "                output = min(output, length[num])\n",
    "                \n",
    "        return output"
   ]
  }
 ],
 "metadata": {
  "language_info": {
   "name": "python"
  },
  "orig_nbformat": 4
 },
 "nbformat": 4,
 "nbformat_minor": 2
}
