{
 "cells": [
  {
   "cell_type": "markdown",
   "metadata": {},
   "source": [
    "### 236. Lowest Common Ancestor of a Binary Tree"
   ]
  },
  {
   "cell_type": "code",
   "execution_count": 1,
   "metadata": {},
   "outputs": [],
   "source": [
    "# Definition for a binary tree node.\n",
    "class TreeNode:\n",
    "    def __init__(self, val=0, left=None, right=None):\n",
    "        self.val = val\n",
    "        self.left = left\n",
    "        self.right = right"
   ]
  },
  {
   "cell_type": "code",
   "execution_count": 8,
   "metadata": {},
   "outputs": [],
   "source": [
    "root = TreeNode(\n",
    "    val = 3, \n",
    "    left = TreeNode(\n",
    "        val = 5, \n",
    "        left = TreeNode(\n",
    "            val = 6, \n",
    "            left = None, \n",
    "            right = None\n",
    "            ), \n",
    "        right = TreeNode(\n",
    "            val = 2, \n",
    "            left = TreeNode(\n",
    "                val = 7, \n",
    "                left = None, \n",
    "                right = None\n",
    "                ), \n",
    "            right = TreeNode(\n",
    "                val = 4, \n",
    "                left = None, \n",
    "                right = None\n",
    "                )\n",
    "            )\n",
    "        ), \n",
    "    right = TreeNode(\n",
    "        val = 1, \n",
    "        left = TreeNode(\n",
    "            val = 0, \n",
    "            left = None, \n",
    "            right = None\n",
    "            ), \n",
    "        right = TreeNode(\n",
    "            val = 8, \n",
    "            left = None, \n",
    "            right = None\n",
    "            )\n",
    "        ))\n",
    "\n",
    "p = root.left\n",
    "q = root.right\n",
    "# Input: root = [3,5,1,6,2,0,8,null,null,7,4], p = 5, q = 1\n",
    "# Output: 3\n",
    "\n",
    "p = root.left\n",
    "q = root.left.right.right\n",
    "# Input: root = [3,5,1,6,2,0,8,null,null,7,4], p = 5, q = 4\n",
    "# Output: 5"
   ]
  },
  {
   "cell_type": "code",
   "execution_count": 13,
   "metadata": {},
   "outputs": [],
   "source": [
    "class Solution:\n",
    "  def lowestCommonAncestor(self, root: 'TreeNode', p: 'TreeNode', q: 'TreeNode') -> 'TreeNode':\n",
    "    if not root or root == p or root == q:\n",
    "      return root\n",
    "    \n",
    "    left = self.lowestCommonAncestor(root.left, p, q)\n",
    "    right = self.lowestCommonAncestor(root.right, p, q)\n",
    "\n",
    "    if left and right:\n",
    "      return root\n",
    "    else:\n",
    "      return left or right"
   ]
  },
  {
   "cell_type": "code",
   "execution_count": 14,
   "metadata": {},
   "outputs": [
    {
     "name": "stdout",
     "output_type": "stream",
     "text": [
      "root = 3, p = 5, q = 4\n"
     ]
    },
    {
     "data": {
      "text/plain": [
       "5"
      ]
     },
     "execution_count": 14,
     "metadata": {},
     "output_type": "execute_result"
    }
   ],
   "source": [
    "print(f\"root = {root.val}, p = {p.val}, q = {q.val}\")\n",
    "Solution().lowestCommonAncestor(root, p, q).val"
   ]
  },
  {
   "cell_type": "code",
   "execution_count": null,
   "metadata": {},
   "outputs": [],
   "source": []
  },
  {
   "cell_type": "code",
   "execution_count": null,
   "metadata": {},
   "outputs": [],
   "source": []
  },
  {
   "cell_type": "code",
   "execution_count": 3,
   "metadata": {},
   "outputs": [],
   "source": [
    "class Solution:\n",
    "  def lowestCommonAncestor(self, root: 'TreeNode', p: 'TreeNode', q: 'TreeNode') -> 'TreeNode':\n",
    "    # 如果根節點為空或者根節點等於其中一個目標節點，則返回根節點\n",
    "    print(\"=\" * 150)\n",
    "    print(f\"root = {root}\")\n",
    "    print(f\"p    = {p}\")\n",
    "    print(f\"q    = {q}\")\n",
    "    if (not root) or (root == p) or (root == q):\n",
    "      print(\"- 1. return root\")\n",
    "      return root\n",
    "\n",
    "    # 遞歸地在左子樹中尋找目標節點 p 和 q\n",
    "    print(f\"{root.val} - left\")\n",
    "    left = self.lowestCommonAncestor(root.left, p, q)\n",
    "    print(f\"{root.val} - left  - {left}\")\n",
    "\n",
    "    # 遞歸地在右子樹中尋找目標節點 p 和 q\n",
    "    print(f\"{root.val} - right\")\n",
    "    right = self.lowestCommonAncestor(root.right, p, q)\n",
    "    print(f\"{root.val} - right - {right}\")\n",
    "    \n",
    "    # 如果在左子樹和右子樹中分別找到了目標節點 p 和 q，則當前根節點就是它們的最低共同祖先    \n",
    "    print(\"-\" * 150)\n",
    "    print(f\"{root.val} - left  - {left}\")\n",
    "    print(f\"{root.val} - right - {right}\")\n",
    "    if left and right:\n",
    "      print(f\"- 2. return {root.val}\")\n",
    "      return root\n",
    "    \n",
    "    # 否則，返回在左子樹或右子樹中找到的目標節點（如果其中一個為空，則返回另一個）\n",
    "    else:\n",
    "      print(\"- 3. return l or right\")\n",
    "      return left or right\n",
    "        "
   ]
  },
  {
   "cell_type": "code",
   "execution_count": 4,
   "metadata": {},
   "outputs": [
    {
     "name": "stdout",
     "output_type": "stream",
     "text": [
      "root = 3, p = 5, q = 4\n",
      "======================================================================================================================================================\n",
      "root = <__main__.TreeNode object at 0x00000222D8D13790>\n",
      "p    = <__main__.TreeNode object at 0x00000222D8D13610>\n",
      "q    = <__main__.TreeNode object at 0x00000222D8D13550>\n",
      "3 - left\n",
      "======================================================================================================================================================\n",
      "root = <__main__.TreeNode object at 0x00000222D8D13610>\n",
      "p    = <__main__.TreeNode object at 0x00000222D8D13610>\n",
      "q    = <__main__.TreeNode object at 0x00000222D8D13550>\n",
      "- 1. return root\n",
      "3 - left  - <__main__.TreeNode object at 0x00000222D8D13610>\n",
      "3 - right\n",
      "======================================================================================================================================================\n",
      "root = <__main__.TreeNode object at 0x00000222D8D13730>\n",
      "p    = <__main__.TreeNode object at 0x00000222D8D13610>\n",
      "q    = <__main__.TreeNode object at 0x00000222D8D13550>\n",
      "1 - left\n",
      "======================================================================================================================================================\n",
      "root = <__main__.TreeNode object at 0x00000222D8D13670>\n",
      "p    = <__main__.TreeNode object at 0x00000222D8D13610>\n",
      "q    = <__main__.TreeNode object at 0x00000222D8D13550>\n",
      "0 - left\n",
      "======================================================================================================================================================\n",
      "root = None\n",
      "p    = <__main__.TreeNode object at 0x00000222D8D13610>\n",
      "q    = <__main__.TreeNode object at 0x00000222D8D13550>\n",
      "- 1. return root\n",
      "0 - left  - None\n",
      "0 - right\n",
      "======================================================================================================================================================\n",
      "root = None\n",
      "p    = <__main__.TreeNode object at 0x00000222D8D13610>\n",
      "q    = <__main__.TreeNode object at 0x00000222D8D13550>\n",
      "- 1. return root\n",
      "0 - right - None\n",
      "------------------------------------------------------------------------------------------------------------------------------------------------------\n",
      "0 - left  - None\n",
      "0 - right - None\n",
      "- 3. return l or right\n",
      "1 - left  - None\n",
      "1 - right\n",
      "======================================================================================================================================================\n",
      "root = <__main__.TreeNode object at 0x00000222D8D136A0>\n",
      "p    = <__main__.TreeNode object at 0x00000222D8D13610>\n",
      "q    = <__main__.TreeNode object at 0x00000222D8D13550>\n",
      "8 - left\n",
      "======================================================================================================================================================\n",
      "root = None\n",
      "p    = <__main__.TreeNode object at 0x00000222D8D13610>\n",
      "q    = <__main__.TreeNode object at 0x00000222D8D13550>\n",
      "- 1. return root\n",
      "8 - left  - None\n",
      "8 - right\n",
      "======================================================================================================================================================\n",
      "root = None\n",
      "p    = <__main__.TreeNode object at 0x00000222D8D13610>\n",
      "q    = <__main__.TreeNode object at 0x00000222D8D13550>\n",
      "- 1. return root\n",
      "8 - right - None\n",
      "------------------------------------------------------------------------------------------------------------------------------------------------------\n",
      "8 - left  - None\n",
      "8 - right - None\n",
      "- 3. return l or right\n",
      "1 - right - None\n",
      "------------------------------------------------------------------------------------------------------------------------------------------------------\n",
      "1 - left  - None\n",
      "1 - right - None\n",
      "- 3. return l or right\n",
      "3 - right - None\n",
      "------------------------------------------------------------------------------------------------------------------------------------------------------\n",
      "3 - left  - <__main__.TreeNode object at 0x00000222D8D13610>\n",
      "3 - right - None\n",
      "- 3. return l or right\n"
     ]
    },
    {
     "data": {
      "text/plain": [
       "5"
      ]
     },
     "execution_count": 4,
     "metadata": {},
     "output_type": "execute_result"
    }
   ],
   "source": [
    "print(f\"root = {root.val}, p = {p.val}, q = {q.val}\")\n",
    "Solution().lowestCommonAncestor(root, p, q).val"
   ]
  }
 ],
 "metadata": {
  "kernelspec": {
   "display_name": ".venv",
   "language": "python",
   "name": "python3"
  },
  "language_info": {
   "codemirror_mode": {
    "name": "ipython",
    "version": 3
   },
   "file_extension": ".py",
   "mimetype": "text/x-python",
   "name": "python",
   "nbconvert_exporter": "python",
   "pygments_lexer": "ipython3",
   "version": "3.8.10"
  },
  "orig_nbformat": 4
 },
 "nbformat": 4,
 "nbformat_minor": 2
}
