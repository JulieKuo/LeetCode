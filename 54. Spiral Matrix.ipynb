{
 "cells": [
  {
   "cell_type": "markdown",
   "metadata": {},
   "source": [
    "## 54. Spiral Matrix"
   ]
  },
  {
   "cell_type": "code",
   "execution_count": 2,
   "metadata": {},
   "outputs": [
    {
     "name": "stdout",
     "output_type": "stream",
     "text": [
      "init: [[1, 2, 3], [4, 5, 6], [7, 8, 9]]\n",
      "remove: [[4, 5, 6], [7, 8, 9]]\n",
      "transpose: [[6, 9], [5, 8], [4, 7]]\n",
      "result: [1, 2, 3]\n",
      "\n",
      "init: [[6, 9], [5, 8], [4, 7]]\n",
      "remove: [[5, 8], [4, 7]]\n",
      "transpose: [[8, 7], [5, 4]]\n",
      "result: [1, 2, 3, 6, 9]\n",
      "\n",
      "init: [[8, 7], [5, 4]]\n",
      "remove: [[5, 4]]\n",
      "transpose: [[4], [5]]\n",
      "result: [1, 2, 3, 6, 9, 8, 7]\n",
      "\n",
      "init: [[4], [5]]\n",
      "remove: [[5]]\n",
      "transpose: [[5]]\n",
      "result: [1, 2, 3, 6, 9, 8, 7, 4]\n",
      "\n",
      "init: [[5]]\n",
      "remove: []\n"
     ]
    },
    {
     "data": {
      "text/plain": [
       "[1, 2, 3, 6, 9, 8, 7, 4, 5]"
      ]
     },
     "execution_count": 2,
     "metadata": {},
     "output_type": "execute_result"
    }
   ],
   "source": [
    "class Solution:\n",
    "    def spiralOrder(self, matrix):\n",
    "        result = []\n",
    "        while True:\n",
    "            print(\"init:\", matrix)\n",
    "            result.extend(matrix.pop(0))\n",
    "            print(\"remove:\", matrix)\n",
    "\n",
    "            if not matrix:\n",
    "                return result\n",
    "\n",
    "            # 轉置後翻轉(順序相反)\n",
    "            dim1 = len(matrix[0])\n",
    "            dim2 = len(matrix)\n",
    "\n",
    "            l1 = []\n",
    "            for i in range(dim1-1, -1, -1):\n",
    "                l2 = []\n",
    "                for j in range(dim2):\n",
    "                    l2.append(matrix[j][i])\n",
    "                l1.append(l2)\n",
    "            matrix = l1\n",
    "            print(\"transpose:\", matrix)\n",
    "            print(\"result:\", result)\n",
    "            print()\n",
    "\n",
    "\n",
    "matrix = [[1,2,3],[4,5,6],[7,8,9]]\n",
    "Solution().spiralOrder(matrix)"
   ]
  },
  {
   "cell_type": "code",
   "execution_count": null,
   "metadata": {},
   "outputs": [],
   "source": [
    "class Solution:\n",
    "    def spiralOrder(self, matrix: List[List[int]]) -> List[int]:\n",
    "        result = []\n",
    "        while matrix:\n",
    "            result.extend(matrix.pop(0)) \n",
    "            matrix = list(zip(*matrix))[::-1] # 轉置後翻轉(順序相反)\n",
    "        \n",
    "        return result"
   ]
  }
 ],
 "metadata": {
  "kernelspec": {
   "display_name": "Python 3.8.7 ('.venv': venv)",
   "language": "python",
   "name": "python3"
  },
  "language_info": {
   "codemirror_mode": {
    "name": "ipython",
    "version": 3
   },
   "file_extension": ".py",
   "mimetype": "text/x-python",
   "name": "python",
   "nbconvert_exporter": "python",
   "pygments_lexer": "ipython3",
   "version": "3.8.7"
  },
  "orig_nbformat": 4,
  "vscode": {
   "interpreter": {
    "hash": "6a07fcf0145f94b3f971c13d061528107de20ab7b779375f96dab9bbac6a85db"
   }
  }
 },
 "nbformat": 4,
 "nbformat_minor": 2
}
