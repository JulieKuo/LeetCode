{
 "cells": [
  {
   "cell_type": "markdown",
   "metadata": {},
   "source": [
    "## 1. Two Sum"
   ]
  },
  {
   "cell_type": "markdown",
   "metadata": {},
   "source": [
    "<img src=\"img/1.jpg\" style=\"zoom:50%\" />"
   ]
  },
  {
   "cell_type": "code",
   "execution_count": null,
   "metadata": {},
   "outputs": [],
   "source": [
    "class Solution:\n",
    "    def twoSum(self, nums: List[int], target: int) -> List[int]:\n",
    "        \n",
    "        for i in range(len(nums)):\n",
    "            if (target - nums[i]) in nums[i+1 :]:\n",
    "                output = [i, nums[i + 1:].index(target - nums[i]) + (i + 1)]\n",
    "                \n",
    "        return output\n",
    "    \n",
    "    \n",
    "# class Solution:\n",
    "#     def twoSum(self, nums: List[int], target: int) -> List[int]:\n",
    "        \n",
    "#         for i in range(len(nums)):\n",
    "#             for j in range(i + 1, len(nums)):\n",
    "#                 if nums[i] + nums[j] == target:\n",
    "#                     output = [i, j]\n",
    "                \n",
    "#         return output\n",
    "    \n",
    "\n",
    "# class Solution:\n",
    "#     def twoSum(self, nums: List[int], target: int) -> List[int]:\n",
    "            \n",
    "        \n",
    "#         [[i, j] for i in range(len(nums)) for j in range(i + 1, len(nums)) if nums[i] + nums[j] == target][0]\n",
    "                \n",
    "#         return output"
   ]
  }
 ],
 "metadata": {
  "language_info": {
   "name": "python"
  },
  "orig_nbformat": 4
 },
 "nbformat": 4,
 "nbformat_minor": 2
}
