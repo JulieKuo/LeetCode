{
 "cells": [
  {
   "cell_type": "markdown",
   "metadata": {},
   "source": [
    "## 1. Two Sum"
   ]
  },
  {
   "cell_type": "markdown",
   "metadata": {},
   "source": [
    "<img src=\"img/1.jpg\" style=\"zoom:50%\" />"
   ]
  },
  {
   "cell_type": "code",
   "execution_count": 10,
   "metadata": {},
   "outputs": [
    {
     "name": "stdout",
     "output_type": "stream",
     "text": [
      "hash_ = {}, num1 = 3, num2 = 3\n",
      "hash_ = {3: 0}, num1 = 2, num2 = 4\n",
      "hash_ = {3: 0, 2: 1}, num1 = 4, num2 = 2\n"
     ]
    },
    {
     "data": {
      "text/plain": [
       "[1, 2]"
      ]
     },
     "execution_count": 10,
     "metadata": {},
     "output_type": "execute_result"
    }
   ],
   "source": [
    "class Solution:\n",
    "    def twoSum(self, nums, target):\n",
    "        hash_ = {}\n",
    "        for i, num1 in enumerate(nums):\n",
    "            num2 = target - num1\n",
    "            print(f\"hash_ = {hash_}, num1 = {num1}, num2 = {num2}\")\n",
    "            if num2 in hash_:\n",
    "                return [hash_[num2], i]\n",
    "                \n",
    "            hash_[num1] = i\n",
    "\n",
    "\n",
    "nums = [3,2,4]\n",
    "target = 6\n",
    "Solution().twoSum(nums, target)"
   ]
  },
  {
   "cell_type": "code",
   "execution_count": null,
   "metadata": {},
   "outputs": [],
   "source": [
    "class Solution:\n",
    "    def twoSum(self, nums: List[int], target: int) -> List[int]:\n",
    "        \n",
    "        for i in range(len(nums)):\n",
    "            if (target - nums[i]) in nums[i+1 :]:\n",
    "                output = [i, nums[i + 1:].index(target - nums[i]) + (i + 1)]\n",
    "                \n",
    "        return output\n",
    "    \n",
    "    \n",
    "# class Solution:\n",
    "#     def twoSum(self, nums: List[int], target: int) -> List[int]:\n",
    "        \n",
    "#         for i in range(len(nums)):\n",
    "#             for j in range(i + 1, len(nums)):\n",
    "#                 if nums[i] + nums[j] == target:\n",
    "#                     output = [i, j]\n",
    "                \n",
    "#         return output\n",
    "    \n",
    "\n",
    "# class Solution:\n",
    "#     def twoSum(self, nums: List[int], target: int) -> List[int]:\n",
    "            \n",
    "        \n",
    "#         [[i, j] for i in range(len(nums)) for j in range(i + 1, len(nums)) if nums[i] + nums[j] == target][0]\n",
    "                \n",
    "#         return output"
   ]
  }
 ],
 "metadata": {
  "kernelspec": {
   "display_name": "Python 3.8.7 ('.venv': venv)",
   "language": "python",
   "name": "python3"
  },
  "language_info": {
   "codemirror_mode": {
    "name": "ipython",
    "version": 3
   },
   "file_extension": ".py",
   "mimetype": "text/x-python",
   "name": "python",
   "nbconvert_exporter": "python",
   "pygments_lexer": "ipython3",
   "version": "3.8.7"
  },
  "orig_nbformat": 4,
  "vscode": {
   "interpreter": {
    "hash": "6a07fcf0145f94b3f971c13d061528107de20ab7b779375f96dab9bbac6a85db"
   }
  }
 },
 "nbformat": 4,
 "nbformat_minor": 2
}
