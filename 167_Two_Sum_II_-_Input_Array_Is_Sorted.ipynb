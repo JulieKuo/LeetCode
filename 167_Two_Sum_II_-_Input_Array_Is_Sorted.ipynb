{
 "cells": [
  {
   "cell_type": "markdown",
   "metadata": {},
   "source": [
    "## 167. Two Sum II - Input Array Is Sorted"
   ]
  },
  {
   "cell_type": "markdown",
   "metadata": {},
   "source": [
    "<img src=\"img/167.jpg\" style=\"zoom:50%\"/>"
   ]
  },
  {
   "cell_type": "code",
   "execution_count": null,
   "metadata": {},
   "outputs": [],
   "source": [
    "class Solution:\n",
    "    def twoSum(self, numbers: List[int], target: int) -> List[int]:\n",
    "        # for i in range(len(numbers)):\n",
    "        #     if (target - numbers[i]) in numbers[i+1 :]:\n",
    "        #         output = [i+1, numbers[i + 1:].index(target - numbers[i]) + (i + 1)+1]\n",
    "        # return output\n",
    "    \n",
    "    \n",
    "        left, right = 0, len(numbers) - 1\n",
    "        while True:\n",
    "            tmp = numbers[left] + numbers[right]\n",
    "            if tmp == target:\n",
    "                return [left + 1, right + 1]\n",
    "            elif tmp < target:\n",
    "                left += 1\n",
    "            elif tmp > target:\n",
    "                right -= 1"
   ]
  }
 ],
 "metadata": {
  "interpreter": {
   "hash": "ac5c71763ce4af7d6dc057106aa53cb2371e41115cfc9dc46f264378d07e5f1a"
  },
  "kernelspec": {
   "display_name": "Python 3.8.9 ('.venv': venv)",
   "language": "python",
   "name": "python3"
  },
  "language_info": {
   "codemirror_mode": {
    "name": "ipython",
    "version": 3
   },
   "file_extension": ".py",
   "mimetype": "text/x-python",
   "name": "python",
   "nbconvert_exporter": "python",
   "pygments_lexer": "ipython3",
   "version": "3.8.9"
  },
  "orig_nbformat": 4
 },
 "nbformat": 4,
 "nbformat_minor": 2
}
