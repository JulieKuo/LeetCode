{
 "cells": [
  {
   "cell_type": "markdown",
   "metadata": {},
   "source": [
    "## 162. Find Peak Element"
   ]
  },
  {
   "cell_type": "code",
   "execution_count": 1,
   "metadata": {},
   "outputs": [],
   "source": [
    "class Solution:\n",
    "    def findPeakElement(self, nums):\n",
    "        left = 0\n",
    "        right = len(nums) - 1\n",
    "        while left < right:\n",
    "            mid = (left + right) // 2\n",
    "            print(f\"left = {left}, right = {right}, mid = {mid}\")\n",
    "            print(f\"nums[{mid}] = {nums[mid]}, nums[{mid}+1] = {nums[mid+1]}\\n\")\n",
    "\n",
    "            if nums[mid] < nums[mid+1]: # 上波\n",
    "                left = mid + 1\n",
    "            else: # 下波\n",
    "                right = mid # 迴圈沒有等於，所以不能-1\n",
    "            \n",
    "        return left"
   ]
  },
  {
   "cell_type": "code",
   "execution_count": 2,
   "metadata": {},
   "outputs": [
    {
     "name": "stdout",
     "output_type": "stream",
     "text": [
      "left = 0, right = 6, mid = 3\n",
      "nums[3-1] = 1, nums[3] = 3, nums[3+1] = 5\n",
      "\n",
      "left = 4, right = 6, mid = 5\n",
      "nums[5-1] = 5, nums[5] = 6, nums[5+1] = 4\n",
      "\n",
      "left = 4, right = 5, mid = 4\n",
      "nums[4-1] = 3, nums[4] = 5, nums[4+1] = 6\n",
      "\n"
     ]
    },
    {
     "data": {
      "text/plain": [
       "5"
      ]
     },
     "execution_count": 2,
     "metadata": {},
     "output_type": "execute_result"
    }
   ],
   "source": [
    "nums = [1,2,1,3,5,6,4]\n",
    "Solution().findPeakElement(nums)"
   ]
  }
 ],
 "metadata": {
  "kernelspec": {
   "display_name": ".venv",
   "language": "python",
   "name": "python3"
  },
  "language_info": {
   "codemirror_mode": {
    "name": "ipython",
    "version": 3
   },
   "file_extension": ".py",
   "mimetype": "text/x-python",
   "name": "python",
   "nbconvert_exporter": "python",
   "pygments_lexer": "ipython3",
   "version": "3.8.10"
  },
  "orig_nbformat": 4,
  "vscode": {
   "interpreter": {
    "hash": "6a07fcf0145f94b3f971c13d061528107de20ab7b779375f96dab9bbac6a85db"
   }
  }
 },
 "nbformat": 4,
 "nbformat_minor": 2
}
