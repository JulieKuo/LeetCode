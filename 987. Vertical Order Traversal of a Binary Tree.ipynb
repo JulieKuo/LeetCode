{
 "cells": [
  {
   "cell_type": "markdown",
   "metadata": {},
   "source": [
    "### 987. Vertical Order Traversal of a Binary Tree"
   ]
  },
  {
   "cell_type": "code",
   "execution_count": 1,
   "metadata": {},
   "outputs": [],
   "source": [
    "# Definition for a binary tree node.\n",
    "class TreeNode:\n",
    "    def __init__(self, val=0, left=None, right=None):\n",
    "        self.val = val\n",
    "        self.left = left\n",
    "        self.right = right"
   ]
  },
  {
   "cell_type": "code",
   "execution_count": 2,
   "metadata": {},
   "outputs": [],
   "source": [
    "root = TreeNode(\n",
    "    val = 1,\n",
    "    left = TreeNode(\n",
    "        val = 2,\n",
    "        left = TreeNode(\n",
    "            val = 4,\n",
    "            left = None,\n",
    "            right = None\n",
    "        ),\n",
    "        right = TreeNode(\n",
    "            val = 6,\n",
    "            left = None,\n",
    "            right = None\n",
    "        ),\n",
    "    ),\n",
    "    right = TreeNode(\n",
    "        val = 3,\n",
    "        left = TreeNode(\n",
    "            val = 5,\n",
    "            left = None,\n",
    "            right = None\n",
    "        ),\n",
    "        right = TreeNode(\n",
    "            val = 7,\n",
    "            left = None,\n",
    "            right = None\n",
    "        ),\n",
    "    )\n",
    ")\n",
    "\n",
    "# Input: root = [1,2,3,4,6,5,7]\n",
    "# Output: [[4],[2],[1,5,6],[3],[7]]"
   ]
  },
  {
   "cell_type": "code",
   "execution_count": 3,
   "metadata": {},
   "outputs": [],
   "source": [
    "from collections import defaultdict\n",
    "\n",
    "class Solution:\n",
    "    def verticalTraversal(self, root):\n",
    "        # 創建一個defaultdict，用於存儲節點值\n",
    "        dic = defaultdict(list)\n",
    "        \n",
    "        # 創建一個列表limits，用於存儲最小和最大的placement值\n",
    "        limits = [float('inf'), float('-inf')]\n",
    "        \n",
    "        # 遞迴垂直遍歷二叉樹，初始 col 和 row 均為0\n",
    "        self.dfs(0, 0, root, dic, limits)\n",
    "               \n",
    "        # 遍歷limits中的col值，按順序獲取對應位置的節點值\n",
    "        result = []\n",
    "        for i in range(limits[0], limits[1] + 1):\n",
    "            temp = []\n",
    "            # 對字典中的(row, root.val)元組按row升序排序\n",
    "            print(\"_\" * 200)\n",
    "            print(f\"sorted(dic[{i}]) = {sorted(dic[i])}\")\n",
    "            for j in sorted(dic[i]):\n",
    "                temp.append(j[1])  # 將節點值添加到temp中\n",
    "                print(f\"temp = {temp}\")\n",
    "                \n",
    "            result.append(temp)  # 將temp添加到結果列表result中           \n",
    "            print(f\"result = {result}\")\n",
    "        \n",
    "        # 返回最終結果\n",
    "        return result\n",
    "\n",
    "    def dfs(self, col, row, root, dic, limits):\n",
    "        # 如果節點為空，則返回\n",
    "        if not root:\n",
    "            return\n",
    "        \n",
    "        print(\"-\" * 200)\n",
    "        print(f\"col = {col}, row = {row}, root = {root.val}, dic = {dic}, limits = {limits}\")\n",
    "        \n",
    "        # 向儲存節點值的字典dic中添加(col, (row, root.val))的元組\n",
    "        # col表示節點的水平位置，row表示節點的深度，root.val表示節點的值\n",
    "        dic[col].append((row, root.val))\n",
    "        print(f\"dic = {dic}\")\n",
    "        \n",
    "        # 更新limits列表，用於記錄最小和最大的col值\n",
    "        limits[0] = min(limits[0], col)\n",
    "        limits[1] = max(limits[1], col)\n",
    "        print(f\"limits = {limits}\")\n",
    "        \n",
    "        # 遞歸處理左子樹，col減1，row加1\n",
    "        self.dfs(col - 1, row + 1, root.left, dic, limits)\n",
    "        \n",
    "        # 遞歸處理右子樹，col加1，row加1\n",
    "        self.dfs(col + 1, row + 1, root.right, dic, limits)"
   ]
  },
  {
   "cell_type": "code",
   "execution_count": 4,
   "metadata": {},
   "outputs": [
    {
     "name": "stdout",
     "output_type": "stream",
     "text": [
      "--------------------------------------------------------------------------------------------------------------------------------------------------------------------------------------------------------\n",
      "col = 0, row = 0, root = 1, dic = defaultdict(<class 'list'>, {}), limits = [inf, -inf]\n",
      "dic = defaultdict(<class 'list'>, {0: [(0, 1)]})\n",
      "limits = [0, 0]\n",
      "--------------------------------------------------------------------------------------------------------------------------------------------------------------------------------------------------------\n",
      "col = -1, row = 1, root = 2, dic = defaultdict(<class 'list'>, {0: [(0, 1)]}), limits = [0, 0]\n",
      "dic = defaultdict(<class 'list'>, {0: [(0, 1)], -1: [(1, 2)]})\n",
      "limits = [-1, 0]\n",
      "--------------------------------------------------------------------------------------------------------------------------------------------------------------------------------------------------------\n",
      "col = -2, row = 2, root = 4, dic = defaultdict(<class 'list'>, {0: [(0, 1)], -1: [(1, 2)]}), limits = [-1, 0]\n",
      "dic = defaultdict(<class 'list'>, {0: [(0, 1)], -1: [(1, 2)], -2: [(2, 4)]})\n",
      "limits = [-2, 0]\n",
      "--------------------------------------------------------------------------------------------------------------------------------------------------------------------------------------------------------\n",
      "col = 0, row = 2, root = 6, dic = defaultdict(<class 'list'>, {0: [(0, 1)], -1: [(1, 2)], -2: [(2, 4)]}), limits = [-2, 0]\n",
      "dic = defaultdict(<class 'list'>, {0: [(0, 1), (2, 6)], -1: [(1, 2)], -2: [(2, 4)]})\n",
      "limits = [-2, 0]\n",
      "--------------------------------------------------------------------------------------------------------------------------------------------------------------------------------------------------------\n",
      "col = 1, row = 1, root = 3, dic = defaultdict(<class 'list'>, {0: [(0, 1), (2, 6)], -1: [(1, 2)], -2: [(2, 4)]}), limits = [-2, 0]\n",
      "dic = defaultdict(<class 'list'>, {0: [(0, 1), (2, 6)], -1: [(1, 2)], -2: [(2, 4)], 1: [(1, 3)]})\n",
      "limits = [-2, 1]\n",
      "--------------------------------------------------------------------------------------------------------------------------------------------------------------------------------------------------------\n",
      "col = 0, row = 2, root = 5, dic = defaultdict(<class 'list'>, {0: [(0, 1), (2, 6)], -1: [(1, 2)], -2: [(2, 4)], 1: [(1, 3)]}), limits = [-2, 1]\n",
      "dic = defaultdict(<class 'list'>, {0: [(0, 1), (2, 6), (2, 5)], -1: [(1, 2)], -2: [(2, 4)], 1: [(1, 3)]})\n",
      "limits = [-2, 1]\n",
      "--------------------------------------------------------------------------------------------------------------------------------------------------------------------------------------------------------\n",
      "col = 2, row = 2, root = 7, dic = defaultdict(<class 'list'>, {0: [(0, 1), (2, 6), (2, 5)], -1: [(1, 2)], -2: [(2, 4)], 1: [(1, 3)]}), limits = [-2, 1]\n",
      "dic = defaultdict(<class 'list'>, {0: [(0, 1), (2, 6), (2, 5)], -1: [(1, 2)], -2: [(2, 4)], 1: [(1, 3)], 2: [(2, 7)]})\n",
      "limits = [-2, 2]\n",
      "________________________________________________________________________________________________________________________________________________________________________________________________________\n",
      "sorted(dic[-2]) = [(2, 4)]\n",
      "temp = [4]\n",
      "result = [[4]]\n",
      "________________________________________________________________________________________________________________________________________________________________________________________________________\n",
      "sorted(dic[-1]) = [(1, 2)]\n",
      "temp = [2]\n",
      "result = [[4], [2]]\n",
      "________________________________________________________________________________________________________________________________________________________________________________________________________\n",
      "sorted(dic[0]) = [(0, 1), (2, 5), (2, 6)]\n",
      "temp = [1]\n",
      "temp = [1, 5]\n",
      "temp = [1, 5, 6]\n",
      "result = [[4], [2], [1, 5, 6]]\n",
      "________________________________________________________________________________________________________________________________________________________________________________________________________\n",
      "sorted(dic[1]) = [(1, 3)]\n",
      "temp = [3]\n",
      "result = [[4], [2], [1, 5, 6], [3]]\n",
      "________________________________________________________________________________________________________________________________________________________________________________________________________\n",
      "sorted(dic[2]) = [(2, 7)]\n",
      "temp = [7]\n",
      "result = [[4], [2], [1, 5, 6], [3], [7]]\n"
     ]
    },
    {
     "data": {
      "text/plain": [
       "[[4], [2], [1, 5, 6], [3], [7]]"
      ]
     },
     "execution_count": 4,
     "metadata": {},
     "output_type": "execute_result"
    }
   ],
   "source": [
    "Solution().verticalTraversal(root)"
   ]
  }
 ],
 "metadata": {
  "kernelspec": {
   "display_name": ".venv",
   "language": "python",
   "name": "python3"
  },
  "language_info": {
   "codemirror_mode": {
    "name": "ipython",
    "version": 3
   },
   "file_extension": ".py",
   "mimetype": "text/x-python",
   "name": "python",
   "nbconvert_exporter": "python",
   "pygments_lexer": "ipython3",
   "version": "3.8.10"
  },
  "orig_nbformat": 4
 },
 "nbformat": 4,
 "nbformat_minor": 2
}
