{
 "cells": [
  {
   "cell_type": "markdown",
   "metadata": {},
   "source": [
    "## 692. Top K Frequent Words"
   ]
  },
  {
   "cell_type": "code",
   "execution_count": 1,
   "metadata": {},
   "outputs": [],
   "source": [
    "import heapq\n",
    "\n",
    "class Solution:\n",
    "    def topKFrequent(self, words, k):\n",
    "        tmp = {}\n",
    "        for w in words:\n",
    "            if w not in tmp:\n",
    "                tmp[w] = -1\n",
    "            else:\n",
    "                tmp[w] -= 1\n",
    "\n",
    "            print(f\"tmp = {tmp}\")\n",
    "\n",
    "        heap = [(c, w) for w, c in tmp.items()]\n",
    "        print(f\"\\nprigin heap = {heap}\")\n",
    "\n",
    "        heapq.heapify(heap)\n",
    "        print(f\"new heap = {heap}\")\n",
    "\n",
    "        res = [heapq.heappop(heap)[1] for _ in range(k)]\n",
    "        print(f\"\\nres = {res}\")\n",
    "\n",
    "        return res"
   ]
  },
  {
   "cell_type": "code",
   "execution_count": 2,
   "metadata": {},
   "outputs": [
    {
     "name": "stdout",
     "output_type": "stream",
     "text": [
      "tmp = {'aaa': -1}\n",
      "tmp = {'aaa': -1, 'aa': -1}\n",
      "tmp = {'aaa': -1, 'aa': -1, 'a': -1}\n",
      "\n",
      "prigin heap = [(-1, 'aaa'), (-1, 'aa'), (-1, 'a')]\n",
      "new heap = [(-1, 'a'), (-1, 'aa'), (-1, 'aaa')]\n",
      "\n",
      "res = ['a']\n"
     ]
    },
    {
     "data": {
      "text/plain": [
       "['a']"
      ]
     },
     "execution_count": 2,
     "metadata": {},
     "output_type": "execute_result"
    }
   ],
   "source": [
    "words = [\"aaa\",\"aa\",\"a\"]\n",
    "k = 1\n",
    "\n",
    "Solution().topKFrequent(words, k)"
   ]
  }
 ],
 "metadata": {
  "kernelspec": {
   "display_name": ".venv",
   "language": "python",
   "name": "python3"
  },
  "language_info": {
   "codemirror_mode": {
    "name": "ipython",
    "version": 3
   },
   "file_extension": ".py",
   "mimetype": "text/x-python",
   "name": "python",
   "nbconvert_exporter": "python",
   "pygments_lexer": "ipython3",
   "version": "3.8.10"
  },
  "orig_nbformat": 4,
  "vscode": {
   "interpreter": {
    "hash": "6a07fcf0145f94b3f971c13d061528107de20ab7b779375f96dab9bbac6a85db"
   }
  }
 },
 "nbformat": 4,
 "nbformat_minor": 2
}
