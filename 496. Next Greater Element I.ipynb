{
 "cells": [
  {
   "cell_type": "markdown",
   "metadata": {},
   "source": [
    "## 496. Next Greater Element I"
   ]
  },
  {
   "cell_type": "markdown",
   "metadata": {},
   "source": [
    "* 時間複雜度: O( $n$ )\n",
    "* 空間複雜度: O( $n$ )"
   ]
  },
  {
   "cell_type": "code",
   "execution_count": null,
   "metadata": {},
   "outputs": [],
   "source": [
    "from typing import List\n",
    "\n",
    "class Solution:\n",
    "    def nextGreaterElement(self, nums1: List[int], nums2: List[int]) -> List[int]:\n",
    "        next_greater = {} # 每個元素的下一個更大值 # space: O(n)\n",
    "        stack = [] # 單調棧來計算下一個更大值 # space: O(n)\n",
    "\n",
    "        # 從 nums2 的尾部開始遍歷，確保處理順序與單調棧的特性一致\n",
    "        for i in range(len(nums2) - 1, -1, -1): # time: O(n), stack中的元素最多只會被加入和移除一次\n",
    "            num = nums2[i]\n",
    "            print(f\"{num=}\")\n",
    "\n",
    "            # 移除棧中比當前元素小的所有元素，因為它們不可能是下一個更大值\n",
    "            while stack and stack[-1] < num:\n",
    "                popped = stack.pop() # pop 最後一個元素\n",
    "                print(f\"-> {popped} < {num} -> pop: {popped}\")\n",
    "                print(f\"-> {stack=}\")\n",
    "\n",
    "            # 如果棧非空，棧頂元素即為當前元素的下一個更大值\n",
    "            # 如果棧為空，當前元素右側沒有更大的值\n",
    "            if stack:\n",
    "                next_greater[num] = stack[-1]\n",
    "            else:\n",
    "                next_greater[num] = -1\n",
    "            \n",
    "            print(f\"next_greater[{num}] = {next_greater[num]}\")\n",
    "            print(f\"{next_greater=}\")            \n",
    "\n",
    "            stack.append(num)# 將當前元素加入棧中\n",
    "            print(f\"{stack=}\\n\")\n",
    "\n",
    "        # 根據 nums1 查詢對應的下一個更大值，並構建結果列表\n",
    "        result = [] # space: O(n)\n",
    "        for num in nums1: # time: O(n)\n",
    "            result.append(next_greater[num])\n",
    "        print(f\"{result=}\")\n",
    "\n",
    "        return result\n"
   ]
  },
  {
   "cell_type": "code",
   "execution_count": 2,
   "metadata": {},
   "outputs": [
    {
     "name": "stdout",
     "output_type": "stream",
     "text": [
      "num=2\n",
      "next_greater[2] = -1\n",
      "next_greater={2: -1}\n",
      "stack=[2]\n",
      "\n",
      "num=4\n",
      "-> 2 < 4 -> pop: 2\n",
      "-> stack=[]\n",
      "next_greater[4] = -1\n",
      "next_greater={2: -1, 4: -1}\n",
      "stack=[4]\n",
      "\n",
      "num=3\n",
      "next_greater[3] = 4\n",
      "next_greater={2: -1, 4: -1, 3: 4}\n",
      "stack=[4, 3]\n",
      "\n",
      "num=1\n",
      "next_greater[1] = 3\n",
      "next_greater={2: -1, 4: -1, 3: 4, 1: 3}\n",
      "stack=[4, 3, 1]\n",
      "\n",
      "result=[-1, 3, -1]\n"
     ]
    },
    {
     "data": {
      "text/plain": [
       "[-1, 3, -1]"
      ]
     },
     "execution_count": 2,
     "metadata": {},
     "output_type": "execute_result"
    }
   ],
   "source": [
    "nums1 = [4,1,2]\n",
    "nums2 = [1,3,4,2]\n",
    "\n",
    "Solution().nextGreaterElement(nums1, nums2)  # [3, -1, -1]"
   ]
  },
  {
   "cell_type": "markdown",
   "metadata": {},
   "source": [
    "### old version (not good)"
   ]
  },
  {
   "cell_type": "markdown",
   "metadata": {},
   "source": [
    "<img src=\"img/496.jpg\" style=\"zoom:50%\"/>"
   ]
  },
  {
   "cell_type": "code",
   "execution_count": 3,
   "metadata": {},
   "outputs": [],
   "source": [
    "class Solution:\n",
    "    def nextGreaterElement(self, nums1: List[int], nums2: List[int]) -> List[int]:\n",
    "        output = []\n",
    "        for i in nums1:\n",
    "            ind = nums2.index(i)\n",
    "            if (ind == len(nums2) - 1 ):\n",
    "                output.append(-1)\n",
    "            elif (max(nums2[ind+1:]) <= i):\n",
    "                 output.append(-1)\n",
    "            else:\n",
    "                for j in nums2[ind+1:]:\n",
    "                    if j > i:\n",
    "                        output.append(j)\n",
    "                        break\n",
    "\n",
    "        return output"
   ]
  }
 ],
 "metadata": {
  "kernelspec": {
   "display_name": "Python 3",
   "language": "python",
   "name": "python3"
  },
  "language_info": {
   "codemirror_mode": {
    "name": "ipython",
    "version": 3
   },
   "file_extension": ".py",
   "mimetype": "text/x-python",
   "name": "python",
   "nbconvert_exporter": "python",
   "pygments_lexer": "ipython3",
   "version": "3.12.7"
  },
  "orig_nbformat": 4
 },
 "nbformat": 4,
 "nbformat_minor": 2
}
