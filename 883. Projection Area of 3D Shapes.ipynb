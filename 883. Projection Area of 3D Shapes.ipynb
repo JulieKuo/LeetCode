{
 "cells": [
  {
   "cell_type": "markdown",
   "metadata": {},
   "source": [
    "## 883. Projection Area of 3D Shapes"
   ]
  },
  {
   "cell_type": "markdown",
   "metadata": {},
   "source": [
    "#### xy: 有幾根柱子，陰影面積就是多少\n",
    "#### xz: 每個list裡的最大值的總和\n",
    "#### yz: 所有list中第0個位置的最大值，加上所有list中第1個位置的最大值...，加上所有list中第n個位置的最大"
   ]
  },
  {
   "cell_type": "code",
   "execution_count": 17,
   "metadata": {},
   "outputs": [
    {
     "data": {
      "text/plain": [
       "8"
      ]
     },
     "execution_count": 17,
     "metadata": {},
     "output_type": "execute_result"
    }
   ],
   "source": [
    "class Solution:\n",
    "    def projectionArea(self, grid: List[List[int]]) -> int:\n",
    "        xy = 0\n",
    "        xz = 0\n",
    "        yz = [0] * len(grid[0])\n",
    "        for i in grid:\n",
    "            xz += max(i)\n",
    "            for j in range(len(i)):\n",
    "                if i[j] != 0:\n",
    "                    xy += 1\n",
    "\n",
    "                if i[j] > yz[j]:\n",
    "                    yz[j] = i[j]\n",
    "\n",
    "        return xy + xz + sum(yz)"
   ]
  },
  {
   "cell_type": "code",
   "execution_count": null,
   "metadata": {},
   "outputs": [],
   "source": []
  }
 ],
 "metadata": {
  "interpreter": {
   "hash": "c5c899ed1fea65c1aad495f30148e1731af1bcf36c22dbd1b46cba8952568d24"
  },
  "kernelspec": {
   "display_name": "Python 3.9.7 64-bit ('.venv': venv)",
   "name": "python3"
  },
  "language_info": {
   "codemirror_mode": {
    "name": "ipython",
    "version": 3
   },
   "file_extension": ".py",
   "mimetype": "text/x-python",
   "name": "python",
   "nbconvert_exporter": "python",
   "pygments_lexer": "ipython3",
   "version": "3.8.9"
  },
  "orig_nbformat": 4
 },
 "nbformat": 4,
 "nbformat_minor": 2
}
