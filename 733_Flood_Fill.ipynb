{
 "cells": [
  {
   "cell_type": "markdown",
   "metadata": {},
   "source": [
    "## 733. Flood Fill"
   ]
  },
  {
   "cell_type": "markdown",
   "metadata": {},
   "source": [
    "### 1. 依序確認temp第i個位置 上下左右的數字 是否與目標位置舊的數字相同\n",
    "### 2. 相同的話就判斷是否已經被存入temp\n",
    "### 3. 若未存入就加入temp\n",
    "### 4. 將temp中的位置之數字轉為新的數值"
   ]
  },
  {
   "cell_type": "code",
   "execution_count": 38,
   "metadata": {},
   "outputs": [],
   "source": [
    "class Solution:\n",
    "    def floodFill(self, image: List[List[int]], sr: int, sc: int, newColor: int) -> List[List[int]]:\n",
    "        row = len(image)\n",
    "        col = len(image[0])\n",
    "        temp = [[sr, sc]]\n",
    "        loc = []\n",
    "        oldColor = image[sr][sc]\n",
    "\n",
    "        i = 0\n",
    "        while i < len(temp):\n",
    "            r, c = temp[i]\n",
    "            if (c - 1 > -1) and (image[r][c-1] == oldColor):#左\n",
    "                if ([r, c-1] not in temp):\n",
    "                    temp.append([r, c-1])\n",
    "            if (c + 1 < col) and (image[r][c+1] == oldColor):#右\n",
    "                if ([r, c+1] not in temp):\n",
    "                    temp.append([r, c+1])\n",
    "            if (r-1 > -1) and (image[r-1][c] == oldColor):#上\n",
    "                if ([r-1, c] not in temp):\n",
    "                    temp.append([r-1, c])\n",
    "            if (r + 1 < row) and (image[r+1][c] == oldColor):#下\n",
    "                if ([r+1, c] not in temp):\n",
    "                    temp.append([r+1, c])\n",
    "            i+=1\n",
    "\n",
    "        for r, c in temp:\n",
    "            image[r][c] = newColor\n",
    "\n",
    "        return image"
   ]
  }
 ],
 "metadata": {
  "interpreter": {
   "hash": "c5c899ed1fea65c1aad495f30148e1731af1bcf36c22dbd1b46cba8952568d24"
  },
  "kernelspec": {
   "display_name": "Python 3.9.7 64-bit ('.venv': venv)",
   "name": "python3"
  },
  "language_info": {
   "codemirror_mode": {
    "name": "ipython",
    "version": 3
   },
   "file_extension": ".py",
   "mimetype": "text/x-python",
   "name": "python",
   "nbconvert_exporter": "python",
   "pygments_lexer": "ipython3",
   "version": "3.9.7"
  },
  "orig_nbformat": 4
 },
 "nbformat": 4,
 "nbformat_minor": 2
}
