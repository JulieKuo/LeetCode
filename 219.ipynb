{
 "cells": [
  {
   "cell_type": "markdown",
   "metadata": {},
   "source": [
    "## 219. Contains Duplicate II"
   ]
  },
  {
   "cell_type": "code",
   "execution_count": null,
   "metadata": {},
   "outputs": [],
   "source": [
    "class Solution:\n",
    "    def containsNearbyDuplicate(self, nums: List[int], k: int) -> bool:\n",
    "        record = dict()\n",
    "        for i, num in enumerate(nums):\n",
    "            if record.get(num, -1) != -1:\n",
    "                if abs(record[num] - i) <= k:\n",
    "                    return True\n",
    "            record[num] = i\n",
    "        return False\n",
    "\n",
    "        "
   ]
  }
 ],
 "metadata": {
  "language_info": {
   "name": "python"
  },
  "orig_nbformat": 4
 },
 "nbformat": 4,
 "nbformat_minor": 2
}
