{
 "cells": [
  {
   "cell_type": "markdown",
   "metadata": {},
   "source": [
    "### 739. Daily Temperatures"
   ]
  },
  {
   "cell_type": "markdown",
   "metadata": {},
   "source": [
    "* 時間複雜度: O( $n$ )\n",
    "* 空間複雜度: O( $n$ )"
   ]
  },
  {
   "cell_type": "code",
   "execution_count": 1,
   "metadata": {},
   "outputs": [],
   "source": [
    "from typing import List\n",
    "\n",
    "class Solution:\n",
    "    def dailyTemperatures(self, temperatures: List[int]) -> List[int]:\n",
    "        result = [0] * len(temperatures) # 儲存等待更高溫度的天數，預設值為 0 (即右方無更高溫度) # space: O(n)\n",
    "        stack = [] # 存放溫度的索引 # space: O(n)\n",
    "        for i, temp in enumerate(temperatures): # time: O(n), stack中的元素最多只會被加入和移除一次\n",
    "            print(f\"{temp=}\")\n",
    "\n",
    "            # 棧內有元素 且 棧頂索引對應的溫度<當前溫度\n",
    "            while stack and temperatures[stack[-1]] < temp:\n",
    "                idx = stack.pop() # pop 最後一個元素 (索引)\n",
    "                result[idx] = i - idx # 表示找到該索引右方的更高溫，計算兩者的索引差\n",
    "                print(f\"-> (temperatures[{idx}] = {temperatures[idx]}) < (temp = {temp}) -> pop: {idx}\")\n",
    "                print(f\"-> result[{idx}] = {i} - {idx} = {i - idx}\")\n",
    "                print(f\"-> {result=}\")\n",
    "\n",
    "            stack.append(i) # 將當前索引存入棧中，繼續處理後續溫度\n",
    "            print(f\"{stack=}\\n\")\n",
    "\n",
    "        return result"
   ]
  },
  {
   "cell_type": "code",
   "execution_count": 2,
   "metadata": {},
   "outputs": [
    {
     "name": "stdout",
     "output_type": "stream",
     "text": [
      "temp=73\n",
      "stack=[0]\n",
      "\n",
      "temp=74\n",
      "-> (temperatures[0] = 73) < (temp = 74) -> pop: 0\n",
      "-> result[0] = 1 - 0 = 1\n",
      "-> result=[1, 0, 0, 0, 0, 0, 0, 0]\n",
      "stack=[1]\n",
      "\n",
      "temp=75\n",
      "-> (temperatures[1] = 74) < (temp = 75) -> pop: 1\n",
      "-> result[1] = 2 - 1 = 1\n",
      "-> result=[1, 1, 0, 0, 0, 0, 0, 0]\n",
      "stack=[2]\n",
      "\n",
      "temp=71\n",
      "stack=[2, 3]\n",
      "\n",
      "temp=69\n",
      "stack=[2, 3, 4]\n",
      "\n",
      "temp=72\n",
      "-> (temperatures[4] = 69) < (temp = 72) -> pop: 4\n",
      "-> result[4] = 5 - 4 = 1\n",
      "-> result=[1, 1, 0, 0, 1, 0, 0, 0]\n",
      "-> (temperatures[3] = 71) < (temp = 72) -> pop: 3\n",
      "-> result[3] = 5 - 3 = 2\n",
      "-> result=[1, 1, 0, 2, 1, 0, 0, 0]\n",
      "stack=[2, 5]\n",
      "\n",
      "temp=76\n",
      "-> (temperatures[5] = 72) < (temp = 76) -> pop: 5\n",
      "-> result[5] = 6 - 5 = 1\n",
      "-> result=[1, 1, 0, 2, 1, 1, 0, 0]\n",
      "-> (temperatures[2] = 75) < (temp = 76) -> pop: 2\n",
      "-> result[2] = 6 - 2 = 4\n",
      "-> result=[1, 1, 4, 2, 1, 1, 0, 0]\n",
      "stack=[6]\n",
      "\n",
      "temp=73\n",
      "stack=[6, 7]\n",
      "\n"
     ]
    },
    {
     "data": {
      "text/plain": [
       "[1, 1, 4, 2, 1, 1, 0, 0]"
      ]
     },
     "execution_count": 2,
     "metadata": {},
     "output_type": "execute_result"
    }
   ],
   "source": [
    "temperatures = [73,74,75,71,69,72,76,73]\n",
    "Solution().dailyTemperatures(temperatures) # [1,1,4,2,1,1,0,0]"
   ]
  }
 ],
 "metadata": {
  "kernelspec": {
   "display_name": ".venv",
   "language": "python",
   "name": "python3"
  },
  "language_info": {
   "codemirror_mode": {
    "name": "ipython",
    "version": 3
   },
   "file_extension": ".py",
   "mimetype": "text/x-python",
   "name": "python",
   "nbconvert_exporter": "python",
   "pygments_lexer": "ipython3",
   "version": "3.11.2"
  }
 },
 "nbformat": 4,
 "nbformat_minor": 2
}
