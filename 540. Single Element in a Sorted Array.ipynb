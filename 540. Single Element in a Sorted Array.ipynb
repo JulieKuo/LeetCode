{
 "cells": [
  {
   "cell_type": "markdown",
   "metadata": {},
   "source": [
    "## 540. Single Element in a Sorted Array"
   ]
  },
  {
   "cell_type": "code",
   "execution_count": 1,
   "metadata": {},
   "outputs": [],
   "source": [
    "class Solution:\n",
    "    def singleNonDuplicate(self, nums):\n",
    "        left = 0\n",
    "        right = len(nums) - 1\n",
    "        while left < right:\n",
    "            mid = (left + right) // 2\n",
    "            print(f\"origin: left = {left}, mid = {mid}, right = {right}\")\n",
    "\n",
    "            if mid % 2 == 1:\n",
    "                mid -= 1\n",
    "                print(f\"change: left = {left}, mid = {mid}, right = {right}\")\n",
    "            \n",
    "            if nums[mid] != nums[mid + 1]: # mid左邊有一個數字只出現一次\n",
    "                print(f\"(nums[mid] = {nums[mid]}) != (nums[mid + 1] = {nums[mid + 1]})\")\n",
    "                right = mid - 1\n",
    "            else: # mid左邊都沒問題，但右邊有一個數字只出現一次\n",
    "                print(f\"(nums[mid] = {nums[mid]}) == (nums[mid + 1] = {nums[mid + 1]})\")\n",
    "                left = mid + 2\n",
    "            \n",
    "            print(f\"new: left = {left}, mid = {mid}, right = {right}\\n\")\n",
    "\n",
    "        return nums[left]"
   ]
  },
  {
   "cell_type": "code",
   "execution_count": 2,
   "metadata": {},
   "outputs": [
    {
     "name": "stdout",
     "output_type": "stream",
     "text": [
      "origin: left = 0, mid = 4, right = 8\n",
      "(nums[mid] = 3) != (nums[mid + 1] = 4)\n",
      "new: left = 0, mid = 4, right = 3\n",
      "\n",
      "origin: left = 0, mid = 1, right = 3\n",
      "change: left = 0, mid = 0, right = 3\n",
      "(nums[mid] = 1) == (nums[mid + 1] = 1)\n",
      "new: left = 2, mid = 0, right = 3\n",
      "\n",
      "origin: left = 2, mid = 2, right = 3\n",
      "(nums[mid] = 2) != (nums[mid + 1] = 3)\n",
      "new: left = 2, mid = 2, right = 1\n",
      "\n"
     ]
    },
    {
     "data": {
      "text/plain": [
       "2"
      ]
     },
     "execution_count": 2,
     "metadata": {},
     "output_type": "execute_result"
    }
   ],
   "source": [
    "nums = [1,1,2,3,3,4,4,8,8]\n",
    "Solution().singleNonDuplicate(nums)"
   ]
  }
 ],
 "metadata": {
  "kernelspec": {
   "display_name": ".venv",
   "language": "python",
   "name": "python3"
  },
  "language_info": {
   "codemirror_mode": {
    "name": "ipython",
    "version": 3
   },
   "file_extension": ".py",
   "mimetype": "text/x-python",
   "name": "python",
   "nbconvert_exporter": "python",
   "pygments_lexer": "ipython3",
   "version": "3.8.10"
  },
  "orig_nbformat": 4,
  "vscode": {
   "interpreter": {
    "hash": "6a07fcf0145f94b3f971c13d061528107de20ab7b779375f96dab9bbac6a85db"
   }
  }
 },
 "nbformat": 4,
 "nbformat_minor": 2
}
