{
 "cells": [
  {
   "cell_type": "markdown",
   "metadata": {
    "vscode": {
     "languageId": "plaintext"
    }
   },
   "source": [
    "### 287. Find the Duplicate Number"
   ]
  },
  {
   "cell_type": "markdown",
   "metadata": {},
   "source": [
    "* 時間複雜度: O( $n$ )\n",
    "* 空間複雜度: O( $1$ )"
   ]
  },
  {
   "cell_type": "markdown",
   "metadata": {},
   "source": [
    "### 題目\n",
    "nums = [1,3,4,2,5,2]  \n",
    "\n",
    "索引:   0    1    3    2    4    5    2    4    5  \n",
    "值:     1 -> 3 -> 2 -> 4 -> 5 -> 2 -> 4 -> 5 -> 2  (2為循環入口)  \n",
    "&emsp;&emsp;&emsp;&emsp;&emsp;&nbsp;&nbsp;&nbsp;v&emsp;&emsp;&emsp;&emsp;&emsp;&emsp;v&emsp;&emsp;&emsp;&emsp;&emsp;&emsp;v\n",
    "\n",
    "### 指針行走路徑\n",
    "慢指針: 1 -> 3 -> 2 -> 4  \n",
    "快指針: 1 -> 2 -> 5 -> 4  \n",
    "\n",
    "### 變數定義\n",
    "- 起點到循環入口的距離為 `a = 2`\n",
    "- 循環入口到相遇點的距離為 `b = 1`\n",
    "- 循環的總長度為 `c = 3`\n",
    "- 相遇時快指針多繞的循環圈數 `k = 1`\n",
    "\n",
    "### 數學推導\n",
    "- 慢指針從起點到相遇點的距離  \n",
    "    `a` + `b` = 2 + 1 = 3\n",
    "- 快指針從起點到相遇點的距離  \n",
    "    `a` + `kc` + `b` = 2 + 1*3 + 1 = 6  \n",
    "    \n",
    "$\\because$ 快指針是慢指針的2倍，且相遇時 `k=1`  \n",
    "2 (`a` + `b`) = `a` + `kc` + `b`  \n",
    "=> `a` + `b` = `kc`  \n",
    "=> `a` + `b` = `c`  \n",
    "=> `a` = `c` - `b`  \n",
    "\n",
    "$\\therefore$ 從起點到循環入口的距離 `a`，與從相遇點繞回循環入口的距離 `c - b` 是相等的。\n",
    "<font color=gray>\n",
    "- 相遇時，慢指針已經從循環入口向前走了 `b`\n",
    "- 環的總長度是 `c`，所以相遇的兩指針距離環的入口還有 `c - b`\n",
    "</font>\n",
    "\n",
    "$\\therefore$ 當慢指針重置到起點並與快指針以相同速度移動時，兩個指針會在循環入口相遇"
   ]
  },
  {
   "cell_type": "code",
   "execution_count": 1,
   "metadata": {},
   "outputs": [],
   "source": [
    "from typing import List\n",
    "\n",
    "class Solution:\n",
    "    def findDuplicate(self, nums: List[int]) -> int:\n",
    "        # 快慢指针從起點出發\n",
    "        slow = nums[0]\n",
    "        fast = nums[0]\n",
    "        print(f\"{slow=}, {fast=}\")\n",
    "\n",
    "        # 查找快慢指針相遇的點\n",
    "        while True:\n",
    "            slow = nums[slow] # 慢指針走一步\n",
    "            fast = nums[nums[fast]] # 快指針走兩步\n",
    "            print(f\"{slow=}, {fast=}\")\n",
    "\n",
    "            # 如果快慢指針相遇，跳出循環\n",
    "            if slow == fast:\n",
    "                break\n",
    "                \n",
    "        # 查找循環的入口\n",
    "        slow = nums[0] # 慢指針重置到起點\n",
    "        print(\"\\n<< reset slow >>\")\n",
    "        print(f\"{slow=}, {fast=}\")\n",
    "        while slow != fast:\n",
    "            slow = nums[slow] # 慢指針走一步\n",
    "            fast = nums[fast] # 快指針走一步\n",
    "            print(f\"{slow=}, {fast=}\")\n",
    "\n",
    "        return slow"
   ]
  },
  {
   "cell_type": "code",
   "execution_count": 2,
   "metadata": {},
   "outputs": [
    {
     "name": "stdout",
     "output_type": "stream",
     "text": [
      "slow=1, fast=1\n",
      "slow=3, fast=2\n",
      "slow=2, fast=5\n",
      "slow=4, fast=4\n",
      "\n",
      "<< reset slow >>\n",
      "slow=1, fast=4\n",
      "slow=3, fast=5\n",
      "slow=2, fast=2\n"
     ]
    },
    {
     "data": {
      "text/plain": [
       "2"
      ]
     },
     "execution_count": 2,
     "metadata": {},
     "output_type": "execute_result"
    }
   ],
   "source": [
    "nums = [1,3,4,2,5,2] # 2\n",
    "Solution().findDuplicate(nums)"
   ]
  }
 ],
 "metadata": {
  "kernelspec": {
   "display_name": ".venv",
   "language": "python",
   "name": "python3"
  },
  "language_info": {
   "codemirror_mode": {
    "name": "ipython",
    "version": 3
   },
   "file_extension": ".py",
   "mimetype": "text/x-python",
   "name": "python",
   "nbconvert_exporter": "python",
   "pygments_lexer": "ipython3",
   "version": "3.11.2"
  }
 },
 "nbformat": 4,
 "nbformat_minor": 2
}
