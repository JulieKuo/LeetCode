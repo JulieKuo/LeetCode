{
 "cells": [
  {
   "cell_type": "markdown",
   "metadata": {},
   "source": [
    "### 700. Search in a Binary Search Tree"
   ]
  },
  {
   "cell_type": "code",
   "execution_count": 1,
   "metadata": {},
   "outputs": [],
   "source": [
    "# Definition for a binary tree node.\n",
    "class TreeNode:\n",
    "    def __init__(self, val=0, left=None, right=None):\n",
    "        self.val = val\n",
    "        self.left = left\n",
    "        self.right = right"
   ]
  },
  {
   "cell_type": "code",
   "execution_count": 2,
   "metadata": {},
   "outputs": [],
   "source": [
    "root = TreeNode(\n",
    "    val = 4,\n",
    "    left = TreeNode(\n",
    "        val = 2,\n",
    "        left = TreeNode(\n",
    "            val = 1,\n",
    "            left = None,\n",
    "            right = None\n",
    "        ),\n",
    "        right = TreeNode(\n",
    "            val = 3,\n",
    "            left = None,\n",
    "            right = None\n",
    "        )\n",
    "    ),\n",
    "    right = TreeNode(\n",
    "        val = 7,\n",
    "        left = None,\n",
    "        right = None,\n",
    "    )\n",
    ")\n",
    "val = 2\n",
    "\n",
    "# Input: root = [4,2,7,1,3], val = 2\n",
    "# Output: [2,1,3]\n",
    "\n",
    "# val = 5\n",
    "# Input: root = [4,2,7,1,3], val = 5\n",
    "# Output: []"
   ]
  },
  {
   "cell_type": "code",
   "execution_count": 3,
   "metadata": {},
   "outputs": [],
   "source": [
    "class Solution:\n",
    "    def searchBST(self, root, val):\n",
    "        # 如果根節點為空，表示樹為空或者沒有找到目標值，返回None\n",
    "        if not root:\n",
    "            return None\n",
    "        \n",
    "        # 如果根節點的值等於目標值，則返回根節點\n",
    "        if root.val == val:\n",
    "            return root        \n",
    "        \n",
    "        if root.val < val:\n",
    "            return self.searchBST(root.right, val) # 如果根節點的值小於目標值，則在右子樹中繼續搜索 (inorder)\n",
    "        else:\n",
    "            return self.searchBST(root.left, val)  # 如果根節點的值大於目標值，則在左子樹中繼續搜索 (inorder)"
   ]
  },
  {
   "cell_type": "code",
   "execution_count": 4,
   "metadata": {},
   "outputs": [
    {
     "data": {
      "text/plain": [
       "<__main__.TreeNode at 0x190ffebc730>"
      ]
     },
     "execution_count": 4,
     "metadata": {},
     "output_type": "execute_result"
    }
   ],
   "source": [
    "Solution().searchBST(root, val)"
   ]
  }
 ],
 "metadata": {
  "kernelspec": {
   "display_name": ".venv",
   "language": "python",
   "name": "python3"
  },
  "language_info": {
   "codemirror_mode": {
    "name": "ipython",
    "version": 3
   },
   "file_extension": ".py",
   "mimetype": "text/x-python",
   "name": "python",
   "nbconvert_exporter": "python",
   "pygments_lexer": "ipython3",
   "version": "3.8.10"
  }
 },
 "nbformat": 4,
 "nbformat_minor": 2
}
